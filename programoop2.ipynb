{
  "nbformat": 4,
  "nbformat_minor": 0,
  "metadata": {
    "colab": {
      "name": "programoop2.ipynb",
      "provenance": [],
      "collapsed_sections": [],
      "authorship_tag": "ABX9TyOL3KHKJktbFt9uvcego0aU",
      "include_colab_link": true
    },
    "kernelspec": {
      "name": "python3",
      "display_name": "Python 3"
    },
    "language_info": {
      "name": "python"
    }
  },
  "cells": [
    {
      "cell_type": "markdown",
      "metadata": {
        "id": "view-in-github",
        "colab_type": "text"
      },
      "source": [
        "<a href=\"https://colab.research.google.com/github/kungfumas/stbi/blob/master/programoop2.ipynb\" target=\"_parent\"><img src=\"https://colab.research.google.com/assets/colab-badge.svg\" alt=\"Open In Colab\"/></a>"
      ]
    },
    {
      "cell_type": "code",
      "metadata": {
        "id": "EyX4qh8MSUCT"
      },
      "source": [
        "class Persegi:\n",
        "    # Initializer / Instance Attributes\n",
        "    def __init__(self, panjang, lebar):\n",
        "        self.panjang = panjang\n",
        "        self.lebar = lebar\n",
        "    def luas(self):\n",
        "        return(\" Luas persegi ={}\".format(self.panjang*self.lebar)) \n",
        "    def keliling(self):\n",
        "        return(\" Keliling persegi={}\".format(2*(self.panjang+self.lebar)))          \n"
      ],
      "execution_count": 41,
      "outputs": []
    },
    {
      "cell_type": "code",
      "metadata": {
        "colab": {
          "base_uri": "https://localhost:8080/",
          "height": 36
        },
        "id": "21_DPhF-ThTc",
        "outputId": "8dbad099-077e-4c88-88d2-a6a9f34cbedc"
      },
      "source": [
        "a=Persegi(20,10)\n",
        "a.luas()\n",
        "a.keliling()"
      ],
      "execution_count": 42,
      "outputs": [
        {
          "output_type": "execute_result",
          "data": {
            "application/vnd.google.colaboratory.intrinsic+json": {
              "type": "string"
            },
            "text/plain": [
              "' Keliling persegi=60'"
            ]
          },
          "metadata": {},
          "execution_count": 42
        }
      ]
    },
    {
      "cell_type": "code",
      "metadata": {
        "id": "GRU0T6aMU2Jv"
      },
      "source": [
        "class Lingkaran:\n",
        "    # Initializer / Instance Attributes\n",
        "    phi=3.14\n",
        "    def __init__(self, jari2):\n",
        "        self.jari2 = jari2\n",
        "        \n",
        "    def luas(self):\n",
        "        return(\" Luas persegi ={}\".format(self.phi*self.jari2**2)) \n",
        "    def keliling(self):\n",
        "        return(\" Keliling persegi={}\".format(2*self.phi*self.jari2))   "
      ],
      "execution_count": 43,
      "outputs": []
    },
    {
      "cell_type": "code",
      "metadata": {
        "colab": {
          "base_uri": "https://localhost:8080/",
          "height": 36
        },
        "id": "7d9Gm8AMVmcU",
        "outputId": "b30ba146-bfe1-4602-be16-8703f4d41c53"
      },
      "source": [
        "b=Lingkaran(10)\n",
        "b.luas()\n"
      ],
      "execution_count": 44,
      "outputs": [
        {
          "output_type": "execute_result",
          "data": {
            "application/vnd.google.colaboratory.intrinsic+json": {
              "type": "string"
            },
            "text/plain": [
              "' Luas persegi =314.0'"
            ]
          },
          "metadata": {},
          "execution_count": 44
        }
      ]
    },
    {
      "cell_type": "code",
      "metadata": {
        "colab": {
          "base_uri": "https://localhost:8080/",
          "height": 36
        },
        "id": "2jpdPNiuWH03",
        "outputId": "e5a370c7-9edb-4d51-95fe-7f5b4ae37c3b"
      },
      "source": [
        "b.keliling()"
      ],
      "execution_count": 45,
      "outputs": [
        {
          "output_type": "execute_result",
          "data": {
            "application/vnd.google.colaboratory.intrinsic+json": {
              "type": "string"
            },
            "text/plain": [
              "' Keliling persegi=62.800000000000004'"
            ]
          },
          "metadata": {},
          "execution_count": 45
        }
      ]
    },
    {
      "cell_type": "markdown",
      "metadata": {
        "id": "3tyn5c7qz7lD"
      },
      "source": [
        "https://www.statisticshowto.com/probability-and-statistics/regression-analysis/find-a-linear-regression-equation/"
      ]
    },
    {
      "cell_type": "code",
      "metadata": {
        "id": "C14UYuhLYWtc"
      },
      "source": [
        "X=[43,21,25,42,57,59]\n",
        "Y=[99,65,79,75,87,81]\n"
      ],
      "execution_count": 46,
      "outputs": []
    },
    {
      "cell_type": "code",
      "metadata": {
        "id": "EmERL3uaYuJ-"
      },
      "source": [
        "sigmay=0.0\n",
        "sigmax=0.0\n",
        "sigmaxx=0.0\n",
        "sigmaxy=0.0\n",
        "a=0.0\n",
        "n=6\n",
        "id=range(6)\n",
        "for i in id:\n",
        "  sigmax=sigmax+X[i]\n",
        "  sigmaxx=sigmaxx+X[i]**2\n",
        "  sigmay=sigmay+Y[i]\n",
        "  sigmaxy=sigmaxy+X[i]*Y[i]\n",
        " \n"
      ],
      "execution_count": 47,
      "outputs": []
    },
    {
      "cell_type": "code",
      "metadata": {
        "colab": {
          "base_uri": "https://localhost:8080/"
        },
        "id": "UWWU8JSPybUQ",
        "outputId": "1cfbddc9-d5c4-4f5d-9e2f-ded2bd1e9e27"
      },
      "source": [
        "sigmax"
      ],
      "execution_count": 48,
      "outputs": [
        {
          "output_type": "execute_result",
          "data": {
            "text/plain": [
              "247.0"
            ]
          },
          "metadata": {},
          "execution_count": 48
        }
      ]
    },
    {
      "cell_type": "code",
      "metadata": {
        "colab": {
          "base_uri": "https://localhost:8080/"
        },
        "id": "qZJ-NDAAysc6",
        "outputId": "cd987a73-7b84-4760-ae3e-391126d6dcad"
      },
      "source": [
        "sigmay"
      ],
      "execution_count": 49,
      "outputs": [
        {
          "output_type": "execute_result",
          "data": {
            "text/plain": [
              "486.0"
            ]
          },
          "metadata": {},
          "execution_count": 49
        }
      ]
    },
    {
      "cell_type": "code",
      "metadata": {
        "colab": {
          "base_uri": "https://localhost:8080/"
        },
        "id": "lBHwIC4Gy5I3",
        "outputId": "0c3f74d4-cbe1-412f-e6d5-facd9716b905"
      },
      "source": [
        "sigmaxy"
      ],
      "execution_count": 50,
      "outputs": [
        {
          "output_type": "execute_result",
          "data": {
            "text/plain": [
              "20485.0"
            ]
          },
          "metadata": {},
          "execution_count": 50
        }
      ]
    },
    {
      "cell_type": "code",
      "metadata": {
        "colab": {
          "base_uri": "https://localhost:8080/"
        },
        "id": "7W8i48wVy8tL",
        "outputId": "02988da4-64c7-4fbe-e96a-738bc87c6de8"
      },
      "source": [
        "sigmaxx"
      ],
      "execution_count": 51,
      "outputs": [
        {
          "output_type": "execute_result",
          "data": {
            "text/plain": [
              "11409.0"
            ]
          },
          "metadata": {},
          "execution_count": 51
        }
      ]
    },
    {
      "cell_type": "code",
      "metadata": {
        "colab": {
          "base_uri": "https://localhost:8080/"
        },
        "id": "ldoLRhXMzNMe",
        "outputId": "3ee9c656-5821-4567-f58b-3767ffddf618"
      },
      "source": [
        "a=((sigmay*sigmaxx) -(sigmax*sigmaxy) )/(n*sigmaxx-sigmax**2)\n",
        "#a=((sigmay*sigmaxx)-(sigmax)(sigmaxy))    /(n*(sigmaxx-sigmax**2))\n",
        "print(a) "
      ],
      "execution_count": 52,
      "outputs": [
        {
          "output_type": "stream",
          "name": "stdout",
          "text": [
            "65.1415715245131\n"
          ]
        }
      ]
    },
    {
      "cell_type": "code",
      "metadata": {
        "colab": {
          "base_uri": "https://localhost:8080/"
        },
        "id": "64DLH8Q1cqMo",
        "outputId": "f327b130-101b-4249-cc49-88b516f7ce8a"
      },
      "source": [
        "b=(n*sigmaxy-sigmax*sigmay)/(n*sigmaxx-sigmax**2)\n",
        "print(b)"
      ],
      "execution_count": 53,
      "outputs": [
        {
          "output_type": "stream",
          "name": "stdout",
          "text": [
            "0.3852249832102082\n"
          ]
        }
      ]
    },
    {
      "cell_type": "code",
      "metadata": {
        "id": "WYLuTpRd0XZo"
      },
      "source": [
        "class Regresi:\n",
        "  # Initializer / Instance Attributes\n",
        "  sigmay=0.0\n",
        "  sigmax=0.0\n",
        "  sigmaxx=0.0\n",
        "  sigmaxy=0.0\n",
        "  a=0.0\n",
        "  n=6\n",
        "  id=range(6)\n",
        "  a=0.0\n",
        "  b=0.0\n",
        "  def __init__(self,X, Y):\n",
        "        self.X = X\n",
        "        self.Y = Y\n",
        "        for i in self.id:\n",
        "          self.sigmax=self.sigmax+X[i]\n",
        "          self.sigmaxx=self.sigmaxx+X[i]**2\n",
        "          self.sigmay=self.sigmay+Y[i]\n",
        "          self.sigmaxy=self.sigmaxy+X[i]*Y[i]\n",
        "  def koefisien(self):\n",
        "    self.a=((self.sigmay*self.sigmaxx) -(self.sigmax*self.sigmaxy) )/(self.n*self.sigmaxx-self.sigmax**2)\n",
        "    return(\"{}\".format(self.a))        \n",
        "  def konstanta(self):   \n",
        "    self.b=(self.n*self.sigmaxy-self.sigmax*self.sigmay)/(self.n*self.sigmaxx-self.sigmax**2)\n",
        "    return(\"{}\".format(self.b))"
      ],
      "execution_count": 54,
      "outputs": []
    },
    {
      "cell_type": "code",
      "metadata": {
        "id": "YXtFTr5n2DCC"
      },
      "source": [
        "c=Regresi(X,Y)"
      ],
      "execution_count": 55,
      "outputs": []
    },
    {
      "cell_type": "code",
      "metadata": {
        "colab": {
          "base_uri": "https://localhost:8080/",
          "height": 36
        },
        "id": "sZ_V12Vj2Jrq",
        "outputId": "8916e579-3d97-441d-e0ef-64b1f4989a4e"
      },
      "source": [
        "c.koefisien()"
      ],
      "execution_count": 56,
      "outputs": [
        {
          "output_type": "execute_result",
          "data": {
            "application/vnd.google.colaboratory.intrinsic+json": {
              "type": "string"
            },
            "text/plain": [
              "'65.1415715245131'"
            ]
          },
          "metadata": {},
          "execution_count": 56
        }
      ]
    },
    {
      "cell_type": "code",
      "metadata": {
        "colab": {
          "base_uri": "https://localhost:8080/",
          "height": 36
        },
        "id": "AQQ4pwz53efW",
        "outputId": "9982955c-f3dd-4abc-c1bf-4706b782bce7"
      },
      "source": [
        "c.konstanta()"
      ],
      "execution_count": 57,
      "outputs": [
        {
          "output_type": "execute_result",
          "data": {
            "application/vnd.google.colaboratory.intrinsic+json": {
              "type": "string"
            },
            "text/plain": [
              "'0.3852249832102082'"
            ]
          },
          "metadata": {},
          "execution_count": 57
        }
      ]
    }
  ]
}