{
  "cells": [
    {
      "cell_type": "markdown",
      "metadata": {
        "id": "view-in-github",
        "colab_type": "text"
      },
      "source": [
        "<a href=\"https://colab.research.google.com/github/kungfumas/stbi/blob/master/Word_embedding_Techniques.ipynb\" target=\"_parent\"><img src=\"https://colab.research.google.com/assets/colab-badge.svg\" alt=\"Open In Colab\"/></a>"
      ]
    },
    {
      "cell_type": "markdown",
      "metadata": {
        "id": "eHNf7J680XF-"
      },
      "source": [
        "### Word Embedding Techniques using Embedding Layer in Keras"
      ]
    },
    {
      "cell_type": "code",
      "execution_count": null,
      "metadata": {
        "id": "PEsK0_yl0XGB"
      },
      "outputs": [],
      "source": [
        "### Libraries USed Tensorflow> 2.0  and keras"
      ]
    },
    {
      "cell_type": "code",
      "execution_count": null,
      "metadata": {
        "colab": {
          "base_uri": "https://localhost:8080/"
        },
        "id": "pslw1Ya90XGC",
        "outputId": "de66f2dd-43d6-4477-9fb8-4ed421b4cbe4"
      },
      "outputs": [
        {
          "output_type": "stream",
          "name": "stdout",
          "text": [
            "Looking in indexes: https://pypi.org/simple, https://us-python.pkg.dev/colab-wheels/public/simple/\n",
            "Collecting tensorflow-gpu\n",
            "  Downloading tensorflow_gpu-2.9.1-cp37-cp37m-manylinux_2_17_x86_64.manylinux2014_x86_64.whl (511.7 MB)\n",
            "\u001b[K     |████████████████████████████████| 511.7 MB 6.2 kB/s \n",
            "\u001b[?25hRequirement already satisfied: astunparse>=1.6.0 in /usr/local/lib/python3.7/dist-packages (from tensorflow-gpu) (1.6.3)\n",
            "Requirement already satisfied: numpy>=1.20 in /usr/local/lib/python3.7/dist-packages (from tensorflow-gpu) (1.21.6)\n",
            "Requirement already satisfied: wrapt>=1.11.0 in /usr/local/lib/python3.7/dist-packages (from tensorflow-gpu) (1.14.1)\n",
            "Collecting keras<2.10.0,>=2.9.0rc0\n",
            "  Downloading keras-2.9.0-py2.py3-none-any.whl (1.6 MB)\n",
            "\u001b[K     |████████████████████████████████| 1.6 MB 51.8 MB/s \n",
            "\u001b[?25hRequirement already satisfied: h5py>=2.9.0 in /usr/local/lib/python3.7/dist-packages (from tensorflow-gpu) (3.1.0)\n",
            "Requirement already satisfied: setuptools in /usr/local/lib/python3.7/dist-packages (from tensorflow-gpu) (57.4.0)\n",
            "Requirement already satisfied: packaging in /usr/local/lib/python3.7/dist-packages (from tensorflow-gpu) (21.3)\n",
            "Requirement already satisfied: grpcio<2.0,>=1.24.3 in /usr/local/lib/python3.7/dist-packages (from tensorflow-gpu) (1.46.3)\n",
            "Requirement already satisfied: six>=1.12.0 in /usr/local/lib/python3.7/dist-packages (from tensorflow-gpu) (1.15.0)\n",
            "Requirement already satisfied: tensorflow-io-gcs-filesystem>=0.23.1 in /usr/local/lib/python3.7/dist-packages (from tensorflow-gpu) (0.26.0)\n",
            "Requirement already satisfied: keras-preprocessing>=1.1.1 in /usr/local/lib/python3.7/dist-packages (from tensorflow-gpu) (1.1.2)\n",
            "Requirement already satisfied: absl-py>=1.0.0 in /usr/local/lib/python3.7/dist-packages (from tensorflow-gpu) (1.1.0)\n",
            "Requirement already satisfied: libclang>=13.0.0 in /usr/local/lib/python3.7/dist-packages (from tensorflow-gpu) (14.0.1)\n",
            "Collecting tensorboard<2.10,>=2.9\n",
            "  Downloading tensorboard-2.9.1-py3-none-any.whl (5.8 MB)\n",
            "\u001b[K     |████████████████████████████████| 5.8 MB 18.4 MB/s \n",
            "\u001b[?25hRequirement already satisfied: protobuf<3.20,>=3.9.2 in /usr/local/lib/python3.7/dist-packages (from tensorflow-gpu) (3.17.3)\n",
            "Requirement already satisfied: typing-extensions>=3.6.6 in /usr/local/lib/python3.7/dist-packages (from tensorflow-gpu) (4.1.1)\n",
            "Requirement already satisfied: opt-einsum>=2.3.2 in /usr/local/lib/python3.7/dist-packages (from tensorflow-gpu) (3.3.0)\n",
            "Collecting tensorflow-estimator<2.10.0,>=2.9.0rc0\n",
            "  Downloading tensorflow_estimator-2.9.0-py2.py3-none-any.whl (438 kB)\n",
            "\u001b[K     |████████████████████████████████| 438 kB 58.8 MB/s \n",
            "\u001b[?25hRequirement already satisfied: google-pasta>=0.1.1 in /usr/local/lib/python3.7/dist-packages (from tensorflow-gpu) (0.2.0)\n",
            "Requirement already satisfied: termcolor>=1.1.0 in /usr/local/lib/python3.7/dist-packages (from tensorflow-gpu) (1.1.0)\n",
            "Collecting gast<=0.4.0,>=0.2.1\n",
            "  Downloading gast-0.4.0-py3-none-any.whl (9.8 kB)\n",
            "Collecting flatbuffers<2,>=1.12\n",
            "  Downloading flatbuffers-1.12-py2.py3-none-any.whl (15 kB)\n",
            "Requirement already satisfied: wheel<1.0,>=0.23.0 in /usr/local/lib/python3.7/dist-packages (from astunparse>=1.6.0->tensorflow-gpu) (0.37.1)\n",
            "Requirement already satisfied: cached-property in /usr/local/lib/python3.7/dist-packages (from h5py>=2.9.0->tensorflow-gpu) (1.5.2)\n",
            "Requirement already satisfied: tensorboard-data-server<0.7.0,>=0.6.0 in /usr/local/lib/python3.7/dist-packages (from tensorboard<2.10,>=2.9->tensorflow-gpu) (0.6.1)\n",
            "Requirement already satisfied: markdown>=2.6.8 in /usr/local/lib/python3.7/dist-packages (from tensorboard<2.10,>=2.9->tensorflow-gpu) (3.3.7)\n",
            "Requirement already satisfied: google-auth<3,>=1.6.3 in /usr/local/lib/python3.7/dist-packages (from tensorboard<2.10,>=2.9->tensorflow-gpu) (1.35.0)\n",
            "Requirement already satisfied: requests<3,>=2.21.0 in /usr/local/lib/python3.7/dist-packages (from tensorboard<2.10,>=2.9->tensorflow-gpu) (2.23.0)\n",
            "Requirement already satisfied: tensorboard-plugin-wit>=1.6.0 in /usr/local/lib/python3.7/dist-packages (from tensorboard<2.10,>=2.9->tensorflow-gpu) (1.8.1)\n",
            "Requirement already satisfied: google-auth-oauthlib<0.5,>=0.4.1 in /usr/local/lib/python3.7/dist-packages (from tensorboard<2.10,>=2.9->tensorflow-gpu) (0.4.6)\n",
            "Requirement already satisfied: werkzeug>=1.0.1 in /usr/local/lib/python3.7/dist-packages (from tensorboard<2.10,>=2.9->tensorflow-gpu) (1.0.1)\n",
            "Requirement already satisfied: rsa<5,>=3.1.4 in /usr/local/lib/python3.7/dist-packages (from google-auth<3,>=1.6.3->tensorboard<2.10,>=2.9->tensorflow-gpu) (4.8)\n",
            "Requirement already satisfied: pyasn1-modules>=0.2.1 in /usr/local/lib/python3.7/dist-packages (from google-auth<3,>=1.6.3->tensorboard<2.10,>=2.9->tensorflow-gpu) (0.2.8)\n",
            "Requirement already satisfied: cachetools<5.0,>=2.0.0 in /usr/local/lib/python3.7/dist-packages (from google-auth<3,>=1.6.3->tensorboard<2.10,>=2.9->tensorflow-gpu) (4.2.4)\n",
            "Requirement already satisfied: requests-oauthlib>=0.7.0 in /usr/local/lib/python3.7/dist-packages (from google-auth-oauthlib<0.5,>=0.4.1->tensorboard<2.10,>=2.9->tensorflow-gpu) (1.3.1)\n",
            "Requirement already satisfied: importlib-metadata>=4.4 in /usr/local/lib/python3.7/dist-packages (from markdown>=2.6.8->tensorboard<2.10,>=2.9->tensorflow-gpu) (4.11.4)\n",
            "Requirement already satisfied: zipp>=0.5 in /usr/local/lib/python3.7/dist-packages (from importlib-metadata>=4.4->markdown>=2.6.8->tensorboard<2.10,>=2.9->tensorflow-gpu) (3.8.0)\n",
            "Requirement already satisfied: pyasn1<0.5.0,>=0.4.6 in /usr/local/lib/python3.7/dist-packages (from pyasn1-modules>=0.2.1->google-auth<3,>=1.6.3->tensorboard<2.10,>=2.9->tensorflow-gpu) (0.4.8)\n",
            "Requirement already satisfied: chardet<4,>=3.0.2 in /usr/local/lib/python3.7/dist-packages (from requests<3,>=2.21.0->tensorboard<2.10,>=2.9->tensorflow-gpu) (3.0.4)\n",
            "Requirement already satisfied: urllib3!=1.25.0,!=1.25.1,<1.26,>=1.21.1 in /usr/local/lib/python3.7/dist-packages (from requests<3,>=2.21.0->tensorboard<2.10,>=2.9->tensorflow-gpu) (1.24.3)\n",
            "Requirement already satisfied: certifi>=2017.4.17 in /usr/local/lib/python3.7/dist-packages (from requests<3,>=2.21.0->tensorboard<2.10,>=2.9->tensorflow-gpu) (2022.6.15)\n",
            "Requirement already satisfied: idna<3,>=2.5 in /usr/local/lib/python3.7/dist-packages (from requests<3,>=2.21.0->tensorboard<2.10,>=2.9->tensorflow-gpu) (2.10)\n",
            "Requirement already satisfied: oauthlib>=3.0.0 in /usr/local/lib/python3.7/dist-packages (from requests-oauthlib>=0.7.0->google-auth-oauthlib<0.5,>=0.4.1->tensorboard<2.10,>=2.9->tensorflow-gpu) (3.2.0)\n",
            "Requirement already satisfied: pyparsing!=3.0.5,>=2.0.2 in /usr/local/lib/python3.7/dist-packages (from packaging->tensorflow-gpu) (3.0.9)\n",
            "Installing collected packages: tensorflow-estimator, tensorboard, keras, gast, flatbuffers, tensorflow-gpu\n",
            "  Attempting uninstall: tensorflow-estimator\n",
            "    Found existing installation: tensorflow-estimator 2.8.0\n",
            "    Uninstalling tensorflow-estimator-2.8.0:\n",
            "      Successfully uninstalled tensorflow-estimator-2.8.0\n",
            "  Attempting uninstall: tensorboard\n",
            "    Found existing installation: tensorboard 2.8.0\n",
            "    Uninstalling tensorboard-2.8.0:\n",
            "      Successfully uninstalled tensorboard-2.8.0\n",
            "  Attempting uninstall: keras\n",
            "    Found existing installation: keras 2.8.0\n",
            "    Uninstalling keras-2.8.0:\n",
            "      Successfully uninstalled keras-2.8.0\n",
            "  Attempting uninstall: gast\n",
            "    Found existing installation: gast 0.5.3\n",
            "    Uninstalling gast-0.5.3:\n",
            "      Successfully uninstalled gast-0.5.3\n",
            "  Attempting uninstall: flatbuffers\n",
            "    Found existing installation: flatbuffers 2.0\n",
            "    Uninstalling flatbuffers-2.0:\n",
            "      Successfully uninstalled flatbuffers-2.0\n",
            "\u001b[31mERROR: pip's dependency resolver does not currently take into account all the packages that are installed. This behaviour is the source of the following dependency conflicts.\n",
            "tensorflow 2.8.2+zzzcolab20220527125636 requires keras<2.9,>=2.8.0rc0, but you have keras 2.9.0 which is incompatible.\n",
            "tensorflow 2.8.2+zzzcolab20220527125636 requires tensorboard<2.9,>=2.8, but you have tensorboard 2.9.1 which is incompatible.\n",
            "tensorflow 2.8.2+zzzcolab20220527125636 requires tensorflow-estimator<2.9,>=2.8, but you have tensorflow-estimator 2.9.0 which is incompatible.\u001b[0m\n",
            "Successfully installed flatbuffers-1.12 gast-0.4.0 keras-2.9.0 tensorboard-2.9.1 tensorflow-estimator-2.9.0 tensorflow-gpu-2.9.1\n"
          ]
        }
      ],
      "source": [
        "!pip install tensorflow-gpu"
      ]
    },
    {
      "cell_type": "code",
      "source": [
        "import tensorflow as tf\n",
        "print(tf.__version__)"
      ],
      "metadata": {
        "colab": {
          "base_uri": "https://localhost:8080/"
        },
        "id": "yZ5hceiMAX7n",
        "outputId": "f8adfe31-96ee-4fa1-b3b9-17edc8bb3ee8"
      },
      "execution_count": null,
      "outputs": [
        {
          "output_type": "stream",
          "name": "stdout",
          "text": [
            "2.9.1\n"
          ]
        }
      ]
    },
    {
      "cell_type": "code",
      "execution_count": null,
      "metadata": {
        "id": "k4nKifUl0XGC"
      },
      "outputs": [],
      "source": [
        "##tensorflow >2.0\n",
        "from tensorflow.keras.preprocessing.text import one_hot"
      ]
    },
    {
      "cell_type": "code",
      "source": [
        ""
      ],
      "metadata": {
        "id": "hADTdqZTAUfS"
      },
      "execution_count": null,
      "outputs": []
    },
    {
      "cell_type": "code",
      "execution_count": null,
      "metadata": {
        "id": "Fu9PuYeu0XGD"
      },
      "outputs": [],
      "source": [
        "### sentences\n",
        "sent=[  'the glass of milk',\n",
        "     'the glass of juice',\n",
        "     'the cup of tea',\n",
        "    'I am a good boy',\n",
        "     'I am a good developer',\n",
        "     'understand the meaning of words',\n",
        "     'your videos are good']"
      ]
    },
    {
      "cell_type": "code",
      "execution_count": null,
      "metadata": {
        "colab": {
          "base_uri": "https://localhost:8080/"
        },
        "id": "x5d1D3_20XGD",
        "outputId": "3e3abb89-c992-4620-b332-696d5728fa3d"
      },
      "outputs": [
        {
          "output_type": "execute_result",
          "data": {
            "text/plain": [
              "['the glass of milk',\n",
              " 'the glass of juice',\n",
              " 'the cup of tea',\n",
              " 'I am a good boy',\n",
              " 'I am a good developer',\n",
              " 'understand the meaning of words',\n",
              " 'your videos are good']"
            ]
          },
          "metadata": {},
          "execution_count": 5
        }
      ],
      "source": [
        "sent"
      ]
    },
    {
      "cell_type": "code",
      "execution_count": null,
      "metadata": {
        "id": "tjnXIn3B0XGE"
      },
      "outputs": [],
      "source": [
        "### Vocabulary size\n",
        "voc_size=500"
      ]
    },
    {
      "cell_type": "markdown",
      "metadata": {
        "id": "-vQOdeKk0XGE"
      },
      "source": [
        "#### One Hot Representation"
      ]
    },
    {
      "cell_type": "code",
      "execution_count": null,
      "metadata": {
        "colab": {
          "base_uri": "https://localhost:8080/"
        },
        "id": "gojfZpAW0XGE",
        "outputId": "edd9dce0-84d3-4fe5-a371-121ccdb726bc"
      },
      "outputs": [
        {
          "output_type": "stream",
          "name": "stdout",
          "text": [
            "[[180, 405, 264, 53], [180, 405, 264, 8], [180, 92, 264, 33], [291, 43, 307, 242, 275], [291, 43, 307, 242, 98], [362, 180, 144, 264, 188], [354, 52, 496, 242]]\n"
          ]
        }
      ],
      "source": [
        "onehot_repr=[one_hot(words,voc_size)for words in sent] \n",
        "print(onehot_repr)"
      ]
    },
    {
      "cell_type": "markdown",
      "metadata": {
        "id": "eYG267x40XGF"
      },
      "source": [
        "### Word Embedding Represntation"
      ]
    },
    {
      "cell_type": "code",
      "execution_count": null,
      "metadata": {
        "id": "wpqPm0tb0XGF"
      },
      "outputs": [],
      "source": [
        "from tensorflow.keras.layers import Embedding\n",
        "from tensorflow.keras.preprocessing.sequence import pad_sequences\n",
        "from tensorflow.keras.models import Sequential"
      ]
    },
    {
      "cell_type": "code",
      "execution_count": null,
      "metadata": {
        "id": "Rov3GTM00XGG"
      },
      "outputs": [],
      "source": [
        "import numpy as np"
      ]
    },
    {
      "cell_type": "code",
      "execution_count": null,
      "metadata": {
        "colab": {
          "base_uri": "https://localhost:8080/"
        },
        "id": "8fQLPw6p0XGG",
        "outputId": "ce86ec66-da15-4988-e300-ff72eeb229ff"
      },
      "outputs": [
        {
          "output_type": "stream",
          "name": "stdout",
          "text": [
            "[[  0   0   0   0 180 405 264  53]\n",
            " [  0   0   0   0 180 405 264   8]\n",
            " [  0   0   0   0 180  92 264  33]\n",
            " [  0   0   0 291  43 307 242 275]\n",
            " [  0   0   0 291  43 307 242  98]\n",
            " [  0   0   0 362 180 144 264 188]\n",
            " [  0   0   0   0 354  52 496 242]]\n"
          ]
        }
      ],
      "source": [
        "## pre padding\n",
        "sent_length=8\n",
        "embedded_docs=pad_sequences(onehot_repr,padding='pre',maxlen=sent_length)\n",
        "print(embedded_docs)"
      ]
    },
    {
      "cell_type": "code",
      "execution_count": null,
      "metadata": {
        "id": "yjQqBYac0XGG"
      },
      "outputs": [],
      "source": [
        "## 10 feature dimesnions\n",
        "dim=10\n"
      ]
    },
    {
      "cell_type": "code",
      "execution_count": null,
      "metadata": {
        "id": "ozC-TXrt0XGG"
      },
      "outputs": [],
      "source": [
        "model=Sequential()\n",
        "model.add(Embedding(voc_size,10,input_length=sent_length))\n",
        "model.compile('adam','mse')"
      ]
    },
    {
      "cell_type": "code",
      "execution_count": null,
      "metadata": {
        "colab": {
          "base_uri": "https://localhost:8080/"
        },
        "id": "tMNvq-Ji0XGH",
        "outputId": "8bde65d1-06cf-4f8b-9767-28077ff2aeca"
      },
      "outputs": [
        {
          "output_type": "stream",
          "name": "stdout",
          "text": [
            "Model: \"sequential\"\n",
            "_________________________________________________________________\n",
            " Layer (type)                Output Shape              Param #   \n",
            "=================================================================\n",
            " embedding (Embedding)       (None, 8, 10)             5000      \n",
            "                                                                 \n",
            "=================================================================\n",
            "Total params: 5,000\n",
            "Trainable params: 5,000\n",
            "Non-trainable params: 0\n",
            "_________________________________________________________________\n"
          ]
        }
      ],
      "source": [
        "model.summary()"
      ]
    },
    {
      "cell_type": "code",
      "source": [
        "##'the glass of milk',\n",
        "embedded_docs[0]"
      ],
      "metadata": {
        "colab": {
          "base_uri": "https://localhost:8080/"
        },
        "id": "FC4Ess_FEcb3",
        "outputId": "e35d2a7c-ff4b-4332-c2c2-dc32249595a6"
      },
      "execution_count": null,
      "outputs": [
        {
          "output_type": "execute_result",
          "data": {
            "text/plain": [
              "array([  0,   0,   0,   0, 180, 405, 264,  53], dtype=int32)"
            ]
          },
          "metadata": {},
          "execution_count": 20
        }
      ]
    },
    {
      "cell_type": "code",
      "source": [
        "model.predict(embedded_docs[0])"
      ],
      "metadata": {
        "colab": {
          "base_uri": "https://localhost:8080/"
        },
        "id": "bRqEvMBYEZUS",
        "outputId": "021bd422-238e-4a3f-daa2-09323ef3153a"
      },
      "execution_count": null,
      "outputs": [
        {
          "output_type": "stream",
          "name": "stdout",
          "text": [
            "WARNING:tensorflow:Model was constructed with shape (None, 8) for input KerasTensor(type_spec=TensorSpec(shape=(None, 8), dtype=tf.float32, name='embedding_input'), name='embedding_input', description=\"created by layer 'embedding_input'\"), but it was called on an input with incompatible shape (None,).\n",
            "1/1 [==============================] - 0s 72ms/step\n"
          ]
        },
        {
          "output_type": "execute_result",
          "data": {
            "text/plain": [
              "array([[ 0.03938437, -0.02009605, -0.03878935, -0.04955565,  0.00419912,\n",
              "        -0.01431773,  0.02523251,  0.01653036,  0.04291571, -0.00864979],\n",
              "       [ 0.03938437, -0.02009605, -0.03878935, -0.04955565,  0.00419912,\n",
              "        -0.01431773,  0.02523251,  0.01653036,  0.04291571, -0.00864979],\n",
              "       [ 0.03938437, -0.02009605, -0.03878935, -0.04955565,  0.00419912,\n",
              "        -0.01431773,  0.02523251,  0.01653036,  0.04291571, -0.00864979],\n",
              "       [ 0.03938437, -0.02009605, -0.03878935, -0.04955565,  0.00419912,\n",
              "        -0.01431773,  0.02523251,  0.01653036,  0.04291571, -0.00864979],\n",
              "       [ 0.03059326, -0.04286614,  0.00899569,  0.00743791, -0.000781  ,\n",
              "         0.04186494,  0.03977301,  0.00326709,  0.00619651, -0.01993654],\n",
              "       [ 0.02512412, -0.0087087 ,  0.03144198,  0.00704668, -0.00177735,\n",
              "        -0.03415867, -0.00100178,  0.01562483,  0.03178963,  0.02784893],\n",
              "       [-0.00653008,  0.02340979, -0.01967902, -0.00494973, -0.02693756,\n",
              "        -0.03746525,  0.01460877, -0.00449115, -0.00130982, -0.0039017 ],\n",
              "       [-0.03150218,  0.01950303, -0.01415605, -0.00183152,  0.01207731,\n",
              "         0.02444079,  0.0140041 ,  0.0070256 ,  0.04950741, -0.03602346]],\n",
              "      dtype=float32)"
            ]
          },
          "metadata": {},
          "execution_count": 21
        }
      ]
    },
    {
      "cell_type": "code",
      "execution_count": null,
      "metadata": {
        "colab": {
          "base_uri": "https://localhost:8080/"
        },
        "id": "kzKP69gx0XGH",
        "outputId": "4558c7ab-6692-4aa3-b958-e7bbfeb0474d"
      },
      "outputs": [
        {
          "output_type": "stream",
          "name": "stdout",
          "text": [
            "1/1 [==============================] - 0s 31ms/step\n",
            "[[[ 0.03938437 -0.02009605 -0.03878935 -0.04955565  0.00419912\n",
            "   -0.01431773  0.02523251  0.01653036  0.04291571 -0.00864979]\n",
            "  [ 0.03938437 -0.02009605 -0.03878935 -0.04955565  0.00419912\n",
            "   -0.01431773  0.02523251  0.01653036  0.04291571 -0.00864979]\n",
            "  [ 0.03938437 -0.02009605 -0.03878935 -0.04955565  0.00419912\n",
            "   -0.01431773  0.02523251  0.01653036  0.04291571 -0.00864979]\n",
            "  [ 0.03938437 -0.02009605 -0.03878935 -0.04955565  0.00419912\n",
            "   -0.01431773  0.02523251  0.01653036  0.04291571 -0.00864979]\n",
            "  [ 0.03059326 -0.04286614  0.00899569  0.00743791 -0.000781\n",
            "    0.04186494  0.03977301  0.00326709  0.00619651 -0.01993654]\n",
            "  [ 0.02512412 -0.0087087   0.03144198  0.00704668 -0.00177735\n",
            "   -0.03415867 -0.00100178  0.01562483  0.03178963  0.02784893]\n",
            "  [-0.00653008  0.02340979 -0.01967902 -0.00494973 -0.02693756\n",
            "   -0.03746525  0.01460877 -0.00449115 -0.00130982 -0.0039017 ]\n",
            "  [-0.03150218  0.01950303 -0.01415605 -0.00183152  0.01207731\n",
            "    0.02444079  0.0140041   0.0070256   0.04950741 -0.03602346]]\n",
            "\n",
            " [[ 0.03938437 -0.02009605 -0.03878935 -0.04955565  0.00419912\n",
            "   -0.01431773  0.02523251  0.01653036  0.04291571 -0.00864979]\n",
            "  [ 0.03938437 -0.02009605 -0.03878935 -0.04955565  0.00419912\n",
            "   -0.01431773  0.02523251  0.01653036  0.04291571 -0.00864979]\n",
            "  [ 0.03938437 -0.02009605 -0.03878935 -0.04955565  0.00419912\n",
            "   -0.01431773  0.02523251  0.01653036  0.04291571 -0.00864979]\n",
            "  [ 0.03938437 -0.02009605 -0.03878935 -0.04955565  0.00419912\n",
            "   -0.01431773  0.02523251  0.01653036  0.04291571 -0.00864979]\n",
            "  [ 0.03059326 -0.04286614  0.00899569  0.00743791 -0.000781\n",
            "    0.04186494  0.03977301  0.00326709  0.00619651 -0.01993654]\n",
            "  [ 0.02512412 -0.0087087   0.03144198  0.00704668 -0.00177735\n",
            "   -0.03415867 -0.00100178  0.01562483  0.03178963  0.02784893]\n",
            "  [-0.00653008  0.02340979 -0.01967902 -0.00494973 -0.02693756\n",
            "   -0.03746525  0.01460877 -0.00449115 -0.00130982 -0.0039017 ]\n",
            "  [-0.0434371   0.01733501 -0.0254814   0.03025435 -0.0460149\n",
            "    0.00874413  0.04856688  0.03454936 -0.02982813 -0.00472248]]\n",
            "\n",
            " [[ 0.03938437 -0.02009605 -0.03878935 -0.04955565  0.00419912\n",
            "   -0.01431773  0.02523251  0.01653036  0.04291571 -0.00864979]\n",
            "  [ 0.03938437 -0.02009605 -0.03878935 -0.04955565  0.00419912\n",
            "   -0.01431773  0.02523251  0.01653036  0.04291571 -0.00864979]\n",
            "  [ 0.03938437 -0.02009605 -0.03878935 -0.04955565  0.00419912\n",
            "   -0.01431773  0.02523251  0.01653036  0.04291571 -0.00864979]\n",
            "  [ 0.03938437 -0.02009605 -0.03878935 -0.04955565  0.00419912\n",
            "   -0.01431773  0.02523251  0.01653036  0.04291571 -0.00864979]\n",
            "  [ 0.03059326 -0.04286614  0.00899569  0.00743791 -0.000781\n",
            "    0.04186494  0.03977301  0.00326709  0.00619651 -0.01993654]\n",
            "  [-0.0165449  -0.0245487  -0.04049651 -0.03379797  0.03827978\n",
            "   -0.01891239  0.03935272  0.03601534  0.04047254  0.02626738]\n",
            "  [-0.00653008  0.02340979 -0.01967902 -0.00494973 -0.02693756\n",
            "   -0.03746525  0.01460877 -0.00449115 -0.00130982 -0.0039017 ]\n",
            "  [-0.01796211  0.03012553  0.02499587 -0.03019696 -0.02619814\n",
            "   -0.04370998  0.02499839  0.0259905  -0.02895923 -0.03277919]]\n",
            "\n",
            " [[ 0.03938437 -0.02009605 -0.03878935 -0.04955565  0.00419912\n",
            "   -0.01431773  0.02523251  0.01653036  0.04291571 -0.00864979]\n",
            "  [ 0.03938437 -0.02009605 -0.03878935 -0.04955565  0.00419912\n",
            "   -0.01431773  0.02523251  0.01653036  0.04291571 -0.00864979]\n",
            "  [ 0.03938437 -0.02009605 -0.03878935 -0.04955565  0.00419912\n",
            "   -0.01431773  0.02523251  0.01653036  0.04291571 -0.00864979]\n",
            "  [ 0.0455125  -0.01906607 -0.01224751 -0.00509113 -0.02193579\n",
            "   -0.01053187 -0.02626517 -0.00871019  0.04797108  0.01489766]\n",
            "  [ 0.01335182 -0.03833141  0.01346098  0.02035983 -0.03607824\n",
            "   -0.03206537  0.02643689  0.03777478 -0.00899317  0.01333355]\n",
            "  [-0.00676087  0.03904044  0.00479779 -0.02978393  0.02397071\n",
            "    0.03766178 -0.0092328  -0.03824631 -0.03726087  0.04569164]\n",
            "  [-0.04575538  0.04188532  0.01740856 -0.00267079 -0.00815887\n",
            "   -0.04747143 -0.02846756 -0.00109354 -0.00825974  0.03024724]\n",
            "  [ 0.01152636  0.04342527  0.0201059   0.0143644  -0.0240415\n",
            "    0.01083563 -0.03891394  0.03182233 -0.04408182 -0.00053762]]\n",
            "\n",
            " [[ 0.03938437 -0.02009605 -0.03878935 -0.04955565  0.00419912\n",
            "   -0.01431773  0.02523251  0.01653036  0.04291571 -0.00864979]\n",
            "  [ 0.03938437 -0.02009605 -0.03878935 -0.04955565  0.00419912\n",
            "   -0.01431773  0.02523251  0.01653036  0.04291571 -0.00864979]\n",
            "  [ 0.03938437 -0.02009605 -0.03878935 -0.04955565  0.00419912\n",
            "   -0.01431773  0.02523251  0.01653036  0.04291571 -0.00864979]\n",
            "  [ 0.0455125  -0.01906607 -0.01224751 -0.00509113 -0.02193579\n",
            "   -0.01053187 -0.02626517 -0.00871019  0.04797108  0.01489766]\n",
            "  [ 0.01335182 -0.03833141  0.01346098  0.02035983 -0.03607824\n",
            "   -0.03206537  0.02643689  0.03777478 -0.00899317  0.01333355]\n",
            "  [-0.00676087  0.03904044  0.00479779 -0.02978393  0.02397071\n",
            "    0.03766178 -0.0092328  -0.03824631 -0.03726087  0.04569164]\n",
            "  [-0.04575538  0.04188532  0.01740856 -0.00267079 -0.00815887\n",
            "   -0.04747143 -0.02846756 -0.00109354 -0.00825974  0.03024724]\n",
            "  [-0.04356548  0.02670497 -0.0180442  -0.00757015  0.00827466\n",
            "    0.01629097  0.00119376 -0.04088793  0.03524628  0.0412981 ]]\n",
            "\n",
            " [[ 0.03938437 -0.02009605 -0.03878935 -0.04955565  0.00419912\n",
            "   -0.01431773  0.02523251  0.01653036  0.04291571 -0.00864979]\n",
            "  [ 0.03938437 -0.02009605 -0.03878935 -0.04955565  0.00419912\n",
            "   -0.01431773  0.02523251  0.01653036  0.04291571 -0.00864979]\n",
            "  [ 0.03938437 -0.02009605 -0.03878935 -0.04955565  0.00419912\n",
            "   -0.01431773  0.02523251  0.01653036  0.04291571 -0.00864979]\n",
            "  [-0.04503573 -0.01525755  0.0247951   0.0397242  -0.01098786\n",
            "   -0.01889135  0.01474792  0.01420038  0.01264313 -0.02099638]\n",
            "  [ 0.03059326 -0.04286614  0.00899569  0.00743791 -0.000781\n",
            "    0.04186494  0.03977301  0.00326709  0.00619651 -0.01993654]\n",
            "  [-0.00189289 -0.01293756  0.01065254  0.00630366  0.02548606\n",
            "   -0.02246332 -0.03166081  0.0488782   0.04733732 -0.00055351]\n",
            "  [-0.00653008  0.02340979 -0.01967902 -0.00494973 -0.02693756\n",
            "   -0.03746525  0.01460877 -0.00449115 -0.00130982 -0.0039017 ]\n",
            "  [ 0.01523279  0.03147752 -0.00877231 -0.04363536  0.02689752\n",
            "    0.0303895   0.03939242 -0.01938576  0.03533088  0.04882917]]\n",
            "\n",
            " [[ 0.03938437 -0.02009605 -0.03878935 -0.04955565  0.00419912\n",
            "   -0.01431773  0.02523251  0.01653036  0.04291571 -0.00864979]\n",
            "  [ 0.03938437 -0.02009605 -0.03878935 -0.04955565  0.00419912\n",
            "   -0.01431773  0.02523251  0.01653036  0.04291571 -0.00864979]\n",
            "  [ 0.03938437 -0.02009605 -0.03878935 -0.04955565  0.00419912\n",
            "   -0.01431773  0.02523251  0.01653036  0.04291571 -0.00864979]\n",
            "  [ 0.03938437 -0.02009605 -0.03878935 -0.04955565  0.00419912\n",
            "   -0.01431773  0.02523251  0.01653036  0.04291571 -0.00864979]\n",
            "  [ 0.02216006 -0.03527117 -0.04675846 -0.01894816  0.03763377\n",
            "    0.03965045  0.04765204 -0.00806187 -0.01859087 -0.02574421]\n",
            "  [ 0.04836557 -0.01613583  0.00869457  0.02868301  0.0297311\n",
            "   -0.04792688  0.02694935 -0.02964565  0.03412347 -0.03255747]\n",
            "  [ 0.03478764 -0.0400234   0.01112056 -0.00944598  0.00491976\n",
            "    0.02883413 -0.00612055 -0.00938722  0.01297954 -0.00811065]\n",
            "  [-0.04575538  0.04188532  0.01740856 -0.00267079 -0.00815887\n",
            "   -0.04747143 -0.02846756 -0.00109354 -0.00825974  0.03024724]]]\n"
          ]
        }
      ],
      "source": [
        "print(model.predict(embedded_docs))"
      ]
    },
    {
      "cell_type": "code",
      "execution_count": null,
      "metadata": {
        "id": "JuUxfk7d0XGH",
        "outputId": "c28e6fc6-3db2-4975-9dd3-950b7da8c67e"
      },
      "outputs": [
        {
          "data": {
            "text/plain": [
              "array([   0,    0,    0,    0, 6654,  998, 8966, 1609])"
            ]
          },
          "execution_count": 37,
          "metadata": {},
          "output_type": "execute_result"
        }
      ],
      "source": [
        "embedded_docs[0]"
      ]
    },
    {
      "cell_type": "code",
      "execution_count": null,
      "metadata": {
        "id": "6JJ_zD0u0XGH",
        "outputId": "8b2b65cb-457b-46f4-dd60-c5fe8ab0566f"
      },
      "outputs": [
        {
          "name": "stdout",
          "output_type": "stream",
          "text": [
            "[[-0.00425554 -0.00159295 -0.04714153  0.04425247 -0.00973954 -0.04325813\n",
            "   0.04007108 -0.0143286  -0.03659749 -0.02379028]\n",
            " [-0.00425554 -0.00159295 -0.04714153  0.04425247 -0.00973954 -0.04325813\n",
            "   0.04007108 -0.0143286  -0.03659749 -0.02379028]\n",
            " [-0.00425554 -0.00159295 -0.04714153  0.04425247 -0.00973954 -0.04325813\n",
            "   0.04007108 -0.0143286  -0.03659749 -0.02379028]\n",
            " [-0.00425554 -0.00159295 -0.04714153  0.04425247 -0.00973954 -0.04325813\n",
            "   0.04007108 -0.0143286  -0.03659749 -0.02379028]\n",
            " [-0.03786323 -0.02628061  0.02974111 -0.03307171  0.0271405   0.00945134\n",
            "   0.02378127  0.04176904  0.00514941  0.0152082 ]\n",
            " [ 0.04834186  0.04388311 -0.02802253 -0.01475487 -0.01212303  0.03762435\n",
            "  -0.01166249 -0.02141088  0.04654533  0.01537322]\n",
            " [ 0.03276015 -0.00637691  0.03907344 -0.01912468  0.02177186 -0.04630325\n",
            "   0.00800942 -0.03115667 -0.00486455 -0.04843524]\n",
            " [-0.04173617  0.03438064  0.02880521 -0.01896455  0.0323303  -0.00109453\n",
            "  -0.01675171 -0.00941917 -0.03309294 -0.04779492]]\n"
          ]
        }
      ],
      "source": [
        "print(model.predict(embedded_docs)[0])"
      ]
    },
    {
      "cell_type": "code",
      "execution_count": null,
      "metadata": {
        "id": "8OMu3iAz0XGH"
      },
      "outputs": [],
      "source": [
        "### Assignment\n",
        "\n",
        "sent=[\"The world is a better place\",\n",
        "      \"Marvel series is my favourite movie\",\n",
        "      \"I like DC movies\",\n",
        "      \"the cat is eating the food\",\n",
        "      \"Tom and Jerry is my favourite movie\",\n",
        "      \"Python is my favourite programming language\"\n",
        "      ]"
      ]
    }
  ],
  "metadata": {
    "kernelspec": {
      "display_name": "Python 3",
      "language": "python",
      "name": "python3"
    },
    "language_info": {
      "codemirror_mode": {
        "name": "ipython",
        "version": 3
      },
      "file_extension": ".py",
      "mimetype": "text/x-python",
      "name": "python",
      "nbconvert_exporter": "python",
      "pygments_lexer": "ipython3",
      "version": "3.7.4"
    },
    "colab": {
      "name": "Word embedding Techniques.ipynb",
      "provenance": [],
      "collapsed_sections": [],
      "include_colab_link": true
    },
    "accelerator": "GPU",
    "gpuClass": "standard"
  },
  "nbformat": 4,
  "nbformat_minor": 0
}