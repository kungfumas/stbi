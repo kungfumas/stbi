{
  "nbformat": 4,
  "nbformat_minor": 0,
  "metadata": {
    "colab": {
      "provenance": [],
      "authorship_tag": "ABX9TyNoBwRAccYnltyjXPYGkbfG",
      "include_colab_link": true
    },
    "kernelspec": {
      "name": "python3",
      "display_name": "Python 3"
    },
    "language_info": {
      "name": "python"
    }
  },
  "cells": [
    {
      "cell_type": "markdown",
      "metadata": {
        "id": "view-in-github",
        "colab_type": "text"
      },
      "source": [
        "<a href=\"https://colab.research.google.com/github/kungfumas/stbi/blob/master/snsscrapetweet.ipynb\" target=\"_parent\"><img src=\"https://colab.research.google.com/assets/colab-badge.svg\" alt=\"Open In Colab\"/></a>"
      ]
    },
    {
      "cell_type": "code",
      "source": [
        "!pip3 install snscrape"
      ],
      "metadata": {
        "colab": {
          "base_uri": "https://localhost:8080/"
        },
        "id": "jNbSzqhgNUkx",
        "outputId": "9593c9fb-c682-4eaf-a982-ae0eef173bf2"
      },
      "execution_count": 1,
      "outputs": [
        {
          "output_type": "stream",
          "name": "stdout",
          "text": [
            "Looking in indexes: https://pypi.org/simple, https://us-python.pkg.dev/colab-wheels/public/simple/\n",
            "Collecting snscrape\n",
            "  Downloading snscrape-0.3.4-py3-none-any.whl (35 kB)\n",
            "Requirement already satisfied: requests[socks] in /usr/local/lib/python3.7/dist-packages (from snscrape) (2.23.0)\n",
            "Requirement already satisfied: beautifulsoup4 in /usr/local/lib/python3.7/dist-packages (from snscrape) (4.6.3)\n",
            "Requirement already satisfied: lxml in /usr/local/lib/python3.7/dist-packages (from snscrape) (4.9.1)\n",
            "Requirement already satisfied: chardet<4,>=3.0.2 in /usr/local/lib/python3.7/dist-packages (from requests[socks]->snscrape) (3.0.4)\n",
            "Requirement already satisfied: certifi>=2017.4.17 in /usr/local/lib/python3.7/dist-packages (from requests[socks]->snscrape) (2022.9.24)\n",
            "Requirement already satisfied: urllib3!=1.25.0,!=1.25.1,<1.26,>=1.21.1 in /usr/local/lib/python3.7/dist-packages (from requests[socks]->snscrape) (1.24.3)\n",
            "Requirement already satisfied: idna<3,>=2.5 in /usr/local/lib/python3.7/dist-packages (from requests[socks]->snscrape) (2.10)\n",
            "Requirement already satisfied: PySocks!=1.5.7,>=1.5.6 in /usr/local/lib/python3.7/dist-packages (from requests[socks]->snscrape) (1.7.1)\n",
            "Installing collected packages: snscrape\n",
            "Successfully installed snscrape-0.3.4\n"
          ]
        }
      ]
    },
    {
      "cell_type": "code",
      "source": [
        "pip install langdetect"
      ],
      "metadata": {
        "colab": {
          "base_uri": "https://localhost:8080/"
        },
        "id": "_cpGkLAoZegb",
        "outputId": "a99c7b30-a6c5-4c27-9ad0-0a7b2dcf70c6"
      },
      "execution_count": 2,
      "outputs": [
        {
          "output_type": "stream",
          "name": "stdout",
          "text": [
            "Looking in indexes: https://pypi.org/simple, https://us-python.pkg.dev/colab-wheels/public/simple/\n",
            "Collecting langdetect\n",
            "  Downloading langdetect-1.0.9.tar.gz (981 kB)\n",
            "\u001b[K     |████████████████████████████████| 981 kB 5.3 MB/s \n",
            "\u001b[?25hRequirement already satisfied: six in /usr/local/lib/python3.7/dist-packages (from langdetect) (1.15.0)\n",
            "Building wheels for collected packages: langdetect\n",
            "  Building wheel for langdetect (setup.py) ... \u001b[?25l\u001b[?25hdone\n",
            "  Created wheel for langdetect: filename=langdetect-1.0.9-py3-none-any.whl size=993242 sha256=7eb20c59b46b80ca0d1708276f9e1d37991c06a539a2e4533648997afe9b8b83\n",
            "  Stored in directory: /root/.cache/pip/wheels/c5/96/8a/f90c59ed25d75e50a8c10a1b1c2d4c402e4dacfa87f3aff36a\n",
            "Successfully built langdetect\n",
            "Installing collected packages: langdetect\n",
            "Successfully installed langdetect-1.0.9\n"
          ]
        }
      ]
    },
    {
      "cell_type": "code",
      "source": [
        "import snscrape.modules.twitter as sntwitter\n",
        "import json\n",
        "from langdetect import detect"
      ],
      "metadata": {
        "id": "TXJV6YeeZihZ"
      },
      "execution_count": 3,
      "outputs": []
    },
    {
      "cell_type": "code",
      "source": [
        "keywords=['kanjuruhan']\n",
        "start=\"2022–09–01\"\n",
        "end =\"2022–10–03\"\n",
        "max_num=100\n",
        "fname='tweet.json' \n",
        "languages=['id','en']"
      ],
      "metadata": {
        "id": "_sPucD-vZsz1"
      },
      "execution_count": 6,
      "outputs": []
    },
    {
      "cell_type": "code",
      "source": [
        "import pandas as pd\n",
        "datatw=[]"
      ],
      "metadata": {
        "id": "pf7ZIVlVzwy7"
      },
      "execution_count": 19,
      "outputs": []
    },
    {
      "cell_type": "code",
      "source": [
        "for keyword in keywords:\n",
        "   \n",
        "    for i, tweet in enumerate (sntwitter.TwitterSearchScraper(f'{keyword} ').get_items()):\n",
        "        \n",
        "        try:\n",
        "            lan=detect(tweet.content)\n",
        "        except:\n",
        "            lan='error'\n",
        "        if i == max_num:\n",
        "            break\n",
        "        if lan in languages:\n",
        "            data = {'id': tweet.id, 'username':tweet.username, 'date': tweet.date, 'text': tweet.content,'url':tweet.url}\n",
        "           # print(data)\n",
        "            datatw.append(tweet.content)\n",
        "            with open(fname, 'a+', encoding='utf-8') as f:\n",
        "                line = json.dumps(data, ensure_ascii=False,default=str)\n",
        "                #print(line)\n",
        "                f.write(line)\n",
        "                f.write('\\n')"
      ],
      "metadata": {
        "id": "1-8oNU5nZmMT"
      },
      "execution_count": 23,
      "outputs": []
    },
    {
      "cell_type": "code",
      "source": [
        "datatw"
      ],
      "metadata": {
        "id": "ER2Zx6Y90jj1",
        "outputId": "25eaa12e-db04-4af5-d1ed-d456aecc7787",
        "colab": {
          "base_uri": "https://localhost:8080/"
        }
      },
      "execution_count": 24,
      "outputs": [
        {
          "output_type": "execute_result",
          "data": {
            "text/plain": [
              "['Kapolda Jawa Timur Dicopot, Buntut Tragedi Kanjuruhan? #InfoSepakbola #Sepakbola https://t.co/IaaJ3n8hhy https://t.co/NVm1wtEaCv',\n",
              " '@DivHumas_Polri Coba aja deh kpulan semua perwira tinggi polri suruh duduk di tribun stadion Kanjuruhan, trus anggota nya yg balok balok itu tembakkan gas air mata kadaluarsa sebanyak 40 biji oh ya jangan lupa semua pintunya dikunci dari luar....jika kalian mampu bertahan berarti kalian benar',\n",
              " 'JAKARTA—Politisi Partai Demokrat Cipta Panca Laksana angkat suara soal penggunaan gas air mata kadaluarsa saat tragedi Kanjuruhan. https://t.co/DaGnjT8zB1',\n",
              " 'Tragedi Kanjuruhan: Bulu Tangkis Harapan Bangkit Bumi Arema https://t.co/CfTiTUqqxE baca juga berita dari media lainnya di Indonesia di https://t.co/GkwQxScVr9 \\n\\n#arema #indonesiainternationalchallenge2022 #tragedikanjuruhan #tragedistadionkanjuruhan #kanjuruhan',\n",
              " 'Hikmah Tragedi Kanjuruhan dan Pesan untuk Seluruh Suporter Sepakbola Indonesia https://t.co/sogvRXfhrE',\n",
              " '5 Tersangka Tragedi Kanjuruhan Dijadwalkan Diperiksa Lanjutan Hari Ini https://t.co/VNfdao8YMp',\n",
              " 'Tuntut institusi Kepolisian terkait insiden meninggalnya suporter Arema di Kanjuruhan - Tandatangani Petisi! https://t.co/BwHUztvtH9 via @ChangeOrg_ID',\n",
              " '@KompasTV Apakah PSSI termasuk pihak yg hrs ikut bertanggung jawab atas tragedi Kanjuruhan.? \\nBisa di nilai dari, apkah di saat rapat perhelatan LIB PSSI ada atau tidak menyampaikan ke Aparat pengamanan bahwa tdk boleh menggunakan Gas Air mata dlm menangani kerusuhan di dalam stadion.?',\n",
              " 'Di tengah duka tragedi Kanjuruhan, Malang mengambil kepercayaan menjadi tuan rumah ajang bulu tangkis Indonesia International Challenge 2022.  https://t.co/xlEGCKmMtG',\n",
              " '@soeyoto1 #PrayForKanjuruhan #Kanjuruhan @UNICEF @FIFAcom',\n",
              " 'Manajemen Persik meliburkan seluruh aktivitas di tengah ketidakpastian jadwal kompetisi Liga 1 2022/2023 yang dihentikan sementara karena Tragedi Kanjuruhan.\\n\\nBaca: https://t.co/LrmVTj8XTW...... https://t.co/mz5McSYBKq',\n",
              " '5 Tersangka Tragedi Kanjuruhan Jalani Pemeriksaan Lanjutan di Mapolda Jatim https://t.co/Dgu8sIVe3N',\n",
              " '@Masteng18069598 @geloraco Klo hasil pertandingn menurut sya secara langsung tidak mngkin. tpi bener di persiapkan.. mmmpersiapakan gagal di kanjuruhan masih ada 1 laga berpotensi persija vs persib besoknya.',\n",
              " 'Perwakilan FIFA Sambangi PSSI, Bahas Tragedi di Stadion Kanjuruhan, Kabar Baik atau\\xa0Buruk? https://t.co/1Q1WIeXYHc',\n",
              " 'Tuntut institusi Kepolisian terkait insiden meninggalnya suporter Arema di Kanjuruhan - Tandatangani Petisi! https://t.co/oh0kz3zvdB lewat @ChangeOrg_ID',\n",
              " 'https://t.co/eXhDmyfMK9 -  Klaim Korban Tewas di Kanjuruhan Karena Kekurangan Oksigen, Polri : Belum Ada Jurnal Ilmiah yang Menyebutkan Gas AIr Mata Menyebabkan Orang Meninggal https://t.co/brDoLjveLs',\n",
              " 'Gas Air Mata Tragedi Kanjuruhan Dibawa ke Jakarta, TGIPF: Kalau Kedaluwarsa Itu\\xa0Pelanggaran https://t.co/Z3gSmZnOWf',\n",
              " '@registaco Bukannya arema vs persebaya nga sih yang kanjuruhan?',\n",
              " 'sujud massal polisi ga bisa balikin temenku yg udah meninggal di kanjuruhan ya anjing',\n",
              " '@ListyoSigitP kayaknya kadiv humas harus diistirahatkan dulu deh pak,ga pantas mengutarakan gas air mata tidak menyebabkan korban di kanjuruhan,nyatanya begitu banyak korban berjatuhan dikarenakan tidak sesuainya prosedur pelontaran gas air mata.',\n",
              " 'bosen kanjuruhan ae. makane lek antusias ambe tim sepak bola iku biasa ae. ngkok lek wes ngene ngkok jare sulapan https://t.co/EucN9COwTf',\n",
              " 'TGIPF dan Polri Buru Perempuan Penjual Dawet Dekat Pintu 3 Kanjuruhan\\n\\nSelengkapnya Klik Tautan Berikut ini\\n#Jakarta #TGIPF #Polri #Penjualdawet #Tragedikanjuruhan \\n\\nhttps://t.co/VchDm33chn',\n",
              " 'Seperti janji dan niat kami minggu lalu, seluruh fee gigs &amp; sebagian profit dari merch telah kami sumbangkan kpd korban Kanjuruhan via @kitabisacom \\n.\\nPita hitam ini jg kami dedikasikan utk mengenang para korban. Prayers and more power to those who seek justice\\nCr: @ahmdjml31 https://t.co/qom81pQMX4',\n",
              " '@DivHumas_Polri cobain min, kalian kumpul kira² penuh sesak di kanjuruhan terus ditembak gas air mata. berani?',\n",
              " 'Momen Polisi di Malang Gelar Sujud Massal atas Tragedi Kanjuruhan: Kami Haturkan Maaf pada Korban https://t.co/ldFxk1w8WZ \\n\\n#inilahbandung #polisimalang #sujudmassal #TragediKanjuruhan #Kanjuruhan https://t.co/wmxbvQBIhX',\n",
              " '@CNNIndonesia TOLONG PAK PRESIDEN @jokowi PECAT KAPOLRI DAN OKNUM2 POLISI YG STATEMENNYA KACAU INI. !!!! KEMUNDURAN POLRI SANGAT NAMPAK DG TDK BECUSNYA MENYELESAIKAN MASALAH SAMBO DAN KANJURUHAN !!!',\n",
              " 'Kapolri Mutasi Kapolda Jatim, Imbas Tragedi Kanjuruhan?\\n\\nSelengkapnya Klik Tautan Berikut ini\\n#Jakarta #Kapolri #Mutasi #Kapoldajatim #Tragedikanjuruhan\\n \\nhttps://t.co/QQnfAFOAqg',\n",
              " 'KAPOLDA JATIM DIMUTASI\\n\\nbuntut såkå kédadèan ning Stadiön Kanjuruhan, Képanjèn. Kapolda Jatim melu dimutasi dadi Staf Ahli Sosial Budaya Kapolri. minurut Surat Telegram Kapolri Nömer: ST/2134/X/KEP/2022, Kapolda Jatim bakal diisi karo Kapolda Sumbar.\\n\\nhttps://t.co/GCebHIJaso',\n",
              " 'Gubernur Khofifah Berharap Investigasi Insiden Kanjuruhan Segera\\xa0Selesai https://t.co/MoKapnI26J',\n",
              " 'Gubernur Khofifah Berharap Investigasi Insiden Kanjuruhan Segera\\xa0Selesai https://t.co/kFVP1UZSDk',\n",
              " 'Erick Thohir sukses jalankan tugas dari Presiden Jokowi dalam melobi FIFA terkait tragedi Kanjuruhan. \\nSebagai misi penyelamatan sepakbola Indonesia dari sanksi FIFA berhasil dilaksanakan. \\n\\n@erickthohir \\n#BangkitBersamaET https://t.co/1qR8aEfyRg',\n",
              " 'POLRI NGAKONI YEN GAS BANYU MÅTÅ SING DIENGGO NING STADION KANJURUHAN WIS KADALUARSÅ\\n\\nKepulisian ngadakno jumpa pers sing nduduhne 3 jénis gas banyu måtå sing diénggo karo pulisi pas kédadèan tragèdi ning Stadiön Kanjuruhan, Képanjèn tanggal 01/10 wingi. \\n\\nhttps://t.co/GCebHIJaso',\n",
              " 'masih berduka suasana tragedi kanjuruhan nasdem deklar anies jadi capres. Jambi #AniesNasdemOut #TenggelamkanNasdem #TenggelamkanAniesNasdem #TenggelamkanPartaiNasdem #GoodByeNasdemAnies https://t.co/CqO0BRUwLY',\n",
              " 'Mil gracias por el condolencias. Lo aprecio mucho @Cadiz_CFID \\n\\nMakSUD baik yang salah aja dah minta maaf,\\n\\nMasak yang dah membuat sistem hingga membuat banyak korban di Tragedi Kanjuruhan ga minta maaf.\\n\\nMalu ama Cádiz woi.. https://t.co/72bSLqlJUn',\n",
              " 'Berapa banyak korban jiwa dari orang2 buangan tersebut ya🤔.\\nKorban jiwa ulah aparat = &gt;200 jiwa di Kanjuruhan @_SEKNAS_RI 🙄\\n1.3.1.2 https://t.co/r2mnwT5EOH https://t.co/e64InOBEUI',\n",
              " '@DivHumas_Polri Faktanya ada ratusan nyawa yg melayang di stadion Kanjuruhan Malang, lalu penyebabnya apa bossssss....',\n",
              " 'gimana kalo diadain simulasi, ato rekontruksi tragedi kanjuruhan, semuanya diperankan pak pol. 40rb anggota ada dong... anggota d jejerin d tribun lykny org nnton, trus tembakin dah pake gas air mata yg kadaluarsa. jngn lupa gate nya di kunci ya https://t.co/un0XFAmiZE',\n",
              " 'Dukungan Tokoh Agama Dan Tokoh Masyarakat Terhadap Kinerja Polri Dalam Menangani Tragedi Kanjuruhan 1 Oktober 2022\\n\\n#bidhumaspoldajatim\\n#divisihumaspolri\\n#humaspolri\\n#tribratanews\\n#multimediapolri\\n#polripresisi\\n#poldajatim\\n#polisiindonesia\\n#bidhumaspoldajatim https://t.co/IYXCcE9fNY',\n",
              " '@KompasTV terimakasih TGIPF rakyat indonesia dibelakang kalian #Kanjuruhan',\n",
              " 'RESMI : Kapoda Jawa Timur Berganti, Diduga Efek Kanjuruhan Ini Profile Lengkapnya https://t.co/aF68EIQVuP',\n",
              " 'Polisi bilang gas air mata tdk menyebabkan kematian korban tragedi #Kanjuruhan. Polisi bilang para korban meninggal karena kehabisan oksigen krn desak2an di pintu stadion yg terkunci. Harusnya polisi bilang, suporter desak2an setelah petugas tembakkan gas air ke penonton dong.',\n",
              " '@detikcom Coba aja reka adegan stadion Kanjuruhan isi full sama polisi terus ditembak gas air mata',\n",
              " 'Tim Pencari Fakta Kontras Sebut Tragedi Kanjuruhan \"Pembunuhan Sistematis\", Ini Temuannya... https://t.co/uSjXX2AebX',\n",
              " \"Cause all of the stars are fading away\\nJust try not to worry, you'll see them someday🎶\",\n",
              " 'Akhirnya Polri Akui Gas Air Mata di Kanjuruhan Kadaluarsa https://t.co/H8ZfkPM7cD',\n",
              " 'Latar belakang @erickthohir sebagai anggota IOC dan mantan Presiden Inter Milan memudahkan lobi Indonesia ke Presiden FIFA Gianni Infantino. FIFA sangat bijak, tidak fokus ke sanksi terkait tragedi Kanjuruhan, tetapi membantu pembenahan sepakbola Indonesia. \\n#BangkitBersamaET https://t.co/Cg8OAXAcVT',\n",
              " 'Tim Gabungan Independen Pencari Fakta Tragedi Kanjuruhan menyebut pintu stadion Kanjuruhan seperti penjara. Pintu stadion itu dinilai sangat sempit. https://t.co/omsmhiF3PD',\n",
              " '@detikcom Pak tester yuuk aparat yg kmrn tugas berjaga di kanjuruhan &amp; yg komennya dr kalian g masuk akal pd duduk d tribun trs kita tembakin gas air mata ke tribun apa nantinya akan terjadi desak2kan, terinjak2, bertumpuk2kan atw g?',\n",
              " 'Penggunaan gas air mata yang sudah kedaluwarsa merupakan salah satu kecurigaan tim pencari fakta. Itu sudah dibawa ke laboratorium untuk diperiksa. #gasairmata #Kanjuruhan #kanjuruhanberduka #TGIPF\\n\\nhttps://t.co/wQiJupylnO',\n",
              " 'Wujud Empati Tragedi Kanjuruhan Malang, Brimob Polda Kaltim dan Komunitas Suporter di Balikpapan Gelar Doa Bersama https://t.co/yvizVXqIq1',\n",
              " 'New Findings on Kanjuruhan Disaster; Police Deny Deaths Caused by Tear Gas https://t.co/b8OTw8A4zt #TempoEnglish',\n",
              " 'TGIPF tragedi Kanjuruhan kini tengah menelusuri mengapa laga antara Arema FC melawan Persebaya tetap digelar malam hari pada 1 Oktober 2022 lalu. https://t.co/wIU2ZkqLpw',\n",
              " 'Bupati Malang Turut Libatkan Aremania dalam Pembangunan Monumen Tragedi Kanjuruhan\\nhttps://t.co/mRs89T6PV5',\n",
              " 'Berharap Polri adakan Rela Ulang Gas Air Mata di Kanjuruhan untuk membuktikan Gas Air Mata Kadaluarsa tidak berbahaya..\\n\\nDengan anggotanya jd pemeran reka ulang tentunya\\n\\nApakah hasilnya akan begini? https://t.co/aK8LYXdYvM',\n",
              " 'Polri Akui Gas Air Mata di Tragedi Kanjuruhan Kadaluarsa, Panca: Kalau Begini Masa Level AKP yang Tanggung Jawab? https://t.co/iT3HFBiLnJ #CiptaPancaLaksana #demokrat #GasAirMata #Kanjuruhan',\n",
              " '@Been4Q59 \"Saya selaku komandan pasukan yang memerintahkan untuk tembakan gas air mata kepada penonton di stadion Kanjuruhan yang mengakibatkan kerusuhan dan kematian, dengan ini menyatakan permohonan maaf yang sebesar-besarnya atas keluarga korban\". Contoh permohonan maaf...',\n",
              " 'Anggota Polresta Malang Kota lakukan sujud massal sebagai bentuk permohonan maaf kepada para korban Tragedi Kanjuruhan pada Senin (10/10).\\n\\nBaca berita selengkapnya hanya di https://t.co/NuJENMkACh\\n\\n#tragedistadionkanjuruhan #aremania #polrestamalangkota\\nhttps://t.co/hPIcfzxema',\n",
              " '@AndiePeci Amiiin.. Sangkan Paraning Dumadi.. Para korban tragedi Kanjuruhan sampun mulih ka Jati mulang ka Asal, Jaman Kelanggengan.. \\n\\nMohon, mangesthi, mangastuti, marem... 🙏🙏🙏😌\\n\\n#UsutTuntas #UsutTragediKanjuruhan',\n",
              " 'Polri Akui Gunakan Gas Air Mata Kedaluarsa yang Ditemukan di Stadion Kanjuruhan #TragediKanjuruhan #GasAirMata #Polri https://t.co/krX3KEhAqR',\n",
              " 'Baru diceritain kalo ternyata Bapak kemarin2 ada rencana buat nonton laga derby itu di Kanjuruhan sekalian ngepas ada kerjaan di Malang. Qadarullah enggak jadi.',\n",
              " 'Top News Koran Rakyat Merdeka\\n\\nTragedi Kanjuruhan\\nGas Air Mata Yang Ditembakkan Polisi Ternyata Basi\\n\\nhttps://t.co/HYbvkjNAnj',\n",
              " '@HusinShihab @DokterTifa @jokowi @UGMYogyakarta @CCICPolri @ChusnulCh__ @GagakNew @GunRomli @Paltiwest @Uki23 @aryobimmo @Cintada16 @ZeboLady @Syarman59 @ListyoSigitP Bagus juga si pengusung isue. Isue Kanjuruhan tenggelam.',\n",
              " 'Borussia Dortmund menunjukan solidaritas dan duka sepakbola atas kejadian Kanjuruhan....\\n\\nTidak ada sepakbola lebih berharga dari nyawa... https://t.co/eqqhWTtfJ7',\n",
              " 'Deklarasi membawa malapetaka\\nKanjuruhan berdarah, Jakarta banjir\\nTolak Anies!!!😡\\n#AniesNasdemOut #TenggelamkanNasdem #TenggelamkanAniesNasdem\\n#TenggelamkanPartaiNasdem\\n#GoodByeNasdemAnies\\nKepulauan Riau https://t.co/WpY3cMErWv',\n",
              " 'Sebagai sesama Internisti Erick Thohir - Gianni, punya perasaan yang sama terhadap tragedi Kanjuruhan. \\nMaka dari itu reformasi dan transformasi sepakbola Indonesia harus benar benar dijalankan oleh semua stakeholder sepakbola Indonesia. \\n\\n@erickthohir \\n#BangkitBersamaET https://t.co/NQvHAF6URi',\n",
              " 'Kata Pengamat soal Anggota Polresta Malang Sujud Minta Maaf atas Tragedi\\xa0Kanjuruhan https://t.co/d9csJtvHvQ',\n",
              " 'Kate ignorance ttg A to Z tragedi Kanjuruhan tapi kok wangel men 😔😞 krn iku kejadian cideekk bgtt, sek trmsk circle kene² ae\\nSejujurnya wes muak, muak ambek pernyataan² janggal tekok penguasa. Trs yo nggarai mind blowing &amp; traumatis pisan 😖',\n",
              " 'Pengamat memberi tanggapan atas aksi anggota Polresta Malang Kota melakukan sujud terkait tragedi Kanjuruhan. -   https://t.co/qoXx48A4LI',\n",
              " '@sherpa701 Semoga Sambo cs mendapat hukuman setimpal\\n\\nSemoga para korban tragedi Kanjuruhan mendapat tempat yg layak di sisi Nya\\n\\nGara2 Timnas kalah dr Malaysia, tv sy masih tersimpan di gudang. Masih trauma Om 😁',\n",
              " '131 orang meninggal dalam tragedi Kanjuruhan. Kematian ratusan jiwa ini diakibatkan tindakan kekerasan aparat. Hasilnya, enam orang ditetapkan menjadi tersangka, tiga di antaranya polisi. https://t.co/mBx14zFt8A',\n",
              " '@eaglestm1 @bepejeel Bukan hanya Kanjuruhan tapi semua peristiwa yang terjadi sebelum Kanjuruhan.',\n",
              " 'Tim Trauma Healing Polda Jatim Bantu Penanganan Psikis Korban Kanjuruhan https://t.co/VGLLKyT3HK',\n",
              " 'Pray For Kanjuruhan',\n",
              " 'Tragedi Kanjuruhan: Pemerintah Punya Potensi Intervensi PSSI https://t.co/bYLNoBheCH',\n",
              " 'tragedi kanjuruhan bener bener udah jd sorotan dunia. boss ku org Georgia, dia tbtb manggil, \"Mohamed, can you tell me about what happen in Indonesia\\'s football?\"',\n",
              " '@DilogoSemo @DivHumas_Polri ...Iya...Dalam stadion Kanjuruhan lagi aja...Kondisi Kanjuruhan dikembalikan seperti semula sebelum terjadi tragedi... (``,)',\n",
              " 'Gemes liat pernyataan polri soal kasus kanjuruhan. 😖😖😖',\n",
              " '@CNNIndonesia Ga usah bikin statement bodoh\\nAkui saja cara penanganan suporter dilapangan Kanjuruhan salah\\nTanggung jawab atas kesalahan tersebut\\nKsatria duit napa sih',\n",
              " 'Menko Polhukam Mahfud Md mengatakan soal penjual dawet misterius itu akan ditelusuri oleh Tim Gabungan Independen Pencari Fakta (TGIPF) tragedi Kanjuruhan. https://t.co/p9eyy6dUlV',\n",
              " 'Penggunaan gas air mata kedaluarsa dalam Tragedi Kanjuruhan tuai sorotan, menurut TGIPF jika benar kedaluarsa itu bentuk pelanggaran dan penyimpangan. -   https://t.co/jEUaX8K8hR',\n",
              " 'dalam 40 tahun terakhir, tragedi kanjuruhan adalah tragedi dengan jumlah korban jiwa terbesar. https://t.co/n60vJT62CX',\n",
              " 'Yunus Nusi bicara terkait Tragedi Kanjuruhan saat Kongres PSSI Aceh\\n\\n #Kanjuruhan #pssi #pssiaceh #popularitascom\\nhttps://t.co/SVJnQSg4pl',\n",
              " 'Sejenak di stadion Kanjuruhan https://t.co/MQ53cvkEcs',\n",
              " 'tragedi kanjuruhan beberapa hari lalu.\\n\\ndisajikan kronologinya dalam format visual.\\n\\nhttps://t.co/wulTd3ustZ',\n",
              " 'Tujuh Fakta Terbaru Tragedi Kanjuruhan yang Terungkap https://t.co/NdEkDcASyK',\n",
              " '#DukungGugatanIjazahPalsu \\n\\nGUS NUR DAN SIAPAPUN YANG MENDISKUSIKAN MATERI IJAZAH PALSU JOKOWI TIDAK DAPAT DIPIDANA, KARENA POKOK PERKARANYA TELAH MENJADI WEWENANG HAKIM DI PENGADILAN. POLRI SEBAIKNYA FOKUS MENGUSUT TRAGEDI KANJURUHAN https://t.co/CzgUbAqJWQ',\n",
              " 'Non kpop context tapi gue gedeg bgt baca berita kanjuruhan anjir putus asa banget rasanya blunder kayak kalo bahasa koreanya 답답하다',\n",
              " 'Masih Berduka Atas Tragedi Kanjuruhan Pesta Rakyat dan Konser Jatim Fair Dibatalkan https://t.co/Bl0RJWGVcA',\n",
              " '@KompasTV Lah ?? Pak sebelum tragedi Kanjuruhan itu ada ribuan Bonek masuk lapangan ribut dan rusuh di Sidoarjo,tapi TIDAK ADA SATUPUN KORBAN JIWA karena TANPA GAS AIR MATA .',\n",
              " 'Ribuan Deltamania Doa Bersama di GOR Delta untuk Para Korban Trgedi Kanjuruhan  https://t.co/YBkAPpweqj',\n",
              " 'Komnas HAM Duga Gas Air Mata yang Ada di Tragedi Kanjuruhan Sudah Kedaluwarsa, Polri Beri Tanggapan Begini |\\nPagii Jokowi Tunangan Cebong Hasto Kesehatan  New York Kadeun Moana Rp 0 krl Tifa #IjazahPalsuRajaNgibul  #AniesPresiden2024 #SaveAniesBaswedan  https://t.co/lOUmwsCg3p',\n",
              " 'Ironi Polisi di Tragedi Kanjuruhan, Sujud Minta Maaf di Malang, Sibuk Membela Diri di Jakarta – https://t.co/1ja8h0vj5A – Nasional https://t.co/1ja8h0vj5A – Google Berita Olahraga – https://t.co/G8GtJ2Ltqe – #Arenanews-https://t.co/CHFqz1jFFK',\n",
              " 'Media Vietnam menyebut tragedi Kanjuruhan bisa menjegal Timnas Indonesia U-16 ke Piala Asia U-17 2023. #TimnasU-16 https://t.co/DJWJvRDFlQ',\n",
              " 'Tim Gabungan Independen Pencari Fakta (TGIPF) mengungkap butuh waktu satu bulan bagi korban penembakan gas air mata kedaluwarsa untuk bisa kembali normal. Mabes Polri mengakui sejumlah gas air mata yang digunakan aparat dalam tragedi Kanjuruhan telah kedaluwarsa. https://t.co/hxOPSqD4jo',\n",
              " 'Penggunaan gas air mata dalam tragedi Kanjuruhan juga menjadi perhatian Jokowi.\\n\\nMenurut Mahfud, presiden memberikan perhatian kepada persoalan gas air mata. Hanya saja, warganet hanya melihat pernyataan presiden saat memberi keterangan di Stadion Kanjuruhan. https://t.co/BBvpUT8viD',\n",
              " 'Presiden Jokowi mengumumkan Federasi Sepakbola Internasional (FIFA) tdk mengenakan sanksi thdp sepakbola Indonesia seusai Tragedi\\xa0Kanjuruhan. Hal itu tertulis dalam surat FIFA yang diterima Jokowi.\\n\\nJOSS TENAN...!!!!!\\nbangkit Bersama Erick Thohir \\n\\n@erickthohir\\n#BangkitBersamaET https://t.co/V1PMc1GPvH',\n",
              " 'Manajemen Persik meliburkan seluruh aktivitas di tengah ketidakpastian jadwal kompetisi Liga 1 2022/2023 yang dihentikan sementara karena Tragedi Kanjuruhan.\\n#JatimNow #PersikKediri #kotakediri #kompetisiliga1 #Sepakbola https://t.co/0PJ88kBb5M',\n",
              " 'Hari Ini 5 Tersangka Tragedi Kanjuruhan Kembali Diperiksa, Direktur LIB\\xa0Besok https://t.co/QUEC6Z279g',\n",
              " 'Hari Ini 5 Tersangka Tragedi Kanjuruhan Kembali Diperiksa, Direktur LIB\\xa0Besok https://t.co/sScmvp7El5',\n",
              " 'Tim Gabungan Independen Pencari Fakta Tragedi Kanjuruhan menyebut pintu stadion Kanjuruhan seperti penjara. Pintu stadion itu dinilai sangat sempit. https://t.co/NmZBUkavcT',\n",
              " 'Menko PMK Dan Negara Mendampingi Pemulihan Trauma Korban Kanjuruhan. Moana Tunangan Ekspektasi VS Realita NOMIN JAYA JAYA JAYA krl jabodetabek kesehatan mental Gas Air Mata WE LOVE YOU WOOYOUNG iPhone 14 HUANG RENJUN THANK YOU The 3rd Mini Album Kadrun  #WorldMentalHealthDay https://t.co/F1wG7y4jd3',\n",
              " 'https://t.co/eXhDmyfMK9 -  Klaim Korban Tewas di Kanjuruhan Karena Kekurangan Oksigen, Polri : Belum Ada Jurnal Ilmiah Gas Air Mata Sebabkan Orang Meninggal https://t.co/I8PP0vh5qm',\n",
              " 'Tragedi Kanjuruhan: Bulu Tangkis Harapan Bangkit Bumi Arema https://t.co/OQRPMfvfZv',\n",
              " 'Polisi membenarkan ada gas air mata sudah kedaluwarsa digunakan saat kericuhan suporter di Stadion Kanjuruhan. #Kanjuruhan #gasairmata \\n\\nhttps://t.co/fcbJKXBhj3',\n",
              " 'Polda Jatim Bantu Penanganan Trauma Healing Korban Tragedi Kanjuruhan https://t.co/3FWElgusNg',\n",
              " 'Keadilan untuk korban kanjuruhan gimana nih? Tim independen pak mahfud udah nyampe mana nih? Kepolisian masih sibuk nyari kambing hitam gak nih? Yang kemarin teriak teriak mana nih?masih terpesona sama ungkapan rasa syukur jokowi kayanya nih!',\n",
              " 'Rhenald Kasali-Anggota TGIPF Tragedi Kanjuruhan bilang, ada indikasi kepentingan iklan rokok di balik laga Sepak Bola Nasional digelar malam hari. Laga malam hari, biasanya digelar sekitar pukul 21.30 WIB untuk mengakomodir iklan rokok. (adm) https://t.co/Q6dbfcafmh',\n",
              " 'Polisi Pemberangus 1 Ton Sabu dari China Ini Dimutasi Dari Jabatan Kapolda Jatim, Buntut Tragedi Kanjuruhan?\\nhttps://t.co/2JBcxAODvN',\n",
              " 'Kemampuan Gas Air Mata Kedaluwarsa Menurun! Kok Wajah Mayat Korban Kanjuruhan Membiru? https://t.co/cmSBYhuYRt',\n",
              " 'Iwan Bule ditumbalkan, otomatis Iwan Budianto naik. Panggah podo ae cok',\n",
              " '@ilkurham @Pakamkalam Tau\" ada skenario kerusuhan Kanjuruhan...ayo, tuh yg dicopot jg dibawa ke pengadilan suruh beber dalang dan aktor lapangan, sikat habis!!! Jujur itu murah...Bohong dan dusta itu mahal biayanya...harus hilangkan bukti\", bungkam saksi\" hadeuh...',\n",
              " 'Kapolda Jawa Timur Dicopot, Buntut Tragedi Kanjuruhan? #InfoSepakbola #Sepakbola https://t.co/IaaJ3n8hhy https://t.co/NVm1wtEaCv',\n",
              " '@DivHumas_Polri Coba aja deh kpulan semua perwira tinggi polri suruh duduk di tribun stadion Kanjuruhan, trus anggota nya yg balok balok itu tembakkan gas air mata kadaluarsa sebanyak 40 biji oh ya jangan lupa semua pintunya dikunci dari luar....jika kalian mampu bertahan berarti kalian benar',\n",
              " 'JAKARTA—Politisi Partai Demokrat Cipta Panca Laksana angkat suara soal penggunaan gas air mata kadaluarsa saat tragedi Kanjuruhan. https://t.co/DaGnjT8zB1',\n",
              " 'Tragedi Kanjuruhan: Bulu Tangkis Harapan Bangkit Bumi Arema https://t.co/CfTiTUqqxE baca juga berita dari media lainnya di Indonesia di https://t.co/GkwQxScVr9 \\n\\n#arema #indonesiainternationalchallenge2022 #tragedikanjuruhan #tragedistadionkanjuruhan #kanjuruhan',\n",
              " 'Hikmah Tragedi Kanjuruhan dan Pesan untuk Seluruh Suporter Sepakbola Indonesia https://t.co/sogvRXfhrE',\n",
              " '5 Tersangka Tragedi Kanjuruhan Dijadwalkan Diperiksa Lanjutan Hari Ini https://t.co/VNfdao8YMp',\n",
              " 'Tuntut institusi Kepolisian terkait insiden meninggalnya suporter Arema di Kanjuruhan - Tandatangani Petisi! https://t.co/BwHUztvtH9 via @ChangeOrg_ID',\n",
              " '@KompasTV Apakah PSSI termasuk pihak yg hrs ikut bertanggung jawab atas tragedi Kanjuruhan.? \\nBisa di nilai dari, apkah di saat rapat perhelatan LIB PSSI ada atau tidak menyampaikan ke Aparat pengamanan bahwa tdk boleh menggunakan Gas Air mata dlm menangani kerusuhan di dalam stadion.?',\n",
              " 'Di tengah duka tragedi Kanjuruhan, Malang mengambil kepercayaan menjadi tuan rumah ajang bulu tangkis Indonesia International Challenge 2022.  https://t.co/xlEGCKmMtG',\n",
              " '@soeyoto1 #PrayForKanjuruhan #Kanjuruhan @UNICEF @FIFAcom',\n",
              " 'Manajemen Persik meliburkan seluruh aktivitas di tengah ketidakpastian jadwal kompetisi Liga 1 2022/2023 yang dihentikan sementara karena Tragedi Kanjuruhan.\\n\\nBaca: https://t.co/LrmVTj8XTW...... https://t.co/mz5McSYBKq',\n",
              " '5 Tersangka Tragedi Kanjuruhan Jalani Pemeriksaan Lanjutan di Mapolda Jatim https://t.co/Dgu8sIVe3N',\n",
              " '@Masteng18069598 @geloraco Klo hasil pertandingn menurut sya secara langsung tidak mngkin. tpi bener di persiapkan.. mmmpersiapakan gagal di kanjuruhan masih ada 1 laga berpotensi persija vs persib besoknya.',\n",
              " 'Perwakilan FIFA Sambangi PSSI, Bahas Tragedi di Stadion Kanjuruhan, Kabar Baik atau\\xa0Buruk? https://t.co/1Q1WIeXYHc',\n",
              " 'Tuntut institusi Kepolisian terkait insiden meninggalnya suporter Arema di Kanjuruhan - Tandatangani Petisi! https://t.co/oh0kz3zvdB lewat @ChangeOrg_ID',\n",
              " 'https://t.co/eXhDmyfMK9 -  Klaim Korban Tewas di Kanjuruhan Karena Kekurangan Oksigen, Polri : Belum Ada Jurnal Ilmiah yang Menyebutkan Gas AIr Mata Menyebabkan Orang Meninggal https://t.co/brDoLjveLs',\n",
              " 'Gas Air Mata Tragedi Kanjuruhan Dibawa ke Jakarta, TGIPF: Kalau Kedaluwarsa Itu\\xa0Pelanggaran https://t.co/Z3gSmZnOWf',\n",
              " '@registaco Bukannya arema vs persebaya nga sih yang kanjuruhan?',\n",
              " 'sujud massal polisi ga bisa balikin temenku yg udah meninggal di kanjuruhan ya anjing',\n",
              " '@ListyoSigitP kayaknya kadiv humas harus diistirahatkan dulu deh pak,ga pantas mengutarakan gas air mata tidak menyebabkan korban di kanjuruhan,nyatanya begitu banyak korban berjatuhan dikarenakan tidak sesuainya prosedur pelontaran gas air mata.',\n",
              " 'bosen kanjuruhan ae. makane lek antusias ambe tim sepak bola iku biasa ae. ngkok lek wes ngene ngkok jare sulapan https://t.co/EucN9COwTf',\n",
              " 'TGIPF dan Polri Buru Perempuan Penjual Dawet Dekat Pintu 3 Kanjuruhan\\n\\nSelengkapnya Klik Tautan Berikut ini\\n#Jakarta #TGIPF #Polri #Penjualdawet #Tragedikanjuruhan \\n\\nhttps://t.co/VchDm33chn',\n",
              " 'Seperti janji dan niat kami minggu lalu, seluruh fee gigs &amp; sebagian profit dari merch telah kami sumbangkan kpd korban Kanjuruhan via @kitabisacom \\n.\\nPita hitam ini jg kami dedikasikan utk mengenang para korban. Prayers and more power to those who seek justice\\nCr: @ahmdjml31 https://t.co/qom81pQMX4',\n",
              " '@DivHumas_Polri cobain min, kalian kumpul kira² penuh sesak di kanjuruhan terus ditembak gas air mata. berani?',\n",
              " 'Momen Polisi di Malang Gelar Sujud Massal atas Tragedi Kanjuruhan: Kami Haturkan Maaf pada Korban https://t.co/ldFxk1w8WZ \\n\\n#inilahbandung #polisimalang #sujudmassal #TragediKanjuruhan #Kanjuruhan https://t.co/wmxbvQBIhX',\n",
              " '@CNNIndonesia TOLONG PAK PRESIDEN @jokowi PECAT KAPOLRI DAN OKNUM2 POLISI YG STATEMENNYA KACAU INI. !!!! KEMUNDURAN POLRI SANGAT NAMPAK DG TDK BECUSNYA MENYELESAIKAN MASALAH SAMBO DAN KANJURUHAN !!!',\n",
              " 'Kapolri Mutasi Kapolda Jatim, Imbas Tragedi Kanjuruhan?\\n\\nSelengkapnya Klik Tautan Berikut ini\\n#Jakarta #Kapolri #Mutasi #Kapoldajatim #Tragedikanjuruhan\\n \\nhttps://t.co/QQnfAFOAqg',\n",
              " 'KAPOLDA JATIM DIMUTASI\\n\\nbuntut såkå kédadèan ning Stadiön Kanjuruhan, Képanjèn. Kapolda Jatim melu dimutasi dadi Staf Ahli Sosial Budaya Kapolri. minurut Surat Telegram Kapolri Nömer: ST/2134/X/KEP/2022, Kapolda Jatim bakal diisi karo Kapolda Sumbar.\\n\\nhttps://t.co/GCebHIJaso',\n",
              " 'Gubernur Khofifah Berharap Investigasi Insiden Kanjuruhan Segera\\xa0Selesai https://t.co/MoKapnI26J',\n",
              " 'Gubernur Khofifah Berharap Investigasi Insiden Kanjuruhan Segera\\xa0Selesai https://t.co/kFVP1UZSDk',\n",
              " 'Erick Thohir sukses jalankan tugas dari Presiden Jokowi dalam melobi FIFA terkait tragedi Kanjuruhan. \\nSebagai misi penyelamatan sepakbola Indonesia dari sanksi FIFA berhasil dilaksanakan. \\n\\n@erickthohir \\n#BangkitBersamaET https://t.co/1qR8aEfyRg',\n",
              " 'POLRI NGAKONI YEN GAS BANYU MÅTÅ SING DIENGGO NING STADION KANJURUHAN WIS KADALUARSÅ\\n\\nKepulisian ngadakno jumpa pers sing nduduhne 3 jénis gas banyu måtå sing diénggo karo pulisi pas kédadèan tragèdi ning Stadiön Kanjuruhan, Képanjèn tanggal 01/10 wingi. \\n\\nhttps://t.co/GCebHIJaso',\n",
              " 'masih berduka suasana tragedi kanjuruhan nasdem deklar anies jadi capres. Jambi #AniesNasdemOut #TenggelamkanNasdem #TenggelamkanAniesNasdem #TenggelamkanPartaiNasdem #GoodByeNasdemAnies https://t.co/CqO0BRUwLY',\n",
              " 'Mil gracias por el condolencias. Lo aprecio mucho @Cadiz_CFID \\n\\nMakSUD baik yang salah aja dah minta maaf,\\n\\nMasak yang dah membuat sistem hingga membuat banyak korban di Tragedi Kanjuruhan ga minta maaf.\\n\\nMalu ama Cádiz woi.. https://t.co/72bSLqlJUn',\n",
              " 'Berapa banyak korban jiwa dari orang2 buangan tersebut ya🤔.\\nKorban jiwa ulah aparat = &gt;200 jiwa di Kanjuruhan @_SEKNAS_RI 🙄\\n1.3.1.2 https://t.co/r2mnwT5EOH https://t.co/e64InOBEUI',\n",
              " '@DivHumas_Polri Faktanya ada ratusan nyawa yg melayang di stadion Kanjuruhan Malang, lalu penyebabnya apa bossssss....',\n",
              " 'gimana kalo diadain simulasi, ato rekontruksi tragedi kanjuruhan, semuanya diperankan pak pol. 40rb anggota ada dong... anggota d jejerin d tribun lykny org nnton, trus tembakin dah pake gas air mata yg kadaluarsa. jngn lupa gate nya di kunci ya https://t.co/un0XFAmiZE',\n",
              " 'Dukungan Tokoh Agama Dan Tokoh Masyarakat Terhadap Kinerja Polri Dalam Menangani Tragedi Kanjuruhan 1 Oktober 2022\\n\\n#bidhumaspoldajatim\\n#divisihumaspolri\\n#humaspolri\\n#tribratanews\\n#multimediapolri\\n#polripresisi\\n#poldajatim\\n#polisiindonesia\\n#bidhumaspoldajatim https://t.co/IYXCcE9fNY',\n",
              " '@KompasTV terimakasih TGIPF rakyat indonesia dibelakang kalian #Kanjuruhan',\n",
              " 'RESMI : Kapoda Jawa Timur Berganti, Diduga Efek Kanjuruhan Ini Profile Lengkapnya https://t.co/aF68EIQVuP',\n",
              " 'Polisi bilang gas air mata tdk menyebabkan kematian korban tragedi #Kanjuruhan. Polisi bilang para korban meninggal karena kehabisan oksigen krn desak2an di pintu stadion yg terkunci. Harusnya polisi bilang, suporter desak2an setelah petugas tembakkan gas air ke penonton dong.',\n",
              " '@detikcom Coba aja reka adegan stadion Kanjuruhan isi full sama polisi terus ditembak gas air mata',\n",
              " 'Tim Pencari Fakta Kontras Sebut Tragedi Kanjuruhan \"Pembunuhan Sistematis\", Ini Temuannya... https://t.co/uSjXX2AebX',\n",
              " \"Cause all of the stars are fading away\\nJust try not to worry, you'll see them someday🎶\",\n",
              " 'Akhirnya Polri Akui Gas Air Mata di Kanjuruhan Kadaluarsa https://t.co/H8ZfkPM7cD',\n",
              " 'Latar belakang @erickthohir sebagai anggota IOC dan mantan Presiden Inter Milan memudahkan lobi Indonesia ke Presiden FIFA Gianni Infantino. FIFA sangat bijak, tidak fokus ke sanksi terkait tragedi Kanjuruhan, tetapi membantu pembenahan sepakbola Indonesia. \\n#BangkitBersamaET https://t.co/Cg8OAXAcVT',\n",
              " 'Tim Gabungan Independen Pencari Fakta Tragedi Kanjuruhan menyebut pintu stadion Kanjuruhan seperti penjara. Pintu stadion itu dinilai sangat sempit. https://t.co/omsmhiF3PD',\n",
              " '@detikcom Pak tester yuuk aparat yg kmrn tugas berjaga di kanjuruhan &amp; yg komennya dr kalian g masuk akal pd duduk d tribun trs kita tembakin gas air mata ke tribun apa nantinya akan terjadi desak2kan, terinjak2, bertumpuk2kan atw g?',\n",
              " 'Penggunaan gas air mata yang sudah kedaluwarsa merupakan salah satu kecurigaan tim pencari fakta. Itu sudah dibawa ke laboratorium untuk diperiksa. #gasairmata #Kanjuruhan #kanjuruhanberduka #TGIPF\\n\\nhttps://t.co/wQiJupylnO',\n",
              " 'Wujud Empati Tragedi Kanjuruhan Malang, Brimob Polda Kaltim dan Komunitas Suporter di Balikpapan Gelar Doa Bersama https://t.co/yvizVXqIq1',\n",
              " 'New Findings on Kanjuruhan Disaster; Police Deny Deaths Caused by Tear Gas https://t.co/b8OTw8A4zt #TempoEnglish',\n",
              " 'TGIPF tragedi Kanjuruhan kini tengah menelusuri mengapa laga antara Arema FC melawan Persebaya tetap digelar malam hari pada 1 Oktober 2022 lalu. https://t.co/wIU2ZkqLpw',\n",
              " 'Bupati Malang Turut Libatkan Aremania dalam Pembangunan Monumen Tragedi Kanjuruhan\\nhttps://t.co/mRs89T6PV5',\n",
              " 'Berharap Polri adakan Rela Ulang Gas Air Mata di Kanjuruhan untuk membuktikan Gas Air Mata Kadaluarsa tidak berbahaya..\\n\\nDengan anggotanya jd pemeran reka ulang tentunya\\n\\nApakah hasilnya akan begini? https://t.co/aK8LYXdYvM',\n",
              " 'Polri Akui Gas Air Mata di Tragedi Kanjuruhan Kadaluarsa, Panca: Kalau Begini Masa Level AKP yang Tanggung Jawab? https://t.co/iT3HFBiLnJ #CiptaPancaLaksana #demokrat #GasAirMata #Kanjuruhan',\n",
              " '@Been4Q59 \"Saya selaku komandan pasukan yang memerintahkan untuk tembakan gas air mata kepada penonton di stadion Kanjuruhan yang mengakibatkan kerusuhan dan kematian, dengan ini menyatakan permohonan maaf yang sebesar-besarnya atas keluarga korban\". Contoh permohonan maaf...',\n",
              " 'Anggota Polresta Malang Kota lakukan sujud massal sebagai bentuk permohonan maaf kepada para korban Tragedi Kanjuruhan pada Senin (10/10).\\n\\nBaca berita selengkapnya hanya di https://t.co/NuJENMkACh\\n\\n#tragedistadionkanjuruhan #aremania #polrestamalangkota\\nhttps://t.co/hPIcfzxema',\n",
              " '@AndiePeci Amiiin.. Sangkan Paraning Dumadi.. Para korban tragedi Kanjuruhan sampun mulih ka Jati mulang ka Asal, Jaman Kelanggengan.. \\n\\nMohon, mangesthi, mangastuti, marem... 🙏🙏🙏😌\\n\\n#UsutTuntas #UsutTragediKanjuruhan',\n",
              " 'Polri Akui Gunakan Gas Air Mata Kedaluarsa yang Ditemukan di Stadion Kanjuruhan #TragediKanjuruhan #GasAirMata #Polri https://t.co/krX3KEhAqR',\n",
              " 'Baru diceritain kalo ternyata Bapak kemarin2 ada rencana buat nonton laga derby itu di Kanjuruhan sekalian ngepas ada kerjaan di Malang. Qadarullah enggak jadi.',\n",
              " 'Top News Koran Rakyat Merdeka\\n\\nTragedi Kanjuruhan\\nGas Air Mata Yang Ditembakkan Polisi Ternyata Basi\\n\\nhttps://t.co/HYbvkjNAnj',\n",
              " '@HusinShihab @DokterTifa @jokowi @UGMYogyakarta @CCICPolri @ChusnulCh__ @GagakNew @GunRomli @Paltiwest @Uki23 @aryobimmo @Cintada16 @ZeboLady @Syarman59 @ListyoSigitP Bagus juga si pengusung isue. Isue Kanjuruhan tenggelam.',\n",
              " 'Borussia Dortmund menunjukan solidaritas dan duka sepakbola atas kejadian Kanjuruhan....\\n\\nTidak ada sepakbola lebih berharga dari nyawa... https://t.co/eqqhWTtfJ7',\n",
              " 'Deklarasi membawa malapetaka\\nKanjuruhan berdarah, Jakarta banjir\\nTolak Anies!!!😡\\n#AniesNasdemOut #TenggelamkanNasdem #TenggelamkanAniesNasdem\\n#TenggelamkanPartaiNasdem\\n#GoodByeNasdemAnies\\nKepulauan Riau https://t.co/WpY3cMErWv',\n",
              " 'Sebagai sesama Internisti Erick Thohir - Gianni, punya perasaan yang sama terhadap tragedi Kanjuruhan. \\nMaka dari itu reformasi dan transformasi sepakbola Indonesia harus benar benar dijalankan oleh semua stakeholder sepakbola Indonesia. \\n\\n@erickthohir \\n#BangkitBersamaET https://t.co/NQvHAF6URi',\n",
              " 'Kata Pengamat soal Anggota Polresta Malang Sujud Minta Maaf atas Tragedi\\xa0Kanjuruhan https://t.co/d9csJtvHvQ',\n",
              " 'Kate ignorance ttg A to Z tragedi Kanjuruhan tapi kok wangel men 😔😞 krn iku kejadian cideekk bgtt, sek trmsk circle kene² ae\\nSejujurnya wes muak, muak ambek pernyataan² janggal tekok penguasa. Trs yo nggarai mind blowing &amp; traumatis pisan 😖',\n",
              " 'Pengamat memberi tanggapan atas aksi anggota Polresta Malang Kota melakukan sujud terkait tragedi Kanjuruhan. -   https://t.co/qoXx48A4LI',\n",
              " '@sherpa701 Semoga Sambo cs mendapat hukuman setimpal\\n\\nSemoga para korban tragedi Kanjuruhan mendapat tempat yg layak di sisi Nya\\n\\nGara2 Timnas kalah dr Malaysia, tv sy masih tersimpan di gudang. Masih trauma Om 😁',\n",
              " '131 orang meninggal dalam tragedi Kanjuruhan. Kematian ratusan jiwa ini diakibatkan tindakan kekerasan aparat. Hasilnya, enam orang ditetapkan menjadi tersangka, tiga di antaranya polisi. https://t.co/mBx14zFt8A',\n",
              " '@eaglestm1 @bepejeel Bukan hanya Kanjuruhan tapi semua peristiwa yang terjadi sebelum Kanjuruhan.',\n",
              " 'Tim Trauma Healing Polda Jatim Bantu Penanganan Psikis Korban Kanjuruhan https://t.co/VGLLKyT3HK',\n",
              " 'Pray For Kanjuruhan',\n",
              " 'Tragedi Kanjuruhan: Pemerintah Punya Potensi Intervensi PSSI https://t.co/bYLNoBheCH',\n",
              " 'tragedi kanjuruhan bener bener udah jd sorotan dunia. boss ku org Georgia, dia tbtb manggil, \"Mohamed, can you tell me about what happen in Indonesia\\'s football?\"',\n",
              " '@DilogoSemo @DivHumas_Polri ...Iya...Dalam stadion Kanjuruhan lagi aja...Kondisi Kanjuruhan dikembalikan seperti semula sebelum terjadi tragedi... (``,)',\n",
              " 'Gemes liat pernyataan polri soal kasus kanjuruhan. 😖😖😖',\n",
              " '@CNNIndonesia Ga usah bikin statement bodoh\\nAkui saja cara penanganan suporter dilapangan Kanjuruhan salah\\nTanggung jawab atas kesalahan tersebut\\nKsatria duit napa sih',\n",
              " 'Menko Polhukam Mahfud Md mengatakan soal penjual dawet misterius itu akan ditelusuri oleh Tim Gabungan Independen Pencari Fakta (TGIPF) tragedi Kanjuruhan. https://t.co/p9eyy6dUlV',\n",
              " 'Penggunaan gas air mata kedaluarsa dalam Tragedi Kanjuruhan tuai sorotan, menurut TGIPF jika benar kedaluarsa itu bentuk pelanggaran dan penyimpangan. -   https://t.co/jEUaX8K8hR',\n",
              " 'dalam 40 tahun terakhir, tragedi kanjuruhan adalah tragedi dengan jumlah korban jiwa terbesar. https://t.co/n60vJT62CX',\n",
              " 'Yunus Nusi bicara terkait Tragedi Kanjuruhan saat Kongres PSSI Aceh\\n\\n #Kanjuruhan #pssi #pssiaceh #popularitascom\\nhttps://t.co/SVJnQSg4pl',\n",
              " 'Sejenak di stadion Kanjuruhan https://t.co/MQ53cvkEcs',\n",
              " 'tragedi kanjuruhan beberapa hari lalu.\\n\\ndisajikan kronologinya dalam format visual.\\n\\nhttps://t.co/wulTd3ustZ',\n",
              " 'Tujuh Fakta Terbaru Tragedi Kanjuruhan yang Terungkap https://t.co/NdEkDcASyK',\n",
              " '#DukungGugatanIjazahPalsu \\n\\nGUS NUR DAN SIAPAPUN YANG MENDISKUSIKAN MATERI IJAZAH PALSU JOKOWI TIDAK DAPAT DIPIDANA, KARENA POKOK PERKARANYA TELAH MENJADI WEWENANG HAKIM DI PENGADILAN. POLRI SEBAIKNYA FOKUS MENGUSUT TRAGEDI KANJURUHAN https://t.co/CzgUbAqJWQ',\n",
              " 'Non kpop context tapi gue gedeg bgt baca berita kanjuruhan anjir putus asa banget rasanya blunder kayak kalo bahasa koreanya 답답하다',\n",
              " 'Tim Gabungan Independen Pencari Fakta Tragedi Kanjuruhan menyebut pintu stadion Kanjuruhan seperti penjara. Pintu stadion itu dinilai sangat sempit. https://t.co/NmZBUkavcT',\n",
              " 'Menko PMK Dan Negara Mendampingi Pemulihan Trauma Korban Kanjuruhan. Moana Tunangan Ekspektasi VS Realita NOMIN JAYA JAYA JAYA krl jabodetabek kesehatan mental Gas Air Mata WE LOVE YOU WOOYOUNG iPhone 14 HUANG RENJUN THANK YOU The 3rd Mini Album Kadrun  #WorldMentalHealthDay https://t.co/F1wG7y4jd3',\n",
              " 'https://t.co/eXhDmyfMK9 -  Klaim Korban Tewas di Kanjuruhan Karena Kekurangan Oksigen, Polri : Belum Ada Jurnal Ilmiah Gas Air Mata Sebabkan Orang Meninggal https://t.co/I8PP0vh5qm',\n",
              " 'Tragedi Kanjuruhan: Bulu Tangkis Harapan Bangkit Bumi Arema https://t.co/OQRPMfvfZv',\n",
              " 'Polisi membenarkan ada gas air mata sudah kedaluwarsa digunakan saat kericuhan suporter di Stadion Kanjuruhan. #Kanjuruhan #gasairmata \\n\\nhttps://t.co/fcbJKXBhj3',\n",
              " 'Polda Jatim Bantu Penanganan Trauma Healing Korban Tragedi Kanjuruhan https://t.co/3FWElgusNg',\n",
              " 'Keadilan untuk korban kanjuruhan gimana nih? Tim independen pak mahfud udah nyampe mana nih? Kepolisian masih sibuk nyari kambing hitam gak nih? Yang kemarin teriak teriak mana nih?masih terpesona sama ungkapan rasa syukur jokowi kayanya nih!',\n",
              " 'Rhenald Kasali-Anggota TGIPF Tragedi Kanjuruhan bilang, ada indikasi kepentingan iklan rokok di balik laga Sepak Bola Nasional digelar malam hari. Laga malam hari, biasanya digelar sekitar pukul 21.30 WIB untuk mengakomodir iklan rokok. (adm) https://t.co/Q6dbfcafmh',\n",
              " 'Polisi Pemberangus 1 Ton Sabu dari China Ini Dimutasi Dari Jabatan Kapolda Jatim, Buntut Tragedi Kanjuruhan?\\nhttps://t.co/2JBcxAODvN',\n",
              " 'Kemampuan Gas Air Mata Kedaluwarsa Menurun! Kok Wajah Mayat Korban Kanjuruhan Membiru? https://t.co/cmSBYhuYRt',\n",
              " 'Iwan Bule ditumbalkan, otomatis Iwan Budianto naik. Panggah podo ae cok',\n",
              " '@ilkurham @Pakamkalam Tau\" ada skenario kerusuhan Kanjuruhan...ayo, tuh yg dicopot jg dibawa ke pengadilan suruh beber dalang dan aktor lapangan, sikat habis!!! Jujur itu murah...Bohong dan dusta itu mahal biayanya...harus hilangkan bukti\", bungkam saksi\" hadeuh...',\n",
              " 'Kapolda Jawa Timur Dicopot, Buntut Tragedi Kanjuruhan? #InfoSepakbola #Sepakbola https://t.co/IaaJ3n8hhy https://t.co/NVm1wtEaCv',\n",
              " '@DivHumas_Polri Coba aja deh kpulan semua perwira tinggi polri suruh duduk di tribun stadion Kanjuruhan, trus anggota nya yg balok balok itu tembakkan gas air mata kadaluarsa sebanyak 40 biji oh ya jangan lupa semua pintunya dikunci dari luar....jika kalian mampu bertahan berarti kalian benar',\n",
              " 'JAKARTA—Politisi Partai Demokrat Cipta Panca Laksana angkat suara soal penggunaan gas air mata kadaluarsa saat tragedi Kanjuruhan. https://t.co/DaGnjT8zB1',\n",
              " 'Tragedi Kanjuruhan: Bulu Tangkis Harapan Bangkit Bumi Arema https://t.co/CfTiTUqqxE baca juga berita dari media lainnya di Indonesia di https://t.co/GkwQxScVr9 \\n\\n#arema #indonesiainternationalchallenge2022 #tragedikanjuruhan #tragedistadionkanjuruhan #kanjuruhan',\n",
              " 'Hikmah Tragedi Kanjuruhan dan Pesan untuk Seluruh Suporter Sepakbola Indonesia https://t.co/sogvRXfhrE',\n",
              " '5 Tersangka Tragedi Kanjuruhan Dijadwalkan Diperiksa Lanjutan Hari Ini https://t.co/VNfdao8YMp',\n",
              " 'Tuntut institusi Kepolisian terkait insiden meninggalnya suporter Arema di Kanjuruhan - Tandatangani Petisi! https://t.co/BwHUztvtH9 via @ChangeOrg_ID',\n",
              " '@KompasTV Apakah PSSI termasuk pihak yg hrs ikut bertanggung jawab atas tragedi Kanjuruhan.? \\nBisa di nilai dari, apkah di saat rapat perhelatan LIB PSSI ada atau tidak menyampaikan ke Aparat pengamanan bahwa tdk boleh menggunakan Gas Air mata dlm menangani kerusuhan di dalam stadion.?',\n",
              " 'Di tengah duka tragedi Kanjuruhan, Malang mengambil kepercayaan menjadi tuan rumah ajang bulu tangkis Indonesia International Challenge 2022.  https://t.co/xlEGCKmMtG',\n",
              " '@soeyoto1 #PrayForKanjuruhan #Kanjuruhan @UNICEF @FIFAcom',\n",
              " 'Manajemen Persik meliburkan seluruh aktivitas di tengah ketidakpastian jadwal kompetisi Liga 1 2022/2023 yang dihentikan sementara karena Tragedi Kanjuruhan.\\n\\nBaca: https://t.co/LrmVTj8XTW...... https://t.co/mz5McSYBKq',\n",
              " '5 Tersangka Tragedi Kanjuruhan Jalani Pemeriksaan Lanjutan di Mapolda Jatim https://t.co/Dgu8sIVe3N',\n",
              " '@Masteng18069598 @geloraco Klo hasil pertandingn menurut sya secara langsung tidak mngkin. tpi bener di persiapkan.. mmmpersiapakan gagal di kanjuruhan masih ada 1 laga berpotensi persija vs persib besoknya.',\n",
              " 'Perwakilan FIFA Sambangi PSSI, Bahas Tragedi di Stadion Kanjuruhan, Kabar Baik atau\\xa0Buruk? https://t.co/1Q1WIeXYHc',\n",
              " 'Tuntut institusi Kepolisian terkait insiden meninggalnya suporter Arema di Kanjuruhan - Tandatangani Petisi! https://t.co/oh0kz3zvdB lewat @ChangeOrg_ID',\n",
              " 'https://t.co/eXhDmyfMK9 -  Klaim Korban Tewas di Kanjuruhan Karena Kekurangan Oksigen, Polri : Belum Ada Jurnal Ilmiah yang Menyebutkan Gas AIr Mata Menyebabkan Orang Meninggal https://t.co/brDoLjveLs',\n",
              " 'Gas Air Mata Tragedi Kanjuruhan Dibawa ke Jakarta, TGIPF: Kalau Kedaluwarsa Itu\\xa0Pelanggaran https://t.co/Z3gSmZnOWf',\n",
              " '@registaco Bukannya arema vs persebaya nga sih yang kanjuruhan?',\n",
              " 'sujud massal polisi ga bisa balikin temenku yg udah meninggal di kanjuruhan ya anjing',\n",
              " '@ListyoSigitP kayaknya kadiv humas harus diistirahatkan dulu deh pak,ga pantas mengutarakan gas air mata tidak menyebabkan korban di kanjuruhan,nyatanya begitu banyak korban berjatuhan dikarenakan tidak sesuainya prosedur pelontaran gas air mata.',\n",
              " 'bosen kanjuruhan ae. makane lek antusias ambe tim sepak bola iku biasa ae. ngkok lek wes ngene ngkok jare sulapan https://t.co/EucN9COwTf',\n",
              " 'TGIPF dan Polri Buru Perempuan Penjual Dawet Dekat Pintu 3 Kanjuruhan\\n\\nSelengkapnya Klik Tautan Berikut ini\\n#Jakarta #TGIPF #Polri #Penjualdawet #Tragedikanjuruhan \\n\\nhttps://t.co/VchDm33chn',\n",
              " 'Seperti janji dan niat kami minggu lalu, seluruh fee gigs &amp; sebagian profit dari merch telah kami sumbangkan kpd korban Kanjuruhan via @kitabisacom \\n.\\nPita hitam ini jg kami dedikasikan utk mengenang para korban. Prayers and more power to those who seek justice\\nCr: @ahmdjml31 https://t.co/qom81pQMX4',\n",
              " '@DivHumas_Polri cobain min, kalian kumpul kira² penuh sesak di kanjuruhan terus ditembak gas air mata. berani?',\n",
              " 'Momen Polisi di Malang Gelar Sujud Massal atas Tragedi Kanjuruhan: Kami Haturkan Maaf pada Korban https://t.co/ldFxk1w8WZ \\n\\n#inilahbandung #polisimalang #sujudmassal #TragediKanjuruhan #Kanjuruhan https://t.co/wmxbvQBIhX',\n",
              " '@CNNIndonesia TOLONG PAK PRESIDEN @jokowi PECAT KAPOLRI DAN OKNUM2 POLISI YG STATEMENNYA KACAU INI. !!!! KEMUNDURAN POLRI SANGAT NAMPAK DG TDK BECUSNYA MENYELESAIKAN MASALAH SAMBO DAN KANJURUHAN !!!',\n",
              " 'Kapolri Mutasi Kapolda Jatim, Imbas Tragedi Kanjuruhan?\\n\\nSelengkapnya Klik Tautan Berikut ini\\n#Jakarta #Kapolri #Mutasi #Kapoldajatim #Tragedikanjuruhan\\n \\nhttps://t.co/QQnfAFOAqg',\n",
              " 'KAPOLDA JATIM DIMUTASI\\n\\nbuntut såkå kédadèan ning Stadiön Kanjuruhan, Képanjèn. Kapolda Jatim melu dimutasi dadi Staf Ahli Sosial Budaya Kapolri. minurut Surat Telegram Kapolri Nömer: ST/2134/X/KEP/2022, Kapolda Jatim bakal diisi karo Kapolda Sumbar.\\n\\nhttps://t.co/GCebHIJaso',\n",
              " 'Gubernur Khofifah Berharap Investigasi Insiden Kanjuruhan Segera\\xa0Selesai https://t.co/MoKapnI26J',\n",
              " 'Gubernur Khofifah Berharap Investigasi Insiden Kanjuruhan Segera\\xa0Selesai https://t.co/kFVP1UZSDk',\n",
              " 'Erick Thohir sukses jalankan tugas dari Presiden Jokowi dalam melobi FIFA terkait tragedi Kanjuruhan. \\nSebagai misi penyelamatan sepakbola Indonesia dari sanksi FIFA berhasil dilaksanakan. \\n\\n@erickthohir \\n#BangkitBersamaET https://t.co/1qR8aEfyRg',\n",
              " 'POLRI NGAKONI YEN GAS BANYU MÅTÅ SING DIENGGO NING STADION KANJURUHAN WIS KADALUARSÅ\\n\\nKepulisian ngadakno jumpa pers sing nduduhne 3 jénis gas banyu måtå sing diénggo karo pulisi pas kédadèan tragèdi ning Stadiön Kanjuruhan, Képanjèn tanggal 01/10 wingi. \\n\\nhttps://t.co/GCebHIJaso',\n",
              " 'masih berduka suasana tragedi kanjuruhan nasdem deklar anies jadi capres. Jambi #AniesNasdemOut #TenggelamkanNasdem #TenggelamkanAniesNasdem #TenggelamkanPartaiNasdem #GoodByeNasdemAnies https://t.co/CqO0BRUwLY',\n",
              " 'Mil gracias por el condolencias. Lo aprecio mucho @Cadiz_CFID \\n\\nMakSUD baik yang salah aja dah minta maaf,\\n\\nMasak yang dah membuat sistem hingga membuat banyak korban di Tragedi Kanjuruhan ga minta maaf.\\n\\nMalu ama Cádiz woi.. https://t.co/72bSLqlJUn',\n",
              " 'Berapa banyak korban jiwa dari orang2 buangan tersebut ya🤔.\\nKorban jiwa ulah aparat = &gt;200 jiwa di Kanjuruhan @_SEKNAS_RI 🙄\\n1.3.1.2 https://t.co/r2mnwT5EOH https://t.co/e64InOBEUI',\n",
              " '@DivHumas_Polri Faktanya ada ratusan nyawa yg melayang di stadion Kanjuruhan Malang, lalu penyebabnya apa bossssss....',\n",
              " 'gimana kalo diadain simulasi, ato rekontruksi tragedi kanjuruhan, semuanya diperankan pak pol. 40rb anggota ada dong... anggota d jejerin d tribun lykny org nnton, trus tembakin dah pake gas air mata yg kadaluarsa. jngn lupa gate nya di kunci ya https://t.co/un0XFAmiZE',\n",
              " 'Dukungan Tokoh Agama Dan Tokoh Masyarakat Terhadap Kinerja Polri Dalam Menangani Tragedi Kanjuruhan 1 Oktober 2022\\n\\n#bidhumaspoldajatim\\n#divisihumaspolri\\n#humaspolri\\n#tribratanews\\n#multimediapolri\\n#polripresisi\\n#poldajatim\\n#polisiindonesia\\n#bidhumaspoldajatim https://t.co/IYXCcE9fNY',\n",
              " '@KompasTV terimakasih TGIPF rakyat indonesia dibelakang kalian #Kanjuruhan',\n",
              " 'RESMI : Kapoda Jawa Timur Berganti, Diduga Efek Kanjuruhan Ini Profile Lengkapnya https://t.co/aF68EIQVuP',\n",
              " 'Polisi bilang gas air mata tdk menyebabkan kematian korban tragedi #Kanjuruhan. Polisi bilang para korban meninggal karena kehabisan oksigen krn desak2an di pintu stadion yg terkunci. Harusnya polisi bilang, suporter desak2an setelah petugas tembakkan gas air ke penonton dong.',\n",
              " '@detikcom Coba aja reka adegan stadion Kanjuruhan isi full sama polisi terus ditembak gas air mata',\n",
              " 'Tim Pencari Fakta Kontras Sebut Tragedi Kanjuruhan \"Pembunuhan Sistematis\", Ini Temuannya... https://t.co/uSjXX2AebX',\n",
              " \"Cause all of the stars are fading away\\nJust try not to worry, you'll see them someday🎶\",\n",
              " 'Akhirnya Polri Akui Gas Air Mata di Kanjuruhan Kadaluarsa https://t.co/H8ZfkPM7cD',\n",
              " 'Latar belakang @erickthohir sebagai anggota IOC dan mantan Presiden Inter Milan memudahkan lobi Indonesia ke Presiden FIFA Gianni Infantino. FIFA sangat bijak, tidak fokus ke sanksi terkait tragedi Kanjuruhan, tetapi membantu pembenahan sepakbola Indonesia. \\n#BangkitBersamaET https://t.co/Cg8OAXAcVT',\n",
              " 'Tim Gabungan Independen Pencari Fakta Tragedi Kanjuruhan menyebut pintu stadion Kanjuruhan seperti penjara. Pintu stadion itu dinilai sangat sempit. https://t.co/omsmhiF3PD',\n",
              " '@detikcom Pak tester yuuk aparat yg kmrn tugas berjaga di kanjuruhan &amp; yg komennya dr kalian g masuk akal pd duduk d tribun trs kita tembakin gas air mata ke tribun apa nantinya akan terjadi desak2kan, terinjak2, bertumpuk2kan atw g?',\n",
              " 'Penggunaan gas air mata yang sudah kedaluwarsa merupakan salah satu kecurigaan tim pencari fakta. Itu sudah dibawa ke laboratorium untuk diperiksa. #gasairmata #Kanjuruhan #kanjuruhanberduka #TGIPF\\n\\nhttps://t.co/wQiJupylnO',\n",
              " 'Wujud Empati Tragedi Kanjuruhan Malang, Brimob Polda Kaltim dan Komunitas Suporter di Balikpapan Gelar Doa Bersama https://t.co/yvizVXqIq1',\n",
              " 'New Findings on Kanjuruhan Disaster; Police Deny Deaths Caused by Tear Gas https://t.co/b8OTw8A4zt #TempoEnglish',\n",
              " 'TGIPF tragedi Kanjuruhan kini tengah menelusuri mengapa laga antara Arema FC melawan Persebaya tetap digelar malam hari pada 1 Oktober 2022 lalu. https://t.co/wIU2ZkqLpw',\n",
              " 'Bupati Malang Turut Libatkan Aremania dalam Pembangunan Monumen Tragedi Kanjuruhan\\nhttps://t.co/mRs89T6PV5',\n",
              " 'Berharap Polri adakan Rela Ulang Gas Air Mata di Kanjuruhan untuk membuktikan Gas Air Mata Kadaluarsa tidak berbahaya..\\n\\nDengan anggotanya jd pemeran reka ulang tentunya\\n\\nApakah hasilnya akan begini? https://t.co/aK8LYXdYvM',\n",
              " 'Polri Akui Gas Air Mata di Tragedi Kanjuruhan Kadaluarsa, Panca: Kalau Begini Masa Level AKP yang Tanggung Jawab? https://t.co/iT3HFBiLnJ #CiptaPancaLaksana #demokrat #GasAirMata #Kanjuruhan',\n",
              " '@Been4Q59 \"Saya selaku komandan pasukan yang memerintahkan untuk tembakan gas air mata kepada penonton di stadion Kanjuruhan yang mengakibatkan kerusuhan dan kematian, dengan ini menyatakan permohonan maaf yang sebesar-besarnya atas keluarga korban\". Contoh permohonan maaf...',\n",
              " 'Anggota Polresta Malang Kota lakukan sujud massal sebagai bentuk permohonan maaf kepada para korban Tragedi Kanjuruhan pada Senin (10/10).\\n\\nBaca berita selengkapnya hanya di https://t.co/NuJENMkACh\\n\\n#tragedistadionkanjuruhan #aremania #polrestamalangkota\\nhttps://t.co/hPIcfzxema',\n",
              " '@AndiePeci Amiiin.. Sangkan Paraning Dumadi.. Para korban tragedi Kanjuruhan sampun mulih ka Jati mulang ka Asal, Jaman Kelanggengan.. \\n\\nMohon, mangesthi, mangastuti, marem... 🙏🙏🙏😌\\n\\n#UsutTuntas #UsutTragediKanjuruhan',\n",
              " 'Polri Akui Gunakan Gas Air Mata Kedaluarsa yang Ditemukan di Stadion Kanjuruhan #TragediKanjuruhan #GasAirMata #Polri https://t.co/krX3KEhAqR',\n",
              " 'Baru diceritain kalo ternyata Bapak kemarin2 ada rencana buat nonton laga derby itu di Kanjuruhan sekalian ngepas ada kerjaan di Malang. Qadarullah enggak jadi.',\n",
              " 'Top News Koran Rakyat Merdeka\\n\\nTragedi Kanjuruhan\\nGas Air Mata Yang Ditembakkan Polisi Ternyata Basi\\n\\nhttps://t.co/HYbvkjNAnj',\n",
              " '@HusinShihab @DokterTifa @jokowi @UGMYogyakarta @CCICPolri @ChusnulCh__ @GagakNew @GunRomli @Paltiwest @Uki23 @aryobimmo @Cintada16 @ZeboLady @Syarman59 @ListyoSigitP Bagus juga si pengusung isue. Isue Kanjuruhan tenggelam.',\n",
              " 'Borussia Dortmund menunjukan solidaritas dan duka sepakbola atas kejadian Kanjuruhan....\\n\\nTidak ada sepakbola lebih berharga dari nyawa... https://t.co/eqqhWTtfJ7',\n",
              " 'Deklarasi membawa malapetaka\\nKanjuruhan berdarah, Jakarta banjir\\nTolak Anies!!!😡\\n#AniesNasdemOut #TenggelamkanNasdem #TenggelamkanAniesNasdem\\n#TenggelamkanPartaiNasdem\\n#GoodByeNasdemAnies\\nKepulauan Riau https://t.co/WpY3cMErWv',\n",
              " 'Sebagai sesama Internisti Erick Thohir - Gianni, punya perasaan yang sama terhadap tragedi Kanjuruhan. \\nMaka dari itu reformasi dan transformasi sepakbola Indonesia harus benar benar dijalankan oleh semua stakeholder sepakbola Indonesia. \\n\\n@erickthohir \\n#BangkitBersamaET https://t.co/NQvHAF6URi',\n",
              " 'Kata Pengamat soal Anggota Polresta Malang Sujud Minta Maaf atas Tragedi\\xa0Kanjuruhan https://t.co/d9csJtvHvQ',\n",
              " 'Kate ignorance ttg A to Z tragedi Kanjuruhan tapi kok wangel men 😔😞 krn iku kejadian cideekk bgtt, sek trmsk circle kene² ae\\nSejujurnya wes muak, muak ambek pernyataan² janggal tekok penguasa. Trs yo nggarai mind blowing &amp; traumatis pisan 😖',\n",
              " 'Pengamat memberi tanggapan atas aksi anggota Polresta Malang Kota melakukan sujud terkait tragedi Kanjuruhan. -   https://t.co/qoXx48A4LI',\n",
              " '@sherpa701 Semoga Sambo cs mendapat hukuman setimpal\\n\\nSemoga para korban tragedi Kanjuruhan mendapat tempat yg layak di sisi Nya\\n\\nGara2 Timnas kalah dr Malaysia, tv sy masih tersimpan di gudang. Masih trauma Om 😁',\n",
              " '131 orang meninggal dalam tragedi Kanjuruhan. Kematian ratusan jiwa ini diakibatkan tindakan kekerasan aparat. Hasilnya, enam orang ditetapkan menjadi tersangka, tiga di antaranya polisi. https://t.co/mBx14zFt8A',\n",
              " '@eaglestm1 @bepejeel Bukan hanya Kanjuruhan tapi semua peristiwa yang terjadi sebelum Kanjuruhan.',\n",
              " 'Tim Trauma Healing Polda Jatim Bantu Penanganan Psikis Korban Kanjuruhan https://t.co/VGLLKyT3HK',\n",
              " 'Pray For Kanjuruhan',\n",
              " 'Tragedi Kanjuruhan: Pemerintah Punya Potensi Intervensi PSSI https://t.co/bYLNoBheCH',\n",
              " 'tragedi kanjuruhan bener bener udah jd sorotan dunia. boss ku org Georgia, dia tbtb manggil, \"Mohamed, can you tell me about what happen in Indonesia\\'s football?\"',\n",
              " '@DilogoSemo @DivHumas_Polri ...Iya...Dalam stadion Kanjuruhan lagi aja...Kondisi Kanjuruhan dikembalikan seperti semula sebelum terjadi tragedi... (``,)',\n",
              " 'Gemes liat pernyataan polri soal kasus kanjuruhan. 😖😖😖',\n",
              " '@CNNIndonesia Ga usah bikin statement bodoh\\nAkui saja cara penanganan suporter dilapangan Kanjuruhan salah\\nTanggung jawab atas kesalahan tersebut\\nKsatria duit napa sih',\n",
              " 'Menko Polhukam Mahfud Md mengatakan soal penjual dawet misterius itu akan ditelusuri oleh Tim Gabungan Independen Pencari Fakta (TGIPF) tragedi Kanjuruhan. https://t.co/p9eyy6dUlV',\n",
              " 'Penggunaan gas air mata kedaluarsa dalam Tragedi Kanjuruhan tuai sorotan, menurut TGIPF jika benar kedaluarsa itu bentuk pelanggaran dan penyimpangan. -   https://t.co/jEUaX8K8hR',\n",
              " 'dalam 40 tahun terakhir, tragedi kanjuruhan adalah tragedi dengan jumlah korban jiwa terbesar. https://t.co/n60vJT62CX',\n",
              " 'Yunus Nusi bicara terkait Tragedi Kanjuruhan saat Kongres PSSI Aceh\\n\\n #Kanjuruhan #pssi #pssiaceh #popularitascom\\nhttps://t.co/SVJnQSg4pl',\n",
              " 'Sejenak di stadion Kanjuruhan https://t.co/MQ53cvkEcs',\n",
              " 'tragedi kanjuruhan beberapa hari lalu.\\n\\ndisajikan kronologinya dalam format visual.\\n\\nhttps://t.co/wulTd3ustZ',\n",
              " 'Tujuh Fakta Terbaru Tragedi Kanjuruhan yang Terungkap https://t.co/NdEkDcASyK',\n",
              " '#DukungGugatanIjazahPalsu \\n\\nGUS NUR DAN SIAPAPUN YANG MENDISKUSIKAN MATERI IJAZAH PALSU JOKOWI TIDAK DAPAT DIPIDANA, KARENA POKOK PERKARANYA TELAH MENJADI WEWENANG HAKIM DI PENGADILAN. POLRI SEBAIKNYA FOKUS MENGUSUT TRAGEDI KANJURUHAN https://t.co/CzgUbAqJWQ',\n",
              " 'Non kpop context tapi gue gedeg bgt baca berita kanjuruhan anjir putus asa banget rasanya blunder kayak kalo bahasa koreanya 답답하다']"
            ]
          },
          "metadata": {},
          "execution_count": 24
        }
      ]
    },
    {
      "cell_type": "code",
      "source": [
        "!pip install Sastrawi"
      ],
      "metadata": {
        "id": "xeqqY0rz3165",
        "outputId": "ca4899db-9079-4a0b-b563-e00dbdd8a09d",
        "colab": {
          "base_uri": "https://localhost:8080/"
        }
      },
      "execution_count": 26,
      "outputs": [
        {
          "output_type": "stream",
          "name": "stdout",
          "text": [
            "Looking in indexes: https://pypi.org/simple, https://us-python.pkg.dev/colab-wheels/public/simple/\n",
            "Collecting Sastrawi\n",
            "  Downloading Sastrawi-1.0.1-py2.py3-none-any.whl (209 kB)\n",
            "\u001b[K     |████████████████████████████████| 209 kB 5.2 MB/s \n",
            "\u001b[?25hInstalling collected packages: Sastrawi\n",
            "Successfully installed Sastrawi-1.0.1\n"
          ]
        }
      ]
    },
    {
      "cell_type": "code",
      "source": [
        "import re\n",
        "import string\n",
        "from Sastrawi.Stemmer.StemmerFactory import StemmerFactory# create stemmer\n",
        "factory = StemmerFactory()\n",
        "stemmer = factory.create_stemmer()# stemming process\n",
        "# import StopWordRemoverFactory class\n",
        "from Sastrawi.StopWordRemover.StopWordRemoverFactory import StopWordRemoverFactory\n",
        "factory = StopWordRemoverFactory()\n",
        "stopword = factory.create_stop_word_remover()\n",
        "documents_clean=[]\n",
        "\n",
        "for d in datatw:\n",
        "    outputstem= stemmer.stem(d)\n",
        "    d= stopword.remove(outputstem)\n",
        "    # Remove Unicode\n",
        "    document_test = re.sub(r'[^\\x00-\\x7F]+', ' ', d)\n",
        "    # Remove Mentions\n",
        "    document_test = re.sub(r'@\\w+', '', document_test)\n",
        "    # Lowercase the document\n",
        "    document_test = document_test.lower()\n",
        "    # Remove punctuations\n",
        "    document_test = re.sub(r'[%s]' % re.escape(string.punctuation), ' ', document_test)\n",
        "    # Lowercase the numbers\n",
        "    document_test = re.sub(r'[0-9]', '', document_test)\n",
        "    # Remove the doubled space\n",
        "    outputstop = re.sub(r'\\s{2,}', ' ', document_test)\n",
        "    documents_clean.append(outputstop)"
      ],
      "metadata": {
        "id": "yhu7e8JA3pz9"
      },
      "execution_count": null,
      "outputs": []
    },
    {
      "cell_type": "markdown",
      "source": [
        "https://www.freecodecamp.org/news/python-web-scraping-tutorial/\n",
        "https://medium.com/dataseries/how-to-scrape-millions-of-tweets-using-snscrape-195ee3594721"
      ],
      "metadata": {
        "id": "gnHGGgt2M-ia"
      }
    }
  ]
}