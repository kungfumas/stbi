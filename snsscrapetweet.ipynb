{
  "nbformat": 4,
  "nbformat_minor": 0,
  "metadata": {
    "colab": {
      "provenance": [],
      "authorship_tag": "ABX9TyO8POouHnhwwG1VOOMG2rps",
      "include_colab_link": true
    },
    "kernelspec": {
      "name": "python3",
      "display_name": "Python 3"
    },
    "language_info": {
      "name": "python"
    }
  },
  "cells": [
    {
      "cell_type": "markdown",
      "metadata": {
        "id": "view-in-github",
        "colab_type": "text"
      },
      "source": [
        "<a href=\"https://colab.research.google.com/github/kungfumas/stbi/blob/master/snsscrapetweet.ipynb\" target=\"_parent\"><img src=\"https://colab.research.google.com/assets/colab-badge.svg\" alt=\"Open In Colab\"/></a>"
      ]
    },
    {
      "cell_type": "code",
      "source": [
        "!pip3 install snscrape"
      ],
      "metadata": {
        "colab": {
          "base_uri": "https://localhost:8080/"
        },
        "id": "jNbSzqhgNUkx",
        "outputId": "9593c9fb-c682-4eaf-a982-ae0eef173bf2"
      },
      "execution_count": 1,
      "outputs": [
        {
          "output_type": "stream",
          "name": "stdout",
          "text": [
            "Looking in indexes: https://pypi.org/simple, https://us-python.pkg.dev/colab-wheels/public/simple/\n",
            "Collecting snscrape\n",
            "  Downloading snscrape-0.3.4-py3-none-any.whl (35 kB)\n",
            "Requirement already satisfied: requests[socks] in /usr/local/lib/python3.7/dist-packages (from snscrape) (2.23.0)\n",
            "Requirement already satisfied: beautifulsoup4 in /usr/local/lib/python3.7/dist-packages (from snscrape) (4.6.3)\n",
            "Requirement already satisfied: lxml in /usr/local/lib/python3.7/dist-packages (from snscrape) (4.9.1)\n",
            "Requirement already satisfied: chardet<4,>=3.0.2 in /usr/local/lib/python3.7/dist-packages (from requests[socks]->snscrape) (3.0.4)\n",
            "Requirement already satisfied: certifi>=2017.4.17 in /usr/local/lib/python3.7/dist-packages (from requests[socks]->snscrape) (2022.9.24)\n",
            "Requirement already satisfied: urllib3!=1.25.0,!=1.25.1,<1.26,>=1.21.1 in /usr/local/lib/python3.7/dist-packages (from requests[socks]->snscrape) (1.24.3)\n",
            "Requirement already satisfied: idna<3,>=2.5 in /usr/local/lib/python3.7/dist-packages (from requests[socks]->snscrape) (2.10)\n",
            "Requirement already satisfied: PySocks!=1.5.7,>=1.5.6 in /usr/local/lib/python3.7/dist-packages (from requests[socks]->snscrape) (1.7.1)\n",
            "Installing collected packages: snscrape\n",
            "Successfully installed snscrape-0.3.4\n"
          ]
        }
      ]
    },
    {
      "cell_type": "code",
      "source": [
        "pip install langdetect"
      ],
      "metadata": {
        "colab": {
          "base_uri": "https://localhost:8080/"
        },
        "id": "_cpGkLAoZegb",
        "outputId": "a99c7b30-a6c5-4c27-9ad0-0a7b2dcf70c6"
      },
      "execution_count": 2,
      "outputs": [
        {
          "output_type": "stream",
          "name": "stdout",
          "text": [
            "Looking in indexes: https://pypi.org/simple, https://us-python.pkg.dev/colab-wheels/public/simple/\n",
            "Collecting langdetect\n",
            "  Downloading langdetect-1.0.9.tar.gz (981 kB)\n",
            "\u001b[K     |████████████████████████████████| 981 kB 5.3 MB/s \n",
            "\u001b[?25hRequirement already satisfied: six in /usr/local/lib/python3.7/dist-packages (from langdetect) (1.15.0)\n",
            "Building wheels for collected packages: langdetect\n",
            "  Building wheel for langdetect (setup.py) ... \u001b[?25l\u001b[?25hdone\n",
            "  Created wheel for langdetect: filename=langdetect-1.0.9-py3-none-any.whl size=993242 sha256=7eb20c59b46b80ca0d1708276f9e1d37991c06a539a2e4533648997afe9b8b83\n",
            "  Stored in directory: /root/.cache/pip/wheels/c5/96/8a/f90c59ed25d75e50a8c10a1b1c2d4c402e4dacfa87f3aff36a\n",
            "Successfully built langdetect\n",
            "Installing collected packages: langdetect\n",
            "Successfully installed langdetect-1.0.9\n"
          ]
        }
      ]
    },
    {
      "cell_type": "code",
      "source": [
        "import snscrape.modules.twitter as sntwitter\n",
        "import json\n",
        "from langdetect import detect"
      ],
      "metadata": {
        "id": "TXJV6YeeZihZ"
      },
      "execution_count": 3,
      "outputs": []
    },
    {
      "cell_type": "code",
      "source": [
        "keywords=['kanjuruhan']\n",
        "start=\"2022–09–01\"\n",
        "end =\"2022–10–03\"\n",
        "max_num=10\n",
        "fname='tweet.json' \n",
        "languages=['id','en']"
      ],
      "metadata": {
        "id": "_sPucD-vZsz1"
      },
      "execution_count": 36,
      "outputs": []
    },
    {
      "cell_type": "code",
      "source": [
        "import pandas as pd\n",
        "datatw=[]"
      ],
      "metadata": {
        "id": "pf7ZIVlVzwy7"
      },
      "execution_count": 37,
      "outputs": []
    },
    {
      "cell_type": "code",
      "source": [
        "for keyword in keywords:\n",
        "   \n",
        "    for i, tweet in enumerate (sntwitter.TwitterSearchScraper(f'{keyword} ').get_items()):\n",
        "        \n",
        "        try:\n",
        "            lan=detect(tweet.content)\n",
        "        except:\n",
        "            lan='error'\n",
        "        if i == max_num:\n",
        "            break\n",
        "        if lan in languages:\n",
        "            data = {'id': tweet.id, 'username':tweet.username, 'date': tweet.date, 'text': tweet.content,'url':tweet.url}\n",
        "           # print(data)\n",
        "            datatw.append(tweet.content)\n",
        "            with open(fname, 'a+', encoding='utf-8') as f:\n",
        "                line = json.dumps(data, ensure_ascii=False,default=str)\n",
        "                #print(line)\n",
        "                f.write(line)\n",
        "                f.write('\\n')"
      ],
      "metadata": {
        "id": "1-8oNU5nZmMT"
      },
      "execution_count": 38,
      "outputs": []
    },
    {
      "cell_type": "code",
      "source": [
        "datatw"
      ],
      "metadata": {
        "colab": {
          "base_uri": "https://localhost:8080/"
        },
        "id": "ER2Zx6Y90jj1",
        "outputId": "2338f778-3866-4fc5-c022-117d15dd43a6"
      },
      "execution_count": 39,
      "outputs": [
        {
          "output_type": "execute_result",
          "data": {
            "text/plain": [
              "['Ternyata Gas Air Mata di Tragedi Kanjuruhan Kedaluwarsa Sejak 2021\\nsumber: https://t.co/CvNLjl7yVb\\n\\n#KanjuruhanDisaster #malangberduka #aremania #persebaya #TragediKanjuruhan \\nSambo\\nMalang\\nsuporter\\nAremania\\nAiman https://t.co/WCtKpAPJS4',\n",
              " 'Terungkap, Tujuh Fakta Terbaru Tragedi Kanjuruhan https://t.co/TjbkGDS6s9',\n",
              " '@SayaKusuma @Juli_Suryawan @NenkMonica @detikcom @DivHumas_Polri Rudet oii, ini bapak kadiv humas yg bilang korban kanjuruhan meninggal karena kehabisan oksigen ya???',\n",
              " 'Tuntut institusi Kepolisian terkait insiden meninggalnya suporter Arema di Kanjuruhan - Tandatangani Petisi! https://t.co/QVja0xSWyq via @ChangeOrg_ID',\n",
              " 'https://t.co/QefUbzDFZt\\n\\nIni salah @aniesbaswedan  BALI banjir\\n\\nKasus KANJURUHAN  salah @aniesbaswedan \\n\\nKasus KM 50 salah @aniesbaswedan\\n\\nHARUN MASIKU kabur  salah @aniesbaswedan\\n\\nTolong pak @ListyoSigitP tangkap @aniesbaswedan\\n\\nBetul gak nih pak @jokowi \\n\\nPuas kalian!!!!',\n",
              " 'Polisi Periksa Enam Tersangka Tragedi Kanjuruhan, Simak Masing-masing Perannya https://t.co/ZfV4P3OTaz https://t.co/BXlH0kUbSs',\n",
              " 'Polri akui gunakan gas air mata kedaluarsa saat tragedi Kanjuruhan yang disebut tak berbahaya lantas mengapa ratusan nyawa tewas, wajahnya membiru -   https://t.co/o3Lv6MUlct',\n",
              " 'Berikut daftar polisi yang dimutasi imbas dari Tragedi Kanjuruhan, di antaranya Kapolda Jatim Irjen Nico Afinta dan Kapolres Malang AKBP Ferli Hidayat -   https://t.co/VjZruogM5Z',\n",
              " '@MCAOps Bisa di uji coba unt di kumpulin semuanya anak2 polisi di stadion bola kanjuruhan pintu di tutup setelah itu di tembakin ke mrk...berbahaya atau tidak... Supaya adil dan tahu siapa yg salah',\n",
              " 'Alasan Polri Copot Nico Afinta dari Jabatan Kapolda Jatim, Terkait Tragedi Kanjuruhan? |\\nPagii Jokowi Tunangan Cebong Hasto Kesehatan Mental New York Kadrun Moana Rp 0 krl Tifa #IwanBuleOut #IjazahPalsuRajaNgibul #RezimJokowiKinerjaBuruk #AniesPresiden2024 https://t.co/ythhrAfYEA']"
            ]
          },
          "metadata": {},
          "execution_count": 39
        }
      ]
    },
    {
      "cell_type": "code",
      "source": [
        "!pip install Sastrawi"
      ],
      "metadata": {
        "colab": {
          "base_uri": "https://localhost:8080/"
        },
        "id": "xeqqY0rz3165",
        "outputId": "ca4899db-9079-4a0b-b563-e00dbdd8a09d"
      },
      "execution_count": 26,
      "outputs": [
        {
          "output_type": "stream",
          "name": "stdout",
          "text": [
            "Looking in indexes: https://pypi.org/simple, https://us-python.pkg.dev/colab-wheels/public/simple/\n",
            "Collecting Sastrawi\n",
            "  Downloading Sastrawi-1.0.1-py2.py3-none-any.whl (209 kB)\n",
            "\u001b[K     |████████████████████████████████| 209 kB 5.2 MB/s \n",
            "\u001b[?25hInstalling collected packages: Sastrawi\n",
            "Successfully installed Sastrawi-1.0.1\n"
          ]
        }
      ]
    },
    {
      "cell_type": "code",
      "source": [
        "import re\n",
        "import string\n",
        "from Sastrawi.Stemmer.StemmerFactory import StemmerFactory# create stemmer\n",
        "factory = StemmerFactory()\n",
        "stemmer = factory.create_stemmer()# stemming process\n",
        "# import StopWordRemoverFactory class\n",
        "from Sastrawi.StopWordRemover.StopWordRemoverFactory import StopWordRemoverFactory\n",
        "factory = StopWordRemoverFactory()\n",
        "stopword = factory.create_stop_word_remover()\n",
        "documents_clean=[]\n",
        "\n",
        "for d in datatw:\n",
        "    outputstem= stemmer.stem(d)\n",
        "    d= stopword.remove(outputstem)\n",
        "    # Remove Unicode\n",
        "    document_test = re.sub(r'[^\\x00-\\x7F]+', ' ', d)\n",
        "    # Remove Mentions\n",
        "    document_test = re.sub(r'@\\w+', '', document_test)\n",
        "    # Lowercase the document\n",
        "    document_test = document_test.lower()\n",
        "    # Remove punctuations\n",
        "    document_test = re.sub(r'[%s]' % re.escape(string.punctuation), ' ', document_test)\n",
        "    # Lowercase the numbers\n",
        "    document_test = re.sub(r'[0-9]', '', document_test)\n",
        "    # Remove the doubled space\n",
        "    outputstop = re.sub(r'\\s{2,}', ' ', document_test)\n",
        "    documents_clean.append(outputstop)"
      ],
      "metadata": {
        "id": "yhu7e8JA3pz9"
      },
      "execution_count": 40,
      "outputs": []
    },
    {
      "cell_type": "code",
      "source": [
        "documents_clean[0:5]"
      ],
      "metadata": {
        "id": "DHryKJcs4ZYC",
        "outputId": "b62dbe79-ab36-4a44-bec6-fba237022a4a",
        "colab": {
          "base_uri": "https://localhost:8080/"
        }
      },
      "execution_count": 41,
      "outputs": [
        {
          "output_type": "execute_result",
          "data": {
            "text/plain": [
              "['nyata gas air mata tragedi kanjuruhan kedaluwarsa sejak sumber https t co cvnljlyvb kanjuruhandisaster malangberduka aremania baya tragedikanjuruhan sambo malang suporter aremania aiman https t co wctkpapjs',\n",
              " 'ungkap tujuh fakta baru tragedi kanjuruhan https t co tjbkgdss',\n",
              " 'sayakusuma juli suryawan nenkmonica detikcom divhumas polri rudet oii bapak kadiv humas yg bilang korban kanjuruhan tinggal habis oksigen',\n",
              " 'tuntut institusi polisi kait insiden tinggal suporter arema kanjuruhan tandatangani petisi https t co qvjaxswyq via changeorg id',\n",
              " 'https t co qefubzdfzt salah aniesbaswedan bal banjir kasus kanjuruhan salah aniesbaswedan kasus km salah aniesbaswedan harun mas kabur salah aniesbaswedan pak listyosigitp tangkap aniesbaswedan betul gak nih pak jokowi puas kalian']"
            ]
          },
          "metadata": {},
          "execution_count": 41
        }
      ]
    },
    {
      "cell_type": "code",
      "source": [
        "from sklearn.feature_extraction.text import TfidfVectorizer\n",
        "import pandas as pd\n",
        "tfidfvectorizer = TfidfVectorizer(analyzer='word')\n",
        "tfidf_wm = tfidfvectorizer.fit_transform(documents_clean)\n",
        "tfidf_tokens = tfidfvectorizer.get_feature_names()\n"
      ],
      "metadata": {
        "id": "WP-WtqiG6OMq"
      },
      "execution_count": 42,
      "outputs": []
    },
    {
      "cell_type": "code",
      "source": [
        "from sklearn.feature_extraction.text import CountVectorizer \n",
        "import matplotlib.pyplot as plt\n",
        "import numpy as np # linear algebra\n",
        "import pandas as pd # data processing, CSV file I/O (e.g. pd.read_csv)\n",
        "cv = CountVectorizer()\n",
        "words = cv.fit_transform(documents_clean)\n",
        "sum_words = words.sum(axis=0)\n",
        "\n",
        "\n",
        "words_freq = [(word, sum_words[0, idx]) for word, idx in cv.vocabulary_.items()]\n",
        "words_freq = sorted(words_freq, key = lambda x: x[1], reverse = True)\n",
        "frequency = pd.DataFrame(words_freq, columns=['word', 'freq'])\n",
        "\n",
        "color = plt.cm.twilight(np.linspace(0, 1, 20))\n",
        "frequency.head(20).plot(x='word', y='freq', kind='bar', figsize=(15, 7), color = color)\n",
        "plt.title(\"Most Frequently Occuring Words - Top 20\")"
      ],
      "metadata": {
        "id": "Q3MAvwPA6iRL",
        "outputId": "fc4a7e18-e9bf-449a-b1af-30b90defac02",
        "colab": {
          "base_uri": "https://localhost:8080/",
          "height": 438
        }
      },
      "execution_count": 43,
      "outputs": [
        {
          "output_type": "execute_result",
          "data": {
            "text/plain": [
              "Text(0.5, 1.0, 'Most Frequently Occuring Words - Top 20')"
            ]
          },
          "metadata": {},
          "execution_count": 43
        },
        {
          "output_type": "display_data",
          "data": {
            "text/plain": [
              "<Figure size 1080x504 with 1 Axes>"
            ],
            "image/png": "[encoded data removed]"
          },
          "metadata": {
            "needs_background": "light"
          }
        }
      ]
    },
    {
      "cell_type": "code",
      "source": [
        "from sklearn.cluster import KMeans\n",
        "true_k = 3\n",
        "model = KMeans(n_clusters=true_k, init='k-means++', max_iter=100, n_init=1)\n",
        "model.fit(words)"
      ],
      "metadata": {
        "id": "nEcdy2u66tLW",
        "outputId": "40db3eac-162a-4256-af1c-af59e65f252d",
        "colab": {
          "base_uri": "https://localhost:8080/"
        }
      },
      "execution_count": 44,
      "outputs": [
        {
          "output_type": "execute_result",
          "data": {
            "text/plain": [
              "KMeans(max_iter=100, n_clusters=3, n_init=1)"
            ]
          },
          "metadata": {},
          "execution_count": 44
        }
      ]
    },
    {
      "cell_type": "code",
      "source": [
        "order_centroids = model.cluster_centers_.argsort()[:, ::-1]\n",
        "terms = cv.get_feature_names()\n",
        "\n",
        "for i in range(true_k):\n",
        "    print(\"Cluster %d:\" % i),\n",
        "    for ind in order_centroids[i, :10]:\n",
        "        print(' %s' % terms[ind]),\n",
        "    print\n",
        "\n",
        "print(\"\\n\")"
      ],
      "metadata": {
        "id": "uYUa2_Cp6wWG",
        "outputId": "189c3380-423a-4f5a-c90e-6f1c9370711e",
        "colab": {
          "base_uri": "https://localhost:8080/"
        }
      },
      "execution_count": 45,
      "outputs": [
        {
          "output_type": "stream",
          "name": "stdout",
          "text": [
            "Cluster 0:\n",
            " kedaluarsa\n",
            " mata\n",
            " ratus\n",
            " polri\n",
            " https\n",
            " sebut\n",
            " olvmulct\n",
            " co\n",
            " nyawa\n",
            " biru\n",
            "Cluster 1:\n",
            " co\n",
            " https\n",
            " kanjuruhan\n",
            " tragedi\n",
            " polisi\n",
            " masing\n",
            " aremania\n",
            " jatim\n",
            " suporter\n",
            " tinggal\n",
            "Cluster 2:\n",
            " aniesbaswedan\n",
            " salah\n",
            " pak\n",
            " kasus\n",
            " co\n",
            " harun\n",
            " qefubzdfzt\n",
            " puas\n",
            " https\n",
            " listyosigitp\n",
            "\n",
            "\n"
          ]
        },
        {
          "output_type": "stream",
          "name": "stderr",
          "text": [
            "/usr/local/lib/python3.7/dist-packages/sklearn/utils/deprecation.py:87: FutureWarning: Function get_feature_names is deprecated; get_feature_names is deprecated in 1.0 and will be removed in 1.2. Please use get_feature_names_out instead.\n",
            "  warnings.warn(msg, category=FutureWarning)\n"
          ]
        }
      ]
    },
    {
      "cell_type": "code",
      "source": [
        "import scipy.cluster.hierarchy as sch\n",
        "X = cv.fit_transform(documents_clean).todense()\n",
        "dendrogram = sch.dendrogram(sch.linkage(X, method = 'ward',metric='euclidean'),orientation=\"top\")\n",
        "plt.title('Dendrogram')\n",
        "plt.xlabel('Jarak Ward')\n",
        "plt.ylabel('Nomor Dokumen')\n",
        "plt.show()"
      ],
      "metadata": {
        "id": "R50vpCyU61CZ",
        "outputId": "ffa70e11-df7d-45ad-dee1-dd3231075972",
        "colab": {
          "base_uri": "https://localhost:8080/",
          "height": 298
        }
      },
      "execution_count": 46,
      "outputs": [
        {
          "output_type": "display_data",
          "data": {
            "text/plain": [
              "<Figure size 432x288 with 1 Axes>"
            ],
            "image/png": "[encoded data removed]"
          },
          "metadata": {
            "needs_background": "light"
          }
        }
      ]
    },
    {
      "cell_type": "code",
      "source": [
        "import scipy.cluster.hierarchy as sch\n",
        "X = cv.fit_transform(documents_clean).todense()\n",
        "dendrogram = sch.dendrogram(sch.linkage(X, method = 'average',metric='euclidean'),orientation=\"right\")\n",
        "plt.title('Dendrogram')\n",
        "plt.xlabel('Jarak Rerata')\n",
        "plt.ylabel('Nomor Dokumen')\n",
        "plt.show()"
      ],
      "metadata": {
        "id": "6I9AaZtI7B3s",
        "outputId": "ab12be7f-aef3-4014-fa54-671446db2971",
        "colab": {
          "base_uri": "https://localhost:8080/",
          "height": 295
        }
      },
      "execution_count": 47,
      "outputs": [
        {
          "output_type": "display_data",
          "data": {
            "text/plain": [
              "<Figure size 432x288 with 1 Axes>"
            ],
            "image/png": "[encoded data removed]"
          },
          "metadata": {
            "needs_background": "light"
          }
        }
      ]
    },
    {
      "cell_type": "markdown",
      "source": [
        "https://www.freecodecamp.org/news/python-web-scraping-tutorial/\n",
        "https://medium.com/dataseries/how-to-scrape-millions-of-tweets-using-snscrape-195ee3594721"
      ],
      "metadata": {
        "id": "gnHGGgt2M-ia"
      }
    }
  ]
}