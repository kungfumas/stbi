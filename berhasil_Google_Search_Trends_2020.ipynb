{
  "nbformat": 4,
  "nbformat_minor": 0,
  "metadata": {
    "colab": {
      "name": "berhasil Google Search Trends 2020.ipynb",
      "provenance": [],
      "collapsed_sections": [
        "21i3lFp9Gl48",
        "JDhW5doxnkrs"
      ],
      "include_colab_link": true
    },
    "kernelspec": {
      "name": "python3",
      "display_name": "Python 3"
    }
  },
  "cells": [
    {
      "cell_type": "markdown",
      "metadata": {
        "id": "view-in-github",
        "colab_type": "text"
      },
      "source": [
        "<a href=\"https://colab.research.google.com/github/kungfumas/stbi/blob/master/berhasil_Google_Search_Trends_2020.ipynb\" target=\"_parent\"><img src=\"https://colab.research.google.com/assets/colab-badge.svg\" alt=\"Open In Colab\"/></a>"
      ]
    },
    {
      "cell_type": "markdown",
      "metadata": {
        "id": "21i3lFp9Gl48"
      },
      "source": [
        "# Import and Set Up"
      ]
    },
    {
      "cell_type": "code",
      "metadata": {
        "id": "TQbB67Urhz8m"
      },
      "source": [
        "import pandas as pd\n",
        "import matplotlib.pyplot as plt\n",
        "import seaborn as sns\n",
        "import numpy as np"
      ],
      "execution_count": 1,
      "outputs": []
    },
    {
      "cell_type": "code",
      "metadata": {
        "id": "xYfHS40Kl1Tl"
      },
      "source": [
        "import datetime"
      ],
      "execution_count": 2,
      "outputs": []
    },
    {
      "cell_type": "code",
      "metadata": {
        "colab": {
          "base_uri": "https://localhost:8080/"
        },
        "id": "VCIOGdD1Gk-8",
        "outputId": "67bdde33-ad96-447f-b2ff-d200bd707c71"
      },
      "source": [
        "!pip install pytrends"
      ],
      "execution_count": 3,
      "outputs": [
        {
          "output_type": "stream",
          "name": "stdout",
          "text": [
            "Collecting pytrends\n",
            "  Downloading pytrends-4.7.3-py3-none-any.whl (14 kB)\n",
            "Requirement already satisfied: lxml in /usr/local/lib/python3.7/dist-packages (from pytrends) (4.2.6)\n",
            "Requirement already satisfied: pandas>=0.25 in /usr/local/lib/python3.7/dist-packages (from pytrends) (1.1.5)\n",
            "Requirement already satisfied: requests in /usr/local/lib/python3.7/dist-packages (from pytrends) (2.23.0)\n",
            "Requirement already satisfied: python-dateutil>=2.7.3 in /usr/local/lib/python3.7/dist-packages (from pandas>=0.25->pytrends) (2.8.2)\n",
            "Requirement already satisfied: pytz>=2017.2 in /usr/local/lib/python3.7/dist-packages (from pandas>=0.25->pytrends) (2018.9)\n",
            "Requirement already satisfied: numpy>=1.15.4 in /usr/local/lib/python3.7/dist-packages (from pandas>=0.25->pytrends) (1.19.5)\n",
            "Requirement already satisfied: six>=1.5 in /usr/local/lib/python3.7/dist-packages (from python-dateutil>=2.7.3->pandas>=0.25->pytrends) (1.15.0)\n",
            "Requirement already satisfied: certifi>=2017.4.17 in /usr/local/lib/python3.7/dist-packages (from requests->pytrends) (2021.10.8)\n",
            "Requirement already satisfied: idna<3,>=2.5 in /usr/local/lib/python3.7/dist-packages (from requests->pytrends) (2.10)\n",
            "Requirement already satisfied: urllib3!=1.25.0,!=1.25.1,<1.26,>=1.21.1 in /usr/local/lib/python3.7/dist-packages (from requests->pytrends) (1.24.3)\n",
            "Requirement already satisfied: chardet<4,>=3.0.2 in /usr/local/lib/python3.7/dist-packages (from requests->pytrends) (3.0.4)\n",
            "Installing collected packages: pytrends\n",
            "Successfully installed pytrends-4.7.3\n"
          ]
        }
      ]
    },
    {
      "cell_type": "code",
      "metadata": {
        "id": "FQBYsHZG3y_D"
      },
      "source": [
        "import pandas as pd                        \n",
        "from pytrends.request import TrendReq\n",
        "pytrend = TrendReq(hl='en-US', tz=300, geo='ID')"
      ],
      "execution_count": 4,
      "outputs": []
    },
    {
      "cell_type": "markdown",
      "metadata": {
        "id": "Evwo92g-HSYv"
      },
      "source": [
        "# Top charts"
      ]
    },
    {
      "cell_type": "code",
      "metadata": {
        "colab": {
          "base_uri": "https://localhost:8080/",
          "height": 363
        },
        "id": "vvibzwxKHUTX",
        "outputId": "4f68b76d-5a1a-4f53-ec42-2895082b833f"
      },
      "source": [
        "# Get Google Top Charts\n",
        "df = pytrend.top_charts(date=2020, hl='en-US', tz=300, geo='ID')\n",
        "df"
      ],
      "execution_count": 5,
      "outputs": [
        {
          "output_type": "execute_result",
          "data": {
            "text/html": [
              "<div>\n",
              "<style scoped>\n",
              "    .dataframe tbody tr th:only-of-type {\n",
              "        vertical-align: middle;\n",
              "    }\n",
              "\n",
              "    .dataframe tbody tr th {\n",
              "        vertical-align: top;\n",
              "    }\n",
              "\n",
              "    .dataframe thead th {\n",
              "        text-align: right;\n",
              "    }\n",
              "</style>\n",
              "<table border=\"1\" class=\"dataframe\">\n",
              "  <thead>\n",
              "    <tr style=\"text-align: right;\">\n",
              "      <th></th>\n",
              "      <th>title</th>\n",
              "      <th>exploreQuery</th>\n",
              "    </tr>\n",
              "  </thead>\n",
              "  <tbody>\n",
              "    <tr>\n",
              "      <th>0</th>\n",
              "      <td>Ghosting</td>\n",
              "      <td></td>\n",
              "    </tr>\n",
              "    <tr>\n",
              "      <th>1</th>\n",
              "      <td>Gabut</td>\n",
              "      <td></td>\n",
              "    </tr>\n",
              "    <tr>\n",
              "      <th>2</th>\n",
              "      <td>Lockdown</td>\n",
              "      <td></td>\n",
              "    </tr>\n",
              "    <tr>\n",
              "      <th>3</th>\n",
              "      <td>Rebahan</td>\n",
              "      <td></td>\n",
              "    </tr>\n",
              "    <tr>\n",
              "      <th>4</th>\n",
              "      <td>WFH</td>\n",
              "      <td></td>\n",
              "    </tr>\n",
              "    <tr>\n",
              "      <th>5</th>\n",
              "      <td>Resesi</td>\n",
              "      <td></td>\n",
              "    </tr>\n",
              "    <tr>\n",
              "      <th>6</th>\n",
              "      <td>Kuota Belajar</td>\n",
              "      <td></td>\n",
              "    </tr>\n",
              "    <tr>\n",
              "      <th>7</th>\n",
              "      <td>Virus Corona</td>\n",
              "      <td></td>\n",
              "    </tr>\n",
              "    <tr>\n",
              "      <th>8</th>\n",
              "      <td>PSBB</td>\n",
              "      <td></td>\n",
              "    </tr>\n",
              "    <tr>\n",
              "      <th>9</th>\n",
              "      <td>Among Us</td>\n",
              "      <td></td>\n",
              "    </tr>\n",
              "  </tbody>\n",
              "</table>\n",
              "</div>"
            ],
            "text/plain": [
              "           title exploreQuery\n",
              "0       Ghosting             \n",
              "1          Gabut             \n",
              "2       Lockdown             \n",
              "3        Rebahan             \n",
              "4            WFH             \n",
              "5         Resesi             \n",
              "6  Kuota Belajar             \n",
              "7   Virus Corona             \n",
              "8           PSBB             \n",
              "9       Among Us             "
            ]
          },
          "metadata": {},
          "execution_count": 5
        }
      ]
    },
    {
      "cell_type": "code",
      "metadata": {
        "colab": {
          "base_uri": "https://localhost:8080/",
          "height": 676
        },
        "id": "28GcUC-OTXOJ",
        "outputId": "acfe757b-08b1-4826-e178-057725f79024"
      },
      "source": [
        "# Get Google Hot Trends data\n",
        "df = pytrend.trending_searches(pn='indonesia')\n",
        "df"
      ],
      "execution_count": 6,
      "outputs": [
        {
          "output_type": "execute_result",
          "data": {
            "text/html": [
              "<div>\n",
              "<style scoped>\n",
              "    .dataframe tbody tr th:only-of-type {\n",
              "        vertical-align: middle;\n",
              "    }\n",
              "\n",
              "    .dataframe tbody tr th {\n",
              "        vertical-align: top;\n",
              "    }\n",
              "\n",
              "    .dataframe thead th {\n",
              "        text-align: right;\n",
              "    }\n",
              "</style>\n",
              "<table border=\"1\" class=\"dataframe\">\n",
              "  <thead>\n",
              "    <tr style=\"text-align: right;\">\n",
              "      <th></th>\n",
              "      <th>0</th>\n",
              "    </tr>\n",
              "  </thead>\n",
              "  <tbody>\n",
              "    <tr>\n",
              "      <th>0</th>\n",
              "      <td>Klasemen Liga Inggris</td>\n",
              "    </tr>\n",
              "    <tr>\n",
              "      <th>1</th>\n",
              "      <td>Gedung Cyber kebakaran</td>\n",
              "    </tr>\n",
              "    <tr>\n",
              "      <th>2</th>\n",
              "      <td>Bologna vs Roma</td>\n",
              "    </tr>\n",
              "    <tr>\n",
              "      <th>3</th>\n",
              "      <td>Sassuolo vs Napoli</td>\n",
              "    </tr>\n",
              "    <tr>\n",
              "      <th>4</th>\n",
              "      <td>EPL</td>\n",
              "    </tr>\n",
              "    <tr>\n",
              "      <th>5</th>\n",
              "      <td>Persipura Jayapura vs Bhayangkara FC</td>\n",
              "    </tr>\n",
              "    <tr>\n",
              "      <th>6</th>\n",
              "      <td>West Ham vs Brighton</td>\n",
              "    </tr>\n",
              "    <tr>\n",
              "      <th>7</th>\n",
              "      <td>Southampton vs Leicester</td>\n",
              "    </tr>\n",
              "    <tr>\n",
              "      <th>8</th>\n",
              "      <td>Sscasn.bkn.go.id 2021</td>\n",
              "    </tr>\n",
              "    <tr>\n",
              "      <th>9</th>\n",
              "      <td>Bibit</td>\n",
              "    </tr>\n",
              "    <tr>\n",
              "      <th>10</th>\n",
              "      <td>Yein Lovelyz</td>\n",
              "    </tr>\n",
              "    <tr>\n",
              "      <th>11</th>\n",
              "      <td>Shooting</td>\n",
              "    </tr>\n",
              "    <tr>\n",
              "      <th>12</th>\n",
              "      <td>Raditya Dika</td>\n",
              "    </tr>\n",
              "    <tr>\n",
              "      <th>13</th>\n",
              "      <td>Fadel Muhammad</td>\n",
              "    </tr>\n",
              "    <tr>\n",
              "      <th>14</th>\n",
              "      <td>Genoa Vs Milan</td>\n",
              "    </tr>\n",
              "    <tr>\n",
              "      <th>15</th>\n",
              "      <td>Watford vs Chelsea</td>\n",
              "    </tr>\n",
              "    <tr>\n",
              "      <th>16</th>\n",
              "      <td>Salernitana vs Juventus</td>\n",
              "    </tr>\n",
              "    <tr>\n",
              "      <th>17</th>\n",
              "      <td>Madrid vs Bilbao</td>\n",
              "    </tr>\n",
              "    <tr>\n",
              "      <th>18</th>\n",
              "      <td>Spotify Wrapped 2021</td>\n",
              "    </tr>\n",
              "    <tr>\n",
              "      <th>19</th>\n",
              "      <td>Reuni 212</td>\n",
              "    </tr>\n",
              "  </tbody>\n",
              "</table>\n",
              "</div>"
            ],
            "text/plain": [
              "                                       0\n",
              "0                  Klasemen Liga Inggris\n",
              "1                 Gedung Cyber kebakaran\n",
              "2                        Bologna vs Roma\n",
              "3                     Sassuolo vs Napoli\n",
              "4                                    EPL\n",
              "5   Persipura Jayapura vs Bhayangkara FC\n",
              "6                   West Ham vs Brighton\n",
              "7               Southampton vs Leicester\n",
              "8                  Sscasn.bkn.go.id 2021\n",
              "9                                  Bibit\n",
              "10                          Yein Lovelyz\n",
              "11                              Shooting\n",
              "12                          Raditya Dika\n",
              "13                        Fadel Muhammad\n",
              "14                        Genoa Vs Milan\n",
              "15                    Watford vs Chelsea\n",
              "16               Salernitana vs Juventus\n",
              "17                      Madrid vs Bilbao\n",
              "18                  Spotify Wrapped 2021\n",
              "19                             Reuni 212"
            ]
          },
          "metadata": {},
          "execution_count": 6
        }
      ]
    },
    {
      "cell_type": "markdown",
      "metadata": {
        "id": "FPKHcGYpTlS9"
      },
      "source": [
        "# Deepdive Top Searches"
      ]
    },
    {
      "cell_type": "code",
      "metadata": {
        "id": "GNdqvZs2Tpjq"
      },
      "source": [
        "kw_list = ['ghosting','gabut','lockdown','rebahan','wfh','resesi','kuota belajar','virus corona','psbb','among us']"
      ],
      "execution_count": 7,
      "outputs": []
    },
    {
      "cell_type": "code",
      "metadata": {
        "id": "lzVe4Y_bUtL1",
        "colab": {
          "base_uri": "https://localhost:8080/",
          "height": 423
        },
        "outputId": "167a237b-3845-4160-d25e-446865bbc4f8"
      },
      "source": [
        "trends_df = pd.DataFrame()\n",
        "for i in kw_list:\n",
        "   ##build out query\n",
        "   temp_df = pd.DataFrame()\n",
        "   pytrend.build_payload([i], geo='ID', cat=0,timeframe='2020-01-01 2020-12-01')\n",
        "   \n",
        "   ##save trend to dictionary\n",
        "   temp_df = pytrend.interest_over_time()\n",
        "   temp_df['kw'] = i\n",
        "   temp_df.reset_index(level=0, inplace=True)\n",
        "   temp_df.columns = ['date', 'value', 'isPartial', 'kw']\n",
        "\n",
        "   trends_df = pd.concat([trends_df,temp_df[['date','value','kw']]])\n",
        "\n",
        "trends_df"
      ],
      "execution_count": 8,
      "outputs": [
        {
          "output_type": "execute_result",
          "data": {
            "text/html": [
              "<div>\n",
              "<style scoped>\n",
              "    .dataframe tbody tr th:only-of-type {\n",
              "        vertical-align: middle;\n",
              "    }\n",
              "\n",
              "    .dataframe tbody tr th {\n",
              "        vertical-align: top;\n",
              "    }\n",
              "\n",
              "    .dataframe thead th {\n",
              "        text-align: right;\n",
              "    }\n",
              "</style>\n",
              "<table border=\"1\" class=\"dataframe\">\n",
              "  <thead>\n",
              "    <tr style=\"text-align: right;\">\n",
              "      <th></th>\n",
              "      <th>date</th>\n",
              "      <th>value</th>\n",
              "      <th>kw</th>\n",
              "    </tr>\n",
              "  </thead>\n",
              "  <tbody>\n",
              "    <tr>\n",
              "      <th>0</th>\n",
              "      <td>2020-01-05</td>\n",
              "      <td>7</td>\n",
              "      <td>ghosting</td>\n",
              "    </tr>\n",
              "    <tr>\n",
              "      <th>1</th>\n",
              "      <td>2020-01-12</td>\n",
              "      <td>10</td>\n",
              "      <td>ghosting</td>\n",
              "    </tr>\n",
              "    <tr>\n",
              "      <th>2</th>\n",
              "      <td>2020-01-19</td>\n",
              "      <td>3</td>\n",
              "      <td>ghosting</td>\n",
              "    </tr>\n",
              "    <tr>\n",
              "      <th>3</th>\n",
              "      <td>2020-01-26</td>\n",
              "      <td>7</td>\n",
              "      <td>ghosting</td>\n",
              "    </tr>\n",
              "    <tr>\n",
              "      <th>4</th>\n",
              "      <td>2020-02-02</td>\n",
              "      <td>24</td>\n",
              "      <td>ghosting</td>\n",
              "    </tr>\n",
              "    <tr>\n",
              "      <th>...</th>\n",
              "      <td>...</td>\n",
              "      <td>...</td>\n",
              "      <td>...</td>\n",
              "    </tr>\n",
              "    <tr>\n",
              "      <th>43</th>\n",
              "      <td>2020-11-01</td>\n",
              "      <td>39</td>\n",
              "      <td>among us</td>\n",
              "    </tr>\n",
              "    <tr>\n",
              "      <th>44</th>\n",
              "      <td>2020-11-08</td>\n",
              "      <td>33</td>\n",
              "      <td>among us</td>\n",
              "    </tr>\n",
              "    <tr>\n",
              "      <th>45</th>\n",
              "      <td>2020-11-15</td>\n",
              "      <td>29</td>\n",
              "      <td>among us</td>\n",
              "    </tr>\n",
              "    <tr>\n",
              "      <th>46</th>\n",
              "      <td>2020-11-22</td>\n",
              "      <td>25</td>\n",
              "      <td>among us</td>\n",
              "    </tr>\n",
              "    <tr>\n",
              "      <th>47</th>\n",
              "      <td>2020-11-29</td>\n",
              "      <td>20</td>\n",
              "      <td>among us</td>\n",
              "    </tr>\n",
              "  </tbody>\n",
              "</table>\n",
              "<p>480 rows × 3 columns</p>\n",
              "</div>"
            ],
            "text/plain": [
              "         date  value        kw\n",
              "0  2020-01-05      7  ghosting\n",
              "1  2020-01-12     10  ghosting\n",
              "2  2020-01-19      3  ghosting\n",
              "3  2020-01-26      7  ghosting\n",
              "4  2020-02-02     24  ghosting\n",
              "..        ...    ...       ...\n",
              "43 2020-11-01     39  among us\n",
              "44 2020-11-08     33  among us\n",
              "45 2020-11-15     29  among us\n",
              "46 2020-11-22     25  among us\n",
              "47 2020-11-29     20  among us\n",
              "\n",
              "[480 rows x 3 columns]"
            ]
          },
          "metadata": {},
          "execution_count": 8
        }
      ]
    },
    {
      "cell_type": "code",
      "metadata": {
        "id": "mh-LeOAolnpC"
      },
      "source": [
        "trends_df['date'] = pd.to_datetime(trends_df.date,format='%Y-%m-%d')"
      ],
      "execution_count": 9,
      "outputs": []
    },
    {
      "cell_type": "code",
      "metadata": {
        "id": "FosVGVTj8Gec"
      },
      "source": [
        "trends_df = trends_df.reset_index(drop=True)"
      ],
      "execution_count": 10,
      "outputs": []
    },
    {
      "cell_type": "code",
      "metadata": {
        "id": "euaMw_2cmD_b"
      },
      "source": [
        "def func(row):\n",
        "    if row['kw'] == 'gabut':\n",
        "        return 'gabut, rebahan'\n",
        "    elif row['kw'] =='rebahan':\n",
        "        return 'gabut, rebahan' \n",
        "    elif row['kw'] =='psbb':\n",
        "        return 'psbb, lockdown' \n",
        "    elif row['kw'] =='lockdown':\n",
        "        return 'psbb, lockdown' \n",
        "    else:\n",
        "        return row['kw']\n",
        "\n",
        "trends_df['group'] = trends_df.apply(func, axis=1)"
      ],
      "execution_count": 11,
      "outputs": []
    },
    {
      "cell_type": "code",
      "metadata": {
        "id": "dRXRnukA8n-k"
      },
      "source": [
        "trends_df = trends_df.reset_index(drop=True)"
      ],
      "execution_count": 12,
      "outputs": []
    },
    {
      "cell_type": "code",
      "metadata": {
        "id": "QCJSQbAz6bd2",
        "colab": {
          "base_uri": "https://localhost:8080/"
        },
        "outputId": "55c1f081-5c84-4ff2-888b-894c01c04437"
      },
      "source": [
        "trends_df.columns.duplicated().any()"
      ],
      "execution_count": 13,
      "outputs": [
        {
          "output_type": "execute_result",
          "data": {
            "text/plain": [
              "False"
            ]
          },
          "metadata": {},
          "execution_count": 13
        }
      ]
    },
    {
      "cell_type": "code",
      "metadata": {
        "id": "t7SWWVUT6udJ",
        "colab": {
          "base_uri": "https://localhost:8080/"
        },
        "outputId": "e93459c0-b8bc-42c4-e1e4-f03ec2a9fc26"
      },
      "source": [
        "trends_df.index.duplicated()"
      ],
      "execution_count": 14,
      "outputs": [
        {
          "output_type": "execute_result",
          "data": {
            "text/plain": [
              "array([False, False, False, False, False, False, False, False, False,\n",
              "       False, False, False, False, False, False, False, False, False,\n",
              "       False, False, False, False, False, False, False, False, False,\n",
              "       False, False, False, False, False, False, False, False, False,\n",
              "       False, False, False, False, False, False, False, False, False,\n",
              "       False, False, False, False, False, False, False, False, False,\n",
              "       False, False, False, False, False, False, False, False, False,\n",
              "       False, False, False, False, False, False, False, False, False,\n",
              "       False, False, False, False, False, False, False, False, False,\n",
              "       False, False, False, False, False, False, False, False, False,\n",
              "       False, False, False, False, False, False, False, False, False,\n",
              "       False, False, False, False, False, False, False, False, False,\n",
              "       False, False, False, False, False, False, False, False, False,\n",
              "       False, False, False, False, False, False, False, False, False,\n",
              "       False, False, False, False, False, False, False, False, False,\n",
              "       False, False, False, False, False, False, False, False, False,\n",
              "       False, False, False, False, False, False, False, False, False,\n",
              "       False, False, False, False, False, False, False, False, False,\n",
              "       False, False, False, False, False, False, False, False, False,\n",
              "       False, False, False, False, False, False, False, False, False,\n",
              "       False, False, False, False, False, False, False, False, False,\n",
              "       False, False, False, False, False, False, False, False, False,\n",
              "       False, False, False, False, False, False, False, False, False,\n",
              "       False, False, False, False, False, False, False, False, False,\n",
              "       False, False, False, False, False, False, False, False, False,\n",
              "       False, False, False, False, False, False, False, False, False,\n",
              "       False, False, False, False, False, False, False, False, False,\n",
              "       False, False, False, False, False, False, False, False, False,\n",
              "       False, False, False, False, False, False, False, False, False,\n",
              "       False, False, False, False, False, False, False, False, False,\n",
              "       False, False, False, False, False, False, False, False, False,\n",
              "       False, False, False, False, False, False, False, False, False,\n",
              "       False, False, False, False, False, False, False, False, False,\n",
              "       False, False, False, False, False, False, False, False, False,\n",
              "       False, False, False, False, False, False, False, False, False,\n",
              "       False, False, False, False, False, False, False, False, False,\n",
              "       False, False, False, False, False, False, False, False, False,\n",
              "       False, False, False, False, False, False, False, False, False,\n",
              "       False, False, False, False, False, False, False, False, False,\n",
              "       False, False, False, False, False, False, False, False, False,\n",
              "       False, False, False, False, False, False, False, False, False,\n",
              "       False, False, False, False, False, False, False, False, False,\n",
              "       False, False, False, False, False, False, False, False, False,\n",
              "       False, False, False, False, False, False, False, False, False,\n",
              "       False, False, False, False, False, False, False, False, False,\n",
              "       False, False, False, False, False, False, False, False, False,\n",
              "       False, False, False, False, False, False, False, False, False,\n",
              "       False, False, False, False, False, False, False, False, False,\n",
              "       False, False, False, False, False, False, False, False, False,\n",
              "       False, False, False, False, False, False, False, False, False,\n",
              "       False, False, False, False, False, False, False, False, False,\n",
              "       False, False, False, False, False, False, False, False, False,\n",
              "       False, False, False, False, False, False, False, False, False,\n",
              "       False, False, False])"
            ]
          },
          "metadata": {},
          "execution_count": 14
        }
      ]
    },
    {
      "cell_type": "code",
      "metadata": {
        "colab": {
          "base_uri": "https://localhost:8080/",
          "height": 442
        },
        "id": "U9lj1jfihWSF",
        "outputId": "1cc41048-e945-443e-c191-b94e52bc7f73"
      },
      "source": [
        "# create plot\n",
        "\n",
        "f, ax = plt.subplots(figsize=(20, 6))\n",
        "\n",
        "sns.set_color_codes(\"pastel\")\n",
        "sns.lineplot(x=\"date\", y=\"value\", data=trends_df.sort_values(\"date\", ascending=True), hue=\"group\",color=\"b\")\n",
        "\n",
        "plt.xlabel('Date')\n",
        "plt.ylabel('Trend Score')\n",
        "plt.xticks(rotation=30)\n",
        "plt.title('Trend Score by Keyword')"
      ],
      "execution_count": 15,
      "outputs": [
        {
          "output_type": "execute_result",
          "data": {
            "text/plain": [
              "Text(0.5, 1.0, 'Trend Score by Keyword')"
            ]
          },
          "metadata": {},
          "execution_count": 15
        },
        {
          "output_type": "display_data",
          "data": {
            "image/png": "[encoded data removed]",
            "text/plain": [
              "<Figure size 1440x432 with 1 Axes>"
            ]
          },
          "metadata": {
            "needs_background": "light"
          }
        }
      ]
    },
    {
      "cell_type": "markdown",
      "metadata": {
        "id": "wLr_UFWkvKMO"
      },
      "source": [
        "# Covid deepdive"
      ]
    },
    {
      "cell_type": "markdown",
      "metadata": {
        "id": "XeP8ucuYTAgc"
      },
      "source": [
        "## Search by Region"
      ]
    },
    {
      "cell_type": "markdown",
      "metadata": {
        "id": "JDhW5doxnkrs"
      },
      "source": [
        "### Exploration"
      ]
    },
    {
      "cell_type": "code",
      "metadata": {
        "colab": {
          "base_uri": "https://localhost:8080/",
          "height": 0
        },
        "id": "iyM1ThUTOUxl",
        "outputId": "2d6fa560-9ed3-47ea-ab33-f8273f3d14f6"
      },
      "source": [
        "kw_list = ['ghosting','gabut','lockdown','rebahan','wfh','resesi','kuota belajar','virus corona','psbb','among us']\n",
        "\n",
        "city_df = pd.DataFrame()\n",
        "for i in kw_list:\n",
        "   ##build out query\n",
        "   temp_df = pd.DataFrame()\n",
        "   pytrend.build_payload([i], geo='ID', cat=0,timeframe='2020-01-01 2020-12-01')\n",
        "   \n",
        "   ##save trend to dictionary\n",
        "   temp_df = pytrend.interest_by_region(resolution='CITY', inc_low_vol=True, inc_geo_code=False)\n",
        "   temp_df['kw'] = i\n",
        "   temp_df.reset_index(level=0, inplace=True)\n",
        "   temp_df.columns = ['geoname', 'value', 'kw']\n",
        "\n",
        "   city_df = pd.concat([city_df,temp_df[['geoname','value','kw']]])\n",
        "\n",
        "city_df"
      ],
      "execution_count": 16,
      "outputs": [
        {
          "output_type": "execute_result",
          "data": {
            "text/html": [
              "<div>\n",
              "<style scoped>\n",
              "    .dataframe tbody tr th:only-of-type {\n",
              "        vertical-align: middle;\n",
              "    }\n",
              "\n",
              "    .dataframe tbody tr th {\n",
              "        vertical-align: top;\n",
              "    }\n",
              "\n",
              "    .dataframe thead th {\n",
              "        text-align: right;\n",
              "    }\n",
              "</style>\n",
              "<table border=\"1\" class=\"dataframe\">\n",
              "  <thead>\n",
              "    <tr style=\"text-align: right;\">\n",
              "      <th></th>\n",
              "      <th>geoname</th>\n",
              "      <th>value</th>\n",
              "      <th>kw</th>\n",
              "    </tr>\n",
              "  </thead>\n",
              "  <tbody>\n",
              "    <tr>\n",
              "      <th>0</th>\n",
              "      <td>Aceh</td>\n",
              "      <td>64</td>\n",
              "      <td>ghosting</td>\n",
              "    </tr>\n",
              "    <tr>\n",
              "      <th>1</th>\n",
              "      <td>Bali</td>\n",
              "      <td>46</td>\n",
              "      <td>ghosting</td>\n",
              "    </tr>\n",
              "    <tr>\n",
              "      <th>2</th>\n",
              "      <td>Bangka Belitung Islands</td>\n",
              "      <td>78</td>\n",
              "      <td>ghosting</td>\n",
              "    </tr>\n",
              "    <tr>\n",
              "      <th>3</th>\n",
              "      <td>Banten</td>\n",
              "      <td>84</td>\n",
              "      <td>ghosting</td>\n",
              "    </tr>\n",
              "    <tr>\n",
              "      <th>4</th>\n",
              "      <td>Bengkulu</td>\n",
              "      <td>66</td>\n",
              "      <td>ghosting</td>\n",
              "    </tr>\n",
              "    <tr>\n",
              "      <th>...</th>\n",
              "      <td>...</td>\n",
              "      <td>...</td>\n",
              "      <td>...</td>\n",
              "    </tr>\n",
              "    <tr>\n",
              "      <th>29</th>\n",
              "      <td>West Kalimantan</td>\n",
              "      <td>91</td>\n",
              "      <td>among us</td>\n",
              "    </tr>\n",
              "    <tr>\n",
              "      <th>30</th>\n",
              "      <td>West Nusa Tenggara</td>\n",
              "      <td>52</td>\n",
              "      <td>among us</td>\n",
              "    </tr>\n",
              "    <tr>\n",
              "      <th>31</th>\n",
              "      <td>West Papua</td>\n",
              "      <td>39</td>\n",
              "      <td>among us</td>\n",
              "    </tr>\n",
              "    <tr>\n",
              "      <th>32</th>\n",
              "      <td>West Sulawesi</td>\n",
              "      <td>61</td>\n",
              "      <td>among us</td>\n",
              "    </tr>\n",
              "    <tr>\n",
              "      <th>33</th>\n",
              "      <td>West Sumatra</td>\n",
              "      <td>68</td>\n",
              "      <td>among us</td>\n",
              "    </tr>\n",
              "  </tbody>\n",
              "</table>\n",
              "<p>340 rows × 3 columns</p>\n",
              "</div>"
            ],
            "text/plain": [
              "                    geoname  value        kw\n",
              "0                      Aceh     64  ghosting\n",
              "1                      Bali     46  ghosting\n",
              "2   Bangka Belitung Islands     78  ghosting\n",
              "3                    Banten     84  ghosting\n",
              "4                  Bengkulu     66  ghosting\n",
              "..                      ...    ...       ...\n",
              "29          West Kalimantan     91  among us\n",
              "30       West Nusa Tenggara     52  among us\n",
              "31               West Papua     39  among us\n",
              "32            West Sulawesi     61  among us\n",
              "33             West Sumatra     68  among us\n",
              "\n",
              "[340 rows x 3 columns]"
            ]
          },
          "metadata": {},
          "execution_count": 16
        }
      ]
    },
    {
      "cell_type": "code",
      "metadata": {
        "colab": {
          "base_uri": "https://localhost:8080/"
        },
        "id": "Lp1ciDr-QEwd",
        "outputId": "aea04d11-22b9-4f7a-cf90-93d7f9741207"
      },
      "source": [
        "city_df.geoname.unique()"
      ],
      "execution_count": 17,
      "outputs": [
        {
          "output_type": "execute_result",
          "data": {
            "text/plain": [
              "array(['Aceh', 'Bali', 'Bangka Belitung Islands', 'Banten', 'Bengkulu',\n",
              "       'Central Java', 'Central Kalimantan', 'Central Sulawesi',\n",
              "       'East Java', 'East Kalimantan', 'East Nusa Tenggara', 'Gorontalo',\n",
              "       'Jambi', 'Lampung', 'Maluku', 'North Kalimantan', 'North Maluku',\n",
              "       'North Sulawesi', 'North Sumatra', 'Papua', 'Riau', 'Riau Islands',\n",
              "       'South East Sulawesi', 'South Kalimantan', 'South Sulawesi',\n",
              "       'South Sumatra', 'Special Capital Region of Jakarta',\n",
              "       'Special Region of Yogyakarta', 'West Java', 'West Kalimantan',\n",
              "       'West Nusa Tenggara', 'West Papua', 'West Sulawesi',\n",
              "       'West Sumatra'], dtype=object)"
            ]
          },
          "metadata": {},
          "execution_count": 17
        }
      ]
    },
    {
      "cell_type": "code",
      "metadata": {
        "colab": {
          "base_uri": "https://localhost:8080/",
          "height": 0
        },
        "id": "gsfNkisbPzUD",
        "outputId": "62989408-9c5c-4777-b8f3-9e82edfd5b35"
      },
      "source": [
        "def region_name(row):\n",
        "    if row['geoname'] == 'Special Capital Region of Jakarta':\n",
        "        return 'Jakarta'\n",
        "    elif row['geoname'] =='Banten' or row['geoname'] =='Central Java' or row['geoname'] =='East Java' or row['geoname'] =='West Java' or row['geoname'] =='Special Region of Yogyakarta':\n",
        "        return 'Java excl Jakarta' \n",
        "    elif row['geoname'] =='Aceh' or row['geoname'] =='Bangka Belitung Islands' or row['geoname'] =='Bengkulu' or row['geoname'] =='Jambi' or row['geoname'] =='Lampung' or row['geoname'] =='North Sumatra' or row['geoname'] =='Riau' or row['geoname'] =='Riau Islands' or row['geoname'] =='South Sumatra' or row['geoname'] =='West Sumatra':\n",
        "        return 'Sumatera' \n",
        "    elif row['geoname'] =='Central Sulawesi' or row['geoname'] =='Gorontalo' or row['geoname'] =='North Sulawesi' or row['geoname'] =='South East Sulawesi' or row['geoname'] =='South Sulawesi' or row['geoname'] =='West Sulawesi':\n",
        "        return 'Sulawesi' \n",
        "    elif row['geoname'] =='Central Kalimantan' or row['geoname'] =='East Kalimantan' or row['geoname'] =='North Kalimantan' or row['geoname'] =='South Kalimantan' or row['geoname'] =='West Kalimantan':\n",
        "        return 'Kalimantan'\n",
        "    elif row['geoname'] =='Bali' or row['geoname'] =='East Nusa Tenggara' or row['geoname'] =='Maluku' or row['geoname'] =='North Maluku' or row['geoname'] =='Papua' or row['geoname'] =='West Nusa Tenggara' or row['geoname'] =='West Papua':\n",
        "        return 'Nusa Tenggara & Papua'  \n",
        "    else:\n",
        "        return 'others'\n",
        "\n",
        "city_df['region'] = city_df.apply(region_name, axis=1)\n",
        "city_df"
      ],
      "execution_count": 18,
      "outputs": [
        {
          "output_type": "execute_result",
          "data": {
            "text/html": [
              "<div>\n",
              "<style scoped>\n",
              "    .dataframe tbody tr th:only-of-type {\n",
              "        vertical-align: middle;\n",
              "    }\n",
              "\n",
              "    .dataframe tbody tr th {\n",
              "        vertical-align: top;\n",
              "    }\n",
              "\n",
              "    .dataframe thead th {\n",
              "        text-align: right;\n",
              "    }\n",
              "</style>\n",
              "<table border=\"1\" class=\"dataframe\">\n",
              "  <thead>\n",
              "    <tr style=\"text-align: right;\">\n",
              "      <th></th>\n",
              "      <th>geoname</th>\n",
              "      <th>value</th>\n",
              "      <th>kw</th>\n",
              "      <th>region</th>\n",
              "    </tr>\n",
              "  </thead>\n",
              "  <tbody>\n",
              "    <tr>\n",
              "      <th>0</th>\n",
              "      <td>Aceh</td>\n",
              "      <td>64</td>\n",
              "      <td>ghosting</td>\n",
              "      <td>Sumatera</td>\n",
              "    </tr>\n",
              "    <tr>\n",
              "      <th>1</th>\n",
              "      <td>Bali</td>\n",
              "      <td>46</td>\n",
              "      <td>ghosting</td>\n",
              "      <td>Nusa Tenggara &amp; Papua</td>\n",
              "    </tr>\n",
              "    <tr>\n",
              "      <th>2</th>\n",
              "      <td>Bangka Belitung Islands</td>\n",
              "      <td>78</td>\n",
              "      <td>ghosting</td>\n",
              "      <td>Sumatera</td>\n",
              "    </tr>\n",
              "    <tr>\n",
              "      <th>3</th>\n",
              "      <td>Banten</td>\n",
              "      <td>84</td>\n",
              "      <td>ghosting</td>\n",
              "      <td>Java excl Jakarta</td>\n",
              "    </tr>\n",
              "    <tr>\n",
              "      <th>4</th>\n",
              "      <td>Bengkulu</td>\n",
              "      <td>66</td>\n",
              "      <td>ghosting</td>\n",
              "      <td>Sumatera</td>\n",
              "    </tr>\n",
              "    <tr>\n",
              "      <th>...</th>\n",
              "      <td>...</td>\n",
              "      <td>...</td>\n",
              "      <td>...</td>\n",
              "      <td>...</td>\n",
              "    </tr>\n",
              "    <tr>\n",
              "      <th>29</th>\n",
              "      <td>West Kalimantan</td>\n",
              "      <td>91</td>\n",
              "      <td>among us</td>\n",
              "      <td>Kalimantan</td>\n",
              "    </tr>\n",
              "    <tr>\n",
              "      <th>30</th>\n",
              "      <td>West Nusa Tenggara</td>\n",
              "      <td>52</td>\n",
              "      <td>among us</td>\n",
              "      <td>Nusa Tenggara &amp; Papua</td>\n",
              "    </tr>\n",
              "    <tr>\n",
              "      <th>31</th>\n",
              "      <td>West Papua</td>\n",
              "      <td>39</td>\n",
              "      <td>among us</td>\n",
              "      <td>Nusa Tenggara &amp; Papua</td>\n",
              "    </tr>\n",
              "    <tr>\n",
              "      <th>32</th>\n",
              "      <td>West Sulawesi</td>\n",
              "      <td>61</td>\n",
              "      <td>among us</td>\n",
              "      <td>Sulawesi</td>\n",
              "    </tr>\n",
              "    <tr>\n",
              "      <th>33</th>\n",
              "      <td>West Sumatra</td>\n",
              "      <td>68</td>\n",
              "      <td>among us</td>\n",
              "      <td>Sumatera</td>\n",
              "    </tr>\n",
              "  </tbody>\n",
              "</table>\n",
              "<p>340 rows × 4 columns</p>\n",
              "</div>"
            ],
            "text/plain": [
              "                    geoname  value        kw                 region\n",
              "0                      Aceh     64  ghosting               Sumatera\n",
              "1                      Bali     46  ghosting  Nusa Tenggara & Papua\n",
              "2   Bangka Belitung Islands     78  ghosting               Sumatera\n",
              "3                    Banten     84  ghosting      Java excl Jakarta\n",
              "4                  Bengkulu     66  ghosting               Sumatera\n",
              "..                      ...    ...       ...                    ...\n",
              "29          West Kalimantan     91  among us             Kalimantan\n",
              "30       West Nusa Tenggara     52  among us  Nusa Tenggara & Papua\n",
              "31               West Papua     39  among us  Nusa Tenggara & Papua\n",
              "32            West Sulawesi     61  among us               Sulawesi\n",
              "33             West Sumatra     68  among us               Sumatera\n",
              "\n",
              "[340 rows x 4 columns]"
            ]
          },
          "metadata": {},
          "execution_count": 18
        }
      ]
    },
    {
      "cell_type": "code",
      "metadata": {
        "colab": {
          "base_uri": "https://localhost:8080/",
          "height": 0
        },
        "id": "oIg5H93bSbpX",
        "outputId": "68111aa0-8c93-463a-a161-bf7d10fa88f3"
      },
      "source": [
        "region_df = pd.DataFrame()\n",
        "region_df = city_df.groupby(['region','kw']).value.mean().reset_index()\n",
        "region_df.head()"
      ],
      "execution_count": 19,
      "outputs": [
        {
          "output_type": "execute_result",
          "data": {
            "text/html": [
              "<div>\n",
              "<style scoped>\n",
              "    .dataframe tbody tr th:only-of-type {\n",
              "        vertical-align: middle;\n",
              "    }\n",
              "\n",
              "    .dataframe tbody tr th {\n",
              "        vertical-align: top;\n",
              "    }\n",
              "\n",
              "    .dataframe thead th {\n",
              "        text-align: right;\n",
              "    }\n",
              "</style>\n",
              "<table border=\"1\" class=\"dataframe\">\n",
              "  <thead>\n",
              "    <tr style=\"text-align: right;\">\n",
              "      <th></th>\n",
              "      <th>region</th>\n",
              "      <th>kw</th>\n",
              "      <th>value</th>\n",
              "    </tr>\n",
              "  </thead>\n",
              "  <tbody>\n",
              "    <tr>\n",
              "      <th>0</th>\n",
              "      <td>Jakarta</td>\n",
              "      <td>among us</td>\n",
              "      <td>63.0</td>\n",
              "    </tr>\n",
              "    <tr>\n",
              "      <th>1</th>\n",
              "      <td>Jakarta</td>\n",
              "      <td>gabut</td>\n",
              "      <td>35.0</td>\n",
              "    </tr>\n",
              "    <tr>\n",
              "      <th>2</th>\n",
              "      <td>Jakarta</td>\n",
              "      <td>ghosting</td>\n",
              "      <td>59.0</td>\n",
              "    </tr>\n",
              "    <tr>\n",
              "      <th>3</th>\n",
              "      <td>Jakarta</td>\n",
              "      <td>kuota belajar</td>\n",
              "      <td>24.0</td>\n",
              "    </tr>\n",
              "    <tr>\n",
              "      <th>4</th>\n",
              "      <td>Jakarta</td>\n",
              "      <td>lockdown</td>\n",
              "      <td>100.0</td>\n",
              "    </tr>\n",
              "  </tbody>\n",
              "</table>\n",
              "</div>"
            ],
            "text/plain": [
              "    region             kw  value\n",
              "0  Jakarta       among us   63.0\n",
              "1  Jakarta          gabut   35.0\n",
              "2  Jakarta       ghosting   59.0\n",
              "3  Jakarta  kuota belajar   24.0\n",
              "4  Jakarta       lockdown  100.0"
            ]
          },
          "metadata": {},
          "execution_count": 19
        }
      ]
    },
    {
      "cell_type": "markdown",
      "metadata": {
        "id": "EzTGG84fnn9f"
      },
      "source": [
        "### Result"
      ]
    },
    {
      "cell_type": "code",
      "metadata": {
        "colab": {
          "base_uri": "https://localhost:8080/"
        },
        "id": "QQIITDqAS6n3",
        "outputId": "f0a96d23-fc10-45e1-e4f8-b8e8d2631b99"
      },
      "source": [
        "!pip install squarify"
      ],
      "execution_count": 20,
      "outputs": [
        {
          "output_type": "stream",
          "name": "stdout",
          "text": [
            "Collecting squarify\n",
            "  Downloading squarify-0.4.3-py3-none-any.whl (4.3 kB)\n",
            "Installing collected packages: squarify\n",
            "Successfully installed squarify-0.4.3\n"
          ]
        }
      ]
    },
    {
      "cell_type": "code",
      "metadata": {
        "colab": {
          "base_uri": "https://localhost:8080/",
          "height": 1000
        },
        "id": "xhJe2QGITJXp",
        "outputId": "879f080c-7e18-4e25-c08a-966083e09b0f"
      },
      "source": [
        "import matplotlib\n",
        "import squarify # pip install squarify\n",
        "\n",
        "for i in region_df.region.unique():\n",
        "  temp_city_df = region_df.loc[region_df['region'] == i]\n",
        "\n",
        "  # create a color palette, mapped to these values\n",
        "  cmap = matplotlib.cm.Blues\n",
        "  mini=min(temp_city_df['value'])\n",
        "  maxi=max(temp_city_df['value'])\n",
        "  norm = matplotlib.colors.Normalize(vmin=mini, vmax=maxi)\n",
        "  colors = [cmap(norm(value)) for value in temp_city_df['value']]\n",
        "\n",
        "  fig, ax = plt.subplots(1, figsize = (4,4))\n",
        "  squarify.plot(sizes=temp_city_df['value'], \n",
        "                label=temp_city_df['kw'], \n",
        "                alpha=.5,\n",
        "                color = colors)\n",
        "  plt.title(i)\n",
        "  plt.axis('off')\n",
        "  plt.show()"
      ],
      "execution_count": 21,
      "outputs": [
        {
          "output_type": "display_data",
          "data": {
            "image/png": "[encoded data removed]",
            "text/plain": [
              "<Figure size 288x288 with 1 Axes>"
            ]
          },
          "metadata": {
            "needs_background": "light"
          }
        },
        {
          "output_type": "display_data",
          "data": {
            "image/png": "[encoded data removed]",
            "text/plain": [
              "<Figure size 288x288 with 1 Axes>"
            ]
          },
          "metadata": {
            "needs_background": "light"
          }
        },
        {
          "output_type": "display_data",
          "data": {
            "image/png": "[encoded data removed]",
            "text/plain": [
              "<Figure size 288x288 with 1 Axes>"
            ]
          },
          "metadata": {
            "needs_background": "light"
          }
        },
        {
          "output_type": "display_data",
          "data": {
            "image/png": "[encoded data removed]",
            "text/plain": [
              "<Figure size 288x288 with 1 Axes>"
            ]
          },
          "metadata": {
            "needs_background": "light"
          }
        },
        {
          "output_type": "display_data",
          "data": {
            "image/png": "[encoded data removed]",
            "text/plain": [
              "<Figure size 288x288 with 1 Axes>"
            ]
          },
          "metadata": {
            "needs_background": "light"
          }
        },
        {
          "output_type": "display_data",
          "data": {
            "image/png": "[encoded data removed]",
            "text/plain": [
              "<Figure size 288x288 with 1 Axes>"
            ]
          },
          "metadata": {
            "needs_background": "light"
          }
        }
      ]
    },
    {
      "cell_type": "markdown",
      "metadata": {
        "id": "3rJiRt2UWWdm"
      },
      "source": [
        "## Related Queries and Topics"
      ]
    },
    {
      "cell_type": "markdown",
      "metadata": {
        "id": "Fgaj5HPkmqLy"
      },
      "source": [
        "### Exploration"
      ]
    },
    {
      "cell_type": "code",
      "metadata": {
        "id": "74ORh1xtfxTX",
        "colab": {
          "base_uri": "https://localhost:8080/",
          "height": 206
        },
        "outputId": "1efc3320-3b97-447c-f7fc-3af1ac6979a8"
      },
      "source": [
        "# Get Google Keyword Suggestions\n",
        "pytrend.build_payload(kw_list=['virus corona'], geo='ID', cat=0,timeframe='2020-01-01 2020-12-01')\n",
        "keywords = pytrend.suggestions(keyword='virus corona')\n",
        "df = pd.DataFrame(keywords)\n",
        "df.drop(columns= 'mid') "
      ],
      "execution_count": 22,
      "outputs": [
        {
          "output_type": "execute_result",
          "data": {
            "text/html": [
              "<div>\n",
              "<style scoped>\n",
              "    .dataframe tbody tr th:only-of-type {\n",
              "        vertical-align: middle;\n",
              "    }\n",
              "\n",
              "    .dataframe tbody tr th {\n",
              "        vertical-align: top;\n",
              "    }\n",
              "\n",
              "    .dataframe thead th {\n",
              "        text-align: right;\n",
              "    }\n",
              "</style>\n",
              "<table border=\"1\" class=\"dataframe\">\n",
              "  <thead>\n",
              "    <tr style=\"text-align: right;\">\n",
              "      <th></th>\n",
              "      <th>title</th>\n",
              "      <th>type</th>\n",
              "    </tr>\n",
              "  </thead>\n",
              "  <tbody>\n",
              "    <tr>\n",
              "      <th>0</th>\n",
              "      <td>Coronavirus disease 2019</td>\n",
              "      <td>Disease</td>\n",
              "    </tr>\n",
              "    <tr>\n",
              "      <th>1</th>\n",
              "      <td>Coronavirus</td>\n",
              "      <td>Virus</td>\n",
              "    </tr>\n",
              "    <tr>\n",
              "      <th>2</th>\n",
              "      <td>Severe acute respiratory syndrome coronavirus 2</td>\n",
              "      <td>Virus</td>\n",
              "    </tr>\n",
              "    <tr>\n",
              "      <th>3</th>\n",
              "      <td>2020 coronavirus pandemic in Singapore</td>\n",
              "      <td>Event</td>\n",
              "    </tr>\n",
              "    <tr>\n",
              "      <th>4</th>\n",
              "      <td>Severe acute respiratory syndrome coronavirus</td>\n",
              "      <td>Virus</td>\n",
              "    </tr>\n",
              "  </tbody>\n",
              "</table>\n",
              "</div>"
            ],
            "text/plain": [
              "                                             title     type\n",
              "0                         Coronavirus disease 2019  Disease\n",
              "1                                      Coronavirus    Virus\n",
              "2  Severe acute respiratory syndrome coronavirus 2    Virus\n",
              "3           2020 coronavirus pandemic in Singapore    Event\n",
              "4    Severe acute respiratory syndrome coronavirus    Virus"
            ]
          },
          "metadata": {},
          "execution_count": 22
        }
      ]
    },
    {
      "cell_type": "code",
      "metadata": {
        "id": "voMJ9DdgWtRs",
        "colab": {
          "base_uri": "https://localhost:8080/",
          "height": 1000
        },
        "outputId": "2ef97786-0382-4f5d-fe6e-930aafc35e84"
      },
      "source": [
        "kw_list = ['ghosting','gabut','lockdown','rebahan','wfh','resesi','kuota belajar','virus corona','psbb','among us']\n",
        "\n",
        "suggestion = pd.DataFrame()\n",
        "for i in kw_list:\n",
        "   ##build out query\n",
        "   pytrend.build_payload([i], geo='ID', cat=0,timeframe='2020-01-01 2020-12-01')\n",
        "   \n",
        "   ##save trend to dictionary\n",
        "   temp_df = pd.DataFrame(pytrend.suggestions(keyword=i))\n",
        "   temp_df['kw'] = i\n",
        "   temp_df.reset_index(level=0, inplace=False)\n",
        "\n",
        "   suggestion = pd.concat([suggestion,temp_df])\n",
        "\n",
        "suggestion"
      ],
      "execution_count": 23,
      "outputs": [
        {
          "output_type": "execute_result",
          "data": {
            "text/html": [
              "<div>\n",
              "<style scoped>\n",
              "    .dataframe tbody tr th:only-of-type {\n",
              "        vertical-align: middle;\n",
              "    }\n",
              "\n",
              "    .dataframe tbody tr th {\n",
              "        vertical-align: top;\n",
              "    }\n",
              "\n",
              "    .dataframe thead th {\n",
              "        text-align: right;\n",
              "    }\n",
              "</style>\n",
              "<table border=\"1\" class=\"dataframe\">\n",
              "  <thead>\n",
              "    <tr style=\"text-align: right;\">\n",
              "      <th></th>\n",
              "      <th>mid</th>\n",
              "      <th>title</th>\n",
              "      <th>type</th>\n",
              "      <th>kw</th>\n",
              "    </tr>\n",
              "  </thead>\n",
              "  <tbody>\n",
              "    <tr>\n",
              "      <th>0</th>\n",
              "      <td>/g/11b7_r92z7</td>\n",
              "      <td>Ghosting</td>\n",
              "      <td>Topic</td>\n",
              "      <td>ghosting</td>\n",
              "    </tr>\n",
              "    <tr>\n",
              "      <th>1</th>\n",
              "      <td>/m/09d8d8</td>\n",
              "      <td>Ghosting</td>\n",
              "      <td>Topic</td>\n",
              "      <td>ghosting</td>\n",
              "    </tr>\n",
              "    <tr>\n",
              "      <th>2</th>\n",
              "      <td>/g/11fpj82f4j</td>\n",
              "      <td>Ghosting: The Spirit of Christmas</td>\n",
              "      <td>Film</td>\n",
              "      <td>ghosting</td>\n",
              "    </tr>\n",
              "    <tr>\n",
              "      <th>3</th>\n",
              "      <td>/g/120x601v</td>\n",
              "      <td>Ghosting</td>\n",
              "      <td>Musical group</td>\n",
              "      <td>ghosting</td>\n",
              "    </tr>\n",
              "    <tr>\n",
              "      <th>4</th>\n",
              "      <td>/g/1s05nwvt9</td>\n",
              "      <td>Ghosting</td>\n",
              "      <td>Song by Secret Rivals</td>\n",
              "      <td>ghosting</td>\n",
              "    </tr>\n",
              "    <tr>\n",
              "      <th>0</th>\n",
              "      <td>/m/03h_dfr</td>\n",
              "      <td>Massimo Gabutti</td>\n",
              "      <td>Entrepreneur</td>\n",
              "      <td>gabut</td>\n",
              "    </tr>\n",
              "    <tr>\n",
              "      <th>0</th>\n",
              "      <td>/m/07l88z</td>\n",
              "      <td>Lockdown</td>\n",
              "      <td>Topic</td>\n",
              "      <td>lockdown</td>\n",
              "    </tr>\n",
              "    <tr>\n",
              "      <th>1</th>\n",
              "      <td>/m/012659r0</td>\n",
              "      <td>12 Rounds 3: Lockdown</td>\n",
              "      <td>2015 film</td>\n",
              "      <td>lockdown</td>\n",
              "    </tr>\n",
              "    <tr>\n",
              "      <th>2</th>\n",
              "      <td>/m/0hqyk</td>\n",
              "      <td>Half Past Dead</td>\n",
              "      <td>2002 film</td>\n",
              "      <td>lockdown</td>\n",
              "    </tr>\n",
              "    <tr>\n",
              "      <th>3</th>\n",
              "      <td>/g/11d_8bffh_</td>\n",
              "      <td>Kundali Bhagya</td>\n",
              "      <td>Drama series</td>\n",
              "      <td>lockdown</td>\n",
              "    </tr>\n",
              "    <tr>\n",
              "      <th>4</th>\n",
              "      <td>/m/0fk9t5</td>\n",
              "      <td>Lockdown</td>\n",
              "      <td>2000 film</td>\n",
              "      <td>lockdown</td>\n",
              "    </tr>\n",
              "    <tr>\n",
              "      <th>0</th>\n",
              "      <td>/g/11c2p41cwt</td>\n",
              "      <td>Rebahan</td>\n",
              "      <td>Song by Bin Idris</td>\n",
              "      <td>rebahan</td>\n",
              "    </tr>\n",
              "    <tr>\n",
              "      <th>0</th>\n",
              "      <td>/m/0cp5kf0</td>\n",
              "      <td>Meghmani Organics Ltd.</td>\n",
              "      <td>Company</td>\n",
              "      <td>wfh</td>\n",
              "    </tr>\n",
              "    <tr>\n",
              "      <th>1</th>\n",
              "      <td>/m/0bnqbv</td>\n",
              "      <td>WFHN</td>\n",
              "      <td>Radio station</td>\n",
              "      <td>wfh</td>\n",
              "    </tr>\n",
              "    <tr>\n",
              "      <th>2</th>\n",
              "      <td>/m/0bs2t1q</td>\n",
              "      <td>World Federation of Hemophilia</td>\n",
              "      <td>Non-profit organization</td>\n",
              "      <td>wfh</td>\n",
              "    </tr>\n",
              "    <tr>\n",
              "      <th>3</th>\n",
              "      <td>/m/092xbv</td>\n",
              "      <td>WFHM-FM</td>\n",
              "      <td>Radio station</td>\n",
              "      <td>wfh</td>\n",
              "    </tr>\n",
              "    <tr>\n",
              "      <th>4</th>\n",
              "      <td>/m/043m00m</td>\n",
              "      <td>WFHR</td>\n",
              "      <td>Radio station</td>\n",
              "      <td>wfh</td>\n",
              "    </tr>\n",
              "    <tr>\n",
              "      <th>0</th>\n",
              "      <td>/m/06bmj</td>\n",
              "      <td>Recession</td>\n",
              "      <td>Topic</td>\n",
              "      <td>resesi</td>\n",
              "    </tr>\n",
              "    <tr>\n",
              "      <th>1</th>\n",
              "      <td>/m/0dr8s9</td>\n",
              "      <td>Gingival recession</td>\n",
              "      <td>Topic</td>\n",
              "      <td>resesi</td>\n",
              "    </tr>\n",
              "    <tr>\n",
              "      <th>2</th>\n",
              "      <td>/m/0qs8jcn</td>\n",
              "      <td>Resesi</td>\n",
              "      <td>Album by Chrisye, Eros Djarot, and Jockie surj...</td>\n",
              "      <td>resesi</td>\n",
              "    </tr>\n",
              "    <tr>\n",
              "      <th>0</th>\n",
              "      <td>/g/11j2cc_qll</td>\n",
              "      <td>Coronavirus disease 2019</td>\n",
              "      <td>Disease</td>\n",
              "      <td>virus corona</td>\n",
              "    </tr>\n",
              "    <tr>\n",
              "      <th>1</th>\n",
              "      <td>/m/01cpyy</td>\n",
              "      <td>Coronavirus</td>\n",
              "      <td>Virus</td>\n",
              "      <td>virus corona</td>\n",
              "    </tr>\n",
              "    <tr>\n",
              "      <th>2</th>\n",
              "      <td>/g/11j4xt9hdf</td>\n",
              "      <td>Severe acute respiratory syndrome coronavirus 2</td>\n",
              "      <td>Virus</td>\n",
              "      <td>virus corona</td>\n",
              "    </tr>\n",
              "    <tr>\n",
              "      <th>3</th>\n",
              "      <td>/g/11fs7z1gfk</td>\n",
              "      <td>2020 coronavirus pandemic in Singapore</td>\n",
              "      <td>Event</td>\n",
              "      <td>virus corona</td>\n",
              "    </tr>\n",
              "    <tr>\n",
              "      <th>4</th>\n",
              "      <td>/g/11h1stsqg</td>\n",
              "      <td>Severe acute respiratory syndrome coronavirus</td>\n",
              "      <td>Virus</td>\n",
              "      <td>virus corona</td>\n",
              "    </tr>\n",
              "    <tr>\n",
              "      <th>0</th>\n",
              "      <td>/m/0283q55</td>\n",
              "      <td>Padma Seshadri Bala Bhavan Senior Secondary Sc...</td>\n",
              "      <td>School in Chennai, India</td>\n",
              "      <td>psbb</td>\n",
              "    </tr>\n",
              "    <tr>\n",
              "      <th>1</th>\n",
              "      <td>/g/11bxfh09dq</td>\n",
              "      <td>The PSBB Millennium School, Chennai</td>\n",
              "      <td>School in Chennai, India</td>\n",
              "      <td>psbb</td>\n",
              "    </tr>\n",
              "    <tr>\n",
              "      <th>2</th>\n",
              "      <td>/g/1tfl82yq</td>\n",
              "      <td>PSBB Learning Leadership Academy</td>\n",
              "      <td>Topic</td>\n",
              "      <td>psbb</td>\n",
              "    </tr>\n",
              "    <tr>\n",
              "      <th>0</th>\n",
              "      <td>/g/11fmxtkfkz</td>\n",
              "      <td>Among Us</td>\n",
              "      <td>Online game</td>\n",
              "      <td>among us</td>\n",
              "    </tr>\n",
              "    <tr>\n",
              "      <th>1</th>\n",
              "      <td>/m/0hjsp</td>\n",
              "      <td>M</td>\n",
              "      <td>1931 film</td>\n",
              "      <td>among us</td>\n",
              "    </tr>\n",
              "    <tr>\n",
              "      <th>2</th>\n",
              "      <td>/m/0mznvf9</td>\n",
              "      <td>Werewolf: The Beast Among Us</td>\n",
              "      <td>2012 film</td>\n",
              "      <td>among us</td>\n",
              "    </tr>\n",
              "    <tr>\n",
              "      <th>3</th>\n",
              "      <td>/m/062q6x</td>\n",
              "      <td>A Stranger Among Us</td>\n",
              "      <td>1992 film</td>\n",
              "      <td>among us</td>\n",
              "    </tr>\n",
              "    <tr>\n",
              "      <th>4</th>\n",
              "      <td>/g/11f00df6b7</td>\n",
              "      <td>Among Us</td>\n",
              "      <td>2017 film</td>\n",
              "      <td>among us</td>\n",
              "    </tr>\n",
              "  </tbody>\n",
              "</table>\n",
              "</div>"
            ],
            "text/plain": [
              "             mid  ...            kw\n",
              "0  /g/11b7_r92z7  ...      ghosting\n",
              "1      /m/09d8d8  ...      ghosting\n",
              "2  /g/11fpj82f4j  ...      ghosting\n",
              "3    /g/120x601v  ...      ghosting\n",
              "4   /g/1s05nwvt9  ...      ghosting\n",
              "0     /m/03h_dfr  ...         gabut\n",
              "0      /m/07l88z  ...      lockdown\n",
              "1    /m/012659r0  ...      lockdown\n",
              "2       /m/0hqyk  ...      lockdown\n",
              "3  /g/11d_8bffh_  ...      lockdown\n",
              "4      /m/0fk9t5  ...      lockdown\n",
              "0  /g/11c2p41cwt  ...       rebahan\n",
              "0     /m/0cp5kf0  ...           wfh\n",
              "1      /m/0bnqbv  ...           wfh\n",
              "2     /m/0bs2t1q  ...           wfh\n",
              "3      /m/092xbv  ...           wfh\n",
              "4     /m/043m00m  ...           wfh\n",
              "0       /m/06bmj  ...        resesi\n",
              "1      /m/0dr8s9  ...        resesi\n",
              "2     /m/0qs8jcn  ...        resesi\n",
              "0  /g/11j2cc_qll  ...  virus corona\n",
              "1      /m/01cpyy  ...  virus corona\n",
              "2  /g/11j4xt9hdf  ...  virus corona\n",
              "3  /g/11fs7z1gfk  ...  virus corona\n",
              "4   /g/11h1stsqg  ...  virus corona\n",
              "0     /m/0283q55  ...          psbb\n",
              "1  /g/11bxfh09dq  ...          psbb\n",
              "2    /g/1tfl82yq  ...          psbb\n",
              "0  /g/11fmxtkfkz  ...      among us\n",
              "1       /m/0hjsp  ...      among us\n",
              "2     /m/0mznvf9  ...      among us\n",
              "3      /m/062q6x  ...      among us\n",
              "4  /g/11f00df6b7  ...      among us\n",
              "\n",
              "[33 rows x 4 columns]"
            ]
          },
          "metadata": {},
          "execution_count": 23
        }
      ]
    },
    {
      "cell_type": "code",
      "metadata": {
        "id": "y6ro7sU63_RL"
      },
      "source": [
        "# Related Queries, returns a dictionary of dataframes\n",
        "related_queries = pytrend.related_queries()"
      ],
      "execution_count": 30,
      "outputs": []
    },
    {
      "cell_type": "code",
      "metadata": {
        "colab": {
          "base_uri": "https://localhost:8080/"
        },
        "id": "QwcgH7jZ-NuM",
        "outputId": "9d54269e-f038-4c55-86a8-6e384e93ab2d"
      },
      "source": [
        "related_queries"
      ],
      "execution_count": 31,
      "outputs": [
        {
          "output_type": "execute_result",
          "data": {
            "text/plain": [
              "{'among us': {'rising':                       query    value\n",
              "  0            among us cheat  1103450\n",
              "  1                  impostor   616250\n",
              "  2         among us impostor   592900\n",
              "  3     download mod among us   523500\n",
              "  4           among us gambar   519350\n",
              "  5           gambar among us   497850\n",
              "  6             among us skin   337750\n",
              "  7             skin among us   324500\n",
              "  8        cara main among us   283450\n",
              "  9           among us adalah   266950\n",
              "  10    mod among us impostor   262450\n",
              "  11       among us indonesia   249350\n",
              "  12     among us pc download   235950\n",
              "  13  download among us cheat   217250\n",
              "  14    cara bermain among us   215050\n",
              "  15               among pink   210700\n",
              "  16       among us cheat apk   209550\n",
              "  17  among us cheat impostor   203850\n",
              "  18        among us mod menu   196300\n",
              "  19  cheat among us impostor   195600\n",
              "  20            among us pink   183950\n",
              "  21       cheat among us apk   179100\n",
              "  22            foto among us   168200\n",
              "  23   download game among us   133250\n",
              "  24       mod among us cheat   128050,\n",
              "  'top':                         query  value\n",
              "  0                among us mod    100\n",
              "  1           among us download     89\n",
              "  2                among us apk     81\n",
              "  3              among us cheat     64\n",
              "  4            among us apk mod     58\n",
              "  5               game among us     52\n",
              "  6                        game     51\n",
              "  7                    impostor     36\n",
              "  8           among us impostor     34\n",
              "  9                 among us pc     33\n",
              "  10      download mod among us     30\n",
              "  11            among us gambar     30\n",
              "  12            gambar among us     29\n",
              "  13      download among us apk     27\n",
              "  14              main among us     21\n",
              "  15  download mod apk among us     20\n",
              "  16              among us skin     20\n",
              "  17              skin among us     19\n",
              "  18         cara main among us     16\n",
              "  19            among us adalah     15\n",
              "  20      mod among us impostor     15\n",
              "  21         among us indonesia     14\n",
              "  22       among us pc download     14\n",
              "  23    download among us cheat     13\n",
              "  24      cara bermain among us     12}}"
            ]
          },
          "metadata": {},
          "execution_count": 31
        }
      ]
    },
    {
      "cell_type": "code",
      "metadata": {
        "id": "jUr6NSnj4T8T"
      },
      "source": [
        "kw = 'among us'\n",
        "# for rising related queries\n",
        "related_queries_rising = related_queries.get(kw).get('rising')\n",
        "# for top related queries\n",
        "related_queries_top = related_queries.get(kw).get('top')"
      ],
      "execution_count": 32,
      "outputs": []
    },
    {
      "cell_type": "code",
      "metadata": {
        "id": "SVvL_B9H7_jg",
        "colab": {
          "base_uri": "https://localhost:8080/",
          "height": 833
        },
        "outputId": "0557254c-ca3a-4ada-bc41-a40401520a62"
      },
      "source": [
        "related_queries_rising"
      ],
      "execution_count": 33,
      "outputs": [
        {
          "output_type": "execute_result",
          "data": {
            "text/html": [
              "<div>\n",
              "<style scoped>\n",
              "    .dataframe tbody tr th:only-of-type {\n",
              "        vertical-align: middle;\n",
              "    }\n",
              "\n",
              "    .dataframe tbody tr th {\n",
              "        vertical-align: top;\n",
              "    }\n",
              "\n",
              "    .dataframe thead th {\n",
              "        text-align: right;\n",
              "    }\n",
              "</style>\n",
              "<table border=\"1\" class=\"dataframe\">\n",
              "  <thead>\n",
              "    <tr style=\"text-align: right;\">\n",
              "      <th></th>\n",
              "      <th>query</th>\n",
              "      <th>value</th>\n",
              "    </tr>\n",
              "  </thead>\n",
              "  <tbody>\n",
              "    <tr>\n",
              "      <th>0</th>\n",
              "      <td>among us cheat</td>\n",
              "      <td>1103450</td>\n",
              "    </tr>\n",
              "    <tr>\n",
              "      <th>1</th>\n",
              "      <td>impostor</td>\n",
              "      <td>616250</td>\n",
              "    </tr>\n",
              "    <tr>\n",
              "      <th>2</th>\n",
              "      <td>among us impostor</td>\n",
              "      <td>592900</td>\n",
              "    </tr>\n",
              "    <tr>\n",
              "      <th>3</th>\n",
              "      <td>download mod among us</td>\n",
              "      <td>523500</td>\n",
              "    </tr>\n",
              "    <tr>\n",
              "      <th>4</th>\n",
              "      <td>among us gambar</td>\n",
              "      <td>519350</td>\n",
              "    </tr>\n",
              "    <tr>\n",
              "      <th>5</th>\n",
              "      <td>gambar among us</td>\n",
              "      <td>497850</td>\n",
              "    </tr>\n",
              "    <tr>\n",
              "      <th>6</th>\n",
              "      <td>among us skin</td>\n",
              "      <td>337750</td>\n",
              "    </tr>\n",
              "    <tr>\n",
              "      <th>7</th>\n",
              "      <td>skin among us</td>\n",
              "      <td>324500</td>\n",
              "    </tr>\n",
              "    <tr>\n",
              "      <th>8</th>\n",
              "      <td>cara main among us</td>\n",
              "      <td>283450</td>\n",
              "    </tr>\n",
              "    <tr>\n",
              "      <th>9</th>\n",
              "      <td>among us adalah</td>\n",
              "      <td>266950</td>\n",
              "    </tr>\n",
              "    <tr>\n",
              "      <th>10</th>\n",
              "      <td>mod among us impostor</td>\n",
              "      <td>262450</td>\n",
              "    </tr>\n",
              "    <tr>\n",
              "      <th>11</th>\n",
              "      <td>among us indonesia</td>\n",
              "      <td>249350</td>\n",
              "    </tr>\n",
              "    <tr>\n",
              "      <th>12</th>\n",
              "      <td>among us pc download</td>\n",
              "      <td>235950</td>\n",
              "    </tr>\n",
              "    <tr>\n",
              "      <th>13</th>\n",
              "      <td>download among us cheat</td>\n",
              "      <td>217250</td>\n",
              "    </tr>\n",
              "    <tr>\n",
              "      <th>14</th>\n",
              "      <td>cara bermain among us</td>\n",
              "      <td>215050</td>\n",
              "    </tr>\n",
              "    <tr>\n",
              "      <th>15</th>\n",
              "      <td>among pink</td>\n",
              "      <td>210700</td>\n",
              "    </tr>\n",
              "    <tr>\n",
              "      <th>16</th>\n",
              "      <td>among us cheat apk</td>\n",
              "      <td>209550</td>\n",
              "    </tr>\n",
              "    <tr>\n",
              "      <th>17</th>\n",
              "      <td>among us cheat impostor</td>\n",
              "      <td>203850</td>\n",
              "    </tr>\n",
              "    <tr>\n",
              "      <th>18</th>\n",
              "      <td>among us mod menu</td>\n",
              "      <td>196300</td>\n",
              "    </tr>\n",
              "    <tr>\n",
              "      <th>19</th>\n",
              "      <td>cheat among us impostor</td>\n",
              "      <td>195600</td>\n",
              "    </tr>\n",
              "    <tr>\n",
              "      <th>20</th>\n",
              "      <td>among us pink</td>\n",
              "      <td>183950</td>\n",
              "    </tr>\n",
              "    <tr>\n",
              "      <th>21</th>\n",
              "      <td>cheat among us apk</td>\n",
              "      <td>179100</td>\n",
              "    </tr>\n",
              "    <tr>\n",
              "      <th>22</th>\n",
              "      <td>foto among us</td>\n",
              "      <td>168200</td>\n",
              "    </tr>\n",
              "    <tr>\n",
              "      <th>23</th>\n",
              "      <td>download game among us</td>\n",
              "      <td>133250</td>\n",
              "    </tr>\n",
              "    <tr>\n",
              "      <th>24</th>\n",
              "      <td>mod among us cheat</td>\n",
              "      <td>128050</td>\n",
              "    </tr>\n",
              "  </tbody>\n",
              "</table>\n",
              "</div>"
            ],
            "text/plain": [
              "                      query    value\n",
              "0            among us cheat  1103450\n",
              "1                  impostor   616250\n",
              "2         among us impostor   592900\n",
              "3     download mod among us   523500\n",
              "4           among us gambar   519350\n",
              "5           gambar among us   497850\n",
              "6             among us skin   337750\n",
              "7             skin among us   324500\n",
              "8        cara main among us   283450\n",
              "9           among us adalah   266950\n",
              "10    mod among us impostor   262450\n",
              "11       among us indonesia   249350\n",
              "12     among us pc download   235950\n",
              "13  download among us cheat   217250\n",
              "14    cara bermain among us   215050\n",
              "15               among pink   210700\n",
              "16       among us cheat apk   209550\n",
              "17  among us cheat impostor   203850\n",
              "18        among us mod menu   196300\n",
              "19  cheat among us impostor   195600\n",
              "20            among us pink   183950\n",
              "21       cheat among us apk   179100\n",
              "22            foto among us   168200\n",
              "23   download game among us   133250\n",
              "24       mod among us cheat   128050"
            ]
          },
          "metadata": {},
          "execution_count": 33
        }
      ]
    },
    {
      "cell_type": "code",
      "metadata": {
        "id": "oq-qSjXe8CWL"
      },
      "source": [
        "related_queries_top"
      ],
      "execution_count": null,
      "outputs": []
    },
    {
      "cell_type": "code",
      "metadata": {
        "id": "iQs1alcle2YE"
      },
      "source": [
        "df_clean = pd.DataFrame()\n",
        "df_clean = related_queries_top\n",
        "df_clean['clean_query'] = df_clean['query'].str.replace('virus', '').str.replace('corona', '')\n",
        "df_clean"
      ],
      "execution_count": null,
      "outputs": []
    },
    {
      "cell_type": "code",
      "metadata": {
        "id": "XoAjKaqrhAO3"
      },
      "source": [
        "df_clean[\"clean_query\"]=df_clean[\"clean_query\"].str.split(\" \")\n",
        "df_clean = df_clean.explode(\"clean_query\").reset_index(drop=True)\n",
        "df_clean"
      ],
      "execution_count": null,
      "outputs": []
    },
    {
      "cell_type": "code",
      "metadata": {
        "id": "dwIzzEzZh-Ny"
      },
      "source": [
        "df_cloud = pd.DataFrame(df_clean.groupby(['clean_query']).value.sum()).reset_index()\n",
        "df_cloud"
      ],
      "execution_count": null,
      "outputs": []
    },
    {
      "cell_type": "code",
      "metadata": {
        "id": "I5EdE0A8HL3d"
      },
      "source": [
        "d = {}\n",
        "for a, x in df_cloud.values:\n",
        "    d[a] = x\n",
        "\n",
        "import matplotlib.pyplot as plt\n",
        "from wordcloud import WordCloud\n",
        "\n",
        "wordcloud = WordCloud()\n",
        "wordcloud.generate_from_frequencies(frequencies=d)\n",
        "plt.figure()\n",
        "plt.imshow(wordcloud, interpolation=\"bilinear\")\n",
        "plt.axis(\"off\")\n",
        "plt.show()"
      ],
      "execution_count": null,
      "outputs": []
    },
    {
      "cell_type": "code",
      "metadata": {
        "id": "w6RuIwL5jj-r"
      },
      "source": [
        "kw_list = ['ghosting','gabut','lockdown','rebahan','wfh','resesi','kuota belajar','virus corona','psbb','among us']\n",
        "\n",
        "related_df = pd.DataFrame()\n",
        "for i in kw_list:\n",
        "   # Related Queries, returns a dictionary of dataframes\n",
        "   pytrend.build_payload([i], geo='ID', cat=0,timeframe='2020-01-01 2020-12-01')\n",
        "   related_queries = pytrend.related_queries()\n",
        "   related_queries_top = related_queries.get(i).get('top')\n",
        "   \n",
        "   ##save trend to dictionary\n",
        "   temp_df = pd.DataFrame()\n",
        "   temp_df = related_queries_top\n",
        "   temp_df['clean_query'] = temp_df['query'].str.replace(i, '').str.split(\" \")\n",
        "   temp_df = temp_df.explode(\"clean_query\").reset_index(drop=True)\n",
        "   temp_df['kw'] = i\n",
        "   temp_df.reset_index(level=0, inplace=False)\n",
        "\n",
        "   temp_sum_df = pd.DataFrame()\n",
        "   temp_sum_df['kw'] = i\n",
        "   temp_sum_df = pd.DataFrame(temp_df.groupby(['clean_query','kw']).value.sum()).reset_index()\n",
        "\n",
        "   related_df = pd.concat([related_df,temp_sum_df])\n",
        "\n",
        "related_df"
      ],
      "execution_count": null,
      "outputs": []
    },
    {
      "cell_type": "markdown",
      "metadata": {
        "id": "o2pzJPR-mugb"
      },
      "source": [
        "### Result"
      ]
    },
    {
      "cell_type": "code",
      "metadata": {
        "id": "JyGV8aSimesW"
      },
      "source": [
        "import matplotlib.pyplot as plt\n",
        "from wordcloud import WordCloud\n",
        "\n",
        "for i in related_df.kw.unique():\n",
        "  df_cloud = related_df.loc[related_df['kw'] == i]\n",
        "  df_cloud = df_cloud.drop(columns= 'kw') \n",
        "\n",
        "  d = {}\n",
        "  for a, x in df_cloud.values:\n",
        "      d[a] = x\n",
        "\n",
        "  wordcloud = WordCloud()\n",
        "  wordcloud.generate_from_frequencies(frequencies=d)\n",
        "  plt.figure()\n",
        "  plt.imshow(wordcloud, interpolation=\"bilinear\")\n",
        "  plt.axis(\"off\")\n",
        "  plt.title(i)\n",
        "  plt.show()"
      ],
      "execution_count": null,
      "outputs": []
    },
    {
      "cell_type": "code",
      "metadata": {
        "id": "ErQT0Qny7IVQ"
      },
      "source": [
        "kw = 'virus corona'\n",
        "# for rising related topics\n",
        "related_topics_rising = related_topics.get(kw).get('rising')\n",
        "# for top related topics\n",
        "related_topics_top = related_topics.get(kw).get('top')"
      ],
      "execution_count": null,
      "outputs": []
    },
    {
      "cell_type": "code",
      "metadata": {
        "id": "p7EKoHGnCsad"
      },
      "source": [
        "related_topics_rising"
      ],
      "execution_count": null,
      "outputs": []
    },
    {
      "cell_type": "code",
      "metadata": {
        "id": "KztLWNBYCtlW"
      },
      "source": [
        "related_topics_top"
      ],
      "execution_count": null,
      "outputs": []
    },
    {
      "cell_type": "markdown",
      "metadata": {
        "id": "766mfi7l5-U5"
      },
      "source": [
        "# Other Interesting Trend"
      ]
    },
    {
      "cell_type": "markdown",
      "metadata": {
        "id": "_QUdHYEsv4ON"
      },
      "source": [
        "## Bintang Emon"
      ]
    },
    {
      "cell_type": "code",
      "metadata": {
        "id": "ulcGueKzn12K"
      },
      "source": [
        "# Get Google Keyword Suggestions\n",
        "pytrend.build_payload(kw_list=['bintang emon'], geo='ID', cat=0,timeframe='2020-01-01 2020-12-20')\n",
        "related_queries = pytrend.related_queries()\n",
        "df_bintang_emon = pd.DataFrame(related_queries.get('bintang emon').get('top'))\n",
        "# df_bintang_emon['terms'] = df_bintang_emon['query'].str.replace('bintang emon', '')\n",
        "df_bintang_emon"
      ],
      "execution_count": null,
      "outputs": []
    },
    {
      "cell_type": "code",
      "metadata": {
        "id": "61t8hFwrqZjf"
      },
      "source": [
        "trends_bintang_emon = pd.DataFrame()\n",
        "kw = df_bintang_emon['query'].tolist()\n",
        "\n",
        "for i in kw:\n",
        "   ##build out query\n",
        "   temp_df = pd.DataFrame()\n",
        "   pytrend.build_payload([i], geo='ID', cat=0,timeframe='2020-01-01 2020-12-01')\n",
        "   \n",
        "   ##save trend to dictionary\n",
        "   temp_df = pytrend.interest_over_time()\n",
        "   temp_df['kw'] = i\n",
        "   temp_df['terms'] = temp_df['kw'].str.replace('bintang emon', '').str.strip()\n",
        "   temp_df.reset_index(level=0, inplace=True)\n",
        "   temp_df.columns = ['date', 'value', 'isPartial', 'kw', 'terms']\n",
        "\n",
        "   trends_bintang_emon = pd.concat([trends_bintang_emon,temp_df[['date','value','kw', 'terms']]])\n",
        "\n",
        "trends_bintang_emon"
      ],
      "execution_count": null,
      "outputs": []
    },
    {
      "cell_type": "code",
      "metadata": {
        "id": "tPjDYOsGthOe"
      },
      "source": [
        "print(df_bintang_emon['query'].tolist())"
      ],
      "execution_count": null,
      "outputs": []
    },
    {
      "cell_type": "code",
      "metadata": {
        "id": "Wk9KfwOLtMo-"
      },
      "source": [
        "def func_group(row):\n",
        "    if row['terms'] == 'profil' or row['terms'] == 'biodata' or row['terms'] == 'nama asli' or row['terms'] == 'umur' or row['terms'] == 'siapa' or row['terms'] == 'komika':\n",
        "        return 'profile'\n",
        "    elif row['terms'] =='twitter' or row['terms'] == 'ig':\n",
        "        return 'social media' \n",
        "    else:\n",
        "        return row['terms']\n",
        "\n",
        "trends_bintang_emon['group'] = trends_bintang_emon.apply(func_group, axis=1)"
      ],
      "execution_count": null,
      "outputs": []
    },
    {
      "cell_type": "code",
      "metadata": {
        "id": "dudVeMBM5C0O"
      },
      "source": [
        "# create plot\n",
        "f, ax = plt.subplots(figsize=(20, 6))\n",
        "\n",
        "sns.set_color_codes(\"pastel\")\n",
        "sns.lineplot(x=\"date\", y=\"value\", data=trends_bintang_emon.sort_values(\"date\", ascending=True), hue=\"group\",\n",
        "            color=\"b\")\n",
        "\n",
        "plt.xlabel('Date')\n",
        "plt.ylabel('Trend Score')\n",
        "plt.xticks(rotation=30)\n",
        "plt.title('Trend Score by Keyword')"
      ],
      "execution_count": null,
      "outputs": []
    },
    {
      "cell_type": "markdown",
      "metadata": {
        "id": "GgcG4SIXw2uP"
      },
      "source": [
        "## What People Do"
      ]
    },
    {
      "cell_type": "code",
      "metadata": {
        "id": "UritRikiu-dx"
      },
      "source": [
        "# Get Google Keyword Suggestions\n",
        "pytrend.build_payload(kw_list=['cara'], geo='ID', cat=0,timeframe='2020-01-01 2020-12-20')\n",
        "related_queries = pytrend.related_queries()\n",
        "df_cara = pd.DataFrame(related_queries.get('cara').get('rising'))\n",
        "\n",
        "df_cara"
      ],
      "execution_count": null,
      "outputs": []
    },
    {
      "cell_type": "code",
      "metadata": {
        "id": "XZVTzio4wDEY"
      },
      "source": [
        "trends_df = pd.DataFrame()\n",
        "kw = df_cara['query'].tolist()\n",
        "\n",
        "for i in kw:\n",
        "   ##build out query\n",
        "   temp_df = pd.DataFrame()\n",
        "   pytrend.build_payload([i], geo='ID', cat=0,timeframe='2020-01-01 2020-12-01')\n",
        "   \n",
        "   ##save trend to dictionary\n",
        "   temp_df = pytrend.interest_over_time()\n",
        "   temp_df['kw'] = i\n",
        "   temp_df['terms'] = temp_df['kw'].str.replace('cara', '').str.replace('bagaimana', '').str.strip()\n",
        "   temp_df.reset_index(level=0, inplace=True)\n",
        "   temp_df.columns = ['date', 'value', 'isPartial', 'kw', 'terms']\n",
        "\n",
        "   trends_df = pd.concat([trends_df,temp_df[['date','value','kw', 'terms']]])\n",
        "\n",
        "trends_df"
      ],
      "execution_count": null,
      "outputs": []
    },
    {
      "cell_type": "code",
      "metadata": {
        "id": "_Sh06KbwwfvY"
      },
      "source": [
        "trends_df['terms'].unique()"
      ],
      "execution_count": null,
      "outputs": []
    },
    {
      "cell_type": "code",
      "metadata": {
        "id": "KSwY-o4tw1c1"
      },
      "source": [
        "def func_group_l1(row):\n",
        "    if row['terms'] == 'daftar prakerja' or row['terms'] == 'daftar kartu prakerja' or row['terms'] == 'mendaftar kartu prakerja':\n",
        "        return 'prakerja'\n",
        "    elif row['terms'] =='daftar bantuan umkm' or row['terms'] == 'cek bantuan umkm':\n",
        "        return 'bantuan umkm' \n",
        "    elif row['terms'] =='tata  sholat idul fitri' or row['terms'] == 'sholat idul fitri':\n",
        "        return 'sholat idul fitri' \n",
        "    else:\n",
        "        return row['terms']\n",
        "\n",
        "trends_df['group_l1'] = trends_df.apply(func_group_l1, axis=1)\n",
        "trends_df"
      ],
      "execution_count": null,
      "outputs": []
    },
    {
      "cell_type": "code",
      "metadata": {
        "id": "5pzC0g0_xvxh"
      },
      "source": [
        "trends_df['group_l1'].unique()"
      ],
      "execution_count": null,
      "outputs": []
    },
    {
      "cell_type": "code",
      "metadata": {
        "id": "DvrHvziCxrri"
      },
      "source": [
        "def func_group_l2(row):\n",
        "    if row['group_l1'] == 'prakerja' or row['group_l1'] == 'bantuan umkm':\n",
        "        return 'work support'\n",
        "    elif row['group_l1'] =='mencegah virus corona' or row['group_l1'] == 'membuat hand sanitizer':\n",
        "        return 'covid' \n",
        "    elif row['group_l1'] =='mendapatkan token listrik gratis' or row['group_l1'] == 'membuat soal di google form' or row['group_l1'] == 'mendapatkan kuota gratis' or row['group_l1'] == 'creenshot di laptop':\n",
        "        return 'wfh' \n",
        "    elif row['group_l1'] =='sholat idul fitri' or row['group_l1'] == 'mandi wajib dan doanya' or row['group_l1'] == 'wudhu' or row['group_l1'] == 'mandi wajib dan doanya':\n",
        "        return 'religious' \n",
        "    elif row['group_l1'] =='membuat dalgona coffee' or row['group_l1'] == 'membuat boba' or row['group_l1'] == 'membuat cireng' or row['group_l1'] == 'membuat cireng' or row['group_l1'] == 'membuat cimol' or row['group_l1'] == 'membuat martabak manis' or row['group_l1'] == 'membuat donat':\n",
        "        return 'cooking' \n",
        "    else:\n",
        "        return 'others'\n",
        "\n",
        "trends_df['group_l2'] = trends_df.apply(func_group_l2, axis=1)\n",
        "trends_df"
      ],
      "execution_count": null,
      "outputs": []
    },
    {
      "cell_type": "code",
      "metadata": {
        "id": "-qQXP1Vw7Sni"
      },
      "source": [
        "trends_df = trends_df.loc[trends_df['kw'] != 'bagaimana cara']\n",
        "data = trends_df.groupby(['group_l1','group_l2']).value.sum().reset_index()\n",
        "\n",
        "f, ax = plt.subplots(figsize=(12, 8))\n",
        "sns.barplot(x=\"value\", \n",
        "            y=\"group_l1\", \n",
        "            hue=\"group_l2\", \n",
        "            data=data.sort_values(\"group_l2\", ascending=True))\n",
        "plt.ylabel(\"Activity\", size=14)\n",
        "plt.xlabel(\"Trend Level\", size=14)\n",
        "plt.title(\"'How To' Searches - Indonesia\", size=18)"
      ],
      "execution_count": null,
      "outputs": []
    }
  ]
}