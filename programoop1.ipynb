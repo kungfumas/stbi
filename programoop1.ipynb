{
  "nbformat": 4,
  "nbformat_minor": 0,
  "metadata": {
    "colab": {
      "name": "programoop1.ipynb",
      "provenance": [],
      "authorship_tag": "ABX9TyPA9JmkyuE+K+KdWwLSUZjv",
      "include_colab_link": true
    },
    "kernelspec": {
      "name": "python3",
      "display_name": "Python 3"
    },
    "language_info": {
      "name": "python"
    }
  },
  "cells": [
    {
      "cell_type": "markdown",
      "metadata": {
        "id": "view-in-github",
        "colab_type": "text"
      },
      "source": [
        "<a href=\"https://colab.research.google.com/github/kungfumas/stbi/blob/master/programoop1.ipynb\" target=\"_parent\"><img src=\"https://colab.research.google.com/assets/colab-badge.svg\" alt=\"Open In Colab\"/></a>"
      ]
    },
    {
      "cell_type": "code",
      "metadata": {
        "id": "EyX4qh8MSUCT"
      },
      "source": [
        "class Persegi:\n",
        "    # Initializer / Instance Attributes\n",
        "    def __init__(self, panjang, lebar):\n",
        "        self.panjang = panjang\n",
        "        self.lebar = lebar\n",
        "    def luas(self):\n",
        "        return(\" Luas persegi ={}\".format(self.panjang*self.lebar)) \n",
        "    def keliling(self):\n",
        "        return(\" Keliling persegi={}\".format(2*(self.panjang+self.lebar)))          \n"
      ],
      "execution_count": 6,
      "outputs": []
    },
    {
      "cell_type": "code",
      "metadata": {
        "colab": {
          "base_uri": "https://localhost:8080/",
          "height": 36
        },
        "id": "21_DPhF-ThTc",
        "outputId": "97528ec0-d90e-4195-9d39-eb5be3158a74"
      },
      "source": [
        "a=Persegi(20,10)\n",
        "a.luas()\n",
        "a.keliling()"
      ],
      "execution_count": 8,
      "outputs": [
        {
          "output_type": "execute_result",
          "data": {
            "application/vnd.google.colaboratory.intrinsic+json": {
              "type": "string"
            },
            "text/plain": [
              "' Keliling persegi=60'"
            ]
          },
          "metadata": {},
          "execution_count": 8
        }
      ]
    },
    {
      "cell_type": "code",
      "metadata": {
        "id": "GRU0T6aMU2Jv"
      },
      "source": [
        "class Lingkaran:\n",
        "    # Initializer / Instance Attributes\n",
        "    phi=3.14\n",
        "    def __init__(self, jari2):\n",
        "        self.jari2 = jari2\n",
        "        \n",
        "    def luas(self):\n",
        "        return(\" Luas persegi ={}\".format(self.phi*self.jari2**2)) \n",
        "    def keliling(self):\n",
        "        return(\" Keliling persegi={}\".format(2*self.phi*self.jari2))   "
      ],
      "execution_count": 11,
      "outputs": []
    },
    {
      "cell_type": "code",
      "metadata": {
        "colab": {
          "base_uri": "https://localhost:8080/",
          "height": 36
        },
        "id": "7d9Gm8AMVmcU",
        "outputId": "8507f5dd-749e-4857-8db4-9c051ba36190"
      },
      "source": [
        "b=Lingkaran(10)\n",
        "b.luas()\n"
      ],
      "execution_count": 13,
      "outputs": [
        {
          "output_type": "execute_result",
          "data": {
            "application/vnd.google.colaboratory.intrinsic+json": {
              "type": "string"
            },
            "text/plain": [
              "' Luas persegi =314.0'"
            ]
          },
          "metadata": {},
          "execution_count": 13
        }
      ]
    },
    {
      "cell_type": "code",
      "metadata": {
        "colab": {
          "base_uri": "https://localhost:8080/",
          "height": 36
        },
        "id": "2jpdPNiuWH03",
        "outputId": "6f876e3f-3ac3-44bf-e735-2ce9a24b7368"
      },
      "source": [
        "b.keliling()"
      ],
      "execution_count": 14,
      "outputs": [
        {
          "output_type": "execute_result",
          "data": {
            "application/vnd.google.colaboratory.intrinsic+json": {
              "type": "string"
            },
            "text/plain": [
              "' Keliling persegi=62.800000000000004'"
            ]
          },
          "metadata": {},
          "execution_count": 14
        }
      ]
    }
  ]
}