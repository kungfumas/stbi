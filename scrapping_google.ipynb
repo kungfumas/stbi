{
  "nbformat": 4,
  "nbformat_minor": 0,
  "metadata": {
    "colab": {
      "provenance": [],
      "include_colab_link": true
    },
    "kernelspec": {
      "name": "python3",
      "display_name": "Python 3"
    },
    "language_info": {
      "name": "python"
    }
  },
  "cells": [
    {
      "cell_type": "markdown",
      "metadata": {
        "id": "view-in-github",
        "colab_type": "text"
      },
      "source": [
        "<a href=\"https://colab.research.google.com/github/kungfumas/stbi/blob/master/scrapping_google.ipynb\" target=\"_parent\"><img src=\"https://colab.research.google.com/assets/colab-badge.svg\" alt=\"Open In Colab\"/></a>"
      ]
    },
    {
      "cell_type": "code",
      "execution_count": null,
      "metadata": {
        "id": "MMClPPmuVKpB"
      },
      "outputs": [],
      "source": [
        "#Mencari review dari restoran yang akan di scrapping"
      ]
    },
    {
      "cell_type": "code",
      "source": [
        "!pip install google-search-results"
      ],
      "metadata": {
        "id": "ZaHP3UpCWgwa",
        "colab": {
          "base_uri": "https://localhost:8080/"
        },
        "outputId": "9e42a3b8-d1ba-4ed7-e32a-7ea42af7a80b"
      },
      "execution_count": 1,
      "outputs": [
        {
          "output_type": "stream",
          "name": "stdout",
          "text": [
            "Collecting google-search-results\n",
            "  Downloading google_search_results-2.4.2.tar.gz (18 kB)\n",
            "  Preparing metadata (setup.py) ... \u001b[?25l\u001b[?25hdone\n",
            "Requirement already satisfied: requests in /usr/local/lib/python3.10/dist-packages (from google-search-results) (2.31.0)\n",
            "Requirement already satisfied: charset-normalizer<4,>=2 in /usr/local/lib/python3.10/dist-packages (from requests->google-search-results) (3.3.2)\n",
            "Requirement already satisfied: idna<4,>=2.5 in /usr/local/lib/python3.10/dist-packages (from requests->google-search-results) (3.7)\n",
            "Requirement already satisfied: urllib3<3,>=1.21.1 in /usr/local/lib/python3.10/dist-packages (from requests->google-search-results) (2.0.7)\n",
            "Requirement already satisfied: certifi>=2017.4.17 in /usr/local/lib/python3.10/dist-packages (from requests->google-search-results) (2024.6.2)\n",
            "Building wheels for collected packages: google-search-results\n",
            "  Building wheel for google-search-results (setup.py) ... \u001b[?25l\u001b[?25hdone\n",
            "  Created wheel for google-search-results: filename=google_search_results-2.4.2-py3-none-any.whl size=32004 sha256=b75d29d0291d730e92d6d882937a35845731bd5a9343cb26e54755dce975280f\n",
            "  Stored in directory: /root/.cache/pip/wheels/d3/b2/c3/03302d12bb44a2cdff3c9371f31b72c0c4e84b8d2285eeac53\n",
            "Successfully built google-search-results\n",
            "Installing collected packages: google-search-results\n",
            "Successfully installed google-search-results-2.4.2\n"
          ]
        }
      ]
    },
    {
      "cell_type": "code",
      "source": [
        "from serpapi import GoogleSearch\n",
        "\n",
        "params = {\n",
        "  \"engine\": \"google_maps\",\n",
        "  \"q\": \"bandeng\",\n",
        "  \"ll\": \"@-6.986664,110.4109909,17z\",\n",
        "  \"type\": \"search\",\n",
        "  \"api_key\": \"868d926c14ebdce76ffb1aaa939da6f52e8ddc41abd58d9fe82c0f2984fb1760\"\n",
        "}\n",
        "\n",
        "search = GoogleSearch(params)\n",
        "results = search.get_dict()\n",
        "local_results = results[\"local_results\"]"
      ],
      "metadata": {
        "id": "CMXoiTNjWzZO"
      },
      "execution_count": 3,
      "outputs": []
    },
    {
      "cell_type": "code",
      "source": [],
      "metadata": {
        "id": "Qbivi7SimXSR"
      },
      "execution_count": null,
      "outputs": []
    },
    {
      "cell_type": "code",
      "source": [
        "results\n",
        "local_results = results[\"local_results\"]"
      ],
      "metadata": {
        "id": "zBNMRcPGl5g2"
      },
      "execution_count": 4,
      "outputs": []
    },
    {
      "cell_type": "code",
      "source": [
        "local_results"
      ],
      "metadata": {
        "id": "wYJPRnHiYODQ",
        "colab": {
          "base_uri": "https://localhost:8080/"
        },
        "outputId": "3183f5b8-bca6-4615-fac8-4a62665658d3"
      },
      "execution_count": 5,
      "outputs": [
        {
          "output_type": "execute_result",
          "data": {
            "text/plain": [
              "[{'position': 1,\n",
              "  'title': 'Bandeng Juwana Elrina Pandanaran',\n",
              "  'place_id': 'ChIJvRGmW0WLcC4RobMrDuHNFQA',\n",
              "  'data_id': '0x2e708b455ba611bd:0x15cde10e2bb3a1',\n",
              "  'data_cid': '6137341000004513',\n",
              "  'reviews_link': 'https://serpapi.com/search.json?data_id=0x2e708b455ba611bd%3A0x15cde10e2bb3a1&engine=google_maps_reviews&hl=en',\n",
              "  'photos_link': 'https://serpapi.com/search.json?data_id=0x2e708b455ba611bd%3A0x15cde10e2bb3a1&engine=google_maps_photos&hl=en',\n",
              "  'gps_coordinates': {'latitude': -6.986459, 'longitude': 110.4132004},\n",
              "  'place_id_search': 'https://serpapi.com/search.json?engine=google_maps&google_domain=google.com&hl=en&place_id=ChIJvRGmW0WLcC4RobMrDuHNFQA',\n",
              "  'provider_id': '/g/1trzswl5',\n",
              "  'rating': 4.5,\n",
              "  'reviews': 15464,\n",
              "  'type': 'Gift shop',\n",
              "  'types': ['Gift shop'],\n",
              "  'type_id': 'gift_shop',\n",
              "  'type_ids': ['gift_shop'],\n",
              "  'address': 'Jl. Pandanaran No.57, Randusari, Kec. Semarang Sel., Kota Semarang, Jawa Tengah 50244, Indonesia',\n",
              "  'open_state': 'Open ⋅ Closes 10\\u202fPM',\n",
              "  'hours': 'Open ⋅ Closes 10\\u202fPM',\n",
              "  'operating_hours': {'friday': '6:30\\u202fAM–10\\u202fPM',\n",
              "   'saturday': '6:30\\u202fAM–10\\u202fPM',\n",
              "   'sunday': '6:30\\u202fAM–10\\u202fPM',\n",
              "   'monday': '6:30\\u202fAM–10\\u202fPM',\n",
              "   'tuesday': '6:30\\u202fAM–10\\u202fPM',\n",
              "   'wednesday': '6:30\\u202fAM–10\\u202fPM',\n",
              "   'thursday': '6:30\\u202fAM–10\\u202fPM'},\n",
              "  'phone': '+62 811-277-575',\n",
              "  'website': 'https://linktr.ee/bandengjuwanaelrina',\n",
              "  'service_options': {'in_store_pickup': True, 'delivery': True},\n",
              "  'thumbnail': 'https://lh5.googleusercontent.com/p/AF1QipM96iwa-A9xzWqatHikvOpAkJXekjwp0-FqY2Gi=w92-h92-k-no'},\n",
              " {'position': 2,\n",
              "  'title': 'Bandeng Presto',\n",
              "  'place_id': 'ChIJG8flWlqLcC4RSC47QitnTsQ',\n",
              "  'data_id': '0x2e708b5a5ae5c71b:0xc44e672b423b2e48',\n",
              "  'data_cid': '14145356915109736008',\n",
              "  'reviews_link': 'https://serpapi.com/search.json?data_id=0x2e708b5a5ae5c71b%3A0xc44e672b423b2e48&engine=google_maps_reviews&hl=en',\n",
              "  'photos_link': 'https://serpapi.com/search.json?data_id=0x2e708b5a5ae5c71b%3A0xc44e672b423b2e48&engine=google_maps_photos&hl=en',\n",
              "  'gps_coordinates': {'latitude': -6.986663999999999,\n",
              "   'longitude': 110.4135658},\n",
              "  'place_id_search': 'https://serpapi.com/search.json?engine=google_maps&google_domain=google.com&hl=en&place_id=ChIJG8flWlqLcC4RSC47QitnTsQ',\n",
              "  'provider_id': '/g/1th5fwsx',\n",
              "  'rating': 4.5,\n",
              "  'reviews': 2561,\n",
              "  'price': '$$',\n",
              "  'type': 'Souvenir store',\n",
              "  'types': ['Souvenir store', 'Restaurant'],\n",
              "  'type_id': 'souvenir_store',\n",
              "  'type_ids': ['souvenir_store', 'restaurant'],\n",
              "  'address': 'Jl. Pandanaran No.67-69, Randusari, Kec. Semarang Sel., Kota Semarang, Jawa Tengah 50244, Indonesia',\n",
              "  'open_state': 'Open ⋅ Closes 10\\u202fPM',\n",
              "  'hours': 'Open ⋅ Closes 10\\u202fPM',\n",
              "  'operating_hours': {'friday': '6:30\\u202fAM–10\\u202fPM',\n",
              "   'saturday': '6:30\\u202fAM–10\\u202fPM',\n",
              "   'sunday': '6:30\\u202fAM–10\\u202fPM',\n",
              "   'monday': '6:30\\u202fAM–10\\u202fPM',\n",
              "   'tuesday': '6:30\\u202fAM–10\\u202fPM',\n",
              "   'wednesday': '6:30\\u202fAM–10\\u202fPM',\n",
              "   'thursday': '6:30\\u202fAM–10\\u202fPM'},\n",
              "  'phone': '+62 811-276-900',\n",
              "  'website': 'http://bandengpresto-semarang.com/',\n",
              "  'service_options': {'in_store_pickup': True, 'delivery': True},\n",
              "  'thumbnail': 'https://lh5.googleusercontent.com/p/AF1QipMD21340LXnuYQGUUx4nCGHm1GbmRSIgXk5OWSw=w99-h92-k-no'},\n",
              " {'position': 3,\n",
              "  'title': 'Bandeng Bonafide',\n",
              "  'place_id': 'ChIJF5ZnXkWLcC4RWRbp_GOf3wk',\n",
              "  'data_id': '0x2e708b455e679617:0x9df9f63fce91659',\n",
              "  'data_cid': '711462517941540441',\n",
              "  'reviews_link': 'https://serpapi.com/search.json?data_id=0x2e708b455e679617%3A0x9df9f63fce91659&engine=google_maps_reviews&hl=en',\n",
              "  'photos_link': 'https://serpapi.com/search.json?data_id=0x2e708b455e679617%3A0x9df9f63fce91659&engine=google_maps_photos&hl=en',\n",
              "  'gps_coordinates': {'latitude': -6.986281099999999,\n",
              "   'longitude': 110.4129449},\n",
              "  'place_id_search': 'https://serpapi.com/search.json?engine=google_maps&google_domain=google.com&hl=en&place_id=ChIJF5ZnXkWLcC4RWRbp_GOf3wk',\n",
              "  'provider_id': '/g/1hm32g0kn',\n",
              "  'rating': 4.2,\n",
              "  'reviews': 357,\n",
              "  'type': 'Deli',\n",
              "  'types': ['Deli'],\n",
              "  'type_id': 'deli',\n",
              "  'type_ids': ['deli'],\n",
              "  'address': 'Jl. Pandanaran No.53, Randusari, Kec. Semarang Sel., Kota Semarang, Jawa Tengah 50244, Indonesia',\n",
              "  'open_state': 'Closed ⋅ Opens 7\\u202fAM Sat',\n",
              "  'hours': 'Closed ⋅ Opens 7\\u202fAM Sat',\n",
              "  'operating_hours': {'friday': '7\\u202fAM–8\\u202fPM',\n",
              "   'saturday': '7\\u202fAM–8\\u202fPM',\n",
              "   'sunday': '7\\u202fAM–8\\u202fPM',\n",
              "   'monday': '7\\u202fAM–8\\u202fPM',\n",
              "   'tuesday': '7\\u202fAM–8\\u202fPM',\n",
              "   'wednesday': '7\\u202fAM–8\\u202fPM',\n",
              "   'thursday': '7\\u202fAM–8\\u202fPM'},\n",
              "  'phone': '+62 878-7111-1017',\n",
              "  'service_options': {'takeout': True, 'delivery': True},\n",
              "  'thumbnail': 'https://lh5.googleusercontent.com/p/AF1QipPjtZrPjTYvfrJSUspyF-EFRnEnDvVR0YCADBKF=w122-h92-k-no'},\n",
              " {'position': 4,\n",
              "  'title': 'Bandeng Juwana Elrina',\n",
              "  'place_id': 'ChIJtXeeaFGLcC4RS_COwL22Fgs',\n",
              "  'data_id': '0x2e708b51689e77b5:0xb16b6bdc08ef04b',\n",
              "  'data_cid': '799026910000509003',\n",
              "  'reviews_link': 'https://serpapi.com/search.json?data_id=0x2e708b51689e77b5%3A0xb16b6bdc08ef04b&engine=google_maps_reviews&hl=en',\n",
              "  'photos_link': 'https://serpapi.com/search.json?data_id=0x2e708b51689e77b5%3A0xb16b6bdc08ef04b&engine=google_maps_photos&hl=en',\n",
              "  'gps_coordinates': {'latitude': -6.987108, 'longitude': 110.415138},\n",
              "  'place_id_search': 'https://serpapi.com/search.json?engine=google_maps&google_domain=google.com&hl=en&place_id=ChIJtXeeaFGLcC4RS_COwL22Fgs',\n",
              "  'provider_id': '/g/11kjp94t_6',\n",
              "  'rating': 4.7,\n",
              "  'reviews': 105,\n",
              "  'type': 'Store',\n",
              "  'types': ['Store', 'Convenience store', 'Souvenir store'],\n",
              "  'type_id': 'store',\n",
              "  'type_ids': ['store', 'convenience_store', 'souvenir_store'],\n",
              "  'address': 'Jl. Pandanaran No.83, Mugassari, Semarang Selatan, Semarang City, Central Java 50249, Indonesia',\n",
              "  'open_state': 'Open ⋅ Closes 10\\u202fPM',\n",
              "  'hours': 'Open ⋅ Closes 10\\u202fPM',\n",
              "  'operating_hours': {'friday': '6:30\\u202fAM–10\\u202fPM',\n",
              "   'saturday': '6:30\\u202fAM–10\\u202fPM',\n",
              "   'sunday': '6:30\\u202fAM–10\\u202fPM',\n",
              "   'monday': '6:30\\u202fAM–10\\u202fPM',\n",
              "   'tuesday': '6:30\\u202fAM–10\\u202fPM',\n",
              "   'wednesday': '6:30\\u202fAM–10\\u202fPM',\n",
              "   'thursday': '6:30\\u202fAM–10\\u202fPM'},\n",
              "  'phone': '+62 858-6846-5299',\n",
              "  'website': 'https://linktr.ee/bandengjuwanaelrina',\n",
              "  'service_options': {'in_store_shopping': True,\n",
              "   'in_store_pickup': True,\n",
              "   'delivery': True},\n",
              "  'thumbnail': 'https://lh5.googleusercontent.com/p/AF1QipO-YJHYIXKwNdgwkskzGawlaIOU0dQNVhWeuIh_=w122-h92-k-no'},\n",
              " {'position': 5,\n",
              "  'title': 'Bandeng Presto yang pertama 1977',\n",
              "  'place_id': 'ChIJmXjq_KiLcC4RPEvj7oU7ZPw',\n",
              "  'data_id': '0x2e708ba8fcea7899:0xfc643b85eee34b3c',\n",
              "  'data_cid': '18186726641653467964',\n",
              "  'reviews_link': 'https://serpapi.com/search.json?data_id=0x2e708ba8fcea7899%3A0xfc643b85eee34b3c&engine=google_maps_reviews&hl=en',\n",
              "  'photos_link': 'https://serpapi.com/search.json?data_id=0x2e708ba8fcea7899%3A0xfc643b85eee34b3c&engine=google_maps_photos&hl=en',\n",
              "  'gps_coordinates': {'latitude': -6.985532399999999, 'longitude': 110.411232},\n",
              "  'place_id_search': 'https://serpapi.com/search.json?engine=google_maps&google_domain=google.com&hl=en&place_id=ChIJmXjq_KiLcC4RPEvj7oU7ZPw',\n",
              "  'provider_id': '/g/11svc71sr1',\n",
              "  'rating': 4.5,\n",
              "  'reviews': 8,\n",
              "  'unclaimed_listing': True,\n",
              "  'type': 'Store',\n",
              "  'types': ['Store'],\n",
              "  'type_id': 'store',\n",
              "  'type_ids': ['store'],\n",
              "  'address': 'Jl. Pandanaran No.23-25, Randusari, Semarang Selatan, Semarang City, Central Java 50244, Indonesia',\n",
              "  'open_state': 'Open ⋅ Closes 10\\u202fPM',\n",
              "  'hours': 'Open ⋅ Closes 10\\u202fPM',\n",
              "  'operating_hours': {'friday': '7\\u202fAM–10\\u202fPM',\n",
              "   'saturday': '7\\u202fAM–10\\u202fPM',\n",
              "   'sunday': '7\\u202fAM–10\\u202fPM',\n",
              "   'monday': '7\\u202fAM–10\\u202fPM',\n",
              "   'tuesday': '7\\u202fAM–10\\u202fPM',\n",
              "   'wednesday': '7\\u202fAM–10\\u202fPM',\n",
              "   'thursday': '7\\u202fAM–10\\u202fPM'},\n",
              "  'phone': '+62 811-2608-900',\n",
              "  'website': 'http://bandengpresto-semarang.com/',\n",
              "  'thumbnail': 'https://lh5.googleusercontent.com/p/AF1QipMNHgA7bJZMyL8wGBAWZAvOIAty7MUtSeRgDMJo=w80-h106-k-no'},\n",
              " {'position': 6,\n",
              "  'title': 'Prima Bandeng Duri Lunak',\n",
              "  'place_id': 'ChIJL-UXWEWLcC4RUp0O3JQ4g0k',\n",
              "  'data_id': '0x2e708b455817e52f:0x49833894dc0e9d52',\n",
              "  'data_cid': '5297139798716095826',\n",
              "  'reviews_link': 'https://serpapi.com/search.json?data_id=0x2e708b455817e52f%3A0x49833894dc0e9d52&engine=google_maps_reviews&hl=en',\n",
              "  'photos_link': 'https://serpapi.com/search.json?data_id=0x2e708b455817e52f%3A0x49833894dc0e9d52&engine=google_maps_photos&hl=en',\n",
              "  'gps_coordinates': {'latitude': -6.9860099, 'longitude': 110.4134979},\n",
              "  'place_id_search': 'https://serpapi.com/search.json?engine=google_maps&google_domain=google.com&hl=en&place_id=ChIJL-UXWEWLcC4RUp0O3JQ4g0k',\n",
              "  'provider_id': '/g/1pzyn0l95',\n",
              "  'rating': 4.8,\n",
              "  'reviews': 8,\n",
              "  'unclaimed_listing': True,\n",
              "  'type': 'Food store',\n",
              "  'types': ['Food store'],\n",
              "  'type_id': 'food_store',\n",
              "  'type_ids': ['food_store'],\n",
              "  'address': 'Jl. Pandanaran No.63, Pekunden, Kec. Semarang Tengah, Kota Semarang, Jawa Tengah 50134, Indonesia',\n",
              "  'open_state': 'Closed ⋅ Opens 10\\u202fAM Sat',\n",
              "  'hours': 'Closed ⋅ Opens 10\\u202fAM Sat',\n",
              "  'operating_hours': {'friday': '10\\u202fAM–7:30\\u202fPM',\n",
              "   'saturday': '10\\u202fAM–7:30\\u202fPM',\n",
              "   'sunday': '10\\u202fAM–7:30\\u202fPM',\n",
              "   'monday': '10\\u202fAM–7:30\\u202fPM',\n",
              "   'tuesday': '10\\u202fAM–7:30\\u202fPM',\n",
              "   'wednesday': '10\\u202fAM–7:30\\u202fPM',\n",
              "   'thursday': '10\\u202fAM–7:30\\u202fPM'},\n",
              "  'phone': '+62 24 8446877',\n",
              "  'service_options': {'delivery': True},\n",
              "  'thumbnail': 'https://streetviewpixels-pa.googleapis.com/v1/thumbnail?panoid=QG-3IaQvv2E4aarBARR0UA&cb_client=search.gws-prod.gps&w=80&h=92&yaw=290.74603&pitch=0&thumbfov=100'},\n",
              " {'position': 7,\n",
              "  'title': 'BANDENG ARWANA PUSAT OLEH OLEH',\n",
              "  'place_id': 'ChIJfVs0UEWLcC4RwVF2A7HavG4',\n",
              "  'data_id': '0x2e708b4550345b7d:0x6ebcdab1037651c1',\n",
              "  'data_cid': '7979493093595828673',\n",
              "  'reviews_link': 'https://serpapi.com/search.json?data_id=0x2e708b4550345b7d%3A0x6ebcdab1037651c1&engine=google_maps_reviews&hl=en',\n",
              "  'photos_link': 'https://serpapi.com/search.json?data_id=0x2e708b4550345b7d%3A0x6ebcdab1037651c1&engine=google_maps_photos&hl=en',\n",
              "  'gps_coordinates': {'latitude': -6.9865338999999995,\n",
              "   'longitude': 110.4133389},\n",
              "  'place_id_search': 'https://serpapi.com/search.json?engine=google_maps&google_domain=google.com&hl=en&place_id=ChIJfVs0UEWLcC4RwVF2A7HavG4',\n",
              "  'provider_id': '/g/11f5brp2gg',\n",
              "  'rating': 3.1,\n",
              "  'reviews': 26,\n",
              "  'type': 'Grocery store',\n",
              "  'types': ['Grocery store'],\n",
              "  'type_id': 'grocery_store',\n",
              "  'type_ids': ['grocery_store'],\n",
              "  'address': 'Jl. Pandanaran No.65, Randusari, Semarang Selatan, Semarang City, Central Java 50244, Indonesia',\n",
              "  'open_state': 'Open ⋅ Closes 11\\u202fPM',\n",
              "  'hours': 'Open ⋅ Closes 11\\u202fPM',\n",
              "  'operating_hours': {'friday': '6\\u202fAM–11\\u202fPM',\n",
              "   'saturday': '6\\u202fAM–11\\u202fPM',\n",
              "   'sunday': '6\\u202fAM–11\\u202fPM',\n",
              "   'monday': '6\\u202fAM–11\\u202fPM',\n",
              "   'tuesday': '6\\u202fAM–11\\u202fPM',\n",
              "   'wednesday': '6\\u202fAM–11\\u202fPM',\n",
              "   'thursday': '6\\u202fAM–11\\u202fPM'},\n",
              "  'phone': '+62 24 8444522',\n",
              "  'service_options': {'in_store_pickup': True},\n",
              "  'thumbnail': 'https://lh5.googleusercontent.com/p/AF1QipM7REI0eqhC70hO19otOVVUFgk1-HcSzB05b7rn=w163-h92-k-no'},\n",
              " {'position': 8,\n",
              "  'title': 'Bandeng Bacem',\n",
              "  'place_id': 'ChIJa7SmiEiLcC4Rlq2LTZvg6ig',\n",
              "  'data_id': '0x2e708b4888a6b46b:0x28eae09b4d8bad96',\n",
              "  'data_cid': '2948415863692963222',\n",
              "  'reviews_link': 'https://serpapi.com/search.json?data_id=0x2e708b4888a6b46b%3A0x28eae09b4d8bad96&engine=google_maps_reviews&hl=en',\n",
              "  'photos_link': 'https://serpapi.com/search.json?data_id=0x2e708b4888a6b46b%3A0x28eae09b4d8bad96&engine=google_maps_photos&hl=en',\n",
              "  'gps_coordinates': {'latitude': -6.9867858, 'longitude': 110.4052727},\n",
              "  'place_id_search': 'https://serpapi.com/search.json?engine=google_maps&google_domain=google.com&hl=en&place_id=ChIJa7SmiEiLcC4Rlq2LTZvg6ig',\n",
              "  'provider_id': '/g/11bzrpsp7d',\n",
              "  'rating': 3.8,\n",
              "  'reviews': 8,\n",
              "  'unclaimed_listing': True,\n",
              "  'type': 'Restaurant',\n",
              "  'types': ['Restaurant'],\n",
              "  'type_id': 'restaurant',\n",
              "  'type_ids': ['restaurant'],\n",
              "  'address': 'Jl. Suyudono No.80, Bulustalan, Kec. Semarang Sel., Kota Semarang, Jawa Tengah 50245, Indonesia',\n",
              "  'open_state': 'Closed ⋅ Opens 9\\u202fAM Sat',\n",
              "  'hours': 'Closed ⋅ Opens 9\\u202fAM Sat',\n",
              "  'operating_hours': {'friday': '9\\u202fAM–8\\u202fPM',\n",
              "   'saturday': '9\\u202fAM–8\\u202fPM',\n",
              "   'sunday': '9\\u202fAM–8\\u202fPM',\n",
              "   'monday': '9\\u202fAM–8\\u202fPM',\n",
              "   'tuesday': '9\\u202fAM–8\\u202fPM',\n",
              "   'wednesday': '9\\u202fAM–8\\u202fPM',\n",
              "   'thursday': '9\\u202fAM–8\\u202fPM'},\n",
              "  'phone': '+62 24 3563698',\n",
              "  'service_options': {'dine_in': True, 'takeout': True},\n",
              "  'order_online': 'https://food.google.com/chooseprovider?restaurantId=/g/11bzrpsp7d&g2lbs=AOHF13kUYfye0nzvPmwb1pB5y94oyfw0vAJPepmX3Q5L-Lws0aulYJvqlKqVdoognnkWKLvmisFunANndCT6qVetJ9qgI6a8d38aBzlU-hkTberbpcZhuSfDX9LvB6CNmiTkihvybkL_&hl=en-US&gl=us&fo_m=MfohQo559jFvMUOzJVpjPL1YMfZ3bInYwBDuMfaXTPp5KXh-&utm_source=tactile&gei=eLd-ZtySHY_CwPAP9b6K8Ag&ei=eLd-ZtySHY_CwPAP9b6K8Ag&fo_s=OA,SOE&opi=79508299&foub=mcpp',\n",
              "  'thumbnail': 'https://lh5.googleusercontent.com/p/AF1QipMAMFYruk9ahwJDkrEds9xYPtse6V4E4sjPAx8=w122-h92-k-no'},\n",
              " {'position': 9,\n",
              "  'title': 'MULYAFOOD Oleh -oleh Bandeng Presto Dan Aneka Olahan Ikan',\n",
              "  'place_id': 'ChIJo5wFeA-LcC4R2NDPDa-R6Ac',\n",
              "  'data_id': '0x2e708b0f78059ca3:0x7e891af0dcfd0d8',\n",
              "  'data_cid': '569865533899395288',\n",
              "  'reviews_link': 'https://serpapi.com/search.json?data_id=0x2e708b0f78059ca3%3A0x7e891af0dcfd0d8&engine=google_maps_reviews&hl=en',\n",
              "  'photos_link': 'https://serpapi.com/search.json?data_id=0x2e708b0f78059ca3%3A0x7e891af0dcfd0d8&engine=google_maps_photos&hl=en',\n",
              "  'gps_coordinates': {'latitude': -6.9917767, 'longitude': 110.41112849999999},\n",
              "  'place_id_search': 'https://serpapi.com/search.json?engine=google_maps&google_domain=google.com&hl=en&place_id=ChIJo5wFeA-LcC4R2NDPDa-R6Ac',\n",
              "  'provider_id': '/g/11flsyczhd',\n",
              "  'rating': 4.8,\n",
              "  'reviews': 23,\n",
              "  'type': 'Store',\n",
              "  'types': ['Store'],\n",
              "  'type_id': 'store',\n",
              "  'type_ids': ['store'],\n",
              "  'address': 'Jl. Bergota Krajan No.532, Randusari, Kec. Semarang Sel., Kota Semarang, Jawa Tengah 50244, Indonesia',\n",
              "  'open_state': 'Closes soon ⋅ 8:30\\u202fPM ⋅ Opens 8\\u202fAM Sat',\n",
              "  'hours': 'Closes soon ⋅ 8:30\\u202fPM ⋅ Opens 8\\u202fAM Sat',\n",
              "  'operating_hours': {'friday': '8\\u202fAM–8:30\\u202fPM',\n",
              "   'saturday': '8\\u202fAM–8:30\\u202fPM',\n",
              "   'sunday': '8\\u202fAM–8:30\\u202fPM',\n",
              "   'monday': '8\\u202fAM–8:30\\u202fPM',\n",
              "   'tuesday': '8\\u202fAM–8:30\\u202fPM',\n",
              "   'wednesday': '8\\u202fAM–8:30\\u202fPM',\n",
              "   'thursday': '8\\u202fAM–8:30\\u202fPM'},\n",
              "  'phone': '+62 813-2506-6239',\n",
              "  'service_options': {'in_store_pickup': True, 'delivery': True},\n",
              "  'thumbnail': 'https://lh5.googleusercontent.com/p/AF1QipMxiG8M5fVFp4-i0xjeBq5prKRNdXUeUjlue3Bq=w163-h92-k-no'},\n",
              " {'position': 10,\n",
              "  'title': 'Bandeng Juwana Elrina Pamularsih',\n",
              "  'place_id': 'ChIJWTfwvzqLcC4RWPgtvSDXiMo',\n",
              "  'data_id': '0x2e708b3abff03759:0xca88d720bd2df858',\n",
              "  'data_cid': '14594151128106924120',\n",
              "  'reviews_link': 'https://serpapi.com/search.json?data_id=0x2e708b3abff03759%3A0xca88d720bd2df858&engine=google_maps_reviews&hl=en',\n",
              "  'photos_link': 'https://serpapi.com/search.json?data_id=0x2e708b3abff03759%3A0xca88d720bd2df858&engine=google_maps_photos&hl=en',\n",
              "  'gps_coordinates': {'latitude': -6.9881337, 'longitude': 110.3920124},\n",
              "  'place_id_search': 'https://serpapi.com/search.json?engine=google_maps&google_domain=google.com&hl=en&place_id=ChIJWTfwvzqLcC4RWPgtvSDXiMo',\n",
              "  'provider_id': '/g/1ptwj21jz',\n",
              "  'rating': 4.5,\n",
              "  'reviews': 9595,\n",
              "  'price': '$$',\n",
              "  'type': 'Gift shop',\n",
              "  'types': ['Gift shop', 'Store'],\n",
              "  'type_id': 'gift_shop',\n",
              "  'type_ids': ['gift_shop', 'store'],\n",
              "  'address': 'Jl. Pamularsih Raya No.70, Bongsari, Semarang Barat, Semarang City, Central Java 50148, Indonesia',\n",
              "  'open_state': 'Closes soon ⋅ 9\\u202fPM ⋅ Opens 7\\u202fAM Sat',\n",
              "  'hours': 'Closes soon ⋅ 9\\u202fPM ⋅ Opens 7\\u202fAM Sat',\n",
              "  'operating_hours': {'friday': '7\\u202fAM–9\\u202fPM',\n",
              "   'saturday': '7\\u202fAM–9\\u202fPM',\n",
              "   'sunday': '7\\u202fAM–9\\u202fPM',\n",
              "   'monday': '7\\u202fAM–9\\u202fPM',\n",
              "   'tuesday': '7\\u202fAM–9\\u202fPM',\n",
              "   'wednesday': '7\\u202fAM–9\\u202fPM',\n",
              "   'thursday': '7\\u202fAM–9\\u202fPM'},\n",
              "  'phone': '+62 812-2722-7070',\n",
              "  'website': 'https://linktr.ee/bandengjuwanaelrina',\n",
              "  'service_options': {'in_store_pickup': True, 'delivery': True},\n",
              "  'thumbnail': 'https://lh5.googleusercontent.com/p/AF1QipM8rpKcRDyCh3JEw5TRyhaULMupFQngTiNv07Cl=w122-h92-k-no'},\n",
              " {'position': 11,\n",
              "  'title': 'Bandeng Abimanyu Presto Semarang Duuri Lunak',\n",
              "  'place_id': 'ChIJ5T--h4eLcC4RDXHFuU_aPsI',\n",
              "  'data_id': '0x2e708b8787be3fe5:0xc23eda4fb9c5710d',\n",
              "  'data_cid': '13996864727868076301',\n",
              "  'reviews_link': 'https://serpapi.com/search.json?data_id=0x2e708b8787be3fe5%3A0xc23eda4fb9c5710d&engine=google_maps_reviews&hl=en',\n",
              "  'photos_link': 'https://serpapi.com/search.json?data_id=0x2e708b8787be3fe5%3A0xc23eda4fb9c5710d&engine=google_maps_photos&hl=en',\n",
              "  'gps_coordinates': {'latitude': -6.975911, 'longitude': 110.4105026},\n",
              "  'place_id_search': 'https://serpapi.com/search.json?engine=google_maps&google_domain=google.com&hl=en&place_id=ChIJ5T--h4eLcC4RDXHFuU_aPsI',\n",
              "  'provider_id': '/g/11h4yzz17f',\n",
              "  'rating': 5,\n",
              "  'reviews': 8,\n",
              "  'type': 'Deli',\n",
              "  'types': ['Deli'],\n",
              "  'type_id': 'deli',\n",
              "  'type_ids': ['deli'],\n",
              "  'address': 'Jl. Abimanyu V No.25 D, Plombokan, Kec. Semarang Utara, Kota Semarang, Jawa Tengah 50131, Indonesia',\n",
              "  'open_state': 'Closed ⋅ Opens 8\\u202fAM Sat',\n",
              "  'hours': 'Closed ⋅ Opens 8\\u202fAM Sat',\n",
              "  'operating_hours': {'friday': '8\\u202fAM–8\\u202fPM',\n",
              "   'saturday': '8\\u202fAM–8\\u202fPM',\n",
              "   'sunday': '8\\u202fAM–8\\u202fPM',\n",
              "   'monday': '8\\u202fAM–8\\u202fPM',\n",
              "   'tuesday': '8\\u202fAM–8\\u202fPM',\n",
              "   'wednesday': '8\\u202fAM–8\\u202fPM',\n",
              "   'thursday': '8\\u202fAM–8\\u202fPM'},\n",
              "  'phone': '+62 818-0589-5777',\n",
              "  'website': 'https://instagram.com/bandengabimanyupresto?igshid=MTNiYzNiMzkwZA==',\n",
              "  'service_options': {'takeout': True, 'delivery': True},\n",
              "  'order_online': 'https://food.google.com/chooseprovider?restaurantId=/g/11h4yzz17f&g2lbs=AOHF13kHupoRRpbpvvOq92gdHrpPUVI_ZklYNUkkbCmjagJOScJ2Kr1bFyCkxujVApBcbjbpT9vW2nzrAGlCq3dZGxH4qtDXeUTD6nuHzFgdnFFdsi9CmBKAI9MnOc_HITj7xGCya8ZQ&hl=en-US&gl=us&fo_m=MfohQo559jFvMUOzJVpjPL1YMfZ3bInYwBDuMfaXTPp5KXh-&utm_source=tactile&gei=eLd-ZtySHY_CwPAP9b6K8Ag&ei=eLd-ZtySHY_CwPAP9b6K8Ag&fo_s=OA,SOE&opi=79508299&foub=mcpp',\n",
              "  'thumbnail': 'https://lh5.googleusercontent.com/p/AF1QipN3Jl_8QsV_8bi74LQyUBnHT8WcYGOUg3wF2nRh=w92-h92-k-no'},\n",
              " {'position': 12,\n",
              "  'title': 'Bandeng Presto \"GEMARI\"',\n",
              "  'place_id': 'ChIJPczld9KLcC4R8L6xRqQBKn0',\n",
              "  'data_id': '0x2e708bd277e5cc3d:0x7d2a01a446b1bef0',\n",
              "  'data_cid': '9019023008835157744',\n",
              "  'reviews_link': 'https://serpapi.com/search.json?data_id=0x2e708bd277e5cc3d%3A0x7d2a01a446b1bef0&engine=google_maps_reviews&hl=en',\n",
              "  'photos_link': 'https://serpapi.com/search.json?data_id=0x2e708bd277e5cc3d%3A0x7d2a01a446b1bef0&engine=google_maps_photos&hl=en',\n",
              "  'gps_coordinates': {'latitude': -6.983657, 'longitude': 110.4167184},\n",
              "  'place_id_search': 'https://serpapi.com/search.json?engine=google_maps&google_domain=google.com&hl=en&place_id=ChIJPczld9KLcC4R8L6xRqQBKn0',\n",
              "  'provider_id': '/g/11hdmvkjvj',\n",
              "  'rating': 5,\n",
              "  'reviews': 5,\n",
              "  'unclaimed_listing': True,\n",
              "  'type': 'Market',\n",
              "  'types': ['Market'],\n",
              "  'type_id': 'market',\n",
              "  'type_ids': ['market'],\n",
              "  'address': 'Jl. Batan Timur Raya No.25-33, Miroto, Semarang Tengah, Semarang City, Central Java 50134, Indonesia',\n",
              "  'open_state': 'Open ⋅ Closes 10\\u202fPM',\n",
              "  'hours': 'Open ⋅ Closes 10\\u202fPM',\n",
              "  'operating_hours': {'friday': '6\\u202fAM–10\\u202fPM',\n",
              "   'saturday': '6\\u202fAM–10\\u202fPM',\n",
              "   'sunday': '6\\u202fAM–9\\u202fPM',\n",
              "   'monday': '6\\u202fAM–9\\u202fPM',\n",
              "   'tuesday': '6\\u202fAM–9\\u202fPM',\n",
              "   'wednesday': '6\\u202fAM–9\\u202fPM',\n",
              "   'thursday': '6\\u202fAM–9\\u202fPM'},\n",
              "  'phone': '+62 24 3544581',\n",
              "  'thumbnail': 'https://lh5.googleusercontent.com/p/AF1QipMVJTwRsi_fBsCqxdDPMaRrQICbzxEUm_oQYUky=w80-h106-k-no'},\n",
              " {'position': 13,\n",
              "  'title': 'Dendeng Bandeng BUANNA',\n",
              "  'place_id': 'ChIJXeYdSRGLcC4RcU8SUbzjd9M',\n",
              "  'data_id': '0x2e708b11491de65d:0xd377e3bc51124f71',\n",
              "  'data_cid': '15237898262184873841',\n",
              "  'reviews_link': 'https://serpapi.com/search.json?data_id=0x2e708b11491de65d%3A0xd377e3bc51124f71&engine=google_maps_reviews&hl=en',\n",
              "  'photos_link': 'https://serpapi.com/search.json?data_id=0x2e708b11491de65d%3A0xd377e3bc51124f71&engine=google_maps_photos&hl=en',\n",
              "  'gps_coordinates': {'latitude': -6.983136399999999, 'longitude': 110.403678},\n",
              "  'place_id_search': 'https://serpapi.com/search.json?engine=google_maps&google_domain=google.com&hl=en&place_id=ChIJXeYdSRGLcC4RcU8SUbzjd9M',\n",
              "  'provider_id': '/g/11ssz7bfz3',\n",
              "  'rating': 5,\n",
              "  'reviews': 6,\n",
              "  'unclaimed_listing': True,\n",
              "  'type': 'Bakery',\n",
              "  'types': ['Bakery'],\n",
              "  'type_id': 'bakery',\n",
              "  'type_ids': ['bakery'],\n",
              "  'address': 'Jl. Bulustalan II No.66, Bulustalan, Semarang Selatan, Semarang City, Central Java 50245, Indonesia',\n",
              "  'open_state': 'Closed ⋅ Opens 6\\u202fAM Sat',\n",
              "  'hours': 'Closed ⋅ Opens 6\\u202fAM Sat',\n",
              "  'operating_hours': {'friday': '6\\u202fAM–7\\u202fPM',\n",
              "   'saturday': '6\\u202fAM–7\\u202fPM',\n",
              "   'sunday': '6\\u202fAM–7\\u202fPM',\n",
              "   'monday': '6\\u202fAM–7\\u202fPM',\n",
              "   'tuesday': '6\\u202fAM–7\\u202fPM',\n",
              "   'wednesday': '6\\u202fAM–7\\u202fPM',\n",
              "   'thursday': '6\\u202fAM–7\\u202fPM'},\n",
              "  'phone': '+62 813-2537-5293',\n",
              "  'website': 'https://api.whatsapp.com/send/?phone=6281325375293&text&type=phone_number&app_absent=0',\n",
              "  'service_options': {'takeout': True},\n",
              "  'thumbnail': 'https://lh5.googleusercontent.com/p/AF1QipM6V6zJv0HBjGbs7HR3-XBIzgibNrgOBBTDk38U=w122-h92-k-no'},\n",
              " {'position': 14,\n",
              "  'title': 'Bandeng Suyudono',\n",
              "  'place_id': 'ChIJe03Zja2LcC4RFjtT3XOh2mw',\n",
              "  'data_id': '0x2e708bad8dd94d7b:0x6cdaa173dd533b16',\n",
              "  'data_cid': '7843759220025670422',\n",
              "  'reviews_link': 'https://serpapi.com/search.json?data_id=0x2e708bad8dd94d7b%3A0x6cdaa173dd533b16&engine=google_maps_reviews&hl=en',\n",
              "  'photos_link': 'https://serpapi.com/search.json?data_id=0x2e708bad8dd94d7b%3A0x6cdaa173dd533b16&engine=google_maps_photos&hl=en',\n",
              "  'gps_coordinates': {'latitude': -6.98672, 'longitude': 110.40496279999999},\n",
              "  'place_id_search': 'https://serpapi.com/search.json?engine=google_maps&google_domain=google.com&hl=en&place_id=ChIJe03Zja2LcC4RFjtT3XOh2mw',\n",
              "  'provider_id': '/g/11gmxht59z',\n",
              "  'rating': 5,\n",
              "  'reviews': 1,\n",
              "  'type': 'Business park',\n",
              "  'types': ['Business park', 'Cafe'],\n",
              "  'type_id': 'business_park',\n",
              "  'type_ids': ['business_park', 'cafe'],\n",
              "  'address': 'Jl. Suyudono No.73, Barusari, Kec. Semarang Sel., Kota Semarang, Jawa Tengah 50245, Indonesia',\n",
              "  'open_state': 'Closed ⋅ Opens 9\\u202fAM Sat',\n",
              "  'hours': 'Closed ⋅ Opens 9\\u202fAM Sat',\n",
              "  'operating_hours': {'friday': '9\\u202fAM–6\\u202fPM',\n",
              "   'saturday': '9\\u202fAM–5\\u202fPM',\n",
              "   'sunday': 'Closed',\n",
              "   'monday': '9\\u202fAM–6\\u202fPM',\n",
              "   'tuesday': '9\\u202fAM–6\\u202fPM',\n",
              "   'wednesday': '9\\u202fAM–6\\u202fPM',\n",
              "   'thursday': '9\\u202fAM–6\\u202fPM'},\n",
              "  'phone': '+62 895-3607-07863',\n",
              "  'thumbnail': 'https://streetviewpixels-pa.googleapis.com/v1/thumbnail?panoid=OodjnGiZla5zMo5fXeEUFQ&cb_client=search.gws-prod.gps&w=80&h=92&yaw=307.5301&pitch=0&thumbfov=100'},\n",
              " {'position': 15,\n",
              "  'title': 'Bandeng Hj. Djum',\n",
              "  'place_id': 'ChIJx3wf4pmMcC4RSJD6uCtwf20',\n",
              "  'data_id': '0x2e708c99e21f7cc7:0x6d7f702bb8fa9048',\n",
              "  'data_cid': '7890148405265731656',\n",
              "  'reviews_link': 'https://serpapi.com/search.json?data_id=0x2e708c99e21f7cc7%3A0x6d7f702bb8fa9048&engine=google_maps_reviews&hl=en',\n",
              "  'photos_link': 'https://serpapi.com/search.json?data_id=0x2e708c99e21f7cc7%3A0x6d7f702bb8fa9048&engine=google_maps_photos&hl=en',\n",
              "  'gps_coordinates': {'latitude': -7.0002112, 'longitude': 110.4379446},\n",
              "  'place_id_search': 'https://serpapi.com/search.json?engine=google_maps&google_domain=google.com&hl=en&place_id=ChIJx3wf4pmMcC4RSJD6uCtwf20',\n",
              "  'provider_id': '/g/11cs9lqf73',\n",
              "  'rating': 4.4,\n",
              "  'reviews': 249,\n",
              "  'unclaimed_listing': True,\n",
              "  'type': 'Frozen food store',\n",
              "  'types': ['Frozen food store'],\n",
              "  'type_id': 'frozen_food_store',\n",
              "  'type_ids': ['frozen_food_store'],\n",
              "  'address': 'Jalan Kanal 4A, Peterongan, Semarang Selatan, Lamper Lor, Kec. Semarang Sel., Kota Semarang, Jawa Tengah 50242, Indonesia',\n",
              "  'open_state': 'Closed ⋅ Opens 8\\u202fAM Sat',\n",
              "  'hours': 'Closed ⋅ Opens 8\\u202fAM Sat',\n",
              "  'operating_hours': {'friday': '8\\u202fAM–6\\u202fPM',\n",
              "   'saturday': '8\\u202fAM–6\\u202fPM',\n",
              "   'sunday': '8\\u202fAM–6\\u202fPM',\n",
              "   'monday': '8\\u202fAM–6\\u202fPM',\n",
              "   'tuesday': '8\\u202fAM–6\\u202fPM',\n",
              "   'wednesday': '8\\u202fAM–6\\u202fPM',\n",
              "   'thursday': '8\\u202fAM–6\\u202fPM'},\n",
              "  'phone': '+62 813-9017-2266',\n",
              "  'service_options': {'in_store_pickup': True},\n",
              "  'thumbnail': 'https://lh5.googleusercontent.com/p/AF1QipPS1PiSlRlnFFrTHgH0bG0tVJBo5tvYuasIV4-J=w122-h92-k-no'},\n",
              " {'position': 16,\n",
              "  'title': 'Bandeng Presto Genitas',\n",
              "  'place_id': 'ChIJ7Tg15EaLcC4RY1xl6b9I0NU',\n",
              "  'data_id': '0x2e708b46e43538ed:0xd5d048bfe9655c63',\n",
              "  'data_cid': '15406894314326154339',\n",
              "  'reviews_link': 'https://serpapi.com/search.json?data_id=0x2e708b46e43538ed%3A0xd5d048bfe9655c63&engine=google_maps_reviews&hl=en',\n",
              "  'photos_link': 'https://serpapi.com/search.json?data_id=0x2e708b46e43538ed%3A0xd5d048bfe9655c63&engine=google_maps_photos&hl=en',\n",
              "  'gps_coordinates': {'latitude': -6.9905612999999995,\n",
              "   'longitude': 110.40095249999999},\n",
              "  'place_id_search': 'https://serpapi.com/search.json?engine=google_maps&google_domain=google.com&hl=en&place_id=ChIJ7Tg15EaLcC4RY1xl6b9I0NU',\n",
              "  'provider_id': '/g/11pbyjqchv',\n",
              "  'rating': 5,\n",
              "  'reviews': 4,\n",
              "  'type': 'Grocery store',\n",
              "  'types': ['Grocery store'],\n",
              "  'type_id': 'grocery_store',\n",
              "  'type_ids': ['grocery_store'],\n",
              "  'address': 'Gg. Cinta, Bojongsalaman, Kec. Semarang Barat, Kota Semarang, Jawa Tengah 50141, Indonesia',\n",
              "  'phone': '+62 857-2618-2423',\n",
              "  'service_options': {'in_store_shopping': True, 'delivery': True},\n",
              "  'thumbnail': 'https://lh5.googleusercontent.com/p/AF1QipO5UciYSURvTMC0J6r6r3Yz26j7hRdskvP3KqkB=w80-h106-k-no'},\n",
              " {'position': 17,\n",
              "  'title': 'BANDENG OMAS CABUT DURI',\n",
              "  'place_id': 'ChIJy-H_njWLcC4R6--P9wsuCkY',\n",
              "  'data_id': '0x2e708b359effe1cb:0x460a2e0bf78fefeb',\n",
              "  'data_cid': '5046896961354985451',\n",
              "  'reviews_link': 'https://serpapi.com/search.json?data_id=0x2e708b359effe1cb%3A0x460a2e0bf78fefeb&engine=google_maps_reviews&hl=en',\n",
              "  'photos_link': 'https://serpapi.com/search.json?data_id=0x2e708b359effe1cb%3A0x460a2e0bf78fefeb&engine=google_maps_photos&hl=en',\n",
              "  'gps_coordinates': {'latitude': -6.979039299999999,\n",
              "   'longitude': 110.4010036},\n",
              "  'place_id_search': 'https://serpapi.com/search.json?engine=google_maps&google_domain=google.com&hl=en&place_id=ChIJy-H_njWLcC4R6--P9wsuCkY',\n",
              "  'provider_id': '/g/11dxl9p9y2',\n",
              "  'rating': 4.8,\n",
              "  'reviews': 4,\n",
              "  'unclaimed_listing': True,\n",
              "  'type': 'Health food store',\n",
              "  'types': ['Health food store'],\n",
              "  'type_id': 'health_food_store',\n",
              "  'type_ids': ['health_food_store'],\n",
              "  'address': 'Jl. Madukoro Raya No.55A, Krobokan, Kec. Semarang Barat, Kota Semarang, Jawa Tengah 50141, Indonesia',\n",
              "  'open_state': 'Closed ⋅ Opens 7:30\\u202fAM Sat',\n",
              "  'hours': 'Closed ⋅ Opens 7:30\\u202fAM Sat',\n",
              "  'operating_hours': {'friday': '7:30\\u202fAM–7:30\\u202fPM',\n",
              "   'saturday': '7:30\\u202fAM–7:30\\u202fPM',\n",
              "   'sunday': '7:30\\u202fAM–7:30\\u202fPM',\n",
              "   'monday': '7:30\\u202fAM–7:30\\u202fPM',\n",
              "   'tuesday': '7:30\\u202fAM–7:30\\u202fPM',\n",
              "   'wednesday': '7:30\\u202fAM–7:30\\u202fPM',\n",
              "   'thursday': '7:30\\u202fAM–7:30\\u202fPM'},\n",
              "  'phone': '+62 813-2649-1420',\n",
              "  'website': 'http://www.bandengomas.blogspot.co.id/',\n",
              "  'service_options': {'delivery': True},\n",
              "  'thumbnail': 'https://lh5.googleusercontent.com/p/AF1QipNTcgkCgdLQN3cnPkTnwMnoNwSRpDc2eGEGUnPo=w163-h92-k-no'},\n",
              " {'position': 18,\n",
              "  'title': 'Bandeng Presto Pak Kumis',\n",
              "  'place_id': 'ChIJb6Gzaab1cC4RrTYN8PV94Is',\n",
              "  'data_id': '0x2e70f5a669b3a16f:0x8be07df5f00d36ad',\n",
              "  'data_cid': '10079194461303027373',\n",
              "  'reviews_link': 'https://serpapi.com/search.json?data_id=0x2e70f5a669b3a16f%3A0x8be07df5f00d36ad&engine=google_maps_reviews&hl=en',\n",
              "  'photos_link': 'https://serpapi.com/search.json?data_id=0x2e70f5a669b3a16f%3A0x8be07df5f00d36ad&engine=google_maps_photos&hl=en',\n",
              "  'gps_coordinates': {'latitude': -6.9702247999999996,\n",
              "   'longitude': 110.4238287},\n",
              "  'place_id_search': 'https://serpapi.com/search.json?engine=google_maps&google_domain=google.com&hl=en&place_id=ChIJb6Gzaab1cC4RrTYN8PV94Is',\n",
              "  'provider_id': '/g/11gk7jz18z',\n",
              "  'rating': 4.5,\n",
              "  'reviews': 23,\n",
              "  'unclaimed_listing': True,\n",
              "  'type': 'Restaurant',\n",
              "  'types': ['Restaurant'],\n",
              "  'type_id': 'restaurant',\n",
              "  'type_ids': ['restaurant'],\n",
              "  'address': '2CHF+WG8, Kauman, Kec. Semarang Tengah, Kota Semarang, Jawa Tengah 50188, Indonesia',\n",
              "  'open_state': 'Closed ⋅ Opens 8:30\\u202fAM Sat',\n",
              "  'hours': 'Closed ⋅ Opens 8:30\\u202fAM Sat',\n",
              "  'operating_hours': {'friday': '8:30\\u202fAM–4:30\\u202fPM',\n",
              "   'saturday': '8:30\\u202fAM–4:30\\u202fPM',\n",
              "   'sunday': '8:30\\u202fAM–4:30\\u202fPM',\n",
              "   'monday': '8:30\\u202fAM–4:30\\u202fPM',\n",
              "   'tuesday': '8:30\\u202fAM–4:30\\u202fPM',\n",
              "   'wednesday': '8:30\\u202fAM–4:30\\u202fPM',\n",
              "   'thursday': '8:30\\u202fAM–4:30\\u202fPM'},\n",
              "  'phone': '+62 877-3381-7555',\n",
              "  'service_options': {'dine_in': True, 'takeout': True},\n",
              "  'thumbnail': 'https://lh5.googleusercontent.com/p/AF1QipOdSiTaHR0J3rsFlPMENZF4zmuXr7wOGQ_ffPST=w80-h142-k-no'},\n",
              " {'position': 19,\n",
              "  'title': 'Bandeng Presto Juara',\n",
              "  'place_id': 'ChIJQ9b07Yz1cC4R8X-nmhtcYCM',\n",
              "  'data_id': '0x2e70f58cedf4d643:0x23605c1b9aa77ff1',\n",
              "  'data_cid': '2549138662720241649',\n",
              "  'reviews_link': 'https://serpapi.com/search.json?data_id=0x2e70f58cedf4d643%3A0x23605c1b9aa77ff1&engine=google_maps_reviews&hl=en',\n",
              "  'photos_link': 'https://serpapi.com/search.json?data_id=0x2e70f58cedf4d643%3A0x23605c1b9aa77ff1&engine=google_maps_photos&hl=en',\n",
              "  'gps_coordinates': {'latitude': -6.957791899999999,\n",
              "   'longitude': 110.40706159999999},\n",
              "  'place_id_search': 'https://serpapi.com/search.json?engine=google_maps&google_domain=google.com&hl=en&place_id=ChIJQ9b07Yz1cC4R8X-nmhtcYCM',\n",
              "  'provider_id': '/g/11gjj2czqx',\n",
              "  'rating': 4.9,\n",
              "  'reviews': 16,\n",
              "  'type': 'Restaurant',\n",
              "  'types': ['Restaurant'],\n",
              "  'type_id': 'restaurant',\n",
              "  'type_ids': ['restaurant'],\n",
              "  'address': 'Jl. Tambak Mas VI No.36, Panggung Lor, Semarang Utara, Semarang City, Central Java 50177, Indonesia',\n",
              "  'open_state': 'Closed ⋅ Opens 8\\u202fAM Sat',\n",
              "  'hours': 'Closed ⋅ Opens 8\\u202fAM Sat',\n",
              "  'operating_hours': {'friday': '8\\u202fAM–8\\u202fPM',\n",
              "   'saturday': '8\\u202fAM–8\\u202fPM',\n",
              "   'sunday': 'Closed',\n",
              "   'monday': '8\\u202fAM–8\\u202fPM',\n",
              "   'tuesday': '8\\u202fAM–8\\u202fPM',\n",
              "   'wednesday': '8\\u202fAM–8\\u202fPM',\n",
              "   'thursday': '8\\u202fAM–8\\u202fPM'},\n",
              "  'phone': '+62 858-2667-7166',\n",
              "  'website': 'http://instagram.com/bandengjuara.id',\n",
              "  'service_options': {'dine_in': True, 'takeout': True},\n",
              "  'order_online': 'https://food.google.com/chooseprovider?restaurantId=/g/11gjj2czqx&g2lbs=AOHF13ncI_oyxuwxajXRJeShwBjr1KoJGrgh1a8VUU_Y3jVevxCL14dogxL5YPzLYfqdUlZZv17VgmPfFJmcHetXVFH9hUnF4sJFIQWzFqPEvp5YY2VUDMhnhnUdDD7EyzHtVqJIX5U2&hl=en-US&gl=us&fo_m=MfohQo559jFvMUOzJVpjPL1YMfZ3bInYwBDuMfaXTPp5KXh-&utm_source=tactile&gei=eLd-ZtySHY_CwPAP9b6K8Ag&ei=eLd-ZtySHY_CwPAP9b6K8Ag&fo_s=OA,SOE&opi=79508299&foub=mcpp',\n",
              "  'thumbnail': 'https://lh5.googleusercontent.com/p/AF1QipPpcx8fG9ZZv-R4faPLPxiIgl4cEJ0weTn-zbkK=w92-h92-k-no'},\n",
              " {'position': 20,\n",
              "  'title': 'Bandeng Presto \"Bu Taris\"',\n",
              "  'place_id': 'ChIJmbWse8v0cC4R2LqmB9udWVw',\n",
              "  'data_id': '0x2e70f4cb7bacb599:0x5c599ddb07a6bad8',\n",
              "  'data_cid': '6654523488468384472',\n",
              "  'reviews_link': 'https://serpapi.com/search.json?data_id=0x2e70f4cb7bacb599%3A0x5c599ddb07a6bad8&engine=google_maps_reviews&hl=en',\n",
              "  'photos_link': 'https://serpapi.com/search.json?data_id=0x2e70f4cb7bacb599%3A0x5c599ddb07a6bad8&engine=google_maps_photos&hl=en',\n",
              "  'gps_coordinates': {'latitude': -6.9709786, 'longitude': 110.3964542},\n",
              "  'place_id_search': 'https://serpapi.com/search.json?engine=google_maps&google_domain=google.com&hl=en&place_id=ChIJmbWse8v0cC4R2LqmB9udWVw',\n",
              "  'provider_id': '/g/11c52slr_9',\n",
              "  'rating': 4.8,\n",
              "  'reviews': 23,\n",
              "  'price': '$',\n",
              "  'type': 'Diner',\n",
              "  'types': ['Diner'],\n",
              "  'type_id': 'diner',\n",
              "  'type_ids': ['diner'],\n",
              "  'address': 'Jl. Jodipati Bar. No.74, Krobokan, Semarang Barat, Semarang City, Central Java 50141, Indonesia',\n",
              "  'open_state': 'Open ⋅ Closes 10\\u202fPM',\n",
              "  'hours': 'Open ⋅ Closes 10\\u202fPM',\n",
              "  'operating_hours': {'friday': '7\\u202fAM–10\\u202fPM',\n",
              "   'saturday': '7\\u202fAM–10\\u202fPM',\n",
              "   'sunday': '7\\u202fAM–9\\u202fPM',\n",
              "   'monday': '7\\u202fAM–10\\u202fPM',\n",
              "   'tuesday': '7\\u202fAM–10\\u202fPM',\n",
              "   'wednesday': '7\\u202fAM–10\\u202fPM',\n",
              "   'thursday': '7\\u202fAM–10\\u202fPM'},\n",
              "  'phone': '+62 852-2612-4765',\n",
              "  'service_options': {'dine_in': True, 'takeout': True},\n",
              "  'thumbnail': 'https://lh5.googleusercontent.com/p/AF1QipMn0hvzNzJI6Cxi3VSX70fvQCd9lV7c71xdkaEO=w163-h92-k-no'}]"
            ]
          },
          "metadata": {},
          "execution_count": 5
        }
      ]
    },
    {
      "cell_type": "code",
      "source": [
        "# tempat makan pertama"
      ],
      "metadata": {
        "id": "4pRGJk5zbZ43"
      },
      "execution_count": null,
      "outputs": []
    },
    {
      "cell_type": "code",
      "source": [
        "from serpapi import GoogleSearch\n",
        "\n",
        "params = {\n",
        "  \"engine\": \"google_maps_reviews\",\n",
        "  \"data_id\": \"0x2e708b455ba611bd:0x15cde10e2bb3a1\",\n",
        "  \"api_key\": \"868d926c14ebdce76ffb1aaa939da6f52e8ddc41abd58d9fe82c0f2984fb1760\"\n",
        "}\n",
        "\n",
        "search = GoogleSearch(params)\n",
        "results = search.get_dict()\n",
        "reviews = results[\"reviews\"][1][\"snippet\"]"
      ],
      "metadata": {
        "id": "8CQaM1rwY-sr"
      },
      "execution_count": 6,
      "outputs": []
    },
    {
      "cell_type": "code",
      "source": [
        "results"
      ],
      "metadata": {
        "id": "9NWW5Wb4Zd-u",
        "colab": {
          "base_uri": "https://localhost:8080/"
        },
        "outputId": "90ddda30-cb48-46c2-a943-7c3b6a57b1f7"
      },
      "execution_count": 12,
      "outputs": [
        {
          "output_type": "execute_result",
          "data": {
            "text/plain": [
              "{'search_metadata': {'id': '667eb8350b50628c46e684c3',\n",
              "  'status': 'Success',\n",
              "  'json_endpoint': 'https://serpapi.com/searches/3ccd2af24c8e7d8c/667eb8350b50628c46e684c3.json',\n",
              "  'created_at': '2024-06-28 13:18:45 UTC',\n",
              "  'processed_at': '2024-06-28 13:18:45 UTC',\n",
              "  'google_maps_reviews_url': 'https://www.google.com/maps/place/data=!4m7!3m6!1s0x2e708b455ba611bd:0x15cde10e2bb3a1!5m2!4m1!1i2!9m1!1b1?hl=en&gl=',\n",
              "  'raw_html_file': 'https://serpapi.com/searches/3ccd2af24c8e7d8c/667eb8350b50628c46e684c3.html',\n",
              "  'prettify_html_file': 'https://serpapi.com/searches/3ccd2af24c8e7d8c/667eb8350b50628c46e684c3.prettify',\n",
              "  'total_time_taken': 0.5},\n",
              " 'search_parameters': {'engine': 'google_maps_reviews',\n",
              "  'data_id': '0x2e708b455ba611bd:0x15cde10e2bb3a1',\n",
              "  'hl': 'en'},\n",
              " 'place_info': {'title': 'Bandeng Juwana Elrina Pandanaran',\n",
              "  'address': 'Jl. Pandanaran No.57, Randusari, Kec. Semarang Sel., Kota Semarang, Jawa Tengah 50244, Indonesia',\n",
              "  'rating': 4.5,\n",
              "  'reviews': 15464,\n",
              "  'type': 'Gift shop'},\n",
              " 'topics': [{'keyword': 'snacks', 'mentions': 185, 'id': '/m/01186fff'},\n",
              "  {'keyword': 'mochi', 'mentions': 155, 'id': '/m/012y0l'},\n",
              "  {'keyword': 'vacuum', 'mentions': 77, 'id': '/m/07zph'},\n",
              "  {'keyword': 'thorns', 'mentions': 66, 'id': '/m/0403mwp'},\n",
              "  {'keyword': 'bakpia', 'mentions': 63, 'id': '/m/02r709k'},\n",
              "  {'keyword': 'software', 'mentions': 49, 'id': '/m/01mf0'},\n",
              "  {'keyword': 'kripik', 'mentions': 46, 'id': '/m/0k2kr6d'},\n",
              "  {'keyword': 'bone', 'mentions': 37, 'id': '/m/01b92'},\n",
              "  {'keyword': 'dodol', 'mentions': 22, 'id': '/m/0264_72'},\n",
              "  {'keyword': 'parking space', 'mentions': 17, 'id': '/m/03pb_0'}],\n",
              " 'reviews': [{'link': 'https://www.google.com/maps/reviews/data=!4m8!14m7!1m6!2m5!1sChZDSUhNMG9nS0VJQ0FnSUQxNl9hWVFREAE!2m1!1s0x0:0x15cde10e2bb3a1!3m1!1s2@1:CIHM0ogKEICAgID16_aYQQ%7CCgwIh7T5rAYQ4ISRnQE%7C?hl=en-US',\n",
              "   'rating': 4.0,\n",
              "   'date': '5 months ago',\n",
              "   'iso_date': '2024-01-10T08:47:11Z',\n",
              "   'iso_date_of_last_edit': '2024-01-10T08:49:11Z',\n",
              "   'images': ['https://lh5.googleusercontent.com/p/AF1QipOYnlQe4XwMvZ-dHqDN2pe6AbFMAX2Q1UfW72vm=w150-h150-k-no-p',\n",
              "    'https://lh5.googleusercontent.com/p/AF1QipOO36NzDXOc5p1Civ6X_J1PN02W2RWItP7iqirG=w150-h150-k-no-p',\n",
              "    'https://lh5.googleusercontent.com/p/AF1QipP3Ln0_VYmqcbz38xagZud0LPjKAYGNVOikzZB7=w150-h150-k-no-p',\n",
              "    'https://lh5.googleusercontent.com/p/AF1QipMkeZUziqe-HakkHRdwPBUG1d0NfqQPoXud5Dft=w150-h150-k-no-p',\n",
              "    'https://lh5.googleusercontent.com/p/AF1QipPZgJIMdVm-zvhz3bkcDQhJevsd-R8SPC41W877=w150-h150-k-no-p'],\n",
              "   'source': 'Google',\n",
              "   'review_id': 'ChZDSUhNMG9nS0VJQ0FnSUQxNl9hWVFREAE',\n",
              "   'user': {'name': 'Ignatius Ray',\n",
              "    'link': 'https://www.google.com/maps/contrib/103924641467812973158?hl=en-US',\n",
              "    'contributor_id': '103924641467812973158',\n",
              "    'thumbnail': 'https://lh3.googleusercontent.com/a-/ALV-UjWHYGgQVUbdWiGo-SEdEzkypR9qwneQ7s-e0MyhBAUWp3PrBXdJ=s120-c-rp-mo-ba5-br100',\n",
              "    'local_guide': True,\n",
              "    'reviews': 108,\n",
              "    'photos': 715},\n",
              "   'snippet': 'Nice place for shopping expecially for specific food product who only available in Semarang like Bandeng Duri Lunak (soft-bone milkfish), Wingko(coconut cake), and many others.\\nThis is one of the oldest \"Toko Oleh-Oleh\" in Semarang.\\nThere are plenty of staffs who will gladly assist you during your visit. The cashiers staffs too are effective, quick and polite.\\nThe only cons are that it\\'s quite difficult to get a parking here, especially of you driving a car.\\nDon\\'t forget to come to this place when you visit to Semarang just to bring local food to your town\\n\\nR&D.',\n",
              "   'extracted_snippet': {'original': 'Nice place for shopping expecially for specific food product who only available in Semarang like Bandeng Duri Lunak (soft-bone milkfish), Wingko(coconut cake), and many others.\\nThis is one of the oldest \"Toko Oleh-Oleh\" in Semarang.\\nThere are plenty of staffs who will gladly assist you during your visit. The cashiers staffs too are effective, quick and polite.\\nThe only cons are that it\\'s quite difficult to get a parking here, especially of you driving a car.\\nDon\\'t forget to come to this place when you visit to Semarang just to bring local food to your town\\n\\nR&D.'},\n",
              "   'likes': 0},\n",
              "  {'link': 'https://www.google.com/maps/reviews/data=!4m8!14m7!1m6!2m5!1sChdDSUhNMG9nS0VJQ0FnSUREMF9PYjR3RRAB!2m1!1s0x0:0x15cde10e2bb3a1!3m1!1s2@1:CIHM0ogKEICAgIDD0_Ob4wE%7CCgsImtHssAYQwKreUg%7C?hl=en-US',\n",
              "   'rating': 4.0,\n",
              "   'date': '2 months ago',\n",
              "   'iso_date': '2024-04-14T00:51:38Z',\n",
              "   'iso_date_of_last_edit': '2024-04-14T00:51:38Z',\n",
              "   'images': ['https://lh5.googleusercontent.com/p/AF1QipPfD3RlMxkAeLN568xoFLVA3c5xwRFtV3V0Mh8W=w150-h150-k-no-p',\n",
              "    'https://lh5.googleusercontent.com/p/AF1QipNR6mK7yozlhaXyYh18cLVBCjo3iJgLIQx_mAH2=w150-h150-k-no-p',\n",
              "    'https://lh5.googleusercontent.com/p/AF1QipMqiLOzYfnviJCjPZpu6H9e-P7u0pNgZZeAiQBv=w150-h150-k-no-p',\n",
              "    'https://lh5.googleusercontent.com/p/AF1QipPYabIdBJYaDvEXRPI2vcN1WF0kHNliTragBGi0=w150-h150-k-no-p',\n",
              "    'https://lh5.googleusercontent.com/p/AF1QipPokk-InjTNBZGBDnTdWUWOXEAvOC8XCYzRuth0=w150-h150-k-no-p',\n",
              "    'https://lh5.googleusercontent.com/p/AF1QipOKKdXfPtuPkwCX4Gv2QprsyOkSWzzsAPc8ox8k=w150-h150-k-no-p',\n",
              "    'https://lh5.googleusercontent.com/p/AF1QipOsoToaNZtU5efkI9vioq0YSglZRYb4Qbsdz35Y=w150-h150-k-no-p'],\n",
              "   'source': 'Google',\n",
              "   'review_id': 'ChdDSUhNMG9nS0VJQ0FnSUREMF9PYjR3RRAB',\n",
              "   'user': {'name': 'Rony Suleman',\n",
              "    'link': 'https://www.google.com/maps/contrib/104863196627298177718?hl=en-US',\n",
              "    'contributor_id': '104863196627298177718',\n",
              "    'thumbnail': 'https://lh3.googleusercontent.com/a-/ALV-UjWxWqi2aJYBqjxzzo23xEzkA7QBIbXHN_U-cqBZ0ZZ44dOdDdy0QQ=s120-c-rp-mo-ba7-br100',\n",
              "    'local_guide': True,\n",
              "    'reviews': 886,\n",
              "    'photos': 6184},\n",
              "   'snippet': 'a place to sell typical Semarang snacks, the place is spacious and there are many buyers',\n",
              "   'extracted_snippet': {'original': 'a place to sell typical Semarang snacks, the place is spacious and there are many buyers'},\n",
              "   'likes': 0},\n",
              "  {'link': 'https://www.google.com/maps/reviews/data=!4m8!14m7!1m6!2m5!1sChdDSUhNMG9nS0VJQ0FnSUNsd19EbnNBRRAB!2m1!1s0x0:0x15cde10e2bb3a1!3m1!1s2@1:CIHM0ogKEICAgIClw_DnsAE%7CCgwIv6mIqwYQ-Lu52QI%7C?hl=en-US',\n",
              "   'rating': 5.0,\n",
              "   'date': '7 months ago',\n",
              "   'iso_date': '2023-11-25T15:37:35Z',\n",
              "   'iso_date_of_last_edit': '2023-11-25T15:37:35Z',\n",
              "   'images': ['https://lh5.googleusercontent.com/p/AF1QipNcVEP_DmZW1P3T3DRiaibvC_0-Dfdh0OCiluxy=w150-h150-k-no-p',\n",
              "    'https://lh5.googleusercontent.com/p/AF1QipOA3cyPeQR_prWscFIzU6mtlGSVn2Qqdd0FdfYO=w150-h150-k-no-p',\n",
              "    'https://lh5.googleusercontent.com/p/AF1QipMaDULi9MPBqj3M_3Gk_NHcjMUAERMlMX5bdVTO=w150-h150-k-no-p',\n",
              "    'https://lh5.googleusercontent.com/p/AF1QipOXOHevoNpttNN3FPUE0SfvCv5fW_67enXheqeD=w150-h150-k-no-p',\n",
              "    'https://lh5.googleusercontent.com/p/AF1QipMdeMXeZG8tAOFQgGs7KMOWIpqj-TgIXInyel07=w150-h150-k-no-p',\n",
              "    'https://lh5.googleusercontent.com/p/AF1QipNQwy6UKSjNYr4ZWLvOSw4j5sxNPGNx1pqaoak9=w150-h150-k-no-p',\n",
              "    'https://lh5.googleusercontent.com/p/AF1QipOdeCwOcEvqBZZmoGt7o7ymFmJi-RIVqXO1WSrL=w150-h150-k-no-p'],\n",
              "   'source': 'Google',\n",
              "   'review_id': 'ChdDSUhNMG9nS0VJQ0FnSUNsd19EbnNBRRAB',\n",
              "   'user': {'name': 'Dedy Widjaja',\n",
              "    'link': 'https://www.google.com/maps/contrib/115626631598138717353?hl=en-US',\n",
              "    'contributor_id': '115626631598138717353',\n",
              "    'thumbnail': 'https://lh3.googleusercontent.com/a-/ALV-UjXzvgzOCNT968yRn1EyDFqMAACIiCCEEMAMtqi6hyPzgWS76Yco=s120-c-rp-mo-ba6-br100',\n",
              "    'local_guide': True,\n",
              "    'reviews': 274,\n",
              "    'photos': 1429},\n",
              "   'snippet': \"Pro : good service, taste, price, portion\\nCons : food appearance\\n\\nPrice : 4.5/5 (value price)\\nTaste : 4.5/5\\nCleanliness : 4.5/5\\nPortion : 4/5 (medium big)\\n\\nMust have try : bandeng koprok, beef bistik\\nNote : The taste is already amazing, but if you provide it with good appearance, that would be great\\n\\nAlways follow my reviews, it's trusted and objective\",\n",
              "   'extracted_snippet': {'original': \"Pro : good service, taste, price, portion\\nCons : food appearance\\n\\nPrice : 4.5/5 (value price)\\nTaste : 4.5/5\\nCleanliness : 4.5/5\\nPortion : 4/5 (medium big)\\n\\nMust have try : bandeng koprok, beef bistik\\nNote : The taste is already amazing, but if you provide it with good appearance, that would be great\\n\\nAlways follow my reviews, it's trusted and objective\"},\n",
              "   'likes': 0,\n",
              "   'response': {'date': '6 months ago',\n",
              "    'iso_date': '2023-12-11T05:04:55Z',\n",
              "    'iso_date_of_last_edit': '2023-12-11T05:04:55Z',\n",
              "    'snippet': 'Thank you kak atas review nya! Salam hangat dari kami di Elrina Restaurant dan toko Bandeng Juwana Elrina :). Suksess selalu ya kak!',\n",
              "    'extracted_snippet': {'original': 'Thank you kak atas review nya! Salam hangat dari kami di Elrina Restaurant dan toko Bandeng Juwana Elrina :). Suksess selalu ya kak!',\n",
              "     'translated': 'Thank you sis for the review! Warm greetings from us at Elrina Restaurant and Juwana Elrina Bandeng shop :). Always successful, sis!'}}},\n",
              "  {'link': 'https://www.google.com/maps/reviews/data=!4m8!14m7!1m6!2m5!1sChdDSUhNMG9nS0VJQ0FnSURqdXNyVG93RRAB!2m1!1s0x0:0x15cde10e2bb3a1!3m1!1s2@1:CIHM0ogKEICAgIDjusrTowE%7CCgwI6pK9sgYQ6Pjh2AI%7C?hl=en-US',\n",
              "   'rating': 5.0,\n",
              "   'date': 'a month ago',\n",
              "   'iso_date': '2024-05-02T06:53:30Z',\n",
              "   'iso_date_of_last_edit': '2024-05-23T13:49:30Z',\n",
              "   'images': ['https://lh5.googleusercontent.com/p/AF1QipMY_Lvm9B5sqESGoK-oxTG7qQlrpT9YMMtzFmEx=w150-h150-k-no-p',\n",
              "    'https://lh5.googleusercontent.com/p/AF1QipMTDDAMvle_FB2-jDOS4OY9ExTVbjrrxpXp1E2U=w150-h150-k-no-p'],\n",
              "   'source': 'Google',\n",
              "   'review_id': 'ChdDSUhNMG9nS0VJQ0FnSURqdXNyVG93RRAB',\n",
              "   'user': {'name': 'Maria Ghazali',\n",
              "    'link': 'https://www.google.com/maps/contrib/115536003397845749414?hl=en-US',\n",
              "    'contributor_id': '115536003397845749414',\n",
              "    'thumbnail': 'https://lh3.googleusercontent.com/a-/ALV-UjWhCyZ7DL1wO4qISDkPqT6L0aEl2ZqYRUpuMq9FK5DsKi-T9q4b=s120-c-rp-mo-ba4-br100',\n",
              "    'local_guide': True,\n",
              "    'reviews': 60,\n",
              "    'photos': 85},\n",
              "   'snippet': \"I love that they offered a lot of variety here! For example you can choose your proteins: either fish/chicken I think it's a nice concept. Definitely good to brings family over here!\",\n",
              "   'extracted_snippet': {'original': \"I love that they offered a lot of variety here! For example you can choose your proteins: either fish/chicken I think it's a nice concept. Definitely good to brings family over here!\"},\n",
              "   'likes': 0},\n",
              "  {'link': 'https://www.google.com/maps/reviews/data=!4m8!14m7!1m6!2m5!1sChdDSUhNMG9nS0VJQ0FnSURnekkybG1BRRAB!2m1!1s0x0:0x15cde10e2bb3a1!3m1!1s2@1:CIHM0ogKEICAgIDgzI2lmAE%7CCgwIh_-e7gUQ2Ie33wE%7C?hl=en-US',\n",
              "   'rating': 5.0,\n",
              "   'date': '4 years ago',\n",
              "   'iso_date': '2017-08-28T09:34:11Z',\n",
              "   'iso_date_of_last_edit': '2019-11-10T07:43:03Z',\n",
              "   'images': ['https://lh5.googleusercontent.com/p/AF1QipP6ZoGeKteRyLLYuOELOSNOIjCTAAUxvRdXXBOT=w150-h150-k-no-p',\n",
              "    'https://lh5.googleusercontent.com/p/AF1QipNXL6iuv6wDK-z2m09I4BMnjNyyaC6M149zvcWk=w150-h150-k-no-p',\n",
              "    'https://lh5.googleusercontent.com/p/AF1QipMb24godQ40n-pPlecGBurz_zWMFRvTtFhDLx-Z=w150-h150-k-no-p',\n",
              "    'https://lh5.googleusercontent.com/p/AF1QipN0eT6P4QaOT2p37TGKYPHMPpRsdOb4tMlQ_ERF=w150-h150-k-no-p',\n",
              "    'https://lh5.googleusercontent.com/p/AF1QipNgLqHVyDfuasprd0uwGCQG3Qog8dn1T_tYHXQh=w150-h150-k-no-p',\n",
              "    'https://lh5.googleusercontent.com/p/AF1QipMvxrPApKnQ3F5O06VH5zTJvu9Oe9wrQYU0nL7T=w150-h150-k-no-p',\n",
              "    'https://lh5.googleusercontent.com/p/AF1QipN5EeJwm4ThfdQZs-jEE3VjgfJZF9eMBHHtceuJ=w150-h150-k-no-p',\n",
              "    'https://lh5.googleusercontent.com/p/AF1QipOVp7gugQPhiR1KgYMP9QIZXSbFkuNO3YLiahEm=w150-h150-k-no-p',\n",
              "    'https://lh5.googleusercontent.com/p/AF1QipMUEXE6UMy4hYz_jttLGeWQji_4Ov_8uaRUPbA2=w150-h150-k-no-p',\n",
              "    'https://lh5.googleusercontent.com/p/AF1QipOHq4rKtrlv9IWcEPZ6azz6YUU9GCaErY6QcRhr=w150-h150-k-no-p',\n",
              "    'https://lh5.googleusercontent.com/p/AF1QipOlBdNYAXOdibIBZ8IgREfgSttmn7sssOJLATql=w150-h150-k-no-p',\n",
              "    'https://lh5.googleusercontent.com/p/AF1QipOk0x5NsnRk7KXdhB6xLzKknJ8Yp3rk9IxzDE7M=w150-h150-k-no-p'],\n",
              "   'source': 'Google',\n",
              "   'review_id': 'ChdDSUhNMG9nS0VJQ0FnSURnekkybG1BRRAB',\n",
              "   'user': {'name': 'Imam Santosa',\n",
              "    'link': 'https://www.google.com/maps/contrib/104855137790494848587?hl=en-US',\n",
              "    'contributor_id': '104855137790494848587',\n",
              "    'thumbnail': 'https://lh3.googleusercontent.com/a-/ALV-UjWjTczvKpQXNCXqPAXwvbYijXzeabast7-sQo7_7rmKLh6KCDde8Q=s120-c-rp-mo-ba8-br100',\n",
              "    'local_guide': True,\n",
              "    'reviews': 809,\n",
              "    'photos': 14335},\n",
              "   'snippet': 'This food souvenirs+resto store is located at Jalan Pandanaran. They offer lots of local food from Semarang and around such as Bandeng, Wingko Babad, Lumpia and Mochi. Snacks or food are very various. They have lots of staff and they are mostly well trained. Could be very crowded during weekend. So hot inside since they have only fan to cools the room temperature. Parking is a big challenge. Restaurant is available at the second floor. Offering mostly local dish with bandeng as the highlight such as asem asem bandeng, bandeng kuah tauco, sate bandeng etc. Toilet and musholla are available',\n",
              "   'extracted_snippet': {'original': 'This food souvenirs+resto store is located at Jalan Pandanaran. They offer lots of local food from Semarang and around such as Bandeng, Wingko Babad, Lumpia and Mochi. Snacks or food are very various. They have lots of staff and they are mostly well trained. Could be very crowded during weekend. So hot inside since they have only fan to cools the room temperature. Parking is a big challenge. Restaurant is available at the second floor. Offering mostly local dish with bandeng as the highlight such as asem asem bandeng, bandeng kuah tauco, sate bandeng etc. Toilet and musholla are available'},\n",
              "   'likes': 0},\n",
              "  {'link': 'https://www.google.com/maps/reviews/data=!4m8!14m7!1m6!2m5!1sChdDSUhNMG9nS0VJQ0FnSUNOcjhqdDN3RRAB!2m1!1s0x0:0x15cde10e2bb3a1!3m1!1s2@1:CIHM0ogKEICAgICNr8jt3wE%7CCgsIr_anrQYQqLGpSA%7C?hl=en-US',\n",
              "   'rating': 4.0,\n",
              "   'date': '5 months ago',\n",
              "   'iso_date': '2024-01-19T04:31:43Z',\n",
              "   'iso_date_of_last_edit': '2024-01-19T04:31:43Z',\n",
              "   'source': 'Google',\n",
              "   'review_id': 'ChdDSUhNMG9nS0VJQ0FnSUNOcjhqdDN3RRAB',\n",
              "   'user': {'name': 'Namouri Kyoto',\n",
              "    'link': 'https://www.google.com/maps/contrib/116274340299779925678?hl=en-US',\n",
              "    'contributor_id': '116274340299779925678',\n",
              "    'thumbnail': 'https://lh3.googleusercontent.com/a-/ALV-UjVXxv98u4c2IJ6HuaEvB-NVGwrkr9-mBNsisvb3cPaL3Ygw8HjNSQ=s120-c-rp-mo-ba6-br100',\n",
              "    'local_guide': True,\n",
              "    'reviews': 568,\n",
              "    'photos': 6760},\n",
              "   'snippet': 'Because there is a parking ban along this road, it was difficult for me to park my car.\\nvarious kinds of typical Semarang souvenirs.\\nThis is where my family subscribes for souvenirs. I always buy moachi, spring rolls, wingko babat. service is very friendly and fast.',\n",
              "   'extracted_snippet': {'original': 'Because there is a parking ban along this road, it was difficult for me to park my car.\\nvarious kinds of typical Semarang souvenirs.\\nThis is where my family subscribes for souvenirs. I always buy moachi, spring rolls, wingko babat. service is very friendly and fast.'},\n",
              "   'likes': 0},\n",
              "  {'link': 'https://www.google.com/maps/reviews/data=!4m8!14m7!1m6!2m5!1sChZDSUhNMG9nS0VJQ0FnSURRbGItV1pnEAE!2m1!1s0x0:0x15cde10e2bb3a1!3m1!1s2@1:CIHM0ogKEICAgIDQlb-WZg%7CCgwIkveV3gUQ8N_KzgE%7C?hl=en-US',\n",
              "   'rating': 5.0,\n",
              "   'date': '5 years ago',\n",
              "   'iso_date': '2018-02-20T01:40:36Z',\n",
              "   'iso_date_of_last_edit': '2018-10-16T05:48:02Z',\n",
              "   'images': ['https://lh5.googleusercontent.com/p/AF1QipOjlywXe_e9c1TfQz9WDrxEZ6VzCV4OYVQQ2kwC=w150-h150-k-no-p',\n",
              "    'https://lh5.googleusercontent.com/p/AF1QipPXqAtt3xtZA_E6I7Nhq6pne4Ni_lSsnLqlX9Hu=w150-h150-k-no-p',\n",
              "    'https://lh5.googleusercontent.com/p/AF1QipNc-YjMbDgpVIT4_6ILcczJI6CgF07-5vJljU8Q=w150-h150-k-no-p',\n",
              "    'https://lh5.googleusercontent.com/p/AF1QipOT9sdbEDmcw3jAZFlldkKGk1IPtoIMDXfcMPTK=w150-h150-k-no-p',\n",
              "    'https://lh5.googleusercontent.com/p/AF1QipO78o6rmeFxMN4lts-SDtJi0oW3vx8EwQtnieNo=w150-h150-k-no-p',\n",
              "    'https://lh5.googleusercontent.com/p/AF1QipMztrbz4nFLZVA5Lsi_SOjzPoEreLEddatvDAuQ=w150-h150-k-no-p',\n",
              "    'https://lh5.googleusercontent.com/p/AF1QipMB-qder1hhFLIVuJ_ABeoh7c8zU4I7Sl5_-Xbq=w150-h150-k-no-p',\n",
              "    'https://lh5.googleusercontent.com/p/AF1QipM-_ep3X1bbzqmhfHWFNDfLtdtXU1NEASINa-Hb=w150-h150-k-no-p',\n",
              "    'https://lh5.googleusercontent.com/p/AF1QipOqsutZmRZfaH7k-1u7nJVhlTzvrqBg3Ro7viB7=w150-h150-k-no-p',\n",
              "    'https://lh5.googleusercontent.com/p/AF1QipOFZEXX6Mzl3ptsLP4u5D0YzGv3cp3Nc8S3eVL7=w150-h150-k-no-p'],\n",
              "   'source': 'Google',\n",
              "   'review_id': 'ChZDSUhNMG9nS0VJQ0FnSURRbGItV1pnEAE',\n",
              "   'user': {'name': 'Arman Pramono',\n",
              "    'link': 'https://www.google.com/maps/contrib/107298192392238737990?hl=en-US',\n",
              "    'contributor_id': '107298192392238737990',\n",
              "    'thumbnail': 'https://lh3.googleusercontent.com/a/ACg8ocLT2Ykx2MbFvDHFfIZUqdZbCyDXOLAlYYVexVgsXgGVgUspdg=s120-c-rp-mo-ba7-br100',\n",
              "    'local_guide': True,\n",
              "    'reviews': 1134,\n",
              "    'photos': 4688},\n",
              "   'snippet': 'Really a must buy snacks stores in semarang. Never miss come here when in Semarang. They specialize in many kinds of bandeng, taste really great. The most common is bandeng duri lunak. They also sell other snacks. Parking a bit difficult and inside is crowded.',\n",
              "   'extracted_snippet': {'original': 'Really a must buy snacks stores in semarang. Never miss come here when in Semarang. They specialize in many kinds of bandeng, taste really great. The most common is bandeng duri lunak. They also sell other snacks. Parking a bit difficult and inside is crowded.'},\n",
              "   'likes': 0},\n",
              "  {'link': 'https://www.google.com/maps/reviews/data=!4m8!14m7!1m6!2m5!1sChdDSUhNMG9nS0VJQ0FnSURRcGZYUl9BRRAB!2m1!1s0x0:0x15cde10e2bb3a1!3m1!1s2@1:CIHM0ogKEICAgIDQpfXR_AE%7CCgwIoMLk2gUQwIL8gQI%7C?hl=en-US',\n",
              "   'rating': 4.0,\n",
              "   'date': '5 years ago',\n",
              "   'iso_date': '2018-07-26T01:11:20Z',\n",
              "   'iso_date_of_last_edit': '2018-07-26T01:17:20Z',\n",
              "   'images': ['https://lh5.googleusercontent.com/p/AF1QipOOV5Oax5wC3h7OlxxskB5Qc_EIBVBKUVUvHYCJ=w150-h150-k-no-p',\n",
              "    'https://lh5.googleusercontent.com/p/AF1QipPTAQkgg0kun3yB9u4UPlxE6uETEx4Pb7jqCZ9n=w150-h150-k-no-p',\n",
              "    'https://lh5.googleusercontent.com/p/AF1QipPDMbiSHZywHddeob_nJaU6QZIqDqA0fvxbmLu-=w150-h150-k-no-p',\n",
              "    'https://lh5.googleusercontent.com/p/AF1QipNhpnGUu6mx9cfXTyAAuBaU2OnlhNmliVVmLtm_=w150-h150-k-no-p',\n",
              "    'https://lh5.googleusercontent.com/p/AF1QipPWVKPM0IxaFOIyaU4bQy-6xcQ_tJ-zRMAwIYGk=w150-h150-k-no-p',\n",
              "    'https://lh5.googleusercontent.com/p/AF1QipN_Hd2eVSVzsXG5SF-ePL_5h-W4NYLRyhO34Dba=w150-h150-k-no-p',\n",
              "    'https://lh5.googleusercontent.com/p/AF1QipM5q7JmjSAx_4x9hEqML8AF-qLw4Ytk_h14Rbhu=w150-h150-k-no-p'],\n",
              "   'source': 'Google',\n",
              "   'review_id': 'ChdDSUhNMG9nS0VJQ0FnSURRcGZYUl9BRRAB',\n",
              "   'user': {'name': 'Sylvia Rini Handayani',\n",
              "    'link': 'https://www.google.com/maps/contrib/117820414960579560286?hl=en-US',\n",
              "    'contributor_id': '117820414960579560286',\n",
              "    'thumbnail': 'https://lh3.googleusercontent.com/a-/ALV-UjXeMfhZ8wqXcC97jbkN5MQ1qxTqtZyQ19uVinUSEPOcBRn1SfbP=s120-c-rp-mo-ba6-br100',\n",
              "    'local_guide': True,\n",
              "    'reviews': 175,\n",
              "    'photos': 2764},\n",
              "   'snippet': 'Located in the heart of Semarang, this place is heaven for Semarang food souvenirs / oleh-oleh! The biggest store has every Semarang unique food you need.\\nBandeng, Lunpia, wingko - of all varieties with different promotions and bonuses.\\nBecareful, you may leave this place with empty wallet:p. The food are very affordable, and quick services, too.\\nSome food have testers served.\\nThe staffs are very helpful and friendly, thumbs up!!\\nAll u need to do is stroll the street and browse everything!\\nI dont see toilets here so you might as well be prepared.',\n",
              "   'extracted_snippet': {'original': 'Located in the heart of Semarang, this place is heaven for Semarang food souvenirs / oleh-oleh! The biggest store has every Semarang unique food you need.\\nBandeng, Lunpia, wingko - of all varieties with different promotions and bonuses.\\nBecareful, you may leave this place with empty wallet:p. The food are very affordable, and quick services, too.\\nSome food have testers served.\\nThe staffs are very helpful and friendly, thumbs up!!\\nAll u need to do is stroll the street and browse everything!\\nI dont see toilets here so you might as well be prepared.'},\n",
              "   'likes': 1}],\n",
              " 'serpapi_pagination': {'next': 'https://serpapi.com/search.json?data_id=0x2e708b455ba611bd%3A0x15cde10e2bb3a1&engine=google_maps_reviews&hl=en&next_page_token=CAESBkVnSUlDQQ%3D%3D',\n",
              "  'next_page_token': 'CAESBkVnSUlDQQ=='}}"
            ]
          },
          "metadata": {},
          "execution_count": 12
        }
      ]
    },
    {
      "cell_type": "code",
      "source": [
        "reviews"
      ],
      "metadata": {
        "colab": {
          "base_uri": "https://localhost:8080/",
          "height": 143
        },
        "id": "oxmPPCQwBfHo",
        "outputId": "80aa9e7f-d913-460a-aa58-476a2bc9ae19"
      },
      "execution_count": 9,
      "outputs": [
        {
          "output_type": "execute_result",
          "data": {
            "text/plain": [
              "'This food souvenirs+resto store is located at Jalan Pandanaran. They offer lots of local food from Semarang and around such as Bandeng, Wingko Babad, Lumpia and Mochi. Snacks or food are very various. They have lots of staff and they are mostly well trained. Could be very crowded during weekend. So hot inside since they have only fan to cools the room temperature. Parking is a big challenge. Restaurant is available at the second floor. Offering mostly local dish with bandeng as the highlight such as asem asem bandeng, bandeng kuah tauco, sate bandeng etc. Toilet and musholla are available'"
            ],
            "application/vnd.google.colaboratory.intrinsic+json": {
              "type": "string"
            }
          },
          "metadata": {},
          "execution_count": 9
        }
      ]
    },
    {
      "cell_type": "code",
      "source": [
        "# prompt: how to write reviews to csv file\n",
        "\n",
        "import csv\n",
        "\n",
        "with open('reviews.csv', 'w', newline='') as csvfile:\n",
        "  csv_writer = csv.writer(csvfile)\n",
        "  csv_writer.writerow(['Review'])\n",
        "  csv_writer.writerow([reviews])\n"
      ],
      "metadata": {
        "id": "iGKw4OV2Cc2O"
      },
      "execution_count": 11,
      "outputs": []
    },
    {
      "cell_type": "code",
      "source": [
        "import csv\n",
        "# Open the file in write mode with newline='' to avoid issues with newlines\n",
        "with open('data.csv', 'w', newline='') as file:\n",
        "  for i in range(5):\n",
        "    rating = results[\"reviews\"][i][\"rating\"]\n",
        "    print(rating)\n",
        "    reviews = results[\"reviews\"][i][\"snippet\"]\n",
        "    print(reviews)\n",
        "    writer = csv.writer(file)\n",
        "    writer.writerows(reviews)\n",
        "\n",
        "\n",
        "\n"
      ],
      "metadata": {
        "id": "zDzu7xmfZkZy",
        "colab": {
          "base_uri": "https://localhost:8080/"
        },
        "outputId": "635167b3-dd6e-4e0e-e37f-1d02399f49d1"
      },
      "execution_count": 13,
      "outputs": [
        {
          "output_type": "stream",
          "name": "stdout",
          "text": [
            "4.0\n",
            "Nice place for shopping expecially for specific food product who only available in Semarang like Bandeng Duri Lunak (soft-bone milkfish), Wingko(coconut cake), and many others.\n",
            "This is one of the oldest \"Toko Oleh-Oleh\" in Semarang.\n",
            "There are plenty of staffs who will gladly assist you during your visit. The cashiers staffs too are effective, quick and polite.\n",
            "The only cons are that it's quite difficult to get a parking here, especially of you driving a car.\n",
            "Don't forget to come to this place when you visit to Semarang just to bring local food to your town\n",
            "\n",
            "R&D.\n",
            "4.0\n",
            "a place to sell typical Semarang snacks, the place is spacious and there are many buyers\n",
            "5.0\n",
            "Pro : good service, taste, price, portion\n",
            "Cons : food appearance\n",
            "\n",
            "Price : 4.5/5 (value price)\n",
            "Taste : 4.5/5\n",
            "Cleanliness : 4.5/5\n",
            "Portion : 4/5 (medium big)\n",
            "\n",
            "Must have try : bandeng koprok, beef bistik\n",
            "Note : The taste is already amazing, but if you provide it with good appearance, that would be great\n",
            "\n",
            "Always follow my reviews, it's trusted and objective\n",
            "5.0\n",
            "I love that they offered a lot of variety here! For example you can choose your proteins: either fish/chicken I think it's a nice concept. Definitely good to brings family over here!\n",
            "5.0\n",
            "This food souvenirs+resto store is located at Jalan Pandanaran. They offer lots of local food from Semarang and around such as Bandeng, Wingko Babad, Lumpia and Mochi. Snacks or food are very various. They have lots of staff and they are mostly well trained. Could be very crowded during weekend. So hot inside since they have only fan to cools the room temperature. Parking is a big challenge. Restaurant is available at the second floor. Offering mostly local dish with bandeng as the highlight such as asem asem bandeng, bandeng kuah tauco, sate bandeng etc. Toilet and musholla are available\n"
          ]
        }
      ]
    },
    {
      "cell_type": "code",
      "source": [
        "# tempat makan ke 2"
      ],
      "metadata": {
        "id": "cUkBlfmLbu_l"
      },
      "execution_count": null,
      "outputs": []
    },
    {
      "cell_type": "code",
      "source": [
        "from serpapi import GoogleSearch\n",
        "\n",
        "params = {\n",
        "  \"engine\": \"google_maps_reviews\",\n",
        "  \"data_id\": \"0x2e708b50466f7175:0x3a96a9010ab0d758\",\n",
        "  \"api_key\": \"2b34e8b0f32ffc331e496deb6940c89f1337ea4e4d7a46e3f5e2499936353b24\"\n",
        "}\n",
        "\n",
        "search = GoogleSearch(params)\n",
        "results = search.get_dict()\n",
        "reviews = results[\"reviews\"][1][\"snippet\"]"
      ],
      "metadata": {
        "colab": {
          "base_uri": "https://localhost:8080/"
        },
        "id": "8fph4oF8b8V6",
        "outputId": "67f7f810-b54f-4c14-a039-def2f5b40368"
      },
      "execution_count": null,
      "outputs": [
        {
          "output_type": "stream",
          "name": "stdout",
          "text": [
            "https://serpapi.com/search\n"
          ]
        }
      ]
    },
    {
      "cell_type": "code",
      "source": [
        "results"
      ],
      "metadata": {
        "id": "c_SxOsmacpG5"
      },
      "execution_count": null,
      "outputs": []
    },
    {
      "cell_type": "code",
      "source": [
        "for i in range(10):\n",
        "  rating = results[\"reviews\"][i][\"rating\"]\n",
        "  print(rating)\n",
        "  reviews = results[\"reviews\"][i][\"snippet\"]\n",
        "  print(reviews)"
      ],
      "metadata": {
        "id": "ZTg_HLzecvu7"
      },
      "execution_count": null,
      "outputs": []
    },
    {
      "cell_type": "code",
      "source": [
        "# tempat makan ke 3"
      ],
      "metadata": {
        "id": "CCL4nc_Jb-UN"
      },
      "execution_count": null,
      "outputs": []
    },
    {
      "cell_type": "code",
      "source": [
        "from serpapi import GoogleSearch\n",
        "\n",
        "params = {\n",
        "  \"engine\": \"google_maps_reviews\",\n",
        "  \"data_id\": \"0x2e708ca76324ffef:0x5d40f44311d348d3\",\n",
        "  \"api_key\": \"2b34e8b0f32ffc331e496deb6940c89f1337ea4e4d7a46e3f5e2499936353b24\"\n",
        "}\n",
        "\n",
        "search = GoogleSearch(params)\n",
        "results = search.get_dict()\n",
        "reviews = results[\"reviews\"][1][\"snippet\"]"
      ],
      "metadata": {
        "colab": {
          "base_uri": "https://localhost:8080/"
        },
        "id": "noKYLxeacBZZ",
        "outputId": "ff89313a-a573-4f06-d802-0c3b6edc557c"
      },
      "execution_count": null,
      "outputs": [
        {
          "output_type": "stream",
          "name": "stdout",
          "text": [
            "https://serpapi.com/search\n"
          ]
        }
      ]
    },
    {
      "cell_type": "code",
      "source": [
        "results"
      ],
      "metadata": {
        "id": "opE68ErLdvgw"
      },
      "execution_count": null,
      "outputs": []
    },
    {
      "cell_type": "code",
      "source": [
        "for i in range(10):\n",
        "  rating = results[\"reviews\"][i][\"rating\"]\n",
        "  print(rating)\n",
        "  reviews = results[\"reviews\"][i][\"snippet\"]\n",
        "  print(reviews)"
      ],
      "metadata": {
        "id": "hRmVPuRpdWPi"
      },
      "execution_count": null,
      "outputs": []
    },
    {
      "cell_type": "code",
      "source": [
        "# tempat makan ke 4"
      ],
      "metadata": {
        "id": "guLGzPLucDEy"
      },
      "execution_count": null,
      "outputs": []
    },
    {
      "cell_type": "code",
      "source": [
        "from serpapi import GoogleSearch\n",
        "\n",
        "params = {\n",
        "  \"engine\": \"google_maps_reviews\",\n",
        "  \"data_id\": \"0x2e708ca87642aeff:0x3a9e3d261f97c427\",\n",
        "  \"api_key\": \"2b34e8b0f32ffc331e496deb6940c89f1337ea4e4d7a46e3f5e2499936353b24\"\n",
        "}\n",
        "\n",
        "search = GoogleSearch(params)\n",
        "results = search.get_dict()\n",
        "reviews = results[\"reviews\"][1][\"snippet\"]"
      ],
      "metadata": {
        "colab": {
          "base_uri": "https://localhost:8080/"
        },
        "id": "4lqTy3BHcFYh",
        "outputId": "fb1c15cd-5b98-4a7a-eb52-766dac4f35c8"
      },
      "execution_count": null,
      "outputs": [
        {
          "output_type": "stream",
          "name": "stdout",
          "text": [
            "https://serpapi.com/search\n"
          ]
        }
      ]
    },
    {
      "cell_type": "code",
      "source": [
        "results"
      ],
      "metadata": {
        "id": "OxerTuTVeAT8"
      },
      "execution_count": null,
      "outputs": []
    },
    {
      "cell_type": "code",
      "source": [
        "for i in range(10):\n",
        "  rating = results[\"reviews\"][i][\"rating\"]\n",
        "  print(rating)\n",
        "  reviews = results[\"reviews\"][i][\"snippet\"]\n",
        "  print(reviews)"
      ],
      "metadata": {
        "id": "buUBh_aXdYzp"
      },
      "execution_count": null,
      "outputs": []
    },
    {
      "cell_type": "code",
      "source": [
        "# tempat makan ke 5"
      ],
      "metadata": {
        "id": "SX8CyE2XcGjm"
      },
      "execution_count": null,
      "outputs": []
    },
    {
      "cell_type": "code",
      "source": [
        "from serpapi import GoogleSearch\n",
        "\n",
        "params = {\n",
        "  \"engine\": \"google_maps_reviews\",\n",
        "  \"data_id\": \"0x2e708ca8f7e4fffb:0x91718a91a7d0f706\",\n",
        "  \"api_key\": \"2b34e8b0f32ffc331e496deb6940c89f1337ea4e4d7a46e3f5e2499936353b24\"\n",
        "}\n",
        "\n",
        "search = GoogleSearch(params)\n",
        "results = search.get_dict()\n",
        "reviews = results[\"reviews\"][1][\"snippet\"]"
      ],
      "metadata": {
        "colab": {
          "base_uri": "https://localhost:8080/"
        },
        "id": "HIqhtEmicJqi",
        "outputId": "68c366dc-5f30-4384-e2ff-6affd314f406"
      },
      "execution_count": null,
      "outputs": [
        {
          "output_type": "stream",
          "name": "stdout",
          "text": [
            "https://serpapi.com/search\n"
          ]
        }
      ]
    },
    {
      "cell_type": "code",
      "source": [
        "results"
      ],
      "metadata": {
        "id": "G-tiwq3ueRds"
      },
      "execution_count": null,
      "outputs": []
    },
    {
      "cell_type": "code",
      "source": [
        "for i in range(10):\n",
        "  rating = results[\"reviews\"][i][\"rating\"]\n",
        "  print(rating)\n",
        "  reviews = results[\"reviews\"][i][\"snippet\"]\n",
        "  print(reviews)"
      ],
      "metadata": {
        "id": "gJvelszgdack"
      },
      "execution_count": null,
      "outputs": []
    },
    {
      "cell_type": "code",
      "source": [
        "# tempat makan ke 6"
      ],
      "metadata": {
        "id": "wryWxHHwcLAC"
      },
      "execution_count": null,
      "outputs": []
    },
    {
      "cell_type": "code",
      "source": [
        "from serpapi import GoogleSearch\n",
        "\n",
        "params = {\n",
        "  \"engine\": \"google_maps_reviews\",\n",
        "  \"data_id\": \"0x2e70f4ab7dc385b9:0x1bca2004bdc7b86b\",\n",
        "  \"api_key\": \"2b34e8b0f32ffc331e496deb6940c89f1337ea4e4d7a46e3f5e2499936353b24\"\n",
        "}\n",
        "\n",
        "search = GoogleSearch(params)\n",
        "results = search.get_dict()\n",
        "reviews = results[\"reviews\"][1][\"snippet\"]"
      ],
      "metadata": {
        "colab": {
          "base_uri": "https://localhost:8080/"
        },
        "id": "CKdfpXmlcOYz",
        "outputId": "8d63b247-bde5-4042-9ab1-ec3ef7f4d42b"
      },
      "execution_count": null,
      "outputs": [
        {
          "output_type": "stream",
          "name": "stdout",
          "text": [
            "https://serpapi.com/search\n"
          ]
        }
      ]
    },
    {
      "cell_type": "code",
      "source": [
        "results"
      ],
      "metadata": {
        "id": "aNplWuU6ekJq"
      },
      "execution_count": null,
      "outputs": []
    },
    {
      "cell_type": "code",
      "source": [
        "for i in range(10):\n",
        "  rating = results[\"reviews\"][i][\"rating\"]\n",
        "  print(rating)\n",
        "  reviews = results[\"reviews\"][i][\"snippet\"]\n",
        "  print(reviews)"
      ],
      "metadata": {
        "id": "0JJG0lITdcOj"
      },
      "execution_count": null,
      "outputs": []
    },
    {
      "cell_type": "code",
      "source": [
        "# tempat makan ke 7"
      ],
      "metadata": {
        "id": "oz3mXCe9cPdb"
      },
      "execution_count": null,
      "outputs": []
    },
    {
      "cell_type": "code",
      "source": [
        "from serpapi import GoogleSearch\n",
        "\n",
        "params = {\n",
        "  \"engine\": \"google_maps_reviews\",\n",
        "  \"data_id\": \"0x2e708b511ec32a67:0x7be45c828b94c338\",\n",
        "  \"api_key\": \"2b34e8b0f32ffc331e496deb6940c89f1337ea4e4d7a46e3f5e2499936353b24\"\n",
        "}\n",
        "\n",
        "search = GoogleSearch(params)\n",
        "results = search.get_dict()\n",
        "reviews = results[\"reviews\"][1][\"snippet\"]"
      ],
      "metadata": {
        "colab": {
          "base_uri": "https://localhost:8080/"
        },
        "id": "1fWqhppCcR7C",
        "outputId": "a9c38478-1a32-43b0-a530-2f80fadc2a0a"
      },
      "execution_count": null,
      "outputs": [
        {
          "output_type": "stream",
          "name": "stdout",
          "text": [
            "https://serpapi.com/search\n"
          ]
        }
      ]
    },
    {
      "cell_type": "code",
      "source": [
        "results"
      ],
      "metadata": {
        "id": "9_DQzqlQe0ej"
      },
      "execution_count": null,
      "outputs": []
    },
    {
      "cell_type": "code",
      "source": [
        "for i in range(10):\n",
        "  rating = results[\"reviews\"][i][\"rating\"]\n",
        "  print(rating)\n",
        "  reviews = results[\"reviews\"][i][\"snippet\"]\n",
        "  print(reviews)"
      ],
      "metadata": {
        "id": "i5B6KvYTddqJ"
      },
      "execution_count": null,
      "outputs": []
    },
    {
      "cell_type": "code",
      "source": [
        "# tempat makaan ke 8"
      ],
      "metadata": {
        "id": "m-42L8VScS_7"
      },
      "execution_count": null,
      "outputs": []
    },
    {
      "cell_type": "code",
      "source": [
        "from serpapi import GoogleSearch\n",
        "\n",
        "params = {\n",
        "  \"engine\": \"google_maps_reviews\",\n",
        "  \"data_id\": \"0x2e708b47d1f6eea3:0xbbfb21e54306c08f\",\n",
        "  \"api_key\": \"2b34e8b0f32ffc331e496deb6940c89f1337ea4e4d7a46e3f5e2499936353b24\"\n",
        "}\n",
        "\n",
        "search = GoogleSearch(params)\n",
        "results = search.get_dict()\n",
        "reviews = results[\"reviews\"][1][\"snippet\"]"
      ],
      "metadata": {
        "colab": {
          "base_uri": "https://localhost:8080/"
        },
        "id": "79siwp6gcW__",
        "outputId": "f477fb33-7efc-4dd3-acc4-ba62d9671b5b"
      },
      "execution_count": null,
      "outputs": [
        {
          "output_type": "stream",
          "name": "stdout",
          "text": [
            "https://serpapi.com/search\n"
          ]
        }
      ]
    },
    {
      "cell_type": "code",
      "source": [
        "results"
      ],
      "metadata": {
        "id": "DllTc8sFfCq5"
      },
      "execution_count": null,
      "outputs": []
    },
    {
      "cell_type": "code",
      "source": [
        "for i in range(10):\n",
        "  rating = results[\"reviews\"][i][\"rating\"]\n",
        "  print(rating)\n",
        "  reviews = results[\"reviews\"][i][\"snippet\"]\n",
        "  print(reviews)"
      ],
      "metadata": {
        "id": "rNGjnHCrde8I"
      },
      "execution_count": null,
      "outputs": []
    },
    {
      "cell_type": "code",
      "source": [
        "# tempat makan ke 9"
      ],
      "metadata": {
        "id": "kUngkncacYkW"
      },
      "execution_count": null,
      "outputs": []
    },
    {
      "cell_type": "code",
      "source": [
        "from serpapi import GoogleSearch\n",
        "\n",
        "params = {\n",
        "  \"engine\": \"google_maps_reviews\",\n",
        "  \"data_id\": \"0x2e708b357dbdf639:0x82d871ba0f368e48\",\n",
        "  \"api_key\": \"2b34e8b0f32ffc331e496deb6940c89f1337ea4e4d7a46e3f5e2499936353b24\"\n",
        "}\n",
        "\n",
        "search = GoogleSearch(params)\n",
        "results = search.get_dict()\n",
        "reviews = results[\"reviews\"][1][\"snippet\"]"
      ],
      "metadata": {
        "colab": {
          "base_uri": "https://localhost:8080/"
        },
        "id": "krdMOv2ZccCi",
        "outputId": "7a6c88c6-35dd-4176-849c-11d62ec474e0"
      },
      "execution_count": null,
      "outputs": [
        {
          "output_type": "stream",
          "name": "stdout",
          "text": [
            "https://serpapi.com/search\n"
          ]
        }
      ]
    },
    {
      "cell_type": "code",
      "source": [
        "results"
      ],
      "metadata": {
        "id": "pKtNSgwQfUXT"
      },
      "execution_count": null,
      "outputs": []
    },
    {
      "cell_type": "code",
      "source": [
        "for i in range(10):\n",
        "  rating = results[\"reviews\"][i][\"rating\"]\n",
        "  print(rating)\n",
        "  reviews = results[\"reviews\"][i][\"snippet\"]\n",
        "  print(reviews)"
      ],
      "metadata": {
        "id": "frEX_YKodgIZ"
      },
      "execution_count": null,
      "outputs": []
    },
    {
      "cell_type": "code",
      "source": [
        "# tempat makan ke 10"
      ],
      "metadata": {
        "id": "8ms-GM_Hcc-4"
      },
      "execution_count": null,
      "outputs": []
    },
    {
      "cell_type": "code",
      "source": [
        "from serpapi import GoogleSearch\n",
        "\n",
        "params = {\n",
        "  \"engine\": \"google_maps_reviews\",\n",
        "  \"data_id\": \"0x2e708b382d629bfd:0x256eaa91a013a91a\",\n",
        "  \"api_key\": \"2b34e8b0f32ffc331e496deb6940c89f1337ea4e4d7a46e3f5e2499936353b24\"\n",
        "}\n",
        "\n",
        "search = GoogleSearch(params)\n",
        "results = search.get_dict()\n",
        "reviews = results[\"reviews\"][1][\"snippet\"]"
      ],
      "metadata": {
        "colab": {
          "base_uri": "https://localhost:8080/"
        },
        "id": "-cOvQb-icfuI",
        "outputId": "40bd2da6-f870-40a5-b8ac-faff12755709"
      },
      "execution_count": null,
      "outputs": [
        {
          "output_type": "stream",
          "name": "stdout",
          "text": [
            "https://serpapi.com/search\n"
          ]
        }
      ]
    },
    {
      "cell_type": "code",
      "source": [
        "results"
      ],
      "metadata": {
        "id": "lbyr2C0lfk1q"
      },
      "execution_count": null,
      "outputs": []
    },
    {
      "cell_type": "code",
      "source": [
        "for i in range(10):\n",
        "  rating = results[\"reviews\"][i][\"rating\"]\n",
        "  print(rating)\n",
        "  reviews = results[\"reviews\"][i][\"snippet\"]\n",
        "  print(reviews)"
      ],
      "metadata": {
        "id": "jP4p-C2WdhVt"
      },
      "execution_count": null,
      "outputs": []
    },
    {
      "cell_type": "code",
      "source": [
        "#   A. Case Folding #\n",
        "\n",
        "# 1. Mengubah text menjadi lowercase\n",
        "kalimat = \"Nagih... (Original) Bakso abang2 semarangan. Lokasi belakang Gedung HSBC Semarang daerah Simpang Lima. Jamin enak bakso kuah gurih ada sayuran ijo bakmi bihun jeroan usus babat dan yang paling enak PANGSIT GORENG (bisa tambah porsinan satu mangkok). Nagih...\"\n",
        "lower_case = kalimat.lower()\n",
        "print(lower_case)"
      ],
      "metadata": {
        "colab": {
          "base_uri": "https://localhost:8080/"
        },
        "id": "2PZV0XXkEv3B",
        "outputId": "52f7af2f-0e74-4820-c459-e6297e9f9719"
      },
      "execution_count": null,
      "outputs": [
        {
          "output_type": "stream",
          "name": "stdout",
          "text": [
            "nagih... (original) bakso abang2 semarangan. lokasi belakang gedung hsbc semarang daerah simpang lima. jamin enak bakso kuah gurih ada sayuran ijo bakmi bihun jeroan usus babat dan yang paling enak pangsit goreng (bisa tambah porsinan satu mangkok). nagih...\n"
          ]
        }
      ]
    },
    {
      "cell_type": "code",
      "source": [
        "# 2. Menghapus angka\n",
        "import re #import modul regular expressio\n",
        "kalimat = \"nagih... (original) bakso abang2 semarangan. lokasi belakang gedung hsbc semarang daerah simpang lima. jamin enak bakso kuah gurih ada sayuran ijo bakmi bihun jeroan usus babat dan yang paling enak pangsit goreng (bisa tambah porsinan satu mangkok). nagih...\"\n",
        "hasil = re.sub(r\"\\d+\",\"\", kalimat)\n",
        "print (hasil)"
      ],
      "metadata": {
        "colab": {
          "base_uri": "https://localhost:8080/"
        },
        "id": "rYxDXetmFsvG",
        "outputId": "c0ede544-1b06-46c9-d45f-55c5774b704c"
      },
      "execution_count": null,
      "outputs": [
        {
          "output_type": "stream",
          "name": "stdout",
          "text": [
            "nagih... (original) bakso abang semarangan. lokasi belakang gedung hsbc semarang daerah simpang lima. jamin enak bakso kuah gurih ada sayuran ijo bakmi bihun jeroan usus babat dan yang paling enak pangsit goreng (bisa tambah porsinan satu mangkok). nagih...\n"
          ]
        }
      ]
    },
    {
      "cell_type": "code",
      "source": [
        "# 3. Menghapus tanda baca\n",
        "import string\n",
        "kalimat = \"nagih... (original) bakso abang semarangan. lokasi belakang gedung hsbc semarang daerah simpang lima. jamin enak bakso kuah gurih ada sayuran ijo bakmi bihun jeroan usus babat dan yang paling enak pangsit goreng (bisa tambah porsinan satu mangkok). nagih...\"\n",
        "hasil = kalimat.translate(str.maketrans(\"\",\"\",string.punctuation))\n",
        "print (hasil)"
      ],
      "metadata": {
        "colab": {
          "base_uri": "https://localhost:8080/"
        },
        "id": "bwbS-A8XGBrg",
        "outputId": "1fd0bb21-4e11-4dd0-be08-837496e4b462"
      },
      "execution_count": null,
      "outputs": [
        {
          "output_type": "stream",
          "name": "stdout",
          "text": [
            "nagih original bakso abang semarangan lokasi belakang gedung hsbc semarang daerah simpang lima jamin enak bakso kuah gurih ada sayuran ijo bakmi bihun jeroan usus babat dan yang paling enak pangsit goreng bisa tambah porsinan satu mangkok nagih\n"
          ]
        }
      ]
    },
    {
      "cell_type": "code",
      "source": [
        "#     B. TOKENIZING #\n",
        "\n",
        "import nltk\n",
        "nltk.download('book')\n",
        "#or\n",
        "nltk.download('tests')\n",
        "#or\n",
        "nltk.download('all-corpora')# not recommended as it download huge amount of data."
      ],
      "metadata": {
        "id": "RKP463lzGtqz"
      },
      "execution_count": null,
      "outputs": []
    },
    {
      "cell_type": "code",
      "source": [
        "# import word_tokenize dari modul nltk\n",
        "from nltk.tokenize import sent_tokenize, word_tokenize\n",
        "kalimat = \"nagih original bakso abang semarangan lokasi belakang gedung hsbc semarang daerah simpang lima jamin enak bakso kuah gurih ada sayuran ijo bakmi bihun jeroan usus babat dan yang paling enak pangsit goreng bisa tambah porsinan satu mangkok nagih\"\n",
        "tokens = word_tokenize(kalimat)\n",
        "print(tokens)"
      ],
      "metadata": {
        "colab": {
          "base_uri": "https://localhost:8080/"
        },
        "id": "PuJzdmvMHDnK",
        "outputId": "c4f66f3c-4806-4b98-bb0c-25a911a2d7fb"
      },
      "execution_count": null,
      "outputs": [
        {
          "output_type": "stream",
          "name": "stdout",
          "text": [
            "['nagih', 'original', 'bakso', 'abang', 'semarangan', 'lokasi', 'belakang', 'gedung', 'hsbc', 'semarang', 'daerah', 'simpang', 'lima', 'jamin', 'enak', 'bakso', 'kuah', 'gurih', 'ada', 'sayuran', 'ijo', 'bakmi', 'bihun', 'jeroan', 'usus', 'babat', 'dan', 'yang', 'paling', 'enak', 'pangsit', 'goreng', 'bisa', 'tambah', 'porsinan', 'satu', 'mangkok', 'nagih']\n"
          ]
        }
      ]
    },
    {
      "cell_type": "code",
      "source": [
        "# C. STOPWORD REMOVAL(FILTERING) #\n",
        "\n",
        "# Filtering menggunakan sastrawi\n",
        "!pip install Sastrawi"
      ],
      "metadata": {
        "colab": {
          "base_uri": "https://localhost:8080/"
        },
        "id": "GNIF1WR8H1ZV",
        "outputId": "2b715c44-e2aa-4ef3-8a76-b5418e63332f"
      },
      "execution_count": null,
      "outputs": [
        {
          "output_type": "stream",
          "name": "stdout",
          "text": [
            "Looking in indexes: https://pypi.org/simple, https://us-python.pkg.dev/colab-wheels/public/simple/\n",
            "Collecting Sastrawi\n",
            "  Downloading Sastrawi-1.0.1-py2.py3-none-any.whl (209 kB)\n",
            "\u001b[K     |████████████████████████████████| 209 kB 5.5 MB/s \n",
            "\u001b[?25hInstalling collected packages: Sastrawi\n",
            "Successfully installed Sastrawi-1.0.1\n"
          ]
        }
      ]
    },
    {
      "cell_type": "code",
      "source": [
        "# Daftar stopword yang tersedia di library Sastrawi\n",
        "from Sastrawi.StopWordRemover.StopWordRemoverFactory import StopWordRemoverFactory\n",
        "factory = StopWordRemoverFactory()\n",
        "stopwords = factory.get_stop_words()\n",
        "print(stopwords)"
      ],
      "metadata": {
        "colab": {
          "base_uri": "https://localhost:8080/"
        },
        "id": "H3EPqpVLIKNE",
        "outputId": "31c4f777-c505-4cba-b87d-ac1597b9c47c"
      },
      "execution_count": null,
      "outputs": [
        {
          "output_type": "stream",
          "name": "stdout",
          "text": [
            "['yang', 'untuk', 'pada', 'ke', 'para', 'namun', 'menurut', 'antara', 'dia', 'dua', 'ia', 'seperti', 'jika', 'jika', 'sehingga', 'kembali', 'dan', 'tidak', 'ini', 'karena', 'kepada', 'oleh', 'saat', 'harus', 'sementara', 'setelah', 'belum', 'kami', 'sekitar', 'bagi', 'serta', 'di', 'dari', 'telah', 'sebagai', 'masih', 'hal', 'ketika', 'adalah', 'itu', 'dalam', 'bisa', 'bahwa', 'atau', 'hanya', 'kita', 'dengan', 'akan', 'juga', 'ada', 'mereka', 'sudah', 'saya', 'terhadap', 'secara', 'agar', 'lain', 'anda', 'begitu', 'mengapa', 'kenapa', 'yaitu', 'yakni', 'daripada', 'itulah', 'lagi', 'maka', 'tentang', 'demi', 'dimana', 'kemana', 'pula', 'sambil', 'sebelum', 'sesudah', 'supaya', 'guna', 'kah', 'pun', 'sampai', 'sedangkan', 'selagi', 'sementara', 'tetapi', 'apakah', 'kecuali', 'sebab', 'selain', 'seolah', 'seraya', 'seterusnya', 'tanpa', 'agak', 'boleh', 'dapat', 'dsb', 'dst', 'dll', 'dahulu', 'dulunya', 'anu', 'demikian', 'tapi', 'ingin', 'juga', 'nggak', 'mari', 'nanti', 'melainkan', 'oh', 'ok', 'seharusnya', 'sebetulnya', 'setiap', 'setidaknya', 'sesuatu', 'pasti', 'saja', 'toh', 'ya', 'walau', 'tolong', 'tentu', 'amat', 'apalagi', 'bagaimanapun']\n"
          ]
        }
      ]
    },
    {
      "cell_type": "code",
      "source": [
        "# import StopWordRemoverFactory class\n",
        "from Sastrawi.StopWordRemover.StopWordRemoverFactory import StopWordRemoverFactory\n",
        "factory = StopWordRemoverFactory()\n",
        "stopword = factory.create_stop_word_remover()\n",
        "# Kalimat\n",
        "kalimat = \"nagih original bakso abang semarangan lokasi belakang gedung hsbc semarang daerah simpang lima jamin enak bakso kuah gurih ada sayuran ijo bakmi bihun jeroan usus babat dan yang paling enak pangsit goreng bisa tambah porsinan satu mangkok nagih\"\n",
        "stop = stopword.remove(kalimat)\n",
        "print(stop)"
      ],
      "metadata": {
        "colab": {
          "base_uri": "https://localhost:8080/"
        },
        "id": "lgwKpAv5IN-z",
        "outputId": "ca4c5184-cda4-4c95-8261-fc288c9864c8"
      },
      "execution_count": null,
      "outputs": [
        {
          "output_type": "stream",
          "name": "stdout",
          "text": [
            "nagih original bakso abang semarangan lokasi belakang gedung hsbc semarang daerah simpang lima jamin enak bakso kuah gurih sayuran ijo bakmi bihun jeroan usus babat yang paling enak pangsit goreng tambah porsinan satu mangkok nagih\n"
          ]
        }
      ]
    },
    {
      "cell_type": "code",
      "source": [
        "# D. STEMMING #\n",
        "\n",
        "# Stemming menggunakan sastrawi\n",
        "!pip install Sastrawi"
      ],
      "metadata": {
        "colab": {
          "base_uri": "https://localhost:8080/"
        },
        "id": "ipWKXoS4IioX",
        "outputId": "51dbed69-922a-4162-a6cb-b17f0b446e0a"
      },
      "execution_count": null,
      "outputs": [
        {
          "output_type": "stream",
          "name": "stdout",
          "text": [
            "Looking in indexes: https://pypi.org/simple, https://us-python.pkg.dev/colab-wheels/public/simple/\n",
            "Requirement already satisfied: Sastrawi in /usr/local/lib/python3.7/dist-packages (1.0.1)\n"
          ]
        }
      ]
    },
    {
      "cell_type": "code",
      "source": [
        "# import StemmerFactory class\n",
        "from Sastrawi.Stemmer.StemmerFactory import StemmerFactory\n",
        "factory = StemmerFactory()\n",
        "stemmer = factory.create_stemmer()\n",
        "kalimat = 'nagih original bakso abang semarangan lokasi belakang gedung hsbc semarang daerah simpang lima jamin enak bakso kuah gurih sayuran ijo bakmi bihun jeroan usus babat yang paling enak pangsit goreng tambah porsinan satu mangkok nagih'\n",
        "hasil = stemmer.stem(kalimat)\n",
        "print(hasil)"
      ],
      "metadata": {
        "colab": {
          "base_uri": "https://localhost:8080/"
        },
        "id": "MVauNaRLI6hI",
        "outputId": "722744e9-d0db-48e6-d5d2-b7b8c5b472e2"
      },
      "execution_count": null,
      "outputs": [
        {
          "output_type": "stream",
          "name": "stdout",
          "text": [
            "nagih original bakso abang semarangan lokasi belakang gedung hsbc semarang daerah simpang lima jamin enak bakso kuah gurih sayur ijo bakmi bihun jeroan usus babat yang paling enak pangsit goreng tambah porsinan satu mangkok nagih\n"
          ]
        }
      ]
    }
  ]
}