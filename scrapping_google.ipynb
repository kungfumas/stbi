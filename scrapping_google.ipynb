{
  "nbformat": 4,
  "nbformat_minor": 0,
  "metadata": {
    "colab": {
      "provenance": [],
      "include_colab_link": true
    },
    "kernelspec": {
      "name": "python3",
      "display_name": "Python 3"
    },
    "language_info": {
      "name": "python"
    }
  },
  "cells": [
    {
      "cell_type": "markdown",
      "metadata": {
        "id": "view-in-github",
        "colab_type": "text"
      },
      "source": [
        "<a href=\"https://colab.research.google.com/github/kungfumas/stbi/blob/master/scrapping_google.ipynb\" target=\"_parent\"><img src=\"https://colab.research.google.com/assets/colab-badge.svg\" alt=\"Open In Colab\"/></a>"
      ]
    },
    {
      "cell_type": "code",
      "execution_count": null,
      "metadata": {
        "id": "MMClPPmuVKpB"
      },
      "outputs": [],
      "source": [
        "#Mencari review dari restoran yang akan di scrapping"
      ]
    },
    {
      "cell_type": "code",
      "source": [
        "!pip install google-search-results"
      ],
      "metadata": {
        "id": "ZaHP3UpCWgwa",
        "colab": {
          "base_uri": "https://localhost:8080/"
        },
        "outputId": "c10bd1a9-e001-4e98-d9c6-8aee26736052"
      },
      "execution_count": 1,
      "outputs": [
        {
          "output_type": "stream",
          "name": "stdout",
          "text": [
            "Collecting google-search-results\n",
            "  Downloading google_search_results-2.4.2.tar.gz (18 kB)\n",
            "  Preparing metadata (setup.py) ... \u001b[?25l\u001b[?25hdone\n",
            "Requirement already satisfied: requests in /usr/local/lib/python3.10/dist-packages (from google-search-results) (2.31.0)\n",
            "Requirement already satisfied: charset-normalizer<4,>=2 in /usr/local/lib/python3.10/dist-packages (from requests->google-search-results) (3.3.2)\n",
            "Requirement already satisfied: idna<4,>=2.5 in /usr/local/lib/python3.10/dist-packages (from requests->google-search-results) (3.7)\n",
            "Requirement already satisfied: urllib3<3,>=1.21.1 in /usr/local/lib/python3.10/dist-packages (from requests->google-search-results) (2.0.7)\n",
            "Requirement already satisfied: certifi>=2017.4.17 in /usr/local/lib/python3.10/dist-packages (from requests->google-search-results) (2024.6.2)\n",
            "Building wheels for collected packages: google-search-results\n",
            "  Building wheel for google-search-results (setup.py) ... \u001b[?25l\u001b[?25hdone\n",
            "  Created wheel for google-search-results: filename=google_search_results-2.4.2-py3-none-any.whl size=32004 sha256=927b2643bc8c1baa215646f78b77aef85c770151ab270fc0c057b46c5e034702\n",
            "  Stored in directory: /root/.cache/pip/wheels/d3/b2/c3/03302d12bb44a2cdff3c9371f31b72c0c4e84b8d2285eeac53\n",
            "Successfully built google-search-results\n",
            "Installing collected packages: google-search-results\n",
            "Successfully installed google-search-results-2.4.2\n"
          ]
        }
      ]
    },
    {
      "cell_type": "code",
      "source": [
        "from serpapi import GoogleSearch\n",
        "\n",
        "params = {\n",
        "  \"engine\": \"google_maps\",\n",
        "  \"q\": \"bakso\",\n",
        "  \"ll\": \"@-6.9776513,110.4163883,15.27z\",\n",
        "  \"type\": \"search\",\n",
        "  \"api_key\": \"868d926c14ebdce76ffb1aaa939da6f52e8ddc41abd58d9fe82c0f2984fb1760\"\n",
        "}\n",
        "\n",
        "search = GoogleSearch(params)\n",
        "results = search.get_dict()\n",
        "local_results = results[\"local_results\"]"
      ],
      "metadata": {
        "id": "CMXoiTNjWzZO"
      },
      "execution_count": 5,
      "outputs": []
    },
    {
      "cell_type": "code",
      "source": [],
      "metadata": {
        "id": "Qbivi7SimXSR"
      },
      "execution_count": null,
      "outputs": []
    },
    {
      "cell_type": "code",
      "source": [
        "results\n",
        "local_results = results[\"local_results\"]"
      ],
      "metadata": {
        "id": "zBNMRcPGl5g2"
      },
      "execution_count": 7,
      "outputs": []
    },
    {
      "cell_type": "code",
      "source": [
        "local_results"
      ],
      "metadata": {
        "id": "wYJPRnHiYODQ",
        "colab": {
          "base_uri": "https://localhost:8080/"
        },
        "outputId": "1dceeecc-7844-40d6-abf9-54ce16e7221f"
      },
      "execution_count": 8,
      "outputs": [
        {
          "output_type": "execute_result",
          "data": {
            "text/plain": [
              "[{'position': 1,\n",
              "  'title': 'Bakso Solo Pak Edy',\n",
              "  'place_id': 'ChIJTz6chuaLcC4RcMkPYuXM48c',\n",
              "  'data_id': '0x2e708be6869c3e4f:0xc7e3cce5620fc970',\n",
              "  'data_cid': '14403581318825757040',\n",
              "  'reviews_link': 'https://serpapi.com/search.json?data_id=0x2e708be6869c3e4f%3A0xc7e3cce5620fc970&engine=google_maps_reviews&hl=en',\n",
              "  'photos_link': 'https://serpapi.com/search.json?data_id=0x2e708be6869c3e4f%3A0xc7e3cce5620fc970&engine=google_maps_photos&hl=en',\n",
              "  'gps_coordinates': {'latitude': -6.9882146, 'longitude': 110.42624119999999},\n",
              "  'place_id_search': 'https://serpapi.com/search.json?engine=google_maps&google_domain=google.com&hl=en&place_id=ChIJTz6chuaLcC4RcMkPYuXM48c',\n",
              "  'provider_id': '/g/11dxdn508z',\n",
              "  'rating': 4.4,\n",
              "  'reviews': 98,\n",
              "  'unclaimed_listing': True,\n",
              "  'type': 'Bakso restaurant',\n",
              "  'types': ['Bakso restaurant'],\n",
              "  'type_id': 'bakso_restaurant',\n",
              "  'type_ids': ['bakso_restaurant'],\n",
              "  'address': 'Jl. Anggrek V No.8, Pekunden, Kec. Semarang Tengah, Kota Semarang, Jawa Tengah 50241, Indonesia',\n",
              "  'open_state': 'Open ⋅ Closes 9\\u202fPM',\n",
              "  'hours': 'Open ⋅ Closes 9\\u202fPM',\n",
              "  'operating_hours': {'tuesday': '10\\u202fAM–9\\u202fPM',\n",
              "   'wednesday': '10\\u202fAM–9\\u202fPM',\n",
              "   'thursday': '10\\u202fAM–9\\u202fPM',\n",
              "   'friday': '10\\u202fAM–9\\u202fPM',\n",
              "   'saturday': '10\\u202fAM–9\\u202fPM',\n",
              "   'sunday': '10\\u202fAM–9\\u202fPM',\n",
              "   'monday': '10\\u202fAM–9\\u202fPM'},\n",
              "  'phone': '+62 878-7955-4227',\n",
              "  'service_options': {'dine_in': True, 'takeout': True},\n",
              "  'order_online': 'https://food.google.com/chooseprovider?restaurantId=/g/11dxdn508z&g2lbs=AOHF13meRUZ8j_f0Av_WY6adS6SUrE0pltmZvB3VxVmWhgGdG6Y8QeAq4vHe2mlvzo8_f8tSv__OFcet0OrYkaAL0hi-6phV0I1Mg4SvOtKPdqyr0Y2-FvU%3D&hl=en-US&gl=us&fo_m=MfohQo559jFvMUOzJVpjPL1YMfZ3bInYwBDuMfaXTPp5KXh-&utm_source=tactile&gei=vEN6ZruQJ-7Bp84PiKiO0AU&ei=vEN6ZruQJ-7Bp84PiKiO0AU&fo_s=OA,SOE&opi=79508299&foub=mcpp',\n",
              "  'thumbnail': 'https://lh5.googleusercontent.com/p/AF1QipNsGB8ryNhD16ljnNW3SKiVrwVFD2q0DsHJ68PY=w94-h92-k-no'},\n",
              " {'position': 2,\n",
              "  'title': 'Bakso Sapi Pak Kliwon',\n",
              "  'place_id': 'ChIJXX7eYLb0cC4RCvX_GWAmY1Q',\n",
              "  'data_id': '0x2e70f4b660de7e5d:0x5463266019fff50a',\n",
              "  'data_cid': '6080746116075222282',\n",
              "  'reviews_link': 'https://serpapi.com/search.json?data_id=0x2e70f4b660de7e5d%3A0x5463266019fff50a&engine=google_maps_reviews&hl=en',\n",
              "  'photos_link': 'https://serpapi.com/search.json?data_id=0x2e70f4b660de7e5d%3A0x5463266019fff50a&engine=google_maps_photos&hl=en',\n",
              "  'gps_coordinates': {'latitude': -6.9699829, 'longitude': 110.40503679999999},\n",
              "  'place_id_search': 'https://serpapi.com/search.json?engine=google_maps&google_domain=google.com&hl=en&place_id=ChIJXX7eYLb0cC4RCvX_GWAmY1Q',\n",
              "  'provider_id': '/g/11c0xqgyfs',\n",
              "  'rating': 4.6,\n",
              "  'reviews': 136,\n",
              "  'price': '$',\n",
              "  'type': 'Bakso restaurant',\n",
              "  'types': ['Bakso restaurant', 'Noodle shop'],\n",
              "  'type_id': 'bakso_restaurant',\n",
              "  'type_ids': ['bakso_restaurant', 'noodle_shop'],\n",
              "  'address': 'Jl. Sentyaki Raya No.17, Bulu Lor, Semarang Utara, Semarang City, Central Java 50179, Indonesia',\n",
              "  'open_state': 'Open ⋅ Closes 8\\u202fAM Wed',\n",
              "  'hours': 'Open ⋅ Closes 8\\u202fAM Wed',\n",
              "  'operating_hours': {'tuesday': '12–8\\u202fAM',\n",
              "   'wednesday': '12–8\\u202fAM',\n",
              "   'thursday': '12–8\\u202fAM',\n",
              "   'friday': '12–8\\u202fAM',\n",
              "   'saturday': '12–8\\u202fAM',\n",
              "   'sunday': '12–8:30\\u202fAM',\n",
              "   'monday': '12–8\\u202fAM'},\n",
              "  'phone': '+62 812-2551-371',\n",
              "  'service_options': {'dine_in': True, 'takeout': True},\n",
              "  'thumbnail': 'https://lh5.googleusercontent.com/p/AF1QipMpIRfQCFvkjBGfaoKjcnuAaZXyiZW05wR3nDze=w80-h106-k-no'},\n",
              " {'position': 3,\n",
              "  'title': 'BAKSO JUMBO KROBOKAN',\n",
              "  'place_id': 'ChIJBYtD0DSLcC4R2Jtb0pMIG7U',\n",
              "  'data_id': '0x2e708b34d0438b05:0xb51b0893d25b9bd8',\n",
              "  'data_cid': '13050033776218577880',\n",
              "  'reviews_link': 'https://serpapi.com/search.json?data_id=0x2e708b34d0438b05%3A0xb51b0893d25b9bd8&engine=google_maps_reviews&hl=en',\n",
              "  'photos_link': 'https://serpapi.com/search.json?data_id=0x2e708b34d0438b05%3A0xb51b0893d25b9bd8&engine=google_maps_photos&hl=en',\n",
              "  'gps_coordinates': {'latitude': -6.977339499999999,\n",
              "   'longitude': 110.3988672},\n",
              "  'place_id_search': 'https://serpapi.com/search.json?engine=google_maps&google_domain=google.com&hl=en&place_id=ChIJBYtD0DSLcC4R2Jtb0pMIG7U',\n",
              "  'provider_id': '/g/11dxrlyxpj',\n",
              "  'rating': 4.4,\n",
              "  'reviews': 290,\n",
              "  'price': '$$',\n",
              "  'type': 'Bakso restaurant',\n",
              "  'types': ['Bakso restaurant', 'Diner', 'Noodle shop'],\n",
              "  'type_id': 'bakso_restaurant',\n",
              "  'type_ids': ['bakso_restaurant', 'diner', 'noodle_shop'],\n",
              "  'address': 'Jl. Wiroto Raya No.15 A, Krobokan, Kec. Semarang Barat, Kota Semarang, Jawa Tengah 50141, Indonesia',\n",
              "  'open_state': 'Open ⋅ Closes 8\\u202fPM',\n",
              "  'hours': 'Open ⋅ Closes 8\\u202fPM',\n",
              "  'operating_hours': {'tuesday': '10:30\\u202fAM–8\\u202fPM',\n",
              "   'wednesday': '10:30\\u202fAM–8\\u202fPM',\n",
              "   'thursday': '10:30\\u202fAM–8\\u202fPM',\n",
              "   'friday': '10:30\\u202fAM–8\\u202fPM',\n",
              "   'saturday': '10:30\\u202fAM–8\\u202fPM',\n",
              "   'sunday': '10:30\\u202fAM–8:30\\u202fPM',\n",
              "   'monday': '10:30\\u202fAM–8\\u202fPM'},\n",
              "  'phone': '+62 819-9049-5445',\n",
              "  'service_options': {'dine_in': True, 'takeout': True},\n",
              "  'order_online': 'https://food.google.com/chooseprovider?restaurantId=/g/11dxrlyxpj&g2lbs=AOHF13kULQWiJLdY8z8ffKFLmlsAM0nSqOorCyGSaRZE_YEiXSk9lJL60jtl9AOhW00ULCe-_WW8zMGFxRmeArNk-krlEMh4Wg-IJqUDSRQl8raAJE1m3tU%3D&hl=en-US&gl=us&fo_m=MfohQo559jFvMUOzJVpjPL1YMfZ3bInYwBDuMfaXTPp5KXh-&utm_source=tactile&gei=vEN6ZruQJ-7Bp84PiKiO0AU&ei=vEN6ZruQJ-7Bp84PiKiO0AU&fo_s=OA,SOE&opi=79508299&foub=mcpp',\n",
              "  'thumbnail': 'https://lh5.googleusercontent.com/p/AF1QipOMeT15-NJUes3fxc2PaP8I2AXBUwaPch05h-Wb=w80-h106-k-no'},\n",
              " {'position': 4,\n",
              "  'title': 'Bakso Balungan dan Bakso Iso Babat \"Artho Moro\"',\n",
              "  'place_id': 'ChIJuYXDfav0cC4Ra7jHvQQgyhs',\n",
              "  'data_id': '0x2e70f4ab7dc385b9:0x1bca2004bdc7b86b',\n",
              "  'data_cid': '2002448189055547499',\n",
              "  'reviews_link': 'https://serpapi.com/search.json?data_id=0x2e70f4ab7dc385b9%3A0x1bca2004bdc7b86b&engine=google_maps_reviews&hl=en',\n",
              "  'photos_link': 'https://serpapi.com/search.json?data_id=0x2e70f4ab7dc385b9%3A0x1bca2004bdc7b86b&engine=google_maps_photos&hl=en',\n",
              "  'gps_coordinates': {'latitude': -6.973294999999999,\n",
              "   'longitude': 110.42036499999999},\n",
              "  'place_id_search': 'https://serpapi.com/search.json?engine=google_maps&google_domain=google.com&hl=en&place_id=ChIJuYXDfav0cC4Ra7jHvQQgyhs',\n",
              "  'provider_id': '/g/11dzxgzlw6',\n",
              "  'rating': 4.4,\n",
              "  'reviews': 69,\n",
              "  'unclaimed_listing': True,\n",
              "  'type': 'Bakso restaurant',\n",
              "  'types': ['Bakso restaurant', 'Diner'],\n",
              "  'type_id': 'bakso_restaurant',\n",
              "  'type_ids': ['bakso_restaurant', 'diner'],\n",
              "  'address': 'Jl. Pemuda No.29-33, Pandansari, Kec. Semarang Tengah, Kota Semarang, Jawa Tengah 50139, Indonesia',\n",
              "  'open_state': 'Open ⋅ Closes 9\\u202fPM',\n",
              "  'hours': 'Open ⋅ Closes 9\\u202fPM',\n",
              "  'operating_hours': {'tuesday': '9:30\\u202fAM–9\\u202fPM',\n",
              "   'wednesday': '9:30\\u202fAM–9\\u202fPM',\n",
              "   'thursday': '9:30\\u202fAM–9\\u202fPM',\n",
              "   'friday': '9:30\\u202fAM–9\\u202fPM',\n",
              "   'saturday': '9:30\\u202fAM–9\\u202fPM',\n",
              "   'sunday': '9:30\\u202fAM–9\\u202fPM',\n",
              "   'monday': '9:30\\u202fAM–9\\u202fPM'},\n",
              "  'phone': '+62 857-1396-2002',\n",
              "  'service_options': {'dine_in': True, 'takeout': True},\n",
              "  'thumbnail': 'https://lh5.googleusercontent.com/p/AF1QipPCXAnqPRsW7-mp7rwdSd26ku-NHAh_JPTp4BPt=w124-h92-k-no'},\n",
              " {'position': 5,\n",
              "  'title': 'Spesial Bakso Daging Sapi & Mie Ayam Bakso Pak Mitro',\n",
              "  'place_id': 'ChIJjZPdvUmLcC4RWN4nB4fQz4M',\n",
              "  'data_id': '0x2e708b49bddd938d:0x83cfd0870727de58',\n",
              "  'data_cid': '9498039417506881112',\n",
              "  'reviews_link': 'https://serpapi.com/search.json?data_id=0x2e708b49bddd938d%3A0x83cfd0870727de58&engine=google_maps_reviews&hl=en',\n",
              "  'photos_link': 'https://serpapi.com/search.json?data_id=0x2e708b49bddd938d%3A0x83cfd0870727de58&engine=google_maps_photos&hl=en',\n",
              "  'gps_coordinates': {'latitude': -6.9826412, 'longitude': 110.40431849999999},\n",
              "  'place_id_search': 'https://serpapi.com/search.json?engine=google_maps&google_domain=google.com&hl=en&place_id=ChIJjZPdvUmLcC4RWN4nB4fQz4M',\n",
              "  'provider_id': '/g/11c45kntql',\n",
              "  'rating': 4.5,\n",
              "  'reviews': 178,\n",
              "  'unclaimed_listing': True,\n",
              "  'type': 'Bakso restaurant',\n",
              "  'types': ['Bakso restaurant', 'Diner', 'Noodle shop'],\n",
              "  'type_id': 'bakso_restaurant',\n",
              "  'type_ids': ['bakso_restaurant', 'diner', 'noodle_shop'],\n",
              "  'address': '2C83+WPW, Jl. Bulustalan, Bulustalan, Kec. Semarang Sel., Kota Semarang, Jawa Tengah 50245, Indonesia',\n",
              "  'open_state': 'Open ⋅ Closes 9\\u202fPM',\n",
              "  'hours': 'Open ⋅ Closes 9\\u202fPM',\n",
              "  'operating_hours': {'tuesday': '11\\u202fAM–9\\u202fPM',\n",
              "   'wednesday': '11\\u202fAM–9\\u202fPM',\n",
              "   'thursday': '11\\u202fAM–9\\u202fPM',\n",
              "   'friday': '11\\u202fAM–9\\u202fPM',\n",
              "   'saturday': '11\\u202fAM–9\\u202fPM',\n",
              "   'sunday': '11\\u202fAM–9\\u202fPM',\n",
              "   'monday': '11\\u202fAM–9\\u202fPM'},\n",
              "  'phone': '+62 856-4094-3413',\n",
              "  'service_options': {'dine_in': True, 'takeout': True},\n",
              "  'thumbnail': 'https://lh5.googleusercontent.com/p/AF1QipNPooFkPOSZBlTtDtoVRJ-UBsQS1xoGhNDAtxLB=w80-h106-k-no'},\n",
              " {'position': 6,\n",
              "  'title': 'Bakso Pak Paino',\n",
              "  'place_id': 'ChIJFU4TsFiLcC4R3CddFpjjfpk',\n",
              "  'data_id': '0x2e708b58b0134e15:0x997ee398165d27dc',\n",
              "  'data_cid': '11060527977218254812',\n",
              "  'reviews_link': 'https://serpapi.com/search.json?data_id=0x2e708b58b0134e15%3A0x997ee398165d27dc&engine=google_maps_reviews&hl=en',\n",
              "  'photos_link': 'https://serpapi.com/search.json?data_id=0x2e708b58b0134e15%3A0x997ee398165d27dc&engine=google_maps_photos&hl=en',\n",
              "  'gps_coordinates': {'latitude': -6.9923198, 'longitude': 110.4308518},\n",
              "  'place_id_search': 'https://serpapi.com/search.json?engine=google_maps&google_domain=google.com&hl=en&place_id=ChIJFU4TsFiLcC4R3CddFpjjfpk',\n",
              "  'provider_id': '/g/11dfqvqm8y',\n",
              "  'rating': 4.6,\n",
              "  'reviews': 932,\n",
              "  'price': '$$',\n",
              "  'type': 'Bakso restaurant',\n",
              "  'types': ['Bakso restaurant'],\n",
              "  'type_id': 'bakso_restaurant',\n",
              "  'type_ids': ['bakso_restaurant'],\n",
              "  'address': 'Jl. Karangsari III No.11, Karangkidul, Semarang Tengah, Semarang City, Central Java 50136, Indonesia',\n",
              "  'open_state': 'Open ⋅ Closes 5:30\\u202fPM',\n",
              "  'hours': 'Open ⋅ Closes 5:30\\u202fPM',\n",
              "  'operating_hours': {'tuesday': '10\\u202fAM–5:30\\u202fPM',\n",
              "   'wednesday': '10\\u202fAM–5:30\\u202fPM',\n",
              "   'thursday': '10\\u202fAM–5:30\\u202fPM',\n",
              "   'friday': '10\\u202fAM–5:30\\u202fPM',\n",
              "   'saturday': '10\\u202fAM–5:30\\u202fPM',\n",
              "   'sunday': '10\\u202fAM–5:30\\u202fPM',\n",
              "   'monday': '10\\u202fAM–5:30\\u202fPM'},\n",
              "  'phone': '+62 857-2691-4951',\n",
              "  'service_options': {'dine_in': True, 'takeout': True},\n",
              "  'thumbnail': 'https://lh5.googleusercontent.com/p/AF1QipMF2qcSKBJs_oED-ZsRruhUFPkWaB9oQ42Q1dzu=w80-h142-k-no'},\n",
              " {'position': 7,\n",
              "  'title': 'Bakso sultan semar mesem pekunden',\n",
              "  'place_id': 'ChIJZSAqRzWLcC4RA3Y3WXbRGes',\n",
              "  'data_id': '0x2e708b35472a2065:0xeb19d17659377603',\n",
              "  'data_cid': '16940801779563984387',\n",
              "  'reviews_link': 'https://serpapi.com/search.json?data_id=0x2e708b35472a2065%3A0xeb19d17659377603&engine=google_maps_reviews&hl=en',\n",
              "  'photos_link': 'https://serpapi.com/search.json?data_id=0x2e708b35472a2065%3A0xeb19d17659377603&engine=google_maps_photos&hl=en',\n",
              "  'gps_coordinates': {'latitude': -6.985348699999999,\n",
              "   'longitude': 110.41417279999999},\n",
              "  'place_id_search': 'https://serpapi.com/search.json?engine=google_maps&google_domain=google.com&hl=en&place_id=ChIJZSAqRzWLcC4RA3Y3WXbRGes',\n",
              "  'provider_id': '/g/11q34klwhr',\n",
              "  'unclaimed_listing': True,\n",
              "  'type': 'Bakso restaurant',\n",
              "  'types': ['Bakso restaurant'],\n",
              "  'type_id': 'bakso_restaurant',\n",
              "  'type_ids': ['bakso_restaurant'],\n",
              "  'address': 'Jl. Pekunden Tengah No.1070, Pekunden, Kec. Semarang Tengah, Kota Semarang, Jawa Tengah 50241, Indonesia',\n",
              "  'open_state': 'Open ⋅ Closes 8\\u202fPM',\n",
              "  'hours': 'Open ⋅ Closes 8\\u202fPM',\n",
              "  'operating_hours': {'tuesday': '10\\u202fAM–8\\u202fPM',\n",
              "   'wednesday': '10\\u202fAM–8\\u202fPM',\n",
              "   'thursday': '10\\u202fAM–8\\u202fPM',\n",
              "   'friday': '10\\u202fAM–8\\u202fPM',\n",
              "   'saturday': '10\\u202fAM–8\\u202fPM',\n",
              "   'sunday': '10\\u202fAM–8\\u202fPM',\n",
              "   'monday': '10\\u202fAM–8\\u202fPM'},\n",
              "  'phone': '+62 856-4128-8458',\n",
              "  'service_options': {'dine_in': True, 'takeout': True},\n",
              "  'thumbnail': 'https://streetviewpixels-pa.googleapis.com/v1/thumbnail?panoid=nkgb-7pLMqpdpINcauDelg&cb_client=search.gws-prod.gps&w=80&h=92&yaw=51.593704&pitch=0&thumbfov=100'},\n",
              " {'position': 8,\n",
              "  'title': 'Bakso Mangkok Kembar',\n",
              "  'place_id': 'ChIJO6fUclCLcC4RTu7doTQ4y5o',\n",
              "  'data_id': '0x2e708b5072d4a73b:0x9acb3834a1ddee4e',\n",
              "  'data_cid': '11154070700818296398',\n",
              "  'reviews_link': 'https://serpapi.com/search.json?data_id=0x2e708b5072d4a73b%3A0x9acb3834a1ddee4e&engine=google_maps_reviews&hl=en',\n",
              "  'photos_link': 'https://serpapi.com/search.json?data_id=0x2e708b5072d4a73b%3A0x9acb3834a1ddee4e&engine=google_maps_photos&hl=en',\n",
              "  'gps_coordinates': {'latitude': -6.9851665999999994,\n",
              "   'longitude': 110.41587539999999},\n",
              "  'place_id_search': 'https://serpapi.com/search.json?engine=google_maps&google_domain=google.com&hl=en&place_id=ChIJO6fUclCLcC4RTu7doTQ4y5o',\n",
              "  'provider_id': '/g/11d_7s8r7w',\n",
              "  'rating': 4.4,\n",
              "  'reviews': 102,\n",
              "  'unclaimed_listing': True,\n",
              "  'type': 'Bakso restaurant',\n",
              "  'types': ['Bakso restaurant'],\n",
              "  'type_id': 'bakso_restaurant',\n",
              "  'type_ids': ['bakso_restaurant'],\n",
              "  'address': '2C78+W9J, Jalan batan selatan , kuliner thamrin Pekunden, Miroto, Kec. Semarang Tengah, Kota Semarang, Jawa Tengah 50241, Indonesia',\n",
              "  'open_state': 'Open ⋅ Closes 9\\u202fPM',\n",
              "  'hours': 'Open ⋅ Closes 9\\u202fPM',\n",
              "  'operating_hours': {'tuesday': '11\\u202fAM–9\\u202fPM',\n",
              "   'wednesday': '11\\u202fAM–9\\u202fPM',\n",
              "   'thursday': '11\\u202fAM–9\\u202fPM',\n",
              "   'friday': '11\\u202fAM–9\\u202fPM',\n",
              "   'saturday': '11\\u202fAM–9\\u202fPM',\n",
              "   'sunday': '11\\u202fAM–9\\u202fPM',\n",
              "   'monday': '11\\u202fAM–9\\u202fPM'},\n",
              "  'phone': '+62 822-2539-8473',\n",
              "  'service_options': {'dine_in': True, 'takeout': True},\n",
              "  'thumbnail': 'https://lh5.googleusercontent.com/p/AF1QipP4sJn_R69H_98mOVnKC6iOPOF6ZauncPv8Etkm=w122-h92-k-no'},\n",
              " {'position': 9,\n",
              "  'title': 'Bakso Babat Salatiga Agung',\n",
              "  'place_id': 'ChIJQWEBAVGLcC4R4ygcQLsYPlc',\n",
              "  'data_id': '0x2e708b5101016141:0x573e18bb401c28e3',\n",
              "  'data_cid': '6286489322369329379',\n",
              "  'reviews_link': 'https://serpapi.com/search.json?data_id=0x2e708b5101016141%3A0x573e18bb401c28e3&engine=google_maps_reviews&hl=en',\n",
              "  'photos_link': 'https://serpapi.com/search.json?data_id=0x2e708b5101016141%3A0x573e18bb401c28e3&engine=google_maps_photos&hl=en',\n",
              "  'gps_coordinates': {'latitude': -6.9834172, 'longitude': 110.4174474},\n",
              "  'place_id_search': 'https://serpapi.com/search.json?engine=google_maps&google_domain=google.com&hl=en&place_id=ChIJQWEBAVGLcC4R4ygcQLsYPlc',\n",
              "  'provider_id': '/g/11df7jcn5q',\n",
              "  'rating': 4.4,\n",
              "  'reviews': 503,\n",
              "  'price': '$$',\n",
              "  'type': 'Bakso restaurant',\n",
              "  'types': ['Bakso restaurant',\n",
              "   'Family restaurant',\n",
              "   'Fast food restaurant',\n",
              "   'Indonesian restaurant'],\n",
              "  'type_id': 'bakso_restaurant',\n",
              "  'type_ids': ['bakso_restaurant',\n",
              "   'family_restaurant',\n",
              "   'fast_food_restaurant',\n",
              "   'indonesian_restaurant'],\n",
              "  'address': 'Jl. MH Thamrin No.41, Miroto, Semarang Tengah, Semarang City, Central Java 50134, Indonesia',\n",
              "  'open_state': 'Open ⋅ Closes 10\\u202fPM',\n",
              "  'hours': 'Open ⋅ Closes 10\\u202fPM',\n",
              "  'operating_hours': {'tuesday': '10\\u202fAM–10\\u202fPM',\n",
              "   'wednesday': '10\\u202fAM–10\\u202fPM',\n",
              "   'thursday': '10\\u202fAM–10\\u202fPM',\n",
              "   'friday': '10\\u202fAM–10\\u202fPM',\n",
              "   'saturday': '10\\u202fAM–10\\u202fPM',\n",
              "   'sunday': '10\\u202fAM–10\\u202fPM',\n",
              "   'monday': '10\\u202fAM–10\\u202fPM'},\n",
              "  'phone': '+62 24 3518480',\n",
              "  'service_options': {'dine_in': True,\n",
              "   'takeout': True,\n",
              "   'no_contact_delivery': True},\n",
              "  'order_online': 'https://food.google.com/chooseprovider?restaurantId=/g/11df7jcn5q&g2lbs=AOHF13mLELvwnGAHYsKJ_97BZkl1U04J0kJ1NW3z77YoWJGhzkRgw57Xb0Q7k8FUfMRPFnfWiYo2uN7yJ031tZ9gzrksLrEVwtAevtCNVX3EeJRhZPni0tI%3D&hl=en-US&gl=us&fo_m=MfohQo559jFvMUOzJVpjPL1YMfZ3bInYwBDuMfaXTPp5KXh-&utm_source=tactile&gei=vEN6ZruQJ-7Bp84PiKiO0AU&ei=vEN6ZruQJ-7Bp84PiKiO0AU&fo_s=OA,SOE&opi=79508299&foub=mcpp',\n",
              "  'thumbnail': 'https://lh5.googleusercontent.com/p/AF1QipPiYlL247V55k8D3emiBrH7EelFaH-V0eS07-b3=w92-h92-k-no'},\n",
              " {'position': 10,\n",
              "  'title': 'Bakso Sastro Anggrek',\n",
              "  'place_id': 'ChIJgcSDTFiLcC4RRTsCE9Io7ak',\n",
              "  'data_id': '0x2e708b584c83c481:0xa9ed28d213023b45',\n",
              "  'data_cid': '12244487844617403205',\n",
              "  'reviews_link': 'https://serpapi.com/search.json?data_id=0x2e708b584c83c481%3A0xa9ed28d213023b45&engine=google_maps_reviews&hl=en',\n",
              "  'photos_link': 'https://serpapi.com/search.json?data_id=0x2e708b584c83c481%3A0xa9ed28d213023b45&engine=google_maps_photos&hl=en',\n",
              "  'gps_coordinates': {'latitude': -6.9853067, 'longitude': 110.4089887},\n",
              "  'place_id_search': 'https://serpapi.com/search.json?engine=google_maps&google_domain=google.com&hl=en&place_id=ChIJgcSDTFiLcC4RRTsCE9Io7ak',\n",
              "  'provider_id': '/g/11g72llg23',\n",
              "  'rating': 4.1,\n",
              "  'reviews': 27,\n",
              "  'unclaimed_listing': True,\n",
              "  'type': 'Bakso restaurant',\n",
              "  'types': ['Bakso restaurant', 'Diner'],\n",
              "  'type_id': 'bakso_restaurant',\n",
              "  'type_ids': ['bakso_restaurant', 'diner'],\n",
              "  'address': 'KARTIKA GRAND BISTRO - MUSEUM MANDALA BHAKTI, Jl. Mgr Sugiyopranoto No.1, Barusari, Kec. Semarang Tengah, Kota Semarang, Jawa Tengah 50134, Indonesia',\n",
              "  'open_state': 'Open ⋅ Closes 5\\u202fPM',\n",
              "  'hours': 'Open ⋅ Closes 5\\u202fPM',\n",
              "  'operating_hours': {'tuesday': '9\\u202fAM–5\\u202fPM',\n",
              "   'wednesday': '9\\u202fAM–5\\u202fPM',\n",
              "   'thursday': '9\\u202fAM–5\\u202fPM',\n",
              "   'friday': '9\\u202fAM–5\\u202fPM',\n",
              "   'saturday': '9\\u202fAM–5\\u202fPM',\n",
              "   'sunday': '9\\u202fAM–5\\u202fPM',\n",
              "   'monday': '9\\u202fAM–5\\u202fPM'},\n",
              "  'phone': '+62 858-6502-3575',\n",
              "  'service_options': {'dine_in': True, 'takeout': True},\n",
              "  'thumbnail': 'https://lh5.googleusercontent.com/p/AF1QipMA4D0fyCfS9NnAsRnV0BDYKFGiUk6yLKFRrYMv=w122-h92-k-no'},\n",
              " {'position': 11,\n",
              "  'title': 'BAKSO TENIS DAN TAHU GIMBAL PAK BEJO',\n",
              "  'place_id': 'ChIJeQSOeVCLcC4RmZHoYzqZV88',\n",
              "  'data_id': '0x2e708b50798e0479:0xcf57993a63e89199',\n",
              "  'data_cid': '14940578764888248729',\n",
              "  'reviews_link': 'https://serpapi.com/search.json?data_id=0x2e708b50798e0479%3A0xcf57993a63e89199&engine=google_maps_reviews&hl=en',\n",
              "  'photos_link': 'https://serpapi.com/search.json?data_id=0x2e708b50798e0479%3A0xcf57993a63e89199&engine=google_maps_photos&hl=en',\n",
              "  'gps_coordinates': {'latitude': -6.985345199999999, 'longitude': 110.417085},\n",
              "  'place_id_search': 'https://serpapi.com/search.json?engine=google_maps&google_domain=google.com&hl=en&place_id=ChIJeQSOeVCLcC4RmZHoYzqZV88',\n",
              "  'provider_id': '/g/11g8vtqbxs',\n",
              "  'rating': 4.1,\n",
              "  'reviews': 22,\n",
              "  'unclaimed_listing': True,\n",
              "  'type': 'Bakso restaurant',\n",
              "  'types': ['Bakso restaurant', 'Diner'],\n",
              "  'type_id': 'bakso_restaurant',\n",
              "  'type_ids': ['bakso_restaurant', 'diner'],\n",
              "  'address': 'Jl. Pekunden Barat No.50, Miroto, Kec. Semarang Tengah, Kota Semarang, Jawa Tengah 50134, Indonesia',\n",
              "  'open_state': 'Open ⋅ Closes 11\\u202fPM',\n",
              "  'hours': 'Open ⋅ Closes 11\\u202fPM',\n",
              "  'operating_hours': {'tuesday': '9\\u202fAM–11\\u202fPM',\n",
              "   'wednesday': '9\\u202fAM–11\\u202fPM',\n",
              "   'thursday': '9\\u202fAM–11\\u202fPM',\n",
              "   'friday': '9\\u202fAM–11\\u202fPM',\n",
              "   'saturday': '9\\u202fAM–11\\u202fPM',\n",
              "   'sunday': '9\\u202fAM–11\\u202fPM',\n",
              "   'monday': '9\\u202fAM–11\\u202fPM'},\n",
              "  'phone': '+62 857-1348-1055',\n",
              "  'service_options': {'dine_in': True, 'takeout': True},\n",
              "  'thumbnail': 'https://lh5.googleusercontent.com/p/AF1QipNTsIH_6RL8LUWkk6Vl2qbZLykq5SFitg5ALCpW=w80-h142-k-no'},\n",
              " {'position': 12,\n",
              "  'title': 'Bakso Pak Ompong',\n",
              "  'place_id': 'ChIJc4A_ZsT1cC4RN9M3f0F-JeU',\n",
              "  'data_id': '0x2e70f5c4663f8073:0xe5257e417f37d337',\n",
              "  'data_cid': '16511742428596130615',\n",
              "  'reviews_link': 'https://serpapi.com/search.json?data_id=0x2e70f5c4663f8073%3A0xe5257e417f37d337&engine=google_maps_reviews&hl=en',\n",
              "  'photos_link': 'https://serpapi.com/search.json?data_id=0x2e70f5c4663f8073%3A0xe5257e417f37d337&engine=google_maps_photos&hl=en',\n",
              "  'gps_coordinates': {'latitude': -6.9744665999999995,\n",
              "   'longitude': 110.3972996},\n",
              "  'place_id_search': 'https://serpapi.com/search.json?engine=google_maps&google_domain=google.com&hl=en&place_id=ChIJc4A_ZsT1cC4RN9M3f0F-JeU',\n",
              "  'provider_id': '/g/11h263f3sc',\n",
              "  'rating': 4.6,\n",
              "  'reviews': 32,\n",
              "  'unclaimed_listing': True,\n",
              "  'type': 'Bakso restaurant',\n",
              "  'types': ['Bakso restaurant'],\n",
              "  'type_id': 'bakso_restaurant',\n",
              "  'type_ids': ['bakso_restaurant'],\n",
              "  'address': '29GW+6W7, Jl. Jodipati Tim., Krobokan, Kec. Semarang Barat, Kota Semarang, Jawa Tengah 50141, Indonesia',\n",
              "  'open_state': 'Open ⋅ Closes 3\\u202fAM',\n",
              "  'hours': 'Open ⋅ Closes 3\\u202fAM',\n",
              "  'operating_hours': {'tuesday': '9\\u202fAM–3\\u202fAM',\n",
              "   'wednesday': '9\\u202fAM–3\\u202fAM',\n",
              "   'thursday': '9\\u202fAM–3\\u202fAM',\n",
              "   'friday': '9\\u202fAM–3\\u202fAM',\n",
              "   'saturday': '9\\u202fAM–3\\u202fAM',\n",
              "   'sunday': '9\\u202fAM–3\\u202fAM',\n",
              "   'monday': '9\\u202fAM–3\\u202fAM'},\n",
              "  'service_options': {'dine_in': True, 'takeout': True},\n",
              "  'thumbnail': 'https://lh5.googleusercontent.com/p/AF1QipM4yypP_eqklv77C9JGH51yjMNirAarwblQoG7X=w122-h92-k-no'},\n",
              " {'position': 13,\n",
              "  'title': 'Bakso Sapi Wonogiri Pak Benjol',\n",
              "  'place_id': 'ChIJgbjum6v0cC4RBKhzj5tZDeQ',\n",
              "  'data_id': '0x2e70f4ab9beeb881:0xe40d599b8f73a804',\n",
              "  'data_cid': '16432889140006332420',\n",
              "  'reviews_link': 'https://serpapi.com/search.json?data_id=0x2e70f4ab9beeb881%3A0xe40d599b8f73a804&engine=google_maps_reviews&hl=en',\n",
              "  'photos_link': 'https://serpapi.com/search.json?data_id=0x2e70f4ab9beeb881%3A0xe40d599b8f73a804&engine=google_maps_photos&hl=en',\n",
              "  'gps_coordinates': {'latitude': -6.9732553, 'longitude': 110.4209953},\n",
              "  'place_id_search': 'https://serpapi.com/search.json?engine=google_maps&google_domain=google.com&hl=en&place_id=ChIJgbjum6v0cC4RBKhzj5tZDeQ',\n",
              "  'provider_id': '/g/11g6pyb6v3',\n",
              "  'rating': 4.3,\n",
              "  'reviews': 24,\n",
              "  'unclaimed_listing': True,\n",
              "  'type': 'Bakso restaurant',\n",
              "  'types': ['Bakso restaurant', 'Diner'],\n",
              "  'type_id': 'bakso_restaurant',\n",
              "  'type_ids': ['bakso_restaurant', 'diner'],\n",
              "  'address': 'Jl. Pemuda No.29-33, Pandansari, Kec. Semarang Tengah, Kota Semarang, Jawa Tengah 50139, Indonesia',\n",
              "  'open_state': 'Open ⋅ Closes 9\\u202fPM',\n",
              "  'hours': 'Open ⋅ Closes 9\\u202fPM',\n",
              "  'operating_hours': {'tuesday': '9:30\\u202fAM–9\\u202fPM',\n",
              "   'wednesday': '9:30\\u202fAM–9\\u202fPM',\n",
              "   'thursday': '9:30\\u202fAM–9\\u202fPM',\n",
              "   'friday': '9:30\\u202fAM–9\\u202fPM',\n",
              "   'saturday': '9:30\\u202fAM–9\\u202fPM',\n",
              "   'sunday': '9:30\\u202fAM–9\\u202fPM',\n",
              "   'monday': '9:30\\u202fAM–9\\u202fPM'},\n",
              "  'phone': '+62 896-6917-9333',\n",
              "  'service_options': {'dine_in': True, 'takeout': True},\n",
              "  'thumbnail': 'https://lh5.googleusercontent.com/p/AF1QipPfMR8c_oJU63a0CSa4G4xAQ27gX8g_U45hX7hk=w80-h106-k-no'},\n",
              " {'position': 14,\n",
              "  'title': 'Bakso Sapi Pak Poly',\n",
              "  'place_id': 'ChIJgzH086eMcC4R8hkSOSwBzF0',\n",
              "  'data_id': '0x2e708ca7f3f43183:0x5dcc012c391219f2',\n",
              "  'data_cid': '6758778430223948274',\n",
              "  'reviews_link': 'https://serpapi.com/search.json?data_id=0x2e708ca7f3f43183%3A0x5dcc012c391219f2&engine=google_maps_reviews&hl=en',\n",
              "  'photos_link': 'https://serpapi.com/search.json?data_id=0x2e708ca7f3f43183%3A0x5dcc012c391219f2&engine=google_maps_photos&hl=en',\n",
              "  'gps_coordinates': {'latitude': -6.9865343, 'longitude': 110.4261465},\n",
              "  'place_id_search': 'https://serpapi.com/search.json?engine=google_maps&google_domain=google.com&hl=en&place_id=ChIJgzH086eMcC4R8hkSOSwBzF0',\n",
              "  'provider_id': '/g/11f03w9kmg',\n",
              "  'rating': 4.6,\n",
              "  'reviews': 275,\n",
              "  'unclaimed_listing': True,\n",
              "  'type': 'Bakso restaurant',\n",
              "  'types': ['Bakso restaurant', 'Diner'],\n",
              "  'type_id': 'bakso_restaurant',\n",
              "  'type_ids': ['bakso_restaurant', 'diner'],\n",
              "  'address': 'Jl. Anggrek IV No.35a, Pekunden, Kec. Semarang Tengah, Kota Semarang, Jawa Tengah 50241, Indonesia',\n",
              "  'open_state': 'Open ⋅ Closes 4\\u202fPM',\n",
              "  'hours': 'Open ⋅ Closes 4\\u202fPM',\n",
              "  'operating_hours': {'tuesday': '10\\u202fAM–4\\u202fPM',\n",
              "   'wednesday': '10\\u202fAM–4\\u202fPM',\n",
              "   'thursday': '10\\u202fAM–4\\u202fPM',\n",
              "   'friday': '10\\u202fAM–4\\u202fPM',\n",
              "   'saturday': '10\\u202fAM–4\\u202fPM',\n",
              "   'sunday': '10\\u202fAM–4\\u202fPM',\n",
              "   'monday': '10\\u202fAM–4\\u202fPM'},\n",
              "  'phone': '+62 858-6621-2292',\n",
              "  'service_options': {'dine_in': True, 'takeout': True},\n",
              "  'thumbnail': 'https://lh5.googleusercontent.com/p/AF1QipMAZxeHLy5o3Ji3W5uy6I4H0IroOOqj3-3aUQOe=w92-h92-k-no'},\n",
              " {'position': 15,\n",
              "  'title': 'Bakso Aneka Semarang',\n",
              "  'place_id': 'ChIJ-__k96iMcC4RBvfQp5GKcZE',\n",
              "  'data_id': '0x2e708ca8f7e4fffb:0x91718a91a7d0f706',\n",
              "  'data_cid': '10480310166058235654',\n",
              "  'reviews_link': 'https://serpapi.com/search.json?data_id=0x2e708ca8f7e4fffb%3A0x91718a91a7d0f706&engine=google_maps_reviews&hl=en',\n",
              "  'photos_link': 'https://serpapi.com/search.json?data_id=0x2e708ca8f7e4fffb%3A0x91718a91a7d0f706&engine=google_maps_photos&hl=en',\n",
              "  'gps_coordinates': {'latitude': -6.9834228, 'longitude': 110.4291646},\n",
              "  'place_id_search': 'https://serpapi.com/search.json?engine=google_maps&google_domain=google.com&hl=en&place_id=ChIJ-__k96iMcC4RBvfQp5GKcZE',\n",
              "  'provider_id': '/g/11byyj9t5h',\n",
              "  'rating': 4.5,\n",
              "  'reviews': 518,\n",
              "  'type': 'Bakso restaurant',\n",
              "  'types': ['Bakso restaurant', 'Indonesian restaurant'],\n",
              "  'type_id': 'bakso_restaurant',\n",
              "  'type_ids': ['bakso_restaurant', 'indonesian_restaurant'],\n",
              "  'address': 'Jl. Pringgading No.23, Brumbungan, Semarang Tengah, Semarang City, Central Java 50136, Indonesia',\n",
              "  'open_state': 'Open ⋅ Closes 9:30\\u202fPM',\n",
              "  'hours': 'Open ⋅ Closes 9:30\\u202fPM',\n",
              "  'operating_hours': {'tuesday': '10\\u202fAM–9:30\\u202fPM',\n",
              "   'wednesday': '10\\u202fAM–9:30\\u202fPM',\n",
              "   'thursday': '10\\u202fAM–9:30\\u202fPM',\n",
              "   'friday': '10\\u202fAM–9:30\\u202fPM',\n",
              "   'saturday': '10\\u202fAM–9:30\\u202fPM',\n",
              "   'sunday': '10\\u202fAM–9:30\\u202fPM',\n",
              "   'monday': '10\\u202fAM–9:30\\u202fPM'},\n",
              "  'phone': '+62 857-4258-1588',\n",
              "  'service_options': {'dine_in': True,\n",
              "   'takeout': True,\n",
              "   'no_contact_delivery': True},\n",
              "  'order_online': 'https://food.google.com/chooseprovider?restaurantId=/g/11byyj9t5h&g2lbs=AOHF13lpssFIwFxkWgDYHTXlLz4q7NvgnIQGWjsZy_vnksxLqhi9l2GUgeL7OfI-jMJ062pY9NkcU7oky9B_rMBluks0pFyii1obSWhDGlDxXbkYSxCPlio%3D&hl=en-US&gl=us&fo_m=MfohQo559jFvMUOzJVpjPL1YMfZ3bInYwBDuMfaXTPp5KXh-&utm_source=tactile&gei=vEN6ZruQJ-7Bp84PiKiO0AU&ei=vEN6ZruQJ-7Bp84PiKiO0AU&fo_s=OA,SOE&opi=79508299&foub=mcpp',\n",
              "  'thumbnail': 'https://lh5.googleusercontent.com/p/AF1QipOGsdxDXtoXpbIOllGOuzkcjJWj2SCzNWdwS_Pz=w80-h106-k-no'},\n",
              " {'position': 16,\n",
              "  'title': 'Bakso Kakap Pak Doel',\n",
              "  'place_id': 'ChIJzeJC1an0cC4RqOBbI4gOLyw',\n",
              "  'data_id': '0x2e70f4a9d542e2cd:0x2c2f0e88235be0a8',\n",
              "  'data_cid': '3183779439445794984',\n",
              "  'reviews_link': 'https://serpapi.com/search.json?data_id=0x2e70f4a9d542e2cd%3A0x2c2f0e88235be0a8&engine=google_maps_reviews&hl=en',\n",
              "  'photos_link': 'https://serpapi.com/search.json?data_id=0x2e70f4a9d542e2cd%3A0x2c2f0e88235be0a8&engine=google_maps_photos&hl=en',\n",
              "  'gps_coordinates': {'latitude': -6.967843299999999,\n",
              "   'longitude': 110.4262531},\n",
              "  'place_id_search': 'https://serpapi.com/search.json?engine=google_maps&google_domain=google.com&hl=en&place_id=ChIJzeJC1an0cC4RqOBbI4gOLyw',\n",
              "  'provider_id': '/g/11g88g7nml',\n",
              "  'rating': 4.6,\n",
              "  'reviews': 386,\n",
              "  'unclaimed_listing': True,\n",
              "  'type': 'Bakso restaurant',\n",
              "  'types': ['Bakso restaurant'],\n",
              "  'type_id': 'bakso_restaurant',\n",
              "  'type_ids': ['bakso_restaurant'],\n",
              "  'address': 'Jl. Branjangan No.10a, Tanjung Mas, Semarang Utara, Semarang City, Central Java 50174, Indonesia',\n",
              "  'open_state': 'Open ⋅ Closes 6\\u202fPM',\n",
              "  'hours': 'Open ⋅ Closes 6\\u202fPM',\n",
              "  'operating_hours': {'tuesday': '11\\u202fAM–6\\u202fPM',\n",
              "   'wednesday': '11\\u202fAM–6\\u202fPM',\n",
              "   'thursday': '11\\u202fAM–6\\u202fPM',\n",
              "   'friday': '11\\u202fAM–6\\u202fPM',\n",
              "   'saturday': '11\\u202fAM–6\\u202fPM',\n",
              "   'sunday': '11\\u202fAM–6\\u202fPM',\n",
              "   'monday': '11\\u202fAM–6\\u202fPM'},\n",
              "  'phone': '+62 882-2634-0941',\n",
              "  'service_options': {'dine_in': True, 'takeout': True},\n",
              "  'order_online': 'https://food.google.com/chooseprovider?restaurantId=/g/11g88g7nml&g2lbs=AOHF13kMrbauGyy80MWimkA7w7W1aWQzr68Y6DJYSmSO5y8gNuA9T6DvviSeH74n9umQ9eOhWrAws5qbe5Nsgoe37T9KSFBaHUU2hVjsZB_cwyCFlV0cUG0%3D&hl=en-US&gl=us&fo_m=MfohQo559jFvMUOzJVpjPL1YMfZ3bInYwBDuMfaXTPp5KXh-&utm_source=tactile&gei=vEN6ZruQJ-7Bp84PiKiO0AU&ei=vEN6ZruQJ-7Bp84PiKiO0AU&fo_s=OA,SOE&opi=79508299&foub=mcpp',\n",
              "  'thumbnail': 'https://lh5.googleusercontent.com/p/AF1QipPs-4wd8f0HGLqiskUvLHPS-4b9rfOQHWSU5t-o=w80-h106-k-no'},\n",
              " {'position': 17,\n",
              "  'title': 'Bakso Sabar Menanti Pak Setyo Supar',\n",
              "  'place_id': 'ChIJSRkZ37SLcC4RJmQ2OAqKUfU',\n",
              "  'data_id': '0x2e708bb4df191949:0xf5518a0a38366426',\n",
              "  'data_cid': '17677061788903302182',\n",
              "  'reviews_link': 'https://serpapi.com/search.json?data_id=0x2e708bb4df191949%3A0xf5518a0a38366426&engine=google_maps_reviews&hl=en',\n",
              "  'photos_link': 'https://serpapi.com/search.json?data_id=0x2e708bb4df191949%3A0xf5518a0a38366426&engine=google_maps_photos&hl=en',\n",
              "  'gps_coordinates': {'latitude': -6.9881283, 'longitude': 110.42138779999999},\n",
              "  'place_id_search': 'https://serpapi.com/search.json?engine=google_maps&google_domain=google.com&hl=en&place_id=ChIJSRkZ37SLcC4RJmQ2OAqKUfU',\n",
              "  'provider_id': '/g/11fl5t4ztl',\n",
              "  'rating': 4.8,\n",
              "  'reviews': 26,\n",
              "  'unclaimed_listing': True,\n",
              "  'type': 'Bakso restaurant',\n",
              "  'types': ['Bakso restaurant'],\n",
              "  'type_id': 'bakso_restaurant',\n",
              "  'type_ids': ['bakso_restaurant'],\n",
              "  'address': 'Jl. Pekunden Timur No.12, Pekunden, Semarang Tengah, Semarang City, Central Java 50241, Indonesia',\n",
              "  'open_state': 'Open ⋅ Closes 9\\u202fPM',\n",
              "  'hours': 'Open ⋅ Closes 9\\u202fPM',\n",
              "  'operating_hours': {'tuesday': '10\\u202fAM–9\\u202fPM',\n",
              "   'wednesday': '10\\u202fAM–9\\u202fPM',\n",
              "   'thursday': '10\\u202fAM–9\\u202fPM',\n",
              "   'friday': '10\\u202fAM–9\\u202fPM',\n",
              "   'saturday': '10\\u202fAM–9\\u202fPM',\n",
              "   'sunday': '10\\u202fAM–9\\u202fPM',\n",
              "   'monday': '10\\u202fAM–9\\u202fPM'},\n",
              "  'service_options': {'dine_in': True, 'takeout': True},\n",
              "  'thumbnail': 'https://lh5.googleusercontent.com/p/AF1QipM5kwVTwSPiPqK2HL9u9eQc1_bqnJM3gNThSVmv=w80-h106-k-no'},\n",
              " {'position': 18,\n",
              "  'title': 'Bakso Sapi Aris',\n",
              "  'place_id': 'ChIJgwBrwqT1cC4RXeklAgUuWKE',\n",
              "  'data_id': '0x2e70f5a4c26b0083:0xa1582e050225e95d',\n",
              "  'data_cid': '11626093037102688605',\n",
              "  'reviews_link': 'https://serpapi.com/search.json?data_id=0x2e70f5a4c26b0083%3A0xa1582e050225e95d&engine=google_maps_reviews&hl=en',\n",
              "  'photos_link': 'https://serpapi.com/search.json?data_id=0x2e70f5a4c26b0083%3A0xa1582e050225e95d&engine=google_maps_photos&hl=en',\n",
              "  'gps_coordinates': {'latitude': -6.974416499999999,\n",
              "   'longitude': 110.40400319999999},\n",
              "  'place_id_search': 'https://serpapi.com/search.json?engine=google_maps&google_domain=google.com&hl=en&place_id=ChIJgwBrwqT1cC4RXeklAgUuWKE',\n",
              "  'provider_id': '/g/11j2g14n49',\n",
              "  'rating': 5,\n",
              "  'reviews': 21,\n",
              "  'type': 'Bakso restaurant',\n",
              "  'types': ['Bakso restaurant'],\n",
              "  'type_id': 'bakso_restaurant',\n",
              "  'type_ids': ['bakso_restaurant'],\n",
              "  'address': 'Jl. Surtikanti Utara No.20, Bulu Lor, Semarang Utara, Semarang City, Central Java 50179, Indonesia',\n",
              "  'open_state': 'Open ⋅ Closes 9\\u202fPM',\n",
              "  'hours': 'Open ⋅ Closes 9\\u202fPM',\n",
              "  'operating_hours': {'tuesday': '10\\u202fAM–9\\u202fPM',\n",
              "   'wednesday': '10\\u202fAM–9\\u202fPM',\n",
              "   'thursday': '10\\u202fAM–9\\u202fPM',\n",
              "   'friday': '10\\u202fAM–9\\u202fPM',\n",
              "   'saturday': '10\\u202fAM–9\\u202fPM',\n",
              "   'sunday': '10\\u202fAM–9\\u202fPM',\n",
              "   'monday': '10\\u202fAM–9\\u202fPM'},\n",
              "  'phone': '+62 817-0580-046',\n",
              "  'service_options': {'dine_in': True,\n",
              "   'curbside_pickup': True,\n",
              "   'no_contact_delivery': True},\n",
              "  'order_online': 'https://food.google.com/chooseprovider?restaurantId=/g/11j2g14n49&g2lbs=AOHF13mjrgdz8tO2sDoalcbdDWKrzi14vt0NNWtZVIc_ZQPDbhQbZ4s0bfmBtb0qACShn-neZw6DU1QCOSXDp42YwilrADoEcETOxqoD9nRJSurjllJ1zjE%3D&hl=en-US&gl=us&fo_m=MfohQo559jFvMUOzJVpjPL1YMfZ3bInYwBDuMfaXTPp5KXh-&utm_source=tactile&gei=vEN6ZruQJ-7Bp84PiKiO0AU&ei=vEN6ZruQJ-7Bp84PiKiO0AU&fo_s=OA,SOE&opi=79508299&foub=mcpp',\n",
              "  'thumbnail': 'https://lh5.googleusercontent.com/p/AF1QipP9JTSOQAmgXXSBRUNnfq7RQOerapLXYly315BN=w163-h92-k-no'},\n",
              " {'position': 19,\n",
              "  'title': 'BAKSO SAPI MAWARDI CAB.CITARUM',\n",
              "  'place_id': 'ChIJ4V2GYbD0cC4R_I-EK1I9k-U',\n",
              "  'data_id': '0x2e70f4b061865de1:0xe5933d522b848ffc',\n",
              "  'data_cid': '16542633279388684284',\n",
              "  'reviews_link': 'https://serpapi.com/search.json?data_id=0x2e70f4b061865de1%3A0xe5933d522b848ffc&engine=google_maps_reviews&hl=en',\n",
              "  'photos_link': 'https://serpapi.com/search.json?data_id=0x2e70f4b061865de1%3A0xe5933d522b848ffc&engine=google_maps_photos&hl=en',\n",
              "  'gps_coordinates': {'latitude': -6.966421599999999,\n",
              "   'longitude': 110.4114604},\n",
              "  'place_id_search': 'https://serpapi.com/search.json?engine=google_maps&google_domain=google.com&hl=en&place_id=ChIJ4V2GYbD0cC4R_I-EK1I9k-U',\n",
              "  'provider_id': '/g/11c61z18n3',\n",
              "  'rating': 4.4,\n",
              "  'reviews': 629,\n",
              "  'type': 'Bakso restaurant',\n",
              "  'types': ['Bakso restaurant'],\n",
              "  'type_id': 'bakso_restaurant',\n",
              "  'type_ids': ['bakso_restaurant'],\n",
              "  'address': 'Jl. Hasanudin No.490B, Panggung Kidul, Kec. Semarang Utara, Kota Semarang, Jawa Tengah 50178, Indonesia',\n",
              "  'open_state': 'Open ⋅ Closes 9\\u202fPM',\n",
              "  'hours': 'Open ⋅ Closes 9\\u202fPM',\n",
              "  'operating_hours': {'tuesday': '11\\u202fAM–9\\u202fPM',\n",
              "   'wednesday': '11\\u202fAM–9\\u202fPM',\n",
              "   'thursday': '11\\u202fAM–9\\u202fPM',\n",
              "   'friday': '1–9\\u202fPM',\n",
              "   'saturday': '11\\u202fAM–9\\u202fPM',\n",
              "   'sunday': '11\\u202fAM–9\\u202fPM',\n",
              "   'monday': '11\\u202fAM–9\\u202fPM'},\n",
              "  'phone': '+62 858-9956-0216',\n",
              "  'service_options': {'dine_in': True, 'takeout': True, 'delivery': False},\n",
              "  'order_online': 'https://food.google.com/chooseprovider?restaurantId=/g/11c61z18n3&g2lbs=AOHF13k_zG7R1APJPo05J-47YuPG0tN66bL4NAH4FgGWBvbRbAmih9YPSJ0F8tlHFHoQE0RAcD-0ry-tEasm8_XXP_P5uBGT2vHzeHGIiFnmrSJJ4rQ6i9M%3D&hl=en-US&gl=us&fo_m=MfohQo559jFvMUOzJVpjPL1YMfZ3bInYwBDuMfaXTPp5KXh-&utm_source=tactile&gei=vEN6ZruQJ-7Bp84PiKiO0AU&ei=vEN6ZruQJ-7Bp84PiKiO0AU&fo_s=OA,SOE&opi=79508299&foub=mcpp',\n",
              "  'thumbnail': 'https://lh5.googleusercontent.com/p/AF1QipNOT64YS6AsX7FX7bSUpAalMRP8lDRI-tUWqjYW=w80-h106-k-no'},\n",
              " {'position': 20,\n",
              "  'title': 'Bakso Sapi PAK MIN Palang',\n",
              "  'place_id': 'ChIJeaWZy6f0cC4RMkCinRtQo-U',\n",
              "  'data_id': '0x2e70f4a7cb99a579:0xe5a3501b9da24032',\n",
              "  'data_cid': '16547157535428329522',\n",
              "  'reviews_link': 'https://serpapi.com/search.json?data_id=0x2e70f4a7cb99a579%3A0xe5a3501b9da24032&engine=google_maps_reviews&hl=en',\n",
              "  'photos_link': 'https://serpapi.com/search.json?data_id=0x2e70f4a7cb99a579%3A0xe5a3501b9da24032&engine=google_maps_photos&hl=en',\n",
              "  'gps_coordinates': {'latitude': -6.9659317, 'longitude': 110.4250397},\n",
              "  'place_id_search': 'https://serpapi.com/search.json?engine=google_maps&google_domain=google.com&hl=en&place_id=ChIJeaWZy6f0cC4RMkCinRtQo-U',\n",
              "  'provider_id': '/g/11d_ynss4x',\n",
              "  'rating': 4.5,\n",
              "  'reviews': 135,\n",
              "  'unclaimed_listing': True,\n",
              "  'type': 'Bakso restaurant',\n",
              "  'types': ['Bakso restaurant', 'Diner'],\n",
              "  'type_id': 'bakso_restaurant',\n",
              "  'type_ids': ['bakso_restaurant', 'diner'],\n",
              "  'address': '2CMG+J2F, Jl. Bandarharjo Selatan, Bandarharjo, Kec. Semarang Utara, Kota Semarang, Jawa Tengah 50175, Indonesia',\n",
              "  'open_state': 'Open ⋅ Closes 8\\u202fPM',\n",
              "  'hours': 'Open ⋅ Closes 8\\u202fPM',\n",
              "  'operating_hours': {'tuesday': '11\\u202fAM–8\\u202fPM',\n",
              "   'wednesday': '11\\u202fAM–8\\u202fPM',\n",
              "   'thursday': '11\\u202fAM–8\\u202fPM',\n",
              "   'friday': '11\\u202fAM–8\\u202fPM',\n",
              "   'saturday': '11\\u202fAM–8\\u202fPM',\n",
              "   'sunday': '11\\u202fAM–8\\u202fPM',\n",
              "   'monday': '11\\u202fAM–8\\u202fPM'},\n",
              "  'phone': '+62 819-0433-2254',\n",
              "  'service_options': {'dine_in': True, 'takeout': True},\n",
              "  'thumbnail': 'https://lh5.googleusercontent.com/p/AF1QipO_DClnTBDLYjFR7iED9slc0RoyEUIf6KlXD44w=w80-h142-k-no'}]"
            ]
          },
          "metadata": {},
          "execution_count": 8
        }
      ]
    },
    {
      "cell_type": "code",
      "source": [
        "# tempat makan pertama"
      ],
      "metadata": {
        "id": "4pRGJk5zbZ43"
      },
      "execution_count": null,
      "outputs": []
    },
    {
      "cell_type": "code",
      "source": [
        "from serpapi import GoogleSearch\n",
        "\n",
        "params = {\n",
        "  \"engine\": \"google_maps_reviews\",\n",
        "  \"data_id\": \"0x2e70f4a7cb99a579:0xe5a3501b9da24032\",\n",
        "  \"api_key\": \"868d926c14ebdce76ffb1aaa939da6f52e8ddc41abd58d9fe82c0f2984fb1760\"\n",
        "}\n",
        "\n",
        "search = GoogleSearch(params)\n",
        "results = search.get_dict()\n",
        "reviews = results[\"reviews\"][1][\"snippet\"]"
      ],
      "metadata": {
        "id": "8CQaM1rwY-sr"
      },
      "execution_count": 9,
      "outputs": []
    },
    {
      "cell_type": "code",
      "source": [
        "results"
      ],
      "metadata": {
        "id": "9NWW5Wb4Zd-u",
        "colab": {
          "base_uri": "https://localhost:8080/"
        },
        "outputId": "4183ec67-bdd1-4f91-cbd4-480e9eea2f59"
      },
      "execution_count": 10,
      "outputs": [
        {
          "output_type": "execute_result",
          "data": {
            "text/plain": [
              "{'search_metadata': {'id': '667a4454a4be108831e47b73',\n",
              "  'status': 'Success',\n",
              "  'json_endpoint': 'https://serpapi.com/searches/0d0a83f45d346ce3/667a4454a4be108831e47b73.json',\n",
              "  'created_at': '2024-06-25 04:15:16 UTC',\n",
              "  'processed_at': '2024-06-25 04:15:16 UTC',\n",
              "  'google_maps_reviews_url': 'https://www.google.com/maps/place/data=!4m7!3m6!1s0x2e70f4a7cb99a579:0xe5a3501b9da24032!5m2!4m1!1i2!9m1!1b1?hl=en&gl=',\n",
              "  'raw_html_file': 'https://serpapi.com/searches/0d0a83f45d346ce3/667a4454a4be108831e47b73.html',\n",
              "  'prettify_html_file': 'https://serpapi.com/searches/0d0a83f45d346ce3/667a4454a4be108831e47b73.prettify',\n",
              "  'total_time_taken': 1.59},\n",
              " 'search_parameters': {'engine': 'google_maps_reviews',\n",
              "  'data_id': '0x2e70f4a7cb99a579:0xe5a3501b9da24032',\n",
              "  'hl': 'en'},\n",
              " 'place_info': {'title': 'Bakso Sapi PAK MIN Palang',\n",
              "  'address': '2CMG+J2F, Jl. Bandarharjo Selatan, Bandarharjo, Kec. Semarang Utara, Kota Semarang, Jawa Tengah 50175, Indonesia',\n",
              "  'rating': 4.5,\n",
              "  'reviews': 135,\n",
              "  'type': 'Bakso restaurant'},\n",
              " 'topics': [{'keyword': 'price', 'mentions': 10, 'id': '/m/01d_1l'},\n",
              "  {'keyword': 'mie ayam', 'mentions': 2, 'id': '/m/0jwr91r'},\n",
              "  {'keyword': 'public service', 'mentions': 2, 'id': '/m/04qkjn'}],\n",
              " 'reviews': [{'link': 'https://www.google.com/maps/reviews/data=!4m8!14m7!1m6!2m5!1sChdDSUhNMG9nS0VJQ0FnSUNCbzgzWmlnRRAB!2m1!1s0x0:0xe5a3501b9da24032!3m1!1s2@1:CIHM0ogKEICAgICBo83ZigE%7CCgwIudjPnQYQyMK_2wE%7C?hl=en-US',\n",
              "   'rating': 5.0,\n",
              "   'date': 'a year ago',\n",
              "   'iso_date': '2023-01-03T08:50:01Z',\n",
              "   'iso_date_of_last_edit': '2023-01-03T08:50:01Z',\n",
              "   'source': 'Google',\n",
              "   'review_id': 'ChdDSUhNMG9nS0VJQ0FnSUNCbzgzWmlnRRAB',\n",
              "   'user': {'name': 'Bowotriprasetyo Bowo',\n",
              "    'link': 'https://www.google.com/maps/contrib/100583606772050360250?hl=en-US',\n",
              "    'contributor_id': '100583606772050360250',\n",
              "    'thumbnail': 'https://lh3.googleusercontent.com/a/ACg8ocKatLHhg3Yn1m3P1T0yvS8TPthERXq3KzmhyetbB9ZSdMl9dE4=s120-c-rp-mo-ba5-br100',\n",
              "    'local_guide': True,\n",
              "    'reviews': 299,\n",
              "    'photos': 0},\n",
              "   'snippet': 'Jooosssss',\n",
              "   'extracted_snippet': {'original': 'Jooosssss'},\n",
              "   'details': {'food': 5, 'service': 5, 'atmosphere': 5},\n",
              "   'likes': 0},\n",
              "  {'link': 'https://www.google.com/maps/reviews/data=!4m8!14m7!1m6!2m5!1sChdDSUhNMG9nS0VJQ0FnSUNtc3VqLTJ3RRAB!2m1!1s0x0:0xe5a3501b9da24032!3m1!1s2@1:CIHM0ogKEICAgICmsuj-2wE%7CCgwI1reSjgYQgKC8lwM%7C?hl=en-US',\n",
              "   'rating': 5.0,\n",
              "   'date': '2 years ago',\n",
              "   'iso_date': '2021-12-23T15:55:02Z',\n",
              "   'iso_date_of_last_edit': '2021-12-23T15:55:02Z',\n",
              "   'source': 'Google',\n",
              "   'review_id': 'ChdDSUhNMG9nS0VJQ0FnSUNtc3VqLTJ3RRAB',\n",
              "   'user': {'name': 'BEJO Entertainment',\n",
              "    'link': 'https://www.google.com/maps/contrib/104221742286825520182?hl=en-US',\n",
              "    'contributor_id': '104221742286825520182',\n",
              "    'thumbnail': 'https://lh3.googleusercontent.com/a-/ALV-UjUqknldLB3Ii2V3dYd95egTXAYmEmAXROq8Pt2BeJnfSbGZ4p_S=s120-c-rp-mo-ba3-br100',\n",
              "    'local_guide': True,\n",
              "    'reviews': 18,\n",
              "    'photos': 29},\n",
              "   'snippet': 'Ok',\n",
              "   'extracted_snippet': {'original': 'Ok'},\n",
              "   'likes': 0},\n",
              "  {'link': 'https://www.google.com/maps/reviews/data=!4m8!14m7!1m6!2m5!1sChZDSUhNMG9nS0VJQ0FnSUNkaFlPaklnEAE!2m1!1s0x0:0xe5a3501b9da24032!3m1!1s2@1:CIHM0ogKEICAgICdhYOjIg%7CCgwIqbq-rgYQkPfS5QI%7C?hl=en-US',\n",
              "   'rating': 4.0,\n",
              "   'date': '4 months ago',\n",
              "   'iso_date': '2024-02-16T17:36:41Z',\n",
              "   'iso_date_of_last_edit': '2024-02-16T17:36:41Z',\n",
              "   'source': 'Google',\n",
              "   'review_id': 'ChZDSUhNMG9nS0VJQ0FnSUNkaFlPaklnEAE',\n",
              "   'user': {'name': 'boby ariesta',\n",
              "    'link': 'https://www.google.com/maps/contrib/115112877130255683692?hl=en-US',\n",
              "    'contributor_id': '115112877130255683692',\n",
              "    'thumbnail': 'https://lh3.googleusercontent.com/a-/ALV-UjXLk6KqklOTHitfMzPCq_WJxIbDb1oT06c6Lctb03OuO9S9gIrU=s120-c-rp-mo-ba3-br100',\n",
              "    'local_guide': True,\n",
              "    'reviews': 69,\n",
              "    'photos': 16},\n",
              "   'snippet': 'Rasa bakso nya lumayan, kuahnya kurang panas, mie ayam nya porsi dan rasanya perlu diperbaiki, agak sedikit aanyep.... Tapi penjual ramah pol..',\n",
              "   'extracted_snippet': {'original': 'Rasa bakso nya lumayan, kuahnya kurang panas, mie ayam nya porsi dan rasanya perlu diperbaiki, agak sedikit aanyep.... Tapi penjual ramah pol..',\n",
              "    'translated': \"The taste of the meatballs is not bad, the sauce is not hot enough, the chicken noodle portion is large and the taste needs to be improved, it's a bit odd... But the seller is very friendly...\"},\n",
              "   'details': {'service': 4,\n",
              "    'meal_type': 'Lunch',\n",
              "    'price_per_person': 'Rp\\xa01–25,000',\n",
              "    'food': 3,\n",
              "    'atmosphere': 3,\n",
              "    'recommended_dishes': 'Bakso Sapi',\n",
              "    'parking_space': 'Somewhat difficult to find parking',\n",
              "    'parking_options': 'Free street parking'},\n",
              "   'likes': 0},\n",
              "  {'link': 'https://www.google.com/maps/reviews/data=!4m8!14m7!1m6!2m5!1sChdDSUhNMG9nS0VJQ0FnSUNCMHRiSjNnRRAB!2m1!1s0x0:0xe5a3501b9da24032!3m1!1s2@1:CIHM0ogKEICAgICB0tbJ3gE%7CCgwIz9iLnQYQkKf9qAI%7C?hl=en-US',\n",
              "   'rating': 5.0,\n",
              "   'date': 'a year ago',\n",
              "   'iso_date': '2022-12-21T11:21:17Z',\n",
              "   'iso_date_of_last_edit': '2022-12-21T11:21:51Z',\n",
              "   'images': ['https://lh5.googleusercontent.com/p/AF1QipO_DClnTBDLYjFR7iED9slc0RoyEUIf6KlXD44w=w150-h150-k-no-p'],\n",
              "   'source': 'Google',\n",
              "   'review_id': 'ChdDSUhNMG9nS0VJQ0FnSUNCMHRiSjNnRRAB',\n",
              "   'user': {'name': 'Andicha Primasta',\n",
              "    'link': 'https://www.google.com/maps/contrib/102254886232315712205?hl=en-US',\n",
              "    'contributor_id': '102254886232315712205',\n",
              "    'thumbnail': 'https://lh3.googleusercontent.com/a-/ALV-UjUYOsfiIhOQ0lEGGKDIxMc_yLiz69MlN9HLNvq8nHfoiQv8pf7j=s120-c-rp-mo-ba4-br100',\n",
              "    'local_guide': True,\n",
              "    'reviews': 44,\n",
              "    'photos': 76},\n",
              "   'snippet': 'Bakso langganan dari jaman masih kecil. Rasanya dari dulu nggak berubah. Harganya juga murah. Seporsi + es teh cuma 15 ribu rupiah.',\n",
              "   'extracted_snippet': {'original': 'Bakso langganan dari jaman masih kecil. Rasanya dari dulu nggak berubah. Harganya juga murah. Seporsi + es teh cuma 15 ribu rupiah.',\n",
              "    'translated': \"Meatballs have been a regular since I was little. It feels like it hasn't changed since then. The price is also cheap. A portion + iced tea is only 15 thousand rupiah.\"},\n",
              "   'details': {'service': 4,\n",
              "    'meal_type': 'Lunch',\n",
              "    'price_per_person': 'Rp\\xa01–25,000',\n",
              "    'food': 5,\n",
              "    'atmosphere': 4},\n",
              "   'likes': 0},\n",
              "  {'link': 'https://www.google.com/maps/reviews/data=!4m8!14m7!1m6!2m5!1sChdDSUhNMG9nS0VJQ0FnSURaNXRDei1RRRAB!2m1!1s0x0:0xe5a3501b9da24032!3m1!1s2@1:CIHM0ogKEICAgIDZ5tCz-QE%7CCgwIu4veqAYQyJ3ZjgI%7C?hl=en-US',\n",
              "   'rating': 5.0,\n",
              "   'date': '8 months ago',\n",
              "   'iso_date': '2023-09-30T02:19:39Z',\n",
              "   'iso_date_of_last_edit': '2023-09-30T02:19:39Z',\n",
              "   'source': 'Google',\n",
              "   'review_id': 'ChdDSUhNMG9nS0VJQ0FnSURaNXRDei1RRRAB',\n",
              "   'user': {'name': 'Ismarlena Sari',\n",
              "    'link': 'https://www.google.com/maps/contrib/117831381746223317707?hl=en-US',\n",
              "    'contributor_id': '117831381746223317707',\n",
              "    'thumbnail': 'https://lh3.googleusercontent.com/a-/ALV-UjXqpkoDz6wWREY0MQx8cuxeRZgTTs-XlUPLoKuCbvILFNCOJUGm=s120-c-rp-mo-ba3-br100',\n",
              "    'local_guide': True,\n",
              "    'reviews': 23,\n",
              "    'photos': 30},\n",
              "   'snippet': 'Saya sering makan disini dengan suami saya, selain harganya yang terjangkau dan rasanya enak.. pelayanannya  pun cepat,, untuk tempat saya kasih bintang 4 ya guys.. tapi untuk basonya tetap bintang 5 menurut aku...',\n",
              "   'extracted_snippet': {'original': 'Saya sering makan disini dengan suami saya, selain harganya yang terjangkau dan rasanya enak.. pelayanannya  pun cepat,, untuk tempat saya kasih bintang 4 ya guys.. tapi untuk basonya tetap bintang 5 menurut aku...',\n",
              "    'translated': \"I often eat here with my husband, apart from the prices being affordable and the taste delicious... the service is fast... I give the place 4 stars, guys... but for the meatballs it's still 5 stars in my opinion...\"},\n",
              "   'details': {'service': 'Dine in'},\n",
              "   'likes': 0},\n",
              "  {'link': 'https://www.google.com/maps/reviews/data=!4m8!14m7!1m6!2m5!1sChZDSUhNMG9nS0VJQ0FnSUNCaTZLMEVnEAE!2m1!1s0x0:0xe5a3501b9da24032!3m1!1s2@1:CIHM0ogKEICAgICBi6K0Eg%7CCgwIl_LUnQYQkOLekwE%7C?hl=en-US',\n",
              "   'rating': 5.0,\n",
              "   'date': 'a year ago',\n",
              "   'iso_date': '2023-01-04T08:30:15Z',\n",
              "   'iso_date_of_last_edit': '2023-01-04T08:30:15Z',\n",
              "   'source': 'Google',\n",
              "   'review_id': 'ChZDSUhNMG9nS0VJQ0FnSUNCaTZLMEVnEAE',\n",
              "   'user': {'name': 'Aulia Putri Utami',\n",
              "    'link': 'https://www.google.com/maps/contrib/104478133628226291865?hl=en-US',\n",
              "    'contributor_id': '104478133628226291865',\n",
              "    'thumbnail': 'https://lh3.googleusercontent.com/a-/ALV-UjVSv5vPHU3-v9nJsPTK_ZBg4PFSPs_AAbFSqZcsCimAtCqLfV9B=s120-c-rp-mo-br100',\n",
              "    'local_guide': True,\n",
              "    'reviews': 5,\n",
              "    'photos': 1},\n",
              "   'snippet': 'Baksonya enak. Worth the price engga mahal.  Ada kek tertelan dan bagian bagian daging sapi yg kenyal. Isinya banyak. Ada nasi putih dan lontong juga. Minim tempat parkir mobil aja',\n",
              "   'extracted_snippet': {'original': 'Baksonya enak. Worth the price engga mahal.  Ada kek tertelan dan bagian bagian daging sapi yg kenyal. Isinya banyak. Ada nasi putih dan lontong juga. Minim tempat parkir mobil aja',\n",
              "    'translated': \"The meatballs are delicious. Worth the price, not expensive.  There were swallowed cakes and chewy parts of the beef. There's a lot of content. There is white rice and lontong too. There is minimal car parking space\"},\n",
              "   'likes': 0},\n",
              "  {'link': 'https://www.google.com/maps/reviews/data=!4m8!14m7!1m6!2m5!1sChZDSUhNMG9nS0VJQ0FnSURleXIyN01BEAE!2m1!1s0x0:0xe5a3501b9da24032!3m1!1s2@1:CIHM0ogKEICAgIDeyr27MA%7CCgwI1bOAmgYQoKzt8AE%7C?hl=en-US',\n",
              "   'rating': 5.0,\n",
              "   'date': 'a year ago',\n",
              "   'iso_date': '2022-10-07T12:21:41Z',\n",
              "   'iso_date_of_last_edit': '2022-10-07T12:21:41Z',\n",
              "   'source': 'Google',\n",
              "   'review_id': 'ChZDSUhNMG9nS0VJQ0FnSURleXIyN01BEAE',\n",
              "   'user': {'name': 'Ivana Fatihaturrohmah',\n",
              "    'link': 'https://www.google.com/maps/contrib/112065360393606384982?hl=en-US',\n",
              "    'contributor_id': '112065360393606384982',\n",
              "    'thumbnail': 'https://lh3.googleusercontent.com/a-/ALV-UjWMWY_TIGsnUqzKyPGp_zbX4_DDLxiRK1LsM2lN9fFEJeL_n67Y=s120-c-rp-mo-br100',\n",
              "    'reviews': 5,\n",
              "    'photos': 7},\n",
              "   'snippet': 'Rasane top markotop welleh welleh poko.e..\\nSaya pelanggan setia soto lamongan cak iful yg berada di jl.hasanudin..\\nSetiap hari pasti mampir..',\n",
              "   'extracted_snippet': {'original': 'Rasane top markotop welleh welleh poko.e..\\nSaya pelanggan setia soto lamongan cak iful yg berada di jl.hasanudin..\\nSetiap hari pasti mampir..',\n",
              "    'translated': 'Rasane top markotop welleh welleh poko.e..\\nI am a loyal customer of Soto Lamongan Cak Iful which is on Jl. Hasanudin..\\nMust stop by every day..'},\n",
              "   'likes': 0},\n",
              "  {'link': 'https://www.google.com/maps/reviews/data=!4m8!14m7!1m6!2m5!1sChZDSUhNMG9nS0VJQ0FnSUR1cVpxMFpnEAE!2m1!1s0x0:0xe5a3501b9da24032!3m1!1s2@1:CIHM0ogKEICAgIDuqZq0Zg%7CCgwIlL-VmAYQ-LumjAI%7C?hl=en-US',\n",
              "   'rating': 4.0,\n",
              "   'date': 'a year ago',\n",
              "   'iso_date': '2022-08-23T23:15:32Z',\n",
              "   'iso_date_of_last_edit': '2022-08-23T23:15:32Z',\n",
              "   'source': 'Google',\n",
              "   'review_id': 'ChZDSUhNMG9nS0VJQ0FnSUR1cVpxMFpnEAE',\n",
              "   'user': {'name': 'Elok Fatima',\n",
              "    'link': 'https://www.google.com/maps/contrib/113886619869162902312?hl=en-US',\n",
              "    'contributor_id': '113886619869162902312',\n",
              "    'thumbnail': 'https://lh3.googleusercontent.com/a/ACg8ocKi6yEO-4fpKE8_Vt4gcrpgl09PRDkD3z-uCo-yDrVtc20sph4=s120-c-rp-mo-ba4-br100',\n",
              "    'local_guide': True,\n",
              "    'reviews': 75,\n",
              "    'photos': 37},\n",
              "   'snippet': 'Uwenak rek baksonya, kalo yang gak suka tetelan bilang ya, pas beli di kasih tetelan, mungkin kalo enggak enak lagi hehee',\n",
              "   'extracted_snippet': {'original': 'Uwenak rek baksonya, kalo yang gak suka tetelan bilang ya, pas beli di kasih tetelan, mungkin kalo enggak enak lagi hehee',\n",
              "    'translated': \"If you like the meatballs, if you don't like it, say yes, when you buy it, give it a swallow, maybe if it doesn't taste good hehee\"},\n",
              "   'details': {'service': 'Take out',\n",
              "    'meal_type': 'Dinner',\n",
              "    'price_per_person': 'Rp\\xa01–25,000'},\n",
              "   'likes': 0}],\n",
              " 'serpapi_pagination': {'next': 'https://serpapi.com/search.json?data_id=0x2e70f4a7cb99a579%3A0xe5a3501b9da24032&engine=google_maps_reviews&hl=en&next_page_token=CAESBkVnSUlDQQ%3D%3D',\n",
              "  'next_page_token': 'CAESBkVnSUlDQQ=='}}"
            ]
          },
          "metadata": {},
          "execution_count": 10
        }
      ]
    },
    {
      "cell_type": "code",
      "source": [
        "for i in range(10):\n",
        "  rating = results[\"reviews\"][i][\"rating\"]\n",
        "  print(rating)\n",
        "  reviews = results[\"reviews\"][i][\"snippet\"]\n",
        "  print(reviews)"
      ],
      "metadata": {
        "id": "zDzu7xmfZkZy",
        "colab": {
          "base_uri": "https://localhost:8080/",
          "height": 560
        },
        "outputId": "c5eea295-bbb5-437e-f8ee-d300eea1bd6d"
      },
      "execution_count": 11,
      "outputs": [
        {
          "output_type": "stream",
          "name": "stdout",
          "text": [
            "5.0\n",
            "Jooosssss\n",
            "5.0\n",
            "Ok\n",
            "4.0\n",
            "Rasa bakso nya lumayan, kuahnya kurang panas, mie ayam nya porsi dan rasanya perlu diperbaiki, agak sedikit aanyep.... Tapi penjual ramah pol..\n",
            "5.0\n",
            "Bakso langganan dari jaman masih kecil. Rasanya dari dulu nggak berubah. Harganya juga murah. Seporsi + es teh cuma 15 ribu rupiah.\n",
            "5.0\n",
            "Saya sering makan disini dengan suami saya, selain harganya yang terjangkau dan rasanya enak.. pelayanannya  pun cepat,, untuk tempat saya kasih bintang 4 ya guys.. tapi untuk basonya tetap bintang 5 menurut aku...\n",
            "5.0\n",
            "Baksonya enak. Worth the price engga mahal.  Ada kek tertelan dan bagian bagian daging sapi yg kenyal. Isinya banyak. Ada nasi putih dan lontong juga. Minim tempat parkir mobil aja\n",
            "5.0\n",
            "Rasane top markotop welleh welleh poko.e..\n",
            "Saya pelanggan setia soto lamongan cak iful yg berada di jl.hasanudin..\n",
            "Setiap hari pasti mampir..\n",
            "4.0\n",
            "Uwenak rek baksonya, kalo yang gak suka tetelan bilang ya, pas beli di kasih tetelan, mungkin kalo enggak enak lagi hehee\n"
          ]
        },
        {
          "output_type": "error",
          "ename": "IndexError",
          "evalue": "list index out of range",
          "traceback": [
            "\u001b[0;31m---------------------------------------------------------------------------\u001b[0m",
            "\u001b[0;31mIndexError\u001b[0m                                Traceback (most recent call last)",
            "\u001b[0;32m<ipython-input-11-e1a460b9ebd0>\u001b[0m in \u001b[0;36m<cell line: 1>\u001b[0;34m()\u001b[0m\n\u001b[1;32m      1\u001b[0m \u001b[0;32mfor\u001b[0m \u001b[0mi\u001b[0m \u001b[0;32min\u001b[0m \u001b[0mrange\u001b[0m\u001b[0;34m(\u001b[0m\u001b[0;36m10\u001b[0m\u001b[0;34m)\u001b[0m\u001b[0;34m:\u001b[0m\u001b[0;34m\u001b[0m\u001b[0;34m\u001b[0m\u001b[0m\n\u001b[0;32m----> 2\u001b[0;31m   \u001b[0mrating\u001b[0m \u001b[0;34m=\u001b[0m \u001b[0mresults\u001b[0m\u001b[0;34m[\u001b[0m\u001b[0;34m\"reviews\"\u001b[0m\u001b[0;34m]\u001b[0m\u001b[0;34m[\u001b[0m\u001b[0mi\u001b[0m\u001b[0;34m]\u001b[0m\u001b[0;34m[\u001b[0m\u001b[0;34m\"rating\"\u001b[0m\u001b[0;34m]\u001b[0m\u001b[0;34m\u001b[0m\u001b[0;34m\u001b[0m\u001b[0m\n\u001b[0m\u001b[1;32m      3\u001b[0m   \u001b[0mprint\u001b[0m\u001b[0;34m(\u001b[0m\u001b[0mrating\u001b[0m\u001b[0;34m)\u001b[0m\u001b[0;34m\u001b[0m\u001b[0;34m\u001b[0m\u001b[0m\n\u001b[1;32m      4\u001b[0m   \u001b[0mreviews\u001b[0m \u001b[0;34m=\u001b[0m \u001b[0mresults\u001b[0m\u001b[0;34m[\u001b[0m\u001b[0;34m\"reviews\"\u001b[0m\u001b[0;34m]\u001b[0m\u001b[0;34m[\u001b[0m\u001b[0mi\u001b[0m\u001b[0;34m]\u001b[0m\u001b[0;34m[\u001b[0m\u001b[0;34m\"snippet\"\u001b[0m\u001b[0;34m]\u001b[0m\u001b[0;34m\u001b[0m\u001b[0;34m\u001b[0m\u001b[0m\n\u001b[1;32m      5\u001b[0m   \u001b[0mprint\u001b[0m\u001b[0;34m(\u001b[0m\u001b[0mreviews\u001b[0m\u001b[0;34m)\u001b[0m\u001b[0;34m\u001b[0m\u001b[0;34m\u001b[0m\u001b[0m\n",
            "\u001b[0;31mIndexError\u001b[0m: list index out of range"
          ]
        }
      ]
    },
    {
      "cell_type": "code",
      "source": [
        "# tempat makan ke 2"
      ],
      "metadata": {
        "id": "cUkBlfmLbu_l"
      },
      "execution_count": null,
      "outputs": []
    },
    {
      "cell_type": "code",
      "source": [
        "from serpapi import GoogleSearch\n",
        "\n",
        "params = {\n",
        "  \"engine\": \"google_maps_reviews\",\n",
        "  \"data_id\": \"0x2e708b50466f7175:0x3a96a9010ab0d758\",\n",
        "  \"api_key\": \"2b34e8b0f32ffc331e496deb6940c89f1337ea4e4d7a46e3f5e2499936353b24\"\n",
        "}\n",
        "\n",
        "search = GoogleSearch(params)\n",
        "results = search.get_dict()\n",
        "reviews = results[\"reviews\"][1][\"snippet\"]"
      ],
      "metadata": {
        "colab": {
          "base_uri": "https://localhost:8080/"
        },
        "id": "8fph4oF8b8V6",
        "outputId": "67f7f810-b54f-4c14-a039-def2f5b40368"
      },
      "execution_count": null,
      "outputs": [
        {
          "output_type": "stream",
          "name": "stdout",
          "text": [
            "https://serpapi.com/search\n"
          ]
        }
      ]
    },
    {
      "cell_type": "code",
      "source": [
        "results"
      ],
      "metadata": {
        "id": "c_SxOsmacpG5"
      },
      "execution_count": null,
      "outputs": []
    },
    {
      "cell_type": "code",
      "source": [
        "for i in range(10):\n",
        "  rating = results[\"reviews\"][i][\"rating\"]\n",
        "  print(rating)\n",
        "  reviews = results[\"reviews\"][i][\"snippet\"]\n",
        "  print(reviews)"
      ],
      "metadata": {
        "id": "ZTg_HLzecvu7"
      },
      "execution_count": null,
      "outputs": []
    },
    {
      "cell_type": "code",
      "source": [
        "# tempat makan ke 3"
      ],
      "metadata": {
        "id": "CCL4nc_Jb-UN"
      },
      "execution_count": null,
      "outputs": []
    },
    {
      "cell_type": "code",
      "source": [
        "from serpapi import GoogleSearch\n",
        "\n",
        "params = {\n",
        "  \"engine\": \"google_maps_reviews\",\n",
        "  \"data_id\": \"0x2e708ca76324ffef:0x5d40f44311d348d3\",\n",
        "  \"api_key\": \"2b34e8b0f32ffc331e496deb6940c89f1337ea4e4d7a46e3f5e2499936353b24\"\n",
        "}\n",
        "\n",
        "search = GoogleSearch(params)\n",
        "results = search.get_dict()\n",
        "reviews = results[\"reviews\"][1][\"snippet\"]"
      ],
      "metadata": {
        "colab": {
          "base_uri": "https://localhost:8080/"
        },
        "id": "noKYLxeacBZZ",
        "outputId": "ff89313a-a573-4f06-d802-0c3b6edc557c"
      },
      "execution_count": null,
      "outputs": [
        {
          "output_type": "stream",
          "name": "stdout",
          "text": [
            "https://serpapi.com/search\n"
          ]
        }
      ]
    },
    {
      "cell_type": "code",
      "source": [
        "results"
      ],
      "metadata": {
        "id": "opE68ErLdvgw"
      },
      "execution_count": null,
      "outputs": []
    },
    {
      "cell_type": "code",
      "source": [
        "for i in range(10):\n",
        "  rating = results[\"reviews\"][i][\"rating\"]\n",
        "  print(rating)\n",
        "  reviews = results[\"reviews\"][i][\"snippet\"]\n",
        "  print(reviews)"
      ],
      "metadata": {
        "id": "hRmVPuRpdWPi"
      },
      "execution_count": null,
      "outputs": []
    },
    {
      "cell_type": "code",
      "source": [
        "# tempat makan ke 4"
      ],
      "metadata": {
        "id": "guLGzPLucDEy"
      },
      "execution_count": null,
      "outputs": []
    },
    {
      "cell_type": "code",
      "source": [
        "from serpapi import GoogleSearch\n",
        "\n",
        "params = {\n",
        "  \"engine\": \"google_maps_reviews\",\n",
        "  \"data_id\": \"0x2e708ca87642aeff:0x3a9e3d261f97c427\",\n",
        "  \"api_key\": \"2b34e8b0f32ffc331e496deb6940c89f1337ea4e4d7a46e3f5e2499936353b24\"\n",
        "}\n",
        "\n",
        "search = GoogleSearch(params)\n",
        "results = search.get_dict()\n",
        "reviews = results[\"reviews\"][1][\"snippet\"]"
      ],
      "metadata": {
        "colab": {
          "base_uri": "https://localhost:8080/"
        },
        "id": "4lqTy3BHcFYh",
        "outputId": "fb1c15cd-5b98-4a7a-eb52-766dac4f35c8"
      },
      "execution_count": null,
      "outputs": [
        {
          "output_type": "stream",
          "name": "stdout",
          "text": [
            "https://serpapi.com/search\n"
          ]
        }
      ]
    },
    {
      "cell_type": "code",
      "source": [
        "results"
      ],
      "metadata": {
        "id": "OxerTuTVeAT8"
      },
      "execution_count": null,
      "outputs": []
    },
    {
      "cell_type": "code",
      "source": [
        "for i in range(10):\n",
        "  rating = results[\"reviews\"][i][\"rating\"]\n",
        "  print(rating)\n",
        "  reviews = results[\"reviews\"][i][\"snippet\"]\n",
        "  print(reviews)"
      ],
      "metadata": {
        "id": "buUBh_aXdYzp"
      },
      "execution_count": null,
      "outputs": []
    },
    {
      "cell_type": "code",
      "source": [
        "# tempat makan ke 5"
      ],
      "metadata": {
        "id": "SX8CyE2XcGjm"
      },
      "execution_count": null,
      "outputs": []
    },
    {
      "cell_type": "code",
      "source": [
        "from serpapi import GoogleSearch\n",
        "\n",
        "params = {\n",
        "  \"engine\": \"google_maps_reviews\",\n",
        "  \"data_id\": \"0x2e708ca8f7e4fffb:0x91718a91a7d0f706\",\n",
        "  \"api_key\": \"2b34e8b0f32ffc331e496deb6940c89f1337ea4e4d7a46e3f5e2499936353b24\"\n",
        "}\n",
        "\n",
        "search = GoogleSearch(params)\n",
        "results = search.get_dict()\n",
        "reviews = results[\"reviews\"][1][\"snippet\"]"
      ],
      "metadata": {
        "colab": {
          "base_uri": "https://localhost:8080/"
        },
        "id": "HIqhtEmicJqi",
        "outputId": "68c366dc-5f30-4384-e2ff-6affd314f406"
      },
      "execution_count": null,
      "outputs": [
        {
          "output_type": "stream",
          "name": "stdout",
          "text": [
            "https://serpapi.com/search\n"
          ]
        }
      ]
    },
    {
      "cell_type": "code",
      "source": [
        "results"
      ],
      "metadata": {
        "id": "G-tiwq3ueRds"
      },
      "execution_count": null,
      "outputs": []
    },
    {
      "cell_type": "code",
      "source": [
        "for i in range(10):\n",
        "  rating = results[\"reviews\"][i][\"rating\"]\n",
        "  print(rating)\n",
        "  reviews = results[\"reviews\"][i][\"snippet\"]\n",
        "  print(reviews)"
      ],
      "metadata": {
        "id": "gJvelszgdack"
      },
      "execution_count": null,
      "outputs": []
    },
    {
      "cell_type": "code",
      "source": [
        "# tempat makan ke 6"
      ],
      "metadata": {
        "id": "wryWxHHwcLAC"
      },
      "execution_count": null,
      "outputs": []
    },
    {
      "cell_type": "code",
      "source": [
        "from serpapi import GoogleSearch\n",
        "\n",
        "params = {\n",
        "  \"engine\": \"google_maps_reviews\",\n",
        "  \"data_id\": \"0x2e70f4ab7dc385b9:0x1bca2004bdc7b86b\",\n",
        "  \"api_key\": \"2b34e8b0f32ffc331e496deb6940c89f1337ea4e4d7a46e3f5e2499936353b24\"\n",
        "}\n",
        "\n",
        "search = GoogleSearch(params)\n",
        "results = search.get_dict()\n",
        "reviews = results[\"reviews\"][1][\"snippet\"]"
      ],
      "metadata": {
        "colab": {
          "base_uri": "https://localhost:8080/"
        },
        "id": "CKdfpXmlcOYz",
        "outputId": "8d63b247-bde5-4042-9ab1-ec3ef7f4d42b"
      },
      "execution_count": null,
      "outputs": [
        {
          "output_type": "stream",
          "name": "stdout",
          "text": [
            "https://serpapi.com/search\n"
          ]
        }
      ]
    },
    {
      "cell_type": "code",
      "source": [
        "results"
      ],
      "metadata": {
        "id": "aNplWuU6ekJq"
      },
      "execution_count": null,
      "outputs": []
    },
    {
      "cell_type": "code",
      "source": [
        "for i in range(10):\n",
        "  rating = results[\"reviews\"][i][\"rating\"]\n",
        "  print(rating)\n",
        "  reviews = results[\"reviews\"][i][\"snippet\"]\n",
        "  print(reviews)"
      ],
      "metadata": {
        "id": "0JJG0lITdcOj"
      },
      "execution_count": null,
      "outputs": []
    },
    {
      "cell_type": "code",
      "source": [
        "# tempat makan ke 7"
      ],
      "metadata": {
        "id": "oz3mXCe9cPdb"
      },
      "execution_count": null,
      "outputs": []
    },
    {
      "cell_type": "code",
      "source": [
        "from serpapi import GoogleSearch\n",
        "\n",
        "params = {\n",
        "  \"engine\": \"google_maps_reviews\",\n",
        "  \"data_id\": \"0x2e708b511ec32a67:0x7be45c828b94c338\",\n",
        "  \"api_key\": \"2b34e8b0f32ffc331e496deb6940c89f1337ea4e4d7a46e3f5e2499936353b24\"\n",
        "}\n",
        "\n",
        "search = GoogleSearch(params)\n",
        "results = search.get_dict()\n",
        "reviews = results[\"reviews\"][1][\"snippet\"]"
      ],
      "metadata": {
        "colab": {
          "base_uri": "https://localhost:8080/"
        },
        "id": "1fWqhppCcR7C",
        "outputId": "a9c38478-1a32-43b0-a530-2f80fadc2a0a"
      },
      "execution_count": null,
      "outputs": [
        {
          "output_type": "stream",
          "name": "stdout",
          "text": [
            "https://serpapi.com/search\n"
          ]
        }
      ]
    },
    {
      "cell_type": "code",
      "source": [
        "results"
      ],
      "metadata": {
        "id": "9_DQzqlQe0ej"
      },
      "execution_count": null,
      "outputs": []
    },
    {
      "cell_type": "code",
      "source": [
        "for i in range(10):\n",
        "  rating = results[\"reviews\"][i][\"rating\"]\n",
        "  print(rating)\n",
        "  reviews = results[\"reviews\"][i][\"snippet\"]\n",
        "  print(reviews)"
      ],
      "metadata": {
        "id": "i5B6KvYTddqJ"
      },
      "execution_count": null,
      "outputs": []
    },
    {
      "cell_type": "code",
      "source": [
        "# tempat makaan ke 8"
      ],
      "metadata": {
        "id": "m-42L8VScS_7"
      },
      "execution_count": null,
      "outputs": []
    },
    {
      "cell_type": "code",
      "source": [
        "from serpapi import GoogleSearch\n",
        "\n",
        "params = {\n",
        "  \"engine\": \"google_maps_reviews\",\n",
        "  \"data_id\": \"0x2e708b47d1f6eea3:0xbbfb21e54306c08f\",\n",
        "  \"api_key\": \"2b34e8b0f32ffc331e496deb6940c89f1337ea4e4d7a46e3f5e2499936353b24\"\n",
        "}\n",
        "\n",
        "search = GoogleSearch(params)\n",
        "results = search.get_dict()\n",
        "reviews = results[\"reviews\"][1][\"snippet\"]"
      ],
      "metadata": {
        "colab": {
          "base_uri": "https://localhost:8080/"
        },
        "id": "79siwp6gcW__",
        "outputId": "f477fb33-7efc-4dd3-acc4-ba62d9671b5b"
      },
      "execution_count": null,
      "outputs": [
        {
          "output_type": "stream",
          "name": "stdout",
          "text": [
            "https://serpapi.com/search\n"
          ]
        }
      ]
    },
    {
      "cell_type": "code",
      "source": [
        "results"
      ],
      "metadata": {
        "id": "DllTc8sFfCq5"
      },
      "execution_count": null,
      "outputs": []
    },
    {
      "cell_type": "code",
      "source": [
        "for i in range(10):\n",
        "  rating = results[\"reviews\"][i][\"rating\"]\n",
        "  print(rating)\n",
        "  reviews = results[\"reviews\"][i][\"snippet\"]\n",
        "  print(reviews)"
      ],
      "metadata": {
        "id": "rNGjnHCrde8I"
      },
      "execution_count": null,
      "outputs": []
    },
    {
      "cell_type": "code",
      "source": [
        "# tempat makan ke 9"
      ],
      "metadata": {
        "id": "kUngkncacYkW"
      },
      "execution_count": null,
      "outputs": []
    },
    {
      "cell_type": "code",
      "source": [
        "from serpapi import GoogleSearch\n",
        "\n",
        "params = {\n",
        "  \"engine\": \"google_maps_reviews\",\n",
        "  \"data_id\": \"0x2e708b357dbdf639:0x82d871ba0f368e48\",\n",
        "  \"api_key\": \"2b34e8b0f32ffc331e496deb6940c89f1337ea4e4d7a46e3f5e2499936353b24\"\n",
        "}\n",
        "\n",
        "search = GoogleSearch(params)\n",
        "results = search.get_dict()\n",
        "reviews = results[\"reviews\"][1][\"snippet\"]"
      ],
      "metadata": {
        "colab": {
          "base_uri": "https://localhost:8080/"
        },
        "id": "krdMOv2ZccCi",
        "outputId": "7a6c88c6-35dd-4176-849c-11d62ec474e0"
      },
      "execution_count": null,
      "outputs": [
        {
          "output_type": "stream",
          "name": "stdout",
          "text": [
            "https://serpapi.com/search\n"
          ]
        }
      ]
    },
    {
      "cell_type": "code",
      "source": [
        "results"
      ],
      "metadata": {
        "id": "pKtNSgwQfUXT"
      },
      "execution_count": null,
      "outputs": []
    },
    {
      "cell_type": "code",
      "source": [
        "for i in range(10):\n",
        "  rating = results[\"reviews\"][i][\"rating\"]\n",
        "  print(rating)\n",
        "  reviews = results[\"reviews\"][i][\"snippet\"]\n",
        "  print(reviews)"
      ],
      "metadata": {
        "id": "frEX_YKodgIZ"
      },
      "execution_count": null,
      "outputs": []
    },
    {
      "cell_type": "code",
      "source": [
        "# tempat makan ke 10"
      ],
      "metadata": {
        "id": "8ms-GM_Hcc-4"
      },
      "execution_count": null,
      "outputs": []
    },
    {
      "cell_type": "code",
      "source": [
        "from serpapi import GoogleSearch\n",
        "\n",
        "params = {\n",
        "  \"engine\": \"google_maps_reviews\",\n",
        "  \"data_id\": \"0x2e708b382d629bfd:0x256eaa91a013a91a\",\n",
        "  \"api_key\": \"2b34e8b0f32ffc331e496deb6940c89f1337ea4e4d7a46e3f5e2499936353b24\"\n",
        "}\n",
        "\n",
        "search = GoogleSearch(params)\n",
        "results = search.get_dict()\n",
        "reviews = results[\"reviews\"][1][\"snippet\"]"
      ],
      "metadata": {
        "colab": {
          "base_uri": "https://localhost:8080/"
        },
        "id": "-cOvQb-icfuI",
        "outputId": "40bd2da6-f870-40a5-b8ac-faff12755709"
      },
      "execution_count": null,
      "outputs": [
        {
          "output_type": "stream",
          "name": "stdout",
          "text": [
            "https://serpapi.com/search\n"
          ]
        }
      ]
    },
    {
      "cell_type": "code",
      "source": [
        "results"
      ],
      "metadata": {
        "id": "lbyr2C0lfk1q"
      },
      "execution_count": null,
      "outputs": []
    },
    {
      "cell_type": "code",
      "source": [
        "for i in range(10):\n",
        "  rating = results[\"reviews\"][i][\"rating\"]\n",
        "  print(rating)\n",
        "  reviews = results[\"reviews\"][i][\"snippet\"]\n",
        "  print(reviews)"
      ],
      "metadata": {
        "id": "jP4p-C2WdhVt"
      },
      "execution_count": null,
      "outputs": []
    },
    {
      "cell_type": "code",
      "source": [
        "#   A. Case Folding #\n",
        "\n",
        "# 1. Mengubah text menjadi lowercase\n",
        "kalimat = \"Nagih... (Original) Bakso abang2 semarangan. Lokasi belakang Gedung HSBC Semarang daerah Simpang Lima. Jamin enak bakso kuah gurih ada sayuran ijo bakmi bihun jeroan usus babat dan yang paling enak PANGSIT GORENG (bisa tambah porsinan satu mangkok). Nagih...\"\n",
        "lower_case = kalimat.lower()\n",
        "print(lower_case)"
      ],
      "metadata": {
        "colab": {
          "base_uri": "https://localhost:8080/"
        },
        "id": "2PZV0XXkEv3B",
        "outputId": "52f7af2f-0e74-4820-c459-e6297e9f9719"
      },
      "execution_count": null,
      "outputs": [
        {
          "output_type": "stream",
          "name": "stdout",
          "text": [
            "nagih... (original) bakso abang2 semarangan. lokasi belakang gedung hsbc semarang daerah simpang lima. jamin enak bakso kuah gurih ada sayuran ijo bakmi bihun jeroan usus babat dan yang paling enak pangsit goreng (bisa tambah porsinan satu mangkok). nagih...\n"
          ]
        }
      ]
    },
    {
      "cell_type": "code",
      "source": [
        "# 2. Menghapus angka\n",
        "import re #import modul regular expressio\n",
        "kalimat = \"nagih... (original) bakso abang2 semarangan. lokasi belakang gedung hsbc semarang daerah simpang lima. jamin enak bakso kuah gurih ada sayuran ijo bakmi bihun jeroan usus babat dan yang paling enak pangsit goreng (bisa tambah porsinan satu mangkok). nagih...\"\n",
        "hasil = re.sub(r\"\\d+\",\"\", kalimat)\n",
        "print (hasil)"
      ],
      "metadata": {
        "colab": {
          "base_uri": "https://localhost:8080/"
        },
        "id": "rYxDXetmFsvG",
        "outputId": "c0ede544-1b06-46c9-d45f-55c5774b704c"
      },
      "execution_count": null,
      "outputs": [
        {
          "output_type": "stream",
          "name": "stdout",
          "text": [
            "nagih... (original) bakso abang semarangan. lokasi belakang gedung hsbc semarang daerah simpang lima. jamin enak bakso kuah gurih ada sayuran ijo bakmi bihun jeroan usus babat dan yang paling enak pangsit goreng (bisa tambah porsinan satu mangkok). nagih...\n"
          ]
        }
      ]
    },
    {
      "cell_type": "code",
      "source": [
        "# 3. Menghapus tanda baca\n",
        "import string\n",
        "kalimat = \"nagih... (original) bakso abang semarangan. lokasi belakang gedung hsbc semarang daerah simpang lima. jamin enak bakso kuah gurih ada sayuran ijo bakmi bihun jeroan usus babat dan yang paling enak pangsit goreng (bisa tambah porsinan satu mangkok). nagih...\"\n",
        "hasil = kalimat.translate(str.maketrans(\"\",\"\",string.punctuation))\n",
        "print (hasil)"
      ],
      "metadata": {
        "colab": {
          "base_uri": "https://localhost:8080/"
        },
        "id": "bwbS-A8XGBrg",
        "outputId": "1fd0bb21-4e11-4dd0-be08-837496e4b462"
      },
      "execution_count": null,
      "outputs": [
        {
          "output_type": "stream",
          "name": "stdout",
          "text": [
            "nagih original bakso abang semarangan lokasi belakang gedung hsbc semarang daerah simpang lima jamin enak bakso kuah gurih ada sayuran ijo bakmi bihun jeroan usus babat dan yang paling enak pangsit goreng bisa tambah porsinan satu mangkok nagih\n"
          ]
        }
      ]
    },
    {
      "cell_type": "code",
      "source": [
        "#     B. TOKENIZING #\n",
        "\n",
        "import nltk\n",
        "nltk.download('book')\n",
        "#or\n",
        "nltk.download('tests')\n",
        "#or\n",
        "nltk.download('all-corpora')# not recommended as it download huge amount of data."
      ],
      "metadata": {
        "id": "RKP463lzGtqz"
      },
      "execution_count": null,
      "outputs": []
    },
    {
      "cell_type": "code",
      "source": [
        "# import word_tokenize dari modul nltk\n",
        "from nltk.tokenize import sent_tokenize, word_tokenize\n",
        "kalimat = \"nagih original bakso abang semarangan lokasi belakang gedung hsbc semarang daerah simpang lima jamin enak bakso kuah gurih ada sayuran ijo bakmi bihun jeroan usus babat dan yang paling enak pangsit goreng bisa tambah porsinan satu mangkok nagih\"\n",
        "tokens = word_tokenize(kalimat)\n",
        "print(tokens)"
      ],
      "metadata": {
        "colab": {
          "base_uri": "https://localhost:8080/"
        },
        "id": "PuJzdmvMHDnK",
        "outputId": "c4f66f3c-4806-4b98-bb0c-25a911a2d7fb"
      },
      "execution_count": null,
      "outputs": [
        {
          "output_type": "stream",
          "name": "stdout",
          "text": [
            "['nagih', 'original', 'bakso', 'abang', 'semarangan', 'lokasi', 'belakang', 'gedung', 'hsbc', 'semarang', 'daerah', 'simpang', 'lima', 'jamin', 'enak', 'bakso', 'kuah', 'gurih', 'ada', 'sayuran', 'ijo', 'bakmi', 'bihun', 'jeroan', 'usus', 'babat', 'dan', 'yang', 'paling', 'enak', 'pangsit', 'goreng', 'bisa', 'tambah', 'porsinan', 'satu', 'mangkok', 'nagih']\n"
          ]
        }
      ]
    },
    {
      "cell_type": "code",
      "source": [
        "# C. STOPWORD REMOVAL(FILTERING) #\n",
        "\n",
        "# Filtering menggunakan sastrawi\n",
        "!pip install Sastrawi"
      ],
      "metadata": {
        "colab": {
          "base_uri": "https://localhost:8080/"
        },
        "id": "GNIF1WR8H1ZV",
        "outputId": "2b715c44-e2aa-4ef3-8a76-b5418e63332f"
      },
      "execution_count": null,
      "outputs": [
        {
          "output_type": "stream",
          "name": "stdout",
          "text": [
            "Looking in indexes: https://pypi.org/simple, https://us-python.pkg.dev/colab-wheels/public/simple/\n",
            "Collecting Sastrawi\n",
            "  Downloading Sastrawi-1.0.1-py2.py3-none-any.whl (209 kB)\n",
            "\u001b[K     |████████████████████████████████| 209 kB 5.5 MB/s \n",
            "\u001b[?25hInstalling collected packages: Sastrawi\n",
            "Successfully installed Sastrawi-1.0.1\n"
          ]
        }
      ]
    },
    {
      "cell_type": "code",
      "source": [
        "# Daftar stopword yang tersedia di library Sastrawi\n",
        "from Sastrawi.StopWordRemover.StopWordRemoverFactory import StopWordRemoverFactory\n",
        "factory = StopWordRemoverFactory()\n",
        "stopwords = factory.get_stop_words()\n",
        "print(stopwords)"
      ],
      "metadata": {
        "colab": {
          "base_uri": "https://localhost:8080/"
        },
        "id": "H3EPqpVLIKNE",
        "outputId": "31c4f777-c505-4cba-b87d-ac1597b9c47c"
      },
      "execution_count": null,
      "outputs": [
        {
          "output_type": "stream",
          "name": "stdout",
          "text": [
            "['yang', 'untuk', 'pada', 'ke', 'para', 'namun', 'menurut', 'antara', 'dia', 'dua', 'ia', 'seperti', 'jika', 'jika', 'sehingga', 'kembali', 'dan', 'tidak', 'ini', 'karena', 'kepada', 'oleh', 'saat', 'harus', 'sementara', 'setelah', 'belum', 'kami', 'sekitar', 'bagi', 'serta', 'di', 'dari', 'telah', 'sebagai', 'masih', 'hal', 'ketika', 'adalah', 'itu', 'dalam', 'bisa', 'bahwa', 'atau', 'hanya', 'kita', 'dengan', 'akan', 'juga', 'ada', 'mereka', 'sudah', 'saya', 'terhadap', 'secara', 'agar', 'lain', 'anda', 'begitu', 'mengapa', 'kenapa', 'yaitu', 'yakni', 'daripada', 'itulah', 'lagi', 'maka', 'tentang', 'demi', 'dimana', 'kemana', 'pula', 'sambil', 'sebelum', 'sesudah', 'supaya', 'guna', 'kah', 'pun', 'sampai', 'sedangkan', 'selagi', 'sementara', 'tetapi', 'apakah', 'kecuali', 'sebab', 'selain', 'seolah', 'seraya', 'seterusnya', 'tanpa', 'agak', 'boleh', 'dapat', 'dsb', 'dst', 'dll', 'dahulu', 'dulunya', 'anu', 'demikian', 'tapi', 'ingin', 'juga', 'nggak', 'mari', 'nanti', 'melainkan', 'oh', 'ok', 'seharusnya', 'sebetulnya', 'setiap', 'setidaknya', 'sesuatu', 'pasti', 'saja', 'toh', 'ya', 'walau', 'tolong', 'tentu', 'amat', 'apalagi', 'bagaimanapun']\n"
          ]
        }
      ]
    },
    {
      "cell_type": "code",
      "source": [
        "# import StopWordRemoverFactory class\n",
        "from Sastrawi.StopWordRemover.StopWordRemoverFactory import StopWordRemoverFactory\n",
        "factory = StopWordRemoverFactory()\n",
        "stopword = factory.create_stop_word_remover()\n",
        "# Kalimat\n",
        "kalimat = \"nagih original bakso abang semarangan lokasi belakang gedung hsbc semarang daerah simpang lima jamin enak bakso kuah gurih ada sayuran ijo bakmi bihun jeroan usus babat dan yang paling enak pangsit goreng bisa tambah porsinan satu mangkok nagih\"\n",
        "stop = stopword.remove(kalimat)\n",
        "print(stop)"
      ],
      "metadata": {
        "colab": {
          "base_uri": "https://localhost:8080/"
        },
        "id": "lgwKpAv5IN-z",
        "outputId": "ca4c5184-cda4-4c95-8261-fc288c9864c8"
      },
      "execution_count": null,
      "outputs": [
        {
          "output_type": "stream",
          "name": "stdout",
          "text": [
            "nagih original bakso abang semarangan lokasi belakang gedung hsbc semarang daerah simpang lima jamin enak bakso kuah gurih sayuran ijo bakmi bihun jeroan usus babat yang paling enak pangsit goreng tambah porsinan satu mangkok nagih\n"
          ]
        }
      ]
    },
    {
      "cell_type": "code",
      "source": [
        "# D. STEMMING #\n",
        "\n",
        "# Stemming menggunakan sastrawi\n",
        "!pip install Sastrawi"
      ],
      "metadata": {
        "colab": {
          "base_uri": "https://localhost:8080/"
        },
        "id": "ipWKXoS4IioX",
        "outputId": "51dbed69-922a-4162-a6cb-b17f0b446e0a"
      },
      "execution_count": null,
      "outputs": [
        {
          "output_type": "stream",
          "name": "stdout",
          "text": [
            "Looking in indexes: https://pypi.org/simple, https://us-python.pkg.dev/colab-wheels/public/simple/\n",
            "Requirement already satisfied: Sastrawi in /usr/local/lib/python3.7/dist-packages (1.0.1)\n"
          ]
        }
      ]
    },
    {
      "cell_type": "code",
      "source": [
        "# import StemmerFactory class\n",
        "from Sastrawi.Stemmer.StemmerFactory import StemmerFactory\n",
        "factory = StemmerFactory()\n",
        "stemmer = factory.create_stemmer()\n",
        "kalimat = 'nagih original bakso abang semarangan lokasi belakang gedung hsbc semarang daerah simpang lima jamin enak bakso kuah gurih sayuran ijo bakmi bihun jeroan usus babat yang paling enak pangsit goreng tambah porsinan satu mangkok nagih'\n",
        "hasil = stemmer.stem(kalimat)\n",
        "print(hasil)"
      ],
      "metadata": {
        "colab": {
          "base_uri": "https://localhost:8080/"
        },
        "id": "MVauNaRLI6hI",
        "outputId": "722744e9-d0db-48e6-d5d2-b7b8c5b472e2"
      },
      "execution_count": null,
      "outputs": [
        {
          "output_type": "stream",
          "name": "stdout",
          "text": [
            "nagih original bakso abang semarangan lokasi belakang gedung hsbc semarang daerah simpang lima jamin enak bakso kuah gurih sayur ijo bakmi bihun jeroan usus babat yang paling enak pangsit goreng tambah porsinan satu mangkok nagih\n"
          ]
        }
      ]
    }
  ]
}