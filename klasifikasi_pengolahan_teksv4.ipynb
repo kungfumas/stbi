{
  "metadata": {
    "kernelspec": {
      "language": "python",
      "display_name": "Python 3",
      "name": "python3"
    },
    "language_info": {
      "pygments_lexer": "ipython3",
      "nbconvert_exporter": "python",
      "version": "3.6.4",
      "file_extension": ".py",
      "codemirror_mode": {
        "name": "ipython",
        "version": 3
      },
      "name": "python",
      "mimetype": "text/x-python"
    },
    "colab": {
      "provenance": [],
      "include_colab_link": true
    }
  },
  "nbformat_minor": 0,
  "nbformat": 4,
  "cells": [
    {
      "cell_type": "markdown",
      "metadata": {
        "id": "view-in-github",
        "colab_type": "text"
      },
      "source": [
        "<a href=\"https://colab.research.google.com/github/kungfumas/stbi/blob/master/klasifikasi_pengolahan_teksv4.ipynb\" target=\"_parent\"><img src=\"https://colab.research.google.com/assets/colab-badge.svg\" alt=\"Open In Colab\"/></a>"
      ]
    },
    {
      "cell_type": "code",
      "source": [
        "# This Python 3 environment comes with many helpful analytics libraries installed\n",
        "# It is defined by the kaggle/python Docker image: https://github.com/kaggle/docker-python\n",
        "# For example, here's several helpful packages to load\n",
        "\n",
        "import numpy as np # linear algebra\n",
        "import pandas as pd # data processing, CSV file I/O (e.g. pd.read_csv)\n",
        "\n",
        "# Input data files are available in the read-only \"../input/\" directory\n",
        "# For example, running this (by clicking run or pressing Shift+Enter) will list all files under the input directory\n",
        "\n",
        "import os\n",
        "for dirname, _, filenames in os.walk('/kaggle/input'):\n",
        "    for filename in filenames:\n",
        "        print(os.path.join(dirname, filename))\n",
        "\n",
        "# You can write up to 20GB to the current directory (/kaggle/working/) that gets preserved as output when you create a version using \"Save & Run All\"\n",
        "# You can also write temporary files to /kaggle/temp/, but they won't be saved outside of the current session"
      ],
      "metadata": {
        "_uuid": "8f2839f25d086af736a60e9eeb907d3b93b6e0e5",
        "_cell_guid": "b1076dfc-b9ad-4769-8c92-a6c4dae69d19",
        "trusted": true,
        "id": "BYaI_opvaX4m"
      },
      "execution_count": 11,
      "outputs": []
    },
    {
      "cell_type": "markdown",
      "source": [
        "https://towardsdatascience.com/create-a-simple-search-engine-using-python-412587619ff5\n",
        "https://medium.com/@deangela.neves/how-to-build-a-search-engine-from-scratch-in-python-part-1-96eb240f9ecb\n",
        "\n",
        "https://towardsdatascience.com/how-to-build-a-search-engine-9f8ffa405eac"
      ],
      "metadata": {
        "id": "hTeJCOmWaX4o"
      }
    },
    {
      "cell_type": "markdown",
      "source": [],
      "metadata": {
        "id": "XBK_MDkjaX4p"
      }
    },
    {
      "cell_type": "code",
      "source": [],
      "metadata": {
        "id": "9ekx7B6laX4q"
      },
      "execution_count": 11,
      "outputs": []
    },
    {
      "cell_type": "code",
      "source": [
        "!pip install bs4"
      ],
      "metadata": {
        "execution": {
          "iopub.status.busy": "2021-09-08T11:38:56.545095Z",
          "iopub.execute_input": "2021-09-08T11:38:56.545586Z",
          "iopub.status.idle": "2021-09-08T11:41:27.297018Z",
          "shell.execute_reply.started": "2021-09-08T11:38:56.545543Z",
          "shell.execute_reply": "2021-09-08T11:41:27.295733Z"
        },
        "trusted": true,
        "colab": {
          "base_uri": "https://localhost:8080/"
        },
        "id": "_8xUPypfaX4q",
        "outputId": "d62d46f9-a1e8-4449-9c20-cbaf7cdfcf12"
      },
      "execution_count": 12,
      "outputs": [
        {
          "output_type": "stream",
          "name": "stdout",
          "text": [
            "Requirement already satisfied: bs4 in /usr/local/lib/python3.10/dist-packages (0.0.2)\n",
            "Requirement already satisfied: beautifulsoup4 in /usr/local/lib/python3.10/dist-packages (from bs4) (4.12.3)\n",
            "Requirement already satisfied: soupsieve>1.2 in /usr/local/lib/python3.10/dist-packages (from beautifulsoup4->bs4) (2.5)\n"
          ]
        }
      ]
    },
    {
      "cell_type": "code",
      "source": [
        "import requests\n",
        "from bs4 import BeautifulSoup# Make a request to the website\n",
        "r = requests.get('https://bola.kompas.com/')# Create an object to parse the HTML format\n",
        "soup = BeautifulSoup(r.content, 'html.parser')# Retrieve all popular news links (Fig. 1)\n",
        "link = []\n",
        "for i in soup.find('div', {'class':'most__wrap'}).find_all('a'):\n",
        "    i['href'] = i['href'] + '?page=all'\n",
        "    link.append(i['href'])# For each link, we retrieve paragraphs from it, combine each paragraph as one string, and save it to documents (Fig. 2)\n",
        "documents = []\n",
        "for i in link:\n",
        "    # Make a request to the link\n",
        "    r = requests.get(i)\n",
        "\n",
        "    # Initialize BeautifulSoup object to parse the content\n",
        "    soup = BeautifulSoup(r.content, 'html.parser')\n",
        "\n",
        "    # Retrieve all paragraphs and combine it as one\n",
        "    sen = []\n",
        "    for i in soup.find('div', {'class':'read__content'}).find_all('p'):\n",
        "        sen.append(i.text)\n",
        "\n",
        "    # Add the combined paragraphs to documents\n",
        "    documents.append(' '.join(sen))"
      ],
      "metadata": {
        "execution": {
          "iopub.status.busy": "2021-09-08T11:36:57.968172Z",
          "iopub.execute_input": "2021-09-08T11:36:57.968566Z",
          "iopub.status.idle": "2021-09-08T11:37:18.034083Z",
          "shell.execute_reply.started": "2021-09-08T11:36:57.968532Z",
          "shell.execute_reply": "2021-09-08T11:37:18.030698Z"
        },
        "trusted": true,
        "id": "CIzsrgaBaX4q"
      },
      "execution_count": 13,
      "outputs": []
    },
    {
      "cell_type": "code",
      "source": [
        "documents"
      ],
      "metadata": {
        "colab": {
          "base_uri": "https://localhost:8080/"
        },
        "id": "YMB993hh-x9r",
        "outputId": "bc1fc09a-0468-435e-be08-fe99a5af751c"
      },
      "execution_count": 14,
      "outputs": [
        {
          "output_type": "execute_result",
          "data": {
            "text/plain": [
              "['KOMPAS.com - Timnas Spanyol merayakan kemenangan 1-0 atas rival mereka, Timnas Italia, pada laga big match Grup B Euro 2024. Pertandingan Spanyol vs Italia berlangsung di Stadion Arena AufSchale di Gelsenkirchen pada Kamis (20/6/2024) atau Jumat dini hari WIB. Pertandingan ditentukan oleh gol bunuh diri bek Italia Riccardo Calafiori pada menit ke-55. Azzurri bisa saja kalah lebih besar apabila bukan karena kiper Gianluigi Donnarumma yang menorehkan delapan penyelamatan sepanjang laga. Spanyol memulai laga dengan positif dan melakukan sirkulasi bola dengan bagus. Pertandingan baru berjalan dua menit saat Pedri memaksa Donnarumma untuk menyelamatkan tandukannya. Donnarumma kembali menjadi protagonis di laga ketika ia terbang ke arah kirinya demi menepis tembakan roket Fabian Ruiz yang melaju dengan kecepatan 118 km/jam. Baca juga: Pembelaan Southgate dan Walker Soal Alasan Inggris Bertahan Dalam Tak ada kesempatan besar lain tercipta setelah itu dan laga babak pertama pun berakhir 0-0. Spanyol terus memberikan tekanan kepada lini belakang Italia seusai jeda babak dan terobosan terjadi pada menit ke-55. Bola silang deras Nico Williams dari sisi kiri disambar tipis oleh kepala Alvaro Morata di dekat kotak enam yard. A post shared by Sports Kompascom (@sports.kompascom) Si kulit bundar berbelok mengarah ke gawang Italia sebelum ditepis Donnarumma. Sayang, bola muntah memantul deras mengenai tulang kering bek Riccardo Calafiori dan masuk ke gawang Azzurri. Tak berapa lama kemudan, Morata kembali terlibat dalam aksi penyerangan timnya. Baca juga: Hasil Denmark Vs Inggris 1-1: Diwarnai Gol Spektakuler ke-13, Tiga Singa Tertahan Ia menerima bola di luar kotak penalti lawan dan melepas tembakan deras. Kali ini, Donnarumma kembali sigap untuk menghalau peluang tersebut dengan satu tangannya. Donnarumma kemudian harus berterima kasih kepada mistar pada menit ke-71. Nico Williams kembali \"menyiksa\" Giovanni Di Lorenzo di sisi kanan pertahanan Italia. Namun, tembakan Williams setelah memotong ke dalam masih melabrak mistar. Pemain pengganti Spanyol, Ayoze Perez, kemudian berhasil menciptakan dua kali peluang satu lawan satu di depan gawang Donnarumma. Akan tetapi, kiper Paris Saint-Germain tersebut mampu membendung tendangan Perez dengan sempurna dalam setiap kesempatan. Donnarumma berupaya menjadi pahlawan dengan maju di situasi sepak pojok Italia pada detik-detik akhir laga.\\xa0 Hanya, tak ada gol lagi tercipta pada laga tersebut dan Spanyol memastikan kelolosan ke babak 16 besar. SPANYOL: 23-Simon, 2-Carvajal, 3-Le Normand, 14-Laporte, 24-Cucurella, 20-Pedri (15-Baena 71\\'), 16-Rodri, 8-Ruiz (6-Merino 90+4\\'), 19-Yamal (11-Torres 71\\'), 7-Morata (21-Oyarzabal 78\\'), 17-Williams (26-Ayoze 78\\'). ITALIA: 1-Donnarumma, 2-Di Lorenzo, 23-Bastoni, 5-Calafiori, 3-Dimarco, 7-Frattesi (24-Cambiaso 46\\'), 5-Jorginho (16-Cristante 46\\'), 10-Pellegrini (11-Raspadori 82\\'), 14-Chiesa (20-Zaccagni 64\\'), 18-Barella, 9-Scamacca (19-Retegui 64\\').',\n",
              " \"KOMPAS.com - Argentina meraih kemenangan perdana pada Copa America 2024 saat melawan Kanada pada fase Grup A.\\xa0 Laga Argentina vs Kanada di Mercedes-Benz Stadium, Atlanta, Amerika Serikat, Jumat (21/6/2024) pagi WIB, berakhir 2-0.\\xa0 Dalam pertandingan ini, Lionel Messi gagal mencetak gol meski punya tiga peluang emas pada menit ke-64, 78', dan 90+4'.\\xa0 Meski begitu, Messi mencatatkan assist untuk gol kedua yang dicetak Lautaro Martinez (88'). Sementara, satu gol lainnya dibukukan Julian Alvarez (49').\\xa0 Baca juga: Rekor Baru Messi di Copa America Argentina mendapat peluang pada menit kelima dari pergerakan Marcos Acuna di sisi kiri penyerangan sebelum bola dipotong Tajon Buchanan.\\xa0 Si kulit bulat mengarah ke Leandro Paredes yang langsung melepaskan tendangan jarak jauh.\\xa0 Namun, tembakannya melayang di atas mistar gawang.\\xa0 Tiga menit berikutnya, Angel Di Maria menciptakan peluang emas usai melewati pemain Kanada di lini tengah dan tinggal berhadapan dengan kiper Maxime Crepeau.\\xa0 Akan tetapi, sebuah sentuhan membuat bola berubah arah dan Crepeau langsung merebutnya. Giliran Messi yang mengancam lini pertahanan Kanada dua menit kemudian.\\xa0 Baca juga: Nikmatilah Aksi Messi dan Di Maria Selagi Masih Bisa... Messi menggiring bola melewati barisan pertahanan Kanada dan menusuk ke kotak penalti, tetapi tendangannya melewati tiang.\\xa0 Kanada mendapat peluang pada menit ke-22 setelah salah satu pemainnya dijatuhkan di dekat kotak penalti.\\xa0 Sang kapten, Alphonso Davies, mengeksekusi tendangan bebas yang sayangnya masih membentur pagar betis Argentina.\\xa0 Kesempatan emas untuk Kanada mencetak gol tercipta pada menit ke-30. Davies melewati satu pemain bertahan, sebelum meneruskan bola ke Cyle Larin.\\xa0 Baca juga: Messi Terpesona Talenta Inter: Masa Kini dan Masa Depan Argentina Bola dibelokkan ke Buchanan, tetapi tendangannya melenceng dari sasaran. Kanada terus mencoba menjebol gawang La Albiceleste, julukan Argentina.\\xa0 Davies masih menjadi kreator serangan di sisi kiri sebelum mengirim bola ke tengah. Larin dan David bergantian melepaskan tendangan, tetapi semuanya bisa diblok.\\xa0 Serangan Kanada lagi-lagi nyaris berbuah gol pada menit ke-43. Namun, sundulan Stephen Eustaquio yang menerima umpan silang Larin, bisa diamankan kiper Emiliano Martinez.\\xa0 Babak pertama berakhir tanpa gol alias 0-0 dan Argentina berhasil memecah kebuntuan pada menit ke-49 berkat Julian Alvarez.\\xa0 Baca juga: Messi: Juara Copa America Sulit, Sayangkan Neymar, Brasil Sejuta Talenta Gol bermula dari umpan Messi ke Mac Allister di kotak penalti. Penjagaan dua pemain Kanada membuat tendangan Mac Allister bisa digagalkan Crepeau. Bola lalu jatuh ke kaki Alvarez yang langsung menceploskan bola dan kali ini Crepeau tak bisa berkutik.\\xa0 Argentina punya peluang lainnya untuk menambah gol lewat umpan panjang Emi Martinez ke Messi pada menit ke-64. Tendangannya diblok Crepeau dan bola muntah masih bisa ia kuasai, tetapi lagi-lagi tembakannya hanya mengenai bek Kanada, Derek Cornelius. Messi tampak menyesal dan tak percaya sampai membungkuk sambil memegang lututnya.\\xa0 ????????| HUGE CHANCE FOR MESSI BUT HE FAILS TO CONVERT IT!! pic.twitter.com/fhhRfMKUPC Dua menit setelahnya, Jonathan David mendapat peluang emas untuk menyamakan skor. Namun, sundulannya di dekat gawang masih melebar.\\xa0 Peluang emas lagi-lagi didapat Messi pada menit ke-78. Ia juga tinggal berhapadan dengan Crepeau yang kembali bisa menepis tendangannya.\\xa0 ????????| Another huge opportunity missed by Leo Messi!! pic.twitter.com/pEW4MTZQ4H Meski gagal mencatatkan namanya di papan skor, Messi mampu membuat assist untuk gol kedua yang dibukukan Lautaro Martinez pada menit ke-88.\\xa0 Messi kembali mendapat kesempatan lewat tendangan bebas pada menit ke-90+4 yang bisa diamankan Crepeau.\\xa0 Papan skor tak berubah hingga wasit membunyikan peluit panjang tanda berakhirnya laga. Argentina menang 2-0 atas Kanada.\\xa0 Susunan pemain Argentina vs Kanada Argentina (4-4-2): 23-Emi Martinez, 26-Molina (4-Montiel 89'), 13-Romero, 25-Martinez, 8-Acuna (3-Tagliafico 89'), 11-Di Maria (16-Lo Celso 68'), 7-De Paul, 5-Paredes (19-Otamendi 77'), 20-Mac Allister, 10-Messi, 9-Alvarez (22-Lautaro 76'). Kanada (4-4-2): 16-Crepeau, 2-Johnston, 15-Bombito, 13-Cornelius, 19-Davies, 17-Buchanan (14-Shaffelburg 59'), 8-Kone (21-Osorio 85'), 7-Eustaquio, 23-Millar (12-Russell-Rowe 85'), 10-David, 9-Larin (22-Laryea 80').\",\n",
              " 'KOMPAS.com – Timnas Inggris akan melakoni pertandingan menghadapi Denmark dalam matchday kedua fase Grup C Piala Eropa atau Euro 2024. Laga Denmark vs Inggris dalam jadwal Euro 2024 berlangsung di Stadion Frankfurt Arena pada Kamis (20/6/2024) malam WIB. Adapun informasi mengenai link live streaming Denmark vs Inggris di Euro 2024 bakal tersemat di akhir artikel ini. Bek Inggris, Kyle Walker, menegaskan, tim berjulukan Tiga Singa tidak akan memandang sebelah mata Denmark. Baca juga: Southgate Ingin Nikmati Kemenangan Inggris di Tengah Hujan Kritik Menurut Walker, Inggris lebih berfokus kepada cara bermain mereka demi mengemas tiga angka. “Kami tidak meremahkan lawan mana pun,” kata bek Manchester City itu, dikutip dari laman resmi UEFA pada Kamis (20/6/2024). “Kami perlu memberikan Denmark rasa hormat yang layak mereka dapatkan. Kami sepenuhnya fokus dan menginginkan tiga poin.” A post shared by Kompas.com (@kompascom) Bek kanan itu menjelaskan, Inggris tidak terganggu dengan pandangan banyak pihak soal mereka diunggulkan menang atas Denmark. Baca juga: Permutasi Tim Lolos 16 Besar Euro 2024, Kans Inggris-Italia Susul Jerman “Saya pikir sebagai sekelompok pemain kami harus merasa nyaman dengan situasi yang kami hadapi,” kata Walker. “Kami mempunyai tim bagus, dengan dihuni pemain-pemain berkualitas,” imbuh mantan pemain Tottenham itu. “Jika mereka mau menempatkan kami sebagai favorit, kami menerimanya. Kami menanggung beban di pundak kami dan menganggapnya sebagai pujian,” ujarnya. Di lain sisi, kiper Denmark, Kasper Schmeichel, mengatakan, timnya bakal bermain solid saat menghadapi permainan berkualitas Inggris. Schmeichel menjelaskan bahwa Denmark juga akan berupaya untuk mengonversikan peluang menjadi gol. Baca juga: Ramuan Rahasia Jus Acar ala Timnas Inggris di Piala Eropa “Kami harus tetap bersatu. Kapan pun Anda menghadapi tim dengan kualitas sebesar itu, Anda harus bersatu,” ujar dia. “Kami harus bertahan dengan baik dan kami mesti memanfaatkan peluang yang ada,” lanjutnya. Laga Denmark vs Inggris dapat ditonton melalui link berikut >>> LINK. \\xa0',\n",
              " 'KOMPAS.com – Argentina akan menjalani duel menghadapi Kanada dalam matchday pertama fase Grup A Copa America 2024. Laga Argentina vs Kanada dalam jadwal Copa America 2024 bergulir di Stadion Mercedes-Benz pada Jumat (21/6/2024) mulai pukul 07.00 WIB. Adapun informasi mengenai jadwal siaran langsung Argentina vs Kanada di Copa America 2024 akan tersemat di akhir artikel ini. Pelatih Argentina, Lionel Scaloni, meyakini Lionel Messi dkk tidak akan mudah untuk mempertahankan gelar juara Copa America. Baca juga: Messi Terpesona Talenta Inter: Masa Kini dan Masa Depan Argentina Pasalnya, Scaloni menjelaskan, Copa America 2024 dihuni oleh tim-tim berkualitas. “Ini akan menjadi Copa America yang sangat sulit,” kata Scaloni, dikutip dari media Argentina, TyC Sports. “Sama seperti bermain melawan tim Eropa. Mereka mempunyai tim yang sangat bagus dengan pemain penting dan pelatih dengan ide-ide baru,” lanjutnya. Di lain sisi, gelandang Argentina, Leandro Paredes, juga meyakini Copa America 2024 tidak akan berjalan mudah bagi Tim Tango. Baca juga: Argentina Sikat Guatemala 4-1, Lionel Messi Puas tetapi Was-was Walau demikian, Paredes menjelaskan, Argentina memerlukan mentalitas tingkat tinggi demi mempertahankan gelar juara Copa America. “Kami tidak merasakan tekanan, kami merasa ini adalah tantangan yang bagus,” kata Paredes menjelaskan. “Ini akan jauh lebih sulit dari Copa America sebelumnya. Terpenting adalah mentalitas untuk terus meraih gelar,” ujar dia. Berdasarkan laporan TyC Sports, Argentina kemungkinan besar bakal memasang Lionel Messi dan Lautaro Martinez di lini depan. Baca juga: Argentina Vs Guatemala, Scaloni Pastikan Messi Jadi Starter  Selain Lautaro Martinez, Scaloni juga bisa menduetkan Julian Alvarez dengan Messi guna membongkar pertahanan Kanada. Selain itu, lini tengah Argentina bakal diperkuat oleh Angel Di Maria, Rodrigo De Paul, Leandro Paredes, dan Alexis Max Allister. Laga Argentina vs Kanada bisa ditonton melalui salah satu stasiun televisi nasional, yakni Indosiar. \\xa0',\n",
              " \"KOMPAS.com - Inggris ditahan imbang Denmark pada matchday kedua fase grup Euro 2024, sedangkan Spanyol mengalahkan Italia.\\xa0 Laga Denmark vs Inggris pada Grup C Euro 2024 di Frankfurt Arena, Jerman, Kamis (20/6/2024) malam WIB, berakhir sama kuat 1-1.\\xa0 Inggris memimpin lebih dulu berkat gol Harry Kane (18'), sebelum Morten Hjulmand menyamakan skor pada menit ke-34. Hasil ini menunda Inggris untuk lolos ke babak 16 besar Euro 2024 lebih cepat. Meski begitu, skuad The Three Lions masih memimpin klasemen Grup C.\\xa0 Baca juga: Pembelaan Southgate dan Walker Soal Alasan Inggris Bertahan Dalam Harry Kane dkk berada di urutan pertama dengan 4 poin hasil dari satu kemenangan dan sekali hasil seri.\\xa0 Denmark mengejar di bawahnya dengan perolehan dua poin, sama dengan Slovenia yang juga bermain imbang melawan Serbia.\\xa0 Sementara, Serbia menjadi juru kunci atau menempati dasar klasemen karena baru mengumpulkan satu poin.\\xa0 Laga melawan Serbia bakal menjadi penentuan bagi Inggris, yang merupakan runner-up Euro 2020, untuk melaju ke fase gugur.\\xa0 Baca juga: Hasil Spanyol Vs Italia 1-0: Donnarumma Gemilang, Gol Bunuh Diri Calafiori Jadi Pembeda AFP/JOHN MACDOUGALL Para pemain Spanyol merayakan gol Alvaro Morata dalam pertandingan melawan Kroasia pada fase Grup B Euro 2024 di Olympiastadion, Berlin, Jerman, Sabtu (15/6/2024). (Photo by JOHN MACDOUGALL / AFP) Adapun Spanyol dipastikan lolos ke babak 16 besar Euro 2024 serta menjadi juara Grup B berkat kemenangan atas Italia.\\xa0 Duel Spanyol vs Italia berakhir 1-0 di Arena AufSchalke, Gelsenkirchen, Jerman, Jumat (21/6/2024) dini hari WIB.\\xa0 La Roja, julukan timnas Spanyol, menang berkat gol bunuh diri Riccardo Calafiori (55').\\xa0 Squawka mencatat Calafiori sebagai pemain Italia pertama yang mencetak gol bunuh diri dalam sejarah Euro.\\xa0 ???????? Spain through to the round of 16 as group winners ????#EURO2024 | #ESPITA pic.twitter.com/BDj2p5N1nu Kemenangan atas Italia membuat Spanyol memuncaki klasemen Grup B dengan 6 poin. Jumlah poin itu tak bisa dilewati Italia, Albania, dan Kroasia.\\xa0 Italia tertahan di peringkat kedua dengan 3 poin, disusul Albania dan Kroasia yang sama-sama mengoleksi satu poin.\\xa0 Kamis, 20 Juni 2024 Jumat, 21 Juni 2024\",\n",
              " 'KOMPAS.com - Penyerang timnas Argentina, Lionel Messi, mencatat sebuah rekor saat tampil dalam laga pembuka Copa America 2024 melawan Kanada. Laga Argentina vs Kanada digelar di Mercedes-Benz Stadium, Atlanta, Amerika Serikat, Kamis (20/6/2024) atau Jumat pagi WIB. Baca juga: Euro 2024, Alasan Mbappe Dilarang Pakai Topeng Warna Bendera Perancis  Messi dalam laga ini tampil sebagai starter meskipun sudah berusia 36 tahun. Kepercayaan pelatih Lionel Scaloni kepada Messi membuat eks pemain Barcelona tersebut membukukan rekor baru. Rekor tersebut menempatkan Messi sebagai pemain yang paling banyak tampil sepanjang sejarah Copa America. Messi sudah mencatatkan 35 pemain dari 7 edisi Copa America. Messi \"mengalahkan\" para seniornya seperti Gary Medel (27 caps), Javier Mascherano (26 caps), Claudio Bravo (25 caps), dan lain-lain. Pemain bernomor punggung 10 tersebut menandai debutnya di Copa America sekitar 20 tahun lalu, saat dia dipanggil oleh pelatih Alfio Basile. Setelah itu, Messi ditangani sejumlah pelatih di Copa America yakni Sergio Batista (2011), Gerardo Martino (2015 dan 2016), dan Lionel Scaloni (2019, 2021, 2024). Sepanjang keikutsertaanya di Copa America, Messi mempersembahkan satu gelar untuk Argentina pada 2021. Dia lalu tiga kali membawa Argentina menjadi runner-up pada 2007, 2015, dan 2016. Messi diharapkan bisa kembali membawa Argentina untuk kembali menjadi juara, mengingat Copa America 2024 menjadi Copa America terakhir bagi Messi. Berikut jumlah pertandingan dan gol Messi per edisi Copa America 2007: 6 laga, 2 gol2011: 4 laga, 0 gol2015: 6 laga, 1 gol2016: 5 laga, 5 gol2019: 6 laga, 1 gol2021: 7 laga, 4 gol2024: 1 laga Total: 35 laga, 13 gol',\n",
              " 'KOMPAS.com -\\xa0Ketua Badan Tim Nasional (BTN), Sumardji, memberi jawaban atas isu \"pemain titipan\" di timnas Indonesia serta kelompok umur lainnya. Isu adanya pemain titipan membuat kuping Sumardji panas akan hal tersebut.\\xa0 Perwira kepolisian itu menegaskan tidak ada titip-menitip dalam pemilihan pemain yang bermain di timnas Indonesia. “Berkaitan dengan pemilihan pemain yang akan dipakai untuk memperkuat timnas, sudah melalui proses yang cukup panjang,\" kata Sumardji kepada awak media termasuk Kompas.com pada Kamis (20/6/2024). \"Dan itu mendasari penilaian dari tim yang sudah ada, baik head coach maupun para asistennya, sehingga apa pun yang diputuskan oleh tim kepelatihan adalah proses yang betul-betul alami dan tidak ada unsur titip-menitip,\" kata Sumardji. Baca juga: Tanggapan Mills soal Hak Paten atau Milik Logo Garuda Jersey Timnas Indonesia KOMPAS.com/Leonardo Juan Ketua BTN Sumardji memberi jawaban atas isu pemain titipan di timnas Indonesia dan kelompok umur lainnya, Jakarta, Kamis (20/6/2024). Sumardji pun meminta agar tidak membandingkan PSSI sekarang dengan yang kepengurusan sebelumnya. Menurutnya, PSSI sekarang menunjukkan komitmen yang kuat untuk tidak membiarkan adanya pemain titipan. \"Saya jamin 1.000 persen tidak ada, bahkan kalau berkaitan dengan itu, itu saya juga menggunakan metode yang lain, contoh kayak U16 yang udah dirilis kemarin. Dari 23 pemain masing-masing itu saya cek, ini dari SSB mana,\" ungkap Sumardji. \"Lantas apakah ini ada kaitannya. Sebelum hal itu terjadi, maka di samping performa, kualitas dari para pemain yang dipilih itu ada sesuai dengan kebutuhan pada masing-masing posisi,\" terangnya. Baca juga: Timnas Indonesia Dinilai Bisa Bersaing di Putaran Ketiga Kualifikasi Piala Dunia 2026 Sebagai informasi, timnas U16 Indonesia akan mengikuti gelaran turnamen Piala AFF U16 2024. Turnamen ini akan dimulai dari 21 Juni hingga 4 Juli di Solo, Jawa Tengah. Juru taktik timnas U16 Indonesia, Nova Arianto, telah mengumumkan 23 nama yang akan berlaga di Piala AFF U16. Sumardji menjamin pemilihan yang dilakukan Nova dan tim dilakukan secara adil. \"Saya pun juga mencari cara agar supaya betul-betul fair dan saya yakinkan kepada teman-teman semua pemain U16 itu semuanya ada mendasari dari penilaian head coach dan para asistennya benar-benar fair,\"\\xa0ujar Sumardji. \"Jadi jangan ada lagi yang kait-kaitkan. Berikut juga untuk yang U20, sama, yang di-coach Indra Sjafri, metodenya pun juga sama,\" sambungnya. \"Apa yang kita lakukan betul-betul ingin memperbaiki dan ingin mencari bibit-bibit yang memang betul-betul sesuai yang kita harapkan, kalau tidak sesuai harus dicoret, jangan diikutkan,\" jelas Ketua BTN. \\xa0',\n",
              " 'KOMPAS.com - Pelatih Timnas Inggris, Gareth Southgate, mengutarakan bahwa ia punya alasan tersendiri kenapa terus memainkan Trent Alexander-Arnold sebagai pemain tengah kendati bek Liverpool tersebut kelimpungan. Trent Alexander-Arnold menjadi tandem Declan Rice di posisi pivot Timnas Inggris pada dua partai awal Grup C Piala Eropa 2024. Ia bertahan 69 menit di posisi lapangan tengah pada laga pertama kontra Serbia dan ditarik keluar pada menit ke-54 pertandingan Denmark vs Inggris, Kamis (20/6/2024). Pada kedua laga tersebut, Trent sebenarnya tidak bermain buruk tetapi ia terlihat seperti pemain yang tengah bermain di posisi asing. Baca juga: Pembelaan Southgate dan Walker Soal Alasan Inggris Bertahan Dalam Angka-angka statistik sang pemain meliputi akurasi operan dan sentuhan bola tidak buruk. Trent bahkan menciptakan angka-angka penciptaan peluang tertinggi (3) dan operan menembus lini permainan lawan di sepertiga akhir (5) tertinggi pada laga kontra Denmark ketimbang para pemain Inggris lain. A post shared by Sports Kompascom (@sports.kompascom) Tetapi pengamatan mata memperlihatkan bahwa pemain Liverpool itu seperti tidak nyaman di lapangan tengah Three Lions. Southgate pun menggantinya dengan Conor Gallagher hanya 10 menit setelah babak kedua llaga kontra Denmark bergulir. Setelah laga, sang pelatih mengutarakan alasan Alexander-Arnold diganti lebih cepat. \\xa0\"Saya ingin Conor [Gallagher] bermain. Kami membutuhkan energi, kami harus menekan dengan lebih baik,\" ujarnya kepada BBC. \"Conor melakukan itu dengan sangat baik.\" Baca juga: Hasil Denmark Vs Inggris 1-1: Diwarnai Gol Spektakuler ke-13, Tiga Singa Tertahan Southgate pun memberikan alasannya kenapa Alexander-Arnold tetap bermain di sektor gelandang tengah di sebuah turnamen besar kendati sang pemain minim pengalaman di area lapangan tersebut. Southgate mengaku menurunkan Alexander-Arnold di posisi tersebut karena kurangnya opsi pemain yang punya karakter seperti pemain Man City, Kalvin Phillips. \\xa0\"Trent memiliki beberapa momen di mana dia memberikan apa yang kami pikir akan dia lakukan,\" ujarnya menambahkan. \"Kami tahu ini adalah sebuah eksperimen. Kami tahu bahwa kami tidak memiliki pengganti sepadan untuk Kalvin Philips.\" \"Kami mencoba berbagai hal dan saat ini kami tidak mengalir seperti yang kami inginkan.\" \\xa0',\n",
              " 'KOMPAS.com - Spanyol dipastikan melaju ke babak 16 besar Euro 2024 sebagai juara Grup B setelah mengalahkan Italia.\\xa0 Pertandingan Spanyol vs Italia di Arena AufSchalke, Gelsenkirchen, Jerman, Jumat (21/6/2024) dini hari WIB, berakhir 1-0. Kemenangan La Furia Roja, julukan timnas Spanyol, ditentukan gol bunuh diri Riccardo Calafiori pada menit ke-55.\\xa0 Gol berawal dari bola silang deras Nico Williams dari sisi kiri disambar tipis oleh kepala Alvaro Morata di dekat kotak enam yard. Baca juga: Hasil Euro 2024: Inggris Ditahan Denmark, Spanyol ke 16 Besar Usai Bekuk Italia Si kulit bulat berbelok ke gawang Italia sebelum ditepis Donnarumma. Namun, bola muntah memantul mengenai tulang kering bek Riccardo Calafiori dan masuk ke gawang Azzurri. Hasil ini memastikan Spanyol menjadi juara Grup B dengan satu laga tersisa. Mereka menempati puncak klasemen dengan 6 poin.\\xa0 Alvaro Morata dkk berpeluang meraih poin sempurna jika berhasil mengalahkan Albania pada matchday terakhir fase grup, Selasa (25/6/2024) pukul 02.00 WIB.\\xa0 Sementara, Italia berada di peringkat kedua klasemen Grup B dengan 3 poin, kemudian Albania dan Kroasia yang mencatatkan satu poin.\\xa0 Baca juga: Gaya Santai Nagelsmann Usai Jerman Lolos ke 16 Besar Euro 2024 Spanyol menjadi tim kedua yang lolos ke babak 16 besar Euro 2024 setelah tuan rumah Jerman.\\xa0 Die Mannschaft, sebutan timnas Jerman, lebih dulu mengunci tempat di babak 16 besar setelah menang 2-0 atas Hongaria.\\xa0 Jerman tinggal menentukan status sebagai juara Grup A jika menang atau imbang melawan Swiss pada laga terakhir fase grup.\\xa0',\n",
              " 'KOMPAS.com -\\xa0Kekalahan Italia dari Spanyol karena Gli Azzurri lamban mendistribusikan bola. Italia kalah dari Spanyol dengan skor 0-1 dalam pertandingan kedua Grup B Piala Eropa 2024 yang berlangsung di Arena AufSchalke, Gelsenkirchen, Jerman, Kamis (20/6/2024) atau Jumat dini hari WIB. \"Kami lamban malam ini. Itulah alasan utama kekalahan ini terjadi. Kami perlu menyelesaikan masalah tetapi alasan utama kami berjuang adalah karena kami (mendistribusikan bola) lamban,\" kata pelatih Luciano Spalletti. Baca juga: Daftar Tim Lolos 16 Besar Euro 2024, Spanyol Susul Jerman \"Spanyol adalah tim yang dominan malam ini dan kami tidak bisa menjadi tim tersebut. Mereka pantas memenangkan pertandingan, kami tidak pernah berada dalam pertandingan selain 20 menit terakhir,\" imbuh Spalletti. Italia harus gigit jari usai Riccardo Calafiori salah mengantisipasi umpan silang dari penyerang Spanyol, Nico Williams pada menit ke-54. Gol bunuh diri dari Calafiori gagal disamakan oleh Jorginho dan kawan-kawan sehingga La Roja mengamankan tiga poin penuh. Kekalahan ini membuat Italia harus menunda langkahnya untuk lolos ke babak 16 besar. Gianluigi Donnarumma dan kawan-kawan harus berjuang pada laga terakhir melawan Kroasia demi meraih tiket ke babak 16 besar. Kroasia dan Serbia sama-sama mengoleksi satu poin. Sekalipun Albania mampu mengalahkan Spanyol pada laga pamungkas, pasukan Luciano Spaletti tetap lolos karena mereka unggul head to head. Spalletti mengungkapkan bahwa Gli Azzurri harusnya bermain lebih tenang dan mendominasi tempo permainan seperti yang ditunjukkan pada pertandingan pertama saat menghadapi Albania. Namun strategi yang telah diterapkan tersebut kurang berjalan lancar dan Italia hanya mampu melakukan permainan dengan memanfaatkan umpan-umpan jauh untuk membongkar pertahanan La Furia Roja. \"Kami harus menjaga penguasaan bola seperti yang telah kami lakukan di pertandingan sebelumnya. Kami harus menjaga bola dan mencoba memainkan sesuatu. Itulah satu-satunya cara untuk bermain,\" ujar Spalletti. Mantan pelatih Napoli tersebut memuji permainan yang ditunjukkan oleh anak asuh Luis de la Fuente yang mampu tampil dominan dengan menggunakan gaya permainan yang begitu merepotkan lini bertahan Italia. Spalletti akan melakukan evaluasi agar lini bertahannya mampu lebih baik lagi mengantisipasi pergerakan-pergerakan pemain yang punya pola serangan seperti Spanyol. \"Semua orang akan senang meniru permainan Spanyol. Mereka telah memainkan sepak bola terbaik untuk waktu yang lama sekarang. Saya perlu mencoba dan berhasil membuat pemain saya sadar betapa pentingnya pertandingan semacam ini. Jika kami bertahan sangat dalam melawan tim seperti ini, pada akhirnya itu menjadi sangat sulit,\" papar Spalletti. Dengan kekalahan ini membuat Italia kini menempati peringkat kedua grup B dengan koleksi tiga poin dari dua pertandingan. Sementara itu Spanyol memastikan tiket ke babak 16 besar usai memuncaki klasemen sementara Grup B dengan torehan enam poin dari dua pertandingan.']"
            ]
          },
          "metadata": {},
          "execution_count": 14
        }
      ]
    },
    {
      "cell_type": "markdown",
      "source": [],
      "metadata": {
        "id": "FBeN7w2FaX4r"
      }
    },
    {
      "cell_type": "code",
      "source": [
        "pip install sastrawi"
      ],
      "metadata": {
        "trusted": true,
        "colab": {
          "base_uri": "https://localhost:8080/"
        },
        "id": "2siI_SCwaX4r",
        "outputId": "04c97722-de8a-4513-e540-09a84e3138a1"
      },
      "execution_count": 15,
      "outputs": [
        {
          "output_type": "stream",
          "name": "stdout",
          "text": [
            "Requirement already satisfied: sastrawi in /usr/local/lib/python3.10/dist-packages (1.0.1)\n"
          ]
        }
      ]
    },
    {
      "cell_type": "markdown",
      "source": [],
      "metadata": {
        "id": "sM_W5MYaaX4r"
      }
    },
    {
      "cell_type": "code",
      "source": [
        "# import Sastrawi package\n",
        "from Sastrawi.Stemmer.StemmerFactory import StemmerFactory\n",
        "\n",
        "# create stemmer\n",
        "factory = StemmerFactory()\n",
        "stemmer = factory.create_stemmer()\n",
        "\n",
        "# stem\n",
        "sentence = 'Perekonomian Indonesia sedang dalam pertumbuhan yang membanggakan'\n",
        "output   = stemmer.stem(sentence)\n",
        "\n",
        "print(output)\n",
        "# ekonomi indonesia sedang dalam tumbuh yang bangga"
      ],
      "metadata": {
        "trusted": true,
        "colab": {
          "base_uri": "https://localhost:8080/"
        },
        "id": "kjevI_uxaX4r",
        "outputId": "71c539df-812e-49f4-d676-46eeb964d9ba"
      },
      "execution_count": 16,
      "outputs": [
        {
          "output_type": "stream",
          "name": "stdout",
          "text": [
            "ekonomi indonesia sedang dalam tumbuh yang bangga\n"
          ]
        }
      ]
    },
    {
      "cell_type": "code",
      "source": [
        "kalimat = \"Berikut ini adalah 5 negara dengan pendidikan terbaik di dunia adalah Korea Selatan, Jepang, Singapura, Hong Kong, dan Finlandia.\"\n",
        "lower_case = kalimat.lower()\n",
        "print(lower_case)"
      ],
      "metadata": {
        "trusted": true,
        "colab": {
          "base_uri": "https://localhost:8080/"
        },
        "id": "YPVHBQqNaX4r",
        "outputId": "378671ff-25aa-4be7-c248-3ebafdf46d22"
      },
      "execution_count": 17,
      "outputs": [
        {
          "output_type": "stream",
          "name": "stdout",
          "text": [
            "berikut ini adalah 5 negara dengan pendidikan terbaik di dunia adalah korea selatan, jepang, singapura, hong kong, dan finlandia.\n"
          ]
        }
      ]
    },
    {
      "cell_type": "code",
      "source": [
        "import re # impor modul regular expression\n",
        "kalimat = \"Berikut ini adalah 5 negara dengan pendidikan terbaik di dunia adalah Korea Selatan, Jepang, Singapura, Hong Kong, dan Finlandia.\"\n",
        "hasil = re.sub(r\"\\d+\", \"\", kalimat)\n",
        "print(hasil)"
      ],
      "metadata": {
        "trusted": true,
        "colab": {
          "base_uri": "https://localhost:8080/"
        },
        "id": "6eBLBAK5aX4r",
        "outputId": "5317f9dc-431b-4f62-a068-3b7481e597b2"
      },
      "execution_count": 18,
      "outputs": [
        {
          "output_type": "stream",
          "name": "stdout",
          "text": [
            "Berikut ini adalah  negara dengan pendidikan terbaik di dunia adalah Korea Selatan, Jepang, Singapura, Hong Kong, dan Finlandia.\n"
          ]
        }
      ]
    },
    {
      "cell_type": "code",
      "source": [
        "import re\n",
        "def preprocess_text(document):\n",
        "        # Remove all the special characters\n",
        "        document = re.sub(r'\\W', ' ', str(document))\n",
        "\n",
        "        # remove all single characters\n",
        "        document = re.sub(r'\\s+[a-zA-Z]\\s+', ' ', document)\n",
        "\n",
        "        # Remove single characters from the start\n",
        "        document = re.sub(r'\\^[a-zA-Z]\\s+', ' ', document)\n",
        "\n",
        "        # Substituting multiple spaces with single space\n",
        "        document = re.sub(r'\\s+', ' ', document, flags=re.I)\n",
        "\n",
        "        # Removing prefixed 'b'\n",
        "        document = re.sub(r'^b\\s+', '', document)\n",
        "\n",
        "        # Converting to Lowercase\n",
        "        document = document.lower()\n",
        "\n",
        "\n",
        "        return document"
      ],
      "metadata": {
        "trusted": true,
        "id": "wWDE8rPJaX4s"
      },
      "execution_count": 19,
      "outputs": []
    },
    {
      "cell_type": "code",
      "source": [
        "preprocess_text(kalimat)"
      ],
      "metadata": {
        "trusted": true,
        "colab": {
          "base_uri": "https://localhost:8080/",
          "height": 54
        },
        "id": "SmmOSkK3aX4s",
        "outputId": "bc8c6721-f6aa-4eb0-fb54-b292ae4c1275"
      },
      "execution_count": 20,
      "outputs": [
        {
          "output_type": "execute_result",
          "data": {
            "text/plain": [
              "'berikut ini adalah 5 negara dengan pendidikan terbaik di dunia adalah korea selatan jepang singapura hong kong dan finlandia '"
            ],
            "application/vnd.google.colaboratory.intrinsic+json": {
              "type": "string"
            }
          },
          "metadata": {},
          "execution_count": 20
        }
      ]
    },
    {
      "cell_type": "code",
      "source": [
        "kalimat = \"rumah idaman adalah rumah yang bersih\"\n",
        "pisah = kalimat.split()\n",
        "print(pisah)"
      ],
      "metadata": {
        "trusted": true,
        "colab": {
          "base_uri": "https://localhost:8080/"
        },
        "id": "_cuqXGcaaX4s",
        "outputId": "4fbb770c-2260-40ee-c1e6-ce5932154e56"
      },
      "execution_count": 21,
      "outputs": [
        {
          "output_type": "stream",
          "name": "stdout",
          "text": [
            "['rumah', 'idaman', 'adalah', 'rumah', 'yang', 'bersih']\n"
          ]
        }
      ]
    },
    {
      "cell_type": "code",
      "source": [
        "pip install nltk"
      ],
      "metadata": {
        "trusted": true,
        "colab": {
          "base_uri": "https://localhost:8080/"
        },
        "id": "eyrWhbRiaX4s",
        "outputId": "4c25678f-33b5-45fc-cf44-80875cfb4cba"
      },
      "execution_count": 22,
      "outputs": [
        {
          "output_type": "stream",
          "name": "stdout",
          "text": [
            "Requirement already satisfied: nltk in /usr/local/lib/python3.10/dist-packages (3.8.1)\n",
            "Requirement already satisfied: click in /usr/local/lib/python3.10/dist-packages (from nltk) (8.1.7)\n",
            "Requirement already satisfied: joblib in /usr/local/lib/python3.10/dist-packages (from nltk) (1.4.2)\n",
            "Requirement already satisfied: regex>=2021.8.3 in /usr/local/lib/python3.10/dist-packages (from nltk) (2024.5.15)\n",
            "Requirement already satisfied: tqdm in /usr/local/lib/python3.10/dist-packages (from nltk) (4.66.4)\n"
          ]
        }
      ]
    },
    {
      "cell_type": "code",
      "source": [
        "import nltk\n",
        "from nltk.tokenize import word_tokenize\n",
        "\n",
        "kalimat = \"Andi kerap melakukan transaksi rutin secara daring atau online.\"\n",
        "\n",
        "tokens = nltk.tokenize.word_tokenize(kalimat)\n",
        "print(tokens)"
      ],
      "metadata": {
        "trusted": true,
        "colab": {
          "base_uri": "https://localhost:8080/",
          "height": 779
        },
        "id": "IB-jKiomaX4s",
        "outputId": "1c25e750-b571-4bc4-e341-bea7a2693def"
      },
      "execution_count": 27,
      "outputs": [
        {
          "output_type": "error",
          "ename": "LookupError",
          "evalue": "\n**********************************************************************\n  Resource \u001b[93mpunkt\u001b[0m not found.\n  Please use the NLTK Downloader to obtain the resource:\n\n  \u001b[31m>>> import nltk\n  >>> nltk.download('punkt')\n  \u001b[0m\n  For more information see: https://www.nltk.org/data.html\n\n  Attempted to load \u001b[93mtokenizers/punkt/PY3/english.pickle\u001b[0m\n\n  Searched in:\n    - '/root/nltk_data'\n    - '/usr/nltk_data'\n    - '/usr/share/nltk_data'\n    - '/usr/lib/nltk_data'\n    - '/usr/share/nltk_data'\n    - '/usr/local/share/nltk_data'\n    - '/usr/lib/nltk_data'\n    - '/usr/local/lib/nltk_data'\n    - ''\n**********************************************************************\n",
          "traceback": [
            "\u001b[0;31m---------------------------------------------------------------------------\u001b[0m",
            "\u001b[0;31mLookupError\u001b[0m                               Traceback (most recent call last)",
            "\u001b[0;32m<ipython-input-27-f17c0114ebdc>\u001b[0m in \u001b[0;36m<cell line: 6>\u001b[0;34m()\u001b[0m\n\u001b[1;32m      4\u001b[0m \u001b[0mkalimat\u001b[0m \u001b[0;34m=\u001b[0m \u001b[0;34m\"Andi kerap melakukan transaksi rutin secara daring atau online.\"\u001b[0m\u001b[0;34m\u001b[0m\u001b[0;34m\u001b[0m\u001b[0m\n\u001b[1;32m      5\u001b[0m \u001b[0;34m\u001b[0m\u001b[0m\n\u001b[0;32m----> 6\u001b[0;31m \u001b[0mtokens\u001b[0m \u001b[0;34m=\u001b[0m \u001b[0mnltk\u001b[0m\u001b[0;34m.\u001b[0m\u001b[0mtokenize\u001b[0m\u001b[0;34m.\u001b[0m\u001b[0mword_tokenize\u001b[0m\u001b[0;34m(\u001b[0m\u001b[0mkalimat\u001b[0m\u001b[0;34m)\u001b[0m\u001b[0;34m\u001b[0m\u001b[0;34m\u001b[0m\u001b[0m\n\u001b[0m\u001b[1;32m      7\u001b[0m \u001b[0mprint\u001b[0m\u001b[0;34m(\u001b[0m\u001b[0mtokens\u001b[0m\u001b[0;34m)\u001b[0m\u001b[0;34m\u001b[0m\u001b[0;34m\u001b[0m\u001b[0m\n",
            "\u001b[0;32m/usr/local/lib/python3.10/dist-packages/nltk/tokenize/__init__.py\u001b[0m in \u001b[0;36mword_tokenize\u001b[0;34m(text, language, preserve_line)\u001b[0m\n\u001b[1;32m    127\u001b[0m     \u001b[0;34m:\u001b[0m\u001b[0mtype\u001b[0m \u001b[0mpreserve_line\u001b[0m\u001b[0;34m:\u001b[0m \u001b[0mbool\u001b[0m\u001b[0;34m\u001b[0m\u001b[0;34m\u001b[0m\u001b[0m\n\u001b[1;32m    128\u001b[0m     \"\"\"\n\u001b[0;32m--> 129\u001b[0;31m     \u001b[0msentences\u001b[0m \u001b[0;34m=\u001b[0m \u001b[0;34m[\u001b[0m\u001b[0mtext\u001b[0m\u001b[0;34m]\u001b[0m \u001b[0;32mif\u001b[0m \u001b[0mpreserve_line\u001b[0m \u001b[0;32melse\u001b[0m \u001b[0msent_tokenize\u001b[0m\u001b[0;34m(\u001b[0m\u001b[0mtext\u001b[0m\u001b[0;34m,\u001b[0m \u001b[0mlanguage\u001b[0m\u001b[0;34m)\u001b[0m\u001b[0;34m\u001b[0m\u001b[0;34m\u001b[0m\u001b[0m\n\u001b[0m\u001b[1;32m    130\u001b[0m     return [\n\u001b[1;32m    131\u001b[0m         \u001b[0mtoken\u001b[0m \u001b[0;32mfor\u001b[0m \u001b[0msent\u001b[0m \u001b[0;32min\u001b[0m \u001b[0msentences\u001b[0m \u001b[0;32mfor\u001b[0m \u001b[0mtoken\u001b[0m \u001b[0;32min\u001b[0m \u001b[0m_treebank_word_tokenizer\u001b[0m\u001b[0;34m.\u001b[0m\u001b[0mtokenize\u001b[0m\u001b[0;34m(\u001b[0m\u001b[0msent\u001b[0m\u001b[0;34m)\u001b[0m\u001b[0;34m\u001b[0m\u001b[0;34m\u001b[0m\u001b[0m\n",
            "\u001b[0;32m/usr/local/lib/python3.10/dist-packages/nltk/tokenize/__init__.py\u001b[0m in \u001b[0;36msent_tokenize\u001b[0;34m(text, language)\u001b[0m\n\u001b[1;32m    104\u001b[0m     \u001b[0;34m:\u001b[0m\u001b[0mparam\u001b[0m \u001b[0mlanguage\u001b[0m\u001b[0;34m:\u001b[0m \u001b[0mthe\u001b[0m \u001b[0mmodel\u001b[0m \u001b[0mname\u001b[0m \u001b[0;32min\u001b[0m \u001b[0mthe\u001b[0m \u001b[0mPunkt\u001b[0m \u001b[0mcorpus\u001b[0m\u001b[0;34m\u001b[0m\u001b[0;34m\u001b[0m\u001b[0m\n\u001b[1;32m    105\u001b[0m     \"\"\"\n\u001b[0;32m--> 106\u001b[0;31m     \u001b[0mtokenizer\u001b[0m \u001b[0;34m=\u001b[0m \u001b[0mload\u001b[0m\u001b[0;34m(\u001b[0m\u001b[0;34mf\"tokenizers/punkt/{language}.pickle\"\u001b[0m\u001b[0;34m)\u001b[0m\u001b[0;34m\u001b[0m\u001b[0;34m\u001b[0m\u001b[0m\n\u001b[0m\u001b[1;32m    107\u001b[0m     \u001b[0;32mreturn\u001b[0m \u001b[0mtokenizer\u001b[0m\u001b[0;34m.\u001b[0m\u001b[0mtokenize\u001b[0m\u001b[0;34m(\u001b[0m\u001b[0mtext\u001b[0m\u001b[0;34m)\u001b[0m\u001b[0;34m\u001b[0m\u001b[0;34m\u001b[0m\u001b[0m\n\u001b[1;32m    108\u001b[0m \u001b[0;34m\u001b[0m\u001b[0m\n",
            "\u001b[0;32m/usr/local/lib/python3.10/dist-packages/nltk/data.py\u001b[0m in \u001b[0;36mload\u001b[0;34m(resource_url, format, cache, verbose, logic_parser, fstruct_reader, encoding)\u001b[0m\n\u001b[1;32m    748\u001b[0m \u001b[0;34m\u001b[0m\u001b[0m\n\u001b[1;32m    749\u001b[0m     \u001b[0;31m# Load the resource.\u001b[0m\u001b[0;34m\u001b[0m\u001b[0;34m\u001b[0m\u001b[0m\n\u001b[0;32m--> 750\u001b[0;31m     \u001b[0mopened_resource\u001b[0m \u001b[0;34m=\u001b[0m \u001b[0m_open\u001b[0m\u001b[0;34m(\u001b[0m\u001b[0mresource_url\u001b[0m\u001b[0;34m)\u001b[0m\u001b[0;34m\u001b[0m\u001b[0;34m\u001b[0m\u001b[0m\n\u001b[0m\u001b[1;32m    751\u001b[0m \u001b[0;34m\u001b[0m\u001b[0m\n\u001b[1;32m    752\u001b[0m     \u001b[0;32mif\u001b[0m \u001b[0mformat\u001b[0m \u001b[0;34m==\u001b[0m \u001b[0;34m\"raw\"\u001b[0m\u001b[0;34m:\u001b[0m\u001b[0;34m\u001b[0m\u001b[0;34m\u001b[0m\u001b[0m\n",
            "\u001b[0;32m/usr/local/lib/python3.10/dist-packages/nltk/data.py\u001b[0m in \u001b[0;36m_open\u001b[0;34m(resource_url)\u001b[0m\n\u001b[1;32m    874\u001b[0m \u001b[0;34m\u001b[0m\u001b[0m\n\u001b[1;32m    875\u001b[0m     \u001b[0;32mif\u001b[0m \u001b[0mprotocol\u001b[0m \u001b[0;32mis\u001b[0m \u001b[0;32mNone\u001b[0m \u001b[0;32mor\u001b[0m \u001b[0mprotocol\u001b[0m\u001b[0;34m.\u001b[0m\u001b[0mlower\u001b[0m\u001b[0;34m(\u001b[0m\u001b[0;34m)\u001b[0m \u001b[0;34m==\u001b[0m \u001b[0;34m\"nltk\"\u001b[0m\u001b[0;34m:\u001b[0m\u001b[0;34m\u001b[0m\u001b[0;34m\u001b[0m\u001b[0m\n\u001b[0;32m--> 876\u001b[0;31m         \u001b[0;32mreturn\u001b[0m \u001b[0mfind\u001b[0m\u001b[0;34m(\u001b[0m\u001b[0mpath_\u001b[0m\u001b[0;34m,\u001b[0m \u001b[0mpath\u001b[0m \u001b[0;34m+\u001b[0m \u001b[0;34m[\u001b[0m\u001b[0;34m\"\"\u001b[0m\u001b[0;34m]\u001b[0m\u001b[0;34m)\u001b[0m\u001b[0;34m.\u001b[0m\u001b[0mopen\u001b[0m\u001b[0;34m(\u001b[0m\u001b[0;34m)\u001b[0m\u001b[0;34m\u001b[0m\u001b[0;34m\u001b[0m\u001b[0m\n\u001b[0m\u001b[1;32m    877\u001b[0m     \u001b[0;32melif\u001b[0m \u001b[0mprotocol\u001b[0m\u001b[0;34m.\u001b[0m\u001b[0mlower\u001b[0m\u001b[0;34m(\u001b[0m\u001b[0;34m)\u001b[0m \u001b[0;34m==\u001b[0m \u001b[0;34m\"file\"\u001b[0m\u001b[0;34m:\u001b[0m\u001b[0;34m\u001b[0m\u001b[0;34m\u001b[0m\u001b[0m\n\u001b[1;32m    878\u001b[0m         \u001b[0;31m# urllib might not use mode='rb', so handle this one ourselves:\u001b[0m\u001b[0;34m\u001b[0m\u001b[0;34m\u001b[0m\u001b[0m\n",
            "\u001b[0;32m/usr/local/lib/python3.10/dist-packages/nltk/data.py\u001b[0m in \u001b[0;36mfind\u001b[0;34m(resource_name, paths)\u001b[0m\n\u001b[1;32m    581\u001b[0m     \u001b[0msep\u001b[0m \u001b[0;34m=\u001b[0m \u001b[0;34m\"*\"\u001b[0m \u001b[0;34m*\u001b[0m \u001b[0;36m70\u001b[0m\u001b[0;34m\u001b[0m\u001b[0;34m\u001b[0m\u001b[0m\n\u001b[1;32m    582\u001b[0m     \u001b[0mresource_not_found\u001b[0m \u001b[0;34m=\u001b[0m \u001b[0;34mf\"\\n{sep}\\n{msg}\\n{sep}\\n\"\u001b[0m\u001b[0;34m\u001b[0m\u001b[0;34m\u001b[0m\u001b[0m\n\u001b[0;32m--> 583\u001b[0;31m     \u001b[0;32mraise\u001b[0m \u001b[0mLookupError\u001b[0m\u001b[0;34m(\u001b[0m\u001b[0mresource_not_found\u001b[0m\u001b[0;34m)\u001b[0m\u001b[0;34m\u001b[0m\u001b[0;34m\u001b[0m\u001b[0m\n\u001b[0m\u001b[1;32m    584\u001b[0m \u001b[0;34m\u001b[0m\u001b[0m\n\u001b[1;32m    585\u001b[0m \u001b[0;34m\u001b[0m\u001b[0m\n",
            "\u001b[0;31mLookupError\u001b[0m: \n**********************************************************************\n  Resource \u001b[93mpunkt\u001b[0m not found.\n  Please use the NLTK Downloader to obtain the resource:\n\n  \u001b[31m>>> import nltk\n  >>> nltk.download('punkt')\n  \u001b[0m\n  For more information see: https://www.nltk.org/data.html\n\n  Attempted to load \u001b[93mtokenizers/punkt/PY3/english.pickle\u001b[0m\n\n  Searched in:\n    - '/root/nltk_data'\n    - '/usr/nltk_data'\n    - '/usr/share/nltk_data'\n    - '/usr/lib/nltk_data'\n    - '/usr/share/nltk_data'\n    - '/usr/local/share/nltk_data'\n    - '/usr/lib/nltk_data'\n    - '/usr/local/lib/nltk_data'\n    - ''\n**********************************************************************\n"
          ]
        }
      ]
    },
    {
      "cell_type": "code",
      "source": [
        "import nltk\n",
        "from nltk.tokenize import word_tokenize\n",
        "\n",
        "# Download the 'punkt' resource\n",
        "nltk.download('punkt')\n",
        "\n",
        "kalimat = \"Andi kerap melakukan transaksi rutin secara daring atau online.\"\n",
        "\n",
        "tokens = nltk.tokenize.word_tokenize(kalimat)\n",
        "print(tokens)"
      ],
      "metadata": {
        "colab": {
          "base_uri": "https://localhost:8080/"
        },
        "id": "gcNozWSJEucI",
        "outputId": "cdb97ef3-7443-4bb2-a1f3-aa76c91f6d5f"
      },
      "execution_count": 28,
      "outputs": [
        {
          "output_type": "stream",
          "name": "stderr",
          "text": [
            "[nltk_data] Downloading package punkt to /root/nltk_data...\n",
            "[nltk_data]   Unzipping tokenizers/punkt.zip.\n"
          ]
        },
        {
          "output_type": "stream",
          "name": "stdout",
          "text": [
            "['Andi', 'kerap', 'melakukan', 'transaksi', 'rutin', 'secara', 'daring', 'atau', 'online', '.']\n"
          ]
        }
      ]
    },
    {
      "cell_type": "code",
      "source": [
        "from nltk.tokenize import word_tokenize\n",
        "from nltk.probability import FreqDist\n",
        "kalimat = \"Andi kerap melakukan transaksi rutin secara daring atau online. Menurut Andi belanja online lebih praktis & murah.\"\n",
        "kalimat = kalimat.translate(str.maketrans('','')).lower()\n",
        "\n",
        "tokens = nltk.tokenize.word_tokenize(kalimat)\n",
        "kemunculan = nltk.FreqDist(tokens)\n",
        "print(kemunculan.most_common())"
      ],
      "metadata": {
        "trusted": true,
        "colab": {
          "base_uri": "https://localhost:8080/"
        },
        "id": "ppEzBD9VaX4s",
        "outputId": "8ded97bd-6b68-413a-b6c2-927dbbb7f46c"
      },
      "execution_count": 29,
      "outputs": [
        {
          "output_type": "stream",
          "name": "stdout",
          "text": [
            "[('andi', 2), ('online', 2), ('.', 2), ('kerap', 1), ('melakukan', 1), ('transaksi', 1), ('rutin', 1), ('secara', 1), ('daring', 1), ('atau', 1), ('menurut', 1), ('belanja', 1), ('lebih', 1), ('praktis', 1), ('&', 1), ('murah', 1)]\n"
          ]
        }
      ]
    },
    {
      "cell_type": "code",
      "source": [
        "import matplotlib.pyplot as plt\n",
        "kemunculan.plot(30,cumulative=False)\n",
        "plt.show()"
      ],
      "metadata": {
        "trusted": true,
        "colab": {
          "base_uri": "https://localhost:8080/",
          "height": 512
        },
        "id": "ZQkYxbJOaX4s",
        "outputId": "bc8fd61a-be6d-4786-fd86-dd782461395c"
      },
      "execution_count": 30,
      "outputs": [
        {
          "output_type": "display_data",
          "data": {
            "text/plain": [
              "<Figure size 640x480 with 1 Axes>"
            ],
            "image/png": "[encoded data removed]"
          },
          "metadata": {}
        }
      ]
    },
    {
      "cell_type": "code",
      "source": [
        "from sklearn.feature_extraction.text import TfidfVectorizer,CountVectorizer\n",
        "import pandas as pd\n",
        "# set of documents\n",
        "train = ['The sky is blue.','The sun is bright.']\n",
        "test = ['The sun in the sky is bright', 'We can see the shining sun, the bright sun.']\n",
        "# instantiate the vectorizer object\n",
        "countvectorizer = CountVectorizer(analyzer= 'word', stop_words='english')\n",
        "tfidfvectorizer = TfidfVectorizer(analyzer='word',stop_words= 'english')\n",
        "# convert th documents into a matrix\n",
        "count_wm = countvectorizer.fit_transform(train)\n",
        "tfidf_wm = tfidfvectorizer.fit_transform(train)\n",
        "#retrieve the terms found in the corpora\n",
        "# if we take same parameters on both Classes(CountVectorizer and TfidfVectorizer) , it will give same output of get_feature_names() methods)\n",
        "#count_tokens = tfidfvectorizer.get_feature_names() # no difference\n",
        "count_tokens = countvectorizer.get_feature_names()\n",
        "tfidf_tokens = tfidfvectorizer.get_feature_names()\n",
        "df_countvect = pd.DataFrame(data = count_wm.toarray(),index = ['Doc1','Doc2'],columns = count_tokens)\n",
        "df_tfidfvect = pd.DataFrame(data = tfidf_wm.toarray(),index = ['Doc1','Doc2'],columns = tfidf_tokens)\n",
        "print(\"Count Vectorizer\\n\")\n",
        "print(df_countvect)\n",
        "print(\"\\nTD-IDF Vectorizer\\n\")\n",
        "print(df_tfidfvect)"
      ],
      "metadata": {
        "execution": {
          "iopub.status.busy": "2021-08-21T14:45:09.483581Z",
          "iopub.execute_input": "2021-08-21T14:45:09.483916Z",
          "iopub.status.idle": "2021-08-21T14:45:10.447503Z",
          "shell.execute_reply.started": "2021-08-21T14:45:09.483862Z",
          "shell.execute_reply": "2021-08-21T14:45:10.446734Z"
        },
        "trusted": true,
        "colab": {
          "base_uri": "https://localhost:8080/",
          "height": 252
        },
        "id": "5PYu0BFJaX4s",
        "outputId": "a2cfc94b-d670-447a-a8ab-2f1e886d1e6a"
      },
      "execution_count": 31,
      "outputs": [
        {
          "output_type": "error",
          "ename": "AttributeError",
          "evalue": "'CountVectorizer' object has no attribute 'get_feature_names'",
          "traceback": [
            "\u001b[0;31m---------------------------------------------------------------------------\u001b[0m",
            "\u001b[0;31mAttributeError\u001b[0m                            Traceback (most recent call last)",
            "\u001b[0;32m<ipython-input-31-28fc997023d4>\u001b[0m in \u001b[0;36m<cell line: 15>\u001b[0;34m()\u001b[0m\n\u001b[1;32m     13\u001b[0m \u001b[0;31m# if we take same parameters on both Classes(CountVectorizer and TfidfVectorizer) , it will give same output of get_feature_names() methods)\u001b[0m\u001b[0;34m\u001b[0m\u001b[0;34m\u001b[0m\u001b[0m\n\u001b[1;32m     14\u001b[0m \u001b[0;31m#count_tokens = tfidfvectorizer.get_feature_names() # no difference\u001b[0m\u001b[0;34m\u001b[0m\u001b[0;34m\u001b[0m\u001b[0m\n\u001b[0;32m---> 15\u001b[0;31m \u001b[0mcount_tokens\u001b[0m \u001b[0;34m=\u001b[0m \u001b[0mcountvectorizer\u001b[0m\u001b[0;34m.\u001b[0m\u001b[0mget_feature_names\u001b[0m\u001b[0;34m(\u001b[0m\u001b[0;34m)\u001b[0m\u001b[0;34m\u001b[0m\u001b[0;34m\u001b[0m\u001b[0m\n\u001b[0m\u001b[1;32m     16\u001b[0m \u001b[0mtfidf_tokens\u001b[0m \u001b[0;34m=\u001b[0m \u001b[0mtfidfvectorizer\u001b[0m\u001b[0;34m.\u001b[0m\u001b[0mget_feature_names\u001b[0m\u001b[0;34m(\u001b[0m\u001b[0;34m)\u001b[0m\u001b[0;34m\u001b[0m\u001b[0;34m\u001b[0m\u001b[0m\n\u001b[1;32m     17\u001b[0m \u001b[0mdf_countvect\u001b[0m \u001b[0;34m=\u001b[0m \u001b[0mpd\u001b[0m\u001b[0;34m.\u001b[0m\u001b[0mDataFrame\u001b[0m\u001b[0;34m(\u001b[0m\u001b[0mdata\u001b[0m \u001b[0;34m=\u001b[0m \u001b[0mcount_wm\u001b[0m\u001b[0;34m.\u001b[0m\u001b[0mtoarray\u001b[0m\u001b[0;34m(\u001b[0m\u001b[0;34m)\u001b[0m\u001b[0;34m,\u001b[0m\u001b[0mindex\u001b[0m \u001b[0;34m=\u001b[0m \u001b[0;34m[\u001b[0m\u001b[0;34m'Doc1'\u001b[0m\u001b[0;34m,\u001b[0m\u001b[0;34m'Doc2'\u001b[0m\u001b[0;34m]\u001b[0m\u001b[0;34m,\u001b[0m\u001b[0mcolumns\u001b[0m \u001b[0;34m=\u001b[0m \u001b[0mcount_tokens\u001b[0m\u001b[0;34m)\u001b[0m\u001b[0;34m\u001b[0m\u001b[0;34m\u001b[0m\u001b[0m\n",
            "\u001b[0;31mAttributeError\u001b[0m: 'CountVectorizer' object has no attribute 'get_feature_names'"
          ]
        }
      ]
    },
    {
      "cell_type": "code",
      "source": [
        "from sklearn.feature_extraction.text import TfidfVectorizer,CountVectorizer\n",
        "import pandas as pd\n",
        "# set of documents\n",
        "train = ['The sky is blue.','The sun is bright.']\n",
        "test = ['The sun in the sky is bright', 'We can see the shining sun, the bright sun.']\n",
        "# instantiate the vectorizer object\n",
        "countvectorizer = CountVectorizer(analyzer= 'word', stop_words='english')\n",
        "tfidfvectorizer = TfidfVectorizer(analyzer='word',stop_words= 'english')\n",
        "# convert th documents into a matrix\n",
        "count_wm = countvectorizer.fit_transform(train)\n",
        "tfidf_wm = tfidfvectorizer.fit_transform(train)\n",
        "#retrieve the terms found in the corpora\n",
        "# if we take same parameters on both Classes(CountVectorizer and TfidfVectorizer) , it will give same output of get_feature_names() methods)\n",
        "#count_tokens = tfidfvectorizer.get_feature_names() # no difference\n",
        "count_tokens = countvectorizer.get_feature_names_out() # Use get_feature_names_out()\n",
        "tfidf_tokens = tfidfvectorizer.get_feature_names_out() # Use get_feature_names_out()\n",
        "df_countvect = pd.DataFrame(data = count_wm.toarray(),index = ['Doc1','Doc2'],columns = count_tokens)\n",
        "df_tfidfvect = pd.DataFrame(data = tfidf_wm.toarray(),index = ['Doc1','Doc2'],columns = tfidf_tokens)\n",
        "print(\"Count Vectorizer\\n\")\n",
        "print(df_countvect)\n",
        "print(\"\\nTD-IDF Vectorizer\\n\")\n",
        "print(df_tfidfvect)"
      ],
      "metadata": {
        "colab": {
          "base_uri": "https://localhost:8080/"
        },
        "id": "t6fqfG44FnwK",
        "outputId": "45f85f3c-6086-4ddd-9f81-48551d54c9fd"
      },
      "execution_count": 32,
      "outputs": [
        {
          "output_type": "stream",
          "name": "stdout",
          "text": [
            "Count Vectorizer\n",
            "\n",
            "      blue  bright  sky  sun\n",
            "Doc1     1       0    1    0\n",
            "Doc2     0       1    0    1\n",
            "\n",
            "TD-IDF Vectorizer\n",
            "\n",
            "          blue    bright       sky       sun\n",
            "Doc1  0.707107  0.000000  0.707107  0.000000\n",
            "Doc2  0.000000  0.707107  0.000000  0.707107\n"
          ]
        }
      ]
    },
    {
      "cell_type": "code",
      "source": [
        "import pandas as pd\n",
        "\n",
        "columns = ['kalimat', 'label']\n",
        "rows = []\n",
        "\n",
        "rows = [['Ini buku-buku saya', 'berita'],\n",
        "        ['Buku-buku saya merupakan novel', 'berita'],\n",
        "        ['apakah kamu sudah membaca buku-buku itu?', 'pertanyaan'],\n",
        "        ['siapakah pengarang buku tersebut?', 'pertanyaan'],\n",
        "        ['siapa saja yang ada di buku tersebut?', 'pertanyaan'],\n",
        "        ['Saya membeli buku tersebut secara online', 'berita'],\n",
        "        ['Saya suka membaca buku cerita', 'berita'],\n",
        "        ['Apakah buku kesukaanmu?', 'pertanyaan'],\n",
        "       ['Membeli buku secara online lebih mudah', 'berita'],\n",
        "        ['Buku cerita sangat menghibur', 'berita'],\n",
        "        ['apakah kamu suka buku cerita?', 'pertanyaan']]\n",
        "\n",
        "training_data = pd.DataFrame(rows, columns=columns)\n",
        "training_data"
      ],
      "metadata": {
        "execution": {
          "iopub.status.busy": "2021-11-15T13:17:55.805826Z",
          "iopub.execute_input": "2021-11-15T13:17:55.806353Z",
          "iopub.status.idle": "2021-11-15T13:17:55.841167Z",
          "shell.execute_reply.started": "2021-11-15T13:17:55.806319Z",
          "shell.execute_reply": "2021-11-15T13:17:55.840129Z"
        },
        "trusted": true,
        "colab": {
          "base_uri": "https://localhost:8080/",
          "height": 394
        },
        "id": "50tC8oynaX4s",
        "outputId": "b2bd31c6-fca4-4b6f-87d2-ae25f3f364aa"
      },
      "execution_count": 33,
      "outputs": [
        {
          "output_type": "execute_result",
          "data": {
            "text/plain": [
              "                                     kalimat       label\n",
              "0                         Ini buku-buku saya      berita\n",
              "1             Buku-buku saya merupakan novel      berita\n",
              "2   apakah kamu sudah membaca buku-buku itu?  pertanyaan\n",
              "3          siapakah pengarang buku tersebut?  pertanyaan\n",
              "4      siapa saja yang ada di buku tersebut?  pertanyaan\n",
              "5   Saya membeli buku tersebut secara online      berita\n",
              "6              Saya suka membaca buku cerita      berita\n",
              "7                    Apakah buku kesukaanmu?  pertanyaan\n",
              "8     Membeli buku secara online lebih mudah      berita\n",
              "9               Buku cerita sangat menghibur      berita\n",
              "10             apakah kamu suka buku cerita?  pertanyaan"
            ],
            "text/html": [
              "\n",
              "  <div id=\"df-9c0acd1f-b121-4c6b-a167-6ba62a2f24d4\" class=\"colab-df-container\">\n",
              "    <div>\n",
              "<style scoped>\n",
              "    .dataframe tbody tr th:only-of-type {\n",
              "        vertical-align: middle;\n",
              "    }\n",
              "\n",
              "    .dataframe tbody tr th {\n",
              "        vertical-align: top;\n",
              "    }\n",
              "\n",
              "    .dataframe thead th {\n",
              "        text-align: right;\n",
              "    }\n",
              "</style>\n",
              "<table border=\"1\" class=\"dataframe\">\n",
              "  <thead>\n",
              "    <tr style=\"text-align: right;\">\n",
              "      <th></th>\n",
              "      <th>kalimat</th>\n",
              "      <th>label</th>\n",
              "    </tr>\n",
              "  </thead>\n",
              "  <tbody>\n",
              "    <tr>\n",
              "      <th>0</th>\n",
              "      <td>Ini buku-buku saya</td>\n",
              "      <td>berita</td>\n",
              "    </tr>\n",
              "    <tr>\n",
              "      <th>1</th>\n",
              "      <td>Buku-buku saya merupakan novel</td>\n",
              "      <td>berita</td>\n",
              "    </tr>\n",
              "    <tr>\n",
              "      <th>2</th>\n",
              "      <td>apakah kamu sudah membaca buku-buku itu?</td>\n",
              "      <td>pertanyaan</td>\n",
              "    </tr>\n",
              "    <tr>\n",
              "      <th>3</th>\n",
              "      <td>siapakah pengarang buku tersebut?</td>\n",
              "      <td>pertanyaan</td>\n",
              "    </tr>\n",
              "    <tr>\n",
              "      <th>4</th>\n",
              "      <td>siapa saja yang ada di buku tersebut?</td>\n",
              "      <td>pertanyaan</td>\n",
              "    </tr>\n",
              "    <tr>\n",
              "      <th>5</th>\n",
              "      <td>Saya membeli buku tersebut secara online</td>\n",
              "      <td>berita</td>\n",
              "    </tr>\n",
              "    <tr>\n",
              "      <th>6</th>\n",
              "      <td>Saya suka membaca buku cerita</td>\n",
              "      <td>berita</td>\n",
              "    </tr>\n",
              "    <tr>\n",
              "      <th>7</th>\n",
              "      <td>Apakah buku kesukaanmu?</td>\n",
              "      <td>pertanyaan</td>\n",
              "    </tr>\n",
              "    <tr>\n",
              "      <th>8</th>\n",
              "      <td>Membeli buku secara online lebih mudah</td>\n",
              "      <td>berita</td>\n",
              "    </tr>\n",
              "    <tr>\n",
              "      <th>9</th>\n",
              "      <td>Buku cerita sangat menghibur</td>\n",
              "      <td>berita</td>\n",
              "    </tr>\n",
              "    <tr>\n",
              "      <th>10</th>\n",
              "      <td>apakah kamu suka buku cerita?</td>\n",
              "      <td>pertanyaan</td>\n",
              "    </tr>\n",
              "  </tbody>\n",
              "</table>\n",
              "</div>\n",
              "    <div class=\"colab-df-buttons\">\n",
              "\n",
              "  <div class=\"colab-df-container\">\n",
              "    <button class=\"colab-df-convert\" onclick=\"convertToInteractive('df-9c0acd1f-b121-4c6b-a167-6ba62a2f24d4')\"\n",
              "            title=\"Convert this dataframe to an interactive table.\"\n",
              "            style=\"display:none;\">\n",
              "\n",
              "  <svg xmlns=\"http://www.w3.org/2000/svg\" height=\"24px\" viewBox=\"0 -960 960 960\">\n",
              "    <path d=\"M120-120v-720h720v720H120Zm60-500h600v-160H180v160Zm220 220h160v-160H400v160Zm0 220h160v-160H400v160ZM180-400h160v-160H180v160Zm440 0h160v-160H620v160ZM180-180h160v-160H180v160Zm440 0h160v-160H620v160Z\"/>\n",
              "  </svg>\n",
              "    </button>\n",
              "\n",
              "  <style>\n",
              "    .colab-df-container {\n",
              "      display:flex;\n",
              "      gap: 12px;\n",
              "    }\n",
              "\n",
              "    .colab-df-convert {\n",
              "      background-color: #E8F0FE;\n",
              "      border: none;\n",
              "      border-radius: 50%;\n",
              "      cursor: pointer;\n",
              "      display: none;\n",
              "      fill: #1967D2;\n",
              "      height: 32px;\n",
              "      padding: 0 0 0 0;\n",
              "      width: 32px;\n",
              "    }\n",
              "\n",
              "    .colab-df-convert:hover {\n",
              "      background-color: #E2EBFA;\n",
              "      box-shadow: 0px 1px 2px rgba(60, 64, 67, 0.3), 0px 1px 3px 1px rgba(60, 64, 67, 0.15);\n",
              "      fill: #174EA6;\n",
              "    }\n",
              "\n",
              "    .colab-df-buttons div {\n",
              "      margin-bottom: 4px;\n",
              "    }\n",
              "\n",
              "    [theme=dark] .colab-df-convert {\n",
              "      background-color: #3B4455;\n",
              "      fill: #D2E3FC;\n",
              "    }\n",
              "\n",
              "    [theme=dark] .colab-df-convert:hover {\n",
              "      background-color: #434B5C;\n",
              "      box-shadow: 0px 1px 3px 1px rgba(0, 0, 0, 0.15);\n",
              "      filter: drop-shadow(0px 1px 2px rgba(0, 0, 0, 0.3));\n",
              "      fill: #FFFFFF;\n",
              "    }\n",
              "  </style>\n",
              "\n",
              "    <script>\n",
              "      const buttonEl =\n",
              "        document.querySelector('#df-9c0acd1f-b121-4c6b-a167-6ba62a2f24d4 button.colab-df-convert');\n",
              "      buttonEl.style.display =\n",
              "        google.colab.kernel.accessAllowed ? 'block' : 'none';\n",
              "\n",
              "      async function convertToInteractive(key) {\n",
              "        const element = document.querySelector('#df-9c0acd1f-b121-4c6b-a167-6ba62a2f24d4');\n",
              "        const dataTable =\n",
              "          await google.colab.kernel.invokeFunction('convertToInteractive',\n",
              "                                                    [key], {});\n",
              "        if (!dataTable) return;\n",
              "\n",
              "        const docLinkHtml = 'Like what you see? Visit the ' +\n",
              "          '<a target=\"_blank\" href=https://colab.research.google.com/notebooks/data_table.ipynb>data table notebook</a>'\n",
              "          + ' to learn more about interactive tables.';\n",
              "        element.innerHTML = '';\n",
              "        dataTable['output_type'] = 'display_data';\n",
              "        await google.colab.output.renderOutput(dataTable, element);\n",
              "        const docLink = document.createElement('div');\n",
              "        docLink.innerHTML = docLinkHtml;\n",
              "        element.appendChild(docLink);\n",
              "      }\n",
              "    </script>\n",
              "  </div>\n",
              "\n",
              "\n",
              "<div id=\"df-01703dd2-7409-4484-af29-21cb92fee3c8\">\n",
              "  <button class=\"colab-df-quickchart\" onclick=\"quickchart('df-01703dd2-7409-4484-af29-21cb92fee3c8')\"\n",
              "            title=\"Suggest charts\"\n",
              "            style=\"display:none;\">\n",
              "\n",
              "<svg xmlns=\"http://www.w3.org/2000/svg\" height=\"24px\"viewBox=\"0 0 24 24\"\n",
              "     width=\"24px\">\n",
              "    <g>\n",
              "        <path d=\"M19 3H5c-1.1 0-2 .9-2 2v14c0 1.1.9 2 2 2h14c1.1 0 2-.9 2-2V5c0-1.1-.9-2-2-2zM9 17H7v-7h2v7zm4 0h-2V7h2v10zm4 0h-2v-4h2v4z\"/>\n",
              "    </g>\n",
              "</svg>\n",
              "  </button>\n",
              "\n",
              "<style>\n",
              "  .colab-df-quickchart {\n",
              "      --bg-color: #E8F0FE;\n",
              "      --fill-color: #1967D2;\n",
              "      --hover-bg-color: #E2EBFA;\n",
              "      --hover-fill-color: #174EA6;\n",
              "      --disabled-fill-color: #AAA;\n",
              "      --disabled-bg-color: #DDD;\n",
              "  }\n",
              "\n",
              "  [theme=dark] .colab-df-quickchart {\n",
              "      --bg-color: #3B4455;\n",
              "      --fill-color: #D2E3FC;\n",
              "      --hover-bg-color: #434B5C;\n",
              "      --hover-fill-color: #FFFFFF;\n",
              "      --disabled-bg-color: #3B4455;\n",
              "      --disabled-fill-color: #666;\n",
              "  }\n",
              "\n",
              "  .colab-df-quickchart {\n",
              "    background-color: var(--bg-color);\n",
              "    border: none;\n",
              "    border-radius: 50%;\n",
              "    cursor: pointer;\n",
              "    display: none;\n",
              "    fill: var(--fill-color);\n",
              "    height: 32px;\n",
              "    padding: 0;\n",
              "    width: 32px;\n",
              "  }\n",
              "\n",
              "  .colab-df-quickchart:hover {\n",
              "    background-color: var(--hover-bg-color);\n",
              "    box-shadow: 0 1px 2px rgba(60, 64, 67, 0.3), 0 1px 3px 1px rgba(60, 64, 67, 0.15);\n",
              "    fill: var(--button-hover-fill-color);\n",
              "  }\n",
              "\n",
              "  .colab-df-quickchart-complete:disabled,\n",
              "  .colab-df-quickchart-complete:disabled:hover {\n",
              "    background-color: var(--disabled-bg-color);\n",
              "    fill: var(--disabled-fill-color);\n",
              "    box-shadow: none;\n",
              "  }\n",
              "\n",
              "  .colab-df-spinner {\n",
              "    border: 2px solid var(--fill-color);\n",
              "    border-color: transparent;\n",
              "    border-bottom-color: var(--fill-color);\n",
              "    animation:\n",
              "      spin 1s steps(1) infinite;\n",
              "  }\n",
              "\n",
              "  @keyframes spin {\n",
              "    0% {\n",
              "      border-color: transparent;\n",
              "      border-bottom-color: var(--fill-color);\n",
              "      border-left-color: var(--fill-color);\n",
              "    }\n",
              "    20% {\n",
              "      border-color: transparent;\n",
              "      border-left-color: var(--fill-color);\n",
              "      border-top-color: var(--fill-color);\n",
              "    }\n",
              "    30% {\n",
              "      border-color: transparent;\n",
              "      border-left-color: var(--fill-color);\n",
              "      border-top-color: var(--fill-color);\n",
              "      border-right-color: var(--fill-color);\n",
              "    }\n",
              "    40% {\n",
              "      border-color: transparent;\n",
              "      border-right-color: var(--fill-color);\n",
              "      border-top-color: var(--fill-color);\n",
              "    }\n",
              "    60% {\n",
              "      border-color: transparent;\n",
              "      border-right-color: var(--fill-color);\n",
              "    }\n",
              "    80% {\n",
              "      border-color: transparent;\n",
              "      border-right-color: var(--fill-color);\n",
              "      border-bottom-color: var(--fill-color);\n",
              "    }\n",
              "    90% {\n",
              "      border-color: transparent;\n",
              "      border-bottom-color: var(--fill-color);\n",
              "    }\n",
              "  }\n",
              "</style>\n",
              "\n",
              "  <script>\n",
              "    async function quickchart(key) {\n",
              "      const quickchartButtonEl =\n",
              "        document.querySelector('#' + key + ' button');\n",
              "      quickchartButtonEl.disabled = true;  // To prevent multiple clicks.\n",
              "      quickchartButtonEl.classList.add('colab-df-spinner');\n",
              "      try {\n",
              "        const charts = await google.colab.kernel.invokeFunction(\n",
              "            'suggestCharts', [key], {});\n",
              "      } catch (error) {\n",
              "        console.error('Error during call to suggestCharts:', error);\n",
              "      }\n",
              "      quickchartButtonEl.classList.remove('colab-df-spinner');\n",
              "      quickchartButtonEl.classList.add('colab-df-quickchart-complete');\n",
              "    }\n",
              "    (() => {\n",
              "      let quickchartButtonEl =\n",
              "        document.querySelector('#df-01703dd2-7409-4484-af29-21cb92fee3c8 button');\n",
              "      quickchartButtonEl.style.display =\n",
              "        google.colab.kernel.accessAllowed ? 'block' : 'none';\n",
              "    })();\n",
              "  </script>\n",
              "</div>\n",
              "\n",
              "  <div id=\"id_8769a160-3739-4dc0-bdc8-fc4047e2564d\">\n",
              "    <style>\n",
              "      .colab-df-generate {\n",
              "        background-color: #E8F0FE;\n",
              "        border: none;\n",
              "        border-radius: 50%;\n",
              "        cursor: pointer;\n",
              "        display: none;\n",
              "        fill: #1967D2;\n",
              "        height: 32px;\n",
              "        padding: 0 0 0 0;\n",
              "        width: 32px;\n",
              "      }\n",
              "\n",
              "      .colab-df-generate:hover {\n",
              "        background-color: #E2EBFA;\n",
              "        box-shadow: 0px 1px 2px rgba(60, 64, 67, 0.3), 0px 1px 3px 1px rgba(60, 64, 67, 0.15);\n",
              "        fill: #174EA6;\n",
              "      }\n",
              "\n",
              "      [theme=dark] .colab-df-generate {\n",
              "        background-color: #3B4455;\n",
              "        fill: #D2E3FC;\n",
              "      }\n",
              "\n",
              "      [theme=dark] .colab-df-generate:hover {\n",
              "        background-color: #434B5C;\n",
              "        box-shadow: 0px 1px 3px 1px rgba(0, 0, 0, 0.15);\n",
              "        filter: drop-shadow(0px 1px 2px rgba(0, 0, 0, 0.3));\n",
              "        fill: #FFFFFF;\n",
              "      }\n",
              "    </style>\n",
              "    <button class=\"colab-df-generate\" onclick=\"generateWithVariable('training_data')\"\n",
              "            title=\"Generate code using this dataframe.\"\n",
              "            style=\"display:none;\">\n",
              "\n",
              "  <svg xmlns=\"http://www.w3.org/2000/svg\" height=\"24px\"viewBox=\"0 0 24 24\"\n",
              "       width=\"24px\">\n",
              "    <path d=\"M7,19H8.4L18.45,9,17,7.55,7,17.6ZM5,21V16.75L18.45,3.32a2,2,0,0,1,2.83,0l1.4,1.43a1.91,1.91,0,0,1,.58,1.4,1.91,1.91,0,0,1-.58,1.4L9.25,21ZM18.45,9,17,7.55Zm-12,3A5.31,5.31,0,0,0,4.9,8.1,5.31,5.31,0,0,0,1,6.5,5.31,5.31,0,0,0,4.9,4.9,5.31,5.31,0,0,0,6.5,1,5.31,5.31,0,0,0,8.1,4.9,5.31,5.31,0,0,0,12,6.5,5.46,5.46,0,0,0,6.5,12Z\"/>\n",
              "  </svg>\n",
              "    </button>\n",
              "    <script>\n",
              "      (() => {\n",
              "      const buttonEl =\n",
              "        document.querySelector('#id_8769a160-3739-4dc0-bdc8-fc4047e2564d button.colab-df-generate');\n",
              "      buttonEl.style.display =\n",
              "        google.colab.kernel.accessAllowed ? 'block' : 'none';\n",
              "\n",
              "      buttonEl.onclick = () => {\n",
              "        google.colab.notebook.generateWithVariable('training_data');\n",
              "      }\n",
              "      })();\n",
              "    </script>\n",
              "  </div>\n",
              "\n",
              "    </div>\n",
              "  </div>\n"
            ],
            "application/vnd.google.colaboratory.intrinsic+json": {
              "type": "dataframe",
              "variable_name": "training_data",
              "summary": "{\n  \"name\": \"training_data\",\n  \"rows\": 11,\n  \"fields\": [\n    {\n      \"column\": \"kalimat\",\n      \"properties\": {\n        \"dtype\": \"string\",\n        \"num_unique_values\": 11,\n        \"samples\": [\n          \"Saya membeli buku tersebut secara online\",\n          \"Ini buku-buku saya\",\n          \"Buku cerita sangat menghibur\"\n        ],\n        \"semantic_type\": \"\",\n        \"description\": \"\"\n      }\n    },\n    {\n      \"column\": \"label\",\n      \"properties\": {\n        \"dtype\": \"category\",\n        \"num_unique_values\": 2,\n        \"samples\": [\n          \"pertanyaan\",\n          \"berita\"\n        ],\n        \"semantic_type\": \"\",\n        \"description\": \"\"\n      }\n    }\n  ]\n}"
            }
          },
          "metadata": {},
          "execution_count": 33
        }
      ]
    },
    {
      "cell_type": "code",
      "source": [],
      "metadata": {
        "id": "sSZs1wbRGOMz"
      },
      "execution_count": null,
      "outputs": []
    },
    {
      "cell_type": "code",
      "source": [
        "#mengubah label kelas berita=0 dan yang lain menjadi =1\n",
        "training_data['labelkelas'] = training_data['label'].apply(lambda x: 0 if x=='berita' else 1)\n",
        "training_data\n"
      ],
      "metadata": {
        "execution": {
          "iopub.status.busy": "2021-11-15T13:20:24.182427Z",
          "iopub.execute_input": "2021-11-15T13:20:24.182986Z",
          "iopub.status.idle": "2021-11-15T13:20:24.19925Z",
          "shell.execute_reply.started": "2021-11-15T13:20:24.182951Z",
          "shell.execute_reply": "2021-11-15T13:20:24.198469Z"
        },
        "trusted": true,
        "colab": {
          "base_uri": "https://localhost:8080/",
          "height": 394
        },
        "id": "wNJq8IR_aX4t",
        "outputId": "9769aeab-517e-4e11-b528-a5c12b71298e"
      },
      "execution_count": 34,
      "outputs": [
        {
          "output_type": "execute_result",
          "data": {
            "text/plain": [
              "                                     kalimat       label  labelkelas\n",
              "0                         Ini buku-buku saya      berita           0\n",
              "1             Buku-buku saya merupakan novel      berita           0\n",
              "2   apakah kamu sudah membaca buku-buku itu?  pertanyaan           1\n",
              "3          siapakah pengarang buku tersebut?  pertanyaan           1\n",
              "4      siapa saja yang ada di buku tersebut?  pertanyaan           1\n",
              "5   Saya membeli buku tersebut secara online      berita           0\n",
              "6              Saya suka membaca buku cerita      berita           0\n",
              "7                    Apakah buku kesukaanmu?  pertanyaan           1\n",
              "8     Membeli buku secara online lebih mudah      berita           0\n",
              "9               Buku cerita sangat menghibur      berita           0\n",
              "10             apakah kamu suka buku cerita?  pertanyaan           1"
            ],
            "text/html": [
              "\n",
              "  <div id=\"df-812952bd-8fa1-44b3-9895-448e37a23034\" class=\"colab-df-container\">\n",
              "    <div>\n",
              "<style scoped>\n",
              "    .dataframe tbody tr th:only-of-type {\n",
              "        vertical-align: middle;\n",
              "    }\n",
              "\n",
              "    .dataframe tbody tr th {\n",
              "        vertical-align: top;\n",
              "    }\n",
              "\n",
              "    .dataframe thead th {\n",
              "        text-align: right;\n",
              "    }\n",
              "</style>\n",
              "<table border=\"1\" class=\"dataframe\">\n",
              "  <thead>\n",
              "    <tr style=\"text-align: right;\">\n",
              "      <th></th>\n",
              "      <th>kalimat</th>\n",
              "      <th>label</th>\n",
              "      <th>labelkelas</th>\n",
              "    </tr>\n",
              "  </thead>\n",
              "  <tbody>\n",
              "    <tr>\n",
              "      <th>0</th>\n",
              "      <td>Ini buku-buku saya</td>\n",
              "      <td>berita</td>\n",
              "      <td>0</td>\n",
              "    </tr>\n",
              "    <tr>\n",
              "      <th>1</th>\n",
              "      <td>Buku-buku saya merupakan novel</td>\n",
              "      <td>berita</td>\n",
              "      <td>0</td>\n",
              "    </tr>\n",
              "    <tr>\n",
              "      <th>2</th>\n",
              "      <td>apakah kamu sudah membaca buku-buku itu?</td>\n",
              "      <td>pertanyaan</td>\n",
              "      <td>1</td>\n",
              "    </tr>\n",
              "    <tr>\n",
              "      <th>3</th>\n",
              "      <td>siapakah pengarang buku tersebut?</td>\n",
              "      <td>pertanyaan</td>\n",
              "      <td>1</td>\n",
              "    </tr>\n",
              "    <tr>\n",
              "      <th>4</th>\n",
              "      <td>siapa saja yang ada di buku tersebut?</td>\n",
              "      <td>pertanyaan</td>\n",
              "      <td>1</td>\n",
              "    </tr>\n",
              "    <tr>\n",
              "      <th>5</th>\n",
              "      <td>Saya membeli buku tersebut secara online</td>\n",
              "      <td>berita</td>\n",
              "      <td>0</td>\n",
              "    </tr>\n",
              "    <tr>\n",
              "      <th>6</th>\n",
              "      <td>Saya suka membaca buku cerita</td>\n",
              "      <td>berita</td>\n",
              "      <td>0</td>\n",
              "    </tr>\n",
              "    <tr>\n",
              "      <th>7</th>\n",
              "      <td>Apakah buku kesukaanmu?</td>\n",
              "      <td>pertanyaan</td>\n",
              "      <td>1</td>\n",
              "    </tr>\n",
              "    <tr>\n",
              "      <th>8</th>\n",
              "      <td>Membeli buku secara online lebih mudah</td>\n",
              "      <td>berita</td>\n",
              "      <td>0</td>\n",
              "    </tr>\n",
              "    <tr>\n",
              "      <th>9</th>\n",
              "      <td>Buku cerita sangat menghibur</td>\n",
              "      <td>berita</td>\n",
              "      <td>0</td>\n",
              "    </tr>\n",
              "    <tr>\n",
              "      <th>10</th>\n",
              "      <td>apakah kamu suka buku cerita?</td>\n",
              "      <td>pertanyaan</td>\n",
              "      <td>1</td>\n",
              "    </tr>\n",
              "  </tbody>\n",
              "</table>\n",
              "</div>\n",
              "    <div class=\"colab-df-buttons\">\n",
              "\n",
              "  <div class=\"colab-df-container\">\n",
              "    <button class=\"colab-df-convert\" onclick=\"convertToInteractive('df-812952bd-8fa1-44b3-9895-448e37a23034')\"\n",
              "            title=\"Convert this dataframe to an interactive table.\"\n",
              "            style=\"display:none;\">\n",
              "\n",
              "  <svg xmlns=\"http://www.w3.org/2000/svg\" height=\"24px\" viewBox=\"0 -960 960 960\">\n",
              "    <path d=\"M120-120v-720h720v720H120Zm60-500h600v-160H180v160Zm220 220h160v-160H400v160Zm0 220h160v-160H400v160ZM180-400h160v-160H180v160Zm440 0h160v-160H620v160ZM180-180h160v-160H180v160Zm440 0h160v-160H620v160Z\"/>\n",
              "  </svg>\n",
              "    </button>\n",
              "\n",
              "  <style>\n",
              "    .colab-df-container {\n",
              "      display:flex;\n",
              "      gap: 12px;\n",
              "    }\n",
              "\n",
              "    .colab-df-convert {\n",
              "      background-color: #E8F0FE;\n",
              "      border: none;\n",
              "      border-radius: 50%;\n",
              "      cursor: pointer;\n",
              "      display: none;\n",
              "      fill: #1967D2;\n",
              "      height: 32px;\n",
              "      padding: 0 0 0 0;\n",
              "      width: 32px;\n",
              "    }\n",
              "\n",
              "    .colab-df-convert:hover {\n",
              "      background-color: #E2EBFA;\n",
              "      box-shadow: 0px 1px 2px rgba(60, 64, 67, 0.3), 0px 1px 3px 1px rgba(60, 64, 67, 0.15);\n",
              "      fill: #174EA6;\n",
              "    }\n",
              "\n",
              "    .colab-df-buttons div {\n",
              "      margin-bottom: 4px;\n",
              "    }\n",
              "\n",
              "    [theme=dark] .colab-df-convert {\n",
              "      background-color: #3B4455;\n",
              "      fill: #D2E3FC;\n",
              "    }\n",
              "\n",
              "    [theme=dark] .colab-df-convert:hover {\n",
              "      background-color: #434B5C;\n",
              "      box-shadow: 0px 1px 3px 1px rgba(0, 0, 0, 0.15);\n",
              "      filter: drop-shadow(0px 1px 2px rgba(0, 0, 0, 0.3));\n",
              "      fill: #FFFFFF;\n",
              "    }\n",
              "  </style>\n",
              "\n",
              "    <script>\n",
              "      const buttonEl =\n",
              "        document.querySelector('#df-812952bd-8fa1-44b3-9895-448e37a23034 button.colab-df-convert');\n",
              "      buttonEl.style.display =\n",
              "        google.colab.kernel.accessAllowed ? 'block' : 'none';\n",
              "\n",
              "      async function convertToInteractive(key) {\n",
              "        const element = document.querySelector('#df-812952bd-8fa1-44b3-9895-448e37a23034');\n",
              "        const dataTable =\n",
              "          await google.colab.kernel.invokeFunction('convertToInteractive',\n",
              "                                                    [key], {});\n",
              "        if (!dataTable) return;\n",
              "\n",
              "        const docLinkHtml = 'Like what you see? Visit the ' +\n",
              "          '<a target=\"_blank\" href=https://colab.research.google.com/notebooks/data_table.ipynb>data table notebook</a>'\n",
              "          + ' to learn more about interactive tables.';\n",
              "        element.innerHTML = '';\n",
              "        dataTable['output_type'] = 'display_data';\n",
              "        await google.colab.output.renderOutput(dataTable, element);\n",
              "        const docLink = document.createElement('div');\n",
              "        docLink.innerHTML = docLinkHtml;\n",
              "        element.appendChild(docLink);\n",
              "      }\n",
              "    </script>\n",
              "  </div>\n",
              "\n",
              "\n",
              "<div id=\"df-188a1149-7120-4ca0-b5e8-a049baaff00d\">\n",
              "  <button class=\"colab-df-quickchart\" onclick=\"quickchart('df-188a1149-7120-4ca0-b5e8-a049baaff00d')\"\n",
              "            title=\"Suggest charts\"\n",
              "            style=\"display:none;\">\n",
              "\n",
              "<svg xmlns=\"http://www.w3.org/2000/svg\" height=\"24px\"viewBox=\"0 0 24 24\"\n",
              "     width=\"24px\">\n",
              "    <g>\n",
              "        <path d=\"M19 3H5c-1.1 0-2 .9-2 2v14c0 1.1.9 2 2 2h14c1.1 0 2-.9 2-2V5c0-1.1-.9-2-2-2zM9 17H7v-7h2v7zm4 0h-2V7h2v10zm4 0h-2v-4h2v4z\"/>\n",
              "    </g>\n",
              "</svg>\n",
              "  </button>\n",
              "\n",
              "<style>\n",
              "  .colab-df-quickchart {\n",
              "      --bg-color: #E8F0FE;\n",
              "      --fill-color: #1967D2;\n",
              "      --hover-bg-color: #E2EBFA;\n",
              "      --hover-fill-color: #174EA6;\n",
              "      --disabled-fill-color: #AAA;\n",
              "      --disabled-bg-color: #DDD;\n",
              "  }\n",
              "\n",
              "  [theme=dark] .colab-df-quickchart {\n",
              "      --bg-color: #3B4455;\n",
              "      --fill-color: #D2E3FC;\n",
              "      --hover-bg-color: #434B5C;\n",
              "      --hover-fill-color: #FFFFFF;\n",
              "      --disabled-bg-color: #3B4455;\n",
              "      --disabled-fill-color: #666;\n",
              "  }\n",
              "\n",
              "  .colab-df-quickchart {\n",
              "    background-color: var(--bg-color);\n",
              "    border: none;\n",
              "    border-radius: 50%;\n",
              "    cursor: pointer;\n",
              "    display: none;\n",
              "    fill: var(--fill-color);\n",
              "    height: 32px;\n",
              "    padding: 0;\n",
              "    width: 32px;\n",
              "  }\n",
              "\n",
              "  .colab-df-quickchart:hover {\n",
              "    background-color: var(--hover-bg-color);\n",
              "    box-shadow: 0 1px 2px rgba(60, 64, 67, 0.3), 0 1px 3px 1px rgba(60, 64, 67, 0.15);\n",
              "    fill: var(--button-hover-fill-color);\n",
              "  }\n",
              "\n",
              "  .colab-df-quickchart-complete:disabled,\n",
              "  .colab-df-quickchart-complete:disabled:hover {\n",
              "    background-color: var(--disabled-bg-color);\n",
              "    fill: var(--disabled-fill-color);\n",
              "    box-shadow: none;\n",
              "  }\n",
              "\n",
              "  .colab-df-spinner {\n",
              "    border: 2px solid var(--fill-color);\n",
              "    border-color: transparent;\n",
              "    border-bottom-color: var(--fill-color);\n",
              "    animation:\n",
              "      spin 1s steps(1) infinite;\n",
              "  }\n",
              "\n",
              "  @keyframes spin {\n",
              "    0% {\n",
              "      border-color: transparent;\n",
              "      border-bottom-color: var(--fill-color);\n",
              "      border-left-color: var(--fill-color);\n",
              "    }\n",
              "    20% {\n",
              "      border-color: transparent;\n",
              "      border-left-color: var(--fill-color);\n",
              "      border-top-color: var(--fill-color);\n",
              "    }\n",
              "    30% {\n",
              "      border-color: transparent;\n",
              "      border-left-color: var(--fill-color);\n",
              "      border-top-color: var(--fill-color);\n",
              "      border-right-color: var(--fill-color);\n",
              "    }\n",
              "    40% {\n",
              "      border-color: transparent;\n",
              "      border-right-color: var(--fill-color);\n",
              "      border-top-color: var(--fill-color);\n",
              "    }\n",
              "    60% {\n",
              "      border-color: transparent;\n",
              "      border-right-color: var(--fill-color);\n",
              "    }\n",
              "    80% {\n",
              "      border-color: transparent;\n",
              "      border-right-color: var(--fill-color);\n",
              "      border-bottom-color: var(--fill-color);\n",
              "    }\n",
              "    90% {\n",
              "      border-color: transparent;\n",
              "      border-bottom-color: var(--fill-color);\n",
              "    }\n",
              "  }\n",
              "</style>\n",
              "\n",
              "  <script>\n",
              "    async function quickchart(key) {\n",
              "      const quickchartButtonEl =\n",
              "        document.querySelector('#' + key + ' button');\n",
              "      quickchartButtonEl.disabled = true;  // To prevent multiple clicks.\n",
              "      quickchartButtonEl.classList.add('colab-df-spinner');\n",
              "      try {\n",
              "        const charts = await google.colab.kernel.invokeFunction(\n",
              "            'suggestCharts', [key], {});\n",
              "      } catch (error) {\n",
              "        console.error('Error during call to suggestCharts:', error);\n",
              "      }\n",
              "      quickchartButtonEl.classList.remove('colab-df-spinner');\n",
              "      quickchartButtonEl.classList.add('colab-df-quickchart-complete');\n",
              "    }\n",
              "    (() => {\n",
              "      let quickchartButtonEl =\n",
              "        document.querySelector('#df-188a1149-7120-4ca0-b5e8-a049baaff00d button');\n",
              "      quickchartButtonEl.style.display =\n",
              "        google.colab.kernel.accessAllowed ? 'block' : 'none';\n",
              "    })();\n",
              "  </script>\n",
              "</div>\n",
              "\n",
              "  <div id=\"id_10ab5e3e-d130-4ed4-b1b5-4b4b22797fa4\">\n",
              "    <style>\n",
              "      .colab-df-generate {\n",
              "        background-color: #E8F0FE;\n",
              "        border: none;\n",
              "        border-radius: 50%;\n",
              "        cursor: pointer;\n",
              "        display: none;\n",
              "        fill: #1967D2;\n",
              "        height: 32px;\n",
              "        padding: 0 0 0 0;\n",
              "        width: 32px;\n",
              "      }\n",
              "\n",
              "      .colab-df-generate:hover {\n",
              "        background-color: #E2EBFA;\n",
              "        box-shadow: 0px 1px 2px rgba(60, 64, 67, 0.3), 0px 1px 3px 1px rgba(60, 64, 67, 0.15);\n",
              "        fill: #174EA6;\n",
              "      }\n",
              "\n",
              "      [theme=dark] .colab-df-generate {\n",
              "        background-color: #3B4455;\n",
              "        fill: #D2E3FC;\n",
              "      }\n",
              "\n",
              "      [theme=dark] .colab-df-generate:hover {\n",
              "        background-color: #434B5C;\n",
              "        box-shadow: 0px 1px 3px 1px rgba(0, 0, 0, 0.15);\n",
              "        filter: drop-shadow(0px 1px 2px rgba(0, 0, 0, 0.3));\n",
              "        fill: #FFFFFF;\n",
              "      }\n",
              "    </style>\n",
              "    <button class=\"colab-df-generate\" onclick=\"generateWithVariable('training_data')\"\n",
              "            title=\"Generate code using this dataframe.\"\n",
              "            style=\"display:none;\">\n",
              "\n",
              "  <svg xmlns=\"http://www.w3.org/2000/svg\" height=\"24px\"viewBox=\"0 0 24 24\"\n",
              "       width=\"24px\">\n",
              "    <path d=\"M7,19H8.4L18.45,9,17,7.55,7,17.6ZM5,21V16.75L18.45,3.32a2,2,0,0,1,2.83,0l1.4,1.43a1.91,1.91,0,0,1,.58,1.4,1.91,1.91,0,0,1-.58,1.4L9.25,21ZM18.45,9,17,7.55Zm-12,3A5.31,5.31,0,0,0,4.9,8.1,5.31,5.31,0,0,0,1,6.5,5.31,5.31,0,0,0,4.9,4.9,5.31,5.31,0,0,0,6.5,1,5.31,5.31,0,0,0,8.1,4.9,5.31,5.31,0,0,0,12,6.5,5.46,5.46,0,0,0,6.5,12Z\"/>\n",
              "  </svg>\n",
              "    </button>\n",
              "    <script>\n",
              "      (() => {\n",
              "      const buttonEl =\n",
              "        document.querySelector('#id_10ab5e3e-d130-4ed4-b1b5-4b4b22797fa4 button.colab-df-generate');\n",
              "      buttonEl.style.display =\n",
              "        google.colab.kernel.accessAllowed ? 'block' : 'none';\n",
              "\n",
              "      buttonEl.onclick = () => {\n",
              "        google.colab.notebook.generateWithVariable('training_data');\n",
              "      }\n",
              "      })();\n",
              "    </script>\n",
              "  </div>\n",
              "\n",
              "    </div>\n",
              "  </div>\n"
            ],
            "application/vnd.google.colaboratory.intrinsic+json": {
              "type": "dataframe",
              "variable_name": "training_data",
              "summary": "{\n  \"name\": \"training_data\",\n  \"rows\": 11,\n  \"fields\": [\n    {\n      \"column\": \"kalimat\",\n      \"properties\": {\n        \"dtype\": \"string\",\n        \"num_unique_values\": 11,\n        \"samples\": [\n          \"Saya membeli buku tersebut secara online\",\n          \"Ini buku-buku saya\",\n          \"Buku cerita sangat menghibur\"\n        ],\n        \"semantic_type\": \"\",\n        \"description\": \"\"\n      }\n    },\n    {\n      \"column\": \"label\",\n      \"properties\": {\n        \"dtype\": \"category\",\n        \"num_unique_values\": 2,\n        \"samples\": [\n          \"pertanyaan\",\n          \"berita\"\n        ],\n        \"semantic_type\": \"\",\n        \"description\": \"\"\n      }\n    },\n    {\n      \"column\": \"labelkelas\",\n      \"properties\": {\n        \"dtype\": \"number\",\n        \"std\": 0,\n        \"min\": 0,\n        \"max\": 1,\n        \"num_unique_values\": 2,\n        \"samples\": [\n          1,\n          0\n        ],\n        \"semantic_type\": \"\",\n        \"description\": \"\"\n      }\n    }\n  ]\n}"
            }
          },
          "metadata": {},
          "execution_count": 34
        }
      ]
    },
    {
      "cell_type": "code",
      "source": [
        "#memecah data test 30% dari keseluruhan data\n",
        "from sklearn.model_selection import train_test_split\n",
        "X_train, X_test, y_train, y_test = train_test_split(training_data['kalimat'], training_data['labelkelas'], test_size = 0.3,random_state=0)\n"
      ],
      "metadata": {
        "execution": {
          "iopub.status.busy": "2021-11-15T13:21:44.741075Z",
          "iopub.execute_input": "2021-11-15T13:21:44.741613Z",
          "iopub.status.idle": "2021-11-15T13:21:45.698288Z",
          "shell.execute_reply.started": "2021-11-15T13:21:44.741579Z",
          "shell.execute_reply": "2021-11-15T13:21:45.697054Z"
        },
        "trusted": true,
        "id": "rwePSOuHaX4t"
      },
      "execution_count": null,
      "outputs": []
    },
    {
      "cell_type": "code",
      "source": [
        "X_train"
      ],
      "metadata": {
        "execution": {
          "iopub.status.busy": "2021-11-15T13:22:19.963336Z",
          "iopub.execute_input": "2021-11-15T13:22:19.963693Z",
          "iopub.status.idle": "2021-11-15T13:22:19.971094Z",
          "shell.execute_reply.started": "2021-11-15T13:22:19.963661Z",
          "shell.execute_reply": "2021-11-15T13:22:19.969861Z"
        },
        "trusted": true,
        "id": "MBP9SBo2aX4t"
      },
      "execution_count": null,
      "outputs": []
    },
    {
      "cell_type": "code",
      "source": [
        "y_train"
      ],
      "metadata": {
        "execution": {
          "iopub.status.busy": "2021-11-15T13:22:54.090193Z",
          "iopub.execute_input": "2021-11-15T13:22:54.090827Z",
          "iopub.status.idle": "2021-11-15T13:22:54.097111Z",
          "shell.execute_reply.started": "2021-11-15T13:22:54.090789Z",
          "shell.execute_reply": "2021-11-15T13:22:54.096406Z"
        },
        "trusted": true,
        "id": "bD7p0PmCaX4t"
      },
      "execution_count": null,
      "outputs": []
    },
    {
      "cell_type": "raw",
      "source": [],
      "metadata": {
        "id": "Nh3uJPgEaX4t"
      }
    },
    {
      "cell_type": "code",
      "source": [
        "#mengubah menjadi vector term\n",
        "from sklearn.feature_extraction.text import CountVectorizer\n",
        "cv = CountVectorizer()\n",
        "X_train_cv = cv.fit_transform(X_train)\n",
        "X_test_cv = cv.transform(X_test)\n"
      ],
      "metadata": {
        "execution": {
          "iopub.status.busy": "2021-11-15T13:23:40.509513Z",
          "iopub.execute_input": "2021-11-15T13:23:40.510042Z",
          "iopub.status.idle": "2021-11-15T13:23:40.540988Z",
          "shell.execute_reply.started": "2021-11-15T13:23:40.510002Z",
          "shell.execute_reply": "2021-11-15T13:23:40.539858Z"
        },
        "trusted": true,
        "id": "xnJ7SnhCaX4t"
      },
      "execution_count": null,
      "outputs": []
    },
    {
      "cell_type": "code",
      "source": [
        "X_test_cv[1:1]"
      ],
      "metadata": {
        "execution": {
          "iopub.status.busy": "2021-11-15T13:24:44.154888Z",
          "iopub.execute_input": "2021-11-15T13:24:44.15555Z",
          "iopub.status.idle": "2021-11-15T13:24:44.162942Z",
          "shell.execute_reply.started": "2021-11-15T13:24:44.155509Z",
          "shell.execute_reply": "2021-11-15T13:24:44.161761Z"
        },
        "trusted": true,
        "id": "vSmWxyl1aX4t"
      },
      "execution_count": null,
      "outputs": []
    },
    {
      "cell_type": "code",
      "source": [
        "#pembuatan model KNN\n",
        "from sklearn.neighbors import KNeighborsClassifier\n",
        "classifier = KNeighborsClassifier(n_neighbors=3)\n",
        "classifier.fit(X_train_cv, y_train)\n",
        "#prediksi menggunakan data test\n",
        "y_pred = classifier.predict(X_test_cv)\n",
        "#menghitung confusion matrix\n",
        "from sklearn.metrics import classification_report, confusion_matrix\n",
        "print(confusion_matrix(y_test, y_pred))\n",
        "print(classification_report(y_test, y_pred))\n"
      ],
      "metadata": {
        "execution": {
          "iopub.status.busy": "2021-11-15T13:26:01.670932Z",
          "iopub.execute_input": "2021-11-15T13:26:01.671359Z",
          "iopub.status.idle": "2021-11-15T13:26:01.86014Z",
          "shell.execute_reply.started": "2021-11-15T13:26:01.671324Z",
          "shell.execute_reply": "2021-11-15T13:26:01.859166Z"
        },
        "trusted": true,
        "id": "_urtxVH4aX4t"
      },
      "execution_count": null,
      "outputs": []
    },
    {
      "cell_type": "code",
      "source": [
        "y_test"
      ],
      "metadata": {
        "execution": {
          "iopub.status.busy": "2021-11-15T13:27:37.57658Z",
          "iopub.execute_input": "2021-11-15T13:27:37.577024Z",
          "iopub.status.idle": "2021-11-15T13:27:37.585912Z",
          "shell.execute_reply.started": "2021-11-15T13:27:37.57698Z",
          "shell.execute_reply": "2021-11-15T13:27:37.584444Z"
        },
        "trusted": true,
        "id": "BDjahIP6aX4t"
      },
      "execution_count": null,
      "outputs": []
    },
    {
      "cell_type": "code",
      "source": [
        "y_pred"
      ],
      "metadata": {
        "execution": {
          "iopub.status.busy": "2021-11-15T13:27:53.052776Z",
          "iopub.execute_input": "2021-11-15T13:27:53.05318Z",
          "iopub.status.idle": "2021-11-15T13:27:53.059974Z",
          "shell.execute_reply.started": "2021-11-15T13:27:53.053148Z",
          "shell.execute_reply": "2021-11-15T13:27:53.059093Z"
        },
        "trusted": true,
        "id": "FraLtm9KaX4t"
      },
      "execution_count": null,
      "outputs": []
    },
    {
      "cell_type": "code",
      "source": [
        "from sklearn.metrics import accuracy_score, precision_score, recall_score\n",
        "print('Accuracy score: ', accuracy_score(y_test, y_pred))\n",
        "print('Precision score: ', precision_score(y_test, y_pred))\n",
        "print('Recall score: ', recall_score(y_test, y_pred))"
      ],
      "metadata": {
        "execution": {
          "iopub.status.busy": "2021-11-15T13:29:59.336062Z",
          "iopub.execute_input": "2021-11-15T13:29:59.336727Z",
          "iopub.status.idle": "2021-11-15T13:29:59.349998Z",
          "shell.execute_reply.started": "2021-11-15T13:29:59.336663Z",
          "shell.execute_reply": "2021-11-15T13:29:59.348678Z"
        },
        "trusted": true,
        "id": "l3uasfwqaX4u"
      },
      "execution_count": null,
      "outputs": []
    },
    {
      "cell_type": "code",
      "source": [
        "from sklearn.metrics import confusion_matrix\n",
        "import matplotlib.pyplot as plt\n",
        "import seaborn as sns\n",
        "cm = confusion_matrix(y_test,y_pred)\n",
        "sns.heatmap(cm, square=True, annot=True, cmap='RdBu', cbar=False,\n",
        "xticklabels=['pertanyaan', 'berita'], yticklabels=['pertanyaan', 'berita'])\n",
        "plt.xlabel('true label')\n",
        "plt.ylabel('predicted label')"
      ],
      "metadata": {
        "execution": {
          "iopub.status.busy": "2021-11-15T13:30:10.062334Z",
          "iopub.execute_input": "2021-11-15T13:30:10.062864Z",
          "iopub.status.idle": "2021-11-15T13:30:10.350097Z",
          "shell.execute_reply.started": "2021-11-15T13:30:10.06283Z",
          "shell.execute_reply": "2021-11-15T13:30:10.348937Z"
        },
        "trusted": true,
        "id": "-VSzvWaAaX4u"
      },
      "execution_count": null,
      "outputs": []
    },
    {
      "cell_type": "code",
      "source": [
        "from sklearn.tree import DecisionTreeClassifier\n",
        "\n",
        "max_accuracy = 0\n",
        "\n",
        "\n",
        "for x in range(20):\n",
        "    dt = DecisionTreeClassifier(random_state=x)\n",
        "    dt.fit(X_train_cv,y_train)\n",
        "    Y_pred_dt = dt.predict(X_test_cv)\n",
        "    current_accuracy = round(accuracy_score(Y_pred_dt,y_test)*100,2)\n",
        "    if(current_accuracy>max_accuracy):\n",
        "        max_accuracy = current_accuracy\n",
        "        best_x = x\n",
        "\n",
        "print(max_accuracy)\n",
        "print(best_x)\n",
        "\n",
        "\n",
        "dt = DecisionTreeClassifier(random_state=best_x)\n",
        "dt.fit(X_train_cv,y_train)\n",
        "Y_pred_dt = dt.predict(X_test_cv)"
      ],
      "metadata": {
        "execution": {
          "iopub.status.busy": "2021-09-12T06:10:38.759059Z",
          "iopub.execute_input": "2021-09-12T06:10:38.75939Z",
          "iopub.status.idle": "2021-09-12T06:10:38.83166Z",
          "shell.execute_reply.started": "2021-09-12T06:10:38.759362Z",
          "shell.execute_reply": "2021-09-12T06:10:38.830003Z"
        },
        "trusted": true,
        "id": "m09vqQoaaX4u"
      },
      "execution_count": null,
      "outputs": []
    },
    {
      "cell_type": "code",
      "source": [
        "from sklearn.metrics import classification_report, confusion_matrix\n",
        "print(confusion_matrix(y_test, Y_pred_dt))\n",
        "print(classification_report(y_test, Y_pred_dt))"
      ],
      "metadata": {
        "execution": {
          "iopub.status.busy": "2021-09-12T06:12:20.100839Z",
          "iopub.execute_input": "2021-09-12T06:12:20.101179Z",
          "iopub.status.idle": "2021-09-12T06:12:20.117543Z",
          "shell.execute_reply.started": "2021-09-12T06:12:20.101143Z",
          "shell.execute_reply": "2021-09-12T06:12:20.116015Z"
        },
        "trusted": true,
        "id": "jeEWAdACaX4u"
      },
      "execution_count": null,
      "outputs": []
    },
    {
      "cell_type": "code",
      "source": [
        "from sklearn.metrics import confusion_matrix\n",
        "import matplotlib.pyplot as plt\n",
        "import seaborn as sns\n",
        "cm = confusion_matrix(y_test,Y_pred_dt)\n",
        "sns.heatmap(cm, square=True, annot=True, cmap='RdBu', cbar=False,\n",
        "xticklabels=['pertanyaan', 'berita'], yticklabels=['pertanyaan', 'berita'])\n",
        "plt.xlabel('true label')\n",
        "plt.ylabel('predicted label')"
      ],
      "metadata": {
        "execution": {
          "iopub.status.busy": "2021-09-12T06:13:29.954023Z",
          "iopub.execute_input": "2021-09-12T06:13:29.954367Z",
          "iopub.status.idle": "2021-09-12T06:13:30.040425Z",
          "shell.execute_reply.started": "2021-09-12T06:13:29.954338Z",
          "shell.execute_reply": "2021-09-12T06:13:30.039071Z"
        },
        "trusted": true,
        "id": "X3sPpJvraX4u"
      },
      "execution_count": null,
      "outputs": []
    },
    {
      "cell_type": "code",
      "source": [
        "import pandas as pd\n",
        "\n",
        "columns = ['sent', 'class']\n",
        "rows = []\n",
        "\n",
        "rows = [['This is my book', 'stmt'],\n",
        "        ['They are novels', 'stmt'],\n",
        "        ['have you read this book', 'question'],\n",
        "        ['who is the author', 'question'],\n",
        "        ['what are the characters', 'question'],\n",
        "        ['This is how I bought the book', 'stmt'],\n",
        "        ['I like fictions', 'stmt'],\n",
        "        ['what is your favorite book', 'question'],\n",
        "       ['This is how I bought the book', 'stmt'],\n",
        "        ['I like fictions', 'stmt'],\n",
        "        ['what is your favorite book', 'question']]\n",
        "\n",
        "training_data = pd.DataFrame(rows, columns=columns)\n",
        "training_data"
      ],
      "metadata": {
        "execution": {
          "iopub.status.busy": "2021-08-21T12:48:44.368716Z",
          "iopub.execute_input": "2021-08-21T12:48:44.369203Z",
          "iopub.status.idle": "2021-08-21T12:48:44.400686Z",
          "shell.execute_reply.started": "2021-08-21T12:48:44.36917Z",
          "shell.execute_reply": "2021-08-21T12:48:44.399873Z"
        },
        "trusted": true,
        "id": "giF7zB4laX4u"
      },
      "execution_count": null,
      "outputs": []
    },
    {
      "cell_type": "code",
      "source": [
        "training_data['label'] = training_data['class'].apply(lambda x: 0 if x=='stmt' else 1)\n",
        "training_data"
      ],
      "metadata": {
        "execution": {
          "iopub.status.busy": "2021-08-21T12:50:47.104228Z",
          "iopub.execute_input": "2021-08-21T12:50:47.104693Z",
          "iopub.status.idle": "2021-08-21T12:50:47.122259Z",
          "shell.execute_reply.started": "2021-08-21T12:50:47.104655Z",
          "shell.execute_reply": "2021-08-21T12:50:47.121272Z"
        },
        "trusted": true,
        "id": "VLt0LLFGaX4v"
      },
      "execution_count": null,
      "outputs": []
    },
    {
      "cell_type": "code",
      "source": [
        "from sklearn.model_selection import train_test_split\n",
        "X_train, X_test, y_train, y_test = train_test_split(training_data['sent'], training_data['label'], test_size = 0.3,random_state=0)"
      ],
      "metadata": {
        "execution": {
          "iopub.status.busy": "2021-08-21T12:50:54.132642Z",
          "iopub.execute_input": "2021-08-21T12:50:54.133098Z",
          "iopub.status.idle": "2021-08-21T12:50:55.179331Z",
          "shell.execute_reply.started": "2021-08-21T12:50:54.133059Z",
          "shell.execute_reply": "2021-08-21T12:50:55.178386Z"
        },
        "trusted": true,
        "id": "5-dC6Ot_aX4v"
      },
      "execution_count": null,
      "outputs": []
    },
    {
      "cell_type": "code",
      "source": [
        "from sklearn.feature_extraction.text import CountVectorizer\n",
        "cv = CountVectorizer()\n",
        "X_train_cv = cv.fit_transform(X_train)\n",
        "X_test_cv = cv.transform(X_test)"
      ],
      "metadata": {
        "execution": {
          "iopub.status.busy": "2021-08-21T12:50:59.804137Z",
          "iopub.execute_input": "2021-08-21T12:50:59.804839Z",
          "iopub.status.idle": "2021-08-21T12:50:59.830623Z",
          "shell.execute_reply.started": "2021-08-21T12:50:59.804779Z",
          "shell.execute_reply": "2021-08-21T12:50:59.829204Z"
        },
        "trusted": true,
        "id": "7pzPWUzuaX42"
      },
      "execution_count": null,
      "outputs": []
    },
    {
      "cell_type": "code",
      "source": [
        "from sklearn.preprocessing import StandardScaler\n",
        "scaler = StandardScaler()\n",
        "scaler.fit(X_train_cv)\n",
        "X_train_cv = scaler.transform(X_train_cv)\n",
        "X_test_cv = scaler.transform(X_test_cv)"
      ],
      "metadata": {
        "execution": {
          "iopub.status.busy": "2021-08-21T12:51:09.491105Z",
          "iopub.execute_input": "2021-08-21T12:51:09.491537Z",
          "iopub.status.idle": "2021-08-21T12:51:09.57355Z",
          "shell.execute_reply.started": "2021-08-21T12:51:09.491503Z",
          "shell.execute_reply": "2021-08-21T12:51:09.572162Z"
        },
        "trusted": true,
        "id": "0C-Dq2UjaX42"
      },
      "execution_count": null,
      "outputs": []
    },
    {
      "cell_type": "code",
      "source": [
        "word_freq = pd.DataFrame(X_train_cv.toarray(), columns=cv.get_feature_names())\n",
        "top_words_df = pd.DataFrame(word_freq.sum()).sort_values(0, ascending=False)"
      ],
      "metadata": {
        "execution": {
          "iopub.status.busy": "2021-08-21T13:04:22.741158Z",
          "iopub.execute_input": "2021-08-21T13:04:22.741568Z",
          "iopub.status.idle": "2021-08-21T13:04:22.750689Z",
          "shell.execute_reply.started": "2021-08-21T13:04:22.741533Z",
          "shell.execute_reply": "2021-08-21T13:04:22.749236Z"
        },
        "trusted": true,
        "id": "o54Ep_x6aX42"
      },
      "execution_count": null,
      "outputs": []
    },
    {
      "cell_type": "code",
      "source": [
        "from sklearn.naive_bayes import MultinomialNB\n",
        "naive_bayes = MultinomialNB()\n",
        "naive_bayes.fit(X_train_cv, y_train)\n",
        "predictions = naive_bayes.predict(X_test_cv)"
      ],
      "metadata": {
        "execution": {
          "iopub.status.busy": "2021-09-12T06:39:45.072595Z",
          "iopub.execute_input": "2021-09-12T06:39:45.073028Z",
          "iopub.status.idle": "2021-09-12T06:39:45.086216Z",
          "shell.execute_reply.started": "2021-09-12T06:39:45.072996Z",
          "shell.execute_reply": "2021-09-12T06:39:45.084982Z"
        },
        "trusted": true,
        "id": "mcOTuu0LaX42"
      },
      "execution_count": null,
      "outputs": []
    },
    {
      "cell_type": "code",
      "source": [
        "from sklearn.metrics import accuracy_score, precision_score, recall_score\n",
        "print('Accuracy score: ', accuracy_score(y_test, predictions))\n",
        "print('Precision score: ', precision_score(y_test, predictions))\n",
        "print('Recall score: ', recall_score(y_test, predictions))"
      ],
      "metadata": {
        "execution": {
          "iopub.status.busy": "2021-09-12T06:39:59.987317Z",
          "iopub.execute_input": "2021-09-12T06:39:59.987707Z",
          "iopub.status.idle": "2021-09-12T06:40:00.006826Z",
          "shell.execute_reply.started": "2021-09-12T06:39:59.987677Z",
          "shell.execute_reply": "2021-09-12T06:40:00.006031Z"
        },
        "trusted": true,
        "id": "800cfenFaX42"
      },
      "execution_count": null,
      "outputs": []
    },
    {
      "cell_type": "code",
      "source": [
        "from sklearn.metrics import confusion_matrix\n",
        "import matplotlib.pyplot as plt\n",
        "import seaborn as sns\n",
        "cm = confusion_matrix(y_test, predictions)\n",
        "sns.heatmap(cm, square=True, annot=True, cmap='RdBu', cbar=False,\n",
        "xticklabels=['pertanyaan', 'berita'], yticklabels=['pertanyaan', 'berita'])\n",
        "plt.xlabel('true label')\n",
        "plt.ylabel('predicted label')"
      ],
      "metadata": {
        "execution": {
          "iopub.status.busy": "2021-09-12T06:40:49.285175Z",
          "iopub.execute_input": "2021-09-12T06:40:49.285767Z",
          "iopub.status.idle": "2021-09-12T06:40:49.371515Z",
          "shell.execute_reply.started": "2021-09-12T06:40:49.285733Z",
          "shell.execute_reply": "2021-09-12T06:40:49.370708Z"
        },
        "trusted": true,
        "id": "pEQDKy6QaX42"
      },
      "execution_count": null,
      "outputs": []
    },
    {
      "cell_type": "code",
      "source": [
        "from sklearn.neighbors import KNeighborsClassifier\n",
        "classifier = KNeighborsClassifier(n_neighbors=5)\n",
        "classifier.fit(X_train_cv, y_train)"
      ],
      "metadata": {
        "execution": {
          "iopub.status.busy": "2021-08-21T12:56:59.083339Z",
          "iopub.execute_input": "2021-08-21T12:56:59.083786Z",
          "iopub.status.idle": "2021-08-21T12:56:59.239226Z",
          "shell.execute_reply.started": "2021-08-21T12:56:59.08375Z",
          "shell.execute_reply": "2021-08-21T12:56:59.237964Z"
        },
        "trusted": true,
        "id": "TVtWExrjaX42"
      },
      "execution_count": null,
      "outputs": []
    },
    {
      "cell_type": "code",
      "source": [
        "y_pred = classifier.predict(X_test_cv)"
      ],
      "metadata": {
        "execution": {
          "iopub.status.busy": "2021-08-21T13:17:37.599546Z",
          "iopub.execute_input": "2021-08-21T13:17:37.600141Z",
          "iopub.status.idle": "2021-08-21T13:17:37.607502Z",
          "shell.execute_reply.started": "2021-08-21T13:17:37.600103Z",
          "shell.execute_reply": "2021-08-21T13:17:37.606273Z"
        },
        "trusted": true,
        "id": "e0G2WTMeaX43"
      },
      "execution_count": null,
      "outputs": []
    },
    {
      "cell_type": "code",
      "source": [],
      "metadata": {
        "execution": {
          "iopub.status.busy": "2021-08-21T13:17:41.209833Z",
          "iopub.execute_input": "2021-08-21T13:17:41.210379Z",
          "iopub.status.idle": "2021-08-21T13:17:41.241703Z",
          "shell.execute_reply.started": "2021-08-21T13:17:41.210343Z",
          "shell.execute_reply": "2021-08-21T13:17:41.239858Z"
        },
        "trusted": true,
        "id": "JH5Fr2FUaX43"
      },
      "execution_count": null,
      "outputs": []
    },
    {
      "cell_type": "code",
      "source": [
        "from sklearn.metrics import classification_report, confusion_matrix\n",
        "print(confusion_matrix(y_test, y_pred))\n",
        "print(classification_report(y_test, y_pred))"
      ],
      "metadata": {
        "execution": {
          "iopub.status.busy": "2021-08-21T13:20:46.025427Z",
          "iopub.execute_input": "2021-08-21T13:20:46.025838Z",
          "iopub.status.idle": "2021-08-21T13:20:46.039029Z",
          "shell.execute_reply.started": "2021-08-21T13:20:46.025806Z",
          "shell.execute_reply": "2021-08-21T13:20:46.038265Z"
        },
        "trusted": true,
        "id": "gHstto7raX43"
      },
      "execution_count": null,
      "outputs": []
    },
    {
      "cell_type": "code",
      "source": [
        "from sklearn.linear_model import LogisticRegression\n",
        "\n",
        "lr = LogisticRegression()\n",
        "\n",
        "lr.fit(X_train_cv,y_train)\n",
        "\n",
        "Y_pred_lr = lr.predict(X_test_cv)"
      ],
      "metadata": {
        "trusted": true,
        "id": "i_VFqdFGaX43"
      },
      "execution_count": null,
      "outputs": []
    },
    {
      "cell_type": "code",
      "source": [
        "score_lr = round(accuracy_score(Y_pred_lr,y_test)*100,2)\n",
        "\n",
        "print(\"The accuracy score achieved using Logistic Regression is: \"+str(score_lr)+\" %\")"
      ],
      "metadata": {
        "trusted": true,
        "id": "c-s2UfOtaX43"
      },
      "execution_count": null,
      "outputs": []
    },
    {
      "cell_type": "code",
      "source": [],
      "metadata": {
        "trusted": true,
        "id": "pP6CqJEAaX43"
      },
      "execution_count": null,
      "outputs": []
    },
    {
      "cell_type": "code",
      "source": [
        "from sklearn import svm\n",
        "\n",
        "sv = svm.SVC(kernel='linear')\n",
        "\n",
        "sv.fit(X_train_cv, y_train)"
      ],
      "metadata": {
        "trusted": true,
        "id": "CPwhScbGaX43"
      },
      "execution_count": null,
      "outputs": []
    },
    {
      "cell_type": "code",
      "source": [
        "Y_pred_svm = sv.predict(X_test_cv)\n",
        "score_svm = round(accuracy_score(Y_pred_svm,y_test)*100,2)\n",
        "\n",
        "print(\"The accuracy score achieved using Linear SVM is: \"+str(score_svm)+\" %\")"
      ],
      "metadata": {
        "trusted": true,
        "id": "apNaId9BaX43"
      },
      "execution_count": null,
      "outputs": []
    },
    {
      "cell_type": "code",
      "source": [
        "Y_pred_svm.shape"
      ],
      "metadata": {
        "trusted": true,
        "id": "jWQrXdNMaX44"
      },
      "execution_count": null,
      "outputs": []
    },
    {
      "cell_type": "code",
      "source": [
        "from sklearn.tree import DecisionTreeClassifier\n",
        "\n",
        "max_accuracy = 0\n",
        "\n",
        "\n",
        "for x in range(20):\n",
        "    dt = DecisionTreeClassifier(random_state=x)\n",
        "    dt.fit(X_train_cv,y_train)\n",
        "    Y_pred_dt = dt.predict(X_test_cv)\n",
        "    current_accuracy = round(accuracy_score(Y_pred_dt,y_test)*100,2)\n",
        "    if(current_accuracy>max_accuracy):\n",
        "        max_accuracy = current_accuracy\n",
        "        best_x = x\n",
        "\n",
        "print(max_accuracy)\n",
        "print(best_x)\n",
        "\n",
        "\n",
        "dt = DecisionTreeClassifier(random_state=best_x)\n",
        "dt.fit(X_train_cv,y_train)\n",
        "Y_pred_dt = dt.predict(X_test_cv)"
      ],
      "metadata": {
        "execution": {
          "iopub.status.busy": "2021-09-12T05:03:36.239614Z",
          "iopub.execute_input": "2021-09-12T05:03:36.240109Z",
          "iopub.status.idle": "2021-09-12T05:03:36.353083Z",
          "shell.execute_reply.started": "2021-09-12T05:03:36.24007Z",
          "shell.execute_reply": "2021-09-12T05:03:36.351032Z"
        },
        "trusted": true,
        "id": "GSJ7CoovaX44"
      },
      "execution_count": null,
      "outputs": []
    },
    {
      "cell_type": "code",
      "source": [
        "score_dt = round(accuracy_score(Y_pred_dt,y_test)*100,2)\n",
        "\n",
        "print(\"The accuracy score achieved using Decision Tree is: \"+str(score_dt)+\" %\")"
      ],
      "metadata": {
        "trusted": true,
        "id": "1APdVcm9aX44"
      },
      "execution_count": null,
      "outputs": []
    },
    {
      "cell_type": "code",
      "source": [
        "from sklearn.ensemble import RandomForestClassifier\n",
        "max_accuracy = 0\n",
        "for x in range(20):\n",
        "    rf = RandomForestClassifier(random_state=x)\n",
        "    rf.fit(X_train_cv,y_train)\n",
        "    Y_pred_rf = rf.predict(X_test_cv)\n",
        "    current_accuracy = round(accuracy_score(Y_pred_rf,y_test)*100,2)\n",
        "    if(current_accuracy>max_accuracy):\n",
        "        max_accuracy = current_accuracy\n",
        "        best_x = x\n",
        "\n",
        "print(max_accuracy)\n",
        "print(best_x)\n",
        "\n",
        "rf = RandomForestClassifier(random_state=best_x)\n",
        "rf.fit(X_train_cv,y_train)\n",
        "Y_pred_rf = rf.predict(X_test_cv)"
      ],
      "metadata": {
        "trusted": true,
        "id": "5ZpbycrjaX44"
      },
      "execution_count": null,
      "outputs": []
    },
    {
      "cell_type": "code",
      "source": [
        "score_rf = round(accuracy_score(Y_pred_rf,y_test)*100,2)\n",
        "\n",
        "print(\"The accuracy score achieved using Decision Tree is: \"+str(score_rf)+\" %\")"
      ],
      "metadata": {
        "trusted": true,
        "id": "45sMkS5GaX44"
      },
      "execution_count": null,
      "outputs": []
    },
    {
      "cell_type": "code",
      "source": [
        "import xgboost as xgb\n",
        "\n",
        "xgb_model = xgb.XGBClassifier(objective=\"binary:logistic\", random_state=42)\n",
        "xgb_model.fit(X_train_cv, y_train)\n",
        "\n",
        "Y_pred_xgb = xgb_model.predict(X_test_cv)"
      ],
      "metadata": {
        "trusted": true,
        "id": "Rxif0690aX44"
      },
      "execution_count": null,
      "outputs": []
    },
    {
      "cell_type": "code",
      "source": [
        "score_xgb = round(accuracy_score(Y_pred_xgb,y_test)*100,2)\n",
        "\n",
        "print(\"The accuracy score achieved using XGBoost is: \"+str(score_xgb)+\" %\")"
      ],
      "metadata": {
        "trusted": true,
        "id": "VYkjel1uaX44"
      },
      "execution_count": null,
      "outputs": []
    },
    {
      "cell_type": "code",
      "source": [
        "scores = [score_lr,score_dt,score_rf,score_xgb]\n",
        "algorithms = [\"Logistic Regression\",\"Naive Bayes\",\"Support Vector Machine\",\"K-Nearest Neighbors\",\"Decision Tree\",\"Random Forest\",\"XGBoost\"]\n",
        "\n",
        "for i in range(len(algorithms)):\n",
        "    print(\"The accuracy score achieved using \"+algorithms[i]+\" is: \"+str(scores[i])+\" %\")"
      ],
      "metadata": {
        "trusted": true,
        "id": "DK_DqKutaX44"
      },
      "execution_count": null,
      "outputs": []
    },
    {
      "cell_type": "code",
      "source": [
        "sns.set(rc={'figure.figsize':(15,7)})\n",
        "plt.xlabel(\"Algorithms\")\n",
        "plt.ylabel(\"Accuracy score\")"
      ],
      "metadata": {
        "trusted": true,
        "id": "Am3EYlwZaX45"
      },
      "execution_count": null,
      "outputs": []
    },
    {
      "cell_type": "code",
      "source": [
        "import numpy as np\n",
        "import pandas as pd\n",
        "\n",
        "# for performing text clustering\n",
        "from sklearn.feature_extraction.text import TfidfVectorizer\n",
        "from sklearn.cluster import KMeans\n",
        "from sklearn.metrics import adjusted_rand_score\n",
        "\n",
        "# for providing the path\n",
        "import os\n",
        "print(os.listdir('../input/'))\n",
        "\n",
        "# for visualization\n",
        "import matplotlib.pyplot as plt\n",
        "import seaborn as sns\n",
        "plt.style.use('fivethirtyeight')"
      ],
      "metadata": {
        "trusted": true,
        "id": "C4-jtFwmaX45"
      },
      "execution_count": null,
      "outputs": []
    },
    {
      "cell_type": "code",
      "source": [
        "import pandas as pd\n",
        "\n",
        "columns = ['sent', 'class']\n",
        "rows = []\n",
        "\n",
        "rows = [['This is my book', 'stmt'],\n",
        "        ['They are novels', 'stmt'],\n",
        "        ['have you read this book', 'question'],\n",
        "        ['who is the author', 'question'],\n",
        "        ['what are the characters', 'question'],\n",
        "        ['This is how I bought the book', 'stmt'],\n",
        "        ['I like fictions', 'stmt'],\n",
        "        ['what is your favorite book', 'question'],\n",
        "       ['This is how I bought the book', 'stmt'],\n",
        "        ['I like fictions', 'stmt'],\n",
        "        ['what is your favorite book', 'question']]\n",
        "\n",
        "training_data = pd.DataFrame(rows, columns=columns)\n",
        "training_data"
      ],
      "metadata": {
        "execution": {
          "iopub.status.busy": "2021-08-21T13:41:39.849575Z",
          "iopub.execute_input": "2021-08-21T13:41:39.849976Z",
          "iopub.status.idle": "2021-08-21T13:41:39.882898Z",
          "shell.execute_reply.started": "2021-08-21T13:41:39.849943Z",
          "shell.execute_reply": "2021-08-21T13:41:39.881779Z"
        },
        "trusted": true,
        "id": "OsM0v9SxaX45"
      },
      "execution_count": null,
      "outputs": []
    },
    {
      "cell_type": "code",
      "source": [
        "training_data['length'] = training_data['sent'].apply(len)"
      ],
      "metadata": {
        "trusted": true,
        "id": "YdyvzP-5aX45"
      },
      "execution_count": null,
      "outputs": []
    },
    {
      "cell_type": "code",
      "source": [
        "training_data.head()"
      ],
      "metadata": {
        "trusted": true,
        "id": "F-uQ2i0MaX45"
      },
      "execution_count": null,
      "outputs": []
    },
    {
      "cell_type": "code",
      "source": [],
      "metadata": {
        "trusted": true,
        "id": "tL-j0EGIaX45"
      },
      "execution_count": null,
      "outputs": []
    },
    {
      "cell_type": "code",
      "source": [
        "plt.rcParams['figure.figsize'] = (15, 7)\n",
        "sns.distplot(training_data['length'], color = 'purple')\n",
        "plt.title('The Distribution of Length over the Texts', fontsize = 20)"
      ],
      "metadata": {
        "trusted": true,
        "id": "HkWaTzgRaX45"
      },
      "execution_count": null,
      "outputs": []
    },
    {
      "cell_type": "code",
      "source": [
        "# wordcloud\n",
        "\n",
        "from wordcloud import WordCloud\n",
        "\n",
        "wordcloud = WordCloud(background_color = 'lightcyan',\n",
        "                      width = 1200,\n",
        "                      height = 700).generate(str(training_data['sent']))\n",
        "\n",
        "plt.figure(figsize = (15, 10))\n",
        "plt.imshow(wordcloud)\n",
        "plt.title(\"WordCloud \", fontsize = 20)"
      ],
      "metadata": {
        "trusted": true,
        "id": "BxsbQYiIaX46"
      },
      "execution_count": null,
      "outputs": []
    },
    {
      "cell_type": "code",
      "source": [
        "\n",
        "\n",
        "cv = CountVectorizer()\n",
        "words = cv.fit_transform(training_data['sent'])\n",
        "sum_words = words.sum(axis=0)\n",
        "\n",
        "\n",
        "words_freq = [(word, sum_words[0, idx]) for word, idx in cv.vocabulary_.items()]\n",
        "words_freq = sorted(words_freq, key = lambda x: x[1], reverse = True)\n",
        "frequency = pd.DataFrame(words_freq, columns=['word', 'freq'])\n",
        "\n",
        "color = plt.cm.twilight(np.linspace(0, 1, 20))\n",
        "frequency.head(20).plot(x='word', y='freq', kind='bar', figsize=(15, 7), color = color)\n",
        "plt.title(\"Most Frequently Occuring Words - Top 20\")"
      ],
      "metadata": {
        "trusted": true,
        "id": "C3_uo2koaX46"
      },
      "execution_count": null,
      "outputs": []
    },
    {
      "cell_type": "code",
      "source": [
        "print(\"Shape of X :\", words.shape)"
      ],
      "metadata": {
        "trusted": true,
        "id": "OuHa-88RaX46"
      },
      "execution_count": null,
      "outputs": []
    },
    {
      "cell_type": "code",
      "source": [
        "true_k = 2\n",
        "model = KMeans(n_clusters=true_k, init='k-means++', max_iter=100, n_init=1)\n",
        "model.fit(words)"
      ],
      "metadata": {
        "trusted": true,
        "id": "YiKQ61MFaX46"
      },
      "execution_count": null,
      "outputs": []
    },
    {
      "cell_type": "code",
      "source": [
        "\n",
        "order_centroids = model.cluster_centers_.argsort()[:, ::-1]\n",
        "terms = cv.get_feature_names()\n",
        "\n",
        "for i in range(true_k):\n",
        "    print(\"Cluster %d:\" % i),\n",
        "    for ind in order_centroids[i, :10]:\n",
        "        print(' %s' % terms[ind]),\n",
        "    print\n",
        "\n",
        "print(\"\\n\")\n",
        "print(\"Prediction\")\n",
        "Y = cv.transform([\"you read this book\"])\n",
        "prediction = model.predict(Y)\n",
        "print(\"Cluster number :\", prediction)\n",
        "Y = cv.transform([\"what is favorite book\"])\n",
        "prediction = model.predict(Y)\n",
        "print(\"Cluster number :\", prediction)"
      ],
      "metadata": {
        "trusted": true,
        "id": "vd9PQs0PaX46"
      },
      "execution_count": null,
      "outputs": []
    },
    {
      "cell_type": "code",
      "source": [
        "from sklearn.feature_extraction.text import TfidfVectorizer\n",
        "from sklearn.cluster import KMeans\n",
        "from sklearn.metrics import adjusted_rand_score\n",
        "\n",
        "documents = [\"This little kitty came to play when I was eating at a restaurant.\",\n",
        "             \"Merley has the best squooshy kitten belly.\",\n",
        "             \"Google Translate app is incredible.\",\n",
        "             \"If you open 100 tab in google you get a smiley face.\",\n",
        "             \"Best cat photo I've ever taken.\",\n",
        "             \"Climbing ninja cat.\",\n",
        "             \"Impressed with google map feedback.\",\n",
        "             \"Key promoter extension for Google Chrome.\"]\n",
        "\n",
        "vectorizer = TfidfVectorizer(stop_words='english')\n",
        "X = vectorizer.fit_transform(documents)\n",
        "\n",
        "true_k = 2\n",
        "model = KMeans(n_clusters=true_k, init='k-means++', max_iter=100, n_init=1)\n",
        "model.fit(X)\n",
        "\n",
        "print(\"Top terms per cluster:\")\n",
        "order_centroids = model.cluster_centers_.argsort()[:, ::-1]\n",
        "terms = vectorizer.get_feature_names()\n",
        "for i in range(true_k):\n",
        "    print(\"Cluster %d:\" % i),\n",
        "    for ind in order_centroids[i, :10]:\n",
        "        print(' %s' % terms[ind]),\n",
        "    print\n",
        "\n",
        "print(\"\\n\")\n",
        "print(\"Prediction\")\n",
        "\n",
        "Y = vectorizer.transform([\"chrome browser to open.\"])\n",
        "prediction = model.predict(Y)\n",
        "print(prediction)\n",
        "\n",
        "Y = vectorizer.transform([\"My cat is hungry.\"])\n",
        "prediction = model.predict(Y)\n",
        "print(prediction)"
      ],
      "metadata": {
        "execution": {
          "iopub.status.busy": "2021-08-21T13:45:17.722208Z",
          "iopub.execute_input": "2021-08-21T13:45:17.722599Z",
          "iopub.status.idle": "2021-08-21T13:45:18.96992Z",
          "shell.execute_reply.started": "2021-08-21T13:45:17.722566Z",
          "shell.execute_reply": "2021-08-21T13:45:18.968929Z"
        },
        "trusted": true,
        "id": "B1fQBSO6aX46"
      },
      "execution_count": null,
      "outputs": []
    },
    {
      "cell_type": "code",
      "source": [
        "from sklearn.feature_extraction.text import TfidfVectorizer\n",
        "from sklearn.cluster import KMeans\n",
        "from sklearn.metrics import adjusted_rand_score\n",
        "\n",
        "import re\n",
        "import numpy as np\n",
        "import pandas as pd\n",
        "import matplotlib.pyplot as plt\n",
        "\n",
        "from scipy.spatial.distance import pdist\n",
        "from scipy.cluster.hierarchy import dendrogram, linkage, fcluster\n",
        "\n",
        "\n",
        "\n",
        "documents = [\"This little kitty came to play when I was eating at a restaurant.\",\n",
        "             \"Merley has the best squooshy kitten belly.\",\n",
        "             \"Google Translate app is incredible.\",\n",
        "             \"If you open 100 tab in google you get a smiley face.\",\n",
        "             \"Best cat photo I've ever taken.\",\n",
        "             \"Climbing ninja cat.\",\n",
        "             \"Impressed with google map feedback.\",\n",
        "             \"Key promoter extension for Google Chrome.\"]\n",
        "\n",
        "tfidf = TfidfVectorizer(stop_words='english')\n",
        "X = tfidf.fit_transform(documents).todense()\n",
        "# transform the data matrix into pairwise distances list\n",
        "dist_array = pdist(X)\n",
        "# calculate hierarchy\n",
        "#Z = linkage(dist_array, 'ward')\n",
        "#plt.title(\"Ward\")\n",
        "#dendrogram(Z, labels=labels)\n",
        "\n",
        "import scipy.cluster.hierarchy as sch\n",
        "dendrogram = sch.dendrogram(sch.linkage(X, method = 'ward'))\n",
        "plt.title('Dendrogram')\n",
        "plt.xlabel('Nomor Dokumen')\n",
        "plt.ylabel('Jarak Euclidean')\n",
        "plt.show()\n",
        "\n",
        "\n",
        "from sklearn.cluster import AgglomerativeClustering\n",
        "\n",
        "cluster = AgglomerativeClustering(n_clusters=2, affinity='euclidean', linkage='ward')\n",
        "cluster.fit_predict(X)\n",
        "print(cluster.labels_)"
      ],
      "metadata": {
        "execution": {
          "iopub.status.busy": "2021-08-21T13:45:35.539764Z",
          "iopub.execute_input": "2021-08-21T13:45:35.540101Z",
          "iopub.status.idle": "2021-08-21T13:45:35.786684Z",
          "shell.execute_reply.started": "2021-08-21T13:45:35.54007Z",
          "shell.execute_reply": "2021-08-21T13:45:35.785725Z"
        },
        "trusted": true,
        "id": "6UrCo0RlaX46"
      },
      "execution_count": null,
      "outputs": []
    },
    {
      "cell_type": "code",
      "source": [
        "# import all libraries and dependencies for dataframe\n",
        "\n",
        "import numpy as np\n",
        "import pandas as pd\n",
        "import matplotlib.pyplot as plt\n",
        "import seaborn as sns\n",
        "import warnings\n",
        "warnings.filterwarnings(\"ignore\")\n",
        "from datetime import datetime, timedelta\n",
        "\n",
        "# import all libraries and dependencies for data visualization\n",
        "pd.options.display.float_format='{:.4f}'.format\n",
        "plt.rcParams['figure.figsize'] = [8,8]\n",
        "pd.set_option('display.max_columns', 500)\n",
        "pd.set_option('display.max_colwidth', -1)\n",
        "sns.set(style='darkgrid')\n",
        "import matplotlib.ticker as plticker\n",
        "%matplotlib inline\n",
        "\n",
        "# import all libraries and dependencies for machine learning\n",
        "from sklearn.preprocessing import StandardScaler\n",
        "from sklearn.decomposition import PCA\n",
        "from sklearn.decomposition import IncrementalPCA\n",
        "from sklearn.neighbors import NearestNeighbors\n",
        "from random import sample\n",
        "from numpy.random import uniform\n",
        "from math import isnan\n",
        "\n",
        "# import all libraries and dependencies for clustering\n",
        "from sklearn.metrics import silhouette_score\n",
        "from sklearn.cluster import KMeans\n",
        "from scipy.cluster.hierarchy import linkage\n",
        "from scipy.cluster.hierarchy import dendrogram\n",
        "from scipy.cluster.hierarchy import cut_tree\n",
        "\n",
        "# Reading the country file on which analysis needs to be done\n",
        "\n",
        "df_country = pd.read_csv('../input/country-data/country-data.csv')\n",
        "\n",
        "df_country.head()\n",
        "\n",
        "# Reading the data dictionary file\n",
        "\n",
        "df_structure = pd.read_csv('../input/data_dictionary/data-dictionary.csv')\n",
        "df_structure.head(10)\n",
        "\n",
        "df_country.shape\n",
        "\n",
        "df_country.describe()\n",
        "\n",
        "df_country.info()\n",
        "\n",
        "# Calculating the Missing Values % contribution in DF\n",
        "\n",
        "df_null = df_country.isna().mean()*100\n",
        "df_null\n",
        "\n",
        "# Datatype check for the dataframe\n",
        "\n",
        "df_country.dtypes\n",
        "\n",
        "# Duplicates check\n",
        "\n",
        "df_country.loc[df_country.duplicated()]\n",
        "\n",
        "# Segregation of Numerical and Categorical Variables/Columns\n",
        "\n",
        "cat_col = df_country.select_dtypes(include = ['object']).columns\n",
        "num_col = df_country.select_dtypes(exclude = ['object']).columns\n",
        "\n",
        "# Heatmap to understand the attributes dependency\n",
        "\n",
        "plt.figure(figsize = (15,10))\n",
        "ax = sns.heatmap(df_country.corr(),annot = True)\n",
        "bottom, top = ax.get_ylim()\n",
        "ax.set_ylim(bottom + 0.5, top - 0.5)\n",
        "\n",
        "# Pairplot of all numeric columns\n",
        "\n",
        "sns.pairplot(df_country)\n",
        "\n",
        "# Converting exports,imports and health spending percentages to absolute values.\n",
        "\n",
        "df_country['exports'] = df_country['exports'] * df_country['gdpp']/100\n",
        "df_country['imports'] = df_country['imports'] * df_country['gdpp']/100\n",
        "df_country['health'] = df_country['health'] * df_country['gdpp']/100\n",
        "\n",
        "df_country.head(5)\n",
        "\n",
        "# Dropping Country field as final dataframe will only contain data columns\n",
        "\n",
        "df_country_drop = df_country.copy()\n",
        "country = df_country_drop.pop('country')\n",
        "\n",
        "df_country_drop.head()\n",
        "\n",
        "# Standarisation technique for scaling\n",
        "\n",
        "warnings.filterwarnings(\"ignore\")\n",
        "scaler = StandardScaler()\n",
        "df_country_scaled = scaler.fit_transform(df_country_drop)\n",
        "\n",
        "df_country_scaled\n",
        "\n",
        "pca = PCA(svd_solver='randomized', random_state=42)\n",
        "\n",
        "# Lets apply PCA on the scaled data\n",
        "\n",
        "pca.fit(df_country_scaled)\n",
        "\n",
        "# PCA components created\n",
        "\n",
        "pca.components_\n",
        "\n",
        "# Variance Ratio\n",
        "\n",
        "pca.explained_variance_ratio_\n",
        "\n",
        "# Variance Ratio bar plot for each PCA components.\n",
        "\n",
        "ax = plt.bar(range(1,len(pca.explained_variance_ratio_)+1), pca.explained_variance_ratio_)\n",
        "plt.xlabel(\"PCA Components\",fontweight = 'bold')\n",
        "plt.ylabel(\"Variance Ratio\",fontweight = 'bold')\n",
        "\n",
        "# Scree plot to visualize the Cumulative variance against the Number of components\n",
        "\n",
        "fig = plt.figure(figsize = (12,8))\n",
        "plt.plot(np.cumsum(pca.explained_variance_ratio_))\n",
        "plt.vlines(x=3, ymax=1, ymin=0, colors=\"r\", linestyles=\"--\")\n",
        "plt.hlines(y=0.93, xmax=8, xmin=0, colors=\"g\", linestyles=\"--\")\n",
        "plt.xlabel('Number of PCA components')\n",
        "plt.ylabel('Cumulative Explained Variance')\n",
        "\n",
        "# Checking which attributes are well explained by the pca components\n",
        "\n",
        "org_col = list(df_country.drop(['country'],axis=1).columns)\n",
        "attributes_pca = pd.DataFrame({'Attribute':org_col,'PC_1':pca.components_[0],'PC_2':pca.components_[1],'PC_3':pca.components_[2]})\n",
        "\n",
        "attributes_pca\n",
        "\n",
        "# Plotting the above dataframe for better visualization with PC1 and PC2\n",
        "\n",
        "sns.pairplot(data=attributes_pca, x_vars=[\"PC_1\"], y_vars=[\"PC_2\"], hue = \"Attribute\" ,height=8)\n",
        "plt.xlabel(\"Principal Component 1\",fontweight = 'bold')\n",
        "plt.ylabel(\"Principal Component 2\",fontweight = 'bold')\n",
        "\n",
        "for i,txt in enumerate(attributes_pca.Attribute):\n",
        "    plt.annotate(txt, (attributes_pca.PC_1[i],attributes_pca.PC_2[i]))\n",
        "\n",
        "# Plotting the above dataframe with PC1 and PC3 to understand the components which explains inflation.\n",
        "\n",
        "sns.pairplot(data=attributes_pca, x_vars=[\"PC_1\"], y_vars=[\"PC_3\"], hue = \"Attribute\" ,height=8)\n",
        "plt.xlabel(\"Principal Component 1\",fontweight = 'bold')\n",
        "plt.ylabel(\"Principal Component 3\",fontweight = 'bold')\n",
        "\n",
        "for i,txt in enumerate(attributes_pca.Attribute):\n",
        "    plt.annotate(txt, (attributes_pca.PC_1[i],attributes_pca.PC_3[i]))\n",
        "\n",
        "# Building the dataframe using Incremental PCA for better efficiency.\n",
        "\n",
        "inc_pca = IncrementalPCA(n_components=3)\n",
        "\n",
        "# Fitting the scaled df on incremental pca\n",
        "\n",
        "df_inc_pca = inc_pca.fit_transform(df_country_scaled)\n",
        "df_inc_pca\n",
        "\n",
        "# Creating new dataframe with Principal components\n",
        "\n",
        "df_pca = pd.DataFrame(df_inc_pca, columns=[\"PC_1\", \"PC_2\",\"PC_3\"])\n",
        "df_pca_final = pd.concat([country, df_pca], axis=1)\n",
        "df_pca_final.head()\n",
        "\n",
        "# Plotting Heatmap to check is there still dependency in the dataset.\n",
        "\n",
        "plt.figure(figsize = (8,6))\n",
        "ax = sns.heatmap(df_pca_final.corr(),annot = True)\n",
        "bottom, top = ax.get_ylim()\n",
        "ax.set_ylim(bottom + 0.5, top - 0.5)\n",
        "\n",
        "# Scatter Plot to visualize the spread of data across PCA components\n",
        "\n",
        "plt.figure(figsize=(20, 8))\n",
        "plt.subplot(1,3,1)\n",
        "sns.scatterplot(data=df_pca_final, x='PC_1', y='PC_2')\n",
        "plt.subplot(1,3,2)\n",
        "sns.scatterplot(data=df_pca_final, x='PC_1', y='PC_3')\n",
        "plt.subplot(1,3,3)\n",
        "sns.scatterplot(data=df_pca_final, x='PC_3', y='PC_2')\n",
        "\n",
        "# Outlier Analysis\n",
        "\n",
        "outliers = ['PC_1','PC_2','PC_3']\n",
        "plt.rcParams['figure.figsize'] = [10,8]\n",
        "sns.boxplot(data = df_pca_final[outliers], orient=\"v\", palette=\"Set2\" ,whis=1.5,saturation=1, width=0.7)\n",
        "plt.title(\"Outliers Variable Distribution\", fontsize = 14, fontweight = 'bold')\n",
        "plt.ylabel(\"Range\", fontweight = 'bold')\n",
        "plt.xlabel(\"PC Components\", fontweight = 'bold')\n",
        "\n",
        "# Statstical Outlier treatment for PC_1\n",
        "\n",
        "Q1 = df_pca_final.PC_1.quantile(0.05)\n",
        "Q3 = df_pca_final.PC_1.quantile(0.95)\n",
        "IQR = Q3 - Q1\n",
        "df_pca_final = df_pca_final[(df_pca_final.PC_1 >= Q1) & (df_pca_final.PC_1 <= Q3)]\n",
        "\n",
        "# Statstical Outlier treatment for PC_2\n",
        "\n",
        "Q1 = df_pca_final.PC_2.quantile(0.05)\n",
        "Q3 = df_pca_final.PC_2.quantile(0.95)\n",
        "IQR = Q3 - Q1\n",
        "df_pca_final = df_pca_final[(df_pca_final.PC_2 >= Q1) & (df_pca_final.PC_2 <= Q3)]\n",
        "\n",
        "# Statstical Outlier treatment for PC_3\n",
        "\n",
        "Q1 = df_pca_final.PC_3.quantile(0.05)\n",
        "Q3 = df_pca_final.PC_3.quantile(0.95)\n",
        "IQR = Q3 - Q1\n",
        "df_pca_final = df_pca_final[(df_pca_final.PC_3 >= Q1) & (df_pca_final.PC_3 <= Q3)]\n",
        "\n",
        "# Plot after Outlier removal\n",
        "\n",
        "outliers = ['PC_1','PC_2','PC_3']\n",
        "plt.rcParams['figure.figsize'] = [10,8]\n",
        "sns.boxplot(data = df_pca_final[outliers], orient=\"v\", palette=\"Set2\" ,whis=1.5,saturation=1, width=0.7)\n",
        "plt.title(\"Outliers Variable Distribution\", fontsize = 14, fontweight = 'bold')\n",
        "plt.ylabel(\"Range\", fontweight = 'bold')\n",
        "plt.xlabel(\"PC Components\", fontweight = 'bold')\n",
        "\n",
        "# Reindexing the df after outlier removal\n",
        "\n",
        "df_pca_final = df_pca_final.reset_index(drop=True)\n",
        "df_pca_final_data = df_pca_final.drop(['country'],axis=1)\n",
        "df_pca_final.head()\n",
        "\n",
        "# Calculating Hopkins score to know whether the data is good for clustering or not.\n",
        "\n",
        "def hopkins(X):\n",
        "    d = X.shape[1]\n",
        "    n = len(X)\n",
        "    m = int(0.1 * n)\n",
        "    nbrs = NearestNeighbors(n_neighbors=1).fit(X.values)\n",
        "\n",
        "    rand_X = sample(range(0, n, 1), m)\n",
        "\n",
        "    ujd = []\n",
        "    wjd = []\n",
        "    for j in range(0, m):\n",
        "        u_dist, _ = nbrs.kneighbors(uniform(np.amin(X,axis=0),np.amax(X,axis=0),d).reshape(1, -1), 2, return_distance=True)\n",
        "        ujd.append(u_dist[0][1])\n",
        "        w_dist, _ = nbrs.kneighbors(X.iloc[rand_X[j]].values.reshape(1, -1), 2, return_distance=True)\n",
        "        wjd.append(w_dist[0][1])\n",
        "\n",
        "    HS = sum(ujd) / (sum(ujd) + sum(wjd))\n",
        "    if isnan(HS):\n",
        "        print(ujd, wjd)\n",
        "        HS = 0\n",
        "\n",
        "    return HS\n",
        "\n",
        "# Elbow curve method to find the ideal number of clusters.\n",
        "ssd = []\n",
        "for num_clusters in list(range(1,8)):\n",
        "    model_clus = KMeans(n_clusters = num_clusters, max_iter=50,random_state= 100)\n",
        "    model_clus.fit(df_pca_final_data)\n",
        "    ssd.append(model_clus.inertia_)\n",
        "\n",
        "plt.plot(ssd)\n",
        "\n",
        "# Silhouette score analysis to find the ideal number of clusters for K-means clustering\n",
        "\n",
        "range_n_clusters = [2, 3, 4, 5, 6, 7, 8]\n",
        "\n",
        "for num_clusters in range_n_clusters:\n",
        "\n",
        "    # intialise kmeans\n",
        "    kmeans = KMeans(n_clusters=num_clusters, max_iter=50,random_state= 100)\n",
        "    kmeans.fit(df_pca_final_data)\n",
        "\n",
        "    cluster_labels = kmeans.labels_\n",
        "\n",
        "    # silhouette score\n",
        "    silhouette_avg = silhouette_score(df_pca_final_data, cluster_labels)\n",
        "    print(\"For n_clusters={0}, the silhouette score is {"
      ],
      "metadata": {
        "trusted": true,
        "id": "cc0RH8wPaX47"
      },
      "execution_count": null,
      "outputs": []
    },
    {
      "cell_type": "code",
      "source": [
        "error = []\n",
        "for i in range(1, 4):\n",
        " knn = KNeighborsClassifier(n_neighbors=i)\n",
        " knn.fit(X_train_cv, y_train)\n",
        " pred_i = knn.predict(X_test_cv)\n",
        " #error.append(np.mean(pred_i != y_test))"
      ],
      "metadata": {
        "trusted": true,
        "id": "Xis4M47saX47"
      },
      "execution_count": null,
      "outputs": []
    },
    {
      "cell_type": "code",
      "source": [],
      "metadata": {
        "trusted": true,
        "id": "st9KEtrOaX47"
      },
      "execution_count": null,
      "outputs": []
    },
    {
      "cell_type": "code",
      "source": [],
      "metadata": {
        "trusted": true,
        "id": "cS9eCfqAaX47"
      },
      "execution_count": null,
      "outputs": []
    },
    {
      "cell_type": "code",
      "source": [],
      "metadata": {
        "trusted": true,
        "id": "VnCtcRuCaX47"
      },
      "execution_count": null,
      "outputs": []
    },
    {
      "cell_type": "code",
      "source": [],
      "metadata": {
        "trusted": true,
        "id": "ENKQwFTqaX47"
      },
      "execution_count": null,
      "outputs": []
    },
    {
      "cell_type": "code",
      "source": [],
      "metadata": {
        "trusted": true,
        "id": "22DMZ4PyaX47"
      },
      "execution_count": null,
      "outputs": []
    },
    {
      "cell_type": "code",
      "source": [],
      "metadata": {
        "trusted": true,
        "id": "L0IYmfQ9aX47"
      },
      "execution_count": null,
      "outputs": []
    },
    {
      "cell_type": "code",
      "source": [],
      "metadata": {
        "trusted": true,
        "id": "m_3cZ2YJaX48"
      },
      "execution_count": null,
      "outputs": []
    },
    {
      "cell_type": "code",
      "source": [],
      "metadata": {
        "trusted": true,
        "id": "kebLlC8aaX48"
      },
      "execution_count": null,
      "outputs": []
    },
    {
      "cell_type": "code",
      "source": [],
      "metadata": {
        "_uuid": "d629ff2d2480ee46fbb7e2d37f6b5fab8052498a",
        "_cell_guid": "79c7e3d0-c299-4dcb-8224-4455121ee9b0",
        "trusted": true,
        "id": "U-9aVKbHaX48"
      },
      "execution_count": null,
      "outputs": []
    }
  ]
}