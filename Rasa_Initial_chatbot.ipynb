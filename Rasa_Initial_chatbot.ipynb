{
  "cells": [
    {
      "cell_type": "markdown",
      "metadata": {
        "id": "view-in-github",
        "colab_type": "text"
      },
      "source": [
        "<a href=\"https://colab.research.google.com/github/kungfumas/stbi/blob/master/Rasa_Initial_chatbot.ipynb\" target=\"_parent\"><img src=\"https://colab.research.google.com/assets/colab-badge.svg\" alt=\"Open In Colab\"/></a>"
      ]
    },
    {
      "cell_type": "markdown",
      "metadata": {
        "id": "w_DrnkwFlT-G"
      },
      "source": [
        "**Rasa is Opensource Machine Learning framework used for developing AI based chatbot.**\n"
      ]
    },
    {
      "cell_type": "code",
      "source": [
        "!python --version\n"
      ],
      "metadata": {
        "colab": {
          "base_uri": "https://localhost:8080/"
        },
        "id": "WQUwQPmpcUmE",
        "outputId": "605b6321-c9f2-4cbe-8e91-ffea0848d355"
      },
      "execution_count": 32,
      "outputs": [
        {
          "output_type": "stream",
          "name": "stdout",
          "text": [
            "Python 3.10.11\n"
          ]
        }
      ]
    },
    {
      "cell_type": "code",
      "source": [
        "!sudo update-alternatives --install /usr/bin/python3 python3 /usr/bin/python3.8 1\n"
      ],
      "metadata": {
        "id": "Yk2WAJjWcX9Y"
      },
      "execution_count": 34,
      "outputs": []
    },
    {
      "cell_type": "code",
      "source": [
        "!sudo update-alternatives --config python3"
      ],
      "metadata": {
        "colab": {
          "base_uri": "https://localhost:8080/"
        },
        "id": "cNDi6lNxcptm",
        "outputId": "74cd8a9a-9c53-446b-e228-65215ece6439"
      },
      "execution_count": 52,
      "outputs": [
        {
          "output_type": "stream",
          "name": "stdout",
          "text": [
            "There are 2 choices for the alternative python3 (providing /usr/bin/python3).\n",
            "\n",
            "  Selection    Path                 Priority   Status\n",
            "------------------------------------------------------------\n",
            "  0            /usr/bin/python3.10   2         auto mode\n",
            "* 1            /usr/bin/python3.10   2         manual mode\n",
            "  2            /usr/bin/python3.8    1         manual mode\n",
            "\n",
            "Press <enter> to keep the current choice[*], or type selection number: 2\n",
            "update-alternatives: using /usr/bin/python3.8 to provide /usr/bin/python3 (python3) in manual mode\n"
          ]
        }
      ]
    },
    {
      "cell_type": "code",
      "source": [],
      "metadata": {
        "id": "zbyXi4zbfaIw"
      },
      "execution_count": null,
      "outputs": []
    },
    {
      "cell_type": "code",
      "source": [
        "!python3 --version"
      ],
      "metadata": {
        "colab": {
          "base_uri": "https://localhost:8080/"
        },
        "id": "-d5yP3RufaJ9",
        "outputId": "552607b7-844c-496e-c2f8-14a86ffd49f4"
      },
      "execution_count": 53,
      "outputs": [
        {
          "output_type": "stream",
          "name": "stdout",
          "text": [
            "Python 3.8.10\n"
          ]
        }
      ]
    },
    {
      "cell_type": "code",
      "source": [
        "!sudo apt install python3-pip\n"
      ],
      "metadata": {
        "colab": {
          "base_uri": "https://localhost:8080/"
        },
        "id": "K5PxvO6cfEev",
        "outputId": "765ee851-340b-4751-91a9-75e8c68f2e57"
      },
      "execution_count": 54,
      "outputs": [
        {
          "output_type": "stream",
          "name": "stdout",
          "text": [
            "Reading package lists... Done\n",
            "Building dependency tree       \n",
            "Reading state information... Done\n",
            "python3-pip is already the newest version (20.0.2-5ubuntu1.8).\n",
            "0 upgraded, 0 newly installed, 0 to remove and 34 not upgraded.\n"
          ]
        }
      ]
    },
    {
      "cell_type": "code",
      "execution_count": 55,
      "metadata": {
        "colab": {
          "base_uri": "https://localhost:8080/",
          "height": 1000
        },
        "id": "ffcul5QcvbFr",
        "outputId": "e5ff7f95-74b2-446f-983e-b272b2648dec"
      },
      "outputs": [
        {
          "output_type": "stream",
          "name": "stdout",
          "text": [
            "Looking in indexes: https://pypi.org/simple, https://us-python.pkg.dev/colab-wheels/public/simple/\n",
            "Collecting rasa\n",
            "  Using cached rasa-3.5.10-py3-none-any.whl (823 kB)\n",
            "Collecting mattermostwrapper<2.3,>=2.2\n",
            "  Using cached mattermostwrapper-2.2.tar.gz (2.5 kB)\n",
            "Collecting typing-utils<0.2.0,>=0.1.0\n",
            "  Using cached typing_utils-0.1.0-py3-none-any.whl (10 kB)\n",
            "Collecting numpy<1.25.0,>=1.19.2; python_version >= \"3.8\" and python_version < \"3.11\"\n",
            "  Downloading numpy-1.24.3-cp38-cp38-manylinux_2_17_x86_64.manylinux2014_x86_64.whl (17.3 MB)\n",
            "\u001b[K     |████████████████████████████████| 17.3 MB 5.0 MB/s \n",
            "\u001b[?25hCollecting dask==2022.10.2; python_version >= \"3.8\" and python_version < \"3.11\"\n",
            "  Using cached dask-2022.10.2-py3-none-any.whl (1.1 MB)\n",
            "Collecting rasa-sdk<3.6.0,>=3.5.0\n",
            "  Using cached rasa_sdk-3.5.1-py3-none-any.whl (43 kB)\n",
            "Collecting tqdm<5.0,>=4.31\n",
            "  Downloading tqdm-4.65.0-py3-none-any.whl (77 kB)\n",
            "\u001b[K     |████████████████████████████████| 77 kB 5.7 MB/s \n",
            "\u001b[?25hCollecting questionary<1.11.0,>=1.5.1\n",
            "  Using cached questionary-1.10.0-py3-none-any.whl (31 kB)\n",
            "Collecting tensorflow-addons<0.20,>=0.18\n",
            "  Downloading tensorflow_addons-0.19.0-cp38-cp38-manylinux_2_17_x86_64.manylinux2014_x86_64.whl (1.1 MB)\n",
            "\u001b[K     |████████████████████████████████| 1.1 MB 72.0 MB/s \n",
            "\u001b[?25hCollecting sklearn-crfsuite<0.4,>=0.3\n",
            "  Using cached sklearn_crfsuite-0.3.6-py2.py3-none-any.whl (12 kB)\n",
            "Collecting packaging<21.0,>=20.0\n",
            "  Using cached packaging-20.9-py2.py3-none-any.whl (40 kB)\n",
            "Collecting websockets<11.0,>=10.0\n",
            "  Downloading websockets-10.4-cp38-cp38-manylinux_2_5_x86_64.manylinux1_x86_64.manylinux_2_17_x86_64.manylinux2014_x86_64.whl (106 kB)\n",
            "\u001b[K     |████████████████████████████████| 106 kB 45.9 MB/s \n",
            "\u001b[?25hCollecting pykwalify<1.9,>=1.7\n",
            "  Using cached pykwalify-1.8.0-py2.py3-none-any.whl (24 kB)\n",
            "Collecting regex<2022.11,>=2020.6\n",
            "  Downloading regex-2022.10.31-cp38-cp38-manylinux_2_17_x86_64.manylinux2014_x86_64.whl (772 kB)\n",
            "\u001b[K     |████████████████████████████████| 772 kB 62.1 MB/s \n",
            "\u001b[?25hCollecting aio-pika<8.2.4,>=6.7.1\n",
            "  Using cached aio_pika-8.2.3-py3-none-any.whl (49 kB)\n",
            "Collecting absl-py<1.4,>=0.9\n",
            "  Using cached absl_py-1.3.0-py3-none-any.whl (124 kB)\n",
            "Collecting colorclass<2.3,>=2.2\n",
            "  Using cached colorclass-2.2.2-py2.py3-none-any.whl (18 kB)\n",
            "Collecting tensorflow==2.11.0; sys_platform != \"darwin\" or platform_machine != \"arm64\"\n",
            "  Downloading tensorflow-2.11.0-cp38-cp38-manylinux_2_17_x86_64.manylinux2014_x86_64.whl (588.3 MB)\n",
            "\u001b[K     |████████████████████████████████| 588.3 MB 21 kB/s \n",
            "\u001b[?25hCollecting redis<5.0,>=4.5.3\n",
            "  Using cached redis-4.5.5-py3-none-any.whl (240 kB)\n",
            "Collecting python-socketio<6,>=4.4\n",
            "  Using cached python_socketio-5.8.0-py3-none-any.whl (56 kB)\n",
            "Collecting ruamel.yaml<0.18.0,>=0.16.5\n",
            "  Using cached ruamel.yaml-0.17.31-py3-none-any.whl (112 kB)\n",
            "Collecting protobuf<3.20,>=3.9.2\n",
            "  Downloading protobuf-3.19.6-cp38-cp38-manylinux_2_17_x86_64.manylinux2014_x86_64.whl (1.1 MB)\n",
            "\u001b[K     |████████████████████████████████| 1.1 MB 71.3 MB/s \n",
            "\u001b[?25hCollecting pydantic<1.10.3\n",
            "  Downloading pydantic-1.10.2-cp38-cp38-manylinux_2_17_x86_64.manylinux2014_x86_64.whl (13.6 MB)\n",
            "\u001b[K     |████████████████████████████████| 13.6 MB 72.9 MB/s \n",
            "\u001b[?25hCollecting prompt-toolkit<3.0.29,>=3.0\n",
            "  Using cached prompt_toolkit-3.0.28-py3-none-any.whl (380 kB)\n",
            "Collecting python-dateutil<2.9,>=2.8\n",
            "  Downloading python_dateutil-2.8.2-py2.py3-none-any.whl (247 kB)\n",
            "\u001b[K     |████████████████████████████████| 247 kB 74.7 MB/s \n",
            "\u001b[?25hCollecting boto3<2.0,>=1.12\n",
            "  Using cached boto3-1.26.146-py3-none-any.whl (135 kB)\n",
            "Collecting pytz<2023.0,>=2019.1\n",
            "  Downloading pytz-2022.7.1-py2.py3-none-any.whl (499 kB)\n",
            "\u001b[K     |████████████████████████████████| 499 kB 78.5 MB/s \n",
            "\u001b[?25hCollecting ujson<6.0,>=1.35\n",
            "  Downloading ujson-5.7.0-cp38-cp38-manylinux_2_17_x86_64.manylinux2014_x86_64.whl (52 kB)\n",
            "\u001b[K     |████████████████████████████████| 52 kB 1.6 MB/s \n",
            "\u001b[?25hCollecting sanic-cors<2.1.0,>=2.0.0\n",
            "  Using cached Sanic_Cors-2.0.1-py2.py3-none-any.whl (17 kB)\n",
            "Collecting sentry-sdk<1.15.0,>=0.17.0\n",
            "  Using cached sentry_sdk-1.14.0-py2.py3-none-any.whl (178 kB)\n",
            "Collecting pymongo[srv,tls]<3.11,>=3.8\n",
            "  Downloading pymongo-3.10.1-cp38-cp38-manylinux2014_x86_64.whl (480 kB)\n",
            "\u001b[K     |████████████████████████████████| 480 kB 81.2 MB/s \n",
            "\u001b[?25hCollecting randomname<0.2.0,>=0.1.5\n",
            "  Using cached randomname-0.1.5.tar.gz (36 kB)\n",
            "Collecting matplotlib<3.6,>=3.1\n",
            "  Downloading matplotlib-3.5.3-cp38-cp38-manylinux_2_5_x86_64.manylinux1_x86_64.whl (11.3 MB)\n",
            "\u001b[K     |████████████████████████████████| 11.3 MB 71.8 MB/s \n",
            "\u001b[?25hCollecting PyJWT[crypto]<3.0.0,>=2.0.0\n",
            "  Using cached PyJWT-2.7.0-py3-none-any.whl (22 kB)\n",
            "Collecting sanic<21.13,>=21.12\n",
            "  Using cached sanic-21.12.2-py3-none-any.whl (156 kB)\n",
            "Collecting CacheControl<0.13.0,>=0.12.9\n",
            "  Downloading CacheControl-0.12.13-py2.py3-none-any.whl (21 kB)\n",
            "Collecting SQLAlchemy<1.5.0,>=1.4.0\n",
            "  Downloading SQLAlchemy-1.4.48-cp38-cp38-manylinux_2_5_x86_64.manylinux1_x86_64.manylinux_2_17_x86_64.manylinux2014_x86_64.whl (1.6 MB)\n",
            "\u001b[K     |████████████████████████████████| 1.6 MB 62.7 MB/s \n",
            "\u001b[?25hCollecting coloredlogs<16,>=10\n",
            "  Using cached coloredlogs-15.0.1-py2.py3-none-any.whl (46 kB)\n",
            "Collecting typing-extensions<5.0.0,>=4.1.1\n",
            "  Downloading typing_extensions-4.6.3-py3-none-any.whl (31 kB)\n",
            "Collecting webexteamssdk<1.7.0,>=1.1.1\n",
            "  Using cached webexteamssdk-1.6.1-py3-none-any.whl (113 kB)\n",
            "Collecting apscheduler<3.10,>=3.6\n",
            "  Using cached APScheduler-3.9.1.post1-py2.py3-none-any.whl (59 kB)\n",
            "Collecting fbmessenger<6.1.0,>=6.0.0\n",
            "  Using cached fbmessenger-6.0.0-py2.py3-none-any.whl (11 kB)\n",
            "Collecting confluent-kafka<2.0.0,>=1.9.2\n",
            "  Downloading confluent_kafka-1.9.2-cp38-cp38-manylinux_2_17_x86_64.manylinux2014_x86_64.whl (3.1 MB)\n",
            "\u001b[K     |████████████████████████████████| 3.1 MB 82.8 MB/s \n",
            "\u001b[?25hCollecting tarsafe<0.0.4,>=0.0.3\n",
            "  Using cached tarsafe-0.0.3-py3-none-any.whl (5.0 kB)\n",
            "Collecting tensorflow_hub<0.13.0,>=0.12.0\n",
            "  Using cached tensorflow_hub-0.12.0-py2.py3-none-any.whl (108 kB)\n",
            "Collecting twilio<7.15,>=6.26\n",
            "  Using cached twilio-7.14.2-py2.py3-none-any.whl (1.4 MB)\n",
            "Collecting jsonschema<4.18,>=3.2\n",
            "  Downloading jsonschema-4.17.3-py3-none-any.whl (90 kB)\n",
            "\u001b[K     |████████████████████████████████| 90 kB 9.9 MB/s \n",
            "\u001b[?25hCollecting scikit-learn<1.2,>=0.22; python_version >= \"3.8\" and python_version < \"3.11\"\n",
            "  Downloading scikit_learn-1.1.3-cp38-cp38-manylinux_2_17_x86_64.manylinux2014_x86_64.whl (31.2 MB)\n",
            "\u001b[K     |████████████████████████████████| 31.2 MB 1.3 MB/s \n",
            "\u001b[?25hCollecting networkx<2.7,>=2.4\n",
            "  Using cached networkx-2.6.3-py3-none-any.whl (1.9 MB)\n",
            "Requirement already satisfied: setuptools>=41.0.0 in /usr/lib/python3/dist-packages (from rasa) (45.2.0)\n",
            "Collecting terminaltables<3.2.0,>=3.1.0\n",
            "  Using cached terminaltables-3.1.10-py2.py3-none-any.whl (15 kB)\n",
            "Collecting slack-sdk<4.0.0,>=3.19.2\n",
            "  Using cached slack_sdk-3.21.3-py2.py3-none-any.whl (276 kB)\n",
            "Collecting jsonpickle<3.1,>=1.3\n",
            "  Downloading jsonpickle-3.0.1-py2.py3-none-any.whl (40 kB)\n",
            "\u001b[K     |████████████████████████████████| 40 kB 6.1 MB/s \n",
            "\u001b[?25hCollecting sanic-routing<0.8.0,>=0.7.2\n",
            "  Using cached sanic_routing-0.7.2-py3-none-any.whl (23 kB)\n",
            "Collecting portalocker<3.0.0,>=2.7.0\n",
            "  Using cached portalocker-2.7.0-py2.py3-none-any.whl (15 kB)\n",
            "Collecting rocketchat_API<1.29.0,>=0.6.31\n",
            "  Using cached rocketchat_API-1.28.1-py3-none-any.whl (20 kB)\n",
            "Collecting cloudpickle<2.3,>=1.2\n",
            "  Downloading cloudpickle-2.2.1-py3-none-any.whl (25 kB)\n",
            "Collecting psycopg2-binary<2.10.0,>=2.8.2\n",
            "  Downloading psycopg2_binary-2.9.6-cp38-cp38-manylinux_2_17_x86_64.manylinux2014_x86_64.whl (3.0 MB)\n",
            "\u001b[K     |████████████████████████████████| 3.0 MB 77.0 MB/s \n",
            "\u001b[?25hCollecting requests<3.0,>=2.23\n",
            "  Downloading requests-2.31.0-py3-none-any.whl (62 kB)\n",
            "\u001b[K     |████████████████████████████████| 62 kB 1.4 MB/s \n",
            "\u001b[?25hCollecting attrs<22.2,>=19.3\n",
            "  Using cached attrs-22.1.0-py2.py3-none-any.whl (58 kB)\n",
            "Collecting pydot<1.5,>=1.4\n",
            "  Downloading pydot-1.4.2-py2.py3-none-any.whl (21 kB)\n",
            "Collecting tensorflow-text==2.11.0; sys_platform != \"win32\" and platform_machine != \"arm64\"\n",
            "  Downloading tensorflow_text-2.11.0-cp38-cp38-manylinux_2_17_x86_64.manylinux2014_x86_64.whl (5.8 MB)\n",
            "\u001b[K     |████████████████████████████████| 5.8 MB 74.8 MB/s \n",
            "\u001b[?25hCollecting sanic-jwt<2.0.0,>=1.6.0\n",
            "  Using cached sanic_jwt-1.8.0-py3-none-any.whl (23 kB)\n",
            "Collecting colorhash<1.3.0,>=1.0.2\n",
            "  Using cached colorhash-1.2.1-py3-none-any.whl (5.7 kB)\n",
            "Collecting google-auth<3\n",
            "  Downloading google_auth-2.19.1-py2.py3-none-any.whl (181 kB)\n",
            "\u001b[K     |████████████████████████████████| 181 kB 79.2 MB/s \n",
            "\u001b[?25hCollecting scipy<1.9.0,>=1.4.1; python_version >= \"3.8\" and python_version < \"3.11\"\n",
            "  Downloading scipy-1.8.1-cp38-cp38-manylinux_2_17_x86_64.manylinux2014_x86_64.whl (41.6 MB)\n",
            "\u001b[K     |████████████████████████████████| 41.6 MB 1.1 MB/s \n",
            "\u001b[?25hCollecting joblib<1.3.0,>=0.15.1\n",
            "  Downloading joblib-1.2.0-py3-none-any.whl (297 kB)\n",
            "\u001b[K     |████████████████████████████████| 297 kB 76.5 MB/s \n",
            "\u001b[?25hCollecting aiogram<2.26\n",
            "  Using cached aiogram-2.25.1-py3-none-any.whl (203 kB)\n",
            "Collecting pluggy<2.0.0,>=1.0.0\n",
            "  Downloading pluggy-1.0.0-py2.py3-none-any.whl (13 kB)\n",
            "Collecting python-engineio!=5.0.0,<6,>=4\n",
            "  Using cached python_engineio-4.4.1-py3-none-any.whl (53 kB)\n",
            "Collecting aiohttp!=3.7.4.post0,<3.9,>=3.6\n",
            "  Downloading aiohttp-3.8.4-cp38-cp38-manylinux_2_17_x86_64.manylinux2014_x86_64.whl (1.0 MB)\n",
            "\u001b[K     |████████████████████████████████| 1.0 MB 67.9 MB/s \n",
            "\u001b[?25hCollecting click>=7.0\n",
            "  Downloading click-8.1.3-py3-none-any.whl (96 kB)\n",
            "\u001b[K     |████████████████████████████████| 96 kB 6.8 MB/s \n",
            "\u001b[?25hCollecting pyyaml>=5.3.1\n",
            "  Downloading PyYAML-6.0-cp38-cp38-manylinux_2_5_x86_64.manylinux1_x86_64.manylinux_2_12_x86_64.manylinux2010_x86_64.whl (701 kB)\n",
            "\u001b[K     |████████████████████████████████| 701 kB 76.7 MB/s \n",
            "\u001b[?25hCollecting fsspec>=0.6.0\n",
            "  Downloading fsspec-2023.5.0-py3-none-any.whl (160 kB)\n",
            "\u001b[K     |████████████████████████████████| 160 kB 79.7 MB/s \n",
            "\u001b[?25hCollecting toolz>=0.8.2\n",
            "  Downloading toolz-0.12.0-py3-none-any.whl (55 kB)\n",
            "\u001b[K     |████████████████████████████████| 55 kB 4.4 MB/s \n",
            "\u001b[?25hCollecting partd>=0.3.10\n",
            "  Downloading partd-1.4.0-py3-none-any.whl (18 kB)\n",
            "Collecting typeguard>=2.7\n",
            "  Using cached typeguard-4.0.0-py3-none-any.whl (33 kB)\n",
            "Collecting six\n",
            "  Downloading six-1.16.0-py2.py3-none-any.whl (11 kB)\n",
            "Collecting python-crfsuite>=0.8.3\n",
            "  Downloading python_crfsuite-0.9.9-cp38-cp38-manylinux_2_17_x86_64.manylinux2014_x86_64.whl (1.0 MB)\n",
            "\u001b[K     |████████████████████████████████| 1.0 MB 74.3 MB/s \n",
            "\u001b[?25hCollecting tabulate\n",
            "  Downloading tabulate-0.9.0-py3-none-any.whl (35 kB)\n",
            "Collecting pyparsing>=2.0.2\n",
            "  Downloading pyparsing-3.0.9-py3-none-any.whl (98 kB)\n",
            "\u001b[K     |████████████████████████████████| 98 kB 8.3 MB/s \n",
            "\u001b[?25hCollecting docopt>=0.6.2\n",
            "  Using cached docopt-0.6.2.tar.gz (25 kB)\n",
            "Collecting aiormq~=6.4.0\n",
            "  Using cached aiormq-6.4.2-py3-none-any.whl (34 kB)\n",
            "Collecting yarl\n",
            "  Downloading yarl-1.9.2-cp38-cp38-manylinux_2_17_x86_64.manylinux2014_x86_64.whl (266 kB)\n",
            "\u001b[K     |████████████████████████████████| 266 kB 72.7 MB/s \n",
            "\u001b[?25hCollecting h5py>=2.9.0\n",
            "  Downloading h5py-3.8.0-cp38-cp38-manylinux_2_17_x86_64.manylinux2014_x86_64.whl (4.7 MB)\n",
            "\u001b[K     |████████████████████████████████| 4.7 MB 68.3 MB/s \n",
            "\u001b[?25hCollecting grpcio<2.0,>=1.24.3\n",
            "  Downloading grpcio-1.54.2-cp38-cp38-manylinux_2_17_x86_64.manylinux2014_x86_64.whl (5.1 MB)\n",
            "\u001b[K     |████████████████████████████████| 5.1 MB 58.9 MB/s \n",
            "\u001b[?25hCollecting opt-einsum>=2.3.2\n",
            "  Downloading opt_einsum-3.3.0-py3-none-any.whl (65 kB)\n",
            "\u001b[K     |████████████████████████████████| 65 kB 5.3 MB/s \n",
            "\u001b[?25hCollecting libclang>=13.0.0\n",
            "  Downloading libclang-16.0.0-py2.py3-none-manylinux2010_x86_64.whl (22.9 MB)\n",
            "\u001b[K     |████████████████████████████████| 22.9 MB 1.3 MB/s \n",
            "\u001b[?25hCollecting keras<2.12,>=2.11.0\n",
            "  Using cached keras-2.11.0-py2.py3-none-any.whl (1.7 MB)\n",
            "Collecting tensorboard<2.12,>=2.11\n",
            "  Using cached tensorboard-2.11.2-py3-none-any.whl (6.0 MB)\n",
            "Collecting tensorflow-estimator<2.12,>=2.11.0\n",
            "  Using cached tensorflow_estimator-2.11.0-py2.py3-none-any.whl (439 kB)\n",
            "Collecting google-pasta>=0.1.1\n",
            "  Downloading google_pasta-0.2.0-py3-none-any.whl (57 kB)\n",
            "\u001b[K     |████████████████████████████████| 57 kB 5.7 MB/s \n",
            "\u001b[?25hCollecting gast<=0.4.0,>=0.2.1\n",
            "  Downloading gast-0.4.0-py3-none-any.whl (9.8 kB)\n",
            "Collecting astunparse>=1.6.0\n",
            "  Downloading astunparse-1.6.3-py2.py3-none-any.whl (12 kB)\n",
            "Collecting wrapt>=1.11.0\n",
            "  Downloading wrapt-1.15.0-cp38-cp38-manylinux_2_5_x86_64.manylinux1_x86_64.manylinux_2_17_x86_64.manylinux2014_x86_64.whl (81 kB)\n",
            "\u001b[K     |████████████████████████████████| 81 kB 10.3 MB/s \n",
            "\u001b[?25hCollecting termcolor>=1.1.0\n",
            "  Downloading termcolor-2.3.0-py3-none-any.whl (6.9 kB)\n",
            "Collecting tensorflow-io-gcs-filesystem>=0.23.1; platform_machine != \"arm64\" or platform_system != \"Darwin\"\n",
            "  Downloading tensorflow_io_gcs_filesystem-0.32.0-cp38-cp38-manylinux_2_12_x86_64.manylinux2010_x86_64.whl (2.4 MB)\n",
            "\u001b[K     |████████████████████████████████| 2.4 MB 56.6 MB/s \n",
            "\u001b[?25hCollecting flatbuffers>=2.0\n",
            "  Downloading flatbuffers-23.5.26-py2.py3-none-any.whl (26 kB)\n",
            "Collecting async-timeout>=4.0.2; python_full_version <= \"3.11.2\"\n",
            "  Using cached async_timeout-4.0.2-py3-none-any.whl (5.8 kB)\n",
            "Collecting bidict>=0.21.0\n",
            "  Using cached bidict-0.22.1-py3-none-any.whl (35 kB)\n",
            "Collecting ruamel.yaml.clib>=0.2.7; platform_python_implementation == \"CPython\" and python_version < \"3.12\"\n",
            "  Downloading ruamel.yaml.clib-0.2.7-cp38-cp38-manylinux_2_17_x86_64.manylinux2014_x86_64.manylinux_2_24_x86_64.whl (555 kB)\n",
            "\u001b[K     |████████████████████████████████| 555 kB 67.3 MB/s \n",
            "\u001b[?25hCollecting wcwidth\n",
            "  Downloading wcwidth-0.2.6-py2.py3-none-any.whl (29 kB)\n",
            "Collecting jmespath<2.0.0,>=0.7.1\n",
            "  Using cached jmespath-1.0.1-py3-none-any.whl (20 kB)\n",
            "Collecting botocore<1.30.0,>=1.29.146\n",
            "  Using cached botocore-1.29.146-py3-none-any.whl (10.8 MB)\n",
            "Collecting s3transfer<0.7.0,>=0.6.0\n",
            "  Using cached s3transfer-0.6.1-py3-none-any.whl (79 kB)\n",
            "Collecting certifi\n",
            "  Downloading certifi-2023.5.7-py3-none-any.whl (156 kB)\n",
            "\u001b[K     |████████████████████████████████| 156 kB 79.7 MB/s \n",
            "\u001b[?25hCollecting urllib3>=1.26.11; python_version >= \"3.6\"\n",
            "  Downloading urllib3-2.0.2-py3-none-any.whl (123 kB)\n",
            "\u001b[K     |████████████████████████████████| 123 kB 76.4 MB/s \n",
            "\u001b[?25hCollecting dnspython<2.0.0,>=1.16.0; extra == \"srv\"\n",
            "  Using cached dnspython-1.16.0-py2.py3-none-any.whl (188 kB)\n",
            "Collecting fire\n",
            "  Using cached fire-0.5.0.tar.gz (88 kB)\n",
            "Collecting cycler>=0.10\n",
            "  Downloading cycler-0.11.0-py3-none-any.whl (6.4 kB)\n",
            "Collecting fonttools>=4.22.0\n",
            "  Downloading fonttools-4.39.4-py3-none-any.whl (1.0 MB)\n",
            "\u001b[K     |████████████████████████████████| 1.0 MB 74.8 MB/s \n",
            "\u001b[?25hCollecting kiwisolver>=1.0.1\n",
            "  Downloading kiwisolver-1.4.4-cp38-cp38-manylinux_2_5_x86_64.manylinux1_x86_64.whl (1.2 MB)\n",
            "\u001b[K     |████████████████████████████████| 1.2 MB 72.7 MB/s \n",
            "\u001b[?25hCollecting pillow>=6.2.0\n",
            "  Downloading Pillow-9.5.0-cp38-cp38-manylinux_2_17_x86_64.manylinux2014_x86_64.whl (3.3 MB)\n",
            "\u001b[K     |████████████████████████████████| 3.3 MB 52.6 MB/s \n",
            "\u001b[?25hCollecting cryptography>=3.4.0; extra == \"crypto\"\n",
            "  Downloading cryptography-41.0.1-cp37-abi3-manylinux_2_17_x86_64.manylinux2014_x86_64.whl (4.3 MB)\n",
            "\u001b[K     |████████████████████████████████| 4.3 MB 74.2 MB/s \n",
            "\u001b[?25hCollecting httptools>=0.0.10\n",
            "  Downloading httptools-0.5.0-cp38-cp38-manylinux_2_5_x86_64.manylinux1_x86_64.manylinux_2_17_x86_64.manylinux2014_x86_64.whl (427 kB)\n",
            "\u001b[K     |████████████████████████████████| 427 kB 82.6 MB/s \n",
            "\u001b[?25hCollecting uvloop>=0.5.3; sys_platform != \"win32\" and implementation_name == \"cpython\"\n",
            "  Downloading uvloop-0.17.0-cp38-cp38-manylinux_2_17_x86_64.manylinux2014_x86_64.whl (4.6 MB)\n",
            "\u001b[K     |████████████████████████████████| 4.6 MB 87.3 MB/s \n",
            "\u001b[?25hCollecting multidict<6.0,>=5.0\n",
            "  Downloading multidict-5.2.0-cp38-cp38-manylinux_2_5_x86_64.manylinux1_x86_64.manylinux_2_12_x86_64.manylinux2010_x86_64.whl (187 kB)\n",
            "\u001b[K     |████████████████████████████████| 187 kB 76.3 MB/s \n",
            "\u001b[?25hCollecting aiofiles>=0.6.0\n",
            "  Using cached aiofiles-23.1.0-py3-none-any.whl (14 kB)\n",
            "Collecting msgpack>=0.5.2\n",
            "  Downloading msgpack-1.0.5-cp38-cp38-manylinux_2_17_x86_64.manylinux2014_x86_64.whl (322 kB)\n",
            "\u001b[K     |████████████████████████████████| 322 kB 83.0 MB/s \n",
            "\u001b[?25hCollecting greenlet!=0.4.17; python_version >= \"3\" and (platform_machine == \"aarch64\" or (platform_machine == \"ppc64le\" or (platform_machine == \"x86_64\" or (platform_machine == \"amd64\" or (platform_machine == \"AMD64\" or (platform_machine == \"win32\" or platform_machine == \"WIN32\"))))))\n",
            "  Downloading greenlet-2.0.2-cp38-cp38-manylinux_2_17_x86_64.manylinux2014_x86_64.whl (618 kB)\n",
            "\u001b[K     |████████████████████████████████| 618 kB 76.9 MB/s \n",
            "\u001b[?25hCollecting humanfriendly>=9.1\n",
            "  Using cached humanfriendly-10.0-py2.py3-none-any.whl (86 kB)\n",
            "Collecting requests-toolbelt\n",
            "  Using cached requests_toolbelt-1.0.0-py2.py3-none-any.whl (54 kB)\n",
            "Collecting future\n",
            "  Downloading future-0.18.3.tar.gz (840 kB)\n",
            "\u001b[K     |████████████████████████████████| 840 kB 62.1 MB/s \n",
            "\u001b[?25hCollecting tzlocal!=3.*,>=2.0\n",
            "  Downloading tzlocal-5.0.1-py3-none-any.whl (20 kB)\n",
            "Collecting pyrsistent!=0.17.0,!=0.17.1,!=0.17.2,>=0.14.0\n",
            "  Downloading pyrsistent-0.19.3-py3-none-any.whl (57 kB)\n",
            "\u001b[K     |████████████████████████████████| 57 kB 5.9 MB/s \n",
            "\u001b[?25hCollecting importlib-resources>=1.4.0; python_version < \"3.9\"\n",
            "  Downloading importlib_resources-5.12.0-py3-none-any.whl (36 kB)\n",
            "Collecting pkgutil-resolve-name>=1.3.10; python_version < \"3.9\"\n",
            "  Downloading pkgutil_resolve_name-1.3.10-py3-none-any.whl (4.7 kB)\n",
            "Collecting threadpoolctl>=2.0.0\n",
            "  Downloading threadpoolctl-3.1.0-py3-none-any.whl (14 kB)\n",
            "Collecting idna<4,>=2.5\n",
            "  Downloading idna-3.4-py3-none-any.whl (61 kB)\n",
            "\u001b[K     |████████████████████████████████| 61 kB 120 kB/s \n",
            "\u001b[?25hCollecting charset-normalizer<4,>=2\n",
            "  Downloading charset_normalizer-3.1.0-cp38-cp38-manylinux_2_17_x86_64.manylinux2014_x86_64.whl (195 kB)\n",
            "\u001b[K     |████████████████████████████████| 195 kB 82.9 MB/s \n",
            "\u001b[?25hCollecting rsa<5,>=3.1.4\n",
            "  Downloading rsa-4.9-py3-none-any.whl (34 kB)\n",
            "Collecting pyasn1-modules>=0.2.1\n",
            "  Downloading pyasn1_modules-0.3.0-py2.py3-none-any.whl (181 kB)\n",
            "\u001b[K     |████████████████████████████████| 181 kB 59.6 MB/s \n",
            "\u001b[?25hCollecting cachetools<6.0,>=2.0.0\n",
            "  Downloading cachetools-5.3.1-py3-none-any.whl (9.3 kB)\n",
            "Collecting magic-filter>=1.0.9\n",
            "  Using cached magic_filter-1.0.9-py3-none-any.whl (9.3 kB)\n",
            "Collecting Babel<2.10.0,>=2.9.1\n",
            "  Using cached Babel-2.9.1-py2.py3-none-any.whl (8.8 MB)\n",
            "Collecting frozenlist>=1.1.1\n",
            "  Downloading frozenlist-1.3.3-cp38-cp38-manylinux_2_5_x86_64.manylinux1_x86_64.manylinux_2_17_x86_64.manylinux2014_x86_64.whl (161 kB)\n",
            "\u001b[K     |████████████████████████████████| 161 kB 72.2 MB/s \n",
            "\u001b[?25hCollecting aiosignal>=1.1.2\n",
            "  Using cached aiosignal-1.3.1-py3-none-any.whl (7.6 kB)\n",
            "Collecting locket\n",
            "  Downloading locket-1.0.0-py2.py3-none-any.whl (4.4 kB)\n",
            "Collecting importlib-metadata>=3.6; python_version < \"3.10\"\n",
            "  Downloading importlib_metadata-6.6.0-py3-none-any.whl (22 kB)\n",
            "Collecting pamqp==3.2.1\n",
            "  Using cached pamqp-3.2.1-py2.py3-none-any.whl (33 kB)\n",
            "Collecting werkzeug>=1.0.1\n",
            "  Downloading Werkzeug-2.3.4-py3-none-any.whl (242 kB)\n",
            "\u001b[K     |████████████████████████████████| 242 kB 101.6 MB/s \n",
            "\u001b[?25hCollecting tensorboard-data-server<0.7.0,>=0.6.0\n",
            "  Using cached tensorboard_data_server-0.6.1-py3-none-manylinux2010_x86_64.whl (4.9 MB)\n",
            "Collecting markdown>=2.6.8\n",
            "  Downloading Markdown-3.4.3-py3-none-any.whl (93 kB)\n",
            "\u001b[K     |████████████████████████████████| 93 kB 2.8 MB/s \n",
            "\u001b[?25hCollecting tensorboard-plugin-wit>=1.6.0\n",
            "  Downloading tensorboard_plugin_wit-1.8.1-py3-none-any.whl (781 kB)\n",
            "\u001b[K     |████████████████████████████████| 781 kB 80.4 MB/s \n",
            "\u001b[?25hRequirement already satisfied: wheel>=0.26 in /usr/lib/python3/dist-packages (from tensorboard<2.12,>=2.11->tensorflow==2.11.0; sys_platform != \"darwin\" or platform_machine != \"arm64\"->rasa) (0.34.2)\n",
            "Collecting google-auth-oauthlib<0.5,>=0.4.1\n",
            "  Using cached google_auth_oauthlib-0.4.6-py2.py3-none-any.whl (18 kB)\n",
            "Collecting cffi>=1.12\n",
            "  Downloading cffi-1.15.1-cp38-cp38-manylinux_2_17_x86_64.manylinux2014_x86_64.whl (442 kB)\n",
            "\u001b[K     |████████████████████████████████| 442 kB 79.8 MB/s \n",
            "\u001b[?25hCollecting backports.zoneinfo; python_version < \"3.9\"\n",
            "  Downloading backports.zoneinfo-0.2.1-cp38-cp38-manylinux1_x86_64.whl (74 kB)\n",
            "\u001b[K     |████████████████████████████████| 74 kB 3.1 MB/s \n",
            "\u001b[?25hCollecting zipp>=3.1.0; python_version < \"3.10\"\n",
            "  Downloading zipp-3.15.0-py3-none-any.whl (6.8 kB)\n",
            "Collecting pyasn1>=0.1.3\n",
            "  Downloading pyasn1-0.5.0-py2.py3-none-any.whl (83 kB)\n",
            "\u001b[K     |████████████████████████████████| 83 kB 2.5 MB/s \n",
            "\u001b[?25hCollecting MarkupSafe>=2.1.1\n",
            "  Downloading MarkupSafe-2.1.3-cp38-cp38-manylinux_2_17_x86_64.manylinux2014_x86_64.whl (25 kB)\n",
            "Collecting requests-oauthlib>=0.7.0\n",
            "  Downloading requests_oauthlib-1.3.1-py2.py3-none-any.whl (23 kB)\n",
            "Collecting pycparser\n",
            "  Downloading pycparser-2.21-py2.py3-none-any.whl (118 kB)\n",
            "\u001b[K     |████████████████████████████████| 118 kB 114.4 MB/s \n",
            "\u001b[?25hCollecting oauthlib>=3.0.0\n",
            "  Downloading oauthlib-3.2.2-py3-none-any.whl (151 kB)\n",
            "\u001b[K     |████████████████████████████████| 151 kB 76.9 MB/s \n",
            "\u001b[?25hBuilding wheels for collected packages: mattermostwrapper, randomname, docopt, fire, future\n",
            "  Building wheel for mattermostwrapper (setup.py) ... \u001b[?25l\u001b[?25hdone\n",
            "  Created wheel for mattermostwrapper: filename=mattermostwrapper-2.2-py3-none-any.whl size=2464 sha256=d0cff9f625ab78a8396ff453d532c9b4be996c6587efc02e35fefd4e95661e2d\n",
            "  Stored in directory: /root/.cache/pip/wheels/1a/d3/89/63aef88b581e7acc2c48812e6160a2bae57b6ef180f6e1f293\n",
            "  Building wheel for randomname (setup.py) ... \u001b[?25l\u001b[?25hdone\n",
            "  Created wheel for randomname: filename=randomname-0.1.5-py3-none-any.whl size=58822 sha256=93fce07ce22bde20d693d6099c031ab351c6604a6f76539dbb114dc5a5fb3e40\n",
            "  Stored in directory: /root/.cache/pip/wheels/46/0a/9d/32f2d10d4fae6ddfbdeb504d949ccd70d666382a277e7c1bd5\n",
            "  Building wheel for docopt (setup.py) ... \u001b[?25l\u001b[?25hdone\n",
            "  Created wheel for docopt: filename=docopt-0.6.2-py2.py3-none-any.whl size=13704 sha256=67368b8e2b10e804ac228a24c56abe27d83cb7460f06516b911b3536eb56a02f\n",
            "  Stored in directory: /root/.cache/pip/wheels/56/ea/58/ead137b087d9e326852a851351d1debf4ada529b6ac0ec4e8c\n",
            "  Building wheel for fire (setup.py) ... \u001b[?25l\u001b[?25hdone\n",
            "  Created wheel for fire: filename=fire-0.5.0-py2.py3-none-any.whl size=116936 sha256=1a49b0dbacc0debbbae9a983f86b973ef1567091c0b82c84ab65ec6a7750068a\n",
            "  Stored in directory: /root/.cache/pip/wheels/5b/eb/43/7295e71293b218ddfd627f935229bf54af9018add7fbb5aac6\n",
            "  Building wheel for future (setup.py) ... \u001b[?25l\u001b[?25hdone\n",
            "  Created wheel for future: filename=future-0.18.3-py3-none-any.whl size=492025 sha256=f7e2aea59feabdbee9a11005ed6b698503e29a1e7549ffae20481a2f2b701e66\n",
            "  Stored in directory: /root/.cache/pip/wheels/a0/0b/ee/e6994fadb42c1354dcccb139b0bf2795271bddfe6253ccdf11\n",
            "Successfully built mattermostwrapper randomname docopt fire future\n",
            "\u001b[31mERROR: google-auth 2.19.1 has requirement urllib3<2.0, but you'll have urllib3 2.0.2 which is incompatible.\u001b[0m\n",
            "\u001b[31mERROR: botocore 1.29.146 has requirement urllib3<1.27,>=1.25.4, but you'll have urllib3 2.0.2 which is incompatible.\u001b[0m\n",
            "Installing collected packages: idna, charset-normalizer, certifi, urllib3, requests, mattermostwrapper, typing-utils, numpy, click, pyyaml, fsspec, toolz, locket, partd, pyparsing, packaging, cloudpickle, dask, humanfriendly, coloredlogs, httptools, uvloop, multidict, sanic-routing, aiofiles, ujson, websockets, sanic, sanic-cors, typing-extensions, wcwidth, prompt-toolkit, ruamel.yaml.clib, ruamel.yaml, rasa-sdk, tqdm, questionary, zipp, importlib-metadata, typeguard, tensorflow-addons, six, python-crfsuite, tabulate, sklearn-crfsuite, python-dateutil, docopt, pykwalify, regex, pamqp, yarl, aiormq, aio-pika, absl-py, colorclass, h5py, grpcio, opt-einsum, libclang, keras, MarkupSafe, werkzeug, tensorboard-data-server, pyasn1, rsa, pyasn1-modules, cachetools, google-auth, protobuf, markdown, tensorboard-plugin-wit, oauthlib, requests-oauthlib, google-auth-oauthlib, tensorboard, tensorflow-estimator, google-pasta, gast, astunparse, wrapt, termcolor, tensorflow-io-gcs-filesystem, flatbuffers, tensorflow, async-timeout, redis, python-engineio, bidict, python-socketio, pydantic, jmespath, botocore, s3transfer, boto3, pytz, sentry-sdk, dnspython, pymongo, fire, randomname, cycler, fonttools, kiwisolver, pillow, matplotlib, pycparser, cffi, cryptography, PyJWT, msgpack, CacheControl, greenlet, SQLAlchemy, requests-toolbelt, future, webexteamssdk, backports.zoneinfo, tzlocal, apscheduler, fbmessenger, confluent-kafka, tarsafe, tensorflow-hub, twilio, pyrsistent, attrs, importlib-resources, pkgutil-resolve-name, jsonschema, scipy, threadpoolctl, joblib, scikit-learn, networkx, terminaltables, slack-sdk, jsonpickle, portalocker, rocketchat-API, psycopg2-binary, pydot, tensorflow-text, sanic-jwt, colorhash, frozenlist, aiosignal, aiohttp, magic-filter, Babel, aiogram, pluggy, rasa\n",
            "Successfully installed Babel-2.9.1 CacheControl-0.12.13 MarkupSafe-2.1.3 PyJWT-2.7.0 SQLAlchemy-1.4.48 absl-py-1.3.0 aio-pika-8.2.3 aiofiles-23.1.0 aiogram-2.25.1 aiohttp-3.8.4 aiormq-6.4.2 aiosignal-1.3.1 apscheduler-3.9.1.post1 astunparse-1.6.3 async-timeout-4.0.2 attrs-22.1.0 backports.zoneinfo-0.2.1 bidict-0.22.1 boto3-1.26.146 botocore-1.29.146 cachetools-5.3.1 certifi-2023.5.7 cffi-1.15.1 charset-normalizer-3.1.0 click-8.1.3 cloudpickle-2.2.1 colorclass-2.2.2 coloredlogs-15.0.1 colorhash-1.2.1 confluent-kafka-1.9.2 cryptography-41.0.1 cycler-0.11.0 dask-2022.10.2 dnspython-1.16.0 docopt-0.6.2 fbmessenger-6.0.0 fire-0.5.0 flatbuffers-23.5.26 fonttools-4.39.4 frozenlist-1.3.3 fsspec-2023.5.0 future-0.18.3 gast-0.4.0 google-auth-2.19.1 google-auth-oauthlib-0.4.6 google-pasta-0.2.0 greenlet-2.0.2 grpcio-1.54.2 h5py-3.8.0 httptools-0.5.0 humanfriendly-10.0 idna-3.4 importlib-metadata-6.6.0 importlib-resources-5.12.0 jmespath-1.0.1 joblib-1.2.0 jsonpickle-3.0.1 jsonschema-4.17.3 keras-2.11.0 kiwisolver-1.4.4 libclang-16.0.0 locket-1.0.0 magic-filter-1.0.9 markdown-3.4.3 matplotlib-3.5.3 mattermostwrapper-2.2 msgpack-1.0.5 multidict-5.2.0 networkx-2.6.3 numpy-1.24.3 oauthlib-3.2.2 opt-einsum-3.3.0 packaging-20.9 pamqp-3.2.1 partd-1.4.0 pillow-9.5.0 pkgutil-resolve-name-1.3.10 pluggy-1.0.0 portalocker-2.7.0 prompt-toolkit-3.0.28 protobuf-3.19.6 psycopg2-binary-2.9.6 pyasn1-0.5.0 pyasn1-modules-0.3.0 pycparser-2.21 pydantic-1.10.2 pydot-1.4.2 pykwalify-1.8.0 pymongo-3.10.1 pyparsing-3.0.9 pyrsistent-0.19.3 python-crfsuite-0.9.9 python-dateutil-2.8.2 python-engineio-4.4.1 python-socketio-5.8.0 pytz-2022.7.1 pyyaml-6.0 questionary-1.10.0 randomname-0.1.5 rasa-3.5.10 rasa-sdk-3.5.1 redis-4.5.5 regex-2022.10.31 requests-2.31.0 requests-oauthlib-1.3.1 requests-toolbelt-1.0.0 rocketchat-API-1.28.1 rsa-4.9 ruamel.yaml-0.17.31 ruamel.yaml.clib-0.2.7 s3transfer-0.6.1 sanic-21.12.2 sanic-cors-2.0.1 sanic-jwt-1.8.0 sanic-routing-0.7.2 scikit-learn-1.1.3 scipy-1.8.1 sentry-sdk-1.14.0 six-1.16.0 sklearn-crfsuite-0.3.6 slack-sdk-3.21.3 tabulate-0.9.0 tarsafe-0.0.3 tensorboard-2.11.2 tensorboard-data-server-0.6.1 tensorboard-plugin-wit-1.8.1 tensorflow-2.11.0 tensorflow-addons-0.19.0 tensorflow-estimator-2.11.0 tensorflow-hub-0.12.0 tensorflow-io-gcs-filesystem-0.32.0 tensorflow-text-2.11.0 termcolor-2.3.0 terminaltables-3.1.10 threadpoolctl-3.1.0 toolz-0.12.0 tqdm-4.65.0 twilio-7.14.2 typeguard-4.0.0 typing-extensions-4.6.3 typing-utils-0.1.0 tzlocal-5.0.1 ujson-5.7.0 urllib3-2.0.2 uvloop-0.17.0 wcwidth-0.2.6 webexteamssdk-1.6.1 websockets-10.4 werkzeug-2.3.4 wrapt-1.15.0 yarl-1.9.2 zipp-3.15.0\n"
          ]
        },
        {
          "output_type": "display_data",
          "data": {
            "application/vnd.colab-display-data+json": {
              "pip_warning": {
                "packages": [
                  "_ruamel_yaml",
                  "attr",
                  "cffi",
                  "cycler",
                  "dateutil",
                  "google",
                  "kiwisolver",
                  "matplotlib",
                  "mpl_toolkits",
                  "packaging",
                  "pluggy",
                  "portalocker",
                  "prompt_toolkit",
                  "pyrsistent",
                  "redis",
                  "ruamel",
                  "six",
                  "tarsafe",
                  "wcwidth"
                ]
              }
            }
          },
          "metadata": {}
        }
      ],
      "source": [
        "!pip install rasa"
      ]
    },
    {
      "cell_type": "markdown",
      "metadata": {
        "id": "EKxfJiQYIkv9"
      },
      "source": [
        "**Little Changes in Installtion**\n",
        "1. upgrade table from 3.7.0 to 3.6.1\n",
        "2. upgrade ipython to avoid crashing colab session, while doing restart the runtime.\n",
        "\n",
        "After, installing ipython you saw a \"RESTART RUNTIME\" button in \"ipython\" cell output. \n",
        "\n",
        "Click on it to restart the runtime and you are good to go. \n",
        "\n",
        "No need to update anything run as usual.\n"
      ]
    },
    {
      "cell_type": "code",
      "execution_count": 56,
      "metadata": {
        "colab": {
          "base_uri": "https://localhost:8080/"
        },
        "id": "hoGEpudx0Fcn",
        "outputId": "6f01aad0-536e-4601-b8e5-bd646ab5d226"
      },
      "outputs": [
        {
          "output_type": "stream",
          "name": "stdout",
          "text": [
            "Looking in indexes: https://pypi.org/simple, https://us-python.pkg.dev/colab-wheels/public/simple/\n",
            "Collecting tables==3.6.1\n",
            "  Downloading tables-3.6.1-cp38-cp38-manylinux1_x86_64.whl (4.3 MB)\n",
            "\u001b[K     |████████████████████████████████| 4.3 MB 4.8 MB/s \n",
            "\u001b[?25hCollecting numexpr>=2.6.2\n",
            "  Downloading numexpr-2.8.4-cp38-cp38-manylinux_2_17_x86_64.manylinux2014_x86_64.whl (381 kB)\n",
            "\u001b[K     |████████████████████████████████| 381 kB 57.5 MB/s \n",
            "\u001b[?25hRequirement already satisfied, skipping upgrade: numpy>=1.9.3 in /usr/local/lib/python3.8/dist-packages (from tables==3.6.1) (1.24.3)\n",
            "Installing collected packages: numexpr, tables\n",
            "Successfully installed numexpr-2.8.4 tables-3.6.1\n"
          ]
        }
      ],
      "source": [
        "!pip install -U tables==3.6.1"
      ]
    },
    {
      "cell_type": "code",
      "execution_count": 57,
      "metadata": {
        "colab": {
          "base_uri": "https://localhost:8080/",
          "height": 974
        },
        "id": "Vu4CYtxz_-oG",
        "outputId": "fa921236-ebe4-4aa4-c8aa-e24b74d3d734"
      },
      "outputs": [
        {
          "output_type": "stream",
          "name": "stdout",
          "text": [
            "Looking in indexes: https://pypi.org/simple, https://us-python.pkg.dev/colab-wheels/public/simple/\n",
            "Collecting ipython\n",
            "  Downloading ipython-8.12.2-py3-none-any.whl (797 kB)\n",
            "\u001b[K     |████████████████████████████████| 797 kB 4.8 MB/s \n",
            "\u001b[?25hCollecting backcall\n",
            "  Downloading backcall-0.2.0-py2.py3-none-any.whl (11 kB)\n",
            "Collecting stack-data\n",
            "  Using cached stack_data-0.6.2-py3-none-any.whl (24 kB)\n",
            "Collecting decorator\n",
            "  Downloading decorator-5.1.1-py3-none-any.whl (9.1 kB)\n",
            "Collecting pexpect>4.3; sys_platform != \"win32\"\n",
            "  Downloading pexpect-4.8.0-py2.py3-none-any.whl (59 kB)\n",
            "\u001b[K     |████████████████████████████████| 59 kB 6.4 MB/s \n",
            "\u001b[?25hCollecting pygments>=2.4.0\n",
            "  Downloading Pygments-2.15.1-py3-none-any.whl (1.1 MB)\n",
            "\u001b[K     |████████████████████████████████| 1.1 MB 73.6 MB/s \n",
            "\u001b[?25hCollecting jedi>=0.16\n",
            "  Using cached jedi-0.18.2-py2.py3-none-any.whl (1.6 MB)\n",
            "Collecting pickleshare\n",
            "  Downloading pickleshare-0.7.5-py2.py3-none-any.whl (6.9 kB)\n",
            "Collecting prompt-toolkit!=3.0.37,<3.1.0,>=3.0.30\n",
            "  Using cached prompt_toolkit-3.0.38-py3-none-any.whl (385 kB)\n",
            "Collecting matplotlib-inline\n",
            "  Downloading matplotlib_inline-0.1.6-py3-none-any.whl (9.4 kB)\n",
            "Requirement already satisfied, skipping upgrade: typing-extensions; python_version < \"3.10\" in /usr/local/lib/python3.8/dist-packages (from ipython) (4.6.3)\n",
            "Collecting traitlets>=5\n",
            "  Downloading traitlets-5.9.0-py3-none-any.whl (117 kB)\n",
            "\u001b[K     |████████████████████████████████| 117 kB 84.1 MB/s \n",
            "\u001b[?25hCollecting executing>=1.2.0\n",
            "  Using cached executing-1.2.0-py2.py3-none-any.whl (24 kB)\n",
            "Collecting pure-eval\n",
            "  Using cached pure_eval-0.2.2-py3-none-any.whl (11 kB)\n",
            "Collecting asttokens>=2.1.0\n",
            "  Using cached asttokens-2.2.1-py2.py3-none-any.whl (26 kB)\n",
            "Collecting ptyprocess>=0.5\n",
            "  Downloading ptyprocess-0.7.0-py2.py3-none-any.whl (13 kB)\n",
            "Collecting parso<0.9.0,>=0.8.0\n",
            "  Downloading parso-0.8.3-py2.py3-none-any.whl (100 kB)\n",
            "\u001b[K     |████████████████████████████████| 100 kB 13.3 MB/s \n",
            "\u001b[?25hRequirement already satisfied, skipping upgrade: wcwidth in /usr/local/lib/python3.8/dist-packages (from prompt-toolkit!=3.0.37,<3.1.0,>=3.0.30->ipython) (0.2.6)\n",
            "Requirement already satisfied, skipping upgrade: six in /usr/local/lib/python3.8/dist-packages (from asttokens>=2.1.0->stack-data->ipython) (1.16.0)\n",
            "\u001b[31mERROR: rasa 3.5.10 has requirement prompt-toolkit<3.0.29,>=3.0, but you'll have prompt-toolkit 3.0.38 which is incompatible.\u001b[0m\n",
            "\u001b[31mERROR: rasa-sdk 3.5.1 has requirement prompt-toolkit<3.0.29,>=3.0, but you'll have prompt-toolkit 3.0.38 which is incompatible.\u001b[0m\n",
            "Installing collected packages: backcall, executing, pure-eval, asttokens, stack-data, decorator, ptyprocess, pexpect, pygments, parso, jedi, pickleshare, prompt-toolkit, traitlets, matplotlib-inline, ipython\n",
            "  Attempting uninstall: prompt-toolkit\n",
            "    Found existing installation: prompt-toolkit 3.0.28\n",
            "    Uninstalling prompt-toolkit-3.0.28:\n",
            "      Successfully uninstalled prompt-toolkit-3.0.28\n",
            "Successfully installed asttokens-2.2.1 backcall-0.2.0 decorator-5.1.1 executing-1.2.0 ipython-8.12.2 jedi-0.18.2 matplotlib-inline-0.1.6 parso-0.8.3 pexpect-4.8.0 pickleshare-0.7.5 prompt-toolkit-3.0.38 ptyprocess-0.7.0 pure-eval-0.2.2 pygments-2.15.1 stack-data-0.6.2 traitlets-5.9.0\n"
          ]
        },
        {
          "output_type": "display_data",
          "data": {
            "application/vnd.colab-display-data+json": {
              "pip_warning": {
                "packages": [
                  "matplotlib_inline",
                  "pexpect",
                  "pickleshare"
                ]
              }
            }
          },
          "metadata": {}
        }
      ],
      "source": [
        "!pip install -U ipython"
      ]
    },
    {
      "cell_type": "markdown",
      "metadata": {
        "id": "bo-r5gkVH40O"
      },
      "source": [
        "**Click on above \"RESTART RUNTIME\" button**\n",
        "\n",
        "![button.PNG](data:image/png;base64,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)"
      ]
    },
    {
      "cell_type": "code",
      "execution_count": 40,
      "metadata": {
        "colab": {
          "base_uri": "https://localhost:8080/"
        },
        "id": "4U2Szt_9xE6z",
        "outputId": "53ab2ed7-f220-47d8-a698-0d7ee813ae90"
      },
      "outputs": [
        {
          "output_type": "stream",
          "name": "stdout",
          "text": [
            "2023-06-05 07:33:58.898983: I tensorflow/core/platform/cpu_feature_guard.cc:193] This TensorFlow binary is optimized with oneAPI Deep Neural Network Library (oneDNN) to use the following CPU instructions in performance-critical operations:  AVX2 FMA\n",
            "To enable them in other operations, rebuild TensorFlow with the appropriate compiler flags.\n",
            "2023-06-05 07:33:59.962178: W tensorflow/compiler/xla/stream_executor/platform/default/dso_loader.cc:64] Could not load dynamic library 'libnvinfer.so.7'; dlerror: libnvinfer.so.7: cannot open shared object file: No such file or directory; LD_LIBRARY_PATH: /usr/lib64-nvidia\n",
            "2023-06-05 07:33:59.962389: W tensorflow/compiler/xla/stream_executor/platform/default/dso_loader.cc:64] Could not load dynamic library 'libnvinfer_plugin.so.7'; dlerror: libnvinfer_plugin.so.7: cannot open shared object file: No such file or directory; LD_LIBRARY_PATH: /usr/lib64-nvidia\n",
            "2023-06-05 07:33:59.962449: W tensorflow/compiler/tf2tensorrt/utils/py_utils.cc:38] TF-TRT Warning: Cannot dlopen some TensorRT libraries. If you would like to use Nvidia GPU with TensorRT, please make sure the missing libraries mentioned above are installed properly.\n",
            "\u001b[38;5;3m⚠ As of spaCy v3.0, shortcuts like 'en' are deprecated. Please use the\n",
            "full pipeline package name 'en_core_web_sm' instead.\u001b[0m\n",
            "Looking in indexes: https://pypi.org/simple, https://us-python.pkg.dev/colab-wheels/public/simple/\n",
            "Collecting en-core-web-sm==3.5.0\n",
            "  Downloading https://github.com/explosion/spacy-models/releases/download/en_core_web_sm-3.5.0/en_core_web_sm-3.5.0-py3-none-any.whl (12.8 MB)\n",
            "\u001b[2K     \u001b[90m━━━━━━━━━━━━━━━━━━━━━━━━━━━━━━━━━━━━━━━━\u001b[0m \u001b[32m12.8/12.8 MB\u001b[0m \u001b[31m68.4 MB/s\u001b[0m eta \u001b[36m0:00:00\u001b[0m\n",
            "\u001b[?25hRequirement already satisfied: spacy<3.6.0,>=3.5.0 in /usr/local/lib/python3.10/dist-packages (from en-core-web-sm==3.5.0) (3.5.2)\n",
            "Requirement already satisfied: spacy-legacy<3.1.0,>=3.0.11 in /usr/local/lib/python3.10/dist-packages (from spacy<3.6.0,>=3.5.0->en-core-web-sm==3.5.0) (3.0.12)\n",
            "Requirement already satisfied: spacy-loggers<2.0.0,>=1.0.0 in /usr/local/lib/python3.10/dist-packages (from spacy<3.6.0,>=3.5.0->en-core-web-sm==3.5.0) (1.0.4)\n",
            "Requirement already satisfied: murmurhash<1.1.0,>=0.28.0 in /usr/local/lib/python3.10/dist-packages (from spacy<3.6.0,>=3.5.0->en-core-web-sm==3.5.0) (1.0.9)\n",
            "Requirement already satisfied: cymem<2.1.0,>=2.0.2 in /usr/local/lib/python3.10/dist-packages (from spacy<3.6.0,>=3.5.0->en-core-web-sm==3.5.0) (2.0.7)\n",
            "Requirement already satisfied: preshed<3.1.0,>=3.0.2 in /usr/local/lib/python3.10/dist-packages (from spacy<3.6.0,>=3.5.0->en-core-web-sm==3.5.0) (3.0.8)\n",
            "Requirement already satisfied: thinc<8.2.0,>=8.1.8 in /usr/local/lib/python3.10/dist-packages (from spacy<3.6.0,>=3.5.0->en-core-web-sm==3.5.0) (8.1.9)\n",
            "Requirement already satisfied: wasabi<1.2.0,>=0.9.1 in /usr/local/lib/python3.10/dist-packages (from spacy<3.6.0,>=3.5.0->en-core-web-sm==3.5.0) (1.1.1)\n",
            "Requirement already satisfied: srsly<3.0.0,>=2.4.3 in /usr/local/lib/python3.10/dist-packages (from spacy<3.6.0,>=3.5.0->en-core-web-sm==3.5.0) (2.4.6)\n",
            "Requirement already satisfied: catalogue<2.1.0,>=2.0.6 in /usr/local/lib/python3.10/dist-packages (from spacy<3.6.0,>=3.5.0->en-core-web-sm==3.5.0) (2.0.8)\n",
            "Requirement already satisfied: typer<0.8.0,>=0.3.0 in /usr/local/lib/python3.10/dist-packages (from spacy<3.6.0,>=3.5.0->en-core-web-sm==3.5.0) (0.7.0)\n",
            "Requirement already satisfied: pathy>=0.10.0 in /usr/local/lib/python3.10/dist-packages (from spacy<3.6.0,>=3.5.0->en-core-web-sm==3.5.0) (0.10.1)\n",
            "Requirement already satisfied: smart-open<7.0.0,>=5.2.1 in /usr/local/lib/python3.10/dist-packages (from spacy<3.6.0,>=3.5.0->en-core-web-sm==3.5.0) (6.3.0)\n",
            "Requirement already satisfied: tqdm<5.0.0,>=4.38.0 in /usr/local/lib/python3.10/dist-packages (from spacy<3.6.0,>=3.5.0->en-core-web-sm==3.5.0) (4.65.0)\n",
            "Requirement already satisfied: numpy>=1.15.0 in /usr/local/lib/python3.10/dist-packages (from spacy<3.6.0,>=3.5.0->en-core-web-sm==3.5.0) (1.22.4)\n",
            "Requirement already satisfied: requests<3.0.0,>=2.13.0 in /usr/local/lib/python3.10/dist-packages (from spacy<3.6.0,>=3.5.0->en-core-web-sm==3.5.0) (2.27.1)\n",
            "Requirement already satisfied: pydantic!=1.8,!=1.8.1,<1.11.0,>=1.7.4 in /usr/local/lib/python3.10/dist-packages (from spacy<3.6.0,>=3.5.0->en-core-web-sm==3.5.0) (1.10.2)\n",
            "Requirement already satisfied: jinja2 in /usr/local/lib/python3.10/dist-packages (from spacy<3.6.0,>=3.5.0->en-core-web-sm==3.5.0) (3.1.2)\n",
            "Requirement already satisfied: setuptools in /usr/local/lib/python3.10/dist-packages (from spacy<3.6.0,>=3.5.0->en-core-web-sm==3.5.0) (67.7.2)\n",
            "Requirement already satisfied: packaging>=20.0 in /usr/local/lib/python3.10/dist-packages (from spacy<3.6.0,>=3.5.0->en-core-web-sm==3.5.0) (20.9)\n",
            "Requirement already satisfied: langcodes<4.0.0,>=3.2.0 in /usr/local/lib/python3.10/dist-packages (from spacy<3.6.0,>=3.5.0->en-core-web-sm==3.5.0) (3.3.0)\n",
            "Requirement already satisfied: pyparsing>=2.0.2 in /usr/local/lib/python3.10/dist-packages (from packaging>=20.0->spacy<3.6.0,>=3.5.0->en-core-web-sm==3.5.0) (3.0.9)\n",
            "Requirement already satisfied: typing-extensions>=4.1.0 in /usr/local/lib/python3.10/dist-packages (from pydantic!=1.8,!=1.8.1,<1.11.0,>=1.7.4->spacy<3.6.0,>=3.5.0->en-core-web-sm==3.5.0) (4.5.0)\n",
            "Requirement already satisfied: urllib3<1.27,>=1.21.1 in /usr/local/lib/python3.10/dist-packages (from requests<3.0.0,>=2.13.0->spacy<3.6.0,>=3.5.0->en-core-web-sm==3.5.0) (1.26.15)\n",
            "Requirement already satisfied: certifi>=2017.4.17 in /usr/local/lib/python3.10/dist-packages (from requests<3.0.0,>=2.13.0->spacy<3.6.0,>=3.5.0->en-core-web-sm==3.5.0) (2022.12.7)\n",
            "Requirement already satisfied: charset-normalizer~=2.0.0 in /usr/local/lib/python3.10/dist-packages (from requests<3.0.0,>=2.13.0->spacy<3.6.0,>=3.5.0->en-core-web-sm==3.5.0) (2.0.12)\n",
            "Requirement already satisfied: idna<4,>=2.5 in /usr/local/lib/python3.10/dist-packages (from requests<3.0.0,>=2.13.0->spacy<3.6.0,>=3.5.0->en-core-web-sm==3.5.0) (3.4)\n",
            "Requirement already satisfied: blis<0.8.0,>=0.7.8 in /usr/local/lib/python3.10/dist-packages (from thinc<8.2.0,>=8.1.8->spacy<3.6.0,>=3.5.0->en-core-web-sm==3.5.0) (0.7.9)\n",
            "Requirement already satisfied: confection<1.0.0,>=0.0.1 in /usr/local/lib/python3.10/dist-packages (from thinc<8.2.0,>=8.1.8->spacy<3.6.0,>=3.5.0->en-core-web-sm==3.5.0) (0.0.4)\n",
            "Requirement already satisfied: click<9.0.0,>=7.1.1 in /usr/local/lib/python3.10/dist-packages (from typer<0.8.0,>=0.3.0->spacy<3.6.0,>=3.5.0->en-core-web-sm==3.5.0) (8.1.3)\n",
            "Requirement already satisfied: MarkupSafe>=2.0 in /usr/local/lib/python3.10/dist-packages (from jinja2->spacy<3.6.0,>=3.5.0->en-core-web-sm==3.5.0) (2.1.2)\n",
            "\u001b[38;5;2m✔ Download and installation successful\u001b[0m\n",
            "You can now load the package via spacy.load('en_core_web_sm')\n"
          ]
        }
      ],
      "source": [
        "!python -m spacy download en"
      ]
    },
    {
      "cell_type": "code",
      "execution_count": 41,
      "metadata": {
        "colab": {
          "base_uri": "https://localhost:8080/"
        },
        "id": "CHVBIeez3cyR",
        "outputId": "fd427265-c2e2-4ec8-8b41-ed1ef63a5701"
      },
      "outputs": [
        {
          "output_type": "stream",
          "name": "stdout",
          "text": [
            "Looking in indexes: https://pypi.org/simple, https://us-python.pkg.dev/colab-wheels/public/simple/\n",
            "Requirement already satisfied: nest_asyncio==1.3.3 in /usr/local/lib/python3.10/dist-packages (1.3.3)\n"
          ]
        }
      ],
      "source": [
        "!pip install nest_asyncio==1.3.3"
      ]
    },
    {
      "cell_type": "code",
      "execution_count": 43,
      "metadata": {
        "colab": {
          "base_uri": "https://localhost:8080/"
        },
        "id": "pFVs_ym8EUTy",
        "outputId": "098f8586-42c5-4c4f-bb4d-ba4a9a29c1be"
      },
      "outputs": [
        {
          "output_type": "stream",
          "name": "stdout",
          "text": [
            "Event loop ready.\n"
          ]
        }
      ],
      "source": [
        "import os\n",
        "import rasa\n",
        "import nest_asyncio\n",
        "\n",
        "nest_asyncio.apply()\n",
        "print(\"Event loop ready.\")"
      ]
    },
    {
      "cell_type": "code",
      "execution_count": 45,
      "metadata": {
        "id": "FZsqX3irEv7O",
        "colab": {
          "base_uri": "https://localhost:8080/",
          "height": 450
        },
        "outputId": "fc856db9-1830-427c-bbad-fda52ad53d84"
      },
      "outputs": [
        {
          "output_type": "error",
          "ename": "ImportError",
          "evalue": "ignored",
          "traceback": [
            "\u001b[0;31m---------------------------------------------------------------------------\u001b[0m",
            "\u001b[0;31mImportError\u001b[0m                               Traceback (most recent call last)",
            "\u001b[0;32m<ipython-input-45-34ac9d563439>\u001b[0m in \u001b[0;36m<cell line: 1>\u001b[0;34m()\u001b[0m\n\u001b[0;32m----> 1\u001b[0;31m \u001b[0;32mfrom\u001b[0m \u001b[0mrasa\u001b[0m\u001b[0;34m.\u001b[0m\u001b[0mcli\u001b[0m\u001b[0;34m.\u001b[0m\u001b[0mscaffold\u001b[0m \u001b[0;32mimport\u001b[0m \u001b[0mcreate_initial_project\u001b[0m\u001b[0;34m\u001b[0m\u001b[0;34m\u001b[0m\u001b[0m\n\u001b[0m",
            "\u001b[0;32m/usr/local/lib/python3.10/dist-packages/rasa/cli/scaffold.py\u001b[0m in \u001b[0;36m<module>\u001b[0;34m\u001b[0m\n\u001b[1;32m      4\u001b[0m \u001b[0;32mfrom\u001b[0m \u001b[0mtyping\u001b[0m \u001b[0;32mimport\u001b[0m \u001b[0mList\u001b[0m\u001b[0;34m,\u001b[0m \u001b[0mText\u001b[0m\u001b[0;34m\u001b[0m\u001b[0;34m\u001b[0m\u001b[0m\n\u001b[1;32m      5\u001b[0m \u001b[0;34m\u001b[0m\u001b[0m\n\u001b[0;32m----> 6\u001b[0;31m \u001b[0;32mfrom\u001b[0m \u001b[0mrasa\u001b[0m \u001b[0;32mimport\u001b[0m \u001b[0mtelemetry\u001b[0m\u001b[0;34m\u001b[0m\u001b[0;34m\u001b[0m\u001b[0m\n\u001b[0m\u001b[1;32m      7\u001b[0m \u001b[0;32mfrom\u001b[0m \u001b[0mrasa\u001b[0m\u001b[0;34m.\u001b[0m\u001b[0mcli\u001b[0m \u001b[0;32mimport\u001b[0m \u001b[0mSubParsersAction\u001b[0m\u001b[0;34m\u001b[0m\u001b[0;34m\u001b[0m\u001b[0m\n\u001b[1;32m      8\u001b[0m \u001b[0;32mfrom\u001b[0m \u001b[0mrasa\u001b[0m\u001b[0;34m.\u001b[0m\u001b[0mcli\u001b[0m\u001b[0;34m.\u001b[0m\u001b[0mshell\u001b[0m \u001b[0;32mimport\u001b[0m \u001b[0mshell\u001b[0m\u001b[0;34m\u001b[0m\u001b[0;34m\u001b[0m\u001b[0m\n",
            "\u001b[0;32m/usr/local/lib/python3.10/dist-packages/rasa/telemetry.py\u001b[0m in \u001b[0;36m<module>\u001b[0;34m\u001b[0m\n\u001b[1;32m     26\u001b[0m     \u001b[0mCONFIG_TELEMETRY_ID\u001b[0m\u001b[0;34m,\u001b[0m\u001b[0;34m\u001b[0m\u001b[0;34m\u001b[0m\u001b[0m\n\u001b[1;32m     27\u001b[0m )\n\u001b[0;32m---> 28\u001b[0;31m \u001b[0;32mfrom\u001b[0m \u001b[0mrasa\u001b[0m\u001b[0;34m.\u001b[0m\u001b[0mengine\u001b[0m\u001b[0;34m.\u001b[0m\u001b[0mstorage\u001b[0m\u001b[0;34m.\u001b[0m\u001b[0mlocal_model_storage\u001b[0m \u001b[0;32mimport\u001b[0m \u001b[0mLocalModelStorage\u001b[0m\u001b[0;34m\u001b[0m\u001b[0;34m\u001b[0m\u001b[0m\n\u001b[0m\u001b[1;32m     29\u001b[0m \u001b[0;32mfrom\u001b[0m \u001b[0mrasa\u001b[0m\u001b[0;34m.\u001b[0m\u001b[0mshared\u001b[0m\u001b[0;34m.\u001b[0m\u001b[0mconstants\u001b[0m \u001b[0;32mimport\u001b[0m \u001b[0mDOCS_URL_TELEMETRY\u001b[0m\u001b[0;34m\u001b[0m\u001b[0;34m\u001b[0m\u001b[0m\n\u001b[1;32m     30\u001b[0m \u001b[0;32mfrom\u001b[0m \u001b[0mrasa\u001b[0m\u001b[0;34m.\u001b[0m\u001b[0mshared\u001b[0m\u001b[0;34m.\u001b[0m\u001b[0mexceptions\u001b[0m \u001b[0;32mimport\u001b[0m \u001b[0mRasaException\u001b[0m\u001b[0;34m\u001b[0m\u001b[0;34m\u001b[0m\u001b[0m\n",
            "\u001b[0;32m/usr/local/lib/python3.10/dist-packages/rasa/engine/storage/local_model_storage.py\u001b[0m in \u001b[0;36m<module>\u001b[0;34m\u001b[0m\n\u001b[1;32m     12\u001b[0m \u001b[0;32mfrom\u001b[0m \u001b[0mtyping\u001b[0m \u001b[0;32mimport\u001b[0m \u001b[0mGenerator\u001b[0m\u001b[0;34m,\u001b[0m \u001b[0mOptional\u001b[0m\u001b[0;34m,\u001b[0m \u001b[0mText\u001b[0m\u001b[0;34m,\u001b[0m \u001b[0mTuple\u001b[0m\u001b[0;34m,\u001b[0m \u001b[0mUnion\u001b[0m\u001b[0;34m\u001b[0m\u001b[0;34m\u001b[0m\u001b[0m\n\u001b[1;32m     13\u001b[0m \u001b[0;34m\u001b[0m\u001b[0m\n\u001b[0;32m---> 14\u001b[0;31m \u001b[0;32mimport\u001b[0m \u001b[0mrasa\u001b[0m\u001b[0;34m.\u001b[0m\u001b[0mutils\u001b[0m\u001b[0;34m.\u001b[0m\u001b[0mcommon\u001b[0m\u001b[0;34m\u001b[0m\u001b[0;34m\u001b[0m\u001b[0m\n\u001b[0m\u001b[1;32m     15\u001b[0m \u001b[0;32mimport\u001b[0m \u001b[0mrasa\u001b[0m\u001b[0;34m.\u001b[0m\u001b[0mshared\u001b[0m\u001b[0;34m.\u001b[0m\u001b[0mutils\u001b[0m\u001b[0;34m.\u001b[0m\u001b[0mio\u001b[0m\u001b[0;34m\u001b[0m\u001b[0;34m\u001b[0m\u001b[0m\n\u001b[1;32m     16\u001b[0m \u001b[0;32mfrom\u001b[0m \u001b[0mrasa\u001b[0m\u001b[0;34m.\u001b[0m\u001b[0mengine\u001b[0m\u001b[0;34m.\u001b[0m\u001b[0mstorage\u001b[0m\u001b[0;34m.\u001b[0m\u001b[0mstorage\u001b[0m \u001b[0;32mimport\u001b[0m \u001b[0mModelMetadata\u001b[0m\u001b[0;34m,\u001b[0m \u001b[0mModelStorage\u001b[0m\u001b[0;34m\u001b[0m\u001b[0;34m\u001b[0m\u001b[0m\n",
            "\u001b[0;32m/usr/local/lib/python3.10/dist-packages/rasa/utils/common.py\u001b[0m in \u001b[0;36m<module>\u001b[0;34m\u001b[0m\n\u001b[1;32m     27\u001b[0m \u001b[0;32mfrom\u001b[0m \u001b[0msocket\u001b[0m \u001b[0;32mimport\u001b[0m \u001b[0mSOCK_DGRAM\u001b[0m\u001b[0;34m,\u001b[0m \u001b[0mSOCK_STREAM\u001b[0m\u001b[0;34m\u001b[0m\u001b[0;34m\u001b[0m\u001b[0m\n\u001b[1;32m     28\u001b[0m \u001b[0;32mimport\u001b[0m \u001b[0mnumpy\u001b[0m \u001b[0;32mas\u001b[0m \u001b[0mnp\u001b[0m\u001b[0;34m\u001b[0m\u001b[0;34m\u001b[0m\u001b[0m\n\u001b[0;32m---> 29\u001b[0;31m \u001b[0;32mimport\u001b[0m \u001b[0mrasa\u001b[0m\u001b[0;34m.\u001b[0m\u001b[0mutils\u001b[0m\u001b[0;34m.\u001b[0m\u001b[0mio\u001b[0m\u001b[0;34m\u001b[0m\u001b[0;34m\u001b[0m\u001b[0m\n\u001b[0m\u001b[1;32m     30\u001b[0m from rasa.constants import (\n\u001b[1;32m     31\u001b[0m     \u001b[0mDEFAULT_LOG_LEVEL_LIBRARIES\u001b[0m\u001b[0;34m,\u001b[0m\u001b[0;34m\u001b[0m\u001b[0;34m\u001b[0m\u001b[0m\n",
            "\u001b[0;32m/usr/local/lib/python3.10/dist-packages/rasa/utils/io.py\u001b[0m in \u001b[0;36m<module>\u001b[0;34m\u001b[0m\n\u001b[1;32m     13\u001b[0m \u001b[0;34m\u001b[0m\u001b[0m\n\u001b[1;32m     14\u001b[0m \u001b[0;32mimport\u001b[0m \u001b[0mrasa\u001b[0m\u001b[0;34m.\u001b[0m\u001b[0mshared\u001b[0m\u001b[0;34m.\u001b[0m\u001b[0mconstants\u001b[0m\u001b[0;34m\u001b[0m\u001b[0;34m\u001b[0m\u001b[0m\n\u001b[0;32m---> 15\u001b[0;31m \u001b[0;32mimport\u001b[0m \u001b[0mrasa\u001b[0m\u001b[0;34m.\u001b[0m\u001b[0mshared\u001b[0m\u001b[0;34m.\u001b[0m\u001b[0mutils\u001b[0m\u001b[0;34m.\u001b[0m\u001b[0mio\u001b[0m\u001b[0;34m\u001b[0m\u001b[0;34m\u001b[0m\u001b[0m\n\u001b[0m\u001b[1;32m     16\u001b[0m \u001b[0;34m\u001b[0m\u001b[0m\n\u001b[1;32m     17\u001b[0m \u001b[0;32mif\u001b[0m \u001b[0mTYPE_CHECKING\u001b[0m\u001b[0;34m:\u001b[0m\u001b[0;34m\u001b[0m\u001b[0;34m\u001b[0m\u001b[0m\n",
            "\u001b[0;32m/usr/local/lib/python3.10/dist-packages/rasa/shared/utils/io.py\u001b[0m in \u001b[0;36m<module>\u001b[0;34m\u001b[0m\n\u001b[1;32m     32\u001b[0m     \u001b[0mRasaException\u001b[0m\u001b[0;34m,\u001b[0m\u001b[0;34m\u001b[0m\u001b[0;34m\u001b[0m\u001b[0m\n\u001b[1;32m     33\u001b[0m )\n\u001b[0;32m---> 34\u001b[0;31m \u001b[0;32mimport\u001b[0m \u001b[0mrasa\u001b[0m\u001b[0;34m.\u001b[0m\u001b[0mshared\u001b[0m\u001b[0;34m.\u001b[0m\u001b[0mutils\u001b[0m\u001b[0;34m.\u001b[0m\u001b[0mvalidation\u001b[0m\u001b[0;34m\u001b[0m\u001b[0;34m\u001b[0m\u001b[0m\n\u001b[0m\u001b[1;32m     35\u001b[0m \u001b[0;34m\u001b[0m\u001b[0m\n\u001b[1;32m     36\u001b[0m \u001b[0mDEFAULT_ENCODING\u001b[0m \u001b[0;34m=\u001b[0m \u001b[0;34m\"utf-8\"\u001b[0m\u001b[0;34m\u001b[0m\u001b[0;34m\u001b[0m\u001b[0m\n",
            "\u001b[0;32m/usr/local/lib/python3.10/dist-packages/rasa/shared/utils/validation.py\u001b[0m in \u001b[0;36m<module>\u001b[0;34m\u001b[0m\n\u001b[1;32m      4\u001b[0m \u001b[0;34m\u001b[0m\u001b[0m\n\u001b[1;32m      5\u001b[0m \u001b[0;32mfrom\u001b[0m \u001b[0mpackaging\u001b[0m \u001b[0;32mimport\u001b[0m \u001b[0mversion\u001b[0m\u001b[0;34m\u001b[0m\u001b[0;34m\u001b[0m\u001b[0m\n\u001b[0;32m----> 6\u001b[0;31m \u001b[0;32mfrom\u001b[0m \u001b[0mpackaging\u001b[0m\u001b[0;34m.\u001b[0m\u001b[0mversion\u001b[0m \u001b[0;32mimport\u001b[0m \u001b[0mLegacyVersion\u001b[0m\u001b[0;34m\u001b[0m\u001b[0;34m\u001b[0m\u001b[0m\n\u001b[0m\u001b[1;32m      7\u001b[0m \u001b[0;32mfrom\u001b[0m \u001b[0mpykwalify\u001b[0m\u001b[0;34m.\u001b[0m\u001b[0merrors\u001b[0m \u001b[0;32mimport\u001b[0m \u001b[0mSchemaError\u001b[0m\u001b[0;34m\u001b[0m\u001b[0;34m\u001b[0m\u001b[0m\n\u001b[1;32m      8\u001b[0m \u001b[0;34m\u001b[0m\u001b[0m\n",
            "\u001b[0;31mImportError\u001b[0m: cannot import name 'LegacyVersion' from 'packaging.version' (/usr/local/lib/python3.10/dist-packages/packaging/version.py)",
            "",
            "\u001b[0;31m---------------------------------------------------------------------------\u001b[0;32m\nNOTE: If your import is failing due to a missing package, you can\nmanually install dependencies using either !pip or !apt.\n\nTo view examples of installing some common dependencies, click the\n\"Open Examples\" button below.\n\u001b[0;31m---------------------------------------------------------------------------\u001b[0m\n"
          ],
          "errorDetails": {
            "actions": [
              {
                "action": "open_url",
                "actionText": "Open Examples",
                "url": "/notebooks/snippets/importing_libraries.ipynb"
              }
            ]
          }
        }
      ],
      "source": [
        "from rasa.cli.scaffold import create_initial_project"
      ]
    },
    {
      "cell_type": "code",
      "source": [],
      "metadata": {
        "id": "3aFVhgAlXDyd"
      },
      "execution_count": null,
      "outputs": []
    },
    {
      "cell_type": "code",
      "source": [],
      "metadata": {
        "id": "hEPXswy6XDzw"
      },
      "execution_count": null,
      "outputs": []
    },
    {
      "cell_type": "code",
      "execution_count": null,
      "metadata": {
        "id": "KnIOywUKE6F5"
      },
      "outputs": [],
      "source": [
        "project = \"test-project\"\n",
        "create_initial_project(project)"
      ]
    },
    {
      "cell_type": "code",
      "execution_count": null,
      "metadata": {
        "id": "PjxVHRJCE-u5"
      },
      "outputs": [],
      "source": [
        "# move into project directory and show files\n",
        "os.chdir(project)\n",
        "print(os.listdir(\".\"))"
      ]
    },
    {
      "cell_type": "code",
      "execution_count": null,
      "metadata": {
        "id": "5N_1uA1KPkBt"
      },
      "outputs": [],
      "source": [
        "config = \"config.yml\"\n",
        "training_files = \"data/\"\n",
        "domain = \"domain.yml\"\n",
        "output = \"models/\"\n",
        "print(config, training_files, domain, output)"
      ]
    },
    {
      "cell_type": "markdown",
      "metadata": {
        "id": "4NeZbYh0Jc3o"
      },
      "source": [
        "### Sometime it may not run on first go. So, try to execute below line 3 time and it work fine. It is bug in rasa."
      ]
    },
    {
      "cell_type": "code",
      "execution_count": null,
      "metadata": {
        "id": "PrdOIlziPxEo"
      },
      "outputs": [],
      "source": [
        "model_path = rasa.train(domain, config, [training_files], output)\n",
        "print(model_path)"
      ]
    },
    {
      "cell_type": "code",
      "source": [
        "from rasa_nlu.training_data import load_data\n",
        "from rasa_nlu import config\n",
        "from rasa_nlu.model import Trainer\n",
        "\n",
        "def train_nlu(data, configs, model_dir):\n",
        "    training_data = load_data(data)\n",
        "    trainer = Trainer(config.load(configs))\n",
        "    trainer.train(training_data)\n",
        "    model_directory = trainer.persist(model_dir, fixed_model_name = 'weathernlu')\n",
        "\n",
        "if __name__ == '__main__':\n",
        "    train_nlu('./data/data.json', 'config_spacy.json', '/content/test-project/models')"
      ],
      "metadata": {
        "id": "uRYg7wNtKbpU"
      },
      "execution_count": null,
      "outputs": []
    },
    {
      "cell_type": "code",
      "execution_count": null,
      "metadata": {
        "id": "--XV_jksm6mN"
      },
      "outputs": [],
      "source": [
        "from rasa.jupyter import chat\n",
        "\n",
        "endpoints = 'endpoints.yml'\n",
        "\n",
        "chat(model_path, endpoints)"
      ]
    },
    {
      "cell_type": "code",
      "execution_count": null,
      "metadata": {
        "id": "RUCSgxbCo1Cq"
      },
      "outputs": [],
      "source": [
        "chat(model_path, endpoints)"
      ]
    }
  ],
  "metadata": {
    "colab": {
      "name": "Rasa_bot",
      "provenance": [],
      "gpuType": "T4",
      "include_colab_link": true
    },
    "kernelspec": {
      "display_name": "Python 3",
      "name": "python3"
    },
    "accelerator": "GPU"
  },
  "nbformat": 4,
  "nbformat_minor": 0
}