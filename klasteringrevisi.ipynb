{
  "nbformat": 4,
  "nbformat_minor": 0,
  "metadata": {
    "colab": {
      "name": "klasteringrevisi.ipynb",
      "provenance": [],
      "collapsed_sections": [],
      "authorship_tag": "ABX9TyNKARwaLJ+Jrm+FUP0NwqRo",
      "include_colab_link": true
    },
    "kernelspec": {
      "name": "python3",
      "display_name": "Python 3"
    },
    "language_info": {
      "name": "python"
    }
  },
  "cells": [
    {
      "cell_type": "markdown",
      "metadata": {
        "id": "view-in-github",
        "colab_type": "text"
      },
      "source": [
        "<a href=\"https://colab.research.google.com/github/kungfumas/stbi/blob/master/klasteringrevisi.ipynb\" target=\"_parent\"><img src=\"https://colab.research.google.com/assets/colab-badge.svg\" alt=\"Open In Colab\"/></a>"
      ]
    },
    {
      "cell_type": "code",
      "metadata": {
        "colab": {
          "base_uri": "https://localhost:8080/"
        },
        "id": "owxqrEeBpSrn",
        "outputId": "d50d764c-df99-4429-8634-ba1154d76796"
      },
      "source": [
        "!pip install Sastrawi\n"
      ],
      "execution_count": 6,
      "outputs": [
        {
          "output_type": "stream",
          "name": "stdout",
          "text": [
            "Requirement already satisfied: Sastrawi in /usr/local/lib/python3.7/dist-packages (1.0.1)\n"
          ]
        }
      ]
    },
    {
      "cell_type": "code",
      "metadata": {
        "colab": {
          "base_uri": "https://localhost:8080/"
        },
        "id": "ew1ZDWLLqf_S",
        "outputId": "5f67e5d9-1144-427c-d67f-3ce01e5616a1"
      },
      "source": [
        "!pip install beautifulsoup4"
      ],
      "execution_count": 7,
      "outputs": [
        {
          "output_type": "stream",
          "name": "stdout",
          "text": [
            "Requirement already satisfied: beautifulsoup4 in /usr/local/lib/python3.7/dist-packages (4.6.3)\n"
          ]
        }
      ]
    },
    {
      "cell_type": "code",
      "metadata": {
        "id": "iW8MaatGqJHR"
      },
      "source": [
        "import requests\n",
        "from bs4 import BeautifulSoup# Buat request ke website\n",
        "r = requests.get('https://bola.kompas.com/')\n",
        "soup = BeautifulSoup(r.content, 'html.parser')# Buat object untuk parse((mengurai) format HTML \n",
        "link = []\n",
        "# Ambil semua tautan berita yang menarik\n",
        "for i in soup.find('div', {'class':'most__wrap'}).find_all('a'): \n",
        "    \n",
        "    i['href'] = i['href'] + '?page=all'\n",
        "    link.append(i['href'])\n",
        "    #dari tiap tautan ambil paragraph, kombinasikan tiap paragraph\n",
        "    #simpan ke dalam larik documents\n",
        "    \n",
        "documents = []\n",
        "for i in link:\n",
        "    # Buat request ke tautan\n",
        "    r = requests.get(i)\n",
        "    # Initialize BeautifulSoup object untuk parse/mengurai isi \n",
        "    soup = BeautifulSoup(r.content, 'html.parser')\n",
        "    # ambil semua paragraph dan masukkan ke dalam larik sen\n",
        "    sen = []\n",
        "    for i in soup.find('div', {'class':'read__content'}).find_all('p'):\n",
        "        sen.append(i.text)\n",
        "    # tabahkan semua paragraph yang sudah digabungkan ke dalam larik documents\n",
        "    documents.append(' '.join(sen))"
      ],
      "execution_count": 8,
      "outputs": []
    },
    {
      "cell_type": "code",
      "metadata": {
        "colab": {
          "base_uri": "https://localhost:8080/"
        },
        "id": "DjbHRtOhsohf",
        "outputId": "ad136de9-0262-4665-87af-ab5a50a472ff"
      },
      "source": [
        "for d in documents:\n",
        "    print(d)"
      ],
      "execution_count": 9,
      "outputs": [
        {
          "output_type": "stream",
          "name": "stdout",
          "text": [
            "KOMPAS.com - Pesaing timnas Indonesia di Grup B, yakni Malaysia dan Vietnam, sama-sama menuai start bagus di Piala AFF 2020.  Malaysia mengawali langkah mereka di pergelaran Piala AFF 2020 dengan hasil sempurna. Tim beralias Harimau Malaya menekuk Kamboja 3-1 pada laga perdana mereka di Grup B. Laga Grup B Piala AFF 2020 antara Kamboja vs Malaysia berlangsung di Stadion Bishan, Singapura, Senin (6/12/2021) sore WIB. Harimau Malaya menekuk Kamboja 3-1 berkat sumbangan gol Safawi Rasid (23’ pen.), Akhyar Rashid (61’), dan Kogileswaran Raj (78’). Kamboja yang dibesut pelatih asal Jepang, Ryu Hirose, dan didampingi oleh eks pilar AC Milan, Keisuke Honda, sebagai General Manager tim, hanya mampu sekali membalas. Baca juga: Hasil Piala AFF: Didampingi Keisuke Honda, Kamboja Ditekuk Malaysia 1-3 Gol Kamboja lahir pada menit-menit terakhir laga melalui sepakan penalti Sath Rosib (90'). Dapatkan informasi, inspirasi dan insight di email kamu.Daftarkan email Vietnam, yang tampil dengan membawa status sebagai juara bertahan Piala AFF, juga mencatat awalan mantap.  Pada laga perdana mereka di Piala AFF 2020 kontra Laos di Stadion Bishan, Senin (6/12/2021) malam WIB, skuad beralias The Golden Star itu menang 2-0.  Kemenangan Vietnam arahan Park Hang-seo dipastikan oleh gol-gol Nguyen Cong Phuong (26') dan Phan Van Duc (55'). Vietnam memegang kendali mutlak atas Laos yang diperkuat Billy Ketkeophomphone, penyerang kelahiran Perancis yang kini mentas di klub Ligue 2, Dunkerque.  Persentase penguasaan bola anak asuh Park Hang-seo mencapai 76,3 persen dan tercatat melepas 11 tembakan dengan 6 di antaranya akurat.  Baca juga: Piala AFF 2020: Timnas Indonesia Incar Start Apik untuk Hapus Tren Buruk Skor kemenangan Vietnam sejatinya bisa lebih mencolok andai penalti Vu Van Thanh pada menit ke-75 tak dihentikan oleh kiper Laos, Keo-Oudone Souvannasangso. Berbekal raihan kemenangan di laga pembuka, Malaysia dan Vietnam kini beriringan di tangga satu dan dua klasemen Grup B. Posisi ketiga dihuni Indonesia yang belum bertanding, diikuti Kamboja dan Laos. Adapun timnas Indonesia yang juga tergabung di Grup B baru dijadwalkan mentas pada Kamis (9/12/2021) pukul 19.30 WIB.  Timnas Indonesia akan mengawali perjuangan di Piala AFF 2020 dengan menantang Kamboja di Stadion Bishan.  \"Kami harus menunjukkan bahwa kami sudah siap. Kami butuh tiga angka di pertandingan pertama,\" ujar penyerang timnas Indonesia yang memperkuat Persib Bandung, Ezra Walian. \"Sebab, laga pertama di sebuah turnamen selalu penting. Saya berharap kami memenangi laga pertama, dan makin berkembang di turnamen ini,\" tutur Ezra Walian melanjutkan.\n",
            "KOMPAS.com - Kemenangan 2-0 yang dipetik Juventus atas Genoa pada pekan ke-16 Liga Italia 2021-2022 sedikit tercoreng oleh insiden ribut-ribut antara Massimiliano Allegri dan Alvaro Morata. Juventus meraup kemenangan 2-0 atas Genoa pada pekan ke-16 Liga Italia 2021-2022 di Stadion Allianz, Senin (6/12/2021) dini hari WIB. Kemenangan Juventus dipastikan oleh gol spektakuler Juan Cuadrado (9’) langsung dari sepak pojok dan tembakan Paulo Dybala (82’). Namun, kemenangan Juventus atas Genoa sedikit “ternoda” oleh ketegangan yang tercipta antara pelatih Massimiliano Allegri dengan Alvaro Morata. Baca juga: Hasil dan Klasemen Liga Italia, Juventus Kian Dekat Tembus 4 Besar Tak lama setelah menarik keluar Alvaro Morata, Allegri tertangkap kamera mengeluarkan kata-kata yang menyiratkan kemarahan kepada sang penyerang. Allegri mengganti Morata dengan Moise Kean kala laga Juventus vs Genoa berdurasi 73 menit. Dapatkan informasi, inspirasi dan insight di email kamu.Daftarkan email “Kamu memberikan mereka tendangan bebas. Kamu harus diam. Kamu bikin masalah,” kata Allegri sambil mendorong pundak Morata. Menurut penelusuran Calciomercato, kejadian pada menit ke-71 menjadi pemicu ketegangan antara Morata dengan Allegri. Kala itu, Morata mendapatkan kans bagus mencetak gol di area kotak penalti Genoa. Akan tetapi, sang penyerang asal Spanyol gagal memaksimalkannya. Morata malah melampiaskan rasa frustrasinya kepada bek Genoa Davide Biraschi. Keduanya lantas terlibat pertengkaran. Baca juga: “Allegri Cuma Bagus jika Punya 20 Pemain Juara, Ibu Saya Juga Bisa…” Merasa tak suka dengan kata-kata yang keluar dari mulut Morata saat berargumen dengan Biraschi, wasit kemudian mencabut kartu kuning buat sang penyerang Juve. Kartu kuning nyatanya tak menghentikan protes Morata. “Dia menerima kartu kuning, dia terus mendebat wasit. Karena itu, saya lebih memilih menariknya keluar,” kata Allegri menjelaskan permasalahannya dengan Morata usai duel kontra Genoa. Morata tampak tak mau membesar-besarkan problem antara dirinya dengan Allegri. Melalui media sosial Instagram, Morata memilih fokus kepada pencapaian Juventus saat melawan Genoa. “Kemenangan bagus, selalu bersama, dan tanpa kontroversi,” tulis Morata melalui Instagram.\n",
            "KOMPAS.com – Rangkaian pertandingan fase grup Piala AFF 2020 di Singapura akan kembali berlanjut pada Rabu (8/12/2021) hingga Kamis (9/12/2021). Menurut jadwal Piala AFF, empat partai yang akan tersaji adalah Myanmar vs Timor Leste, Filipina vs Singapura, Malaysia vs Laos, dan Indonesia vs Kamboja. Pertandingan lanjutan babak grup A antara Myanmar vs Timor Leste akan dihelat terlebih dahulu di National Stadium. Baca juga: Park Hang-seo Kecewa Vietnam Tidak Dikasih Daging Babi di Piala AFF 2020 Kedua kesebalasan bukan merupakan tim kuat di kawasan Asia Tenggara dan tidak diunggulkan untuk menjuarai Piala AFF edisi 2020. Kendati demikian, pertandingan ini dapat dijadikan Myanmar dan Timor Leste untuk mendulang poin. Baca juga: Kabar Rival Indonesia di Piala AFF: 2 Pilar Malaysia Positif Covid-19 Dapatkan informasi, inspirasi dan insight di email kamu.Daftarkan email Kedua tim gagal meraih poin sempurna pada laga perdana Piala AFF 2020 Myanmar ditekuk oleh Singapura di laga perdana dengan skor telak 0-3 pada Minggu (5/12/2021), Trigol atau tiga gol yang diciptakan oleh timnas Singapura dikemas oleh brace atau dua gol Ikhsan Fandi pada menit (39’, 45+1) dan Safuwan Baharudin (34’). Sementara Timor Leste dikalahkan Thailand dengan skor 2-0 melalui lesakkan Pathompol Charoenarattanapirom di menit (51’) dan Supachok Sarachat (81’). Sementara itu, Singapura mengusung misi menang kala bersua Filipina di matchday kedua Grup A Piala AFF. Baca juga: Park Hang-seo Kecewa Vietnam Tidak Dikasih Daging Babi di Piala AFF 2020 Singapura datang dengan kepercayaan diri tinggi usai membekuk Myanmar dengan skor telak. Namun, Filipina bukan tim yang bisa dianggap enteng oleh Singapura di Piala AFF 2020. Apalagi Filipina saat ini diperkuat oleh pemain naturalisasi asal Spanyol, Bienvenido Maranon. Bienvenido telah mengenal betul ciri khas permainan Filipina lantaran sang pemain sudah bermain di Liga Filipina sejak 2015 bersama Ceres Negros. Di laga lain, timnas Indonesia akan menjalani laga perdana melawan Kamboja di Stadion Bishan. Timnas Indonesia besutan Shin Tae-yong pun sudah mematangkan taktik dan strategi menjelang laga perdana melawan Kamboja. “Saat ini pemain terus bekerja keras dan berjuang maksimal jelang pertandingan perdana melawan Kamboja. Perkembangan mereka sangat baik, tentu ini menjadi modal bagus demi raihan hasil terbaik di Piala AFF 2020” ucap Shin Tae-yong, dikutip dari laman resmi PSSI. Kendati demikian, skuad Garud harus mewaspadai perlawanan yang akan diberikan oleh Kamboja. Baca juga: Skuad Kamboja untuk Piala AFF 2020 Sebab, Kamboja memiliki jajaran pelatih sarat pengalaman yakni Ryu Hirose dan Keisuke Honda. Rabu (8/12/2021)Pukul 18:30 WIB – Myanmar vs Timor LestePukul 19:30 WIB – Filipina vs Singapura Kamis (9/12/2021)Pukul 16:30 WIB – Malaysia vs LaosPukul 19:30 WIB – Indonesia vs Kamboja Sabtu (11/12/2021)Pukul 16:30 WIB – Timor Leste vs FilipinaPukul 19:30 WIB – Thailand vs Myanmar Minggu (12/12/2021)Pukul 16:30 WIB – Laos vs IndonesiaPukul 19:30 WIB – Vietnam vs Malaysia Selasa (14/12/2021)Pukul 16:30 WIB – Filipina vs ThailandPukul 19:30 WIB – Singapura vs Timor Leste Rabu (15/12/2021)Pukul 16:30 WIB – Kamboja vs LaosPukul 19:30 WIB – Indonesia vs Vietnam Sabtu (18/12/2021)Pukul 19:30 WIB – Thailand vs SingapuraPukul 19:30 WIB – Myanmar vs Filipina Minggu (19/12/2021)Pukul 19:30 WIB – Malaysia vs IndonesiaPukul 19:30 WIB – Vietnam vs Kamboja\n",
            "KOMPAS.com - Marcus Fernaldi Gideon/Kevin Sanjaya Sukamuljo mencatatkan pencapaian impresif sepanjang 2021.  Ganda putra nomor satu dunia tersebut tahun ini mengikuti sembilan turnamen BWF, baik pertandingan individu maupun beregu.  Sembilan turnamen itu adalah All England, Piala Sudirman, Piala Thomas, Denmark Open, French Open, Hylo Open, Indonesia Masters, Indonesia Open, dan BWF World Tour Finals.  Marcus/Kevin berhasil menapaki enam partai final di Piala Thomas, French Open, Hylo Open, Indonesia Masters, Indonesia Open, dan BWF World Tour Finals. Baca juga: BWF World Tour Finals: Curhat Marcus/Kevin, Pengakuan Chiharu Shida, hingga Catatan Hattrick di Bali Adapun di All England, Marcus/Kevin hanya sampai di babak 32 besar. Meski meraih kemenangan, mereka gagal tampil di 16 besar karena tim Indonesia saat itu dipaksa mundur.  Hal itu lantaran tim Merah Putih diketahui berada satu pesawat dengan orang positif Covid-19 dalam perjalanan dari Istanbul, Turki, menuju Birmingham, Inggris.  Dapatkan informasi, inspirasi dan insight di email kamu.Daftarkan email Sementara itu, di kejuaraan beregu campuran Piala Sudirman, Indonesia hanya sampai pada partai perempat final seusai kalah dari Malaysia.  Di Denmark Open, Marcus/Kevin terhenti di babak 16 besar setelah kalah dari junior mereka Muhammad Shohibul Fikri/Bagas Maulana.  Adapun dari enam final, lima di antaranya diraih Marcus/Kevin secara beruntun, yakni French Open, Hylo Open, Indonesia Masters, Indonesia Open, dan BWF World Tour Finals. Baca juga: Berhasil Tembus 6 Final pada 2021, Apa Kata Marcus/Kevin? Marcus/Kevin berhasil meraih tiga gelar dan tiga runner-up dari enam final yang dilakoni pada 2021.  Ketiga titel tersebut tercipta di Piala Thomas (beregu putra), Hylo Open, dan Indonesia Open.  Sementara itu, tiga runner-up diraih Marcus/Kevin di ajang French Open, Indonesia Masters, dan BWF World Tour Finals.  Hebatnya, Marcus/Kevin berhasil melaju ke final-final tersebut dalam kondisi yang tak 100 persen fit, imbas dari jadwal padat.  Ganda putra yang dijuluki Minions itu bahkan kerap mengaku kelelahan. Salah satunya terjadi seusai final BWF World Tour Finals saat mereka kalah dari Takuro Hoki/Yugo Kobayashi (Jepang).  \"Kami mau jujur sangat lelah. Hari ini semua badan rasanya sakit sekali. Mereka juga merasakan yang sama, tetapi ya memang Hoki/Kobayashi bermain sangat bagus,\" kata Marcus di Bali International Convention Centre, Minggu (5/12/2021). Baca juga: Marcus/Kevin Runner Up BWF World Tour Finals: Badan Rasanya Sakit Sekali... Saat ditemui Kompas.com di tempat dan waktu yang sama, pelatih Herry Iman Pierngadi tetap bangga meski sang anak didik hanya menjadi runner-up BWF World Tour Finals.  Herry mengatakan, daya juang Marcus/Kevin sangat layak diapresiasi. Apalagi jika menilik fakta bahwa keduanya bermain dalam kondisi kurang fit Dia juga menekankan bahwa pemain muda harus mencontoh Marcus/Kevin.  \"Walau kalah saya tetap bangga karena luar biasa perjuangan mereka,\" kata Herry menjawab pertanyaan Kompas.com.  \"Saya tidak melihat menang atau kalah. Apabila menang lebih bagus, tetapi perjuangan mereka luar biasa dalam kondisi mereka yang tak 100 persen fit. Hanya 60 persen menurut saya,\" tuturnya.  \"Badan semua sakit, tetapi bisa berjuang, itu yang harus diapresiasi dan pemain muda harus contoh mereka,\" ucapnya.  \"Mereka berjuang walaupun lelah sekali, tetapi tidak menyerah, dan putus asa,\" ucap pelatih yang akrab disapa Herry IP ini.\n",
            "KOMPAS.com - Ketua Umum PSSI, Mochamad Iriawan, mengonfirmasi Elkan Baggott sudah tiba di Singapura untuk bergabung dengan skuad timnas Indonesia. Di sisi lain, Mochamad Iriawan masih belum mengetahui kabar kedatangan bintang FK Senica, Egy Maulana Vikri. Elkan Baggott dan Egy Maulana Vikri adalah dua \"pemain Eropa\" yang dipanggil Shin Tae-yong untuk memperkuat timnas Indonesia di Piala AFF 2020. Terdapat satu \"pemain Eropa\" lain yang juga dipanggil Shin Tae-yong, yakni Witan Sulaeman (Lechia Gdansk/Polandia). Berbeda dari Elkan Baggott dan Egy Maulana Vikri, Witan Sulaeman ikut dalam rombongan timnas Indonesia ketika berangkat ke Singapura pekan lalu. Baca juga: Piala AFF 2020: Timnas Indonesia Incar Start Apik untuk Hapus Tren Buruk Adapun Elkan Baggott dan Egy Maulana Vikri terpaksa terlambat bergabung dengan skuad timnas Indonesia karena belum dilepas oleh tim masing-masing. Dapatkan informasi, inspirasi dan insight di email kamu.Daftarkan email Terkini, Mochamad Iriawan mengonfirmasi Elkan Baggott sudah dilepas oleh Ipswich Town (Inggris) dan telah mendarat di Singapura. Di lain sisi, Egy Maulana Vikri sampai saat ini masih di Slovakia membela FK Senica. Terkait Egy Maulana Vikri, David Balda selaku Direktur Olahraga FK Senica sudah memberi konfirmasi akhir pekan lalu. David Balda menyebut Egy Maulana Vikri akan dilepas oleh FK Senica pada 18 Desember 2021. Dasar FK Senica mengambil keputusan itu kemungkinan adalah fakta bahwa Piala AFF tidak masuk dalam kalendar FIFA. Di sisi lain, FK Senica saat ini masih berkompetisi di kasta teratas Liga Slovakia, Fortuna Liga. Baca juga: Piala AFF 2020, Tantangan Timnas Indonesia Jelang Lawan Kamboja Dikutip dari situs Trasfermarkt, jadwal libur musim dingin Fortuna Liga 2021-2022 akan dimulai pada 20 September 2021 hingga pertengahan Februari 2022. Adapun laga terakhir FK Senica sebelum jeda libur musim dingin Fortuna Liga 2021-2022 adalah menghadapi AS Trencin pada 18 Desember 2021. Itu artinya, FK Senica berniat melepas Egy Maulana Vikri setelah menyelesaikan laga terakhir mereka sebelum libur musim dingin Fortuna Liga 2021-2022. Menilik pernyataan David Balda, timnas Indonesia hampir dipastikan tampil tanpa Egy Maulana Vikri sampai akhir fase grup Piala AFF 2020. Egy Maulana Vikri bahkan berpeluang tidak tampil di Piala AFF 2020 jika timnas Indonesia gagal lolos ke semifinal.  Sebab, jadwal laga terakhir timnas Indonesia di Grup B Piala AFF 2020 adalah menghadapi Malaysia pada 19 Desember 2021. Baca juga: Piala AFF 2020: Shin Tae-yong Mengaku Grup B Sulit bagi Timnas Indonesia, tetapi... Terkini, Mochamad Iriawan menyebut PSSI sedang bernegosiasi dengan FK Senica agar Egy Maulana Vikri bisa bergabung dengan timnas Indonesia lebih cepat. Iwan Bule, sapaan akrab Mochamad Iriawan, sangat berharap Egy Maulana Vikri tiba di Singapura pada 12 Desember 2021. \"Elkan Baggott sudah datang (di Singapura),\" kata Mochamad Iriawan dikutip dari situs BolaSport.com. \"Sekarang kami sedang bernegosiasi (dengan FK Senica). Dari pembicaraan dengan klub, Egy akan datang pada 12 Desember 2021,\" tutur Mochamad Iriawan. \"Sekarang ada pembicaraan lanjutan. Semoga saja Egy Maulana Vikri bisa segera bergabung,\" ucap Mochamad Iriawan menambahkan. Selain Egy Maulana Vikri, terdapat empat pemain lain yang juga belum bergabung dengan timnas Indonesia sampai saat ini. Baca juga: Piala AFF 2020, Shin Tae-yong Tak Janjikan Timnas Indonesia Juara Mereka adalah dua piliar Persebaya Surabaya, yakni Ernando Ari dan Rizky Ridho, Rizky Dwi (Arema FC),dan Nadeo Argawinata (Bali United). Empat nama tersebut dijadwalkan berangkat ke Singapura pekan ini setelah menyelesaikan pertandingan pekan ke-16 Liga 1 2021-2022 bersama tim masing-masing. \"Nanti empat pemain tim Liga 1 yang belum bergabung akan datang ke Singapura sekitar tanggal 9-11 Desember 2021,\" kata Mochamad Iriawan. \"Mereka semua sudah izin ke Shin Tae-yong karena datang terlambat,\" tutur Mochamad Iriawan menambahkan. Berkaca dari pernyataan Mochamad Iriawan, timnas Indonesia dipastikan akan tampil tanpa Elkan Baggot, Egy, Ernando Ari, Rizky Ridho, Rizky Dwi, dan Nadeo, pada laga pertama Grup B melawan Kamboja, Kamis (9/12/2021). (Mochamad Hary Prasetya) Brikut adalah jadwal lengkap pertandingan timnas Indonesia di Grup B Piala AFF 2020:  Kamis (9/12/2021) pukul 19:30 WIB - Indonesia vs Kamboja   Minggu (12/12/2021) pukul 16:30 WIB - Laos vs Indonesia   Rabu (15/12/2021) pukul 19:30 WIB - Indonesia vs Vietnam   Minggu (19/12/2021) pukul 19:30 WIB - Indonesia Vs Malaysia\n",
            "SLEMAN, KOMPAS.com - Nadeo Argawinata tampil apik saat membela Bali United di laga melawan Arema FC di Stadion Maguwoharjo, Sleman, Minggu (5/12/2021) malam. Kecermatan Nadeo Argawinata dalam menghalau bola, sukses membuat gawang Bali United tetap perawan hingga menit akhir pertandingan di pekan ke-15 Liga 1 2021-2022 kemarin. Di sisi lain, kehadiran Nadep pada laga Bali United vs Arema mengundang pertanyaan. Sebab, kiper asal Kediri itu seharusnya segera berangkat ke Singapura untuk mengikuti persiapan timnas Indonesia menjelang Piala AFF 2020. Baca juga: Piala AFF 2020, Tantangan Timnas Indonesia Jelang Lawan Kamboja Sebab, timnas Indonesia akan menjalani laga pertama melawan Kamboja pada Kamis (9/12/2021) besok. Menanggapi hal tersebut, pelatih Bali United Stefano Cugurra angkat suara. Dapatkan informasi, inspirasi dan insight di email kamu.Daftarkan email Pelatih yang akrab disapa Teco itu mengatakan, Nadeo Agrawinata tetap akan membela timnas Indonesia di Piala AFF 2020. Namun, sang pemain masih menunggu kabar lebih lanjut mengenai keberangkatan ke Singapura. Lantaran masih ada kesempatan dan Nadeo Agrawinata siap, Teco pun akhirnya memutuskan untuk menurunkan sang pemain saat melawan Arema FC. “Dia belum berangkat, ini (jadwal) dari PSSI bukan dari Bali United,” kata Teco. “Kami ikut semua proses dari PSSI dan kami siap membantu timnas Indonesia pastinya,” tutur dia lagi. Berdasarkan kabar terakhir, Nadeo Agrawinata dan tiga pemain lainnya akan menyusul timnas Indonesia di Singapura pada 10 Desember 202. Jika kabar itu benar, empat pemain itu akan melewatkan laga timnas Indonesia melawan Kamboja. Baca juga: Piala AFF 2020, Tantangan Timnas Indonesia Jelang Lawan Kamboja Mereka kemungkinan dipersiapkan untuk laga timnas Indonesia melawan Laos pada Minggu (12/12/2021) atau menghadapi Vietnam pada Rabu (15/12/2021). Di sisi lain, Stefano Cugurra sangat senang bisa menurunkan Nadeo Agrawinata saat menghadapi Arema FC yang dikenal punya lini serang berkualitas. Kiper 24 tahun itu mencatatkan clean sheet kelima selama tujuh kali bermain di Liga 1 2021-2022. Teco berharap raihan itu bisa membantu Nadeo Agrawinata lebih baik lagi di masa depan. “Itu sangat bagus untuk semangatnya di latihan, selain itu juga menambah kepercayaan diri saat main juga,“ tutur pelatih Bali United itu soal performa Nadeo Agrawinata.\n",
            "KOMPAS.com - Barcelona kini di ambang bencana kegagalan lolos dari fase grup Liga Champions. Pelatih Barca, Xavi Hernandez, pun memutuskan untuk mengubah lagi kebiasaaan tim. Barcelona akan melakoni laga hidup mati pada matchday pamungkas Liga Champions 2021-2022 kontra Bayern Muenchen di Allianz Arena, Kamis (9/12/2021) dini hari pukul 03.00 WIB. Saat ini Barcelona berada kedua Grup E Liga Champions 2021-2022 dengan bekal 7 angka. Sementara Bayern Muenchen sudah memastikan diri lolos ke fase 16 besar sebagai juara grup berkat koleksi 15 poin. Barcelona dan Benfica (5 poin) akan berebut satu tiket kelolosan yang tersisa dari Grup E. Kemenangan atas Bayern di Allianz Arena akan menyegel tempat Barcelona di fase 16 besar Liga Champions 2021-2022. Baca juga: Barcelona Vs Betis: Barca Kalah, Xavi Marah-marah Namun, bencana gagal lolos ke fase gugur bisa saja tercipta andai Barcelona asuhan Xavi Hernandez cuma meraup hasil imbang atau malah kalah di kandang Bayern. Dapatkan informasi, inspirasi dan insight di email kamu.Daftarkan email Barcelona bakal dipastikan tersingkir jika mereka gagal mereguk tiga angka, sementara di tempat lain Benfica mampu mengalahkan Dynamo Kiev. Apabila tercipta poin serupa, Benfica berhak berada di atas Barca karena mengantongi keunggulan head-to-head. Dalam sepasang duel kontra Benfica di Grup E, Barcelona takluk 0-3 kala bertandang dan berbagi skor 0-0 saat menjamu sang rival asal Portugal di Camp Nou. Kegagalan lolos ke fase gugur Liga Champions akan menjadi semacam bencana buat klub sekaliber Barcelona. Baca juga: Barcelona Vs Espanyol: Xavi Ubah Kebiasaan Tim, Tiru Metode Guardiola Maklum, kali terakhir Barcelona gagal lolos dari fase grup adalah pada awal milenium baru, tepatnya musim 2000-2001. Kala itu, Xavi Hernandez masih berstatus sebagai pemain Barcelona. Tahu rasanya sakit gagal lolos dari babak grup, Xavi Hernandez memutuskan untuk mengubah kebiasaan tim jelang duel kontra Bayern di Allianz Arena. Seperti dilaporkan Diario Sport, Barca memutuskan untuk berangkat ke Kota Muenchen lebih cepat dan mengadakan latihan di Allianz Arena pada Selasa (7/12/2021) alias sehari sebelum duel. Biasanya, Barcelona lebih memilih untuk berlatih di sentra latihan kebanggaan mereka Ciutat Esportiva Joan Gamper sehari menjelang partai Liga Champions. Pada laga tandang sebelumnya melawan Benfica dan Dynamo Kiev, kontingen Barcelona hanya menginap satu malam di Kota Lisbon dan Kiev tanpa mengagendakan sesi latihan. Baca juga: Permutasi Grup E Liga Champions, Tugas Barcelona Sangat Berat Alhasil, kesempatan pemain menjajal rumput arena laga hanyalah beberapa jam jelang pertandingan. “Xavi lebih suka pemain bersentuhan dengan skenario pertandingan. Ini sebuah cara untuk mulai merasakan tensi laga dan beradaptasi dengan lapangan,” demkian ulasan Diario Sport soal keputusan Xavi. Ini bukanlah kali pertama Xavi mengubah kebiasaan Barcelona dalam bersiap menuju laga. Pada partai-partai Liga Spanyol, Xavi juga menghendaki pemainnya berkumpul lebih dahulu di hotel, mirip seperti yang pernah dilakukan Pep Guardiola di masa silam.\n",
            "KOMPAS.COM - Pelatih Vietnam, Park Hang-seo, masih menyimpan kekecewaan terkait makanan selama mengikuti Piala AFF 2020 di Singapura.  Kali ini, pelatih Korea Selatan tersebut mengungkapkan kekesalannya terhadap panitia yang tidak memberikan daging babi kepada timnya.  Dikutip dari Tuoitre.vn, Park Hang-seo mengungkapkan hal tersebut dalam jumpa pers pada Sabtu (4/12/2021) jelang digelarnya turnamen Piala AFF. Baca juga: Piala AFF 2020, Timnas Indonesia Keluhkan Porsi Makanan  \"Makan menjadi masalah kalau kami harus makanan menu yang sama. Tim-tim berbeda agama dan budaya dan kita harus menghormati itu,\" kata Hang Seo.  \"Misalnya Vietnam suka makan babi, sampai hari ini kami semua harus makan ayam. Saya pikir penyelenggara harus lebih fleksibel dan mengatur makanan lebih tepat,\" ujarnya menambahkan.  Sebelumnya, Vietnam juga pernah mengeluhkan soal makanan karena porsi terlalu kecil dan menunya yang dinilai kurang proporsional untuk atlet.  Dapatkan informasi, inspirasi dan insight di email kamu.Daftarkan email Diberitakan THETHAO247.VN, untuk menu sarapan, panitia memberikan 3 potong ikan dengan saus ala Singapura, 2 potong ayam rebus, 1 mangkuk kecil kentang tumbung, 1 mangkuk kecil sup, 1 mangkuk salad kacang, 1 mangkuk nasi, dan 2 buah pisang. AFP/KARIM SAHIB Winger Chine Wu Lei (kiri) berduel dengan bek Vietnam Nguyen Thanh Binh (kanan) pada laga lanjutan babak ketiga Kualifikasi Piala Dunia 2022 Zona Asia yang berlangsung di Stadion Sharjah, Uni Emirat Arab, Jumat (8/10/2021) dini hari WIB. Mereka menilai komposisi nutrisinya relatif sedikit sehingga staf timnas Vietnam kemungkinan akan meminta pihak hotel menambah porsi makanan agar para pemain bisa berlatih dan bertanding. Terlepas dari masalah makanan, Vietnam mampu mengawali turnamen dengan meraih kemenangan. Sang juara bertahan memetik poin perdana setelah sukses membungkam Laos dengan skor 2-0 pada Senin (6/12/2021).  Dua gol The Golden Warrior diciptakan Nguyen Cong Phuong dan Phan Van Durc.  Selanjutnya, Vietnam akan melawan Malaysia pada 12 Desember 2021.\n",
            "MILAN, KOMPAS.com - AC Milan harus tampil dalam keadaan pincang pada laga penentu nasib mereka di Liga Champions melawan Liverpool. Duel AC Milan vs Liverpool merupakan laga keenam Grup B Liga Champions yang akan dihelat di Stadion San Siro pada Rabu (8/12/2021) mulai pukul 03.00 WIB. Prediksi lengkap susunan pemain dan link live streaming AC Milan vs Liverpool akan tersedia di akhir artikel. Pelatih Liverpool, Juergen Klopp, sudah memastikan akan melakukan rotasi besar pada laga dini hari nanti. \"Saya akan melakukan rotasi. Itu sudah pasti. Departemen medis Liverpool akan 'menghancurkan' saya jika kami tidak membuat perubahan (rotasi).\" kata Liverpool dikutip dari situs BBC Sports. Baca juga: Milan Vs Liverpool: 4 Detail Kunci Pioli untuk Kalahkan The Reds Keputusan Klopp terbilang wajar mengingat Liverpool sudah mengantongi tiket babak 16 besar Liga Champions. Dapatkan informasi, inspirasi dan insight di email kamu.Daftarkan email The Reds, julukan Liverpool, lolos sebagai juara Grup B setelah berhasil mengumpulkan 15 poin dari lima pertandingan. Klopp kemungkinan besar akan mengistirahatkan beberapa bintang Liverpool mulai dari Trent Alexander-Arnold, Virgil van Dijk, Thiago Alcantara, Sadio Mane, hingga Mohamed Salah. Menilik pernyataan Klopp, Liverpool kemungkinan besar akan tampil tanpa beberapa bintang mereka mulai dari Trent Alexander-Arnold, Virgil van Dijk, Thiago Alcantara, Sadio Mane, hingga Mohamed Salah. Klopp diprediksi akan memberikan kesempatan untuk pemain muda. Conor Bradley, Ibrahima Konate, dan Tyler Morton, diprediksi akan mengisi starting line up Liverpool pada laga dini hari nanti. Baca juga: Milan Vs Liverpool, Klopp Akan Rotasi Pemain, Mo Salah Tetap Main? Adapun pemain senior Liverpool yang berpeluang besar tampil pada laga dini hari nanti adalah Kostas Tsimikas, Alex Oxlade-Chamberlain, Naby Keita, Takumi Minamino, dan Divock Origi. Berbeda dari Liverpool, AC Milan asuhan Stefano Pioli masih belum mengantongi tiket babak 16 besar Liga Champions. AC Milan bisa dikatakan sedang diujung tanduk karena kemenangan atas Liverpool tidak cukup mengantar lolos ke fase gugur Liga Champion. Nasib AC Milan kali ini juga akan ditentukan dengan hasil pertandingan Grup B lainnya, yakni FC Porto vs Atletico Madrid. Sebab, FC Porto dan Atletico Madrid juga masih berpeluang lolos ke babak 16 besar Liga Champions. Jika FC Porto berhasil mengalahkan Atletico, AC Milan dipastikan akan langsung tersingkir meskipun nanti mereka berhasil menumbangkan Liverpool. Permutasi lengkap kelolosan Grup B Liga Champions bisa dibaca di artikel ini: Baca juga: Permutasi Grup B Liga Champions: AC Milan, Porto, dan Atletico Berebut Tiket Terakhir Tugas AC Milan semakin terlihat berat karena mereka dipastikan akan tampil pincang pada laga dini hari nanti. Dikutip dari situs UEFA, terdapat lima bintang AC Milan yang terpaksa absen karena cedera. Mereka adalah Ante Rebic, Simon Kjaer, Davide Calibria, Rafael Leao, dan mantan striker Chelsea, Olivier Giroud. Melihat daftar cedera tersebut, kuartet lini belakang terbaik AC Milan saat ini bisa dikatakan adalah Alessandro Florenzi, Fikayo Tomori, Alessio Romagnoli, dan Theo Hernandez. Di lini tengah, Stefano Pioli dipastikan masih akan tetap mengandalkan Franck Kessie. Pemain asal Pantai Gading itu kemungkinan besar akan didampingi oleh Sandro Tonali. Stefano Pioli juga masih bisa menurunkan Tiemoue Bakayoko jika ingin bermain dengan dua gelandang petarung di lini tengah. Di lini depan, Pioli diprediksi akan langsung menurunkan Zlatan Ibrahimovic sejak awal pertandingan. Baca juga: AC Milan Vs Liverpool, The Reds Bukan Tim Sempurna di Mata Pioli Adapun trio gelandang serang terbaik AC Milan saat ini adalah Alexis Saelemaekers, Brahim Diaz, dan Rade Krunic. AC Milan juga masih memiliki Junior Messias yang sudah mencetak tiga gol dari enam pertandingan musim ini. Namun, Junior Messias kemungkinan besar akan masuk sebagai pemain pengganti jika lini serang AC Milan mengalami kebuntuan. Pertandingan AC Milan vs Liverpool dini hari nanti akan disiarkan langsung oleh salah satu stasiun televisi swasta mulai pukul 03.00 WIB. Selain siaran langsung televisi, laga Milan vs Liverpool juga bisa disaksikan lewat layanan streaming. Berikut adalah link live streaming AC Milan vs Liverpool >>> LINK Prediksi susunan pemain AC Milan vs Liverpool: AC Milan (4-2-3-1): 16-Mike Maignan; 19-Theo Hernandez, 13-Alessio Romagnoli, 23-Fikayo Tomori, 25-Alessandro Florenzi; 79-Franck Kessie, 8-Sandro Tonali; 56-Alexis Saelemaekers, 10-Brahim Diaz, 33-Rade Krunic Liverpool (4-3-3): 1-Alisson Becker; 84-Conor Bradley, 5-Ibrahima Konate, 12-Joe Gomez, 21-Kostas Tsimikas; 80-Tyler Morton, 8-Naby Keita, 14-Jordan Henderson; 15-Alex Oxlade-Chamberlain, 18-Takumi Minamino, 27-Divock Origi\n",
            "KOMPAS.com – Rangkaian pertandingan pekan ke-15 Premier League, kasta teratas Liga Inggris 2021-2022 telah rampung digelar pada Selasa (7/12/2021) dini hari WIB. Pertandingan antara Everton vs Arsenal menjadi laga penutup pekan ke-15 Premier League. Everton berhasil memenangi pertandingan melawan Arsenal dengan skor tipis 2-1 di Stadion Goodison Park. Kemenangan Everton atas Arsenal terbilang dramatis seusai tim berjuluk The Toffes itu baru berhasil mengamankan tiga poin di menit injury time. Sejatinya, Everton sempat tertinggal lebih dulu selepas Arsenal sukses mencetak gol melalui Martin Odegaard di menit ke-45+2. Baca juga: Hasil Everton Vs Arsenal: Gol Richarlison Dianulir Dua Kali, Everton Menang Dramatis Everton pun sebetulnya bisa menyamakan keunggulan lebih cepat andai dua dari tiga gol yang dicetak oleh Richarlison tidak dianulir oleh wasit karena offside. Dapatkan informasi, inspirasi dan insight di email kamu.Daftarkan email Richarlison baru bisa menjadi momok bagi Arsenal di sebelas menit akhir pertandingan berakhir. Pemain asal Brasil itu memanfaatkan sepakan Andre Gomes yang membentur tiang gawang lewat tandukannya di menit ke-79. Keberhasilan Richarlison pun membuat Everton berhasil menyamakan kedudukan dengan Arsenal menjadi 1-1. Kepastian tiga poin Everton atas Arsenal baru terjadi seusai Demarai Gray menceploskan bola lewat sepakan kerasnya di menit ke-90+2. Baca juga: HT Everton Vs Arsenal: Gol Richarlison Dianulir, Arsenal Unggul 1-0 Poin sempurna yang diraih Everton membuat mereka mengakhiri tren buruk di tiga pertandingan terakhir. Sementara itu, kekalahan ini membuat Arsenal gagal untuk menyalip perolehan angka yang dikemas Manchester United di klasemen Liga Inggris. Arsenal besutan Mikel Arteta saat ini duduk di peringkat tujuh dengan mengoleksi 23 angka dari lima belas pertandingan yang telah dilalui. Sementara pesaing terdekat Arsenal, Man United, telah mengemas 24 poin Man United meraih hasil positif di laga teranyar mereka melawan Crystal Palace pada Minggu (5/12/2021) malam WIB. Baca juga: Klasemen Liga Inggris: Rangnick Bawa Man United Gusur Arsenal Ronaldo dan kolega memetik kemenangan dengan skor tipis 1-0 di Stadion Old Trafford. Gol semata wayang Man United dikemas melalui sepakan plecing Fredrico Rodrigues Santos pada menit ke-77. Keterangan:No: PeringkatD: DimainkanM: MenangS: SeriK: Kalah-/+: Selisih GolP: Poin *Update terakhir Selasa (7/12/2021) pukul 05:16 WIB\n"
          ]
        }
      ]
    },
    {
      "cell_type": "code",
      "metadata": {
        "id": "zH0KHjihwcCJ"
      },
      "source": [
        ""
      ],
      "execution_count": 9,
      "outputs": []
    },
    {
      "cell_type": "code",
      "metadata": {
        "id": "AHOGcQV4rQtn"
      },
      "source": [
        "import re\n",
        "import string\n",
        "from Sastrawi.Stemmer.StemmerFactory import StemmerFactory# create stemmer\n",
        "factory = StemmerFactory()\n",
        "stemmer = factory.create_stemmer()# stemming process\n",
        "# import StopWordRemoverFactory class\n",
        "from Sastrawi.StopWordRemover.StopWordRemoverFactory import StopWordRemoverFactory\n",
        "factory = StopWordRemoverFactory()\n",
        "stopword = factory.create_stop_word_remover()\n",
        "documents_clean=[]\n",
        "\n",
        "for d in documents:\n",
        "    outputstem= stemmer.stem(d)\n",
        "    d= stopword.remove(outputstem)\n",
        "    # Remove Unicode\n",
        "    document_test = re.sub(r'[^\\x00-\\x7F]+', ' ', d)\n",
        "    # Remove Mentions\n",
        "    document_test = re.sub(r'@\\w+', '', document_test)\n",
        "    # Lowercase the document\n",
        "    document_test = document_test.lower()\n",
        "    # Remove punctuations\n",
        "    document_test = re.sub(r'[%s]' % re.escape(string.punctuation), ' ', document_test)\n",
        "    # Lowercase the numbers\n",
        "    document_test = re.sub(r'[0-9]', '', document_test)\n",
        "    # Remove the doubled space\n",
        "    outputstop = re.sub(r'\\s{2,}', ' ', document_test)\n",
        "    documents_clean.append(outputstop)"
      ],
      "execution_count": 10,
      "outputs": []
    },
    {
      "cell_type": "code",
      "metadata": {
        "colab": {
          "base_uri": "https://localhost:8080/"
        },
        "id": "t4L3TNcqseIO",
        "outputId": "e6464ae5-63cc-4c3b-fe1d-e4ff597f0322"
      },
      "source": [
        "documents_clean[0:5]"
      ],
      "execution_count": 11,
      "outputs": [
        {
          "output_type": "execute_result",
          "data": {
            "text/plain": [
              "['kompas com saing timnas indonesia grup b malaysia vietnam sama tuai start bagus piala aff malaysia awal langkah gelar piala aff hasil sempurna tim alias harimau malaya tekuk kamboja laga perdana grup b laga grup b piala aff kamboja vs malaysia langsung stadion bishan singapura senin sore wib harimau malaya tekuk kamboja berkat sumbang gol safawi rasid pen akhyar rashid kogileswaran raj kamboja besut latih asal jepang ryu hirose damping eks pilar ac mil keisuke honda bagai general manager tim mampu sekali balas baca hasil piala aff damping keisuke honda kamboja tekuk malaysia gol kamboja lahir menit akhir laga lalu pakan penalti sath rosib informasi inspirasi insight email kamu daftar email vietnam tampil bawa status bagai juara tahan piala aff catat awal mantap laga perdana piala aff kontra laos stadion bishan senin malam wib skuad alias the golden star menang menang vietnam arah park hang seo gol nguyen cong phuong phan van duc vietnam pegang kendali mutlak atas laos kuat billy ketkeophomphone serang lahir perancis kini mentas klub ligue dunkerque persentase kuasa bola anak asuh park hang seo capai persen catat lepas tembak antara akurat baca piala aff timnas indonesia incar start apik hapus tren buruk skor menang vietnam sejati lebih colok andai penalti vu van thanh menit ke tak henti oleh kiper laos keo oudone souvannasangso bekal raih menang laga buka malaysia vietnam kini iring tangga satu dua klasemen grup b posisi tiga huni indonesia belum tanding ikut kamboja laos adapun timnas indonesia juga gabung grup b baru jadwal mentas kamis pukul wib timnas indonesia awal juang piala aff tantang kamboja stadion bishan harus tunjuk siap butuh tiga angka di tanding pertama ujar serang timnas indonesia kuat persib bandung ezra wali laga pertama di buah turnamen selalu penting harap kami tang laga pertama makin kembang di turnamen tutur ezra wali lanjut',\n",
              " 'kompas com menang petik juventus atas genoa pekan ke liga italia sedikit coreng insiden ribut massimiliano allegri alvaro morata juventus raup menang atas genoa pekan ke liga italia stadion allianz senin dini hari wib menang juventus gol spektakuler juan cuadrado langsung sepak pojok tembak paulo dybala menang juventus atas genoa sedikit noda oleh tegang cipta latih massimiliano allegri alvaro morata baca hasil klasemen liga italia juventus kian dekat tembus besar tak lama tarik keluar alvaro morata allegri tangkap kamera keluar kata sirat marah sang serang allegri ganti morata moise kean kala laga juventus vs genoa durasi menit informasi inspirasi insight email kamu daftar email kamu beri tendang bebas kamu diam kamu bikin masalah kata allegri dorong pundak morata turut telusur calciomercato jadi menit ke jadi picu tegang morata allegri kala morata kans bagus cetak gol area kotak penalti genoa tetapi sang serang asal spanyol gagal maksimal morata malah lampias rasa frustrasi bek genoa davide biraschi lantas libat tengkar baca allegri cuma bagus punya main juara ibu juga rasa tak suka kata keluar mulut morata argumen biraschi wasit kemudian cabut kartu kuning buat sang serang juve kartu kuning nyata tak henti protes morata terima kartu kuning terus debat wasit itu lebih pilih tarik keluar kata allegri jelas masalah morata usai duel kontra genoa morata tampak tak mau besar problem diri allegri lalu media sosial instagram morata pilih fokus capai juventus lawan genoa menang bagus selalu sama tanpa kontroversi tulis morata lalu instagram',\n",
              " 'kompas com rangkai tanding fase grup piala aff singapura kembali lanjut rabu hingga kamis turut jadwal piala aff empat partai saji myanmar vs timor leste filipina vs singapura malaysia vs laos indonesia vs kamboja tanding lanjut babak grup a myanmar vs timor leste helat lebih national stadium baca park hang seo kecewa vietnam kasih daging babi piala aff balas bukan rupa tim kuat kawasan asia tenggara unggul juara piala aff edisi kendati tanding jadi myanmar timor leste dulang poin baca kabar rival indonesia piala aff pilar malaysia positif covid dapat informasi inspirasi insight email kamu daftar email tim gagal raih poin sempurna laga perdana piala aff myanmar tekuk singapura laga perdana skor telak minggu trigol tiga gol cipta timnas singapura kemas brace gol ikhsan fandi menit safuwan baharudin timor leste kalah thailand skor lalu lesak pathompol charoenarattanapirom menit supachok sarachat itu singapura usung misi menang kala sua filipina matchday dua grup a piala aff baca park hang seo kecewa vietnam tidak kasih daging babi piala aff singapura datang percaya diri tinggi usai bekuk myanmar skor telak filipina bukan tim bisa anggap enteng singapura piala aff filipina ini kuat main naturalisasi asal spanyol bienvenido maranon bienvenido kenal betul ciri khas main filipina lantar sang main main liga filipina sejak sama ceres negros laga timnas indonesia akan jalan laga perdana lawan kamboja stadion bishan timnas indonesia besut shin tae yong sudah matang taktik strategi jelang laga perdana lawan kamboja ini main terus kerja keras juang maksimal jelang tanding perdana lawan kamboja kembang sangat baik ini jadi modal bagus raih hasil baik di piala aff ucap shin tae yong kutip laman resmi pssi kendati skuad garud waspada lawan akan beri kamboja baca skuad kamboja piala aff kamboja milik jajar latih sarat alam ryu hirose keisuke honda rabu pukul wib myanmar vs timor lestepukul wib filipina vs singapura kamis pukul wib malaysia vs laospukul wib indonesia vs kamboja sabtu pukul wib timor leste vs filipinapukul wib thailand vs myanmar minggu pukul wib laos vs indonesiapukul wib vietnam vs malaysia selasa pukul wib filipina vs thailandpukul wib singapura vs timor leste rabu pukul wib kamboja vs laospukul wib indonesia vs vietnam sabtu pukul wib thailand vs singapurapukul wib myanmar vs filipina minggu pukul wib malaysia vs indonesiapukul wib vietnam vs kamboja',\n",
              " 'kompas com marcus fernaldi gideon kevin sanjaya sukamuljo catat capai impresif panjang ganda putra nomor satu dunia sebut tahun ikut sembilan turnamen bwf baik tanding individu maupun regu sembilan turnamen adalah all england piala sudirman piala thomas denmark open french open hylo open indonesia masters indonesia open bwf world tour finals marcus kevin hasil tapak enam partai final piala thomas french open hylo open indonesia masters indonesia open bwf world tour finals baca bwf world tour finals curhat marcus kevin aku chiharu shida hingga catat hattrick bal adapun all england marcus kevin sampai babak besar meski raih menang gagal tampil besar tim indonesia paksa mundur lantar tim merah putih tahu satu pesawat orang positif covid jalan istanbul turki tuju birmingham inggris informasi inspirasi insight email kamu daftar email itu juara regu campur piala sudirman indonesia sampai partai empat final usai kalah malaysia denmark open marcus kevin henti babak besar kalah junior muhammad shohibul fikri bagas maulana adapun enam final lima antara raih marcus kevin cara untun french open hylo open indonesia masters indonesia open bwf world tour finals baca hasil tembus final apa kata marcus kevin marcus kevin hasil raih tiga gelar tiga runner up enam final lakon tiga titel sebut cipta piala thomas regu putra hylo open indonesia open itu tiga runner up raih marcus kevin ajang french open indonesia masters bwf world tour finals hebat marcus kevin hasil laju final sebut kondisi tak persen fit imbas jadwal padat ganda putra juluk minions itu bahkan kerap aku lelah salah satu jadi usai final bwf world tour finals kalah takuro hoki yugo kobayashi jepang mau jujur sangat lelah hari semua badan rasa sakit sekali rasa sama ya memang hoki kobayashi main sangat bagus kata marcus bal international convention centre minggu baca juga marcus kevin runner up bwf world tour finals badan rasa sakit sekali temu kompas com tempat waktu sama latih herry iman pierngadi tetap bangga meski sang anak didik jadi runner up bwf world tour finals herry kata daya juang marcus kevin sangat layak apresiasi jika tilik fakta dua main kondisi kurang fit juga tekan main muda contoh marcus kevin kalah tetap bangga luar biasa juang kata herry jawab tanya kompas com tidak lihat menang kalah apabila menang lebih bagus juang luar biasa kondisi tak persen fit persen turut tutur badan semua sakit bisa juang itu yang apresiasi main muda contoh ucap mereka juang walaupun lelah sekali tidak serah putus asa ucap latih yang akrab sapa herry ip',\n",
              " 'kompas com ketua umum pssi mochamad iriawan konfirmasi elkan baggott tiba singapura gabung skuad timnas indonesia sisi mochamad iriawan tahu kabar datang bintang fk nica egy maulana vikri elkan baggott egy maulana vikri main eropa panggil shin tae yong kuat timnas indonesia piala aff satu main eropa panggil shin tae yong witan sulaeman lechia gdansk polandia beda elkan baggott egy maulana vikri witan sulaeman ikut rombong timnas indonesia berangkat singapura pekan lalu baca piala aff timnas indonesia incar start apik hapus tren buruk adapun elkan baggott egy maulana vikri paksa lambat gabung skuad timnas indonesia belum lepas tim masing masing informasi inspirasi insight email kamu daftar email kini mochamad iriawan konfirmasi elkan baggott lepas ipswich town inggris darat singapura sisi egy maulana vikri slovakia bela fk nica kait egy maulana vikri david balda selaku direktur olahraga fk nica beri konfirmasi akhir pekan lalu david balda sebut egy maulana vikri lepas fk nica desember dasar fk nica ambil putus mungkin fakta piala aff masuk kalendar fifa sisi fk nica saat masih kompetisi kasta atas liga slovakia fortuna liga baca piala aff tantang timnas indonesia jelang lawan kamboja kutip situs trasfermarkt jadwal libur musim dingin fortuna liga mulai september hingga tengah februari adapun laga akhir fk nica belum jeda libur musim dingin fortuna liga hadap as trencin desember arti fk nica niat lepas egy maulana vikri telah selesai laga akhir belum libur musim dingin fortuna liga tilik nyata david balda timnas indonesia hampir tampil egy maulana vikri akhir fase grup piala aff egy maulana vikri bahkan peluang tampil piala aff timnas indonesia gagal lolos semifinal jadwal laga akhir timnas indonesia grup b piala aff hadap malaysia desember baca piala aff shin tae yong aku grup b sulit timnas indonesia kini mochamad iriawan sebut pssi sedang negosiasi fk nica egy maulana vikri gabung timnas indonesia lebih cepat iwan bule sapa akrab mochamad iriawan sangat harap egy maulana vikri tiba singapura desember elkan baggott datang singapura kata mochamad iriawan kutip situs bolasport com sekarang sedang negosiasi fk nica bicara klub egy datang desember tutur mochamad iriawan sekarang bicara lanjut moga egy maulana vikri segera gabung ucap mochamad iriawan tambah egy maulana vikri empat main lain yang belum gabung timnas indonesia saat baca piala aff shin tae yong tak janji timnas indonesia juara dua piliar baya surabaya ernando ari rizky ridho rizky dwi arema fc nadeo argawinata bal united empat nama sebut jadwal berangkat singapura pekan ini telah selesai tanding pekan ke liga sama tim masing masing empat main tim liga yang belum gabung datang singapura tanggal desember kata mochamad iriawan semua izin shin tae yong datang lambat tutur mochamad iriawan tambah kaca nyata mochamad iriawan timnas indonesia akan tampil elkan baggot egy ernando ari rizky ridho rizky dwi nadeo laga pertama grup b lawan kamboja kamis mochamad hary prasetya brikut adalah jadwal lengkap tanding timnas indonesia grup b piala aff kamis pukul wib indonesia vs kamboja minggu pukul wib laos vs indonesia rabu pukul wib indonesia vs vietnam minggu pukul wib indonesia vs malaysia']"
            ]
          },
          "metadata": {},
          "execution_count": 11
        }
      ]
    },
    {
      "cell_type": "code",
      "metadata": {
        "colab": {
          "base_uri": "https://localhost:8080/"
        },
        "id": "w2NOgoZ-sT67",
        "outputId": "6eceed82-311d-42b3-c024-01e3704d1d92"
      },
      "source": [
        "from sklearn.feature_extraction.text import TfidfVectorizer\n",
        "import pandas as pd\n",
        "tfidfvectorizer = TfidfVectorizer(analyzer='word')\n",
        "tfidf_wm = tfidfvectorizer.fit_transform(documents_clean)\n",
        "tfidf_tokens = tfidfvectorizer.get_feature_names()\n"
      ],
      "execution_count": 12,
      "outputs": [
        {
          "output_type": "stream",
          "name": "stderr",
          "text": [
            "/usr/local/lib/python3.7/dist-packages/sklearn/utils/deprecation.py:87: FutureWarning: Function get_feature_names is deprecated; get_feature_names is deprecated in 1.0 and will be removed in 1.2. Please use get_feature_names_out instead.\n",
            "  warnings.warn(msg, category=FutureWarning)\n"
          ]
        }
      ]
    },
    {
      "cell_type": "code",
      "metadata": {
        "colab": {
          "base_uri": "https://localhost:8080/",
          "height": 515
        },
        "id": "vdKZKvSDtpZ7",
        "outputId": "523123d3-8a5b-4fde-a688-25859b3179fe"
      },
      "source": [
        "from sklearn.feature_extraction.text import CountVectorizer \n",
        "import matplotlib.pyplot as plt\n",
        "import numpy as np # linear algebra\n",
        "import pandas as pd # data processing, CSV file I/O (e.g. pd.read_csv)\n",
        "cv = CountVectorizer()\n",
        "words = cv.fit_transform(documents_clean)\n",
        "sum_words = words.sum(axis=0)\n",
        "\n",
        "\n",
        "words_freq = [(word, sum_words[0, idx]) for word, idx in cv.vocabulary_.items()]\n",
        "words_freq = sorted(words_freq, key = lambda x: x[1], reverse = True)\n",
        "frequency = pd.DataFrame(words_freq, columns=['word', 'freq'])\n",
        "\n",
        "color = plt.cm.twilight(np.linspace(0, 1, 20))\n",
        "frequency.head(20).plot(x='word', y='freq', kind='bar', figsize=(15, 7), color = color)\n",
        "plt.title(\"Most Frequently Occuring Words - Top 20\")"
      ],
      "execution_count": 13,
      "outputs": [
        {
          "output_type": "execute_result",
          "data": {
            "text/plain": [
              "Text(0.5, 1.0, 'Most Frequently Occuring Words - Top 20')"
            ]
          },
          "metadata": {},
          "execution_count": 13
        },
        {
          "output_type": "display_data",
          "data": {
            "image/png": "[encoded data removed]",
            "text/plain": [
              "<Figure size 1080x504 with 1 Axes>"
            ]
          },
          "metadata": {
            "needs_background": "light"
          }
        }
      ]
    },
    {
      "cell_type": "code",
      "metadata": {
        "colab": {
          "base_uri": "https://localhost:8080/"
        },
        "id": "UAtkJhv-uRoa",
        "outputId": "bb9753f3-53e3-457c-daaa-04f37a1d16e3"
      },
      "source": [
        "from sklearn.cluster import KMeans\n",
        "true_k = 3\n",
        "model = KMeans(n_clusters=true_k, init='k-means++', max_iter=100, n_init=1)\n",
        "model.fit(words)"
      ],
      "execution_count": 14,
      "outputs": [
        {
          "output_type": "execute_result",
          "data": {
            "text/plain": [
              "KMeans(max_iter=100, n_clusters=3, n_init=1)"
            ]
          },
          "metadata": {},
          "execution_count": 14
        }
      ]
    },
    {
      "cell_type": "code",
      "metadata": {
        "colab": {
          "base_uri": "https://localhost:8080/"
        },
        "id": "Yf3dXM2svOB0",
        "outputId": "2df8ab56-7612-4700-a84f-252a41ee229a"
      },
      "source": [
        "order_centroids = model.cluster_centers_.argsort()[:, ::-1]\n",
        "terms = cv.get_feature_names()\n",
        "\n",
        "for i in range(true_k):\n",
        "    print(\"Cluster %d:\" % i),\n",
        "    for ind in order_centroids[i, :10]:\n",
        "        print(' %s' % terms[ind]),\n",
        "    print\n",
        "\n",
        "print(\"\\n\")"
      ],
      "execution_count": 15,
      "outputs": [
        {
          "output_type": "stream",
          "name": "stdout",
          "text": [
            "Cluster 0:\n",
            " vs\n",
            " wib\n",
            " piala\n",
            " aff\n",
            " kamboja\n",
            " filipina\n",
            " singapura\n",
            " pukul\n",
            " myanmar\n",
            " timor\n",
            "Cluster 1:\n",
            " indonesia\n",
            " timnas\n",
            " piala\n",
            " laga\n",
            " aff\n",
            " liga\n",
            " main\n",
            " baca\n",
            " grup\n",
            " barcelona\n",
            "Cluster 2:\n",
            " liverpool\n",
            " mil\n",
            " ac\n",
            " vs\n",
            " main\n",
            " besar\n",
            " liga\n",
            " champions\n",
            " laga\n",
            " klopp\n",
            "\n",
            "\n"
          ]
        },
        {
          "output_type": "stream",
          "name": "stderr",
          "text": [
            "/usr/local/lib/python3.7/dist-packages/sklearn/utils/deprecation.py:87: FutureWarning: Function get_feature_names is deprecated; get_feature_names is deprecated in 1.0 and will be removed in 1.2. Please use get_feature_names_out instead.\n",
            "  warnings.warn(msg, category=FutureWarning)\n"
          ]
        }
      ]
    },
    {
      "cell_type": "code",
      "metadata": {
        "colab": {
          "base_uri": "https://localhost:8080/"
        },
        "id": "OjpfWe5evU9g",
        "outputId": "99f8ebe8-a700-4768-8e3e-8e09b0280d88"
      },
      "source": [
        "print(\"Prediction\")\n",
        "Y = cv.transform([\"piala dunia\"])\n",
        "prediction = model.predict(Y)\n",
        "print(\"Cluster number :\", prediction)\n",
        "Y = cv.transform([\"ronaldo\"])\n",
        "prediction = model.predict(Y)\n",
        "print(\"Cluster number :\", prediction)"
      ],
      "execution_count": 16,
      "outputs": [
        {
          "output_type": "stream",
          "name": "stdout",
          "text": [
            "Prediction\n",
            "Cluster number : [1]\n",
            "Cluster number : [1]\n"
          ]
        }
      ]
    },
    {
      "cell_type": "code",
      "metadata": {
        "colab": {
          "base_uri": "https://localhost:8080/",
          "height": 298
        },
        "id": "l00X2Hg4vijB",
        "outputId": "74602269-da37-4f55-d732-a9cf00b3bde3"
      },
      "source": [
        "import scipy.cluster.hierarchy as sch\n",
        "X = cv.fit_transform(documents_clean).todense()\n",
        "dendrogram = sch.dendrogram(sch.linkage(X, method = 'ward',metric='euclidean'),orientation=\"top\")\n",
        "plt.title('Dendrogram')\n",
        "plt.xlabel('Jarak Ward')\n",
        "plt.ylabel('Nomor Dokumen')\n",
        "plt.show()"
      ],
      "execution_count": 17,
      "outputs": [
        {
          "output_type": "display_data",
          "data": {
            "image/png": "[encoded data removed]",
            "text/plain": [
              "<Figure size 432x288 with 1 Axes>"
            ]
          },
          "metadata": {
            "needs_background": "light"
          }
        }
      ]
    },
    {
      "cell_type": "code",
      "metadata": {
        "colab": {
          "base_uri": "https://localhost:8080/",
          "height": 295
        },
        "id": "3PFI0j-WvzvI",
        "outputId": "c527a7c4-8185-4e3f-99fc-d80672a5e7a0"
      },
      "source": [
        "import scipy.cluster.hierarchy as sch\n",
        "X = cv.fit_transform(documents_clean).todense()\n",
        "dendrogram = sch.dendrogram(sch.linkage(X, method = 'average',metric='euclidean'),orientation=\"right\")\n",
        "plt.title('Dendrogram')\n",
        "plt.xlabel('Jarak Rerata')\n",
        "plt.ylabel('Nomor Dokumen')\n",
        "plt.show()"
      ],
      "execution_count": 18,
      "outputs": [
        {
          "output_type": "display_data",
          "data": {
            "image/png": "[encoded data removed]",
            "text/plain": [
              "<Figure size 432x288 with 1 Axes>"
            ]
          },
          "metadata": {
            "needs_background": "light"
          }
        }
      ]
    },
    {
      "cell_type": "code",
      "metadata": {
        "colab": {
          "base_uri": "https://localhost:8080/"
        },
        "id": "LfFgIcrIv-tz",
        "outputId": "21f2d991-103d-4f14-df4e-b7775cc42f8a"
      },
      "source": [
        "from sklearn.cluster import AgglomerativeClustering\n",
        "\n",
        "cluster = AgglomerativeClustering(n_clusters=6, affinity='euclidean', linkage='ward')  \n",
        "cluster.fit_predict(X) \n",
        "print(cluster.labels_)"
      ],
      "execution_count": 19,
      "outputs": [
        {
          "output_type": "stream",
          "name": "stdout",
          "text": [
            "[0 0 4 3 5 0 2 0 1 0]\n"
          ]
        },
        {
          "output_type": "stream",
          "name": "stderr",
          "text": [
            "/usr/local/lib/python3.7/dist-packages/sklearn/utils/validation.py:590: FutureWarning: np.matrix usage is deprecated in 1.0 and will raise a TypeError in 1.2. Please convert to a numpy array with np.asarray. For more information see: https://numpy.org/doc/stable/reference/generated/numpy.matrix.html\n",
            "  FutureWarning,\n"
          ]
        }
      ]
    },
    {
      "cell_type": "code",
      "metadata": {
        "colab": {
          "base_uri": "https://localhost:8080/",
          "height": 431
        },
        "id": "JmekS47lwOlE",
        "outputId": "3e0cd3a1-be13-4087-e85b-a714209a3fde"
      },
      "source": [
        "from scipy.cluster.hierarchy import dendrogram, linkage\n",
        "from matplotlib import pyplot as plt\n",
        "\n",
        "linked = linkage(X, 'single')\n",
        "\n",
        "labelList = range(0, 10)\n",
        "\n",
        "plt.figure(figsize=(10, 7))\n",
        "dendrogram(linked,\n",
        "            orientation='top',\n",
        "            labels=labelList,\n",
        "            distance_sort='descending',\n",
        "            show_leaf_counts=True)\n",
        "plt.show()"
      ],
      "execution_count": 20,
      "outputs": [
        {
          "output_type": "display_data",
          "data": {
            "image/png": "[encoded data removed]",
            "text/plain": [
              "<Figure size 720x504 with 1 Axes>"
            ]
          },
          "metadata": {
            "needs_background": "light"
          }
        }
      ]
    },
    {
      "cell_type": "code",
      "metadata": {
        "colab": {
          "base_uri": "https://localhost:8080/",
          "height": 431
        },
        "id": "bVd5C68GwUMh",
        "outputId": "eff8b39a-2c34-484c-d8e2-8e50989cc0df"
      },
      "source": [
        "from scipy.cluster.hierarchy import dendrogram, linkage\n",
        "from matplotlib import pyplot as plt\n",
        "\n",
        "linked = linkage(X, 'average')\n",
        "\n",
        "labelList = range(0, 10)\n",
        "\n",
        "plt.figure(figsize=(10, 7))\n",
        "dendrogram(linked,\n",
        "            orientation='top',\n",
        "            labels=labelList,\n",
        "            distance_sort='descending',\n",
        "            show_leaf_counts=True)\n",
        "plt.show()"
      ],
      "execution_count": 21,
      "outputs": [
        {
          "output_type": "display_data",
          "data": {
            "image/png": "[encoded data removed]",
            "text/plain": [
              "<Figure size 720x504 with 1 Axes>"
            ]
          },
          "metadata": {
            "needs_background": "light"
          }
        }
      ]
    }
  ]
}