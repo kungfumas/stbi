{
  "nbformat": 4,
  "nbformat_minor": 0,
  "metadata": {
    "colab": {
      "name": "search_engine.ipynb",
      "provenance": [],
      "authorship_tag": "ABX9TyOsGeN2dwEduNiIhCfjAhlz",
      "include_colab_link": true
    },
    "kernelspec": {
      "name": "python3",
      "display_name": "Python 3"
    },
    "language_info": {
      "name": "python"
    }
  },
  "cells": [
    {
      "cell_type": "markdown",
      "metadata": {
        "id": "view-in-github",
        "colab_type": "text"
      },
      "source": [
        "<a href=\"https://colab.research.google.com/github/kungfumas/stbi/blob/master/search_engine.ipynb\" target=\"_parent\"><img src=\"https://colab.research.google.com/assets/colab-badge.svg\" alt=\"Open In Colab\"/></a>"
      ]
    },
    {
      "cell_type": "code",
      "metadata": {
        "id": "bYB1fTOgRdNF"
      },
      "source": [
        "import requests\n",
        "from bs4 import BeautifulSoup# Make a request to the website\n",
        "r = requests.get('https://bola.kompas.com/')# Create an object to parse the HTML format\n",
        "soup = BeautifulSoup(r.content, 'html.parser')# Retrieve all popular news links (Fig. 1)\n",
        "link = []\n",
        "for i in soup.find('div', {'class':'most__wrap'}).find_all('a'):\n",
        "    i['href'] = i['href'] + '?page=all'\n",
        "    link.append(i['href'])# For each link, we retrieve paragraphs from it, combine each paragraph as one string, and save it to documents (Fig. 2)\n",
        "documents = []\n",
        "for i in link:\n",
        "    # Make a request to the link\n",
        "    r = requests.get(i)\n",
        "  \n",
        "    # Initialize BeautifulSoup object to parse the content \n",
        "    soup = BeautifulSoup(r.content, 'html.parser')\n",
        "  \n",
        "    # Retrieve all paragraphs and combine it as one\n",
        "    sen = []\n",
        "    for i in soup.find('div', {'class':'read__content'}).find_all('p'):\n",
        "        sen.append(i.text)\n",
        "  \n",
        "    # Add the combined paragraphs to documents\n",
        "    documents.append(' '.join(sen))"
      ],
      "execution_count": 1,
      "outputs": []
    },
    {
      "cell_type": "code",
      "metadata": {
        "id": "GPIzh5bjR0DB"
      },
      "source": [
        "import re\n",
        "documents_clean = []\n",
        "for d in documents:\n",
        "    # Remove Unicode\n",
        "    document_test = re.sub(r'[^\\x00-\\x7F]+', ' ', d)\n",
        "    # Remove Mentions\n",
        "    document_test = re.sub(r'@\\w+', '', document_test)\n",
        "    # Lowercase the document\n",
        "    document_test = document_test.lower()\n",
        "    # Remove punctuations\n",
        "    #document_test = re.sub(r'[%s]' % re.escape(string.punctuation), ' ', document_test)\n",
        "    # Lowercase the numbers\n",
        "    document_test = re.sub(r'[0-9]', '', document_test)\n",
        "    # Remove the doubled space\n",
        "    document_test = re.sub(r'\\s{2,}', ' ', document_test)\n",
        "    documents_clean.append(document_test)"
      ],
      "execution_count": 25,
      "outputs": []
    },
    {
      "cell_type": "code",
      "metadata": {
        "colab": {
          "base_uri": "https://localhost:8080/"
        },
        "id": "QuVhJq28XmJH",
        "outputId": "b0a3d4bc-59e2-436e-9bfb-39f637899a67"
      },
      "source": [
        "documents_clean[0:5]"
      ],
      "execution_count": 28,
      "outputs": [
        {
          "output_type": "execute_result",
          "data": {
            "text/plain": [
              "['kompas.com - menpora zainudin amali menilai pesepak bola yang tidak bisa bersikap profesional dan menjunjung tinggi sportivitas tidak layak memperkuat timnas indonesia. pendapat itu diungkapkan zainudin amali setelah mengetahui aksi brutal dua pemain ahha ps pati fc pada laga uji coba melawan persiraja banda aceh. duel ahha ps pati fc vs persiraja berlangsung di pancoran soccer field pada senin (//). meski berstatus uji coba, laga ahha ps pati vs persiraja berlangsung sangat keras sampai terjadi keributan antar pemain. dua momen yang paling disorot dari laga tersebut adalah pelanggaran keras yang dilakukan dua pemain ahh ps pati, yakni syaiful indra cahya dan zulham zamrun. baca juga: soal aksi brutal di laga ahha ps pati vs persiraja, menpora minta pssi turun tangan syaiful indra cahya mendapatkan kartu merah setelah melepaskan tendangan kungfu yang mengenai wajah pemain persiraja, muhammad nadhiif. dapatkan informasi, inspirasi dan insight di email kamu.daftarkan email di sisi lain, zulham zamrun juga mendapatkan kartu merah karena dengan sengaja menendang kaki pemain persiraja, defri rizki, ketika keduanya berebut bola. pelanggaran itu membuat defri rizki dan zulham zamrun sempat saling pukul sebelum akhirnya dilerai oleh pemain lain. menanggapi insiden tersebut, menpora zainudin amali mengaku sangat kecewa. menurut zainudin amali, pemain sepak bola profesional seharusnya berperilaku sportif dan tidak bertindak kasar atau sengaja mencederai lawan di lapangan. zainudin amali secara tidak langsung juga menilai pemain seperti syaiful indra cahya dan zulham zamrun tidak layak membela timnas indonesia. baca juga: pernyataan ahha ps pati soal insiden tendangan syaiful indra cahya \"bagi saya, pemain yang tidak bisa bersikap profesional dan tidak menjunjung tinggi sportivitas jangan masuk timnas indonesia. sehebat apapun dia,\" kata zainudin amali ketika dihubungi kompas.com pada selasa (//) malam wib. \"kita memang membutuhkan pemain yang bagus secara fisik, teknik, dan skill. namun, itu saja tidak cukup,\" ucap zainudin amali. \"pemain juga harus memiliki karakter yang profesional, mental yang baik dan juga punya jiwa sportivitas sebagai seorang atlet,\" tutur zainudin amali. \"jangan lupa, pesepak bola juga merupakan seorang atlet. salah satu filosofi olahraga adalah sportivitas,\" ujar zainudin amali menambahkan. dalam keterangannya, zainudin amali juga meminta pssi turun tangan menangani insiden yang terjadi pada laga uji coba ahha ps pati vs persiraja banda aceh. jika pssi tidak turun tangan, zainudin amali khawatir sepak bola indonesia akan terus dipandang negatif oleh publik tanah air. baca juga: pelatih persiraja angkat bicara soal kungfu pemain ahha ps pati terkini, manajemen ahha ps pati fc sudah memutuskan untuk memulangkan syaiful indra cahya dan zulham zamrun dari pemusatan latihan di jakarta. manajemen ahha ps pati fc secara terbuka juga sudah mengucapkan permintaan maaf terhadap skuad persiraja banda aceh. permintaan maaf itu disampaikan langsung oleh ahha ps pati, doni setiabudi ke skuad persiraja di sebuah hotel di kawasan tangerang. dalam kesempatan itu, syaiful indra cahya juga turut hadir untuk mengucapkan permintaan maaf ke m. nadhiif secara personal. menanggapi itikad baik syaiful indra cahya dan manajemen ahha ps pati, rahmat djailani selaku sekretaris tim persiraja memberi apresiasi. rahmat djailani juga memastikan skuad persiraja sudah melupakan apa yang terjadi di lapangan kemarin.',\n",
              " ' kompas.com - menpora zainudin amali meminta pssi turun tangan menangani insiden yang terjadi pada laga uji coba ahha ps pati vs persiraja banda aceh. jika pssi tidak turun tangan, zainudin amali khawatir sepak bola indonesia akan terus dipandang negatif oleh publik tanah air. laga uji coba antara ahha ps pati vs persiraja banda aceh yang berlangsung pada senin (//) saat ini sedang ramai dibicarakan oleh publik. hal itu tidak lepas dari aksi brutal yang dilakukan dua pemain ahha ps pati, yakni syaiful indra cahya dan zulham zamrun. baca juga: pelatih persiraja angkat bicara soal kungfu pemain ahha ps pati syaiful indra cahya sempat melepaskan tendangan kung fu yang mengenai wajah pemain persiraja, muhammad nadhif. dapatkan informasi, inspirasi dan insight di email kamu.daftarkan email di sisi lain, zulham zamrun kedapatan menendang kaki pemain persiraja, defri rizki, dengan sengaja ketika keduanya berebut bola. pelanggaran itu membuat defri rizki dan zulham zamrun sempat saling pukul sebelum akhirnya dipisahkan oleh pemain kedua tim. menanggapi insiden tersebut, zainudin amali mengaku sangat kecewa. menurut zainudin amali, pemain sepak bola profesional seharusnya berperilaku sportif dan tidak bertindak kasar atau sengaja mencederai lawan di lapangan. zainudin amali juga meminta pssi untuk segera mengambil tindakan tegas agar kejadian serupa tidak lagi terulang. baca juga: pernyataan ahha ps pati soal insiden tendangan syaiful indra cahya \"saya tentu sangat menyayangkan kejadian tersebut. meski itu bukan laga resmi, pemain yang sudah tergabung dalam klub profesional harus selalu menunjukkan perilaku sportif,\" kata zainudin amali ketika dihubungi kompas.com, selasa (//). \"mencederai lawan sesama pemain tidak dibenarkan. tindakan itu sangat tidak sportif,\" ucap zainudin amali. \"sebaiknya pengurus klub dan federasi (pssi) harus lebih memberikan perhatian serius terhadap kejadian seperti ini,\" ujar zainudin amali. \"jika dibiarkan, kepercayaan publik terhadap sepak bola nasional yang sedang kita bangun secara perlahan akan luntur,\" tutur zainudin amali. \"semua stakeholder persepak bolaan nasional harus turun tangan menjaga kepercayaan publik ini,\" ujar zainudin amali menambahkan. baca juga: main kasar pada laga uji coba, pemain ahha ps pati dipulangkan setelah pertandingan, syaiful indra cahya bersama manajemen ahha ps pati sudah menemui skuad persiraja untuk mengucapkan permintaan maaf. syaiful indra cahya dan m. nadhif secara terbuka juga sudah saling memaafkan. menanggapi itikad baik syaiful indra cahya dan manajemen ahha ps pati, rahmat djailani selaku sekretaris tim persiraja memberi apresiasi. rahmat djailani juga memastikan skuad persiraja sudah melupakan apa yang terjadi di lapangan kemarin. terkini, manajemen ahha ps pati fc sudah memutuskan untuk memulangkan syaiful indra cahya dan zulham zamrun dari pemusatan latihan di jakarta.',\n",
              " 'kompas.com - pelatih timnas italia roberto mancini mendapat kabar tak mengenakkan jelang menghadapi lituania pada lanjutan laga grup c kualifikasi piala dunia . italia akan melawan lituania di stadion mapei di reggio-emilia, italia, pada kamis (//) dini hari wib. namun, menjelang laga tersebut, gli azzurri ditinggal oleh beberapa pemainnya, yakni penyerang ciro immobile (lazio) dan lorenzo insigne (napoli). adapun nicolo zaniolo (as roma) pun diragukan bisa tampil saat melawan lituania. baca juga: jadwal kualifikasi piala dunia - polandia vs inggris, potensi italia perpanjang rekor dikutip dari football italia, immobile dan insigne telah \"dibebaskan\" lebih awal dari tugas internasional. kapten napoli, insigne, diberi izin karena alasan pribadi, sedangkan penyerang lazio, immobile, harus absen karena mengalami cedera otot. dapatkan informasi, inspirasi dan insight di email kamu.daftarkan email ini adalah berita buruk bagi pelatih roberto mancini, terutama karena zaniolo juga melewatkan sesi latihan setelah mengalami memar di paha dan diragukan tampil besok. sebelumnya, gelandang marco verratti dan lorenzo pellegrini juga telah meninggalkan kamp pelatihan italia kemarin karena cedera ringan. baca juga: rumor conte sepakat gabung arsenal dibantah agen italia penyerang muda sassuolo, giacomo raspadori, kemungkinan akan menjadi pilihan bagi mancini, diapit pasangan juventus, federico chiesa dan federico bernardeschi. adapun pada dua laga terakhir kualifikasi piala dunia , italia ditahan imbang dua kali beruntun, yakni - oleh bulgaria dan - oleh swiss. mancini pun mengungkap kekecewaan saat italia ditahan oleh swiss. dia menyinggung efektivitas serangan italia. \"sekali lagi, kami memiliki terlalu banyak peluang yang gagal dimanfaatkan untuk memenangi pertandingan,\" kata mancini. \"sama seperti ketika melawan bulgaria, ini adalah pertandingan lain yang tidak boleh gagal kami menangkan mengingat banyaknya peluang mencetak gol yang tercipta,\" tuturnya. baca juga: hasil kualifikasi piala dunia : portugal-perancis menang, depay hattrick untuk belanda selain itu, bila memenangi laga atau setidaknya imbang, juara euro ini akan bertengger sendirian sebagai timnas dengan rekor tak terkalahkan terpanjang. adapun rekor dunia terkait deretan laga tanpa kalah terpanjang saat ini dipegang bersama oleh italia dan brasil (-) yang unbeaten selama partai beruntun. berikut perkiraan susunan pemain italia dikutip dari football italia: italia (--): donnarumma; calabria, acerbi, bastoni, biraghi; pessina, sensi, locatelli; chiesa, raspadori, bernardeschi',\n",
              " \"kompas.com - semua tim besar berhasil menorehkan kemenangan pada lanjutan kualifikasi piala dunia zona eropa, selasa (//) hingga rabu (//) dini hari wib. timnas portugal membuka kemenangan lebih dulu saat melawan azerbaijan pada matchday keenam grup a, selasa malam wib. tanpa diperkuat sang kapten cristiano ronaldo, portugal menang telak atas azerbaijan di stadion olimpiade baku. trigol yang dicetak tim berjuluk selecao das quinas itu masing-masing dicetak oleh bernardo silva ('), andre silva ('), dan diogo jota ('). kemenangan ini pun memawa portugal naik ke puncak klasemen grup a dengan koleksi poin. baca juga: hasil azerbaijan vs portugal - tanpa ronaldo, selecao das quinas menang telak pada pertandingan lainnya, timnas perancis meraih kemenangan meyakinkan - atas finlandia di grup d. dapatkan informasi, inspirasi dan insight di email kamu.daftarkan email bertanding di stadion parc olympique lyonnais, perancis menang berkat brace dari antoine griezmann (', '). bagi griezmann, ini adalah gol ke- yang dia cetak untuk timnas perancis. dia kini sejajar dengan michel platini sebagai pencetak gol terbanyak ketiga les bleus sepanjang masa. kemenangan atas finlandia membuat les bleus memutuskan tren negatif di kualifikasi. sebelumnya, tim asuhan didier deschamps itu ditahan imbang kala melawan bosnia-herzegovina dan ukraina dengan skor serupa -. hasil ini membuat perancis kokoh di puncak klasemen grup d dengan raihan poin. baca juga: hasil perancis vs finlandia - griezmann gemilang, les bleus putus tren negatif afp/franck fife penyerang perancis antoine griezmann (kedua) merayakan gol dengan rekan satu timnya pada pertandingan kualifikasi piala dunia qatar grup d antara perancis vs finlandia di stadion groupama di decines-charpieu, lyon, perancis pada september, . timnas belanda juga meraih hasil positif setelah pesta gol ke gawang tim tangguh turki di grup g. der oranje menang telak - atas turki dalam laga yang berlangdung di amsterdam arena itu. memphis depay menjadi bintang di laga ini setelah sukses mencetak hattrick (' 'p '). ini adalah trigol pertamanya bersama timnas belanda. secara keseluruhan, depay telah mencatat gol yang membuatnya menyamai torehan johan cruyff dan abe lenstra sebagai pencetak gol terbanyak kedelapan der oranje. gol-gol belanda yang lain dilesakkan oleh davy klaassen ('), guus til ('), donyell malen ('). sementara itu, gol hiburan dari turki lahir melalui cengiz under pada menit ke-+. adapun kemenangan telak der oranje tersebut tak terlepas dari turki yang bermain dengan pemain, setelah caglar soyuncu mendapat kartu merah pada menit ke-. baca juga: belanda vs turki, comeback hebat van gaal berlanjut berkat hasil ini, belanda mengudeta turki di puncak klasemen dengan poin, sedangkan cengiz under dkk turun di posisi ketiga ( poin). turunnya peringkat turki sendiri juga dipengaruhi oleh hasil positif yang diraih norwegia saat melawan gibraltar. norwegia menggilas gibraltar - sehingga berada di peringkat kedua grup g dengan poin identik bersama belanda. pada laga tersebut, erling haaland tampil gemilang dengan mencetak hat-trick. adapun dua gol norwegia lainnya dicatat oleh kristian thorstvedt dan alexander sorloth. hasil kualifikasi piala dunia zona eropa hingga rabu (//) dini hari wib: azerbaijan vs portugal - (bernardo silva ', andre silva ', diogo jota ') rusia vs malta - (fyodor smolov ', zelimkhan bakaev 'p) norwegia vs gibraltar - (kristian thorstvedt ', erling haaland ' ' +', alexander sorloth ') perancis vs finlandia - (antoine griezmann ' ') kepulauan faroe vs moldova - (klaemint olsen ', heini vatnsdal '/nicolae milinceanu ') montenegro vs latvia - slovakia vs siprus - (ivan schranz ', martin koscelnik ') denmark vs israel - (yussuf poulsen ', simon kjaer ', andreas skov olsen ', thomas delaney ', andreas cornelius +') kroasia vs slovenia - (marko livaja ', mario pasalic ', nikola vlasic +') belanda vs turki - (davy klaassen ', memphis depay ' 'p ', guus til ', donyell malen '/cengiz under +') austria vs skotlandia - (lyndon dykes 'p) bosnia and herzegovina vs kazakhstan - (miralem pjanic ', luka menalo '/islambek kuat ', bakhtiyar zaynutdinov +') irlandia vs serbia - (nikola milenkovic 'gbd/sergej milinkovic-savic ')\",\n",
              " ' kompas.com - legenda sepak bola brasil, ronaldo nazario de lima, memperingatkan paris saint-germian bahwa skuad mewah tidak bisa menjamin gelar juara. peringatan itu disampaikan ronaldo ketika mendapatkan pertanyaan soal peluang psg menjuarai liga champions setelah mendatangkan banyak bintang musim ini. pada bursa transfer musim panas lalu, psg membuat kejutan setelah berhasil mendatangkan mantan kapten barcelona, lionel messi. sebelum meresmikan lionel messi, psg terlebih dahulu mengumumkan kedatangan empat bintang lainnya, yakni achraf hakimi, georginio wijnaldum, sergio ramos, dan juga gianluigi donnarumma. baca juga: tinggalkan ac milan untuk jadi cadangan di psg, donnarumma dibela buffon dari lima bintang itu, psg hanya mengeluarkan uang sebesar juta euro atau sekitar rp , triliun untuk menebus hakimi dari inter milan. dapatkan informasi, inspirasi dan insight di email kamu.daftarkan email adapun messi, sergio ramos, wijnaldum, dan donnarumma, merapat ke psg dengan status bebas transfer alias gratis. lima pemain di atas akan melengkapi skuad psg yang sebelumnya sudah dipenuhi banyak bintang seperti marco verratti, angel di maria, mauro icardi, kylian mbappe, hingga neymar jr. dengan skuad saat ini, psg asuhan mauricio pochettino kerap disebut sebagai kandidat terkuat juara liga champions. hal itu juga diamini oleh ronaldo nazario. namun, ronaldo nazario secara tidak langsung meminta psg untuk tetap waspada. sebab, ronaldo menilai sepak bola tidak seperti hitungan matematika yang pasti. baca juga: kata aguero soal debut messi di psg: dia seperti kehilangan kendali... ronaldo memperingatkan psg bahwa skuad bertabur bintang tidak bisa menjamin datangnya gelar juara apalagi di kompetisi sebesar liga champions. pendapat itu diungkapkan ronaldo dengan menceritakan pengalaman pribadinya ketika membela real madrid pada periode -. selama lima tahun membela real madrid, ronaldo bermain bersama banyak bintang seperti iker casillas, roberto carlos, sergio ramos, zinedine zidane, luis figo, michael owen, raul gonzalez, hingga david beckham. skuad mewah real madrid saat itu langsung mendapat julukan los galacticos atau secara garis besar bermakna tim impian. meski bertabur bintang, pencapaian terbaik real madrid di liga champions pada periode - hanyalah menjadi semifinalis. pengalaman pahit itulah yang membuat ronaldo memberi peringatan ke psg bahwa skuad mewah tidak menjamin gelar juara. baca juga: punya messi, psg bisa akhiri rekor buruk kontra man city di liga champions \"masih terlalu dini untuk mengatakan siapa yang akan menjadi juara liga champions. mungkin peta persaingan akan terlihat ketika sudah masuk perempat final,\" kata ronaldo dikutip dari situs marca. \"psg bisa dikatakan kandidat terkuat juara liga champions musim ini. namun, berbicara sangat berbeda dengan bermain,\" tutur ronaldo. \"ada banyak faktor yang memengaruhi pertandingan sepak bola,\" ucap ronaldo menambahkan. \"saya pernah membela real madrid selama hampir lima musim. bersama los galacticos, saya tidak pernah mengangkat trofi juara liga champions,\" ujar ronaldo. \"meski anda memiliki banyak bintang di tim, sepak bola bukan hitungan matematika. hal itu juga berlaku untuk psg saat ini,\" tutur mantan pemain ac milan itu menambahkan. sejak diakusisi nasser al-khelaifi pada , psg sudah membelanjakan puluhan triliun rupiah untuk mendatangkan banyak bintang. baca juga: messi akan menangkan liga champions bersama psg dan pensiun di barca thiago silva, zlatan ibrahimovic, hingga david beckham, adalah tiga bintang yang juga pernah membela psg pada masa kepemimpinan nasser al-khelaifi. namun, psg masih belum berhaasil meraih gelar juara liga champions hingga saat ini. pencapaian terbaik psg di liga champions adalah menjadi runner up pada musim -. musim lalu, langkah psg terhenti di semifinal liga champions setelah kalah - dari tim kaya inggris, manchester city. psg dan man city nantinya akan kembali bertemu pada fase grup liga champions musim ini. keduanya tergabung di grup a bersama dua tim lainnya, yakni club brugge dan rb leipzig. les parisiens, julukan psg, akan memulai kampanye di liga champions musim ini dengan menghadapi club brugge pada rabu (//).']"
            ]
          },
          "metadata": {},
          "execution_count": 28
        }
      ]
    },
    {
      "cell_type": "code",
      "metadata": {
        "id": "kKKOUHjMS2Jb"
      },
      "source": [
        "import numpy as np # linear algebra\n",
        "import pandas as pd # data processing, CSV file I/O (e.g. pd.read_csv)\n",
        "from sklearn.feature_extraction.text import TfidfVectorizer\n",
        "# Instantiate a TfidfVectorizer object\n",
        "vectorizer = TfidfVectorizer()# It fits the data and transform it as a vector\n",
        "X = vectorizer.fit_transform(documents_clean)# Convert the X as transposed matrix\n",
        "X = X.T.toarray()# Create a DataFrame and set the vocabulary as the index\n",
        "df = pd.DataFrame(X, index=vectorizer.get_feature_names())"
      ],
      "execution_count": 18,
      "outputs": []
    },
    {
      "cell_type": "code",
      "metadata": {
        "colab": {
          "base_uri": "https://localhost:8080/",
          "height": 202
        },
        "id": "wCK9wDJqTzKU",
        "outputId": "cc23664a-8f01-4e6a-bf7b-168e16405418"
      },
      "source": [
        "df.head()"
      ],
      "execution_count": 19,
      "outputs": [
        {
          "output_type": "execute_result",
          "data": {
            "text/html": [
              "<div>\n",
              "<style scoped>\n",
              "    .dataframe tbody tr th:only-of-type {\n",
              "        vertical-align: middle;\n",
              "    }\n",
              "\n",
              "    .dataframe tbody tr th {\n",
              "        vertical-align: top;\n",
              "    }\n",
              "\n",
              "    .dataframe thead th {\n",
              "        text-align: right;\n",
              "    }\n",
              "</style>\n",
              "<table border=\"1\" class=\"dataframe\">\n",
              "  <thead>\n",
              "    <tr style=\"text-align: right;\">\n",
              "      <th></th>\n",
              "      <th>0</th>\n",
              "      <th>1</th>\n",
              "      <th>2</th>\n",
              "      <th>3</th>\n",
              "      <th>4</th>\n",
              "      <th>5</th>\n",
              "      <th>6</th>\n",
              "      <th>7</th>\n",
              "      <th>8</th>\n",
              "      <th>9</th>\n",
              "    </tr>\n",
              "  </thead>\n",
              "  <tbody>\n",
              "    <tr>\n",
              "      <th>abdul</th>\n",
              "      <td>0.000000</td>\n",
              "      <td>0.000000</td>\n",
              "      <td>0.000000</td>\n",
              "      <td>0.000000</td>\n",
              "      <td>0.000000</td>\n",
              "      <td>0.0000</td>\n",
              "      <td>0.046924</td>\n",
              "      <td>0.0</td>\n",
              "      <td>0.0</td>\n",
              "      <td>0.000000</td>\n",
              "    </tr>\n",
              "    <tr>\n",
              "      <th>abe</th>\n",
              "      <td>0.000000</td>\n",
              "      <td>0.000000</td>\n",
              "      <td>0.000000</td>\n",
              "      <td>0.031505</td>\n",
              "      <td>0.000000</td>\n",
              "      <td>0.0000</td>\n",
              "      <td>0.000000</td>\n",
              "      <td>0.0</td>\n",
              "      <td>0.0</td>\n",
              "      <td>0.000000</td>\n",
              "    </tr>\n",
              "    <tr>\n",
              "      <th>absen</th>\n",
              "      <td>0.000000</td>\n",
              "      <td>0.000000</td>\n",
              "      <td>0.038069</td>\n",
              "      <td>0.000000</td>\n",
              "      <td>0.000000</td>\n",
              "      <td>0.0000</td>\n",
              "      <td>0.000000</td>\n",
              "      <td>0.0</td>\n",
              "      <td>0.0</td>\n",
              "      <td>0.059627</td>\n",
              "    </tr>\n",
              "    <tr>\n",
              "      <th>ac</th>\n",
              "      <td>0.000000</td>\n",
              "      <td>0.000000</td>\n",
              "      <td>0.000000</td>\n",
              "      <td>0.000000</td>\n",
              "      <td>0.046493</td>\n",
              "      <td>0.0000</td>\n",
              "      <td>0.000000</td>\n",
              "      <td>0.0</td>\n",
              "      <td>0.0</td>\n",
              "      <td>0.000000</td>\n",
              "    </tr>\n",
              "    <tr>\n",
              "      <th>aceh</th>\n",
              "      <td>0.065409</td>\n",
              "      <td>0.051883</td>\n",
              "      <td>0.000000</td>\n",
              "      <td>0.000000</td>\n",
              "      <td>0.000000</td>\n",
              "      <td>0.0279</td>\n",
              "      <td>0.124111</td>\n",
              "      <td>0.0</td>\n",
              "      <td>0.0</td>\n",
              "      <td>0.000000</td>\n",
              "    </tr>\n",
              "  </tbody>\n",
              "</table>\n",
              "</div>"
            ],
            "text/plain": [
              "              0         1         2         3  ...         6    7    8         9\n",
              "abdul  0.000000  0.000000  0.000000  0.000000  ...  0.046924  0.0  0.0  0.000000\n",
              "abe    0.000000  0.000000  0.000000  0.031505  ...  0.000000  0.0  0.0  0.000000\n",
              "absen  0.000000  0.000000  0.038069  0.000000  ...  0.000000  0.0  0.0  0.059627\n",
              "ac     0.000000  0.000000  0.000000  0.000000  ...  0.000000  0.0  0.0  0.000000\n",
              "aceh   0.065409  0.051883  0.000000  0.000000  ...  0.124111  0.0  0.0  0.000000\n",
              "\n",
              "[5 rows x 10 columns]"
            ]
          },
          "metadata": {},
          "execution_count": 19
        }
      ]
    },
    {
      "cell_type": "code",
      "metadata": {
        "colab": {
          "base_uri": "https://localhost:8080/",
          "height": 202
        },
        "id": "5poLNZYaT73P",
        "outputId": "527181b4-e7b8-46ff-822c-2f89a6812028"
      },
      "source": [
        "df.tail()"
      ],
      "execution_count": 20,
      "outputs": [
        {
          "output_type": "execute_result",
          "data": {
            "text/html": [
              "<div>\n",
              "<style scoped>\n",
              "    .dataframe tbody tr th:only-of-type {\n",
              "        vertical-align: middle;\n",
              "    }\n",
              "\n",
              "    .dataframe tbody tr th {\n",
              "        vertical-align: top;\n",
              "    }\n",
              "\n",
              "    .dataframe thead th {\n",
              "        text-align: right;\n",
              "    }\n",
              "</style>\n",
              "<table border=\"1\" class=\"dataframe\">\n",
              "  <thead>\n",
              "    <tr style=\"text-align: right;\">\n",
              "      <th></th>\n",
              "      <th>0</th>\n",
              "      <th>1</th>\n",
              "      <th>2</th>\n",
              "      <th>3</th>\n",
              "      <th>4</th>\n",
              "      <th>5</th>\n",
              "      <th>6</th>\n",
              "      <th>7</th>\n",
              "      <th>8</th>\n",
              "      <th>9</th>\n",
              "    </tr>\n",
              "  </thead>\n",
              "  <tbody>\n",
              "    <tr>\n",
              "      <th>zidane</th>\n",
              "      <td>0.000000</td>\n",
              "      <td>0.000000</td>\n",
              "      <td>0.0</td>\n",
              "      <td>0.00000</td>\n",
              "      <td>0.023247</td>\n",
              "      <td>0.000000</td>\n",
              "      <td>0.000000</td>\n",
              "      <td>0.0</td>\n",
              "      <td>0.0</td>\n",
              "      <td>0.0</td>\n",
              "    </tr>\n",
              "    <tr>\n",
              "      <th>zinedine</th>\n",
              "      <td>0.000000</td>\n",
              "      <td>0.000000</td>\n",
              "      <td>0.0</td>\n",
              "      <td>0.00000</td>\n",
              "      <td>0.023247</td>\n",
              "      <td>0.000000</td>\n",
              "      <td>0.000000</td>\n",
              "      <td>0.0</td>\n",
              "      <td>0.0</td>\n",
              "      <td>0.0</td>\n",
              "    </tr>\n",
              "    <tr>\n",
              "      <th>zlatan</th>\n",
              "      <td>0.000000</td>\n",
              "      <td>0.000000</td>\n",
              "      <td>0.0</td>\n",
              "      <td>0.00000</td>\n",
              "      <td>0.023247</td>\n",
              "      <td>0.000000</td>\n",
              "      <td>0.000000</td>\n",
              "      <td>0.0</td>\n",
              "      <td>0.0</td>\n",
              "      <td>0.0</td>\n",
              "    </tr>\n",
              "    <tr>\n",
              "      <th>zona</th>\n",
              "      <td>0.000000</td>\n",
              "      <td>0.000000</td>\n",
              "      <td>0.0</td>\n",
              "      <td>0.06301</td>\n",
              "      <td>0.000000</td>\n",
              "      <td>0.000000</td>\n",
              "      <td>0.000000</td>\n",
              "      <td>0.0</td>\n",
              "      <td>0.0</td>\n",
              "      <td>0.0</td>\n",
              "    </tr>\n",
              "    <tr>\n",
              "      <th>zulham</th>\n",
              "      <td>0.109015</td>\n",
              "      <td>0.103766</td>\n",
              "      <td>0.0</td>\n",
              "      <td>0.00000</td>\n",
              "      <td>0.000000</td>\n",
              "      <td>0.167397</td>\n",
              "      <td>0.031028</td>\n",
              "      <td>0.0</td>\n",
              "      <td>0.0</td>\n",
              "      <td>0.0</td>\n",
              "    </tr>\n",
              "  </tbody>\n",
              "</table>\n",
              "</div>"
            ],
            "text/plain": [
              "                 0         1    2        3  ...         6    7    8    9\n",
              "zidane    0.000000  0.000000  0.0  0.00000  ...  0.000000  0.0  0.0  0.0\n",
              "zinedine  0.000000  0.000000  0.0  0.00000  ...  0.000000  0.0  0.0  0.0\n",
              "zlatan    0.000000  0.000000  0.0  0.00000  ...  0.000000  0.0  0.0  0.0\n",
              "zona      0.000000  0.000000  0.0  0.06301  ...  0.000000  0.0  0.0  0.0\n",
              "zulham    0.109015  0.103766  0.0  0.00000  ...  0.031028  0.0  0.0  0.0\n",
              "\n",
              "[5 rows x 10 columns]"
            ]
          },
          "metadata": {},
          "execution_count": 20
        }
      ]
    },
    {
      "cell_type": "code",
      "metadata": {
        "colab": {
          "base_uri": "https://localhost:8080/"
        },
        "id": "H9pZxXiVURJu",
        "outputId": "6e2d23ed-fb8c-4005-d983-a13bb5a97793"
      },
      "source": [
        "def get_similar_articles(q, df):\n",
        "  print(\"query:\", q)\n",
        "  print(\"Berikut artikel dengan nilai cosine similarity tertinggi: \")  # Convert the query become a vector\n",
        "  q = [q]\n",
        "  q_vec = vectorizer.transform(q).toarray().reshape(df.shape[0],)\n",
        "  sim = {}  # Calculate the similarity\n",
        "  for i in range(10):\n",
        "    sim[i] = np.dot(df.loc[:, i].values, q_vec) / np.linalg.norm(df.loc[:, i]) * np.linalg.norm(q_vec)\n",
        "  \n",
        "  # Sort the values \n",
        "  sim_sorted = sorted(sim.items(), key=lambda x: x[1], reverse=True)  # Print the articles and their similarity values\n",
        "  for k, v in sim_sorted:\n",
        "    if v != 0.0:\n",
        "      print(\"Nilai Similaritas:\", v)\n",
        "      print(documents_clean[k])\n",
        "      print()# Add The Query\n",
        "q1 = 'barcelona'# Call the function\n",
        "get_similar_articles(q1, df)"
      ],
      "execution_count": 24,
      "outputs": [
        {
          "output_type": "stream",
          "name": "stdout",
          "text": [
            "query: barcelona\n",
            "Berikut artikel dengan nilai cosine similarity tertinggi: \n",
            "Nilai Similaritas: 0.08279099439190626\n",
            "kompas.com - comeback louis van gaal bersama timnas belanda terus menuai kesuksesan. terkini, virgil van dijk cs menang besar - atas turki pada rabu (//). media asal belanda, algemein dagblaad (ad), mengatakan \"kehadiran louis van gaal mendatangkan atmosfer yang benar-benar berbeda dalam waktu satu minggu\". bagaimana tidak, kemenangan besar atas turki menutup jendela internasional produktif bagi timnas belanda dan van gaal. kendati memulai pekan dengan hasil seri - lawan norwegia, belanda lalu memukul turki - sebelum mencatatkan kemenangan - lawan turki ini. penyerang barcelona memphis depay jadi motor kemenangan barcelona di stadion johan cruyff tersebut. baca juga: hasil perancis vs finlandia - griezmann gemilang, les bleus putus tren negatif sang bomber mencetak hat-trick (', 'pen', ') dengan gol-gol dari davy klaasen ('), guus til ('), dan donyell malen (') melengkapi kemenangan oranje. dapatkan informasi, inspirasi dan insight di email kamu.daftarkan email turki sendiri terpaksa bermain dengan pemain semenjak bek leicester city caglar soyuncu mendapat kartu kuning kedua pada menit ke-. hasil ini sekaligus sebuah revans bagi belanda asuhan frank de boer yang kalah - saat bertandang ke turki pada akhir maret lalu. \"saya lebih punya kepercayaan diri sekarang ketimbang dalam dua laga sebelumnnya,\" tutur van gaal sesuai laga, seperti dikutip dari ad. hasil ini membuat pasukan belanda duduk di puncak klasemen kualifikasi piala dunia grup g melewati norwegia dan turki. namun, belanda hanya unggul agregat gol dari norwegia (+ berbanding +) dengan keduanya sama-sama mengoleksi poin. turki sendiri menyusul dengan poin. \"ini start baru bersama dengan pelatih timnas anyar,\" puji bek tangguh dan kapten tim virgil van dijk. \"anda bisa melihat bahwa kami berada dalam proses membangun sesuatu yang indah.\" \"kami jelas bisa membangun dari pertandingan ini.\" baca juga: resmi, louis van gaal kembali latih timnas belanda untuk kali ketiga! hal serupa juga dirasakan oleh pencetak gol pertama pada laga tersebut, davy klaasen. \"ini cara terbaik untuk memenangi laga,\" tutur sang gelandang ajax amsterdam tersebut kepada nos. \"laga tadi adalah pertandingan penting dan kami langsung membuat skor -.\" \"semua kekuatan saya terlihat di laga ini. sang pelatih memberikan saya dan rekan-rekan kepercayaan diri tinggi.\" \"anda bisa lihat sendiri, kami bermain dengan kebahagiaan.\"\n",
            "\n",
            "Nilai Similaritas: 0.01976183352267069\n",
            " kompas.com - legenda sepak bola brasil, ronaldo nazario de lima, memperingatkan paris saint-germian bahwa skuad mewah tidak bisa menjamin gelar juara. peringatan itu disampaikan ronaldo ketika mendapatkan pertanyaan soal peluang psg menjuarai liga champions setelah mendatangkan banyak bintang musim ini. pada bursa transfer musim panas lalu, psg membuat kejutan setelah berhasil mendatangkan mantan kapten barcelona, lionel messi. sebelum meresmikan lionel messi, psg terlebih dahulu mengumumkan kedatangan empat bintang lainnya, yakni achraf hakimi, georginio wijnaldum, sergio ramos, dan juga gianluigi donnarumma. baca juga: tinggalkan ac milan untuk jadi cadangan di psg, donnarumma dibela buffon dari lima bintang itu, psg hanya mengeluarkan uang sebesar juta euro atau sekitar rp , triliun untuk menebus hakimi dari inter milan. dapatkan informasi, inspirasi dan insight di email kamu.daftarkan email adapun messi, sergio ramos, wijnaldum, dan donnarumma, merapat ke psg dengan status bebas transfer alias gratis. lima pemain di atas akan melengkapi skuad psg yang sebelumnya sudah dipenuhi banyak bintang seperti marco verratti, angel di maria, mauro icardi, kylian mbappe, hingga neymar jr. dengan skuad saat ini, psg asuhan mauricio pochettino kerap disebut sebagai kandidat terkuat juara liga champions. hal itu juga diamini oleh ronaldo nazario. namun, ronaldo nazario secara tidak langsung meminta psg untuk tetap waspada. sebab, ronaldo menilai sepak bola tidak seperti hitungan matematika yang pasti. baca juga: kata aguero soal debut messi di psg: dia seperti kehilangan kendali... ronaldo memperingatkan psg bahwa skuad bertabur bintang tidak bisa menjamin datangnya gelar juara apalagi di kompetisi sebesar liga champions. pendapat itu diungkapkan ronaldo dengan menceritakan pengalaman pribadinya ketika membela real madrid pada periode -. selama lima tahun membela real madrid, ronaldo bermain bersama banyak bintang seperti iker casillas, roberto carlos, sergio ramos, zinedine zidane, luis figo, michael owen, raul gonzalez, hingga david beckham. skuad mewah real madrid saat itu langsung mendapat julukan los galacticos atau secara garis besar bermakna tim impian. meski bertabur bintang, pencapaian terbaik real madrid di liga champions pada periode - hanyalah menjadi semifinalis. pengalaman pahit itulah yang membuat ronaldo memberi peringatan ke psg bahwa skuad mewah tidak menjamin gelar juara. baca juga: punya messi, psg bisa akhiri rekor buruk kontra man city di liga champions \"masih terlalu dini untuk mengatakan siapa yang akan menjadi juara liga champions. mungkin peta persaingan akan terlihat ketika sudah masuk perempat final,\" kata ronaldo dikutip dari situs marca. \"psg bisa dikatakan kandidat terkuat juara liga champions musim ini. namun, berbicara sangat berbeda dengan bermain,\" tutur ronaldo. \"ada banyak faktor yang memengaruhi pertandingan sepak bola,\" ucap ronaldo menambahkan. \"saya pernah membela real madrid selama hampir lima musim. bersama los galacticos, saya tidak pernah mengangkat trofi juara liga champions,\" ujar ronaldo. \"meski anda memiliki banyak bintang di tim, sepak bola bukan hitungan matematika. hal itu juga berlaku untuk psg saat ini,\" tutur mantan pemain ac milan itu menambahkan. sejak diakusisi nasser al-khelaifi pada , psg sudah membelanjakan puluhan triliun rupiah untuk mendatangkan banyak bintang. baca juga: messi akan menangkan liga champions bersama psg dan pensiun di barca thiago silva, zlatan ibrahimovic, hingga david beckham, adalah tiga bintang yang juga pernah membela psg pada masa kepemimpinan nasser al-khelaifi. namun, psg masih belum berhaasil meraih gelar juara liga champions hingga saat ini. pencapaian terbaik psg di liga champions adalah menjadi runner up pada musim -. musim lalu, langkah psg terhenti di semifinal liga champions setelah kalah - dari tim kaya inggris, manchester city. psg dan man city nantinya akan kembali bertemu pada fase grup liga champions musim ini. keduanya tergabung di grup a bersama dua tim lainnya, yakni club brugge dan rb leipzig. les parisiens, julukan psg, akan memulai kampanye di liga champions musim ini dengan menghadapi club brugge pada rabu (//).\n",
            "\n"
          ]
        }
      ]
    }
  ]
}