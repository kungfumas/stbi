{
  "nbformat": 4,
  "nbformat_minor": 0,
  "metadata": {
    "colab": {
      "name": "klastering.ipynb",
      "provenance": [],
      "collapsed_sections": [],
      "authorship_tag": "ABX9TyPAOCXH34k+aUzAEfjC09Mj",
      "include_colab_link": true
    },
    "kernelspec": {
      "name": "python3",
      "display_name": "Python 3"
    },
    "language_info": {
      "name": "python"
    }
  },
  "cells": [
    {
      "cell_type": "markdown",
      "metadata": {
        "id": "view-in-github",
        "colab_type": "text"
      },
      "source": [
        "<a href=\"https://colab.research.google.com/github/kungfumas/stbi/blob/master/klastering.ipynb\" target=\"_parent\"><img src=\"https://colab.research.google.com/assets/colab-badge.svg\" alt=\"Open In Colab\"/></a>"
      ]
    },
    {
      "cell_type": "code",
      "metadata": {
        "colab": {
          "base_uri": "https://localhost:8080/"
        },
        "id": "owxqrEeBpSrn",
        "outputId": "927f543e-09e7-4963-dade-146b8f7643ab"
      },
      "source": [
        "!pip install Sastrawi\n"
      ],
      "execution_count": 41,
      "outputs": [
        {
          "output_type": "stream",
          "name": "stdout",
          "text": [
            "Requirement already satisfied: Sastrawi in /usr/local/lib/python3.7/dist-packages (1.0.1)\n"
          ]
        }
      ]
    },
    {
      "cell_type": "code",
      "metadata": {
        "colab": {
          "base_uri": "https://localhost:8080/"
        },
        "id": "ew1ZDWLLqf_S",
        "outputId": "7af9cee6-3cba-46a8-ff49-b0759fe6f068"
      },
      "source": [
        "!pip install beautifulsoup4"
      ],
      "execution_count": 42,
      "outputs": [
        {
          "output_type": "stream",
          "name": "stdout",
          "text": [
            "Requirement already satisfied: beautifulsoup4 in /usr/local/lib/python3.7/dist-packages (4.6.3)\n"
          ]
        }
      ]
    },
    {
      "cell_type": "code",
      "metadata": {
        "id": "iW8MaatGqJHR"
      },
      "source": [
        "import requests\n",
        "from bs4 import BeautifulSoup# Buat request ke website\n",
        "r = requests.get('https://bola.kompas.com/')\n",
        "soup = BeautifulSoup(r.content, 'html.parser')# Buat object untuk parse((mengurai) format HTML \n",
        "link = []\n",
        "# Ambil semua tautan berita yang menarik\n",
        "for i in soup.find('div', {'class':'most__wrap'}).find_all('a'): \n",
        "    \n",
        "    i['href'] = i['href'] + '?page=all'\n",
        "    link.append(i['href'])\n",
        "    #dari tiap tautan ambil paragraph, kombinasikan tiap paragraph\n",
        "    #simpan ke dalam larik documents\n",
        "    \n",
        "documents = []\n",
        "for i in link:\n",
        "    # Buat request ke tautan\n",
        "    r = requests.get(i)\n",
        "    # Initialize BeautifulSoup object untuk parse/mengurai isi \n",
        "    soup = BeautifulSoup(r.content, 'html.parser')\n",
        "    # ambil semua paragraph dan masukkan ke dalam larik sen\n",
        "    sen = []\n",
        "    for i in soup.find('div', {'class':'read__content'}).find_all('p'):\n",
        "        sen.append(i.text)\n",
        "    # tabahkan semua paragraph yang sudah digabungkan ke dalam larik documents\n",
        "    documents.append(' '.join(sen))"
      ],
      "execution_count": 43,
      "outputs": []
    },
    {
      "cell_type": "code",
      "metadata": {
        "colab": {
          "base_uri": "https://localhost:8080/"
        },
        "id": "DjbHRtOhsohf",
        "outputId": "492ebbe3-8470-466b-bf9f-73c0664fa98f"
      },
      "source": [
        "for d in documents:\n",
        "    print(d)"
      ],
      "execution_count": 44,
      "outputs": [
        {
          "output_type": "stream",
          "name": "stdout",
          "text": [
            "KOMPAS.com - Hasil drawing atau undian grup BWF World Tour Finals 2021 telah dilakukan di Bali International Convention Center, Nusa Dua, Selasa (30/11/2021) pagi WIB. Adapun sebanyak empat wakil Merah Putih di tiga nomor ganda berbeda melaju ke BWF World Tour Finals 2021, yang akan menutup rangkaian Indonesia Badminton Festival (IBF) di Bali. Wakil-wakil Indonesia yang lolos adalah dua ganda putra Marcus Fernaldi Gideon/Kevin Sanjaya Sukamuljo dan Pramudya Kusumawardana/Yeremia Erich Yoche Yacob Rambitan. Lalu, ganda putri Greysia Polii/Apriyani Rahayu yang lolos via jalur juara Olimpiade Tokyo 2020. Baca juga: Cerita Pram/Yere Lolos BWF World Tour Finals: Chat Marcus, Nonton Sambil Main Tenis Meja... Terakhir ada Praveen Jordan/Melati Daeva Oktavianti di sektor ganda campuran. Di sektor ganda putra, Marcus/Kevin yang merupakan pasangan nomor 1 dunia ini mendapatkan lawan yang cukup berat. Dapatkan informasi, inspirasi dan insight di email kamu.Daftarkan email The Minions tergabung di Grup A bersama pasangan terbaik India dan Denmark, yakni Satwiksairaj Rankireddy/Chirag Shetty dan Kim Astrup/Anders Skaarup Rasmussen. Adapun lawan yang berpotensi menjadi tantangan terbesar Marcus/Kevin di Grup A adalah Lee Yang/Wang Chi-lin (Taiwan). Baca juga: Profil Yeo Jia Min, Ukir Sejarah bagi Singapura di BWF World Tour Finals Lee/Wang sendiri merupakan ganda putra yang berhasil lolos melalui jalur Olimpiade Tokyo 2020. Tercatat, Marcus/Kevin dan Lee/Wang sudah bersua sebanyak empat kali. The Minions unggul 3-1, tetapi mereka kalah pada pertemuan terakhir di laga fase grup Olimpiade Tokyo 2020. Sementara, Pramudya Kusumawardana/Yeremia Erich Yoche Yacob Rambitan berada di Grup B. Baca juga: Daftar Peserta BWF World Tour Finals 2021, Dua Tunggal Putra India Ukir Sejarah Pramudya/Yeremia satu grup dengan juara Indonesia Masters 2021 dan runner-up Indonesia Open 2021, Takuro Hoki/Yugo Kobayashi (Jepang). Kemudian, Greysia/Apriyani berada di Grup A nomor ganda putri, sedangkan Praveen/Melati di Grup B sektor ganda campuran. Turnamen BWF World Tour Finals 2021 akan dihelat di Bali International Convention Center, Nusa Dua, pada 1-5 Desember 2021. Tungal Putra Grup A Grup B Tunggal Putri Grup A\n",
            " BALI, KOMPAS.com - Empat wakil Indonesia akan menghadapi ujian berat pada hari pertama BWF World Tour Finals 2021, Rabu (1/12/2021). Marcus Fernaldi Gideon/Kevin Sanjaya Sukamuljo akan langsung menghadapi ganda putra peraih medali emas Olimpiade Tokyo 2020, Lee Yang/Wang Chi-Lin (Taiwan). Duel Marcus/Kevin vs Lee/Wang merupakan laga pertama Grup A sektor ganda putra BWF World Tour Finals 2021. Melihat rekor pertemuan dan tren performa, Marcus/Kevin sebenarnya unggul atas Lee/Wang. The Minions, julukan Marcus/Kevin, tercatat sudah tiga kali mengalahkan Lee/Wang pada empat pertemuan sebelumnya. Baca juga: Hoki/Kobayashi Senang Tak Segrup dengan Marcus/Kevin di BWF World Tour Finals Dapatkan informasi, inspirasi dan insight di email kamu.Daftarkan email Adapun tren performa Marcus/Kevin menjelang BWF World Tour Finals 2021 juga lebih baik daripada Lee/Wang. Kepercayaan diri Marcus/Kevin sedang meningkat setelah selalu berhasil menembus final di empat turnamen terakhir mereka. Dari empat final tersebut, Marcus/Kevin sukses meraih dua gelar juara, yakni Hylo Open 2021 dan Indonesia Open 2021. Berbeda dari Marcus/Kevin, tren performa Lee/Wang menjelang BWF World Tour Finals 2021 jauh dari kata konsisten. Lee/Wang tercatat tidak pernah lagi tampil di final sejak meraih medali emas ganda putra Olimpiade Tokyo 2020. Pencapaian terbaik Lee/Wang setelah Olimpiade Tokyo 2020 hanyalah perempat final Indonesia Masters 2021. Baca juga: Cerita Pram/Yere Lolos BWF World Tour Finals: Chat Marcus, Nonton Sambil Main Tenis Meja... Meski demikian, Marcus/Kevin tetap harus waspada karena Lee/Wang pada BWF World Tour Finals 2021 berstatus sebagai juara bertahan. Wakil Indonesia lain yang juga akan bermain pada hari pertama BWF World Tour Finals 2021 adalah Pramudya Kusumawardana/Yeremia Erich Yoche Yacob Rambitam. Pram/Yere dipastikan harus bekerja ekstra keras karena lawan yang akan mereka hadapi pada laga pertama Grup B adalah ganda putra unggulan kedua asal Jepang, Takuro Hoki/Yugo Kobayashi. Duel Pram/Yere vs Hoki/Kobayashi merupakan ulangan dari 16 besar Indonesia Open 2021 pekan lalu. Pram/Yere saat itu sebenarnya mampu mengimbangi Hoki/Kobayashi setelah berjuang selama 53 menit. Namun, Pram/Yere tetap harus menyerah dengan skor tipis 23-25 dan 25-27. Baca juga: Lolos ke BWF World Tour Finals, Pram/Yere Ucap Terima Kasih ke Marcus/Kevin Melihat pertemuan terakhir keduanya, Pram/Yere sangat berpeluang membalas kekalahan dari Hoki/Kobayashi pada laga pertama Grup B BWF World Tour Finals 2021 nanti. Wakil Indonesia ketiga yang akan bermain pada hari pertama BWF World Tour Finals 2021 adalah Praveen Jordan/Melati Daeva Oktavianti. Tugas Praveen/Melati sangat berat karena langsung menghadapi ganda campuran terbaik Thailand, Dechapol Puavaranukroh/Sapsiree Taerattanachai pada laga pertama Grup B. Dechapol/Sapsiree bisa dikatakan ganda campuran terkuat pada BWF World Tour Finals 2021. Hal itu tidak lepas dari konsistensi Dechapol/Sapsiree menembus semifinal pada lima turnamen terakhir mereka menjelang BWF World Tour Finals 2021. Dari lima turnamen itu, Dechapol/Sapsiree sukses meraih tiga gelar juara, yakni Hylo Open, Indonesia Masters, dan Indonesia Open 2021. Baca juga: BWF World Tour Finals 2021, Praveen/Melati Optimistis Lewati Fase Grup Adapun wakil Indonesia terakhir yang akan bermain pada hari pertama BWF World Tour Finals 2021 adalah Greysia Polii/Apriyani Rahayu. Gresyia/Apriyani juga menghadapi tugas berat karena harus melawan ganda putri terbaik Thailand, Jongkolphan Kititharakul/Rawinda Prajongjai, pada laga pertama Grup A. Duel Greysia/Apriyani vs Jongkolphan/Rawinda diprediski akan berjalan sengit karena kedua pasangan meraih tiket BWF World Tour Finals 2021 dengan cara yang spesial. Greysia/Apriyani otomatis lolos ke BWF World Tour Finals 2021 setelah berhasil meraih medali emas ganda putri Olimpiade Tokyo 2020. Di sisi lain, Jongkolphan/Rawinda lolos sebagai peringkat pertama klasemen road to BWF World Tour Finals. Berikut adalah jadwal lengkap hari pertama BWF World Tour Finals 2021, Rabu (1/12/2021): SESI 1: MULAI PUKUL 09.00 WIB Court 1: Court 2: ------------------------ SESI 2: MULAI PUKUL 16.00 WIB Court 1: Court 2:\n",
            "KOMPAS.com - Terdapat suara-suara sumbang terkait keberhasilan megabintang asal Argentina Lionel Messi meraih trofi Ballon d'Or 2021. Lionel Messi meraih gelar Ballon d'Or, pemain terbaik dunia, 2021 setelah unggul dalam perolehan suara dari para pesaingnya. Bintang yang kini membela Paris Saint-Germain (PSG) itu menerima trofi Ballon d'Or pada malam penganugerahan di Theatre du Chatelet, Paris, Perancis, Senin (29/11/2021). Messi memenangi penghargaan Ballon d'Or 2021 dari total 30 nomine. Dia unggul 33 poin atas pesaing terdekatnya, Robert Lewandowski (Bayern Muenchen/Polandia). Baca juga: Hasil Lengkap Perolehan Poin Ballon dOr 2021: Messi-Lewandowski Ketat, Ronaldo... Adapun gelandang Chelsea dan timnas Italia, Jorginho, melengkapi posisi tiga besar, setelah Messi dan Lewandowski. Messi pun semakin mengukuhkan dirinya sebagai pemilik Bola Emas terbanyak dalam sejarah. Dapatkan informasi, inspirasi dan insight di email kamu.Daftarkan email Messi sudah tujuh kali meraih trofi Ballon d'Or yang diperoleh pada 2009, 2010, 2011, 2012, 2015, 2019, dan 2021. Namun, tak semua pihak bisa menerima kesuksesan Messi. Baca juga: Ronaldo Sebut Pihak France Football Bohong soal Ambisi Kejar Ballon dOr Messi Gelandang legendaris timnas Jerman, Lothar Matthaus, menjadi salah satu pesohor yang menyatakan ketidaksukaannya terhadap keputusan France Football, selaku penyelenggara Ballon d'Or. Dia menilai Lewandowski lebih layak naik podium juara dibanding Messi. \"Sejujurnya, saya tak mengerti lagi,\" tutur Matthaus kepada Sky Germany, dikutip dari Bolasport. \"Atas segala hormat kepada Messi dan pemain hebat lainnya, tak ada satu pun yang layak menerima trofi daripada Lewandowski,\" kata pemenang Ballon d'Or 1990 itu. FRANCK FIFE Penyerang Bayern Muenchen Robert Lewandowski melambaikan tangan di atas panggung setelah dianugerahi penghargaan Striker of the Year pada upacara penghargaan Ballon d'Or France Football 2021 di Theatre du Chatelet di Paris pada 29 November 2021. Nada sumbang juga datang dari Jean-Pierre Papin. \"Leo Messi tidak pantas memenangi Ballon d'Or tahun ini,\" tutur sang Pemain Terbaik Dunia edisi 1991 itu. \"Memilih Messi tahun ini akan mendevaluasi Bola Emas karena itu berarti kami tidak lagi memberikan kemungkinan kepada pemain berkinerja tinggi untuk memenangi trofi,\" ujar Papin. Baca juga: Usai Patah Hati di Ajang Ballon dOr, Lewandowski Kirim Pesan Berkelas untuk Messi Media Jerman, Bild, ikut-ikutan menyuarakan protes atas pemilihan Messi sebagai kampiun Ballon d'Or tahun ini. \"Skandal,\" demikian tajuk berita mereka. Mengacu pada statistik di sepanjang musim 2020-2021, Lewandowski memang menunjukkan hasil impresif. Striker Bayern Muenchen itu mengumpulkan 48 gol dari 40 penampilan di semua kompetisi. Adapun raihan Messi adalah total 31 gol dalam 44 laga. Menilik dari segi raihan gelar pun, Lewandowski tetap unggul. Dia memperoleh empat titel pada musim lalu yang semuanya diraih bersama Muenchen. Sementara itu, Messi memberikan trofi Copa del Rey untuk Barcelona dan juara Copa America bareng timnas Argentina. (Ade Jayadireja)\n",
            "KOMPAS.com - Ganda putra Jepang, Takuro Hoki/Yugo Kobayashi, buka suara soal hasil undian BWF World Tour Finals 2021.  BWF selaku induk bulu tangkis dunia telah melakukan undian turnamen BWF World Tour Finals di Bali International Convention Centre pada Selasa (30/11/2021).  Hasilnya, Takuro Hoki/Yugo Kobayashi yang diunggulkan di tempat kedua berada di Grup B bersama Pramudya Kusumawardana/Yeremia Erich Yoche Yacob Rambitan, Ong Yew Sin/Teo Ee Yi, dan Christo Popov/Toma Junior Popov.  Pembagian grup tersebut memastikan Hoki/Kobayashi akan kembali bertemu Pramudya/Yeremia setelah pertama kali bersua di Indonesia Open 2021 pekan lalu.  Baca juga: Hasil Drawing BWF World Tour Finals 2021, Marcus/Kevin Segrup dengan Juara Olimpiade Kedua pasangan bertemu di babak kedua atau 16 besar Indonesia Open yang dimenangi oleh Hoki/Kobayashi dengan skor 23-25 dan 25-27.  Pramudya/Yeremia sebelumnya mengaku kesal karena kalah dari Hoki/Kobayashi. Mereka pun ingin membalaskan kekalahan tersebut di BWF World Tour Finals.  Dapatkan informasi, inspirasi dan insight di email kamu.Daftarkan email \"Ingin revans sama Takuro Hoki/Yugo Kobayasho. Kesal sekali saya kalah. Pokoknya mau ketemu lagi,\" kata Pramudya Kusumawardana saat ditemui awak media di Westin Resort, Senin (29/11/2021).  Di sisi lain, Hoki/Kobayashi pun menyadari potensi yang dimiliki Pramudya/Yeremia. Mereka juga sudah mengantisipasi bahwa Pramudya/Yeremia akan tampil lebih semangat pada pertandingan selanjutnya.  Hoki/Kobayashi pun tak ingin kalah dari pasangan muda tersebut dan tetap menunjukkan yang terbaik di lapangan.  \"Pramudya/Yeremia masih muda dan mereka sangat berapi-api,\" kata Takuro Hoki kepada Kompas.com dan beberapa media lain saat ditemui di Bali International Convention Centre usai latihan, Selasa (30/11/2021).  \"Kami jangan sampai kalah. Selanjutnya mereka pasti menunjukkan semangat yang lebih.\"  \"Kami punya pride sendiri sebagai senior dan tak akan menghilangkan rasa itu untuk pertandingan melawan Pramudya/Yeremia nanti,\" ujar Takuro Hoki.  Baca juga: Jelang BWF World Tour Finals, Pemain Top Dunia Ikut Charity for Bali BWF World Tour Finals akan segera berlangsung di Bali International Convention Centre mulai esok hari, Rabu (1/12/2021) hingga Minggu (5/12/2021).  Turnamen tersebut merupakan event ketiga dan penutup dari rangkaian Indonesia Badminton Festival.  Sebelum BWF World Tour Finals, Indonesia Badminton Festival sudah menggelar Indonesia Masters (16-21 November) dan Indonesia Open (23-28 November).   Adapun selain Pramudya/Yeremia, Indonesia juga meloloskan satu wakil lagi di nomor ganda putra melalui Marcus Fernaldi Gideon/Kevin Sanjaya Sukamuljo yang tergabung di Grup A bersama Kim Astrup/Anders Skaarup Rasmussen, Wang Chi-Lin/Lee Yang, dan Satwiksairaj Rankireddy/Chirag Shetty. \n",
            "KOMPAS.com - Gelandang Real Madrid Toni Kroos menilai bahwa Cristiano Ronaldo lebih pantas memenangi Ballon d'Or 2021 ketimbang Lionel Messi. Lionel Messi terpilih untuk menerima penghargaan Ballon d'Or 2021 pada Selasa (30/11/2021) dini hari WIB. Megabintang asal Argentina itu berhak mengangkat trofi bola emas setelah mendapat voting tertinggi, 613 poin. Messi mengungguli Robert Lewandowski (Bayern Muenchen/580 poin) dan Jorginho (Chelsea/460 poin), yang harus puas di posisi 2-3. Keberhasilan Messi menyabet penghargaan yang diinisiasi majalah France Football itu tak terlepas dari penampilan apiknya sepanjang 2021 bersama klub dan timnas. Baca juga: Jumlah Gol Messi Setiap Kali Raih Ballon dOr, Fenomenal pada 2012 Messi mencetak 32 gol dan 12 assist dan mengantarkan Barcelona juara Copa del Rey musim lalu. Dapatkan informasi, inspirasi dan insight di email kamu.Daftarkan email Di level timnas, Messi mengantarkan Argentina ke podium juara Copa America 2021 yang digelar di Brasil.  Pada turnamen tersebut, Messi mencetak sembilan gol (top scorer) dan lima assist, serta terpilih menjadi pemain terbaik. Bagi Messi, ini adalah trofi Ballon d'Or ketujuh yang dia terima sepanjang kariernya sebagai sepak bola. Enam gelar sebelumnya diraih Messi pada edisi 2009, 2010, 2011, 2012, 2015, dan 2019. Baca juga: Siapa yang Bisa Lewati Rekor 7 Ballon dOr Lionel Messi? Meski Messi dirasa pantas menerima Ballon d'Or 2021, ternyata banyak juga yang tak setuju penghargaan tersebut jatuh ke tangan La Pulga. Toni Kroos salah satu figur yang kontra Ballon d'Or tahun ini menjadi milik pemain anyar Paris Saint-Germain (PSG) itu. Gelandang Real Madrid itu menilai bahwa masih ada beberapa pemain yang berada di depan Messi dan lebih patut untuk menerima penghargaan tersebut.  “Tidak diragukan lagi bahwa Messi, bersama Cristiano (Ronaldo), telah menjadi pemain dalam satu dekade terakhir, tetapi tahun ini seharusnya ada pemain lain yang berada di depan Messi,\" ucap Kroos, sebagaimana dikutip dari Goal. Secara khusus, Kroos menyebut koleganya di Madrid Karim Benzema dan bintang Manchester United Cristiano Ronaldo, lebih pantas menerima Ballon d'Or 2021. Baca juga: Hadir di Seremoni Ballon dOr, Presiden Barcelona Tak Jumpa Messi \"Bagi saya, Karim (Benzema) bisa jadi nomor satu jika Anda memang mencari individu terbaik musim lalu. Dia begitu luar biasa sebagai pesepak bola,\" ujar pemain asal Jerman itu. \"Cristiano mencetak beberapa gol penentu akhir-akhir ini dan membuat Man United bertahan di Liga Champions musim ini. Di mata saya, Ronaldo masih di depan Messi,\" imbuhnya. Cristiano Ronaldo sendiri hanya menempati peringkat keenam dalam klasemen akhir Ballon d'Or 2021 (178 poin). Sementara itu, Karim Benzema dua tingkat di atas Ronaldo dengan perolehan 239 poin.\n",
            "KOMPAS.com - Pasangan ganda putra Jepang, Takuro Hoki/Yugo Kobayashi, senang tak satu grup dengan Marcus Fernaldi Gideon/Kevin Sanjaya Sukamuljo di BWF World Tour Finals 2021.  Turnamen BWF World Tour Finals 2021 akan digelar di Bali International Convention Centre mulai esok hari, Rabu (1/12/2021) hingga Minggu (5/11/2021).  Sehari sebelum bergulirnya BWF World Tour Finals, panitia penyelenggara sudah melakukam drawing atau undian yang dilangsungkan di tempat yang sama pada Selasa (30/11/2021).  Hasilnya, Marcus Fernaldi Gideon/Kevin Sanjaya Sukamuljo yang merupakan unggulan pertama menghuni Grup A bersama Kim Astrup/Anders Skaarup Rasmussen, Satwaiksairaj Rankireddy/Chirag Shetty, dan Lee Yang/Wang Chi-Lin.  Baca juga: BWF World Tour Finals: Pramudya/Yeremia Berapi-api, Wakil Jepang Tak Mau Kalah Sementara Grup B sektor ganda putra dihuni oleh Takuro Hoki/Yugo Kobayashi, Pramudya Kusumawardana/Yeremia Erich Yoche Yacob Rambitan, Ong Yew Sin/Teo Ee Yi, dan Christo Popov/Toma Junior Popov.  Menanggapi hasil undian tersebut, Hoki/Kobayashi mengaku senang tak satu grup dengan Marcus/Kevin.  Dapatkan informasi, inspirasi dan insight di email kamu.Daftarkan email Kedua pasangan baru saja bertemu pada final Indonesia Open 2021 di Bali International Convention Centre, Minggu (28/11/2021).  Marcus/Kevin kala itu memastikan gelar juara setelah menang dua gim langsung 21-14 dan 21-18.  Berkat hasil tersebut, Marcus/Kevin meneruskan dominasi dalam rekor pertemuan kontra Hoki/Kobayashi menjadi 11-1.  Baca juga: Kesal Kalah dari Wakil Jepang, Pramudya/Yeremia Ingin Revans di BWF World Tour Finals Hoki/Kobayashi memang senang tak satu grup dengan Marcus/Kevin. Namun, mereka juga menegaskan siap mengerahkan yang terbaik apabila kembali bertemu di fase gugur.  \"Pertama senang ya dengan prestasi dan penampilan kami sekarang. Kami bisa naik peringkat dan jadi yang kedua setelah Marcus/Kevin (dalam hal unggulan di BWF World Tour Finals),\" kata Yugo Kobayashi saat ditemui di Bali International Convention Centre, Selasa (30/11/2021).  \"Kedua kami senang beda grup dengan Marcus/Kevin. Namun, kalau nanti bertemu intinya harus berusaha yang terbaik,\" jelas Yugo Kobayashi.  \"Kami rasa Grup A lebih berat, tetapi tidak ada yang tahu bagaimana permainan. Berusaha menunjukkan yang terbaik saja untuk masuk semifinal lebih dulu,\" tutur Yugo Kobayashi. \n",
            " KOMPAS.com - Bintang Paris Saint-Germain, Lionel Messi, dinobatkan sebagai pemain terbaik dunia peraih Ballon d'Or 2021 pada Selasa (30/11/2021) dini hari WIB. Kapten timnas Argentina itu berhak mengangkat trofi bola emas Ballon d'Or 2021 setelah memperoleh voting tertinggi, yakni 613 poin. La Pulga, julukan Lionel Messi, mengungguli Robert Lewandowski (Bayern Muenchen) yang harus puas menempati peringkat kedua dengan raihan 580 poin. Ini adalah keberhasilan ketujuh Lionel Messi meraih trofi Ballon d'Or sepanjang kariernya. Pencapaian itu semakin mempertegas status Lionel Messi sebagai pemain tersukses dalam sejarah Ballon d'Or. Lionel Messi dipastikan masih akan menyandang status tersebut tahun depan. Dapatkan informasi, inspirasi dan insight di email kamu.Daftarkan email Baca juga: Ballon dOr 2021, Rindu untuk Maradona dan Bangga bagi Messi! Pasalnya, Messi saat ini unggul dua trofi atas rival abadinya, Cristiano Ronaldo, yang duduk di peringkat kedua daftar pengoleksi Ballon d'Or terbanyak. Ronaldo dipastikan harus bekerja ekstra keras jika ingin mendekati atau melewati raihan trofi Ballon d'Or Lionel Messi. Sebab, Ronaldo saat ini sudah berusia 36 tahun. Di sisi lain, Lionel Messi masih berusia 34 tahun. Setelah malam puncak Ballon d'Or 2021 berakhir, Lionel Messi sempat menyinggung rekor pribadinya. Messi mengaku tidak bisa memprediksi berapa lama rekor tujuh Ballon d'Or miliknya akan bertahan. Baca juga: Usai Patah Hati di Ajang Ballon dOr, Lewandowski Kirim Pesan Berkelas untuk Messi Pemain terbaik Piala Dunia 2014 itu saat ini hanya ingin memikirkan pencapaian kolektif bersama PSG dan juga timnas Argentina. \"Saya tidak tahu berapa lama rekor ini (7 Ballon d'Or) akan bertahan. Namun, selalu ada pemain yang akan memecahkan rekor. Itulah sepak bola,\" kata Messi dikutip dari situs AS. \"Saya selalu berpikir tentang keberhasilan kolektif. Gelar ini (Ballon d'Or 2021) memberi saya kekuatan untuk menghadapi tantangan tahun depan,\" ujar Messi menambahkan. \"Bagaimanapun, saya pikir mendapatkan tujuh Ballon d'Or adalah pencapaian yang mengesankan. Saya sangat senang berada di sini, di Paris, dan berjuang untuk semua gelar sekali lagi,\" tutur Messi. Terkait persaingan Ballon d'Or tahun depan, Lionel Messi menyebut Robert Lewandowski dipastikan akan menjadi kandidat terkuat. Messi sangat yakin dengan pendapatnya setelah melihat konsistensi Lewandowski dalam dua tahun terakhir. Baca juga: Ronaldo Sebut Pihak France Football Bohong soal Ambisi Kejar Ballon dOr Messi \"Setiap tahun Lewandowski selalu menunjukkan kualitasnya. Dia mungkin bisa mendapatkan Ballon d'Or tahun depan karena dia pemain berkualitas yang bermain di tim hebat,\" kata Messi. \"Lewandowski berhasil menjaga konsistensinya selama bertahun-tahun. Saya yakin dia akan berjuang keras untuk mendapatkan gelar ini tahun depan,\" tutur Messi menambahkan. Pada Ballon d'Or 2021, Lewandowski adalah salah satu kandidat terkuat peraih Ballon d'Or 2021. Hali itu tidak lepas dari konsistensi Lewandowski dalam dua musim terakhir.  Pada musim 2019-2020, Lewandowski sukses mengantar Bayern Muenchen meraih treble winners atau juara Liga Champions, Bundesliga, dan Piala Jerman. Keberhasilan Bayern Muenchen meraih treble winners 2019-2020 tidak lepas dari kontribusi 55 gol dan 10 assist Lewandowski. Baca juga: Messi Raih Trofi Ballon d’Or 2021, Media Jerman Bilang Skandal Berlanjut pada musim 2020-2021, ketajaman Lewandowski tidak menurun. Lewandowski berhasil mencetak 48 gol dan sembilan assist dari 40 laga bersama Bayern Muenchen di semua kompetisi. Kontribusi Lewandowski itu turut mengantar Bayern Muenchen meraih empat gelar pada musim 2020-2021, yakni Bundesliga, Piala Super Jerman, Piala Super Eropa, dan Piala Dunia Antarklub. Menilik statistik di atas, Lewandowski bisa dikatakan kandidat terkuat pada Ballon d'Or 2020. Namun, harapan Lewandowski untuk menjadi pemain terbaik dunia tahun lalu pupus setelah France Football membatalkan Ballon d'Or 2020 akibat pandemi Covid-19. Mantan striker Borussia Dortmund itu akhirnya harus puas dengan raihan gelar pemain terbaik FIFA dan UEFA 2020.\n",
            "KOMPAS.com - Bali United meramaikan papan atas klasemen Liga 1 2021-2022 usai menggasak Persiraja Banda Aceh tadi malam. Bali United mendulang hasil positif saat melawan Persiraja Banda Aceh pada pekan ke-15 Liga 1 2021-2022. Mereka menang telak 5-0 atas Persiraja dalam laga yang digelar di Stadion Maguwoharjo, Sleman, Yogyakarta, Selasa (30/11/2021) malam WIB. Ilija Spasojevic menjadi protagonis Bali United. Dia memborong dua dari lima gol kemenangan Serdadu Tridatu. Baca juga: Hasil Bali United Vs Persiraja: Menang 5-0, Serdadu Tridatu Tempel Persib Striker naturalisasi itu mencatatkan namanya di papan skor pada menit ke-45+1 dan 61'. Adapun tiga gol Bali United lainnya dicetak oleh Melvin Platje (27'), Haudi Abdillah (59'), dan Ricky Fajrin (70'). Dapatkan informasi, inspirasi dan insight di email kamu.Daftarkan email Hasil ini membuat Bali United melanjutkan tren positif mereka di Liga 1 2021-2022. Klub yang diarsiteki Stefano Cugurra alias Teco itu selalu menang dalam empat laga terakhir, termasuk vs Persiraja. Baca juga: Klasemen Liga 1 Usai Momen Ulang Tahun Persija Dirusak Borneo FC Bali United pun merangsek ke papan atas klasemen Liga 1 2021-2022. Mereka saat ini menempati posisi keempat dengan koleksi 28 poin dari 14 laga. Jumlah poin Bali United sama dengan Persib Bandung yang berada satu peringkat di bawah mereka, tetapi memiliki selisih gol lebih baik. Persib gagal menambah pundi-pundi poin mereka pekan ke-14 karena kalah dari Arema FC 0-1, Minggu (28/11/2021). Sebaliknya, Arema FC berhak naik satu posisi ke peringkat kedua klasemen usai mengalahkan Persib Bandung. Baca juga: Liga 1 Keras, Iwan Setiawan Jadi Pelatih Ke-8 yang Dipecat Klub berjuluk Singo Edan itu sudah mengumpulkan 29 poin dari 14 pertandingan. Mereka hanya terpaut satu angka saja dari pemuncak klasemen Liga 1 Bhayangkara FC (30 poin). Sementara, tiga posisi terbawah klasemen (16-18) alias zona degradasi dihuni oleh Persik Kediri (11 poin), Persiura Jayapura (9 poin), dan Persiraja (5 poin). Bali United 5-0 Persiraja Banda Aceh (Melvin Platje 27', Ilija Spasojevic 45+1', 61', Haudi Abdillah 59', Ricky Fajrin 70') Keterangan:No: PeringkatD: DimainkanM: MenangS: SeriK: Kalah-/+: Selisih GolP: Poin *Update terakhir Selasa (30/11/2021) pukul 23:55 WIB\n",
            "KOMPAS.com - Ketajaman dalam hal menjebol gawang lawan selalu mengiringi keberhasilan Lionel Messi meraih Ballon d'Or. Bahkan, Messi mencatatkan jumlah gol fenomenal ketika menyabet Ballon d'Or 2012. Lionel Messi kembali menjadi yang terbaik. Megabintang Paris Saint-Germain dan timnas Argentina itu terpilih untuk menrima penghargaan Ballon d'Or 2021. Itu adalah trofi Ballon d'Or ketujuh bagi Messi, sekaligus menegaskan dirinya sebagai pengoleksi terbanyak penghargaan untuk pesepak bola terbaik dunia dari majalah France Football tersebut. Sebelumnya, mantan pemain Barcelona itu telah memenangi enam Ballon d'Or yaitu pada 2009, 2010, 2011, 2012, 2015, dan 2019. Baca juga: Ballon dOr 2021: Messi Raih Gelar Ketujuh, Ronaldo Terlempar 3 Besar Jumlah gol dan assist Lionel Messi selalu istimewa saban kali ia meraih gelar Ballon d'Or. Ballon d'Or sendiri merupakan penghargaan individu yang diberikan kepada seorang pemain yang penampilannya menonjol dalam satu tahun kalender. Dapatkan informasi, inspirasi dan insight di email kamu.Daftarkan email Meski hanya mampu membantu Barcelona meraih satu gelar (Copa del Rey) musim lalu, Messi tetap menunjukkan performa impresif sepanjang tahun 2021 dengan mencetak 32 gol dan 12 assists. Penyerang mungil yang dijuluki La Pulga itu juga bermain apik ketika membela timnas Argentina. Kontribusi Messi bagi negaranya pada 2021 adalah 9 gol dan 5 assists. Ia pun sukses membawa Argentina menjuarai Copa America 2021, di mana ia juga meraih gelar top scorer dan dinobatkan sebagai pemain terbaik turnamen. Baca juga: Kata-kata Pertama Lionel Messi Usai Raih Ballon dOr 2021 MAURO PIMENTEL Lionel Messi memegang trofi Top Skor Copa America 2021 setelah timnas Argentina mengalahkan Brasil 1-0 di final yang bergulir di Stadion Maracana pada Minggu (11/7/2021), pagi hari WIB. Soal jumlah gol Lionel Messi setiap kali meraih Ballon d'Or, pencapaian paling fenomenal La Pulga hadir pada tahun 2012. Kala itu, Messi sukses membukukan total 91 gol. Perinciannya adalah 79 gol bersama Barcelona dan 12 gol dengan timnas Argentina. Messi pun memecahkan rekor gol terbanyak dalam satu tahun kalender yang sebelumnya dipegang oleh bomber legendaris Jerman, Gerd Mueller (85 gol pada 1972). Adapun, catatan 32 gol Messi bersama Barcelona pada tahun 2021 merupakan yang paling sedikit jika dibandingkan dengan tahun-tahun sebelumnya saat ia meraih Ballon d'Or. Berikut adalah data gol dan assist Lionel Messi pada setiap tahun di mana ia sukses meraih gelar Ballon d'Or. Baca juga: Efek Kedatangan Messi ke PSG: Penonton Ligue 1 Naik 75 Persen! 2009 2010 2011 2012 2015 2019 2021 Lionel Messi's seven Ballon d'Or wins by numbers. Just ???? things. pic.twitter.com/ww8CiJsJAP\n",
            " KOMPAS.com - Manchester United akan menjamu Arsenal pada lanjutan kompetisi teratas Liga Inggris, Premier League, tengah pekan ini. Cristiano Ronaldo punya kenangan manis ketika bersua The Gunners. Laga Man United vs Arsenal pada pekan ke-14 Premier League 2021-2022 bakal digelar di Stadion Old Trafford, Jumat (3/12/2021) dini hari WIB. Man United yang baru saja mengikat Ralf Rangnick sebagai manajer interim saat ini masih tertahan di peringkat kedelapan klasemen Liga Inggris dengan nilai 18. Di kubu tamu, Arsenal berada di posisi yang lebih baik dari Setan Merah. The Gunners yang mengoleksi 23 poin berada di peringkat kelima. Baca juga: Jadwal Liga Inggris, Big Match Man United Vs Arsenal Tengah Pekan Ini Cristiano Ronaldo yang musim ini sudah mencetak empat gol dari 10 penampilan di Premier League punya rekor apik ketika melawan Arsenal. Dapatkan informasi, inspirasi dan insight di email kamu.Daftarkan email Hingga saat ini, megabintang asal Portugal itu tercatat sudah 15 kali bersua The Gunners di semua kompetisi. Dari 15 penampilan melawan Arsenal, Ronaldo merasakan tujuh kemenangan, empat kali imbang, dan empat kekalahan. Soal gol, CR7 sudah enam kali menjebol gawang klub asal London Utara tersebut. Perincian gol Ronaldo kontra Arsenal adalah empat di Premier League dan dua di pentas Liga Champions. Gol terbaik Cristiano Ronaldo ke gawang Arsenal tercipta pada leg kedua semifinal Liga Champions musim 2008-2009 di Stadion Emirates, 5 Mei 2009. Baca juga: Ralf Rangnick Pelatih Baru Man United, Tugas Berat dan Tantangan Si Bapak Gegenpressing Pada laga yang dimenangi Manchester United dengan skor 3-1 tersebut, Ronaldo sukses membukukan dua gol. Gol pertama CR7 pada menit ke-11 lahir melalui cara spektakuler. Kala itu, Ronaldo menggetarkan jala gawang Arsenal yang dikawal Manuel Almunia lewat tendangan bebas akurat dari jarak 40 meter. Ketika Cristiano Ronaldo menghadapi bola dan bersiap menembak, Clive Tyldesley yang waktu itu menjadi komentator siaran televisi ITV berkata, \"Terlalu jauh bagi Ronaldo untuk memikirkan itu (melakukan tendangan bebas langsung).\" Namun, Ronaldo \"membungkam\" Clive Tyldesley dengan sebuah sepakan deras nan akurat yang menjebol gawang Arsenal. “It’s too far for Ronaldo to think about it...”  11 years ago today, Cristiano Ronaldo scored this sensational free-kick vs Arsenal in the Champions League semi-final. ???? #MUFC pic.twitter.com/3c2TmKJReV Manuel Almunia yang coba melakukan antisipasi tak bisa menahan tendangan kencang Cristiano Ronaldo. Aksi Ronaldo meneror pertahanan Arsenal tak berhenti sampai di situ. Pada menit ke-61, ia kembali menjebol gawang Almunia. Baca juga: Ralf Rangnick Latih Man United, Akan Ada Ilmu Baru untuk Ronaldo Kali ini, CR7 mencetak gol melalui sebuah skema serangan balik kilat, bekerja sama dengan pencetak gol pertama, Park Ji-sung, dan Wayne Rooney. Robin van Persie sempat memperkecil ketertinggalan melalui eksekusi penalti pada menit ke-76. Akan tetapi, gol Van Persie tidak cukup untuk menyelamatkan tuan rumah dari kekalahan. Manchester United menang 3-1 atas Arsenal, sekaligus memastikan satu tiket ke partai final Liga Champions 2008-2009 dengan agregat 4-1.\n"
          ]
        }
      ]
    },
    {
      "cell_type": "code",
      "metadata": {
        "id": "zH0KHjihwcCJ"
      },
      "source": [
        ""
      ],
      "execution_count": 44,
      "outputs": []
    },
    {
      "cell_type": "code",
      "metadata": {
        "id": "AHOGcQV4rQtn"
      },
      "source": [
        "from Sastrawi.Stemmer.StemmerFactory import StemmerFactory# create stemmer\n",
        "factory = StemmerFactory()\n",
        "stemmer = factory.create_stemmer()# stemming process\n",
        "# import StopWordRemoverFactory class\n",
        "from Sastrawi.StopWordRemover.StopWordRemoverFactory import StopWordRemoverFactory\n",
        "factory = StopWordRemoverFactory()\n",
        "stopword = factory.create_stop_word_remover()\n",
        "documents_clean=[]\n",
        "\n",
        "for d in documents:\n",
        "    outputstem= stemmer.stem(d)\n",
        "    d= stopword.remove(outputstem)\n",
        "    # Remove Unicode\n",
        "    document_test = re.sub(r'[^\\x00-\\x7F]+', ' ', d)\n",
        "    # Remove Mentions\n",
        "    document_test = re.sub(r'@\\w+', '', document_test)\n",
        "    # Lowercase the document\n",
        "    document_test = document_test.lower()\n",
        "    # Remove punctuations\n",
        "    document_test = re.sub(r'[%s]' % re.escape(string.punctuation), ' ', document_test)\n",
        "    # Lowercase the numbers\n",
        "    document_test = re.sub(r'[0-9]', '', document_test)\n",
        "    # Remove the doubled space\n",
        "    outputstop = re.sub(r'\\s{2,}', ' ', document_test)\n",
        "    documents_clean.append(outputstop)"
      ],
      "execution_count": 45,
      "outputs": []
    },
    {
      "cell_type": "code",
      "metadata": {
        "colab": {
          "base_uri": "https://localhost:8080/"
        },
        "id": "t4L3TNcqseIO",
        "outputId": "bcb2e618-a53b-4d70-aaed-50e777fda833"
      },
      "source": [
        "documents_clean[0:5]"
      ],
      "execution_count": 46,
      "outputs": [
        {
          "output_type": "execute_result",
          "data": {
            "text/plain": [
              "['kompas com hasil drawing undi grup bwf world tour finals laku bal international convention center nusa selasa pagi wib adapun banyak empat wakil merah putih tiga nomor ganda beda laju bwf world tour finals tutup rangkai indonesia badminton festival ibf bal wakil indonesia lolos ganda putra marcus fernaldi gideon kevin sanjaya sukamuljo pramudya kusumawardana yeremia erich yoche yacob rambitan lalu ganda putri greysia polii apriyani rahayu lolos via jalur juara olimpiade tokyo baca cerita pram yere lolos bwf world tour finals chat marcus nonton main tenis meja akhir praveen jordan melati daeva oktavianti sektor ganda campur sektor ganda putra marcus kevin rupa pasang nomor dunia lawan cukup berat dapat informasi inspirasi insight email kamu daftar email the minions gabung grup a sama pasang baik india denmark satwiksairaj rankireddy chirag shetty kim astrup anders skaarup rasmussen adapun lawan potensi jadi tantang besar marcus kevin grup a lee wang chi lin taiwan baca profil yeo jia min ukir sejarah singapura bwf world tour finals lee wang sendiri rupa ganda putra hasil lolos lalu jalur olimpiade tokyo catat marcus kevin lee wang sua banyak empat kali the minions unggul mereka kalah temu akhir laga fase grup olimpiade tokyo pramudya kusumawardana yeremia erich yoche yacob rambitan grup b baca daftar bwf world tour finals tunggal putra india ukir sejarah pramudya yeremia satu grup juara indonesia masters runner up indonesia open takuro hoki yugo kobayashi jepang kemudian greysia apriyani grup a nomor ganda putri sedang praveen melati di grup b sektor ganda campur turnamen bwf world tour finals akan helat di bal international convention center nusa dua pada desember tungal putra grup a grup b tunggal putri grup a',\n",
              " 'bal kompas com empat wakil indonesia hadap uji berat hari pertama bwf world tour finals rabu marcus fernaldi gideon kevin sanjaya sukamuljo langsung hadap ganda putra raih medali emas olimpiade tokyo lee wang chi lin taiwan duel marcus kevin vs lee wang rupa laga pertama grup a sektor ganda putra bwf world tour finals lihat rekor temu tren performa marcus kevin benar unggul atas lee wang the minions juluk marcus kevin catat tiga kali kalah lee wang empat temu baca hoki kobayashi senang tak grup marcus kevin bwf world tour finals informasi inspirasi insight email kamu daftar email adapun tren performa marcus kevin jelang bwf world tour finals lebih baik lee wang percaya diri marcus kevin sedang tingkat selalu hasil tembus final empat turnamen akhir empat final sebut marcus kevin sukses raih gelar juara hylo open indonesia open beda marcus kevin tren performa lee wang jelang bwf world tour finals jauh kata konsisten lee wang catat pernah tampil final sejak raih medali emas ganda putra olimpiade tokyo capai baik lee wang olimpiade tokyo empat final indonesia masters baca cerita pram yere lolos bwf world tour finals chat marcus nonton main tenis meja meski marcus kevin tetap waspada lee wang bwf world tour finals status bagai juara tahan wakil indonesia main hari pertama bwf world tour finals pramudya kusumawardana yeremia erich yoche yacob rambitam pram yere kerja ekstra keras lawan akan hadap laga pertama grup b ganda putra unggul asal jepang takuro hoki yugo kobayashi duel pram yere vs hoki kobayashi rupa ulang besar indonesia open pekan lalu pram yere benar mampu imbang hoki kobayashi juang lama menit pram yere tetap harus serah skor tipis baca lolos bwf world tour finals pram yere ucap terima kasih marcus kevin lihat temu akhir pram yere sangat peluang balas kalah hoki kobayashi laga pertama grup b bwf world tour finals wakil indonesia tiga akan main hari pertama bwf world tour finals praveen jordan melati daeva oktavianti tugas praveen melati sangat berat langsung hadap ganda campur baik thailand dechapol puavaranukroh sapsiree taerattanachai laga pertama grup b dechapol sapsiree kata ganda campur kuat bwf world tour finals itu lepas konsistensi dechapol sapsiree tembus semifinal lima turnamen akhir jelang bwf world tour finals dari lima turnamen itu dechapol sapsiree sukses raih tiga gelar juara hylo open indonesia masters indonesia open baca bwf world tour finals praveen melati optimistis lewat fase grup adapun wakil indonesia akhir akan main hari pertama bwf world tour finals greysia polii apriyani rahayu gresyia apriyani hadap tugas berat harus lawan ganda putri baik thailand jongkolphan kititharakul rawinda prajongjai laga pertama grup a duel greysia apriyani vs jongkolphan rawinda diprediski akan jalan sengit dua pasang raih tiket bwf world tour finals cara yang spesial greysia apriyani otomatis lolos bwf world tour finals hasil raih medali emas ganda putri olimpiade tokyo sisi jongkolphan rawinda lolos bagai peringkat pertama klasemen road to bwf world tour finals ikut jadwal lengkap hari pertama bwf world tour finals rabu sesi mulai pukul wib court court sesi mulai pukul wib court court ',\n",
              " 'kompas com suara sumbang kait hasil megabintang asal argentina lionel messi raih trofi ballon d or lionel messi raih gelar ballon d or main baik dunia unggul suara para saing bintang kini bela paris saint germain psg terima trofi ballon d or malam anugerah theatre du chatelet paris perancis senin messi tang harga ballon d or total nomine unggul poin atas saing dekat robert lewandowski bayern muenchen polandia baca hasil lengkap oleh poin ballon dor messi lewandowski ketat ronaldo adapun gelandang chelsea timnas italia jorginho lengkap posisi tiga besar messi lewandowski messi makin kukuh diri bagai milik bola emas banyak sejarah informasi inspirasi insight email kamu daftar email messi tujuh kali raih trofi ballon d or oleh tak semua pihak terima sukses messi baca ronaldo sebut pihak france football bohong soal ambisi kejar ballon dor messi gelandang legendaris timnas jerman lothar matthaus jadi salah satu sohor nyata ketidaksukaannya hadap putus france football selaku selenggara ballon d or nilai lewandowski lebih layak naik podium juara banding messi jujur tak erti tutur matthaus sky germany kutip bolasport atas segala hormat messi main hebat tak satu layak terima trofi lewandowski kata menang ballon d or franck fife serang bayern muenchen robert lewandowski lambai tangan atas panggung anugerah harga striker of the year upacara harga ballon d or france football theatre du chatelet paris november nada sumbang datang jean pierre papin leo messi pantas tang ballon d or tahun tutur sang main baik dunia edisi pilih messi tahun akan devaluasi bola emas arti tidak beri mungkin main kerja tinggi tang trofi ujar papin baca usai patah hati ajang ballon dor lewandowski kirim pesan kelas messi media jerman bild ikut suara protes atas pilih messi bagai kampiun ballon d or tahun skandal tajuk berita acu statistik panjang musim lewandowski memang tunjuk hasil impresif striker bayern muenchen itu kumpul gol tampil semua kompetisi adapun raih messi total gol laga tilik segi raih gelar lewandowski tetap unggul oleh empat titel musim lalu yang semua raih sama muenchen itu messi beri trofi copa del rey barcelona juara copa america bareng timnas argentina ade jayadireja',\n",
              " 'kompas com ganda putra jepang takuro hoki yugo kobayashi buka suara soal hasil undi bwf world tour finals bwf selaku induk bulu tangkis dunia laku undi turnamen bwf world tour finals bal international convention centre selasa hasil takuro hoki yugo kobayashi unggul tempat ada grup b sama pramudya kusumawardana yeremia erich yoche yacob rambitan ong yew sin teo ee yi christo popov toma junior popov grup sebut hoki kobayashi kembali temu pramudya yeremia pertama kali sua indonesia open pekan lalu baca hasil drawing bwf world tour finals marcus kevin grup juara olimpiade pasang temu babak atau besar indonesia open tang hoki kobayashi skor pramudya yeremia aku kesal kalah hoki kobayashi balas kalah sebut bwf world tour finals informasi inspirasi insight email kamu daftar email revans sama takuro hoki yugo kobayasho kesal sekali kalah pokok mau ketemu kata pramudya kusumawardana temu awak media westin resort senin sisi hoki kobayashi sadar potensi milik pramudya yeremia antisipasi pramudya yeremia tampil lebih semangat tanding lanjut hoki kobayashi pun tak kalah pasang muda sebut tetap tunjuk baik lapang pramudya yeremia muda sangat berapi api kata takuro hoki kompas com beberapa media saat temu bal international convention centre usai latih selasa jangan kalah lanjut mereka pasti tunjuk semangat lebih punya pride sendiri bagai senior tak hilang rasa untuk tanding lawan pramudya yeremia ujar takuro hoki baca jelang bwf world tour finals main top dunia ikut charity for bal bwf world tour finals segera langsung bal international convention centre mulai esok hari rabu hingga minggu turnamen sebut rupa event tiga tutup rangkai indonesia badminton festival bwf world tour finals indonesia badminton festival gelar indonesia masters november indonesia open november adapun pramudya yeremia indonesia juga lolos satu wakil nomor ganda putra lalu marcus fernaldi gideon kevin sanjaya sukamuljo gabung di grup a sama kim astrup anders skaarup rasmussen wang chi lin lee dan satwiksairaj rankireddy chirag shetty',\n",
              " 'kompas com gelandang real madrid ton kroos nilai cristiano ronaldo lebih pantas tang ballon d or ketimbang lionel messi lionel messi pilih terima harga ballon d or selasa dini hari wib megabintang asal argentina hak angkat trofi bola emas voting tinggi poin messi unggul robert lewandowski bayern muenchen poin jorginho chelsea poin harus puas posisi hasil messi sabet harga inisiasi majalah france football tak lepas tampil apik panjang sama klub timnas baca jumlah gol messi tiap kali raih ballon dor fenomenal messi cetak gol assist antar barcelona juara copa del rey musim lalu dapat informasi inspirasi insight email kamu daftar email level timnas messi antar argentina podium juara copa america gelar brasil turnamen sebut messi cetak sembilan gol top scorer lima assist pilih jadi main baik messi adalah trofi ballon d or tujuh terima panjang karier bagai sepak bola enam gelar raih messi edisi baca siapa lewat rekor ballon dor lionel messi meski messi rasa pantas terima ballon d or nyata banyak tak tuju harga sebut jatuh tangan la pulga ton kroos salah satu figur kontra ballon d or tahun jadi milik main anyar paris saint germain psg gelandang real madrid nilai beberapa main yang depan messi lebih patut terima harga sebut ragu bahwa messi sama cristiano ronaldo jadi main satu dekade akhir tahun harus main yang ada depan messi ucap kroos bagaimana kutip goal cara khusus kroos sebut kolega madrid karim benzema bintang manchester united cristiano ronaldo lebih pantas terima ballon d or baca hadir seremoni ballon dor presiden barcelona tak jumpa messi karim benzema bisa jadi nomor satu anda memang cari individu baik musim lalu dia begitu luar biasa bagai sepak bola ujar main asal jerman cristiano cetak beberapa gol akhir dan buat man united tahan liga champions musim di mata saya ronaldo masih di depan messi imbuh cristiano ronaldo sendiri tempat peringkat enam klasemen akhir ballon d or poin itu karim benzema tingkat di atas ronaldo oleh poin']"
            ]
          },
          "metadata": {},
          "execution_count": 46
        }
      ]
    },
    {
      "cell_type": "code",
      "metadata": {
        "colab": {
          "base_uri": "https://localhost:8080/"
        },
        "id": "w2NOgoZ-sT67",
        "outputId": "cc3d77b6-9e88-4aa7-bb3d-247ec95dfda4"
      },
      "source": [
        "from sklearn.feature_extraction.text import TfidfVectorizer\n",
        "import pandas as pd\n",
        "tfidfvectorizer = TfidfVectorizer(analyzer='word')\n",
        "tfidf_wm = tfidfvectorizer.fit_transform(documents_clean)\n",
        "tfidf_tokens = tfidfvectorizer.get_feature_names()\n"
      ],
      "execution_count": 47,
      "outputs": [
        {
          "output_type": "stream",
          "name": "stderr",
          "text": [
            "/usr/local/lib/python3.7/dist-packages/sklearn/utils/deprecation.py:87: FutureWarning: Function get_feature_names is deprecated; get_feature_names is deprecated in 1.0 and will be removed in 1.2. Please use get_feature_names_out instead.\n",
            "  warnings.warn(msg, category=FutureWarning)\n"
          ]
        }
      ]
    },
    {
      "cell_type": "code",
      "metadata": {
        "colab": {
          "base_uri": "https://localhost:8080/",
          "height": 530
        },
        "id": "vdKZKvSDtpZ7",
        "outputId": "f365f48d-d9e4-4014-eb70-ba7e74fc61cd"
      },
      "source": [
        "from sklearn.feature_extraction.text import CountVectorizer \n",
        "import matplotlib.pyplot as plt\n",
        "import numpy as np # linear algebra\n",
        "import pandas as pd # data processing, CSV file I/O (e.g. pd.read_csv)\n",
        "cv = CountVectorizer()\n",
        "words = cv.fit_transform(documents_clean)\n",
        "sum_words = words.sum(axis=0)\n",
        "\n",
        "\n",
        "words_freq = [(word, sum_words[0, idx]) for word, idx in cv.vocabulary_.items()]\n",
        "words_freq = sorted(words_freq, key = lambda x: x[1], reverse = True)\n",
        "frequency = pd.DataFrame(words_freq, columns=['word', 'freq'])\n",
        "\n",
        "color = plt.cm.twilight(np.linspace(0, 1, 20))\n",
        "frequency.head(20).plot(x='word', y='freq', kind='bar', figsize=(15, 7), color = color)\n",
        "plt.title(\"Most Frequently Occuring Words - Top 20\")"
      ],
      "execution_count": 48,
      "outputs": [
        {
          "output_type": "execute_result",
          "data": {
            "text/plain": [
              "Text(0.5, 1.0, 'Most Frequently Occuring Words - Top 20')"
            ]
          },
          "metadata": {},
          "execution_count": 48
        },
        {
          "output_type": "display_data",
          "data": {
            "image/png": "[encoded data removed]",
            "text/plain": [
              "<Figure size 1080x504 with 1 Axes>"
            ]
          },
          "metadata": {
            "needs_background": "light"
          }
        }
      ]
    },
    {
      "cell_type": "code",
      "metadata": {
        "colab": {
          "base_uri": "https://localhost:8080/"
        },
        "id": "UAtkJhv-uRoa",
        "outputId": "9c461b0d-1598-45c1-fa09-36880911d1c1"
      },
      "source": [
        "from sklearn.cluster import KMeans\n",
        "true_k = 3\n",
        "model = KMeans(n_clusters=true_k, init='k-means++', max_iter=100, n_init=1)\n",
        "model.fit(words)"
      ],
      "execution_count": 49,
      "outputs": [
        {
          "output_type": "execute_result",
          "data": {
            "text/plain": [
              "KMeans(max_iter=100, n_clusters=3, n_init=1)"
            ]
          },
          "metadata": {},
          "execution_count": 49
        }
      ]
    },
    {
      "cell_type": "code",
      "metadata": {
        "colab": {
          "base_uri": "https://localhost:8080/"
        },
        "id": "Yf3dXM2svOB0",
        "outputId": "ec2adbcf-891c-4770-f247-f9cfa8b47d12"
      },
      "source": [
        "order_centroids = model.cluster_centers_.argsort()[:, ::-1]\n",
        "terms = cv.get_feature_names()\n",
        "\n",
        "for i in range(true_k):\n",
        "    print(\"Cluster %d:\" % i),\n",
        "    for ind in order_centroids[i, :10]:\n",
        "        print(' %s' % terms[ind]),\n",
        "    print\n",
        "\n",
        "print(\"\\n\")"
      ],
      "execution_count": 50,
      "outputs": [
        {
          "output_type": "stream",
          "name": "stdout",
          "text": [
            "Cluster 0:\n",
            " bwf\n",
            " tour\n",
            " finals\n",
            " world\n",
            " grup\n",
            " marcus\n",
            " kevin\n",
            " kobayashi\n",
            " indonesia\n",
            " hoki\n",
            "Cluster 1:\n",
            " messi\n",
            " ballon\n",
            " or\n",
            " raih\n",
            " lewandowski\n",
            " tahun\n",
            " lionel\n",
            " main\n",
            " gol\n",
            " trofi\n",
            "Cluster 2:\n",
            " united\n",
            " ronaldo\n",
            " liga\n",
            " arsenal\n",
            " gol\n",
            " poin\n",
            " bal\n",
            " ke\n",
            " klasemen\n",
            " persiraja\n",
            "\n",
            "\n"
          ]
        },
        {
          "output_type": "stream",
          "name": "stderr",
          "text": [
            "/usr/local/lib/python3.7/dist-packages/sklearn/utils/deprecation.py:87: FutureWarning: Function get_feature_names is deprecated; get_feature_names is deprecated in 1.0 and will be removed in 1.2. Please use get_feature_names_out instead.\n",
            "  warnings.warn(msg, category=FutureWarning)\n"
          ]
        }
      ]
    },
    {
      "cell_type": "code",
      "metadata": {
        "colab": {
          "base_uri": "https://localhost:8080/"
        },
        "id": "OjpfWe5evU9g",
        "outputId": "1e1da532-a599-4786-d19b-1e7ba116e910"
      },
      "source": [
        "print(\"Prediction\")\n",
        "Y = cv.transform([\"piala dunia\"])\n",
        "prediction = model.predict(Y)\n",
        "print(\"Cluster number :\", prediction)\n",
        "Y = cv.transform([\"ronaldo\"])\n",
        "prediction = model.predict(Y)\n",
        "print(\"Cluster number :\", prediction)"
      ],
      "execution_count": 51,
      "outputs": [
        {
          "output_type": "stream",
          "name": "stdout",
          "text": [
            "Prediction\n",
            "Cluster number : [2]\n",
            "Cluster number : [2]\n"
          ]
        }
      ]
    },
    {
      "cell_type": "code",
      "metadata": {
        "colab": {
          "base_uri": "https://localhost:8080/",
          "height": 297
        },
        "id": "l00X2Hg4vijB",
        "outputId": "ecb348e5-9ee0-4b51-a9f8-0036a0e0c4e0"
      },
      "source": [
        "import scipy.cluster.hierarchy as sch\n",
        "X = cv.fit_transform(documents_clean).todense()\n",
        "dendrogram = sch.dendrogram(sch.linkage(X, method = 'ward',metric='euclidean'),orientation=\"top\")\n",
        "plt.title('Dendrogram')\n",
        "plt.xlabel('Jarak Ward')\n",
        "plt.ylabel('Nomor Dokumen')\n",
        "plt.show()"
      ],
      "execution_count": 52,
      "outputs": [
        {
          "output_type": "display_data",
          "data": {
            "image/png": "[encoded data removed]",
            "text/plain": [
              "<Figure size 432x288 with 1 Axes>"
            ]
          },
          "metadata": {
            "needs_background": "light"
          }
        }
      ]
    },
    {
      "cell_type": "code",
      "metadata": {
        "colab": {
          "base_uri": "https://localhost:8080/",
          "height": 294
        },
        "id": "3PFI0j-WvzvI",
        "outputId": "c9ee3d10-5987-4652-d332-ddaadd62566a"
      },
      "source": [
        "import scipy.cluster.hierarchy as sch\n",
        "X = cv.fit_transform(documents_clean).todense()\n",
        "dendrogram = sch.dendrogram(sch.linkage(X, method = 'average',metric='euclidean'),orientation=\"right\")\n",
        "plt.title('Dendrogram')\n",
        "plt.xlabel('Jarak Rerata')\n",
        "plt.ylabel('Nomor Dokumen')\n",
        "plt.show()"
      ],
      "execution_count": 53,
      "outputs": [
        {
          "output_type": "display_data",
          "data": {
            "image/png": "[encoded data removed]",
            "text/plain": [
              "<Figure size 432x288 with 1 Axes>"
            ]
          },
          "metadata": {
            "needs_background": "light"
          }
        }
      ]
    },
    {
      "cell_type": "code",
      "metadata": {
        "colab": {
          "base_uri": "https://localhost:8080/"
        },
        "id": "LfFgIcrIv-tz",
        "outputId": "0bdccf5a-4d4a-45ab-e1f5-9cb73592ac2e"
      },
      "source": [
        "from sklearn.cluster import AgglomerativeClustering\n",
        "\n",
        "cluster = AgglomerativeClustering(n_clusters=6, affinity='euclidean', linkage='ward')  \n",
        "cluster.fit_predict(X) \n",
        "print(cluster.labels_)"
      ],
      "execution_count": 54,
      "outputs": [
        {
          "output_type": "stream",
          "name": "stdout",
          "text": [
            "[2 3 0 2 0 2 5 4 0 1]\n"
          ]
        },
        {
          "output_type": "stream",
          "name": "stderr",
          "text": [
            "/usr/local/lib/python3.7/dist-packages/sklearn/utils/validation.py:590: FutureWarning: np.matrix usage is deprecated in 1.0 and will raise a TypeError in 1.2. Please convert to a numpy array with np.asarray. For more information see: https://numpy.org/doc/stable/reference/generated/numpy.matrix.html\n",
            "  FutureWarning,\n"
          ]
        }
      ]
    },
    {
      "cell_type": "code",
      "metadata": {
        "colab": {
          "base_uri": "https://localhost:8080/",
          "height": 431
        },
        "id": "JmekS47lwOlE",
        "outputId": "5c04b458-68f0-44c2-9ee2-45fa900d3f7b"
      },
      "source": [
        "from scipy.cluster.hierarchy import dendrogram, linkage\n",
        "from matplotlib import pyplot as plt\n",
        "\n",
        "linked = linkage(X, 'single')\n",
        "\n",
        "labelList = range(0, 10)\n",
        "\n",
        "plt.figure(figsize=(10, 7))\n",
        "dendrogram(linked,\n",
        "            orientation='top',\n",
        "            labels=labelList,\n",
        "            distance_sort='descending',\n",
        "            show_leaf_counts=True)\n",
        "plt.show()"
      ],
      "execution_count": 55,
      "outputs": [
        {
          "output_type": "display_data",
          "data": {
            "image/png": "[encoded data removed]",
            "text/plain": [
              "<Figure size 720x504 with 1 Axes>"
            ]
          },
          "metadata": {
            "needs_background": "light"
          }
        }
      ]
    },
    {
      "cell_type": "code",
      "metadata": {
        "colab": {
          "base_uri": "https://localhost:8080/",
          "height": 434
        },
        "id": "bVd5C68GwUMh",
        "outputId": "79611ca4-6c0d-4a7e-96d0-13435c43b56b"
      },
      "source": [
        "from scipy.cluster.hierarchy import dendrogram, linkage\n",
        "from matplotlib import pyplot as plt\n",
        "\n",
        "linked = linkage(X, 'average')\n",
        "\n",
        "labelList = range(0, 10)\n",
        "\n",
        "plt.figure(figsize=(10, 7))\n",
        "dendrogram(linked,\n",
        "            orientation='top',\n",
        "            labels=labelList,\n",
        "            distance_sort='descending',\n",
        "            show_leaf_counts=True)\n",
        "plt.show()"
      ],
      "execution_count": 56,
      "outputs": [
        {
          "output_type": "display_data",
          "data": {
            "image/png": "[encoded data removed]",
            "text/plain": [
              "<Figure size 720x504 with 1 Axes>"
            ]
          },
          "metadata": {
            "needs_background": "light"
          }
        }
      ]
    }
  ]
}